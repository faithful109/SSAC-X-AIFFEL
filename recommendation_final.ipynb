{
 "cells": [
  {
   "cell_type": "markdown",
   "metadata": {},
   "source": [
    "# <span style=\"color:white\">실습목표<span>\n",
    "    0. 추천시스템의 개념과 목적을 이해한다.\n",
    "    1. Implicit 라이브러리를 활용하여 Matrix Factorization(이하 MF) 기반의 추천 모델을 만들어 본다.\n",
    "    2. 음악 감상 기록을 활용하여 비슷한 아티스트를 찾고 아티스트를 추천해 본다.\n",
    "    3. 추천 시스템에서 자주 사용되는 데이터 구조인 CSR Matrix을 익힌다\n",
    "    4. 유저의 행위 데이터 중 Explicit data와 Implicit data의 차이점을 익힌다.\n",
    "    5. 새로운 데이터셋으로 직접 추천 모델을 만들어 본다.\n",
    "    "
   ]
  },
  {
   "cell_type": "markdown",
   "metadata": {},
   "source": [
    "# <span style=\"color:white\">1. 들어가며<span>\n",
    "# <span style=\"color:white\">2. 데이터 탐색하기와 전처리<span>\n",
    "# <span style=\"color:white\">3. 사용자의 명시적/암묵적 평가<span>\n",
    "# <span style=\"color:white\">4. Matrix Factorization(MF)<span>\n",
    "# <span style=\"color:white\">5. CSR(Compressed Sparse Row) Matrix<span>\n",
    "# <span style=\"color:white\">6. MF 모델 학습하기<span>\n",
    "# <span style=\"color:white\">7. 비슷한 아티스트 찾기 + 유저에게 추천하기<span>\n",
    "# <span style=\"color:white\">8. 프로젝트 - MovieLens 영화 추천 실습<span>"
   ]
  },
  {
   "cell_type": "markdown",
   "metadata": {},
   "source": [
    "Q1. 협업 필터링(Collaborative Filtering) 방식과 콘텐츠 기반 필터링(Contents-based Filtering) 방식의 차이점이 무엇인가요?  \n",
    "Ans) 협업 필터링이란 대규모의 기존 사용자 행동 정보를 분석하여 해당 사용자와 비슷한 성향의 사용자들이 기존에 좋아했던 항목을 추천하는 기술이다.  \n",
    "콘텐츠 기반 필터링은 항목 자체를 분석하여추천을 구현한다."
   ]
  },
  {
   "cell_type": "markdown",
   "metadata": {},
   "source": [
    "Q2. 다수의 사용자의 판단을 기반으로 정확한 추천을 가능하게 하는 추천시스템의 핵심 근간은 협업 필터링입니다만, 협업 필터링을 바로 사용할 수 없게 만드는 세가지 제약 조건은 무엇일까요?  \n",
    "Ans) 콜드 스타트, 계산량이 많아 효율적이지 않음, 롱테일문제"
   ]
  },
  {
   "cell_type": "markdown",
   "metadata": {},
   "source": [
    "1) 작업디렉토리 생성  \n",
    "mkdir -p ~/aiffel/recommendata_iu/data\n",
    "\n",
    "2) wget으로 데이터 다운로드 (주의) 오래걸립니다.  \n",
    "wget http://mtg.upf.edu/static/datasets/last.fm/lastfm-dataset-360K.tar.gz\n",
    "\n",
    "3) 다운받은 데이터를 작업디렉토리로 옮기고, 작업디렉토리로 이동합니다.  \n",
    "mv lastfm-dataset-360K.tar.gz ~/aiffel/recommendata_iu/data & cd ~/aiffel/recommendata_iu/data\n",
    "\n",
    "4) gzip으로 압축된 압축을 해제하면 tar 파일이 하나 나옵니다.  \n",
    "gunzip lastfm-dataset-360K.tar.gz\n",
    "\n",
    "5) tar 압축을 다시 해제하면 우리가 사용할 최종 데이터 파일이 나옵니다.  \n",
    "tar -xvf lastfm-dataset-360K.tar\n",
    "\n",
    "6) 필요 라이브러리 설치  \n",
    "pip install implicit  \n",
    "\n",
    "7) 압축풀기  \n",
    "tar -xvzf lastfm-dataset-360K.tar.gz  \n",
    "more ~/aiffel/recommendata_iu/data/lastfm-dataset-360K/usersha1-artmbid-artname-plays.tsv"
   ]
  },
  {
   "cell_type": "code",
   "execution_count": 1,
   "metadata": {},
   "outputs": [
    {
     "data": {
      "text/html": [
       "<div>\n",
       "<style scoped>\n",
       "    .dataframe tbody tr th:only-of-type {\n",
       "        vertical-align: middle;\n",
       "    }\n",
       "\n",
       "    .dataframe tbody tr th {\n",
       "        vertical-align: top;\n",
       "    }\n",
       "\n",
       "    .dataframe thead th {\n",
       "        text-align: right;\n",
       "    }\n",
       "</style>\n",
       "<table border=\"1\" class=\"dataframe\">\n",
       "  <thead>\n",
       "    <tr style=\"text-align: right;\">\n",
       "      <th></th>\n",
       "      <th>user_id</th>\n",
       "      <th>artist_MBID</th>\n",
       "      <th>artist</th>\n",
       "      <th>play</th>\n",
       "    </tr>\n",
       "  </thead>\n",
       "  <tbody>\n",
       "    <tr>\n",
       "      <th>0</th>\n",
       "      <td>00000c289a1829a808ac09c00daf10bc3c4e223b</td>\n",
       "      <td>3bd73256-3905-4f3a-97e2-8b341527f805</td>\n",
       "      <td>betty blowtorch</td>\n",
       "      <td>2137</td>\n",
       "    </tr>\n",
       "    <tr>\n",
       "      <th>1</th>\n",
       "      <td>00000c289a1829a808ac09c00daf10bc3c4e223b</td>\n",
       "      <td>f2fb0ff0-5679-42ec-a55c-15109ce6e320</td>\n",
       "      <td>die Ärzte</td>\n",
       "      <td>1099</td>\n",
       "    </tr>\n",
       "    <tr>\n",
       "      <th>2</th>\n",
       "      <td>00000c289a1829a808ac09c00daf10bc3c4e223b</td>\n",
       "      <td>b3ae82c2-e60b-4551-a76d-6620f1b456aa</td>\n",
       "      <td>melissa etheridge</td>\n",
       "      <td>897</td>\n",
       "    </tr>\n",
       "    <tr>\n",
       "      <th>3</th>\n",
       "      <td>00000c289a1829a808ac09c00daf10bc3c4e223b</td>\n",
       "      <td>3d6bbeb7-f90e-4d10-b440-e153c0d10b53</td>\n",
       "      <td>elvenking</td>\n",
       "      <td>717</td>\n",
       "    </tr>\n",
       "    <tr>\n",
       "      <th>4</th>\n",
       "      <td>00000c289a1829a808ac09c00daf10bc3c4e223b</td>\n",
       "      <td>bbd2ffd7-17f4-4506-8572-c1ea58c3f9a8</td>\n",
       "      <td>juliette &amp; the licks</td>\n",
       "      <td>706</td>\n",
       "    </tr>\n",
       "    <tr>\n",
       "      <th>5</th>\n",
       "      <td>00000c289a1829a808ac09c00daf10bc3c4e223b</td>\n",
       "      <td>8bfac288-ccc5-448d-9573-c33ea2aa5c30</td>\n",
       "      <td>red hot chili peppers</td>\n",
       "      <td>691</td>\n",
       "    </tr>\n",
       "    <tr>\n",
       "      <th>6</th>\n",
       "      <td>00000c289a1829a808ac09c00daf10bc3c4e223b</td>\n",
       "      <td>6531c8b1-76ea-4141-b270-eb1ac5b41375</td>\n",
       "      <td>magica</td>\n",
       "      <td>545</td>\n",
       "    </tr>\n",
       "    <tr>\n",
       "      <th>7</th>\n",
       "      <td>00000c289a1829a808ac09c00daf10bc3c4e223b</td>\n",
       "      <td>21f3573f-10cf-44b3-aeaa-26cccd8448b5</td>\n",
       "      <td>the black dahlia murder</td>\n",
       "      <td>507</td>\n",
       "    </tr>\n",
       "    <tr>\n",
       "      <th>8</th>\n",
       "      <td>00000c289a1829a808ac09c00daf10bc3c4e223b</td>\n",
       "      <td>c5db90c4-580d-4f33-b364-fbaa5a3a58b5</td>\n",
       "      <td>the murmurs</td>\n",
       "      <td>424</td>\n",
       "    </tr>\n",
       "    <tr>\n",
       "      <th>9</th>\n",
       "      <td>00000c289a1829a808ac09c00daf10bc3c4e223b</td>\n",
       "      <td>0639533a-0402-40ba-b6e0-18b067198b73</td>\n",
       "      <td>lunachicks</td>\n",
       "      <td>403</td>\n",
       "    </tr>\n",
       "  </tbody>\n",
       "</table>\n",
       "</div>"
      ],
      "text/plain": [
       "                                    user_id  \\\n",
       "0  00000c289a1829a808ac09c00daf10bc3c4e223b   \n",
       "1  00000c289a1829a808ac09c00daf10bc3c4e223b   \n",
       "2  00000c289a1829a808ac09c00daf10bc3c4e223b   \n",
       "3  00000c289a1829a808ac09c00daf10bc3c4e223b   \n",
       "4  00000c289a1829a808ac09c00daf10bc3c4e223b   \n",
       "5  00000c289a1829a808ac09c00daf10bc3c4e223b   \n",
       "6  00000c289a1829a808ac09c00daf10bc3c4e223b   \n",
       "7  00000c289a1829a808ac09c00daf10bc3c4e223b   \n",
       "8  00000c289a1829a808ac09c00daf10bc3c4e223b   \n",
       "9  00000c289a1829a808ac09c00daf10bc3c4e223b   \n",
       "\n",
       "                            artist_MBID                   artist  play  \n",
       "0  3bd73256-3905-4f3a-97e2-8b341527f805          betty blowtorch  2137  \n",
       "1  f2fb0ff0-5679-42ec-a55c-15109ce6e320                die Ärzte  1099  \n",
       "2  b3ae82c2-e60b-4551-a76d-6620f1b456aa        melissa etheridge   897  \n",
       "3  3d6bbeb7-f90e-4d10-b440-e153c0d10b53                elvenking   717  \n",
       "4  bbd2ffd7-17f4-4506-8572-c1ea58c3f9a8     juliette & the licks   706  \n",
       "5  8bfac288-ccc5-448d-9573-c33ea2aa5c30    red hot chili peppers   691  \n",
       "6  6531c8b1-76ea-4141-b270-eb1ac5b41375                   magica   545  \n",
       "7  21f3573f-10cf-44b3-aeaa-26cccd8448b5  the black dahlia murder   507  \n",
       "8  c5db90c4-580d-4f33-b364-fbaa5a3a58b5              the murmurs   424  \n",
       "9  0639533a-0402-40ba-b6e0-18b067198b73               lunachicks   403  "
      ]
     },
     "execution_count": 1,
     "metadata": {},
     "output_type": "execute_result"
    }
   ],
   "source": [
    "import pandas as pd\n",
    "import os\n",
    "\n",
    "fname = os.getenv('HOME') + '/aiffel/recommendata_iu/data/lastfm-dataset-360K/usersha1-artmbid-artname-plays.tsv'\n",
    "col_names = ['user_id', 'artist_MBID', 'artist', 'play']   # 임의로 지정한 컬럼명\n",
    "data = pd.read_csv(fname, sep='\\t', names= col_names)      # sep='\\t'로 주어야 tsv를 열 수 있습니다.  \n",
    "data.head(10)"
   ]
  },
  {
   "cell_type": "code",
   "execution_count": 2,
   "metadata": {},
   "outputs": [
    {
     "data": {
      "text/html": [
       "<div>\n",
       "<style scoped>\n",
       "    .dataframe tbody tr th:only-of-type {\n",
       "        vertical-align: middle;\n",
       "    }\n",
       "\n",
       "    .dataframe tbody tr th {\n",
       "        vertical-align: top;\n",
       "    }\n",
       "\n",
       "    .dataframe thead th {\n",
       "        text-align: right;\n",
       "    }\n",
       "</style>\n",
       "<table border=\"1\" class=\"dataframe\">\n",
       "  <thead>\n",
       "    <tr style=\"text-align: right;\">\n",
       "      <th></th>\n",
       "      <th>user_id</th>\n",
       "      <th>artist</th>\n",
       "      <th>play</th>\n",
       "    </tr>\n",
       "  </thead>\n",
       "  <tbody>\n",
       "    <tr>\n",
       "      <th>0</th>\n",
       "      <td>00000c289a1829a808ac09c00daf10bc3c4e223b</td>\n",
       "      <td>betty blowtorch</td>\n",
       "      <td>2137</td>\n",
       "    </tr>\n",
       "    <tr>\n",
       "      <th>1</th>\n",
       "      <td>00000c289a1829a808ac09c00daf10bc3c4e223b</td>\n",
       "      <td>die Ärzte</td>\n",
       "      <td>1099</td>\n",
       "    </tr>\n",
       "    <tr>\n",
       "      <th>2</th>\n",
       "      <td>00000c289a1829a808ac09c00daf10bc3c4e223b</td>\n",
       "      <td>melissa etheridge</td>\n",
       "      <td>897</td>\n",
       "    </tr>\n",
       "    <tr>\n",
       "      <th>3</th>\n",
       "      <td>00000c289a1829a808ac09c00daf10bc3c4e223b</td>\n",
       "      <td>elvenking</td>\n",
       "      <td>717</td>\n",
       "    </tr>\n",
       "    <tr>\n",
       "      <th>4</th>\n",
       "      <td>00000c289a1829a808ac09c00daf10bc3c4e223b</td>\n",
       "      <td>juliette &amp; the licks</td>\n",
       "      <td>706</td>\n",
       "    </tr>\n",
       "    <tr>\n",
       "      <th>5</th>\n",
       "      <td>00000c289a1829a808ac09c00daf10bc3c4e223b</td>\n",
       "      <td>red hot chili peppers</td>\n",
       "      <td>691</td>\n",
       "    </tr>\n",
       "    <tr>\n",
       "      <th>6</th>\n",
       "      <td>00000c289a1829a808ac09c00daf10bc3c4e223b</td>\n",
       "      <td>magica</td>\n",
       "      <td>545</td>\n",
       "    </tr>\n",
       "    <tr>\n",
       "      <th>7</th>\n",
       "      <td>00000c289a1829a808ac09c00daf10bc3c4e223b</td>\n",
       "      <td>the black dahlia murder</td>\n",
       "      <td>507</td>\n",
       "    </tr>\n",
       "    <tr>\n",
       "      <th>8</th>\n",
       "      <td>00000c289a1829a808ac09c00daf10bc3c4e223b</td>\n",
       "      <td>the murmurs</td>\n",
       "      <td>424</td>\n",
       "    </tr>\n",
       "    <tr>\n",
       "      <th>9</th>\n",
       "      <td>00000c289a1829a808ac09c00daf10bc3c4e223b</td>\n",
       "      <td>lunachicks</td>\n",
       "      <td>403</td>\n",
       "    </tr>\n",
       "  </tbody>\n",
       "</table>\n",
       "</div>"
      ],
      "text/plain": [
       "                                    user_id                   artist  play\n",
       "0  00000c289a1829a808ac09c00daf10bc3c4e223b          betty blowtorch  2137\n",
       "1  00000c289a1829a808ac09c00daf10bc3c4e223b                die Ärzte  1099\n",
       "2  00000c289a1829a808ac09c00daf10bc3c4e223b        melissa etheridge   897\n",
       "3  00000c289a1829a808ac09c00daf10bc3c4e223b                elvenking   717\n",
       "4  00000c289a1829a808ac09c00daf10bc3c4e223b     juliette & the licks   706\n",
       "5  00000c289a1829a808ac09c00daf10bc3c4e223b    red hot chili peppers   691\n",
       "6  00000c289a1829a808ac09c00daf10bc3c4e223b                   magica   545\n",
       "7  00000c289a1829a808ac09c00daf10bc3c4e223b  the black dahlia murder   507\n",
       "8  00000c289a1829a808ac09c00daf10bc3c4e223b              the murmurs   424\n",
       "9  00000c289a1829a808ac09c00daf10bc3c4e223b               lunachicks   403"
      ]
     },
     "execution_count": 2,
     "metadata": {},
     "output_type": "execute_result"
    }
   ],
   "source": [
    "# 사용하는 컬럼만 남겨줍니다. artist_MBID는 제외하고 부른다.\n",
    "using_cols = ['user_id', 'artist', 'play']\n",
    "data = data[using_cols]\n",
    "data.head(10)"
   ]
  },
  {
   "cell_type": "code",
   "execution_count": 3,
   "metadata": {},
   "outputs": [
    {
     "data": {
      "text/html": [
       "<div>\n",
       "<style scoped>\n",
       "    .dataframe tbody tr th:only-of-type {\n",
       "        vertical-align: middle;\n",
       "    }\n",
       "\n",
       "    .dataframe tbody tr th {\n",
       "        vertical-align: top;\n",
       "    }\n",
       "\n",
       "    .dataframe thead th {\n",
       "        text-align: right;\n",
       "    }\n",
       "</style>\n",
       "<table border=\"1\" class=\"dataframe\">\n",
       "  <thead>\n",
       "    <tr style=\"text-align: right;\">\n",
       "      <th></th>\n",
       "      <th>user_id</th>\n",
       "      <th>artist</th>\n",
       "      <th>play</th>\n",
       "    </tr>\n",
       "  </thead>\n",
       "  <tbody>\n",
       "    <tr>\n",
       "      <th>0</th>\n",
       "      <td>00000c289a1829a808ac09c00daf10bc3c4e223b</td>\n",
       "      <td>betty blowtorch</td>\n",
       "      <td>2137</td>\n",
       "    </tr>\n",
       "    <tr>\n",
       "      <th>1</th>\n",
       "      <td>00000c289a1829a808ac09c00daf10bc3c4e223b</td>\n",
       "      <td>die ärzte</td>\n",
       "      <td>1099</td>\n",
       "    </tr>\n",
       "    <tr>\n",
       "      <th>2</th>\n",
       "      <td>00000c289a1829a808ac09c00daf10bc3c4e223b</td>\n",
       "      <td>melissa etheridge</td>\n",
       "      <td>897</td>\n",
       "    </tr>\n",
       "    <tr>\n",
       "      <th>3</th>\n",
       "      <td>00000c289a1829a808ac09c00daf10bc3c4e223b</td>\n",
       "      <td>elvenking</td>\n",
       "      <td>717</td>\n",
       "    </tr>\n",
       "    <tr>\n",
       "      <th>4</th>\n",
       "      <td>00000c289a1829a808ac09c00daf10bc3c4e223b</td>\n",
       "      <td>juliette &amp; the licks</td>\n",
       "      <td>706</td>\n",
       "    </tr>\n",
       "    <tr>\n",
       "      <th>5</th>\n",
       "      <td>00000c289a1829a808ac09c00daf10bc3c4e223b</td>\n",
       "      <td>red hot chili peppers</td>\n",
       "      <td>691</td>\n",
       "    </tr>\n",
       "    <tr>\n",
       "      <th>6</th>\n",
       "      <td>00000c289a1829a808ac09c00daf10bc3c4e223b</td>\n",
       "      <td>magica</td>\n",
       "      <td>545</td>\n",
       "    </tr>\n",
       "    <tr>\n",
       "      <th>7</th>\n",
       "      <td>00000c289a1829a808ac09c00daf10bc3c4e223b</td>\n",
       "      <td>the black dahlia murder</td>\n",
       "      <td>507</td>\n",
       "    </tr>\n",
       "    <tr>\n",
       "      <th>8</th>\n",
       "      <td>00000c289a1829a808ac09c00daf10bc3c4e223b</td>\n",
       "      <td>the murmurs</td>\n",
       "      <td>424</td>\n",
       "    </tr>\n",
       "    <tr>\n",
       "      <th>9</th>\n",
       "      <td>00000c289a1829a808ac09c00daf10bc3c4e223b</td>\n",
       "      <td>lunachicks</td>\n",
       "      <td>403</td>\n",
       "    </tr>\n",
       "  </tbody>\n",
       "</table>\n",
       "</div>"
      ],
      "text/plain": [
       "                                    user_id                   artist  play\n",
       "0  00000c289a1829a808ac09c00daf10bc3c4e223b          betty blowtorch  2137\n",
       "1  00000c289a1829a808ac09c00daf10bc3c4e223b                die ärzte  1099\n",
       "2  00000c289a1829a808ac09c00daf10bc3c4e223b        melissa etheridge   897\n",
       "3  00000c289a1829a808ac09c00daf10bc3c4e223b                elvenking   717\n",
       "4  00000c289a1829a808ac09c00daf10bc3c4e223b     juliette & the licks   706\n",
       "5  00000c289a1829a808ac09c00daf10bc3c4e223b    red hot chili peppers   691\n",
       "6  00000c289a1829a808ac09c00daf10bc3c4e223b                   magica   545\n",
       "7  00000c289a1829a808ac09c00daf10bc3c4e223b  the black dahlia murder   507\n",
       "8  00000c289a1829a808ac09c00daf10bc3c4e223b              the murmurs   424\n",
       "9  00000c289a1829a808ac09c00daf10bc3c4e223b               lunachicks   403"
      ]
     },
     "execution_count": 3,
     "metadata": {},
     "output_type": "execute_result"
    }
   ],
   "source": [
    "data['artist'] = data['artist'].str.lower() # 검색용이성을 위해서 아티스트 문자열을 소문자로 바꿔줍시다.\n",
    "data.head(10)"
   ]
  },
  {
   "cell_type": "code",
   "execution_count": 4,
   "metadata": {},
   "outputs": [
    {
     "data": {
      "text/html": [
       "<div>\n",
       "<style scoped>\n",
       "    .dataframe tbody tr th:only-of-type {\n",
       "        vertical-align: middle;\n",
       "    }\n",
       "\n",
       "    .dataframe tbody tr th {\n",
       "        vertical-align: top;\n",
       "    }\n",
       "\n",
       "    .dataframe thead th {\n",
       "        text-align: right;\n",
       "    }\n",
       "</style>\n",
       "<table border=\"1\" class=\"dataframe\">\n",
       "  <thead>\n",
       "    <tr style=\"text-align: right;\">\n",
       "      <th></th>\n",
       "      <th>user_id</th>\n",
       "      <th>artist</th>\n",
       "      <th>play</th>\n",
       "    </tr>\n",
       "  </thead>\n",
       "  <tbody>\n",
       "    <tr>\n",
       "      <th>0</th>\n",
       "      <td>00000c289a1829a808ac09c00daf10bc3c4e223b</td>\n",
       "      <td>betty blowtorch</td>\n",
       "      <td>2137</td>\n",
       "    </tr>\n",
       "    <tr>\n",
       "      <th>1</th>\n",
       "      <td>00000c289a1829a808ac09c00daf10bc3c4e223b</td>\n",
       "      <td>die ärzte</td>\n",
       "      <td>1099</td>\n",
       "    </tr>\n",
       "    <tr>\n",
       "      <th>2</th>\n",
       "      <td>00000c289a1829a808ac09c00daf10bc3c4e223b</td>\n",
       "      <td>melissa etheridge</td>\n",
       "      <td>897</td>\n",
       "    </tr>\n",
       "    <tr>\n",
       "      <th>3</th>\n",
       "      <td>00000c289a1829a808ac09c00daf10bc3c4e223b</td>\n",
       "      <td>elvenking</td>\n",
       "      <td>717</td>\n",
       "    </tr>\n",
       "    <tr>\n",
       "      <th>4</th>\n",
       "      <td>00000c289a1829a808ac09c00daf10bc3c4e223b</td>\n",
       "      <td>juliette &amp; the licks</td>\n",
       "      <td>706</td>\n",
       "    </tr>\n",
       "    <tr>\n",
       "      <th>5</th>\n",
       "      <td>00000c289a1829a808ac09c00daf10bc3c4e223b</td>\n",
       "      <td>red hot chili peppers</td>\n",
       "      <td>691</td>\n",
       "    </tr>\n",
       "    <tr>\n",
       "      <th>6</th>\n",
       "      <td>00000c289a1829a808ac09c00daf10bc3c4e223b</td>\n",
       "      <td>magica</td>\n",
       "      <td>545</td>\n",
       "    </tr>\n",
       "    <tr>\n",
       "      <th>7</th>\n",
       "      <td>00000c289a1829a808ac09c00daf10bc3c4e223b</td>\n",
       "      <td>the black dahlia murder</td>\n",
       "      <td>507</td>\n",
       "    </tr>\n",
       "    <tr>\n",
       "      <th>8</th>\n",
       "      <td>00000c289a1829a808ac09c00daf10bc3c4e223b</td>\n",
       "      <td>the murmurs</td>\n",
       "      <td>424</td>\n",
       "    </tr>\n",
       "    <tr>\n",
       "      <th>9</th>\n",
       "      <td>00000c289a1829a808ac09c00daf10bc3c4e223b</td>\n",
       "      <td>lunachicks</td>\n",
       "      <td>403</td>\n",
       "    </tr>\n",
       "    <tr>\n",
       "      <th>10</th>\n",
       "      <td>00000c289a1829a808ac09c00daf10bc3c4e223b</td>\n",
       "      <td>walls of jericho</td>\n",
       "      <td>393</td>\n",
       "    </tr>\n",
       "    <tr>\n",
       "      <th>11</th>\n",
       "      <td>00000c289a1829a808ac09c00daf10bc3c4e223b</td>\n",
       "      <td>letzte instanz</td>\n",
       "      <td>387</td>\n",
       "    </tr>\n",
       "    <tr>\n",
       "      <th>12</th>\n",
       "      <td>00000c289a1829a808ac09c00daf10bc3c4e223b</td>\n",
       "      <td>goldfrapp</td>\n",
       "      <td>361</td>\n",
       "    </tr>\n",
       "    <tr>\n",
       "      <th>13</th>\n",
       "      <td>00000c289a1829a808ac09c00daf10bc3c4e223b</td>\n",
       "      <td>horrorpops</td>\n",
       "      <td>358</td>\n",
       "    </tr>\n",
       "    <tr>\n",
       "      <th>14</th>\n",
       "      <td>00000c289a1829a808ac09c00daf10bc3c4e223b</td>\n",
       "      <td>the butchies</td>\n",
       "      <td>329</td>\n",
       "    </tr>\n",
       "    <tr>\n",
       "      <th>15</th>\n",
       "      <td>00000c289a1829a808ac09c00daf10bc3c4e223b</td>\n",
       "      <td>jack off jill</td>\n",
       "      <td>316</td>\n",
       "    </tr>\n",
       "    <tr>\n",
       "      <th>16</th>\n",
       "      <td>00000c289a1829a808ac09c00daf10bc3c4e223b</td>\n",
       "      <td>babes in toyland</td>\n",
       "      <td>310</td>\n",
       "    </tr>\n",
       "    <tr>\n",
       "      <th>17</th>\n",
       "      <td>00000c289a1829a808ac09c00daf10bc3c4e223b</td>\n",
       "      <td>dropkick murphys</td>\n",
       "      <td>302</td>\n",
       "    </tr>\n",
       "    <tr>\n",
       "      <th>18</th>\n",
       "      <td>00000c289a1829a808ac09c00daf10bc3c4e223b</td>\n",
       "      <td>all:my:faults</td>\n",
       "      <td>288</td>\n",
       "    </tr>\n",
       "    <tr>\n",
       "      <th>19</th>\n",
       "      <td>00000c289a1829a808ac09c00daf10bc3c4e223b</td>\n",
       "      <td>le tigre</td>\n",
       "      <td>281</td>\n",
       "    </tr>\n",
       "    <tr>\n",
       "      <th>20</th>\n",
       "      <td>00000c289a1829a808ac09c00daf10bc3c4e223b</td>\n",
       "      <td>schandmaul</td>\n",
       "      <td>244</td>\n",
       "    </tr>\n",
       "    <tr>\n",
       "      <th>21</th>\n",
       "      <td>00000c289a1829a808ac09c00daf10bc3c4e223b</td>\n",
       "      <td>edguy</td>\n",
       "      <td>232</td>\n",
       "    </tr>\n",
       "    <tr>\n",
       "      <th>22</th>\n",
       "      <td>00000c289a1829a808ac09c00daf10bc3c4e223b</td>\n",
       "      <td>maximum the hormone</td>\n",
       "      <td>231</td>\n",
       "    </tr>\n",
       "    <tr>\n",
       "      <th>23</th>\n",
       "      <td>00000c289a1829a808ac09c00daf10bc3c4e223b</td>\n",
       "      <td>all ends</td>\n",
       "      <td>229</td>\n",
       "    </tr>\n",
       "    <tr>\n",
       "      <th>24</th>\n",
       "      <td>00000c289a1829a808ac09c00daf10bc3c4e223b</td>\n",
       "      <td>jack johnson</td>\n",
       "      <td>227</td>\n",
       "    </tr>\n",
       "    <tr>\n",
       "      <th>25</th>\n",
       "      <td>00000c289a1829a808ac09c00daf10bc3c4e223b</td>\n",
       "      <td>eluveitie</td>\n",
       "      <td>222</td>\n",
       "    </tr>\n",
       "    <tr>\n",
       "      <th>26</th>\n",
       "      <td>00000c289a1829a808ac09c00daf10bc3c4e223b</td>\n",
       "      <td>rasputina</td>\n",
       "      <td>220</td>\n",
       "    </tr>\n",
       "    <tr>\n",
       "      <th>27</th>\n",
       "      <td>00000c289a1829a808ac09c00daf10bc3c4e223b</td>\n",
       "      <td>london after midnight</td>\n",
       "      <td>210</td>\n",
       "    </tr>\n",
       "    <tr>\n",
       "      <th>28</th>\n",
       "      <td>00000c289a1829a808ac09c00daf10bc3c4e223b</td>\n",
       "      <td>the killers</td>\n",
       "      <td>208</td>\n",
       "    </tr>\n",
       "    <tr>\n",
       "      <th>29</th>\n",
       "      <td>00000c289a1829a808ac09c00daf10bc3c4e223b</td>\n",
       "      <td>mutyumu</td>\n",
       "      <td>205</td>\n",
       "    </tr>\n",
       "    <tr>\n",
       "      <th>30</th>\n",
       "      <td>00000c289a1829a808ac09c00daf10bc3c4e223b</td>\n",
       "      <td>judas priest</td>\n",
       "      <td>198</td>\n",
       "    </tr>\n",
       "    <tr>\n",
       "      <th>31</th>\n",
       "      <td>00000c289a1829a808ac09c00daf10bc3c4e223b</td>\n",
       "      <td>rob zombie</td>\n",
       "      <td>198</td>\n",
       "    </tr>\n",
       "    <tr>\n",
       "      <th>32</th>\n",
       "      <td>00000c289a1829a808ac09c00daf10bc3c4e223b</td>\n",
       "      <td>the bosshoss</td>\n",
       "      <td>189</td>\n",
       "    </tr>\n",
       "    <tr>\n",
       "      <th>33</th>\n",
       "      <td>00000c289a1829a808ac09c00daf10bc3c4e223b</td>\n",
       "      <td>blue öyster cult</td>\n",
       "      <td>185</td>\n",
       "    </tr>\n",
       "    <tr>\n",
       "      <th>34</th>\n",
       "      <td>00000c289a1829a808ac09c00daf10bc3c4e223b</td>\n",
       "      <td>sandra nasic</td>\n",
       "      <td>183</td>\n",
       "    </tr>\n",
       "    <tr>\n",
       "      <th>35</th>\n",
       "      <td>00000c289a1829a808ac09c00daf10bc3c4e223b</td>\n",
       "      <td>john mayer</td>\n",
       "      <td>182</td>\n",
       "    </tr>\n",
       "    <tr>\n",
       "      <th>36</th>\n",
       "      <td>00000c289a1829a808ac09c00daf10bc3c4e223b</td>\n",
       "      <td>sleater-kinney</td>\n",
       "      <td>175</td>\n",
       "    </tr>\n",
       "    <tr>\n",
       "      <th>37</th>\n",
       "      <td>00000c289a1829a808ac09c00daf10bc3c4e223b</td>\n",
       "      <td>the who</td>\n",
       "      <td>168</td>\n",
       "    </tr>\n",
       "    <tr>\n",
       "      <th>38</th>\n",
       "      <td>00000c289a1829a808ac09c00daf10bc3c4e223b</td>\n",
       "      <td>disciple</td>\n",
       "      <td>154</td>\n",
       "    </tr>\n",
       "    <tr>\n",
       "      <th>39</th>\n",
       "      <td>00000c289a1829a808ac09c00daf10bc3c4e223b</td>\n",
       "      <td>tanzwut</td>\n",
       "      <td>153</td>\n",
       "    </tr>\n",
       "    <tr>\n",
       "      <th>40</th>\n",
       "      <td>00000c289a1829a808ac09c00daf10bc3c4e223b</td>\n",
       "      <td>guano apes</td>\n",
       "      <td>151</td>\n",
       "    </tr>\n",
       "    <tr>\n",
       "      <th>41</th>\n",
       "      <td>00000c289a1829a808ac09c00daf10bc3c4e223b</td>\n",
       "      <td>the rolling stones</td>\n",
       "      <td>150</td>\n",
       "    </tr>\n",
       "    <tr>\n",
       "      <th>42</th>\n",
       "      <td>00000c289a1829a808ac09c00daf10bc3c4e223b</td>\n",
       "      <td>little big town</td>\n",
       "      <td>145</td>\n",
       "    </tr>\n",
       "    <tr>\n",
       "      <th>43</th>\n",
       "      <td>00000c289a1829a808ac09c00daf10bc3c4e223b</td>\n",
       "      <td>team dresch</td>\n",
       "      <td>137</td>\n",
       "    </tr>\n",
       "    <tr>\n",
       "      <th>44</th>\n",
       "      <td>00000c289a1829a808ac09c00daf10bc3c4e223b</td>\n",
       "      <td>betty</td>\n",
       "      <td>135</td>\n",
       "    </tr>\n",
       "    <tr>\n",
       "      <th>45</th>\n",
       "      <td>00000c289a1829a808ac09c00daf10bc3c4e223b</td>\n",
       "      <td>l7</td>\n",
       "      <td>135</td>\n",
       "    </tr>\n",
       "    <tr>\n",
       "      <th>46</th>\n",
       "      <td>00000c289a1829a808ac09c00daf10bc3c4e223b</td>\n",
       "      <td>bif naked</td>\n",
       "      <td>134</td>\n",
       "    </tr>\n",
       "    <tr>\n",
       "      <th>47</th>\n",
       "      <td>00000c289a1829a808ac09c00daf10bc3c4e223b</td>\n",
       "      <td>girlschool</td>\n",
       "      <td>134</td>\n",
       "    </tr>\n",
       "    <tr>\n",
       "      <th>48</th>\n",
       "      <td>00000c289a1829a808ac09c00daf10bc3c4e223b</td>\n",
       "      <td>the wallflowers</td>\n",
       "      <td>131</td>\n",
       "    </tr>\n",
       "  </tbody>\n",
       "</table>\n",
       "</div>"
      ],
      "text/plain": [
       "                                     user_id                   artist  play\n",
       "0   00000c289a1829a808ac09c00daf10bc3c4e223b          betty blowtorch  2137\n",
       "1   00000c289a1829a808ac09c00daf10bc3c4e223b                die ärzte  1099\n",
       "2   00000c289a1829a808ac09c00daf10bc3c4e223b        melissa etheridge   897\n",
       "3   00000c289a1829a808ac09c00daf10bc3c4e223b                elvenking   717\n",
       "4   00000c289a1829a808ac09c00daf10bc3c4e223b     juliette & the licks   706\n",
       "5   00000c289a1829a808ac09c00daf10bc3c4e223b    red hot chili peppers   691\n",
       "6   00000c289a1829a808ac09c00daf10bc3c4e223b                   magica   545\n",
       "7   00000c289a1829a808ac09c00daf10bc3c4e223b  the black dahlia murder   507\n",
       "8   00000c289a1829a808ac09c00daf10bc3c4e223b              the murmurs   424\n",
       "9   00000c289a1829a808ac09c00daf10bc3c4e223b               lunachicks   403\n",
       "10  00000c289a1829a808ac09c00daf10bc3c4e223b         walls of jericho   393\n",
       "11  00000c289a1829a808ac09c00daf10bc3c4e223b           letzte instanz   387\n",
       "12  00000c289a1829a808ac09c00daf10bc3c4e223b                goldfrapp   361\n",
       "13  00000c289a1829a808ac09c00daf10bc3c4e223b               horrorpops   358\n",
       "14  00000c289a1829a808ac09c00daf10bc3c4e223b             the butchies   329\n",
       "15  00000c289a1829a808ac09c00daf10bc3c4e223b            jack off jill   316\n",
       "16  00000c289a1829a808ac09c00daf10bc3c4e223b         babes in toyland   310\n",
       "17  00000c289a1829a808ac09c00daf10bc3c4e223b         dropkick murphys   302\n",
       "18  00000c289a1829a808ac09c00daf10bc3c4e223b            all:my:faults   288\n",
       "19  00000c289a1829a808ac09c00daf10bc3c4e223b                 le tigre   281\n",
       "20  00000c289a1829a808ac09c00daf10bc3c4e223b               schandmaul   244\n",
       "21  00000c289a1829a808ac09c00daf10bc3c4e223b                    edguy   232\n",
       "22  00000c289a1829a808ac09c00daf10bc3c4e223b      maximum the hormone   231\n",
       "23  00000c289a1829a808ac09c00daf10bc3c4e223b                 all ends   229\n",
       "24  00000c289a1829a808ac09c00daf10bc3c4e223b             jack johnson   227\n",
       "25  00000c289a1829a808ac09c00daf10bc3c4e223b                eluveitie   222\n",
       "26  00000c289a1829a808ac09c00daf10bc3c4e223b                rasputina   220\n",
       "27  00000c289a1829a808ac09c00daf10bc3c4e223b    london after midnight   210\n",
       "28  00000c289a1829a808ac09c00daf10bc3c4e223b              the killers   208\n",
       "29  00000c289a1829a808ac09c00daf10bc3c4e223b                  mutyumu   205\n",
       "30  00000c289a1829a808ac09c00daf10bc3c4e223b             judas priest   198\n",
       "31  00000c289a1829a808ac09c00daf10bc3c4e223b               rob zombie   198\n",
       "32  00000c289a1829a808ac09c00daf10bc3c4e223b             the bosshoss   189\n",
       "33  00000c289a1829a808ac09c00daf10bc3c4e223b         blue öyster cult   185\n",
       "34  00000c289a1829a808ac09c00daf10bc3c4e223b             sandra nasic   183\n",
       "35  00000c289a1829a808ac09c00daf10bc3c4e223b               john mayer   182\n",
       "36  00000c289a1829a808ac09c00daf10bc3c4e223b           sleater-kinney   175\n",
       "37  00000c289a1829a808ac09c00daf10bc3c4e223b                  the who   168\n",
       "38  00000c289a1829a808ac09c00daf10bc3c4e223b                 disciple   154\n",
       "39  00000c289a1829a808ac09c00daf10bc3c4e223b                  tanzwut   153\n",
       "40  00000c289a1829a808ac09c00daf10bc3c4e223b               guano apes   151\n",
       "41  00000c289a1829a808ac09c00daf10bc3c4e223b       the rolling stones   150\n",
       "42  00000c289a1829a808ac09c00daf10bc3c4e223b          little big town   145\n",
       "43  00000c289a1829a808ac09c00daf10bc3c4e223b              team dresch   137\n",
       "44  00000c289a1829a808ac09c00daf10bc3c4e223b                    betty   135\n",
       "45  00000c289a1829a808ac09c00daf10bc3c4e223b                       l7   135\n",
       "46  00000c289a1829a808ac09c00daf10bc3c4e223b                bif naked   134\n",
       "47  00000c289a1829a808ac09c00daf10bc3c4e223b               girlschool   134\n",
       "48  00000c289a1829a808ac09c00daf10bc3c4e223b          the wallflowers   131"
      ]
     },
     "execution_count": 4,
     "metadata": {},
     "output_type": "execute_result"
    }
   ],
   "source": [
    "condition = (data['user_id']== data.loc[0, 'user_id']) #첫번째 유저의 플레이리스트 data.loc[행, 열]=행,열 조회.\n",
    "data.loc[condition]"
   ]
  },
  {
   "cell_type": "code",
   "execution_count": 5,
   "metadata": {},
   "outputs": [
    {
     "data": {
      "text/plain": [
       "358868"
      ]
     },
     "execution_count": 5,
     "metadata": {},
     "output_type": "execute_result"
    }
   ],
   "source": [
    "#pandas.DataFrame.nunique()는 특정 칼럼의 유니크한 데이터 값 갯수 반환.\n",
    "# 유저 수\n",
    "data['user_id'].nunique()"
   ]
  },
  {
   "cell_type": "code",
   "execution_count": 6,
   "metadata": {},
   "outputs": [
    {
     "data": {
      "text/plain": [
       "291346"
      ]
     },
     "execution_count": 6,
     "metadata": {},
     "output_type": "execute_result"
    }
   ],
   "source": [
    "# 아티스트 수\n",
    "data['artist'].nunique()"
   ]
  },
  {
   "cell_type": "code",
   "execution_count": 7,
   "metadata": {},
   "outputs": [
    {
     "data": {
      "text/plain": [
       "artist\n",
       "radiohead                77254\n",
       "the beatles              76245\n",
       "coldplay                 66658\n",
       "red hot chili peppers    48924\n",
       "muse                     46954\n",
       "metallica                45233\n",
       "pink floyd               44443\n",
       "the killers              41229\n",
       "linkin park              39773\n",
       "nirvana                  39479\n",
       "system of a down         37267\n",
       "queen                    34174\n",
       "u2                       33206\n",
       "daft punk                33001\n",
       "the cure                 32624\n",
       "led zeppelin             32295\n",
       "placebo                  32072\n",
       "depeche mode             31916\n",
       "david bowie              31862\n",
       "bob dylan                31799\n",
       "death cab for cutie      31482\n",
       "arctic monkeys           30348\n",
       "foo fighters             30144\n",
       "air                      29795\n",
       "the rolling stones       29754\n",
       "nine inch nails          28946\n",
       "sigur rós                28901\n",
       "green day                28732\n",
       "massive attack           28691\n",
       "moby                     28232\n",
       "Name: user_id, dtype: int64"
      ]
     },
     "execution_count": 7,
     "metadata": {},
     "output_type": "execute_result"
    }
   ],
   "source": [
    "# 인기 많은 아티스트\n",
    "artist_count = data.groupby('artist')['user_id'].count()\n",
    "artist_count.sort_values(ascending=False).head(30)"
   ]
  },
  {
   "cell_type": "code",
   "execution_count": 8,
   "metadata": {},
   "outputs": [
    {
     "data": {
      "text/plain": [
       "artist\n",
       "radiohead                77254\n",
       "the beatles              76245\n",
       "coldplay                 66658\n",
       "red hot chili peppers    48924\n",
       "muse                     46954\n",
       "metallica                45233\n",
       "pink floyd               44443\n",
       "the killers              41229\n",
       "linkin park              39773\n",
       "nirvana                  39479\n",
       "system of a down         37267\n",
       "queen                    34174\n",
       "u2                       33206\n",
       "daft punk                33001\n",
       "the cure                 32624\n",
       "led zeppelin             32295\n",
       "placebo                  32072\n",
       "depeche mode             31916\n",
       "david bowie              31862\n",
       "bob dylan                31799\n",
       "death cab for cutie      31482\n",
       "arctic monkeys           30348\n",
       "foo fighters             30144\n",
       "air                      29795\n",
       "the rolling stones       29754\n",
       "nine inch nails          28946\n",
       "sigur rós                28901\n",
       "green day                28732\n",
       "massive attack           28691\n",
       "moby                     28232\n",
       "Name: user_id, dtype: int64"
      ]
     },
     "execution_count": 8,
     "metadata": {},
     "output_type": "execute_result"
    }
   ],
   "source": [
    "# 인기 많은 아티스트\n",
    "artist_count = data.groupby('artist')['user_id'].count()\n",
    "artist_count.sort_values(ascending=False).head(30)"
   ]
  },
  {
   "cell_type": "code",
   "execution_count": 9,
   "metadata": {},
   "outputs": [
    {
     "data": {
      "text/plain": [
       "count    358868.000000\n",
       "mean         48.863234\n",
       "std           8.524272\n",
       "min           1.000000\n",
       "25%          46.000000\n",
       "50%          49.000000\n",
       "75%          51.000000\n",
       "max         166.000000\n",
       "Name: artist, dtype: float64"
      ]
     },
     "execution_count": 9,
     "metadata": {},
     "output_type": "execute_result"
    }
   ],
   "source": [
    "# 유저별 몇 명의 아티스트를 듣고 있는지에 대한 통계\n",
    "user_count = data.groupby('user_id')['artist'].count()\n",
    "user_count.describe()"
   ]
  },
  {
   "cell_type": "code",
   "execution_count": 10,
   "metadata": {},
   "outputs": [
    {
     "data": {
      "text/plain": [
       "count    358868.000000\n",
       "mean        142.187676\n",
       "std         213.089902\n",
       "min           1.000000\n",
       "25%          32.000000\n",
       "50%          83.000000\n",
       "75%         180.000000\n",
       "max       50142.000000\n",
       "Name: play, dtype: float64"
      ]
     },
     "execution_count": 10,
     "metadata": {},
     "output_type": "execute_result"
    }
   ],
   "source": [
    "# 유저별 play횟수 중앙값에 대한 통계\n",
    "user_median = data.groupby('user_id')['play'].median()\n",
    "user_median.describe()"
   ]
  },
  {
   "cell_type": "code",
   "execution_count": 11,
   "metadata": {},
   "outputs": [
    {
     "data": {
      "text/html": [
       "<div>\n",
       "<style scoped>\n",
       "    .dataframe tbody tr th:only-of-type {\n",
       "        vertical-align: middle;\n",
       "    }\n",
       "\n",
       "    .dataframe tbody tr th {\n",
       "        vertical-align: top;\n",
       "    }\n",
       "\n",
       "    .dataframe thead th {\n",
       "        text-align: right;\n",
       "    }\n",
       "</style>\n",
       "<table border=\"1\" class=\"dataframe\">\n",
       "  <thead>\n",
       "    <tr style=\"text-align: right;\">\n",
       "      <th></th>\n",
       "      <th>user_id</th>\n",
       "      <th>artist</th>\n",
       "      <th>play</th>\n",
       "    </tr>\n",
       "  </thead>\n",
       "  <tbody>\n",
       "    <tr>\n",
       "      <th>17535650</th>\n",
       "      <td>sep 20, 2008</td>\n",
       "      <td>turbostaat</td>\n",
       "      <td>12</td>\n",
       "    </tr>\n",
       "    <tr>\n",
       "      <th>17535651</th>\n",
       "      <td>sep 20, 2008</td>\n",
       "      <td>cuba missouri</td>\n",
       "      <td>11</td>\n",
       "    </tr>\n",
       "    <tr>\n",
       "      <th>17535652</th>\n",
       "      <td>sep 20, 2008</td>\n",
       "      <td>little man tate</td>\n",
       "      <td>11</td>\n",
       "    </tr>\n",
       "    <tr>\n",
       "      <th>17535653</th>\n",
       "      <td>sep 20, 2008</td>\n",
       "      <td>sigur rós</td>\n",
       "      <td>10</td>\n",
       "    </tr>\n",
       "    <tr>\n",
       "      <th>17535654</th>\n",
       "      <td>sep 20, 2008</td>\n",
       "      <td>the smiths</td>\n",
       "      <td>10</td>\n",
       "    </tr>\n",
       "    <tr>\n",
       "      <th>0</th>\n",
       "      <td>zimin</td>\n",
       "      <td>black eyed peas</td>\n",
       "      <td>30</td>\n",
       "    </tr>\n",
       "    <tr>\n",
       "      <th>1</th>\n",
       "      <td>zimin</td>\n",
       "      <td>maroon5</td>\n",
       "      <td>30</td>\n",
       "    </tr>\n",
       "    <tr>\n",
       "      <th>2</th>\n",
       "      <td>zimin</td>\n",
       "      <td>jason mraz</td>\n",
       "      <td>30</td>\n",
       "    </tr>\n",
       "    <tr>\n",
       "      <th>3</th>\n",
       "      <td>zimin</td>\n",
       "      <td>coldplay</td>\n",
       "      <td>30</td>\n",
       "    </tr>\n",
       "    <tr>\n",
       "      <th>4</th>\n",
       "      <td>zimin</td>\n",
       "      <td>beyoncé</td>\n",
       "      <td>30</td>\n",
       "    </tr>\n",
       "  </tbody>\n",
       "</table>\n",
       "</div>"
      ],
      "text/plain": [
       "               user_id           artist  play\n",
       "17535650  sep 20, 2008       turbostaat    12\n",
       "17535651  sep 20, 2008    cuba missouri    11\n",
       "17535652  sep 20, 2008  little man tate    11\n",
       "17535653  sep 20, 2008        sigur rós    10\n",
       "17535654  sep 20, 2008       the smiths    10\n",
       "0                zimin  black eyed peas    30\n",
       "1                zimin          maroon5    30\n",
       "2                zimin       jason mraz    30\n",
       "3                zimin         coldplay    30\n",
       "4                zimin          beyoncé    30"
      ]
     },
     "execution_count": 11,
     "metadata": {},
     "output_type": "execute_result"
    }
   ],
   "source": [
    "# 추천시스템을 위해서 처음에 제공하는 내 취향 관련 정보\n",
    "# 본인이 좋아하시는 아티스트 데이터로 바꿔서 추가하셔도 됩니다! 단, 이름은 꼭 데이터셋에 있는 것과 동일하게 맞춰주세요. \n",
    "my_favorite = ['black eyed peas' , 'maroon5' ,'jason mraz' ,'coldplay' ,'beyoncé']\n",
    "\n",
    "# 'zimin'이라는 user_id가 위 아티스트의 노래를 30회씩 들었다고 가정하겠습니다.\n",
    "my_playlist = pd.DataFrame({'user_id': ['zimin']*5, 'artist': my_favorite, 'play':[30]*5})\n",
    "\n",
    "if not data.isin({'user_id':['zimin']})['user_id'].any():  # user_id에 'zimin'이라는 데이터가 없다면\n",
    "    data = data.append(my_playlist)                           # 위에 임의로 만든 my_favorite 데이터를 추가해 줍니다. \n",
    "\n",
    "data.tail(10)       # 잘 추가되었는지 확인해 봅시다."
   ]
  },
  {
   "cell_type": "code",
   "execution_count": 12,
   "metadata": {},
   "outputs": [],
   "source": [
    "# pandas.DataFrame.unique()는 유니크한 데이터만 모아준다.\n",
    "# 데이터 관리를 위해서 user, artist에 각각 번호를 붙인다(indexing)\n",
    "# 고유한 유저, 아티스트를 찾아내는 코드\n",
    "user_unique = data['user_id'].unique()\n",
    "artist_unique = data['artist'].unique()\n",
    "\n",
    "# 유저, 아티스트 indexing 하는 코드 idx는 index의 약자입니다.\n",
    "user_to_idx = {v:k for k,v in enumerate(user_unique)}\n",
    "artist_to_idx = {v:k for k,v in enumerate(artist_unique)}"
   ]
  },
  {
   "cell_type": "code",
   "execution_count": 13,
   "metadata": {},
   "outputs": [
    {
     "name": "stdout",
     "output_type": "stream",
     "text": [
      "358868\n",
      "376\n"
     ]
    }
   ],
   "source": [
    "# 인덱싱이 잘 되었는지 확인해 봅니다. \n",
    "print(user_to_idx['zimin'])    # 358869명의 유저 중 마지막으로 추가된 유저이니 358868이 나와야 합니다. \n",
    "print(artist_to_idx['black eyed peas'])"
   ]
  },
  {
   "cell_type": "code",
   "execution_count": 14,
   "metadata": {},
   "outputs": [
    {
     "name": "stdout",
     "output_type": "stream",
     "text": [
      "user_id column indexing OK!!\n",
      "artist column indexing OK!!\n"
     ]
    },
    {
     "data": {
      "text/html": [
       "<div>\n",
       "<style scoped>\n",
       "    .dataframe tbody tr th:only-of-type {\n",
       "        vertical-align: middle;\n",
       "    }\n",
       "\n",
       "    .dataframe tbody tr th {\n",
       "        vertical-align: top;\n",
       "    }\n",
       "\n",
       "    .dataframe thead th {\n",
       "        text-align: right;\n",
       "    }\n",
       "</style>\n",
       "<table border=\"1\" class=\"dataframe\">\n",
       "  <thead>\n",
       "    <tr style=\"text-align: right;\">\n",
       "      <th></th>\n",
       "      <th>user_id</th>\n",
       "      <th>artist</th>\n",
       "      <th>play</th>\n",
       "    </tr>\n",
       "  </thead>\n",
       "  <tbody>\n",
       "    <tr>\n",
       "      <th>0</th>\n",
       "      <td>0</td>\n",
       "      <td>0</td>\n",
       "      <td>2137</td>\n",
       "    </tr>\n",
       "    <tr>\n",
       "      <th>1</th>\n",
       "      <td>0</td>\n",
       "      <td>1</td>\n",
       "      <td>1099</td>\n",
       "    </tr>\n",
       "    <tr>\n",
       "      <th>2</th>\n",
       "      <td>0</td>\n",
       "      <td>2</td>\n",
       "      <td>897</td>\n",
       "    </tr>\n",
       "    <tr>\n",
       "      <th>3</th>\n",
       "      <td>0</td>\n",
       "      <td>3</td>\n",
       "      <td>717</td>\n",
       "    </tr>\n",
       "    <tr>\n",
       "      <th>4</th>\n",
       "      <td>0</td>\n",
       "      <td>4</td>\n",
       "      <td>706</td>\n",
       "    </tr>\n",
       "    <tr>\n",
       "      <th>...</th>\n",
       "      <td>...</td>\n",
       "      <td>...</td>\n",
       "      <td>...</td>\n",
       "    </tr>\n",
       "    <tr>\n",
       "      <th>0</th>\n",
       "      <td>358868</td>\n",
       "      <td>376</td>\n",
       "      <td>30</td>\n",
       "    </tr>\n",
       "    <tr>\n",
       "      <th>1</th>\n",
       "      <td>358868</td>\n",
       "      <td>270115</td>\n",
       "      <td>30</td>\n",
       "    </tr>\n",
       "    <tr>\n",
       "      <th>2</th>\n",
       "      <td>358868</td>\n",
       "      <td>3746</td>\n",
       "      <td>30</td>\n",
       "    </tr>\n",
       "    <tr>\n",
       "      <th>3</th>\n",
       "      <td>358868</td>\n",
       "      <td>62</td>\n",
       "      <td>30</td>\n",
       "    </tr>\n",
       "    <tr>\n",
       "      <th>4</th>\n",
       "      <td>358868</td>\n",
       "      <td>396</td>\n",
       "      <td>30</td>\n",
       "    </tr>\n",
       "  </tbody>\n",
       "</table>\n",
       "<p>17535660 rows × 3 columns</p>\n",
       "</div>"
      ],
      "text/plain": [
       "    user_id  artist  play\n",
       "0         0       0  2137\n",
       "1         0       1  1099\n",
       "2         0       2   897\n",
       "3         0       3   717\n",
       "4         0       4   706\n",
       "..      ...     ...   ...\n",
       "0    358868     376    30\n",
       "1    358868  270115    30\n",
       "2    358868    3746    30\n",
       "3    358868      62    30\n",
       "4    358868     396    30\n",
       "\n",
       "[17535660 rows x 3 columns]"
      ]
     },
     "execution_count": 14,
     "metadata": {},
     "output_type": "execute_result"
    }
   ],
   "source": [
    "# indexing을 통해 데이터 컬럼 내 값을 정수 인덱스값으로 바꾸는 코드\n",
    "# dictionary 자료형의 get 함수는 https://wikidocs.net/16 을 참고하세요.\n",
    "\n",
    "# user_to_idx.get을 통해 user_id 컬럼의 모든 값을 인덱싱한 Series를 구해 봅시다. \n",
    "# 혹시 정상적으로 인덱싱되지 않은 row가 있다면 인덱스가 NaN이 될 테니 dropna()로 제거합니다. \n",
    "temp_user_data = data['user_id'].map(user_to_idx.get).dropna()\n",
    "if len(temp_user_data) == len(data):   # 모든 row가 정상적으로 인덱싱되었다면\n",
    "    print('user_id column indexing OK!!')\n",
    "    data['user_id'] = temp_user_data   # data['user_id']을 인덱싱된 Series로 교체해 줍니다. \n",
    "else:\n",
    "    print('user_id column indexing Fail!!')\n",
    "\n",
    "# artist_to_idx을 통해 artist 컬럼도 동일한 방식으로 인덱싱해 줍니다. \n",
    "temp_artist_data = data['artist'].map(artist_to_idx.get).dropna()\n",
    "if len(temp_artist_data) == len(data):\n",
    "    print('artist column indexing OK!!')\n",
    "    data['artist'] = temp_artist_data\n",
    "else:\n",
    "    print('artist column indexing Fail!!')\n",
    "\n",
    "data"
   ]
  },
  {
   "cell_type": "code",
   "execution_count": 15,
   "metadata": {},
   "outputs": [
    {
     "name": "stdout",
     "output_type": "stream",
     "text": [
      "147740,17535660\n",
      "Ratio of only_one over all data is 0.84%\n"
     ]
    }
   ],
   "source": [
    "# 앞으로 우리의 규칙.\n",
    "# 한 번이라도 들었으면 선호한다고 판단한다.\n",
    "# 많이 재생한 아티스트에 대해 가중치를 주어서 더 확실히 좋아한다고 판단한다.\n",
    "\n",
    "# 1회만 play한 데이터의 비율을 보는 코드\n",
    "only_one = data[data['play']<2]\n",
    "one, all_data = len(only_one), len(data)\n",
    "print(f'{one},{all_data}')\n",
    "print(f'Ratio of only_one over all data is {one/all_data:.2%}')  # f-format에 대한 설명은 https://bit.ly/2DTLqYU"
   ]
  },
  {
   "cell_type": "code",
   "execution_count": 16,
   "metadata": {},
   "outputs": [
    {
     "data": {
      "text/plain": [
       "<358869x291347 sparse matrix of type '<class 'numpy.int64'>'\n",
       "\twith 17535578 stored elements in Compressed Sparse Row format>"
      ]
     },
     "execution_count": 16,
     "metadata": {},
     "output_type": "execute_result"
    }
   ],
   "source": [
    "# 실습 위에 설명보고 이해해서 만들어보기\n",
    "from scipy.sparse import csr_matrix\n",
    "\n",
    "num_user = data['user_id'].nunique()\n",
    "num_artist = data['artist'].nunique()\n",
    "\n",
    "csr_data = csr_matrix((data.play, (data.user_id, data.artist)), shape= (num_user, num_artist))\n",
    "csr_data"
   ]
  },
  {
   "cell_type": "code",
   "execution_count": 17,
   "metadata": {},
   "outputs": [],
   "source": [
    "from implicit.als import AlternatingLeastSquares # alternatingleastsquares는 쪼개진 두 feature matrix중 한쪽을 고정하고,다른 쪽을 학습시키는 방식을 번갈아 가며 진행하는 방식. 효과적이다!\n",
    "import os\n",
    "import numpy as np\n",
    "\n",
    "# implicit 라이브러리에서 권장하고 있는 부분입니다. 학습 내용과는 무관합니다.\n",
    "os.environ['OPENBLAS_NUM_THREADS']='1'\n",
    "os.environ['KMP_DUPLICATE_LIB_OK']='True'\n",
    "os.environ['MKL_NUM_THREADS']='1'"
   ]
  },
  {
   "cell_type": "code",
   "execution_count": 18,
   "metadata": {},
   "outputs": [],
   "source": [
    "# Implicit AlternatingLeastSquares 모델의 선언.\n",
    "# factor: 유저와 아이템의 벡터 차원수, regularization: 과적합 방지를 위한 정규화 값, use_gpu: GPU사용여부, iterations: epoch와 같다(몇 번 박복해서 학습할지), factor와 iteration을 늘릴 수록 학습데이터 학습률은 좋아지지만, 그만큼 과적합 우려 존재.\n",
    "als_model = AlternatingLeastSquares(factors=100, regularization=0.01, use_gpu=False, iterations=15, dtype=np.float32)"
   ]
  },
  {
   "cell_type": "code",
   "execution_count": 19,
   "metadata": {},
   "outputs": [
    {
     "data": {
      "text/plain": [
       "<291347x358869 sparse matrix of type '<class 'numpy.int64'>'\n",
       "\twith 17535578 stored elements in Compressed Sparse Column format>"
      ]
     },
     "execution_count": 19,
     "metadata": {},
     "output_type": "execute_result"
    }
   ],
   "source": [
    "# als 모델은 input으로 (item X user 꼴의 matrix를 받기 때문에 Transpose해줍니다.)\n",
    "csr_data_transpose = csr_data.T\n",
    "csr_data_transpose"
   ]
  },
  {
   "cell_type": "code",
   "execution_count": 20,
   "metadata": {},
   "outputs": [
    {
     "data": {
      "application/vnd.jupyter.widget-view+json": {
       "model_id": "1445dec9427c40c8bf68ebdae40ea525",
       "version_major": 2,
       "version_minor": 0
      },
      "text/plain": [
       "  0%|          | 0/15 [00:00<?, ?it/s]"
      ]
     },
     "metadata": {},
     "output_type": "display_data"
    }
   ],
   "source": [
    "# 모델 훈련\n",
    "als_model.fit(csr_data_transpose)"
   ]
  },
  {
   "cell_type": "code",
   "execution_count": 21,
   "metadata": {},
   "outputs": [
    {
     "name": "stdout",
     "output_type": "stream",
     "text": [
      "슝=3\n"
     ]
    }
   ],
   "source": [
    "#각각에 벡터할당\n",
    "zimin, black_eyed_peas = user_to_idx['zimin'], artist_to_idx['black eyed peas']\n",
    "zimin_vector, black_eyed_peas_vector = als_model.user_factors[zimin], als_model.item_factors[black_eyed_peas]\n",
    "\n",
    "print('슝=3')"
   ]
  },
  {
   "cell_type": "code",
   "execution_count": 22,
   "metadata": {},
   "outputs": [
    {
     "data": {
      "text/plain": [
       "array([ 0.54740435,  0.20824282,  0.8323118 ,  0.27907228, -0.5778294 ,\n",
       "        0.39534152, -0.16295478,  0.5378274 , -0.48967966, -0.3039319 ,\n",
       "        0.37754178,  0.15973063,  0.5758923 ,  0.00501843,  0.03743266,\n",
       "        0.2715056 , -0.60500103,  1.476622  , -0.61469436,  1.2644826 ,\n",
       "        0.71584237, -0.15809852, -0.63914424, -0.07283852, -0.76036704,\n",
       "       -0.60844415,  0.82115823,  0.4369006 , -0.31871346,  0.5318187 ,\n",
       "        0.84532106, -0.85987234,  0.22144623,  1.3463625 , -0.4546588 ,\n",
       "       -0.59597635,  0.5760282 , -0.02193873,  1.1377314 ,  0.39065814,\n",
       "       -0.18931098, -0.8495166 ,  0.3558124 ,  1.2210451 ,  0.15048592,\n",
       "        0.52294767,  0.23878029,  0.7336211 , -0.22911724, -0.71657634,\n",
       "        0.89902854, -1.6718338 , -0.46475267,  0.44237065, -1.153626  ,\n",
       "        0.07767295, -0.5524082 ,  0.16765283,  0.5350821 , -0.0216099 ,\n",
       "        0.4120485 ,  0.12125809,  1.089277  , -1.050488  , -0.46615788,\n",
       "        0.20488566,  0.13377483, -0.36482725,  0.66145146, -1.3608775 ,\n",
       "       -0.5743957 , -0.38490894, -1.0575973 ,  0.58150226, -0.63698   ,\n",
       "        0.185475  , -0.8116993 , -0.2776278 , -0.68205214,  0.38385764,\n",
       "        0.26403832, -0.13741934, -0.2912242 , -0.47696513, -0.39360738,\n",
       "       -0.868614  , -0.03003499,  0.09893918,  0.94142747, -0.07599621,\n",
       "        0.468332  ,  0.05223011,  0.4280052 ,  0.39048934,  0.5796424 ,\n",
       "       -0.16522008,  0.5454278 ,  0.9005117 ,  0.0095358 , -1.3583044 ],\n",
       "      dtype=float32)"
      ]
     },
     "execution_count": 22,
     "metadata": {},
     "output_type": "execute_result"
    }
   ],
   "source": [
    "zimin_vector"
   ]
  },
  {
   "cell_type": "code",
   "execution_count": 23,
   "metadata": {},
   "outputs": [
    {
     "data": {
      "text/plain": [
       "array([ 7.44220661e-03,  1.06233349e-02,  1.75999571e-02,  5.38234413e-03,\n",
       "        9.42737795e-03,  1.25395115e-02,  7.18543772e-03,  1.55121228e-02,\n",
       "       -1.87457888e-03, -7.84110278e-03,  2.92936596e-03,  9.55967512e-03,\n",
       "        1.99502986e-02,  4.64866403e-03,  4.64264257e-03,  1.54778566e-02,\n",
       "        9.49996896e-03,  3.09531912e-02, -6.21365150e-04,  4.41904645e-03,\n",
       "        1.15848687e-02, -2.99289310e-03,  2.43037269e-02,  4.10047174e-03,\n",
       "       -3.10853776e-03,  2.45770649e-03,  3.41420248e-02,  2.56857090e-03,\n",
       "        1.35729546e-02,  1.02453418e-02,  3.09111122e-02, -1.65767930e-02,\n",
       "        2.64541199e-03,  2.51613669e-02,  3.13838501e-03, -1.25164762e-02,\n",
       "        1.30534275e-02, -1.73687830e-03,  2.20844131e-02,  2.24659573e-02,\n",
       "       -1.60473604e-02,  2.62359087e-03,  1.44485570e-02,  1.30129931e-02,\n",
       "        1.35249533e-02,  1.95278728e-04,  2.89095398e-02,  6.51107682e-03,\n",
       "        1.27466228e-02, -3.10690491e-03,  2.37442385e-02, -1.74277164e-02,\n",
       "        1.21938810e-02,  1.45013966e-02, -4.11453948e-04,  1.05875563e-02,\n",
       "        9.91533417e-03,  2.08766144e-02,  8.87460168e-03,  1.21806180e-02,\n",
       "        1.23691233e-02,  1.13724370e-03,  1.85171086e-02,  5.09984093e-03,\n",
       "       -7.01246923e-03,  1.13501409e-02,  1.29778215e-04,  1.10588651e-02,\n",
       "        1.83969419e-02, -2.13680472e-02, -1.14732897e-02,  8.88571516e-03,\n",
       "       -1.91123150e-02,  1.17595517e-03, -1.02026872e-02,  1.15694944e-02,\n",
       "       -1.29585424e-02, -2.09062104e-03, -7.19386199e-03,  3.42126354e-03,\n",
       "       -3.04921251e-03,  1.42695270e-02, -4.25036391e-03, -5.69729273e-05,\n",
       "        1.24999108e-02, -1.37640275e-02,  8.32713488e-03,  5.85111044e-03,\n",
       "        1.88273340e-02,  2.45199632e-03,  3.93885933e-03,  3.01521213e-04,\n",
       "        1.05029279e-02,  1.39004113e-02,  1.57155637e-02,  2.08347365e-02,\n",
       "        1.76963918e-02,  7.06540700e-03,  1.71539579e-02, -1.23580238e-02],\n",
       "      dtype=float32)"
      ]
     },
     "execution_count": 23,
     "metadata": {},
     "output_type": "execute_result"
    }
   ],
   "source": [
    "black_eyed_peas_vector"
   ]
  },
  {
   "cell_type": "code",
   "execution_count": 24,
   "metadata": {},
   "outputs": [
    {
     "data": {
      "text/plain": [
       "0.5200096"
      ]
     },
     "execution_count": 24,
     "metadata": {},
     "output_type": "execute_result"
    }
   ],
   "source": [
    "# zimin과 black_eyed_peas를 내적하는 코드\n",
    "# 값이 낮게 나와서 factor, iteration을 늘리야 할것으로 보임.\n",
    "np.dot(zimin_vector, black_eyed_peas_vector)"
   ]
  },
  {
   "cell_type": "code",
   "execution_count": 25,
   "metadata": {},
   "outputs": [
    {
     "data": {
      "text/plain": [
       "0.31761736"
      ]
     },
     "execution_count": 25,
     "metadata": {},
     "output_type": "execute_result"
    }
   ],
   "source": [
    "queen = artist_to_idx['queen']\n",
    "queen_vector = als_model.item_factors[queen]\n",
    "np.dot(zimin_vector, queen_vector)"
   ]
  },
  {
   "cell_type": "code",
   "execution_count": 26,
   "metadata": {},
   "outputs": [
    {
     "data": {
      "text/plain": [
       "[(62, 1.0),\n",
       " (277, 0.98617756),\n",
       " (28, 0.97909904),\n",
       " (5, 0.9790355),\n",
       " (473, 0.9686363),\n",
       " (490, 0.9685018),\n",
       " (217, 0.9679009),\n",
       " (247, 0.96051633),\n",
       " (694, 0.9519618),\n",
       " (418, 0.95131266),\n",
       " (910, 0.9472436),\n",
       " (1018, 0.9469095),\n",
       " (782, 0.9452618),\n",
       " (268, 0.9365816),\n",
       " (75, 0.93084764)]"
      ]
     },
     "execution_count": 26,
     "metadata": {},
     "output_type": "execute_result"
    }
   ],
   "source": [
    "favorite_artist = 'coldplay'\n",
    "artist_id = artist_to_idx[favorite_artist]\n",
    "similar_artist = als_model.similar_items(artist_id, N=15)\n",
    "similar_artist\n",
    "#반환되는것들은 아티스트id, 유사도."
   ]
  },
  {
   "cell_type": "code",
   "execution_count": 27,
   "metadata": {},
   "outputs": [
    {
     "data": {
      "text/plain": [
       "['coldplay',\n",
       " 'muse',\n",
       " 'the killers',\n",
       " 'red hot chili peppers',\n",
       " 'placebo',\n",
       " 'oasis',\n",
       " 'radiohead',\n",
       " 'the beatles',\n",
       " 'foo fighters',\n",
       " 'u2',\n",
       " 'nirvana',\n",
       " 'the smashing pumpkins',\n",
       " 'the white stripes',\n",
       " 'pink floyd',\n",
       " 'queen']"
      ]
     },
     "execution_count": 27,
     "metadata": {},
     "output_type": "execute_result"
    }
   ],
   "source": [
    "#artist_to_idx 를 뒤집어, index로부터 artist 이름을 얻는 dict를 생성합니다. \n",
    "idx_to_artist = {v:k for k,v in artist_to_idx.items()}\n",
    "[idx_to_artist[i[0]] for i in similar_artist]"
   ]
  },
  {
   "cell_type": "code",
   "execution_count": 28,
   "metadata": {},
   "outputs": [
    {
     "name": "stdout",
     "output_type": "stream",
     "text": [
      "슝=3\n"
     ]
    }
   ],
   "source": [
    "def get_similar_artist(artist_name: str):\n",
    "    artist_id = artist_to_idx[artist_name]\n",
    "    similar_artist = als_model.similar_items(artist_id)\n",
    "    similar_artist = [idx_to_artist[i[0]] for i in similar_artist]\n",
    "    return similar_artist\n",
    "\n",
    "print(\"슝=3\")"
   ]
  },
  {
   "cell_type": "code",
   "execution_count": 29,
   "metadata": {},
   "outputs": [
    {
     "data": {
      "text/plain": [
       "['2pac',\n",
       " 'dr. dre',\n",
       " 'notorious b.i.g.',\n",
       " 'nas',\n",
       " 'jay-z',\n",
       " 'the game',\n",
       " 'snoop dogg',\n",
       " 'ludacris',\n",
       " 'busta rhymes',\n",
       " 'ice cube']"
      ]
     },
     "execution_count": 29,
     "metadata": {},
     "output_type": "execute_result"
    }
   ],
   "source": [
    "get_similar_artist('2pac')"
   ]
  },
  {
   "cell_type": "code",
   "execution_count": 30,
   "metadata": {},
   "outputs": [
    {
     "data": {
      "text/plain": [
       "['lady gaga',\n",
       " 'britney spears',\n",
       " 'rihanna',\n",
       " 'katy perry',\n",
       " 'beyoncé',\n",
       " 'the pussycat dolls',\n",
       " 'christina aguilera',\n",
       " 'kelly clarkson',\n",
       " 'nelly furtado',\n",
       " 'justin timberlake']"
      ]
     },
     "execution_count": 30,
     "metadata": {},
     "output_type": "execute_result"
    }
   ],
   "source": [
    "get_similar_artist('lady gaga')"
   ]
  },
  {
   "cell_type": "code",
   "execution_count": 31,
   "metadata": {},
   "outputs": [
    {
     "data": {
      "text/plain": [
       "[(350, 0.44292024),\n",
       " (550, 0.4323299),\n",
       " (627, 0.43113965),\n",
       " (1800, 0.4256299),\n",
       " (369, 0.41018963),\n",
       " (274, 0.40893045),\n",
       " (724, 0.40892264),\n",
       " (391, 0.4017526),\n",
       " (2249, 0.39846027),\n",
       " (901, 0.39726),\n",
       " (354, 0.38539106),\n",
       " (355, 0.37188542),\n",
       " (564, 0.36062333),\n",
       " (409, 0.36037642),\n",
       " (1777, 0.36011568),\n",
       " (618, 0.3558876),\n",
       " (944, 0.35534275),\n",
       " (24, 0.35292286),\n",
       " (2902, 0.35217297),\n",
       " (621, 0.35129613)]"
      ]
     },
     "execution_count": 31,
     "metadata": {},
     "output_type": "execute_result"
    }
   ],
   "source": [
    "# AlternatingLeastSquares 클래스에 구현된 recommend메소드를 통해서 좋아할만한 아티스트 추천.\n",
    "# filter_already_liked_items를 True로 하면 유저가 이미 평가한 아이템은 제외핟다.\n",
    "user = user_to_idx['zimin']\n",
    "# recommend에서는 user*item CSR Matrix를 받습니다.\n",
    "artist_recommended = als_model.recommend(user, csr_data, N=20, filter_already_liked_items=True)\n",
    "artist_recommended"
   ]
  },
  {
   "cell_type": "code",
   "execution_count": 32,
   "metadata": {},
   "outputs": [
    {
     "data": {
      "text/plain": [
       "['rihanna',\n",
       " 'britney spears',\n",
       " 'maroon 5',\n",
       " 'lady gaga',\n",
       " 'justin timberlake',\n",
       " 'michael jackson',\n",
       " 'lily allen',\n",
       " 'christina aguilera',\n",
       " 'katy perry',\n",
       " 'pink',\n",
       " 'nelly furtado',\n",
       " 'madonna',\n",
       " 'kanye west',\n",
       " 'amy winehouse',\n",
       " 'mariah carey',\n",
       " 'the pussycat dolls',\n",
       " 'avril lavigne',\n",
       " 'jack johnson',\n",
       " 'james blunt',\n",
       " 'alicia keys']"
      ]
     },
     "execution_count": 32,
     "metadata": {},
     "output_type": "execute_result"
    }
   ],
   "source": [
    "[idx_to_artist[i[0]] for i in artist_recommended]"
   ]
  },
  {
   "cell_type": "code",
   "execution_count": 33,
   "metadata": {},
   "outputs": [],
   "source": [
    "# AlternatingLeastSquares 클래스에 구현된 explain메소드를 통해서 남긴 기록 데이터중 이 데이터에 기여한 정도 확인가능.\n",
    "rihanna = artist_to_idx['rihanna']\n",
    "explain = als_model.explain(user, csr_data, itemid=rihanna)"
   ]
  },
  {
   "cell_type": "code",
   "execution_count": 34,
   "metadata": {},
   "outputs": [
    {
     "data": {
      "text/plain": [
       "[('beyoncé', 0.2227968386768918),\n",
       " ('black eyed peas', 0.1385323254168171),\n",
       " ('coldplay', 0.046631074315522394),\n",
       " ('jason mraz', 0.035841417333777124),\n",
       " ('maroon5', 0.0002669791358707614)]"
      ]
     },
     "execution_count": 34,
     "metadata": {},
     "output_type": "execute_result"
    }
   ],
   "source": [
    "[(idx_to_artist[i[0]], i[1]) for i in explain[1]]\n",
    "#maroon5는 앞에서 이미 평가한 아이템이지만, 나온 이유는 버그."
   ]
  },
  {
   "cell_type": "markdown",
   "metadata": {},
   "source": [
    "우리가 만든 모델의 아쉬운 점들.\n",
    "1. 유저, 아티스트에 대한 메타정보 반영이 어렵다 -> 연령대, 국가에 따른 음악취향 갈림 여부?\n",
    "2. 유저가 언제 재생했는지를 반영하기 쉽지 않다 -> 옛날 취향이 반영될 수 있다."
   ]
  },
  {
   "cell_type": "markdown",
   "metadata": {},
   "source": [
    "1) wget으로 데이터 다운로드  \n",
    "$ wget http://files.grouplens.org/datasets/movielens/ml-1m.zip\n",
    "\n",
    "2) 다운받은 데이터를 작업디렉토리로 옮김  \n",
    "$ mv ml-1m.zip ~/aiffel/recommendata_iu/data\n",
    "\n",
    "3) 작업디렉토리로 이동  \n",
    "$ cd ~/aiffel/recommendata_iu/data\n",
    "\n",
    "4) 압축 해제  \n",
    "$ unzip ml-1m.zip"
   ]
  },
  {
   "cell_type": "code",
   "execution_count": 35,
   "metadata": {},
   "outputs": [
    {
     "data": {
      "text/html": [
       "<div>\n",
       "<style scoped>\n",
       "    .dataframe tbody tr th:only-of-type {\n",
       "        vertical-align: middle;\n",
       "    }\n",
       "\n",
       "    .dataframe tbody tr th {\n",
       "        vertical-align: top;\n",
       "    }\n",
       "\n",
       "    .dataframe thead th {\n",
       "        text-align: right;\n",
       "    }\n",
       "</style>\n",
       "<table border=\"1\" class=\"dataframe\">\n",
       "  <thead>\n",
       "    <tr style=\"text-align: right;\">\n",
       "      <th></th>\n",
       "      <th>user_id</th>\n",
       "      <th>movie_id</th>\n",
       "      <th>rating</th>\n",
       "      <th>timestamp</th>\n",
       "    </tr>\n",
       "  </thead>\n",
       "  <tbody>\n",
       "    <tr>\n",
       "      <th>0</th>\n",
       "      <td>1</td>\n",
       "      <td>1193</td>\n",
       "      <td>5</td>\n",
       "      <td>978300760</td>\n",
       "    </tr>\n",
       "    <tr>\n",
       "      <th>1</th>\n",
       "      <td>1</td>\n",
       "      <td>661</td>\n",
       "      <td>3</td>\n",
       "      <td>978302109</td>\n",
       "    </tr>\n",
       "    <tr>\n",
       "      <th>2</th>\n",
       "      <td>1</td>\n",
       "      <td>914</td>\n",
       "      <td>3</td>\n",
       "      <td>978301968</td>\n",
       "    </tr>\n",
       "    <tr>\n",
       "      <th>3</th>\n",
       "      <td>1</td>\n",
       "      <td>3408</td>\n",
       "      <td>4</td>\n",
       "      <td>978300275</td>\n",
       "    </tr>\n",
       "    <tr>\n",
       "      <th>4</th>\n",
       "      <td>1</td>\n",
       "      <td>2355</td>\n",
       "      <td>5</td>\n",
       "      <td>978824291</td>\n",
       "    </tr>\n",
       "    <tr>\n",
       "      <th>...</th>\n",
       "      <td>...</td>\n",
       "      <td>...</td>\n",
       "      <td>...</td>\n",
       "      <td>...</td>\n",
       "    </tr>\n",
       "    <tr>\n",
       "      <th>1000204</th>\n",
       "      <td>6040</td>\n",
       "      <td>1091</td>\n",
       "      <td>1</td>\n",
       "      <td>956716541</td>\n",
       "    </tr>\n",
       "    <tr>\n",
       "      <th>1000205</th>\n",
       "      <td>6040</td>\n",
       "      <td>1094</td>\n",
       "      <td>5</td>\n",
       "      <td>956704887</td>\n",
       "    </tr>\n",
       "    <tr>\n",
       "      <th>1000206</th>\n",
       "      <td>6040</td>\n",
       "      <td>562</td>\n",
       "      <td>5</td>\n",
       "      <td>956704746</td>\n",
       "    </tr>\n",
       "    <tr>\n",
       "      <th>1000207</th>\n",
       "      <td>6040</td>\n",
       "      <td>1096</td>\n",
       "      <td>4</td>\n",
       "      <td>956715648</td>\n",
       "    </tr>\n",
       "    <tr>\n",
       "      <th>1000208</th>\n",
       "      <td>6040</td>\n",
       "      <td>1097</td>\n",
       "      <td>4</td>\n",
       "      <td>956715569</td>\n",
       "    </tr>\n",
       "  </tbody>\n",
       "</table>\n",
       "<p>1000209 rows × 4 columns</p>\n",
       "</div>"
      ],
      "text/plain": [
       "         user_id  movie_id  rating  timestamp\n",
       "0              1      1193       5  978300760\n",
       "1              1       661       3  978302109\n",
       "2              1       914       3  978301968\n",
       "3              1      3408       4  978300275\n",
       "4              1      2355       5  978824291\n",
       "...          ...       ...     ...        ...\n",
       "1000204     6040      1091       1  956716541\n",
       "1000205     6040      1094       5  956704887\n",
       "1000206     6040       562       5  956704746\n",
       "1000207     6040      1096       4  956715648\n",
       "1000208     6040      1097       4  956715569\n",
       "\n",
       "[1000209 rows x 4 columns]"
      ]
     },
     "execution_count": 35,
     "metadata": {},
     "output_type": "execute_result"
    }
   ],
   "source": [
    "#movielens데이터는 rating.dat안에 인덱싱까지 완료된 사용자-영화-평점 데이터 존재.\n",
    "import os\n",
    "rating_file_path=os.getenv('HOME') + '/aiffel/recommendata_iu/data/ml-1m/ratings.dat'\n",
    "ratings_cols = ['user_id', 'movie_id', 'rating', 'timestamp']\n",
    "ratings = pd.read_csv(rating_file_path, sep='::', names=ratings_cols, engine='python')\n",
    "orginal_data_size = len(ratings)\n",
    "ratings"
   ]
  },
  {
   "cell_type": "code",
   "execution_count": 36,
   "metadata": {},
   "outputs": [
    {
     "name": "stdout",
     "output_type": "stream",
     "text": [
      "orginal_data_size: 1000209, filtered_data_size: 836478\n",
      "Ratio of Remaining Data is 83.63%\n"
     ]
    }
   ],
   "source": [
    "# 3점 이상만 남깁니다.\n",
    "ratings = ratings[ratings['rating']>=3]\n",
    "filtered_data_size = len(ratings)\n",
    "\n",
    "print(f'orginal_data_size: {orginal_data_size}, filtered_data_size: {filtered_data_size}')\n",
    "print(f'Ratio of Remaining Data is {filtered_data_size / orginal_data_size:.2%}')"
   ]
  },
  {
   "cell_type": "code",
   "execution_count": 37,
   "metadata": {},
   "outputs": [
    {
     "name": "stderr",
     "output_type": "stream",
     "text": [
      "/home/ssac19/anaconda3/envs/aiffel/lib/python3.7/site-packages/pandas/core/frame.py:4308: SettingWithCopyWarning: \n",
      "A value is trying to be set on a copy of a slice from a DataFrame\n",
      "\n",
      "See the caveats in the documentation: https://pandas.pydata.org/pandas-docs/stable/user_guide/indexing.html#returning-a-view-versus-a-copy\n",
      "  errors=errors,\n"
     ]
    }
   ],
   "source": [
    "# rating 컬럼의 이름을 count로 바꿉니다.\n",
    "ratings.rename(columns={'rating':'count'}, inplace=True)"
   ]
  },
  {
   "cell_type": "code",
   "execution_count": 38,
   "metadata": {},
   "outputs": [
    {
     "data": {
      "text/plain": [
       "0          5\n",
       "1          3\n",
       "2          3\n",
       "3          4\n",
       "4          5\n",
       "          ..\n",
       "1000203    3\n",
       "1000205    5\n",
       "1000206    5\n",
       "1000207    4\n",
       "1000208    4\n",
       "Name: count, Length: 836478, dtype: int64"
      ]
     },
     "execution_count": 38,
     "metadata": {},
     "output_type": "execute_result"
    }
   ],
   "source": [
    "ratings['count']"
   ]
  },
  {
   "cell_type": "code",
   "execution_count": 39,
   "metadata": {},
   "outputs": [
    {
     "data": {
      "text/html": [
       "<div>\n",
       "<style scoped>\n",
       "    .dataframe tbody tr th:only-of-type {\n",
       "        vertical-align: middle;\n",
       "    }\n",
       "\n",
       "    .dataframe tbody tr th {\n",
       "        vertical-align: top;\n",
       "    }\n",
       "\n",
       "    .dataframe thead th {\n",
       "        text-align: right;\n",
       "    }\n",
       "</style>\n",
       "<table border=\"1\" class=\"dataframe\">\n",
       "  <thead>\n",
       "    <tr style=\"text-align: right;\">\n",
       "      <th></th>\n",
       "      <th>movie_id</th>\n",
       "      <th>title</th>\n",
       "      <th>genre</th>\n",
       "    </tr>\n",
       "  </thead>\n",
       "  <tbody>\n",
       "    <tr>\n",
       "      <th>0</th>\n",
       "      <td>1</td>\n",
       "      <td>Toy Story (1995)</td>\n",
       "      <td>Animation|Children's|Comedy</td>\n",
       "    </tr>\n",
       "    <tr>\n",
       "      <th>1</th>\n",
       "      <td>2</td>\n",
       "      <td>Jumanji (1995)</td>\n",
       "      <td>Adventure|Children's|Fantasy</td>\n",
       "    </tr>\n",
       "    <tr>\n",
       "      <th>2</th>\n",
       "      <td>3</td>\n",
       "      <td>Grumpier Old Men (1995)</td>\n",
       "      <td>Comedy|Romance</td>\n",
       "    </tr>\n",
       "    <tr>\n",
       "      <th>3</th>\n",
       "      <td>4</td>\n",
       "      <td>Waiting to Exhale (1995)</td>\n",
       "      <td>Comedy|Drama</td>\n",
       "    </tr>\n",
       "    <tr>\n",
       "      <th>4</th>\n",
       "      <td>5</td>\n",
       "      <td>Father of the Bride Part II (1995)</td>\n",
       "      <td>Comedy</td>\n",
       "    </tr>\n",
       "  </tbody>\n",
       "</table>\n",
       "</div>"
      ],
      "text/plain": [
       "   movie_id                               title                         genre\n",
       "0         1                    Toy Story (1995)   Animation|Children's|Comedy\n",
       "1         2                      Jumanji (1995)  Adventure|Children's|Fantasy\n",
       "2         3             Grumpier Old Men (1995)                Comedy|Romance\n",
       "3         4            Waiting to Exhale (1995)                  Comedy|Drama\n",
       "4         5  Father of the Bride Part II (1995)                        Comedy"
      ]
     },
     "execution_count": 39,
     "metadata": {},
     "output_type": "execute_result"
    }
   ],
   "source": [
    "# 영화 제목을 보기 위해 메타 데이터를 읽어옵니다.\n",
    "movie_file_path=os.getenv('HOME') + '/aiffel/recommendata_iu/data/ml-1m/movies.dat'\n",
    "cols = ['movie_id', 'title', 'genre'] \n",
    "movies = pd.read_csv(movie_file_path, sep='::', names=cols, engine='python')\n",
    "movies.head()"
   ]
  },
  {
   "cell_type": "code",
   "execution_count": 40,
   "metadata": {},
   "outputs": [
    {
     "data": {
      "text/plain": [
       "3628"
      ]
     },
     "execution_count": 40,
     "metadata": {},
     "output_type": "execute_result"
    }
   ],
   "source": [
    "ratings['movie_id'].nunique()"
   ]
  },
  {
   "cell_type": "code",
   "execution_count": 41,
   "metadata": {},
   "outputs": [
    {
     "data": {
      "text/plain": [
       "6039"
      ]
     },
     "execution_count": 41,
     "metadata": {},
     "output_type": "execute_result"
    }
   ],
   "source": [
    "ratings['user_id'].nunique()"
   ]
  },
  {
   "cell_type": "code",
   "execution_count": 42,
   "metadata": {},
   "outputs": [],
   "source": [
    "result = pd.merge(ratings, movies, on = 'movie_id')"
   ]
  },
  {
   "cell_type": "code",
   "execution_count": 43,
   "metadata": {},
   "outputs": [
    {
     "data": {
      "text/html": [
       "<div>\n",
       "<style scoped>\n",
       "    .dataframe tbody tr th:only-of-type {\n",
       "        vertical-align: middle;\n",
       "    }\n",
       "\n",
       "    .dataframe tbody tr th {\n",
       "        vertical-align: top;\n",
       "    }\n",
       "\n",
       "    .dataframe thead th {\n",
       "        text-align: right;\n",
       "    }\n",
       "</style>\n",
       "<table border=\"1\" class=\"dataframe\">\n",
       "  <thead>\n",
       "    <tr style=\"text-align: right;\">\n",
       "      <th></th>\n",
       "      <th>user_id</th>\n",
       "      <th>movie_id</th>\n",
       "      <th>count</th>\n",
       "      <th>timestamp</th>\n",
       "      <th>title</th>\n",
       "      <th>genre</th>\n",
       "    </tr>\n",
       "  </thead>\n",
       "  <tbody>\n",
       "    <tr>\n",
       "      <th>0</th>\n",
       "      <td>1</td>\n",
       "      <td>1193</td>\n",
       "      <td>5</td>\n",
       "      <td>978300760</td>\n",
       "      <td>One Flew Over the Cuckoo's Nest (1975)</td>\n",
       "      <td>Drama</td>\n",
       "    </tr>\n",
       "    <tr>\n",
       "      <th>1</th>\n",
       "      <td>2</td>\n",
       "      <td>1193</td>\n",
       "      <td>5</td>\n",
       "      <td>978298413</td>\n",
       "      <td>One Flew Over the Cuckoo's Nest (1975)</td>\n",
       "      <td>Drama</td>\n",
       "    </tr>\n",
       "    <tr>\n",
       "      <th>2</th>\n",
       "      <td>12</td>\n",
       "      <td>1193</td>\n",
       "      <td>4</td>\n",
       "      <td>978220179</td>\n",
       "      <td>One Flew Over the Cuckoo's Nest (1975)</td>\n",
       "      <td>Drama</td>\n",
       "    </tr>\n",
       "    <tr>\n",
       "      <th>3</th>\n",
       "      <td>15</td>\n",
       "      <td>1193</td>\n",
       "      <td>4</td>\n",
       "      <td>978199279</td>\n",
       "      <td>One Flew Over the Cuckoo's Nest (1975)</td>\n",
       "      <td>Drama</td>\n",
       "    </tr>\n",
       "    <tr>\n",
       "      <th>4</th>\n",
       "      <td>17</td>\n",
       "      <td>1193</td>\n",
       "      <td>5</td>\n",
       "      <td>978158471</td>\n",
       "      <td>One Flew Over the Cuckoo's Nest (1975)</td>\n",
       "      <td>Drama</td>\n",
       "    </tr>\n",
       "    <tr>\n",
       "      <th>...</th>\n",
       "      <td>...</td>\n",
       "      <td>...</td>\n",
       "      <td>...</td>\n",
       "      <td>...</td>\n",
       "      <td>...</td>\n",
       "      <td>...</td>\n",
       "    </tr>\n",
       "    <tr>\n",
       "      <th>836473</th>\n",
       "      <td>5851</td>\n",
       "      <td>3607</td>\n",
       "      <td>5</td>\n",
       "      <td>957756608</td>\n",
       "      <td>One Little Indian (1973)</td>\n",
       "      <td>Comedy|Drama|Western</td>\n",
       "    </tr>\n",
       "    <tr>\n",
       "      <th>836474</th>\n",
       "      <td>5854</td>\n",
       "      <td>3026</td>\n",
       "      <td>4</td>\n",
       "      <td>958346883</td>\n",
       "      <td>Slaughterhouse (1987)</td>\n",
       "      <td>Horror</td>\n",
       "    </tr>\n",
       "    <tr>\n",
       "      <th>836475</th>\n",
       "      <td>5854</td>\n",
       "      <td>690</td>\n",
       "      <td>3</td>\n",
       "      <td>957744257</td>\n",
       "      <td>Promise, The (Versprechen, Das) (1994)</td>\n",
       "      <td>Romance</td>\n",
       "    </tr>\n",
       "    <tr>\n",
       "      <th>836476</th>\n",
       "      <td>5938</td>\n",
       "      <td>2909</td>\n",
       "      <td>4</td>\n",
       "      <td>957273353</td>\n",
       "      <td>Five Wives, Three Secretaries and Me (1998)</td>\n",
       "      <td>Documentary</td>\n",
       "    </tr>\n",
       "    <tr>\n",
       "      <th>836477</th>\n",
       "      <td>5948</td>\n",
       "      <td>1360</td>\n",
       "      <td>5</td>\n",
       "      <td>1016563709</td>\n",
       "      <td>Identification of a Woman (Identificazione di ...</td>\n",
       "      <td>Drama</td>\n",
       "    </tr>\n",
       "  </tbody>\n",
       "</table>\n",
       "<p>836478 rows × 6 columns</p>\n",
       "</div>"
      ],
      "text/plain": [
       "        user_id  movie_id  count   timestamp  \\\n",
       "0             1      1193      5   978300760   \n",
       "1             2      1193      5   978298413   \n",
       "2            12      1193      4   978220179   \n",
       "3            15      1193      4   978199279   \n",
       "4            17      1193      5   978158471   \n",
       "...         ...       ...    ...         ...   \n",
       "836473     5851      3607      5   957756608   \n",
       "836474     5854      3026      4   958346883   \n",
       "836475     5854       690      3   957744257   \n",
       "836476     5938      2909      4   957273353   \n",
       "836477     5948      1360      5  1016563709   \n",
       "\n",
       "                                                    title  \\\n",
       "0                  One Flew Over the Cuckoo's Nest (1975)   \n",
       "1                  One Flew Over the Cuckoo's Nest (1975)   \n",
       "2                  One Flew Over the Cuckoo's Nest (1975)   \n",
       "3                  One Flew Over the Cuckoo's Nest (1975)   \n",
       "4                  One Flew Over the Cuckoo's Nest (1975)   \n",
       "...                                                   ...   \n",
       "836473                           One Little Indian (1973)   \n",
       "836474                              Slaughterhouse (1987)   \n",
       "836475             Promise, The (Versprechen, Das) (1994)   \n",
       "836476        Five Wives, Three Secretaries and Me (1998)   \n",
       "836477  Identification of a Woman (Identificazione di ...   \n",
       "\n",
       "                       genre  \n",
       "0                      Drama  \n",
       "1                      Drama  \n",
       "2                      Drama  \n",
       "3                      Drama  \n",
       "4                      Drama  \n",
       "...                      ...  \n",
       "836473  Comedy|Drama|Western  \n",
       "836474                Horror  \n",
       "836475               Romance  \n",
       "836476           Documentary  \n",
       "836477                 Drama  \n",
       "\n",
       "[836478 rows x 6 columns]"
      ]
     },
     "execution_count": 43,
     "metadata": {},
     "output_type": "execute_result"
    }
   ],
   "source": [
    "result"
   ]
  },
  {
   "cell_type": "code",
   "execution_count": 44,
   "metadata": {},
   "outputs": [
    {
     "data": {
      "text/plain": [
       "title\n",
       "American Beauty (1999)                                   3211\n",
       "Star Wars: Episode IV - A New Hope (1977)                2910\n",
       "Star Wars: Episode V - The Empire Strikes Back (1980)    2885\n",
       "Star Wars: Episode VI - Return of the Jedi (1983)        2716\n",
       "Saving Private Ryan (1998)                               2561\n",
       "Terminator 2: Judgment Day (1991)                        2509\n",
       "Silence of the Lambs, The (1991)                         2498\n",
       "Raiders of the Lost Ark (1981)                           2473\n",
       "Back to the Future (1985)                                2460\n",
       "Matrix, The (1999)                                       2434\n",
       "Jurassic Park (1993)                                     2413\n",
       "Sixth Sense, The (1999)                                  2385\n",
       "Fargo (1996)                                             2371\n",
       "Braveheart (1995)                                        2314\n",
       "Men in Black (1997)                                      2297\n",
       "Schindler's List (1993)                                  2257\n",
       "Princess Bride, The (1987)                               2252\n",
       "Shakespeare in Love (1998)                               2213\n",
       "L.A. Confidential (1997)                                 2210\n",
       "Shawshank Redemption, The (1994)                         2194\n",
       "Godfather, The (1972)                                    2167\n",
       "Groundhog Day (1993)                                     2121\n",
       "E.T. the Extra-Terrestrial (1982)                        2102\n",
       "Being John Malkovich (1999)                              2066\n",
       "Ghostbusters (1984)                                      2051\n",
       "Pulp Fiction (1994)                                      2030\n",
       "Forrest Gump (1994)                                      2022\n",
       "Terminator, The (1984)                                   2019\n",
       "Toy Story (1995)                                         2000\n",
       "Fugitive, The (1993)                                     1941\n",
       "Name: user_id, dtype: int64"
      ]
     },
     "execution_count": 44,
     "metadata": {},
     "output_type": "execute_result"
    }
   ],
   "source": [
    "result_count = result.groupby('title')['user_id'].count()\n",
    "result_count.sort_values(ascending=False).head(30)"
   ]
  },
  {
   "cell_type": "code",
   "execution_count": 45,
   "metadata": {},
   "outputs": [
    {
     "data": {
      "text/html": [
       "<div>\n",
       "<style scoped>\n",
       "    .dataframe tbody tr th:only-of-type {\n",
       "        vertical-align: middle;\n",
       "    }\n",
       "\n",
       "    .dataframe tbody tr th {\n",
       "        vertical-align: top;\n",
       "    }\n",
       "\n",
       "    .dataframe thead th {\n",
       "        text-align: right;\n",
       "    }\n",
       "</style>\n",
       "<table border=\"1\" class=\"dataframe\">\n",
       "  <thead>\n",
       "    <tr style=\"text-align: right;\">\n",
       "      <th></th>\n",
       "      <th>user_id</th>\n",
       "      <th>movie_id</th>\n",
       "      <th>count</th>\n",
       "      <th>timestamp</th>\n",
       "      <th>title</th>\n",
       "      <th>genre</th>\n",
       "    </tr>\n",
       "  </thead>\n",
       "  <tbody>\n",
       "    <tr>\n",
       "      <th>836473</th>\n",
       "      <td>5851</td>\n",
       "      <td>3607.0</td>\n",
       "      <td>5</td>\n",
       "      <td>9.577566e+08</td>\n",
       "      <td>One Little Indian (1973)</td>\n",
       "      <td>Comedy|Drama|Western</td>\n",
       "    </tr>\n",
       "    <tr>\n",
       "      <th>836474</th>\n",
       "      <td>5854</td>\n",
       "      <td>3026.0</td>\n",
       "      <td>4</td>\n",
       "      <td>9.583469e+08</td>\n",
       "      <td>Slaughterhouse (1987)</td>\n",
       "      <td>Horror</td>\n",
       "    </tr>\n",
       "    <tr>\n",
       "      <th>836475</th>\n",
       "      <td>5854</td>\n",
       "      <td>690.0</td>\n",
       "      <td>3</td>\n",
       "      <td>9.577443e+08</td>\n",
       "      <td>Promise, The (Versprechen, Das) (1994)</td>\n",
       "      <td>Romance</td>\n",
       "    </tr>\n",
       "    <tr>\n",
       "      <th>836476</th>\n",
       "      <td>5938</td>\n",
       "      <td>2909.0</td>\n",
       "      <td>4</td>\n",
       "      <td>9.572734e+08</td>\n",
       "      <td>Five Wives, Three Secretaries and Me (1998)</td>\n",
       "      <td>Documentary</td>\n",
       "    </tr>\n",
       "    <tr>\n",
       "      <th>836477</th>\n",
       "      <td>5948</td>\n",
       "      <td>1360.0</td>\n",
       "      <td>5</td>\n",
       "      <td>1.016564e+09</td>\n",
       "      <td>Identification of a Woman (Identificazione di ...</td>\n",
       "      <td>Drama</td>\n",
       "    </tr>\n",
       "    <tr>\n",
       "      <th>0</th>\n",
       "      <td>JS</td>\n",
       "      <td>NaN</td>\n",
       "      <td>5</td>\n",
       "      <td>NaN</td>\n",
       "      <td>Mad Max (1979)</td>\n",
       "      <td>NaN</td>\n",
       "    </tr>\n",
       "    <tr>\n",
       "      <th>1</th>\n",
       "      <td>JS</td>\n",
       "      <td>NaN</td>\n",
       "      <td>5</td>\n",
       "      <td>NaN</td>\n",
       "      <td>Home Alone (1990)</td>\n",
       "      <td>NaN</td>\n",
       "    </tr>\n",
       "    <tr>\n",
       "      <th>2</th>\n",
       "      <td>JS</td>\n",
       "      <td>NaN</td>\n",
       "      <td>5</td>\n",
       "      <td>NaN</td>\n",
       "      <td>Independence Day (ID4) (1996)</td>\n",
       "      <td>NaN</td>\n",
       "    </tr>\n",
       "    <tr>\n",
       "      <th>3</th>\n",
       "      <td>JS</td>\n",
       "      <td>NaN</td>\n",
       "      <td>5</td>\n",
       "      <td>NaN</td>\n",
       "      <td>Star Trek IV: The Voyage Home (1986)</td>\n",
       "      <td>NaN</td>\n",
       "    </tr>\n",
       "    <tr>\n",
       "      <th>4</th>\n",
       "      <td>JS</td>\n",
       "      <td>NaN</td>\n",
       "      <td>5</td>\n",
       "      <td>NaN</td>\n",
       "      <td>Star Wars: Episode VI - Return of the Jedi (1983)</td>\n",
       "      <td>NaN</td>\n",
       "    </tr>\n",
       "  </tbody>\n",
       "</table>\n",
       "</div>"
      ],
      "text/plain": [
       "       user_id  movie_id  count     timestamp  \\\n",
       "836473    5851    3607.0      5  9.577566e+08   \n",
       "836474    5854    3026.0      4  9.583469e+08   \n",
       "836475    5854     690.0      3  9.577443e+08   \n",
       "836476    5938    2909.0      4  9.572734e+08   \n",
       "836477    5948    1360.0      5  1.016564e+09   \n",
       "0           JS       NaN      5           NaN   \n",
       "1           JS       NaN      5           NaN   \n",
       "2           JS       NaN      5           NaN   \n",
       "3           JS       NaN      5           NaN   \n",
       "4           JS       NaN      5           NaN   \n",
       "\n",
       "                                                    title  \\\n",
       "836473                           One Little Indian (1973)   \n",
       "836474                              Slaughterhouse (1987)   \n",
       "836475             Promise, The (Versprechen, Das) (1994)   \n",
       "836476        Five Wives, Three Secretaries and Me (1998)   \n",
       "836477  Identification of a Woman (Identificazione di ...   \n",
       "0                                          Mad Max (1979)   \n",
       "1                                       Home Alone (1990)   \n",
       "2                           Independence Day (ID4) (1996)   \n",
       "3                    Star Trek IV: The Voyage Home (1986)   \n",
       "4       Star Wars: Episode VI - Return of the Jedi (1983)   \n",
       "\n",
       "                       genre  \n",
       "836473  Comedy|Drama|Western  \n",
       "836474                Horror  \n",
       "836475               Romance  \n",
       "836476           Documentary  \n",
       "836477                 Drama  \n",
       "0                        NaN  \n",
       "1                        NaN  \n",
       "2                        NaN  \n",
       "3                        NaN  \n",
       "4                        NaN  "
      ]
     },
     "execution_count": 45,
     "metadata": {},
     "output_type": "execute_result"
    }
   ],
   "source": [
    "# 추천시스템을 위해서 처음에 제공하는 내 취향 관련 정보\n",
    "# 본인이 좋아하시는 아티스트 데이터로 바꿔서 추가하셔도 됩니다! 단, 이름은 꼭 데이터셋에 있는 것과 동일하게 맞춰주세요. \n",
    "my_favorite = ['Mad Max (1979)' , 'Home Alone (1990)' ,'Independence Day (ID4) (1996)' ,'Star Trek IV: The Voyage Home (1986)' ,'Star Wars: Episode VI - Return of the Jedi (1983)']\n",
    "\n",
    "# 'zimin'이라는 user_id가 위 아티스트의 노래를 30회씩 들었다고 가정하겠습니다.\n",
    "my_playlist = pd.DataFrame({'user_id': ['JS']*5, 'title': my_favorite, 'count':[5]*5})\n",
    "\n",
    "if not result.isin({'user_id':['JS']})['user_id'].any():  # user_id에 'zimin'이라는 데이터가 없다면\n",
    "    result = result.append(my_playlist)                   # 위에 임의로 만든 my_favorite 데이터를 추가해 줍니다. \n",
    "\n",
    "result.tail(10)       # 잘 추가되었는지 확인해 봅시다."
   ]
  },
  {
   "cell_type": "code",
   "execution_count": 46,
   "metadata": {},
   "outputs": [],
   "source": [
    "# pandas.DataFrame.unique()는 유니크한 데이터만 모아준다.\n",
    "# 데이터 관리를 위해서 user, artist에 각각 번호를 붙인다(indexing)\n",
    "# 고유한 유저, 아티스트를 찾아내는 코드\n",
    "user_unique = result['user_id'].unique()\n",
    "title_unique = result['title'].unique()\n",
    "\n",
    "# 유저, 아티스트 indexing 하는 코드 idx는 index의 약자입니다.\n",
    "user_to_idx = {v:k for k,v in enumerate(user_unique)}\n",
    "title_to_idx = {v:k for k,v in enumerate(title_unique)}"
   ]
  },
  {
   "cell_type": "code",
   "execution_count": 47,
   "metadata": {},
   "outputs": [
    {
     "name": "stdout",
     "output_type": "stream",
     "text": [
      "6039\n",
      "507\n"
     ]
    }
   ],
   "source": [
    "# 인덱싱이 잘 되었는지 확인해 봅니다. \n",
    "print(user_to_idx['JS'])    # 358869명의 유저 중 마지막으로 추가된 유저이니 358868이 나와야 합니다. \n",
    "print(title_to_idx['Home Alone (1990)'])"
   ]
  },
  {
   "cell_type": "code",
   "execution_count": 48,
   "metadata": {},
   "outputs": [
    {
     "name": "stdout",
     "output_type": "stream",
     "text": [
      "user_id column indexing OK!!\n",
      "title column indexing OK!!\n"
     ]
    },
    {
     "data": {
      "text/html": [
       "<div>\n",
       "<style scoped>\n",
       "    .dataframe tbody tr th:only-of-type {\n",
       "        vertical-align: middle;\n",
       "    }\n",
       "\n",
       "    .dataframe tbody tr th {\n",
       "        vertical-align: top;\n",
       "    }\n",
       "\n",
       "    .dataframe thead th {\n",
       "        text-align: right;\n",
       "    }\n",
       "</style>\n",
       "<table border=\"1\" class=\"dataframe\">\n",
       "  <thead>\n",
       "    <tr style=\"text-align: right;\">\n",
       "      <th></th>\n",
       "      <th>user_id</th>\n",
       "      <th>movie_id</th>\n",
       "      <th>count</th>\n",
       "      <th>timestamp</th>\n",
       "      <th>title</th>\n",
       "      <th>genre</th>\n",
       "    </tr>\n",
       "  </thead>\n",
       "  <tbody>\n",
       "    <tr>\n",
       "      <th>0</th>\n",
       "      <td>0</td>\n",
       "      <td>1193.0</td>\n",
       "      <td>5</td>\n",
       "      <td>978300760.0</td>\n",
       "      <td>0</td>\n",
       "      <td>Drama</td>\n",
       "    </tr>\n",
       "    <tr>\n",
       "      <th>1</th>\n",
       "      <td>1</td>\n",
       "      <td>1193.0</td>\n",
       "      <td>5</td>\n",
       "      <td>978298413.0</td>\n",
       "      <td>0</td>\n",
       "      <td>Drama</td>\n",
       "    </tr>\n",
       "    <tr>\n",
       "      <th>2</th>\n",
       "      <td>2</td>\n",
       "      <td>1193.0</td>\n",
       "      <td>4</td>\n",
       "      <td>978220179.0</td>\n",
       "      <td>0</td>\n",
       "      <td>Drama</td>\n",
       "    </tr>\n",
       "    <tr>\n",
       "      <th>3</th>\n",
       "      <td>3</td>\n",
       "      <td>1193.0</td>\n",
       "      <td>4</td>\n",
       "      <td>978199279.0</td>\n",
       "      <td>0</td>\n",
       "      <td>Drama</td>\n",
       "    </tr>\n",
       "    <tr>\n",
       "      <th>4</th>\n",
       "      <td>4</td>\n",
       "      <td>1193.0</td>\n",
       "      <td>5</td>\n",
       "      <td>978158471.0</td>\n",
       "      <td>0</td>\n",
       "      <td>Drama</td>\n",
       "    </tr>\n",
       "    <tr>\n",
       "      <th>...</th>\n",
       "      <td>...</td>\n",
       "      <td>...</td>\n",
       "      <td>...</td>\n",
       "      <td>...</td>\n",
       "      <td>...</td>\n",
       "      <td>...</td>\n",
       "    </tr>\n",
       "    <tr>\n",
       "      <th>0</th>\n",
       "      <td>6039</td>\n",
       "      <td>NaN</td>\n",
       "      <td>5</td>\n",
       "      <td>NaN</td>\n",
       "      <td>195</td>\n",
       "      <td>NaN</td>\n",
       "    </tr>\n",
       "    <tr>\n",
       "      <th>1</th>\n",
       "      <td>6039</td>\n",
       "      <td>NaN</td>\n",
       "      <td>5</td>\n",
       "      <td>NaN</td>\n",
       "      <td>507</td>\n",
       "      <td>NaN</td>\n",
       "    </tr>\n",
       "    <tr>\n",
       "      <th>2</th>\n",
       "      <td>6039</td>\n",
       "      <td>NaN</td>\n",
       "      <td>5</td>\n",
       "      <td>NaN</td>\n",
       "      <td>150</td>\n",
       "      <td>NaN</td>\n",
       "    </tr>\n",
       "    <tr>\n",
       "      <th>3</th>\n",
       "      <td>6039</td>\n",
       "      <td>NaN</td>\n",
       "      <td>5</td>\n",
       "      <td>NaN</td>\n",
       "      <td>586</td>\n",
       "      <td>NaN</td>\n",
       "    </tr>\n",
       "    <tr>\n",
       "      <th>4</th>\n",
       "      <td>6039</td>\n",
       "      <td>NaN</td>\n",
       "      <td>5</td>\n",
       "      <td>NaN</td>\n",
       "      <td>64</td>\n",
       "      <td>NaN</td>\n",
       "    </tr>\n",
       "  </tbody>\n",
       "</table>\n",
       "<p>836483 rows × 6 columns</p>\n",
       "</div>"
      ],
      "text/plain": [
       "    user_id  movie_id  count    timestamp  title  genre\n",
       "0         0    1193.0      5  978300760.0      0  Drama\n",
       "1         1    1193.0      5  978298413.0      0  Drama\n",
       "2         2    1193.0      4  978220179.0      0  Drama\n",
       "3         3    1193.0      4  978199279.0      0  Drama\n",
       "4         4    1193.0      5  978158471.0      0  Drama\n",
       "..      ...       ...    ...          ...    ...    ...\n",
       "0      6039       NaN      5          NaN    195    NaN\n",
       "1      6039       NaN      5          NaN    507    NaN\n",
       "2      6039       NaN      5          NaN    150    NaN\n",
       "3      6039       NaN      5          NaN    586    NaN\n",
       "4      6039       NaN      5          NaN     64    NaN\n",
       "\n",
       "[836483 rows x 6 columns]"
      ]
     },
     "execution_count": 48,
     "metadata": {},
     "output_type": "execute_result"
    }
   ],
   "source": [
    "temp_user_data = result['user_id'].map(user_to_idx.get).dropna()\n",
    "if len(temp_user_data) == len(result):   # 모든 row가 정상적으로 인덱싱되었다면\n",
    "    print('user_id column indexing OK!!')\n",
    "    result['user_id'] = temp_user_data   # data['user_id']을 인덱싱된 Series로 교체해 줍니다. \n",
    "else:\n",
    "    print('user_id column indexing Fail!!')\n",
    "\n",
    "# artist_to_idx을 통해 artist 컬럼도 동일한 방식으로 인덱싱해 줍니다. \n",
    "temp_title_data = result['title'].map(title_to_idx.get).dropna()\n",
    "if len(temp_title_data) == len(result):\n",
    "    print('title column indexing OK!!')\n",
    "    result['title'] = temp_title_data\n",
    "else:\n",
    "    print('title column indexing Fail!!')\n",
    "\n",
    "result"
   ]
  },
  {
   "cell_type": "code",
   "execution_count": 49,
   "metadata": {},
   "outputs": [
    {
     "name": "stdout",
     "output_type": "stream",
     "text": [
      "0,836483\n",
      "Ratio of only_one over all data is 0.00%\n"
     ]
    }
   ],
   "source": [
    "# 또한 유저가 3점 미만으로 준 데이터는 선호하지 않는다고 가정하고 제외하겠습니다.\n",
    "preference = result[result['count']<3]\n",
    "one, all_data = len(preference), len(result)\n",
    "print(f'{one},{all_data}')\n",
    "print(f'Ratio of only_one over all data is {one/all_data:.2%}')  # f-format에 대한 설명은 https://bit.ly/2DTLqYU"
   ]
  },
  {
   "cell_type": "code",
   "execution_count": 50,
   "metadata": {},
   "outputs": [
    {
     "data": {
      "text/plain": [
       "836483"
      ]
     },
     "execution_count": 50,
     "metadata": {},
     "output_type": "execute_result"
    }
   ],
   "source": [
    "len(result.user_id)"
   ]
  },
  {
   "cell_type": "code",
   "execution_count": 51,
   "metadata": {},
   "outputs": [
    {
     "data": {
      "text/plain": [
       "836483"
      ]
     },
     "execution_count": 51,
     "metadata": {},
     "output_type": "execute_result"
    }
   ],
   "source": [
    "len(result.title)"
   ]
  },
  {
   "cell_type": "code",
   "execution_count": 52,
   "metadata": {},
   "outputs": [
    {
     "data": {
      "text/plain": [
       "836483"
      ]
     },
     "execution_count": 52,
     "metadata": {},
     "output_type": "execute_result"
    }
   ],
   "source": [
    "len(result['count'])"
   ]
  },
  {
   "cell_type": "code",
   "execution_count": 53,
   "metadata": {},
   "outputs": [
    {
     "data": {
      "text/plain": [
       "<6040x3628 sparse matrix of type '<class 'numpy.int64'>'\n",
       "\twith 836483 stored elements in Compressed Sparse Row format>"
      ]
     },
     "execution_count": 53,
     "metadata": {},
     "output_type": "execute_result"
    }
   ],
   "source": [
    "from scipy.sparse import csr_matrix\n",
    "\n",
    "num_user = result['user_id'].nunique()\n",
    "num_movie = result['title'].nunique()\n",
    "\n",
    "csr_data = csr_matrix((result['count'], (result.user_id, result.title)), shape= (num_user, num_movie))\n",
    "csr_data"
   ]
  },
  {
   "cell_type": "code",
   "execution_count": 54,
   "metadata": {},
   "outputs": [],
   "source": [
    "from implicit.als import AlternatingLeastSquares # alternatingleastsquares는 쪼개진 두 feature matrix중 한쪽을 고정하고,다른 쪽을 학습시키는 방식을 번갈아 가며 진행하는 방식. 효과적이다!\n",
    "import os\n",
    "import numpy as np\n",
    "\n",
    "# implicit 라이브러리에서 권장하고 있는 부분입니다. 학습 내용과는 무관합니다.\n",
    "os.environ['OPENBLAS_NUM_THREADS']='1'\n",
    "os.environ['KMP_DUPLICATE_LIB_OK']='True'\n",
    "os.environ['MKL_NUM_THREADS']='1'"
   ]
  },
  {
   "cell_type": "code",
   "execution_count": 55,
   "metadata": {},
   "outputs": [],
   "source": [
    "# Implicit AlternatingLeastSquares 모델의 선언.\n",
    "# factor: 유저와 아이템의 벡터 차원수, regularization: 과적합 방지를 위한 정규화 값, use_gpu: GPU사용여부, iterations: epoch와 같다(몇 번 박복해서 학습할지), factor와 iteration을 늘릴 수록 학습데이터 학습률은 좋아지지만, 그만큼 과적합 우려 존재.\n",
    "als_model = AlternatingLeastSquares(factors=500, regularization=0.01, use_gpu=False, iterations=20, dtype=np.float32)"
   ]
  },
  {
   "cell_type": "code",
   "execution_count": 56,
   "metadata": {},
   "outputs": [
    {
     "data": {
      "text/plain": [
       "<3628x6040 sparse matrix of type '<class 'numpy.int64'>'\n",
       "\twith 836483 stored elements in Compressed Sparse Column format>"
      ]
     },
     "execution_count": 56,
     "metadata": {},
     "output_type": "execute_result"
    }
   ],
   "source": [
    "# als 모델은 input으로 (item X user 꼴의 matrix를 받기 때문에 Transpose해줍니다.)\n",
    "csr_data_transpose = csr_data.T\n",
    "csr_data_transpose"
   ]
  },
  {
   "cell_type": "code",
   "execution_count": 57,
   "metadata": {},
   "outputs": [
    {
     "data": {
      "application/vnd.jupyter.widget-view+json": {
       "model_id": "a368d72d075d4728b3edd622a37ac30e",
       "version_major": 2,
       "version_minor": 0
      },
      "text/plain": [
       "  0%|          | 0/20 [00:00<?, ?it/s]"
      ]
     },
     "metadata": {},
     "output_type": "display_data"
    }
   ],
   "source": [
    "# 모델 훈련\n",
    "als_model.fit(csr_data_transpose)"
   ]
  },
  {
   "cell_type": "code",
   "execution_count": 58,
   "metadata": {},
   "outputs": [
    {
     "name": "stdout",
     "output_type": "stream",
     "text": [
      "슝=3\n"
     ]
    }
   ],
   "source": [
    "js, home_alone = user_to_idx['JS'], title_to_idx['Home Alone (1990)']\n",
    "js_vector, home_alone_vector = als_model.user_factors[js], als_model.item_factors[home_alone]\n",
    "\n",
    "print('슝=3')"
   ]
  },
  {
   "cell_type": "code",
   "execution_count": 59,
   "metadata": {},
   "outputs": [
    {
     "data": {
      "text/plain": [
       "array([ 2.39054725e-01,  8.91293213e-02, -5.24987161e-01, -3.56132053e-02,\n",
       "       -1.45682115e-02, -2.06812382e-01,  2.83326805e-01,  2.55544409e-02,\n",
       "       -5.11224389e-01,  4.41278964e-01, -2.75830895e-01, -4.52444285e-01,\n",
       "       -3.16361129e-01,  2.24397495e-01,  1.31147519e-01,  5.33672988e-01,\n",
       "       -1.14531130e-01, -1.45131409e-01,  3.69181298e-02,  3.44875604e-02,\n",
       "        2.55839497e-01,  4.84947950e-01, -4.28807214e-02,  1.33079365e-01,\n",
       "        2.35516459e-01,  7.53400698e-02, -3.82864289e-02, -7.83209950e-02,\n",
       "       -1.77477002e-01, -3.93802345e-01, -2.31325671e-01, -4.24758643e-01,\n",
       "       -2.34458864e-01,  4.19669636e-02, -3.20559114e-01,  5.93183376e-02,\n",
       "        2.68388540e-01, -2.57790655e-01, -3.50122213e-01,  4.08498585e-01,\n",
       "       -1.78134531e-01, -1.86972305e-01, -8.46251070e-01,  2.36235395e-01,\n",
       "       -1.09540083e-01, -1.54586658e-02,  6.82047844e-01,  3.21531594e-01,\n",
       "       -3.75235498e-01, -3.21376920e-01, -2.17718005e-01, -5.82178868e-02,\n",
       "       -5.87928116e-01,  2.03770667e-01,  5.68188071e-01,  3.11448991e-01,\n",
       "       -6.95667684e-01,  3.81170288e-02, -3.01231056e-01,  1.61188766e-01,\n",
       "        4.07668985e-02,  3.38584691e-01, -1.04229055e-01,  1.14440814e-01,\n",
       "        1.51837230e-01,  9.88922715e-02, -6.66308925e-02,  2.96494484e-01,\n",
       "        5.77870369e-01, -1.45465672e-01, -2.50553459e-01, -2.68550783e-01,\n",
       "       -8.84521082e-02, -6.40492737e-02, -4.68210518e-01, -5.13907731e-01,\n",
       "        1.52816966e-01,  8.89632627e-02,  2.71107733e-01, -6.77839696e-01,\n",
       "       -8.47548917e-02, -4.09467844e-03,  5.95518231e-01, -1.21957839e-01,\n",
       "       -3.66461068e-01, -5.85653223e-02,  2.33202979e-01,  2.07319185e-01,\n",
       "        1.88623384e-01, -3.19888473e-01, -2.74562776e-01,  2.85167038e-01,\n",
       "       -3.17723960e-01,  1.87491804e-01,  2.34948993e-01, -6.29822671e-01,\n",
       "        2.67882466e-01,  1.52874693e-01, -3.47134322e-02, -1.35278985e-01,\n",
       "       -2.76260134e-02, -6.21524930e-01,  2.64737338e-01, -2.00950861e-01,\n",
       "        3.89063179e-01, -4.79555205e-02, -2.41263449e-01, -1.18681610e-01,\n",
       "        9.76117253e-02, -5.26269898e-02,  5.30340821e-02,  4.57898259e-01,\n",
       "       -3.24844599e-01, -1.80896968e-01,  3.01459551e-01, -6.08804882e-01,\n",
       "        3.96657854e-01, -3.95705491e-01, -1.83525205e-01, -1.79136738e-01,\n",
       "        2.01694489e-01,  2.33631909e-01, -3.52260441e-01,  2.19157916e-02,\n",
       "        2.71821856e-01, -2.22122654e-01,  4.29072350e-01, -1.32218167e-01,\n",
       "       -1.65634125e-01,  2.15348154e-02, -9.87453982e-02,  1.82612374e-01,\n",
       "       -1.71143949e-01, -4.32555288e-01,  2.20644727e-01,  8.12897742e-01,\n",
       "       -2.10390389e-01, -3.44127089e-01, -9.76610422e-01, -6.73184320e-02,\n",
       "       -7.12853670e-02, -5.76426759e-02, -2.84072846e-01,  2.34757122e-02,\n",
       "       -4.08143252e-01, -4.74269599e-01, -6.01885049e-03,  9.28067416e-02,\n",
       "        1.13920525e-01,  4.20672774e-01, -1.09291896e-01, -2.14924559e-01,\n",
       "        4.19682115e-01,  2.23348692e-01,  3.97784591e-01,  2.79750407e-01,\n",
       "        4.96550083e-01,  1.82659402e-01,  2.48928025e-01, -2.58287668e-01,\n",
       "       -6.98798597e-02,  3.90758425e-01, -1.51921585e-01, -2.45187908e-01,\n",
       "        2.72855368e-02, -3.75898123e-01,  3.32909763e-01,  1.22331657e-01,\n",
       "       -1.08647734e-01,  5.13995767e-01, -1.79223139e-02, -2.31696695e-01,\n",
       "       -3.27516556e-01, -4.10890847e-01, -3.53426516e-01, -3.38711858e-01,\n",
       "        2.91859448e-01, -1.64035276e-01, -4.27678347e-01,  4.05912995e-01,\n",
       "        3.32828790e-01,  3.84153605e-01,  3.24156404e-01,  1.73059646e-02,\n",
       "        4.23419505e-01,  3.02684363e-02, -3.42226654e-01,  2.47198060e-01,\n",
       "       -2.84755349e-01, -5.14323294e-01, -2.75537729e-01,  4.60480422e-01,\n",
       "        6.28011078e-02, -3.24571542e-02, -1.14787713e-01, -9.39877629e-02,\n",
       "        2.57738978e-01, -1.49611562e-01,  2.45023862e-01, -6.59279823e-02,\n",
       "        3.31672817e-01, -4.58124839e-02, -2.81468242e-01,  5.14712512e-01,\n",
       "       -5.79977870e-01, -2.20275342e-01, -1.78460121e-01, -7.37857759e-01,\n",
       "        1.63665041e-01,  3.42812799e-02, -2.70174772e-01,  2.97989070e-01,\n",
       "       -5.21255314e-01,  2.99439393e-02, -3.93166125e-01, -6.43115789e-02,\n",
       "       -2.48136684e-01, -6.78958446e-02,  3.46592277e-01,  1.56158805e-01,\n",
       "        4.49474126e-01, -1.15625359e-01, -5.31102121e-02, -1.78344131e-01,\n",
       "       -5.69033735e-02, -2.10579932e-01,  2.90185660e-01, -1.22490019e-01,\n",
       "       -1.31938428e-01,  3.74256551e-01, -2.01791301e-01, -1.19178079e-01,\n",
       "       -1.09302968e-01,  1.80053785e-01, -4.53744292e-01, -3.56079847e-01,\n",
       "        5.28616190e-01, -3.57158124e-01, -3.50612581e-01, -7.42370903e-01,\n",
       "       -7.72260725e-01,  2.11319085e-02,  4.83216345e-01, -1.42803013e-01,\n",
       "       -3.48583609e-02, -5.16499131e-05,  1.36923701e-01, -3.31948310e-01,\n",
       "       -1.43544242e-01,  1.55249059e-01, -6.41531870e-02, -1.05784021e-01,\n",
       "       -1.11190036e-01,  6.67578354e-02,  4.26724702e-02, -5.97694963e-02,\n",
       "        1.67443827e-01, -5.23673773e-01, -6.95388198e-01, -8.07989761e-02,\n",
       "        7.06052408e-02,  3.67551111e-02,  1.93499893e-01, -3.29019994e-01,\n",
       "       -2.15860248e-01,  3.77688915e-01,  1.32613108e-01, -2.31463537e-01,\n",
       "       -1.79822803e-01, -3.27875972e-01,  6.53005958e-01,  2.23002106e-01,\n",
       "       -1.72316015e-01,  3.65135521e-02, -2.20800191e-01,  2.91197032e-01,\n",
       "       -6.12385273e-01, -4.21323568e-01,  5.96889555e-01, -1.90608680e-01,\n",
       "        8.51999447e-02, -9.13298056e-02, -3.32618117e-01,  2.12289780e-01,\n",
       "       -1.02990614e-02,  5.13382889e-02, -1.65254965e-01,  6.94339812e-01,\n",
       "        2.03930646e-01, -4.00523603e-01,  2.43402109e-01,  2.07147464e-01,\n",
       "       -4.43947464e-01,  2.19901562e-01,  3.19088787e-01,  1.76089704e-01,\n",
       "       -6.36356920e-02, -4.01318893e-02,  1.26271710e-01, -3.10179263e-01,\n",
       "        1.78538382e-01, -1.79560930e-01,  2.69557163e-02, -2.21301571e-01,\n",
       "       -2.47236580e-01,  3.34264264e-02,  7.78803136e-03,  3.78445953e-01,\n",
       "        3.78053278e-01,  4.99404557e-02, -9.88501534e-02, -1.15081459e-01,\n",
       "       -6.09169662e-01,  1.16029412e-01, -9.64968055e-02, -2.40804553e-01,\n",
       "        6.59745932e-01,  3.88544835e-02, -3.19062136e-02,  3.33462119e-01,\n",
       "        8.97404701e-02,  4.03008729e-01,  5.32661863e-02, -5.33674717e-01,\n",
       "       -6.91788793e-02,  3.36443000e-02,  6.13545120e-01, -5.70815325e-01,\n",
       "        5.66962920e-02,  2.01906309e-01,  4.38541114e-01,  1.25528067e-01,\n",
       "        8.97297859e-02,  1.99158117e-01,  1.16104230e-01,  2.95684010e-01,\n",
       "        3.63265276e-01,  2.16788389e-02, -2.62457162e-01,  6.00443482e-01,\n",
       "       -6.44415990e-03,  3.45870525e-01, -2.23954156e-01,  4.09811065e-02,\n",
       "        1.98192060e-01,  2.79953510e-01,  3.23302209e-01, -6.92338217e-03,\n",
       "       -1.96016416e-01,  4.38996777e-02, -1.16829701e-01,  6.35404512e-02,\n",
       "        1.36201754e-01, -3.01704228e-01,  7.45318532e-01, -3.44922423e-01,\n",
       "        1.20081037e-01,  1.64907917e-01,  3.22038867e-03,  7.18021929e-01,\n",
       "       -2.71527469e-01,  4.21632886e-01,  7.43787169e-01,  4.87951636e-01,\n",
       "       -2.73433357e-01,  2.18455717e-01, -7.05217719e-02, -1.23879872e-01,\n",
       "       -3.54211301e-01,  2.57157646e-02, -1.28601894e-01,  1.76344514e-01,\n",
       "       -4.76101078e-02, -1.18588611e-01, -4.40497458e-01, -2.65424084e-02,\n",
       "       -4.37887013e-02,  5.50517533e-03, -1.53146937e-01, -6.35785460e-02,\n",
       "       -1.32918775e-01, -1.53617769e-01, -1.54591739e-01,  2.17003897e-01,\n",
       "       -2.29696319e-01, -4.00190130e-02,  5.58137000e-01,  6.42836511e-01,\n",
       "        4.63598281e-01,  3.89329791e-01,  2.04922378e-01, -1.33856714e-01,\n",
       "        2.67515987e-01, -1.08830467e-01,  2.37175137e-01, -6.79080486e-02,\n",
       "       -2.01930061e-01, -3.25041056e-01, -3.94383937e-01,  4.94289935e-01,\n",
       "       -1.17633902e-01,  1.08730190e-01, -2.64047999e-02, -3.74162942e-02,\n",
       "        2.68922299e-01,  5.01768887e-01, -2.88064480e-02,  1.38047606e-01,\n",
       "       -5.24751365e-01, -8.22090209e-02,  5.23239315e-01,  1.20883182e-01,\n",
       "       -2.19194576e-01,  3.15928549e-01, -1.43451272e-02, -6.27876759e-01,\n",
       "       -2.48475567e-01,  1.46978304e-01,  3.56864125e-01, -6.74452633e-02,\n",
       "        7.35886991e-01,  4.86249745e-01,  7.89234936e-02, -1.26921535e-01,\n",
       "       -4.90357280e-01,  5.36631227e-01,  6.34873569e-01,  9.16392133e-02,\n",
       "        1.65162951e-01,  1.24154218e-01,  6.66660726e-01, -1.99042149e-02,\n",
       "       -4.49883670e-01,  2.38671303e-01,  3.34474863e-03,  4.04438935e-02,\n",
       "       -2.11053208e-01,  4.79633152e-01, -1.25338599e-01, -9.82630253e-02,\n",
       "        4.58312213e-01, -5.11032462e-01, -8.54946226e-02,  1.15997054e-01,\n",
       "       -1.33165747e-01,  5.67394912e-01,  2.95699775e-01, -4.36373241e-02,\n",
       "       -2.46161744e-01,  1.27300620e-01,  1.64993957e-01,  6.12516701e-02,\n",
       "       -1.12001397e-01,  1.64081767e-01,  1.66503310e-01, -2.56692708e-01,\n",
       "        3.95957232e-01, -3.45833153e-02, -4.05552447e-01, -2.96750993e-01,\n",
       "       -8.97999182e-02,  6.49855956e-02,  2.00745657e-01,  1.15000606e-01,\n",
       "        2.81038851e-01,  3.59878838e-01, -2.53667057e-01,  1.74914896e-01,\n",
       "        2.72798121e-01, -4.38371211e-01,  4.65402424e-01,  6.44385159e-01,\n",
       "       -2.00915724e-01, -1.90462068e-01, -1.47387147e-01, -2.29703516e-01,\n",
       "        1.44282296e-01, -1.41961321e-01,  1.49369866e-01, -2.65645176e-01,\n",
       "       -1.23916715e-01, -6.14505867e-03, -4.12514389e-01, -1.37886079e-02,\n",
       "        1.37430400e-01,  2.29641702e-03, -9.21087265e-02,  1.85956419e-01,\n",
       "       -1.78853601e-01,  1.66425705e-01,  1.93789586e-01, -3.17205161e-01,\n",
       "       -2.90259480e-01, -4.26978678e-01,  2.84430951e-01,  8.50035772e-02,\n",
       "        2.18857884e-01, -2.01690808e-01,  1.36267871e-01,  3.80283862e-01],\n",
       "      dtype=float32)"
      ]
     },
     "execution_count": 59,
     "metadata": {},
     "output_type": "execute_result"
    }
   ],
   "source": [
    "js_vector"
   ]
  },
  {
   "cell_type": "code",
   "execution_count": 60,
   "metadata": {},
   "outputs": [
    {
     "data": {
      "text/plain": [
       "array([ 3.63052404e-03, -6.22029370e-03, -9.42978635e-03, -1.48641784e-03,\n",
       "        7.58195482e-03, -6.33301167e-03,  2.42958330e-02,  4.87150159e-03,\n",
       "        2.43469724e-03,  1.12893973e-02, -3.36474250e-03, -9.39304195e-03,\n",
       "        7.01397378e-03,  1.20767616e-02,  9.53596458e-03,  1.63661279e-02,\n",
       "       -1.39297277e-03,  1.57813001e-02, -2.01142393e-03,  9.59295779e-03,\n",
       "        1.33883012e-02,  1.46020213e-02,  1.20517649e-02,  7.85794482e-03,\n",
       "        1.08494069e-02,  6.27659541e-03,  7.68698100e-03,  7.02954829e-04,\n",
       "        1.08848261e-02,  2.56505935e-03,  1.03861941e-02,  1.13514659e-03,\n",
       "        7.00027263e-03, -4.48210817e-03,  3.60022136e-03,  1.30830957e-02,\n",
       "        8.10138695e-03,  5.30545227e-03, -9.74257477e-03,  7.27127190e-04,\n",
       "        1.24959750e-02,  1.30290363e-03, -6.40621921e-03, -1.30624529e-02,\n",
       "        4.42196848e-03,  2.27025407e-03,  1.33341933e-02,  3.59583250e-03,\n",
       "       -1.30369049e-03, -1.39519470e-02,  3.36051360e-03,  1.73210744e-02,\n",
       "       -1.45032082e-03,  7.28313904e-03,  1.26033835e-02,  1.00357840e-02,\n",
       "        2.95743742e-03,  5.41558815e-03,  7.67810410e-03, -5.88075258e-03,\n",
       "       -2.06731353e-03,  5.79643995e-03,  5.89632662e-03, -1.14308540e-02,\n",
       "        1.51936952e-02, -5.82688442e-03, -2.87578092e-03,  1.57965071e-04,\n",
       "        8.42012186e-03,  4.15139040e-03,  1.75192277e-03, -8.16886406e-03,\n",
       "        9.72485449e-03,  2.85310131e-02,  1.13318125e-02, -6.22262061e-03,\n",
       "        1.47137921e-02,  1.86713096e-02,  1.74824037e-02, -1.13259004e-02,\n",
       "       -1.30833744e-03,  1.50023885e-02,  2.46689878e-02,  5.49663696e-03,\n",
       "       -8.48806649e-03,  9.26333666e-03,  8.70696642e-03,  1.17878243e-02,\n",
       "        8.91958177e-03, -1.30406450e-02, -8.84478725e-03,  1.74468756e-02,\n",
       "       -1.07819491e-04, -1.92440243e-03,  1.15019651e-02, -2.01979559e-02,\n",
       "       -2.87426123e-03,  2.05150452e-02, -1.05364509e-02,  3.38090374e-03,\n",
       "       -6.85104867e-03,  5.31135360e-03,  1.07012270e-02, -2.15126481e-03,\n",
       "        1.50729511e-02,  8.33496545e-03, -8.17599986e-03, -7.15569477e-04,\n",
       "        1.50408233e-02,  7.19239283e-03,  4.08519013e-03,  1.57173648e-02,\n",
       "        5.38891647e-04,  2.22819746e-02,  1.36167067e-03, -4.60609142e-03,\n",
       "        1.80966221e-03, -1.42568089e-02,  3.55050433e-03, -3.18040693e-05,\n",
       "        4.36117686e-03,  1.44217992e-02, -2.84698396e-03,  4.09818720e-03,\n",
       "        4.13365150e-03,  1.26023451e-02,  1.44058159e-02, -3.79860005e-03,\n",
       "        1.96648557e-02,  2.44633406e-02,  1.07455077e-02,  2.17804778e-02,\n",
       "       -1.11320382e-03, -5.03986375e-03, -2.56943936e-03,  2.21983753e-02,\n",
       "        2.17193807e-03, -9.80733987e-03, -4.77440236e-03,  1.50250094e-02,\n",
       "        1.24640791e-02, -1.31067133e-03, -1.02489889e-02,  8.72223452e-03,\n",
       "       -1.41625199e-03,  6.44977437e-04,  7.20914081e-03,  1.16336427e-03,\n",
       "       -1.43610416e-02,  1.65850366e-03,  1.28851077e-02,  1.89580163e-03,\n",
       "        1.47018619e-02,  2.54110917e-02,  5.44255180e-03,  9.75890551e-03,\n",
       "        5.22609893e-03,  1.26046138e-02,  1.01824170e-02,  1.42056858e-02,\n",
       "        3.39890132e-03,  1.89874843e-02, -2.18165829e-03, -7.55797094e-03,\n",
       "        4.27354709e-04, -6.85465056e-03,  5.70820365e-03,  4.93935775e-03,\n",
       "       -1.83478987e-03,  8.78286548e-03, -5.85942809e-03,  3.06004891e-03,\n",
       "        1.55460276e-03,  3.74312885e-03, -5.01178252e-03, -1.10463472e-02,\n",
       "        3.09089981e-02,  6.78499788e-03,  5.66876959e-03,  1.96273495e-02,\n",
       "       -1.46704260e-03,  7.68962968e-03,  7.19178515e-03,  1.81762055e-02,\n",
       "        1.62728094e-02,  8.68375506e-03, -6.87155582e-04,  5.25728101e-04,\n",
       "        5.33627160e-03, -6.93824934e-03, -2.31841463e-03,  4.55012887e-05,\n",
       "        6.07795734e-03,  1.22436890e-02, -1.27982616e-03,  2.69126776e-03,\n",
       "        1.55903175e-02,  5.56742959e-03,  1.76488073e-03,  1.04151787e-02,\n",
       "        4.44783363e-03, -2.96606054e-03,  1.42260864e-02,  1.30758225e-03,\n",
       "       -1.18186399e-02,  1.43857319e-02, -1.61005731e-03, -7.11635919e-03,\n",
       "        2.61332327e-03,  8.85625463e-03,  1.16391052e-02, -2.25098641e-03,\n",
       "        3.85177950e-03,  8.14423431e-03,  6.40874961e-03,  2.19947863e-02,\n",
       "        7.37865642e-03,  9.85178445e-03,  1.23192603e-03,  7.21509242e-03,\n",
       "        1.90716051e-02, -1.45941379e-03,  4.57467465e-03, -1.54616693e-02,\n",
       "        1.32438643e-02, -3.25083121e-04,  1.14603369e-02,  4.21422301e-03,\n",
       "       -5.98043809e-03,  2.95951888e-02,  8.59386846e-03,  7.42735760e-03,\n",
       "        5.48651582e-03,  1.18876118e-02, -2.34041992e-03,  2.49708095e-03,\n",
       "        4.79277736e-03, -6.65747386e-04, -4.76723816e-03, -2.35407222e-02,\n",
       "       -1.33377444e-02,  1.16889514e-02,  1.74919050e-03,  1.22979889e-02,\n",
       "        1.49381477e-02,  9.74674895e-03,  2.80689411e-02,  7.98839889e-03,\n",
       "        1.82884429e-02,  1.98136065e-02, -4.06646729e-03, -1.75416074e-03,\n",
       "       -4.89076180e-03,  1.15215005e-02, -9.95403505e-04, -1.75825283e-02,\n",
       "        4.21979092e-03, -5.13146771e-03,  8.74616392e-03,  1.30567653e-03,\n",
       "       -9.81004536e-03,  1.12425480e-02,  1.24511467e-02,  3.53942765e-03,\n",
       "       -4.20809447e-05,  3.56581667e-03,  3.54450755e-03, -2.55430266e-02,\n",
       "        1.64052453e-02,  2.34966492e-03,  1.43792769e-02,  1.01802247e-02,\n",
       "        8.23887717e-03, -1.46261221e-02, -1.48682809e-02,  1.45743554e-02,\n",
       "       -1.00621507e-02,  7.31483381e-03,  8.81839078e-03,  9.88965039e-04,\n",
       "        1.22247525e-02,  4.19428339e-03,  2.14599655e-03, -1.25940889e-02,\n",
       "        1.26951318e-02,  1.76462568e-02, -5.40129701e-03,  1.47739202e-02,\n",
       "       -8.63098633e-03,  1.30715435e-02,  7.41870189e-03, -2.15055444e-03,\n",
       "       -1.93090104e-02,  2.05201972e-02,  1.59592610e-02,  5.97097771e-03,\n",
       "        1.20451977e-03,  6.27839426e-03,  9.71059315e-04, -7.21075339e-03,\n",
       "        3.14094499e-03,  6.68071024e-03, -8.17252509e-03,  7.91754387e-03,\n",
       "        2.63516651e-03,  3.65340756e-03,  5.72720170e-03,  1.64851379e-02,\n",
       "        7.21028337e-05,  5.56523912e-03, -5.50438650e-03,  2.84610060e-03,\n",
       "       -2.26316671e-03,  1.58071965e-02,  2.09129062e-02, -7.06859585e-03,\n",
       "        6.17675669e-03,  1.53588559e-02,  1.25378007e-02, -6.24323683e-03,\n",
       "        1.21978773e-02,  1.67295840e-02,  1.97288152e-02,  5.61464229e-04,\n",
       "        1.12058343e-02,  5.27220592e-03,  1.17627624e-02,  1.63714029e-02,\n",
       "        5.74329461e-04,  6.78396784e-03,  1.89865381e-02,  6.02513133e-03,\n",
       "        9.98075702e-04,  7.74211157e-03,  1.45933274e-02,  1.34580145e-02,\n",
       "        7.35817291e-03,  2.77390447e-03,  3.73627292e-03,  4.14390862e-03,\n",
       "        8.30279104e-03,  9.02555138e-03,  1.25286132e-02, -2.14334298e-03,\n",
       "        1.04652541e-02, -4.63689305e-03,  7.03095109e-04,  6.79303566e-03,\n",
       "        1.71846487e-02,  7.14421505e-03, -3.76980403e-03,  2.77609495e-03,\n",
       "       -3.63407377e-03, -1.01599246e-02,  6.75528636e-03, -8.03000480e-03,\n",
       "        9.82496422e-03,  4.22631018e-03,  7.91488867e-03,  1.61761623e-02,\n",
       "        6.15811674e-03,  1.35735413e-02,  1.16613265e-02,  1.24555798e-02,\n",
       "        6.85871625e-03,  8.94873124e-03,  1.22014794e-03, -1.85008277e-03,\n",
       "       -5.27255796e-03,  2.37081200e-02,  5.30847022e-03,  1.51744029e-02,\n",
       "       -7.05472520e-03, -7.07378611e-03, -6.07362762e-03,  8.09177384e-03,\n",
       "        1.24363462e-02,  5.20294439e-03,  3.40238796e-04,  1.11886328e-02,\n",
       "        3.54907196e-03,  2.94854958e-03, -8.24144203e-03,  2.34647002e-02,\n",
       "       -8.36824812e-03,  6.94203237e-03,  2.12055091e-02,  2.11978033e-02,\n",
       "        2.21869517e-02,  1.46917170e-02,  2.52411254e-02, -6.11017970e-03,\n",
       "        1.08678630e-02, -5.11486689e-03,  1.05547253e-02,  5.24043990e-03,\n",
       "        5.98453591e-03, -1.20679988e-02, -2.76454119e-03, -2.25120137e-04,\n",
       "       -2.27600918e-03, -4.98009054e-03,  9.06702597e-03,  3.59705882e-03,\n",
       "        6.32762723e-03,  1.68305961e-03,  1.59567390e-02,  7.63740996e-03,\n",
       "       -2.71883490e-03,  1.61930325e-03,  1.21267876e-02,  1.22172674e-02,\n",
       "        1.77134518e-02,  7.34888949e-03,  1.50877433e-02, -1.73676468e-03,\n",
       "       -8.08897149e-03,  1.21072703e-03,  1.65228837e-03,  5.99191431e-03,\n",
       "        2.79450901e-02,  1.36747556e-02,  9.04131494e-03,  1.49713634e-02,\n",
       "        1.00496598e-02,  4.49156901e-03,  1.12427147e-02, -2.33213883e-03,\n",
       "        4.50993376e-03,  1.10054866e-03,  3.20215430e-03,  3.24520445e-03,\n",
       "        8.30815115e-04,  1.10367201e-02,  2.15820663e-04, -1.15156558e-03,\n",
       "        9.68671311e-03,  2.52468809e-02,  3.40134348e-03,  1.27328271e-02,\n",
       "        9.26584098e-03,  2.19266093e-03,  6.78941794e-03,  1.98955182e-04,\n",
       "       -1.46827870e-03,  2.49248575e-02,  3.35057091e-04, -8.30002502e-03,\n",
       "        5.76252164e-03, -1.27546005e-02,  2.75386311e-03,  5.92349842e-03,\n",
       "        5.41403610e-03,  1.06641417e-02,  4.73492313e-03,  7.22129038e-03,\n",
       "        2.01004241e-02,  9.86249652e-03,  8.51672888e-03, -1.20115867e-02,\n",
       "        2.87814438e-03,  1.09102705e-03, -4.81526367e-03, -1.28108049e-02,\n",
       "        5.59702888e-03,  2.45303363e-02, -3.47743463e-03, -7.94770103e-03,\n",
       "       -3.84473545e-03, -2.89189210e-03,  2.57169288e-02, -1.25151481e-02,\n",
       "        1.13883819e-02,  5.79280779e-04, -8.43684468e-03, -1.46534331e-02,\n",
       "        2.29473668e-03,  3.86626041e-03,  5.98075753e-03,  6.03579264e-03,\n",
       "        1.25278824e-03, -1.05848396e-03, -3.81434406e-03,  6.38546003e-03,\n",
       "        3.47829331e-03,  1.77327339e-02, -4.94371075e-03, -2.74415390e-04,\n",
       "       -7.46111525e-03,  1.19599858e-02,  2.01199818e-02, -8.84650275e-03,\n",
       "        1.53268101e-02, -3.82699259e-03,  6.52372511e-03, -4.84894059e-04,\n",
       "       -1.90280448e-03,  5.58965281e-03,  9.17831529e-03,  2.51616556e-02],\n",
       "      dtype=float32)"
      ]
     },
     "execution_count": 60,
     "metadata": {},
     "output_type": "execute_result"
    }
   ],
   "source": [
    "home_alone_vector"
   ]
  },
  {
   "cell_type": "code",
   "execution_count": 61,
   "metadata": {},
   "outputs": [
    {
     "data": {
      "text/plain": [
       "0.637023"
      ]
     },
     "execution_count": 61,
     "metadata": {},
     "output_type": "execute_result"
    }
   ],
   "source": [
    "# js와 home_alone를 내적하는 코드\n",
    "# 값이 낮게 나와서 factor, iteration을 늘리야 할것으로 보임.\n",
    "np.dot(js_vector,home_alone_vector)"
   ]
  },
  {
   "cell_type": "code",
   "execution_count": 62,
   "metadata": {},
   "outputs": [
    {
     "data": {
      "text/plain": [
       "-0.029196357"
      ]
     },
     "execution_count": 62,
     "metadata": {},
     "output_type": "execute_result"
    }
   ],
   "source": [
    "once = title_to_idx['Stalker (1979)']\n",
    "once_vector = als_model.item_factors[once]\n",
    "np.dot(js_vector, once_vector)"
   ]
  },
  {
   "cell_type": "code",
   "execution_count": 63,
   "metadata": {},
   "outputs": [
    {
     "data": {
      "text/plain": [
       "[(195, 1.0),\n",
       " (882, 0.5580054),\n",
       " (884, 0.4886526),\n",
       " (3332, 0.42277527),\n",
       " (3613, 0.41905835),\n",
       " (3600, 0.4189765),\n",
       " (3537, 0.41877607),\n",
       " (3414, 0.41685924),\n",
       " (3457, 0.41525578),\n",
       " (2694, 0.41493678),\n",
       " (3599, 0.4140455),\n",
       " (3342, 0.41403386),\n",
       " (3239, 0.4134201),\n",
       " (3593, 0.4134071),\n",
       " (3132, 0.41325587)]"
      ]
     },
     "execution_count": 63,
     "metadata": {},
     "output_type": "execute_result"
    }
   ],
   "source": [
    "favorite_title = 'Mad Max (1979)'\n",
    "title_id = title_to_idx[favorite_title]\n",
    "similar_title = als_model.similar_items(title_id, N=15)\n",
    "similar_title\n",
    "#반환되는것들은 아티스트id, 유사도."
   ]
  },
  {
   "cell_type": "code",
   "execution_count": 64,
   "metadata": {},
   "outputs": [
    {
     "data": {
      "text/plain": [
       "['Mad Max (1979)',\n",
       " 'Mad Max 2 (a.k.a. The Road Warrior) (1981)',\n",
       " 'Mad Max Beyond Thunderdome (1985)',\n",
       " 'Jail Bait (1954)',\n",
       " 'Lured (1947)',\n",
       " 'Match, The (1999)',\n",
       " 'Regret to Inform (1998)',\n",
       " 'Search for One-eye Jimmy, The (1996)',\n",
       " 'Second Jungle Book: Mowgli & Baloo, The (1997)',\n",
       " 'Diamonds (1999)',\n",
       " 'Home Page (1999)',\n",
       " 'Delta of Venus (1994)',\n",
       " 'Kicked in the Head (1997)',\n",
       " 'Sonic Outlaws (1995)',\n",
       " 'Feast of July (1995)']"
      ]
     },
     "execution_count": 64,
     "metadata": {},
     "output_type": "execute_result"
    }
   ],
   "source": [
    "#artist_to_idx 를 뒤집어, index로부터 artist 이름을 얻는 dict를 생성합니다. \n",
    "idx_to_title = {v:k for k,v in title_to_idx.items()}\n",
    "[idx_to_title[i[0]] for i in similar_title]"
   ]
  },
  {
   "cell_type": "code",
   "execution_count": 65,
   "metadata": {},
   "outputs": [
    {
     "name": "stdout",
     "output_type": "stream",
     "text": [
      "슝=3\n"
     ]
    }
   ],
   "source": [
    "def get_similar_title(title_name: str):\n",
    "    title_id = title_to_idx[title_name]\n",
    "    similar_title = als_model.similar_items(title_id)\n",
    "    similar_title = [idx_to_title[i[0]] for i in similar_title]\n",
    "    return similar_title\n",
    "\n",
    "print(\"슝=3\")"
   ]
  },
  {
   "cell_type": "code",
   "execution_count": 67,
   "metadata": {},
   "outputs": [
    {
     "data": {
      "text/plain": [
       "['Drunks (1997)',\n",
       " 'Ripe (1996)',\n",
       " 'Horror Hotel (a.k.a. The City of the Dead) (1960)',\n",
       " 'Fall Time (1995)',\n",
       " 'Show, The (1995)',\n",
       " 'Coming Apart (1969)',\n",
       " 'Jar, The (Khomreh) (1992)',\n",
       " 'Bye-Bye (1995)',\n",
       " 'Century (1993)',\n",
       " 'Number Seventeen (1932)']"
      ]
     },
     "execution_count": 67,
     "metadata": {},
     "output_type": "execute_result"
    }
   ],
   "source": [
    "get_similar_title('Drunks (1997)')"
   ]
  },
  {
   "cell_type": "code",
   "execution_count": 70,
   "metadata": {},
   "outputs": [
    {
     "data": {
      "text/plain": [
       "[(583, 0.35850126),\n",
       " (882, 0.27737644),\n",
       " (584, 0.2625577),\n",
       " (884, 0.17808414),\n",
       " (1164, 0.1622191),\n",
       " (865, 0.15497538),\n",
       " (323, 0.14505571),\n",
       " (175, 0.14383496),\n",
       " (106, 0.13024239),\n",
       " (33, 0.12582877),\n",
       " (75, 0.12538774),\n",
       " (407, 0.11796832),\n",
       " (1315, 0.11750345),\n",
       " (63, 0.11621876),\n",
       " (340, 0.1154855),\n",
       " (958, 0.115314566),\n",
       " (358, 0.115144156),\n",
       " (67, 0.11504976),\n",
       " (341, 0.11372454),\n",
       " (1369, 0.11286503)]"
      ]
     },
     "execution_count": 70,
     "metadata": {},
     "output_type": "execute_result"
    }
   ],
   "source": [
    "# AlternatingLeastSquares 클래스에 구현된 recommend메소드를 통해서 좋아할만한 아티스트 추천.\n",
    "# filter_already_liked_items를 True로 하면 유저가 이미 평가한 아이템은 제외핟다.\n",
    "user = user_to_idx['JS']\n",
    "# recommend에서는 user*item CSR Matrix를 받습니다.\n",
    "title_recommended = als_model.recommend(user, csr_data, N=20, filter_already_liked_items=True)\n",
    "title_recommended"
   ]
  },
  {
   "cell_type": "code",
   "execution_count": 71,
   "metadata": {},
   "outputs": [
    {
     "data": {
      "text/plain": [
       "['Star Trek: The Wrath of Khan (1982)',\n",
       " 'Mad Max 2 (a.k.a. The Road Warrior) (1981)',\n",
       " 'Star Trek III: The Search for Spock (1984)',\n",
       " 'Mad Max Beyond Thunderdome (1985)',\n",
       " 'Star Trek V: The Final Frontier (1989)',\n",
       " 'Predator (1987)',\n",
       " 'Dead Man Walking (1995)',\n",
       " 'Men in Black (1997)',\n",
       " 'Bonnie and Clyde (1967)',\n",
       " 'Aladdin (1992)',\n",
       " 'Hunt for Red October, The (1990)',\n",
       " 'Crimson Tide (1995)',\n",
       " 'Executive Decision (1996)',\n",
       " 'Hustler, The (1961)',\n",
       " \"My Best Friend's Wedding (1997)\",\n",
       " 'Deep Impact (1998)',\n",
       " 'Starman (1984)',\n",
       " 'Gladiator (2000)',\n",
       " 'Mighty Ducks, The (1992)',\n",
       " '101 Dalmatians (1996)']"
      ]
     },
     "execution_count": 71,
     "metadata": {},
     "output_type": "execute_result"
    }
   ],
   "source": [
    "[idx_to_title[i[0]] for i in artist_recommended]"
   ]
  },
  {
   "cell_type": "code",
   "execution_count": 74,
   "metadata": {},
   "outputs": [],
   "source": [
    "# AlternatingLeastSquares 클래스에 구현된 explain메소드를 통해서 남긴 기록 데이터중 이 데이터에 기여한 정도 확인가능.\n",
    "gladiator = title_to_idx['Predator (1987)']\n",
    "explain = als_model.explain(user, csr_data, itemid=gladiator)"
   ]
  },
  {
   "cell_type": "code",
   "execution_count": 75,
   "metadata": {},
   "outputs": [
    {
     "data": {
      "text/plain": [
       "[('Home Alone (1990)', 0.059662875498721554),\n",
       " ('Star Trek IV: The Voyage Home (1986)', 0.058162135433239295),\n",
       " ('Independence Day (ID4) (1996)', 0.039222957566349546),\n",
       " ('Star Wars: Episode VI - Return of the Jedi (1983)', 0.004029215429057348),\n",
       " ('Mad Max (1979)', -0.006218630383588164)]"
      ]
     },
     "execution_count": 75,
     "metadata": {},
     "output_type": "execute_result"
    }
   ],
   "source": [
    "[(idx_to_title[i[0]], i[1]) for i in explain[1]]"
   ]
  }
 ],
 "metadata": {
  "kernelspec": {
   "display_name": "aiffel",
   "language": "python",
   "name": "aiffel"
  },
  "language_info": {
   "codemirror_mode": {
    "name": "ipython",
    "version": 3
   },
   "file_extension": ".py",
   "mimetype": "text/x-python",
   "name": "python",
   "nbconvert_exporter": "python",
   "pygments_lexer": "ipython3",
   "version": "3.7.9"
  }
 },
 "nbformat": 4,
 "nbformat_minor": 4
}
