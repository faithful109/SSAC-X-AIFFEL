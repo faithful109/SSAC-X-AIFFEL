{
 "cells": [
  {
   "cell_type": "code",
   "execution_count": 1,
   "metadata": {},
   "outputs": [],
   "source": [
    "import numpy as np\n",
    "import matplotlib.pyplot as plt\n",
    "import librosa\n",
    "import os"
   ]
  },
  {
   "cell_type": "code",
   "execution_count": 2,
   "metadata": {},
   "outputs": [],
   "source": [
    "# 데이터 불러오기. npz는 각 데이터는 wav_vals, label_vals로 이루어짐.\n",
    "data_path = os.getenv(\"HOME\")+'/aiffel/speech_recognition/data/speech_wav_8000.npz'\n",
    "speech_data = np.load(data_path)"
   ]
  },
  {
   "cell_type": "code",
   "execution_count": 5,
   "metadata": {},
   "outputs": [
    {
     "name": "stdout",
     "output_type": "stream",
     "text": [
      "LABEL :  ['yes', 'no', 'up', 'down', 'left', 'right', 'on', 'off', 'stop', 'go', 'unknown', 'silence']\n",
      "Indexed LABEL :  {'yes': 0, 'no': 1, 'up': 2, 'down': 3, 'left': 4, 'right': 5, 'on': 6, 'off': 7, 'stop': 8, 'go': 9, 'unknown': 10, 'silence': 11}\n"
     ]
    },
    {
     "data": {
      "text/plain": [
       "array([ 3,  3,  3, ..., 11, 11, 11])"
      ]
     },
     "execution_count": 5,
     "metadata": {},
     "output_type": "execute_result"
    }
   ],
   "source": [
    "#라벨 데이터 처리.\n",
    "#텍스트를 인덱스로 바꿈.\n",
    "target_list = ['yes', 'no', 'up', 'down', 'left', 'right', 'on', 'off', 'stop', 'go'] # 이외의 값들은 unknown, silence로 분류됨.\n",
    "\n",
    "label_value = target_list #리스트 할당.\n",
    "label_value.append('unknown')\n",
    "label_value.append('silence')\n",
    "\n",
    "print('LABEL : ', label_value)\n",
    "\n",
    "new_label_value = dict()\n",
    "for i, l in enumerate(label_value): # 리스트값 인덱스(0,1,2,3,4...), 리스트내의 값(yes, no, up....)\n",
    "    new_label_value[l] = i # 텍스트를 키값으로, 숫자를 밸류값으로. {1: 'yes',.....}\n",
    "label_value = new_label_value\n",
    "\n",
    "print('Indexed LABEL : ', new_label_value)\n",
    "\n",
    "#라벨값을 숫자로 바꿈\n",
    "temp = [] #리스트. \n",
    "for v in speech_data[\"label_vals\"]: #라벨값들.\n",
    "    temp.append(label_value[v[0]]) # 그냥 v일 경우 ['~~']이므로 v[0]으로 내용물 꺼내기. label_value는 키값이 텍스트고, 밸류값이 인덱스이므로 인덱스 반환.\n",
    "label_data = np.array(temp) #여기에 숫자로 된 라벨값들이 들어가 있음.\n",
    "\n",
    "label_data"
   ]
  },
  {
   "cell_type": "code",
   "execution_count": 6,
   "metadata": {},
   "outputs": [
    {
     "name": "stdout",
     "output_type": "stream",
     "text": [
      "✅\n"
     ]
    }
   ],
   "source": [
    "def wav2spec(wav, fft_size=258): # spectrogram shape을 맞추기위해서 size 변형\n",
    "    D = np.abs(librosa.stft(wav, n_fft=fft_size))\n",
    "    return D\n",
    "print(\"✅\")\n",
    "#1차원 Waveform -> 2차원 Spectrogram"
   ]
  },
  {
   "cell_type": "code",
   "execution_count": 7,
   "metadata": {},
   "outputs": [
    {
     "data": {
      "text/plain": [
       "(50620, 130, 126)"
      ]
     },
     "execution_count": 7,
     "metadata": {},
     "output_type": "execute_result"
    }
   ],
   "source": [
    "spec_data=[]\n",
    "data = speech_data[\"wav_vals\"]\n",
    "for wav in data: \n",
    "    stft = wav2spec(wav)\n",
    "    spec_data.append(stft)\n",
    "spec_data = np.array(spec_data)\n",
    "spec_data.shape"
   ]
  },
  {
   "cell_type": "code",
   "execution_count": 8,
   "metadata": {},
   "outputs": [
    {
     "name": "stdout",
     "output_type": "stream",
     "text": [
      "✅\n"
     ]
    }
   ],
   "source": [
    "from sklearn.model_selection import train_test_split\n",
    "sr = 8000\n",
    "train_wav, test_wav, train_label, test_label = train_test_split(spec_data, #스피치값, 라벨을 0.1 비율로 섞어서 각각 train, test에 넣기\n",
    "                                                                label_data, \n",
    "                                                                test_size=0.1,\n",
    "                                                                shuffle=True)\n",
    "train_wav = train_wav[:27000]\n",
    "test_wav = test_wav[:3000]\n",
    "train_label = train_label[:27000]\n",
    "test_label = test_label[:3000]\n",
    "\n",
    "#train_wav = train_wav.reshape([-1, sr, 1]) # add channel for CNN 원래형태가 (분배된 갯수, sr)인데 (분배된 갯수, sr, 1)로 차원 추가.\n",
    "#test_wav = test_wav.reshape([-1, sr, 1])\n",
    "print(\"✅\")"
   ]
  },
  {
   "cell_type": "code",
   "execution_count": 9,
   "metadata": {},
   "outputs": [
    {
     "name": "stdout",
     "output_type": "stream",
     "text": [
      "train data :  (27000, 130, 126)\n",
      "train labels :  (27000,)\n",
      "test data :  (3000, 130, 126)\n",
      "test labels :  (3000,)\n",
      "✅\n"
     ]
    }
   ],
   "source": [
    "print(\"train data : \", train_wav.shape)\n",
    "print(\"train labels : \", train_label.shape)\n",
    "print(\"test data : \", test_wav.shape)\n",
    "print(\"test labels : \", test_label.shape)\n",
    "print(\"✅\")"
   ]
  },
  {
   "cell_type": "code",
   "execution_count": 18,
   "metadata": {},
   "outputs": [
    {
     "data": {
      "text/plain": [
       "'/home/ssac19/aiffel/speech_recognition/models/wav'"
      ]
     },
     "execution_count": 18,
     "metadata": {},
     "output_type": "execute_result"
    }
   ],
   "source": [
    "batch_size = 32\n",
    "max_epochs = 10\n",
    "\n",
    "# the save point\n",
    "checkpoint_dir = os.getenv('HOME')+'/aiffel/speech_recognition/models/wav'\n",
    "\n",
    "checkpoint_dir"
   ]
  },
  {
   "cell_type": "code",
   "execution_count": 19,
   "metadata": {},
   "outputs": [
    {
     "name": "stdout",
     "output_type": "stream",
     "text": [
      "✅\n"
     ]
    }
   ],
   "source": [
    "def one_hot_label(wav, label):\n",
    "    label = tf.one_hot(label, depth=12)\n",
    "    return wav, label\n",
    "print(\"✅\")"
   ]
  },
  {
   "cell_type": "code",
   "execution_count": 20,
   "metadata": {},
   "outputs": [
    {
     "ename": "NameError",
     "evalue": "name 'speech_data' is not defined",
     "output_type": "error",
     "traceback": [
      "\u001b[0;31m---------------------------------------------------------------------------\u001b[0m",
      "\u001b[0;31mNameError\u001b[0m                                 Traceback (most recent call last)",
      "\u001b[0;32m<ipython-input-20-e1139f7fd962>\u001b[0m in \u001b[0;36m<module>\u001b[0;34m\u001b[0m\n\u001b[1;32m      1\u001b[0m \u001b[0;32mimport\u001b[0m \u001b[0mtensorflow\u001b[0m \u001b[0;32mas\u001b[0m \u001b[0mtf\u001b[0m\u001b[0;34m\u001b[0m\u001b[0;34m\u001b[0m\u001b[0m\n\u001b[0;32m----> 2\u001b[0;31m \u001b[0;32mdel\u001b[0m \u001b[0mspeech_data\u001b[0m\u001b[0;34m\u001b[0m\u001b[0;34m\u001b[0m\u001b[0m\n\u001b[0m\u001b[1;32m      3\u001b[0m \u001b[0;32mdel\u001b[0m \u001b[0mspec_data\u001b[0m\u001b[0;34m\u001b[0m\u001b[0;34m\u001b[0m\u001b[0m\n\u001b[1;32m      4\u001b[0m \u001b[0;31m# for train\u001b[0m\u001b[0;34m\u001b[0m\u001b[0;34m\u001b[0m\u001b[0;34m\u001b[0m\u001b[0m\n\u001b[1;32m      5\u001b[0m \u001b[0mtrain_dataset\u001b[0m \u001b[0;34m=\u001b[0m \u001b[0mtf\u001b[0m\u001b[0;34m.\u001b[0m\u001b[0mdata\u001b[0m\u001b[0;34m.\u001b[0m\u001b[0mDataset\u001b[0m\u001b[0;34m.\u001b[0m\u001b[0mfrom_tensor_slices\u001b[0m\u001b[0;34m(\u001b[0m\u001b[0;34m(\u001b[0m\u001b[0mtrain_wav\u001b[0m\u001b[0;34m,\u001b[0m \u001b[0mtrain_label\u001b[0m\u001b[0;34m)\u001b[0m\u001b[0;34m)\u001b[0m\u001b[0;34m\u001b[0m\u001b[0;34m\u001b[0m\u001b[0m\n",
      "\u001b[0;31mNameError\u001b[0m: name 'speech_data' is not defined"
     ]
    }
   ],
   "source": [
    "import tensorflow as tf\n",
    "del speech_data\n",
    "del spec_data\n",
    "# for train\n",
    "train_dataset = tf.data.Dataset.from_tensor_slices((train_wav, train_label))\n",
    "train_dataset = train_dataset.map(one_hot_label)\n",
    "train_dataset = train_dataset.repeat().batch(batch_size=batch_size)\n",
    "print(train_dataset)\n",
    "\n",
    "# for test\n",
    "test_dataset = tf.data.Dataset.from_tensor_slices((test_wav, test_label))\n",
    "test_dataset = test_dataset.map(one_hot_label)\n",
    "test_dataset = test_dataset.batch(batch_size=batch_size)\n",
    "print(test_dataset)\n",
    "print(\"✅\")\n"
   ]
  },
  {
   "cell_type": "code",
   "execution_count": 26,
   "metadata": {},
   "outputs": [
    {
     "name": "stdout",
     "output_type": "stream",
     "text": [
      "Model: \"model_2\"\n",
      "_________________________________________________________________\n",
      "Layer (type)                 Output Shape              Param #   \n",
      "=================================================================\n",
      "input_3 (InputLayer)         [(None, 130, 126)]        0         \n",
      "_________________________________________________________________\n",
      "conv1d_20 (Conv1D)           (None, 130, 32)           36320     \n",
      "_________________________________________________________________\n",
      "conv1d_21 (Conv1D)           (None, 130, 32)           9248      \n",
      "_________________________________________________________________\n",
      "max_pooling1d_8 (MaxPooling1 (None, 65, 32)            0         \n",
      "_________________________________________________________________\n",
      "conv1d_22 (Conv1D)           (None, 65, 64)            18496     \n",
      "_________________________________________________________________\n",
      "conv1d_23 (Conv1D)           (None, 65, 64)            36928     \n",
      "_________________________________________________________________\n",
      "max_pooling1d_9 (MaxPooling1 (None, 32, 64)            0         \n",
      "_________________________________________________________________\n",
      "conv1d_24 (Conv1D)           (None, 32, 128)           73856     \n",
      "_________________________________________________________________\n",
      "conv1d_25 (Conv1D)           (None, 32, 128)           147584    \n",
      "_________________________________________________________________\n",
      "conv1d_26 (Conv1D)           (None, 32, 128)           147584    \n",
      "_________________________________________________________________\n",
      "max_pooling1d_10 (MaxPooling (None, 16, 128)           0         \n",
      "_________________________________________________________________\n",
      "conv1d_27 (Conv1D)           (None, 16, 256)           295168    \n",
      "_________________________________________________________________\n",
      "conv1d_28 (Conv1D)           (None, 16, 256)           590080    \n",
      "_________________________________________________________________\n",
      "conv1d_29 (Conv1D)           (None, 16, 256)           590080    \n",
      "_________________________________________________________________\n",
      "max_pooling1d_11 (MaxPooling (None, 8, 256)            0         \n",
      "_________________________________________________________________\n",
      "dropout_2 (Dropout)          (None, 8, 256)            0         \n",
      "_________________________________________________________________\n",
      "flatten_2 (Flatten)          (None, 2048)              0         \n",
      "_________________________________________________________________\n",
      "dense_4 (Dense)              (None, 256)               524544    \n",
      "_________________________________________________________________\n",
      "batch_normalization_2 (Batch (None, 256)               1024      \n",
      "_________________________________________________________________\n",
      "activation_2 (Activation)    (None, 256)               0         \n",
      "_________________________________________________________________\n",
      "dense_5 (Dense)              (None, 12)                3084      \n",
      "=================================================================\n",
      "Total params: 2,473,996\n",
      "Trainable params: 2,473,484\n",
      "Non-trainable params: 512\n",
      "_________________________________________________________________\n"
     ]
    }
   ],
   "source": [
    "from tensorflow.keras import layers\n",
    "\n",
    "input_tensor = layers.Input(shape=(130, 126))\n",
    "\n",
    "x = layers.Conv1D(32, 9, padding='same', activation='relu')(input_tensor)\n",
    "x = layers.Conv1D(32, 9, padding='same', activation='relu')(x)\n",
    "x = layers.MaxPool1D()(x)\n",
    "\n",
    "x = layers.Conv1D(64, 9, padding='same', activation='relu')(x)\n",
    "x = layers.Conv1D(64, 9, padding='same', activation='relu')(x)\n",
    "x = layers.MaxPool1D()(x)\n",
    "\n",
    "x = layers.Conv1D(128, 9, padding='same', activation='relu')(x)\n",
    "x = layers.Conv1D(128, 9, padding='same', activation='relu')(x)\n",
    "x = layers.Conv1D(128, 9, padding='same', activation='relu')(x)\n",
    "x = layers.MaxPool1D()(x)\n",
    "\n",
    "x = layers.Conv1D(256, 9, padding='same', activation='relu')(x)\n",
    "x = layers.Conv1D(256, 9, padding='same', activation='relu')(x)\n",
    "x = layers.Conv1D(256, 9, padding='same', activation='relu')(x)\n",
    "x = layers.MaxPool1D()(x)\n",
    "x = layers.Dropout(0.3)(x)\n",
    "\n",
    "x = layers.Flatten()(x)\n",
    "x = layers.Dense(256)(x)\n",
    "x = layers.BatchNormalization()(x)\n",
    "x = layers.Activation('relu')(x)\n",
    "\n",
    "output_tensor = layers.Dense(12)(x)\n",
    "\n",
    "model_wav= tf.keras.Model(input_tensor, output_tensor)\n",
    "\n",
    "model_wav.summary()"
   ]
  },
  {
   "cell_type": "code",
   "execution_count": 27,
   "metadata": {},
   "outputs": [
    {
     "name": "stdout",
     "output_type": "stream",
     "text": [
      "✅\n"
     ]
    }
   ],
   "source": [
    "optimizer=tf.keras.optimizers.Adam(1e-4)\n",
    "model_wav.compile(loss=tf.keras.losses.CategoricalCrossentropy(from_logits=True),\n",
    "             optimizer=optimizer,\n",
    "             metrics=['accuracy'])\n",
    "print(\"✅\")"
   ]
  },
  {
   "cell_type": "code",
   "execution_count": 28,
   "metadata": {},
   "outputs": [
    {
     "name": "stdout",
     "output_type": "stream",
     "text": [
      "✅\n"
     ]
    }
   ],
   "source": [
    "# the save point\n",
    "checkpoint_dir = os.getenv('HOME')+'/aiffel/speech_recognition/models/wav_skip'\n",
    "\n",
    "cp_callback = tf.keras.callbacks.ModelCheckpoint(checkpoint_dir,\n",
    "                                                 save_weights_only=True,\n",
    "                                                 monitor='val_loss',\n",
    "                                                 mode='auto',\n",
    "                                                 save_best_only=True,\n",
    "                                                 verbose=1)\n",
    "print(\"✅\")"
   ]
  },
  {
   "cell_type": "code",
   "execution_count": 29,
   "metadata": {},
   "outputs": [
    {
     "name": "stdout",
     "output_type": "stream",
     "text": [
      "Epoch 1/10\n",
      "837/843 [============================>.] - ETA: 0s - loss: 1.8728 - accuracy: 0.3527\n",
      "Epoch 00001: val_loss improved from inf to 1.50575, saving model to /home/ssac19/aiffel/speech_recognition/models/wav_skip\n",
      "843/843 [==============================] - 5s 6ms/step - loss: 1.8715 - accuracy: 0.3536 - val_loss: 1.5057 - val_accuracy: 0.4859\n",
      "Epoch 2/10\n",
      "836/843 [============================>.] - ETA: 0s - loss: 1.3389 - accuracy: 0.5404\n",
      "Epoch 00002: val_loss improved from 1.50575 to 1.13638, saving model to /home/ssac19/aiffel/speech_recognition/models/wav_skip\n",
      "843/843 [==============================] - 5s 6ms/step - loss: 1.3391 - accuracy: 0.5399 - val_loss: 1.1364 - val_accuracy: 0.6028\n",
      "Epoch 3/10\n",
      "839/843 [============================>.] - ETA: 0s - loss: 1.0503 - accuracy: 0.6450\n",
      "Epoch 00003: val_loss improved from 1.13638 to 0.87585, saving model to /home/ssac19/aiffel/speech_recognition/models/wav_skip\n",
      "843/843 [==============================] - 5s 6ms/step - loss: 1.0508 - accuracy: 0.6449 - val_loss: 0.8759 - val_accuracy: 0.6962\n",
      "Epoch 4/10\n",
      "840/843 [============================>.] - ETA: 0s - loss: 0.8303 - accuracy: 0.7248\n",
      "Epoch 00004: val_loss improved from 0.87585 to 0.72801, saving model to /home/ssac19/aiffel/speech_recognition/models/wav_skip\n",
      "843/843 [==============================] - 5s 6ms/step - loss: 0.8296 - accuracy: 0.7249 - val_loss: 0.7280 - val_accuracy: 0.7601\n",
      "Epoch 5/10\n",
      "834/843 [============================>.] - ETA: 0s - loss: 0.6843 - accuracy: 0.7746\n",
      "Epoch 00005: val_loss improved from 0.72801 to 0.61942, saving model to /home/ssac19/aiffel/speech_recognition/models/wav_skip\n",
      "843/843 [==============================] - 5s 6ms/step - loss: 0.6836 - accuracy: 0.7745 - val_loss: 0.6194 - val_accuracy: 0.7984\n",
      "Epoch 6/10\n",
      "839/843 [============================>.] - ETA: 0s - loss: 0.5834 - accuracy: 0.8045\n",
      "Epoch 00006: val_loss improved from 0.61942 to 0.61939, saving model to /home/ssac19/aiffel/speech_recognition/models/wav_skip\n",
      "843/843 [==============================] - 5s 6ms/step - loss: 0.5844 - accuracy: 0.8040 - val_loss: 0.6194 - val_accuracy: 0.8017\n",
      "Epoch 7/10\n",
      "838/843 [============================>.] - ETA: 0s - loss: 0.5077 - accuracy: 0.8308\n",
      "Epoch 00007: val_loss improved from 0.61939 to 0.60183, saving model to /home/ssac19/aiffel/speech_recognition/models/wav_skip\n",
      "843/843 [==============================] - 5s 6ms/step - loss: 0.5069 - accuracy: 0.8313 - val_loss: 0.6018 - val_accuracy: 0.8118\n",
      "Epoch 8/10\n",
      "837/843 [============================>.] - ETA: 0s - loss: 0.4528 - accuracy: 0.8509\n",
      "Epoch 00008: val_loss improved from 0.60183 to 0.49688, saving model to /home/ssac19/aiffel/speech_recognition/models/wav_skip\n",
      "843/843 [==============================] - 5s 6ms/step - loss: 0.4536 - accuracy: 0.8508 - val_loss: 0.4969 - val_accuracy: 0.8481\n",
      "Epoch 9/10\n",
      "840/843 [============================>.] - ETA: 0s - loss: 0.3936 - accuracy: 0.8700\n",
      "Epoch 00009: val_loss did not improve from 0.49688\n",
      "843/843 [==============================] - 5s 6ms/step - loss: 0.3933 - accuracy: 0.8700 - val_loss: 0.5840 - val_accuracy: 0.8159\n",
      "Epoch 10/10\n",
      "836/843 [============================>.] - ETA: 0s - loss: 0.3600 - accuracy: 0.8799\n",
      "Epoch 00010: val_loss improved from 0.49688 to 0.45997, saving model to /home/ssac19/aiffel/speech_recognition/models/wav_skip\n",
      "843/843 [==============================] - 5s 6ms/step - loss: 0.3602 - accuracy: 0.8799 - val_loss: 0.4600 - val_accuracy: 0.8575\n",
      "✅\n"
     ]
    }
   ],
   "source": [
    "#30분 내외 소요\n",
    "history_wav = model_wav.fit(train_dataset, epochs=max_epochs,\n",
    "                    steps_per_epoch=len(train_wav) // batch_size,\n",
    "                    validation_data=test_dataset,\n",
    "                    validation_steps=len(test_wav) // batch_size,\n",
    "                    callbacks=[cp_callback]\n",
    "                    )\n",
    "print(\"✅\")"
   ]
  },
  {
   "cell_type": "code",
   "execution_count": 30,
   "metadata": {},
   "outputs": [
    {
     "data": {
      "image/png": "[encoded data removed]",
      "text/plain": [
       "<Figure size 576x576 with 2 Axes>"
      ]
     },
     "metadata": {
      "needs_background": "light"
     },
     "output_type": "display_data"
    },
    {
     "name": "stdout",
     "output_type": "stream",
     "text": [
      "✅\n"
     ]
    }
   ],
   "source": [
    "# train_loss와 val_loss의 차이가 커지면 오버피팅\n",
    "# Conv1D기반의 간단한 분류모델\n",
    "import matplotlib.pyplot as plt\n",
    "\n",
    "acc = history_wav.history['accuracy']\n",
    "val_acc = history_wav.history['val_accuracy']\n",
    "\n",
    "loss=history_wav.history['loss']\n",
    "val_loss=history_wav.history['val_loss']\n",
    "\n",
    "epochs_range = range(len(acc))\n",
    "\n",
    "plt.figure(figsize=(8, 8))\n",
    "plt.subplot(1, 2, 1)\n",
    "plt.plot(epochs_range, acc, label='Training Accuracy')\n",
    "plt.plot(epochs_range, val_acc, label='Validation Accuracy')\n",
    "plt.legend(loc='lower right')\n",
    "plt.title('Training and Validation Accuracy')\n",
    "\n",
    "plt.subplot(1, 2, 2)\n",
    "plt.plot(epochs_range, loss, label='Training Loss')\n",
    "plt.plot(epochs_range, val_loss, label='Validation Loss')\n",
    "plt.legend(loc='upper right')\n",
    "plt.title('Training and Validation Loss')\n",
    "plt.show()\n",
    "print(\"✅\")"
   ]
  },
  {
   "cell_type": "code",
   "execution_count": 31,
   "metadata": {},
   "outputs": [
    {
     "name": "stdout",
     "output_type": "stream",
     "text": [
      "✅\n"
     ]
    }
   ],
   "source": [
    "#모델을 컴파일할때 저장하라고 세팅했던 weight불러오기.\n",
    "model_wav.load_weights(checkpoint_dir)\n",
    "print(\"✅\")"
   ]
  },
  {
   "cell_type": "code",
   "execution_count": 32,
   "metadata": {},
   "outputs": [
    {
     "name": "stdout",
     "output_type": "stream",
     "text": [
      "188/188 [==============================] - 21s 112ms/step - loss: 0.4757 - accuracy: 0.8460\n",
      "✅\n"
     ]
    }
   ],
   "source": [
    "#test data를 통해 검증\n",
    "results = model_wav.evaluate(test_dataset)\n",
    "print(\"✅\")"
   ]
  },
  {
   "cell_type": "code",
   "execution_count": 33,
   "metadata": {},
   "outputs": [
    {
     "name": "stdout",
     "output_type": "stream",
     "text": [
      "loss value: 0.476\n",
      "accuracy value: 84.6000%\n",
      "✅\n"
     ]
    }
   ],
   "source": [
    "# loss는 소수점 3자리까지, 정확도는 퍼센트로 바꾸고 소수점 4자리까지.\n",
    "# loss\n",
    "print(\"loss value: {:.3f}\".format(results[0]))\n",
    "# accuracy\n",
    "print(\"accuracy value: {:.4f}%\".format(results[1]*100))\n",
    "print(\"✅\")"
   ]
  },
  {
   "cell_type": "code",
   "execution_count": null,
   "metadata": {},
   "outputs": [],
   "source": []
  },
  {
   "cell_type": "code",
   "execution_count": 34,
   "metadata": {},
   "outputs": [
    {
     "name": "stdout",
     "output_type": "stream",
     "text": [
      "Model: \"model_3\"\n",
      "__________________________________________________________________________________________________\n",
      "Layer (type)                    Output Shape         Param #     Connected to                     \n",
      "==================================================================================================\n",
      "input_4 (InputLayer)            [(None, 130, 126)]   0                                            \n",
      "__________________________________________________________________________________________________\n",
      "conv1d_30 (Conv1D)              (None, 130, 32)      36320       input_4[0][0]                    \n",
      "__________________________________________________________________________________________________\n",
      "conv1d_31 (Conv1D)              (None, 130, 32)      9248        conv1d_30[0][0]                  \n",
      "__________________________________________________________________________________________________\n",
      "max_pooling1d_12 (MaxPooling1D) (None, 65, 32)       0           conv1d_31[0][0]                  \n",
      "__________________________________________________________________________________________________\n",
      "conv1d_32 (Conv1D)              (None, 65, 64)       18496       max_pooling1d_12[0][0]           \n",
      "__________________________________________________________________________________________________\n",
      "conv1d_33 (Conv1D)              (None, 65, 64)       36928       conv1d_32[0][0]                  \n",
      "__________________________________________________________________________________________________\n",
      "tf_op_layer_concat (TensorFlowO [(None, 65, 96)]     0           conv1d_33[0][0]                  \n",
      "                                                                 max_pooling1d_12[0][0]           \n",
      "__________________________________________________________________________________________________\n",
      "max_pooling1d_13 (MaxPooling1D) (None, 32, 96)       0           tf_op_layer_concat[0][0]         \n",
      "__________________________________________________________________________________________________\n",
      "conv1d_34 (Conv1D)              (None, 32, 128)      110720      max_pooling1d_13[0][0]           \n",
      "__________________________________________________________________________________________________\n",
      "conv1d_35 (Conv1D)              (None, 32, 128)      147584      conv1d_34[0][0]                  \n",
      "__________________________________________________________________________________________________\n",
      "conv1d_36 (Conv1D)              (None, 32, 128)      147584      conv1d_35[0][0]                  \n",
      "__________________________________________________________________________________________________\n",
      "tf_op_layer_concat_1 (TensorFlo [(None, 32, 224)]    0           conv1d_36[0][0]                  \n",
      "                                                                 max_pooling1d_13[0][0]           \n",
      "__________________________________________________________________________________________________\n",
      "max_pooling1d_14 (MaxPooling1D) (None, 16, 224)      0           tf_op_layer_concat_1[0][0]       \n",
      "__________________________________________________________________________________________________\n",
      "conv1d_37 (Conv1D)              (None, 16, 256)      516352      max_pooling1d_14[0][0]           \n",
      "__________________________________________________________________________________________________\n",
      "conv1d_38 (Conv1D)              (None, 16, 256)      590080      conv1d_37[0][0]                  \n",
      "__________________________________________________________________________________________________\n",
      "conv1d_39 (Conv1D)              (None, 16, 256)      590080      conv1d_38[0][0]                  \n",
      "__________________________________________________________________________________________________\n",
      "tf_op_layer_concat_2 (TensorFlo [(None, 16, 480)]    0           conv1d_39[0][0]                  \n",
      "                                                                 max_pooling1d_14[0][0]           \n",
      "__________________________________________________________________________________________________\n",
      "max_pooling1d_15 (MaxPooling1D) (None, 8, 480)       0           tf_op_layer_concat_2[0][0]       \n",
      "__________________________________________________________________________________________________\n",
      "dropout_3 (Dropout)             (None, 8, 480)       0           max_pooling1d_15[0][0]           \n",
      "__________________________________________________________________________________________________\n",
      "flatten_3 (Flatten)             (None, 3840)         0           dropout_3[0][0]                  \n",
      "__________________________________________________________________________________________________\n",
      "dense_6 (Dense)                 (None, 256)          983296      flatten_3[0][0]                  \n",
      "__________________________________________________________________________________________________\n",
      "batch_normalization_3 (BatchNor (None, 256)          1024        dense_6[0][0]                    \n",
      "__________________________________________________________________________________________________\n",
      "activation_3 (Activation)       (None, 256)          0           batch_normalization_3[0][0]      \n",
      "__________________________________________________________________________________________________\n",
      "dense_7 (Dense)                 (None, 12)           3084        activation_3[0][0]               \n",
      "==================================================================================================\n",
      "Total params: 3,190,796\n",
      "Trainable params: 3,190,284\n",
      "Non-trainable params: 512\n",
      "__________________________________________________________________________________________________\n"
     ]
    }
   ],
   "source": [
    "#skip-connection\n",
    "input_tensor = layers.Input(shape=(130, 126))\n",
    "\n",
    "x = layers.Conv1D(32, 9, padding='same', activation='relu')(input_tensor)\n",
    "x = layers.Conv1D(32, 9, padding='same', activation='relu')(x)\n",
    "skip_1 = layers.MaxPool1D()(x)\n",
    "\n",
    "x = layers.Conv1D(64, 9, padding='same', activation='relu')(skip_1)\n",
    "x = layers.Conv1D(64, 9, padding='same', activation='relu')(x)\n",
    "x = tf.concat([x, skip_1], -1)\n",
    "skip_2 = layers.MaxPool1D()(x)\n",
    "\n",
    "x = layers.Conv1D(128, 9, padding='same', activation='relu')(skip_2)\n",
    "x = layers.Conv1D(128, 9, padding='same', activation='relu')(x)\n",
    "x = layers.Conv1D(128, 9, padding='same', activation='relu')(x)\n",
    "x = tf.concat([x, skip_2], -1)\n",
    "skip_3 = layers.MaxPool1D()(x)\n",
    "\n",
    "x = layers.Conv1D(256, 9, padding='same', activation='relu')(skip_3)\n",
    "x = layers.Conv1D(256, 9, padding='same', activation='relu')(x)\n",
    "x = layers.Conv1D(256, 9, padding='same', activation='relu')(x)\n",
    "x = tf.concat([x, skip_3], -1)\n",
    "x = layers.MaxPool1D()(x)\n",
    "x = layers.Dropout(0.3)(x)\n",
    "\n",
    "x = layers.Flatten()(x)\n",
    "x = layers.Dense(256)(x)\n",
    "x = layers.BatchNormalization()(x)\n",
    "x = layers.Activation('relu')(x)\n",
    "\n",
    "output_tensor = layers.Dense(12)(x)\n",
    "\n",
    "model_wav_skip = tf.keras.Model(input_tensor, output_tensor)\n",
    "\n",
    "model_wav_skip.summary()"
   ]
  },
  {
   "cell_type": "code",
   "execution_count": 35,
   "metadata": {},
   "outputs": [
    {
     "name": "stdout",
     "output_type": "stream",
     "text": [
      "✅\n"
     ]
    }
   ],
   "source": [
    "optimizer=tf.keras.optimizers.Adam(1e-4)\n",
    "model_wav_skip.compile(loss=tf.keras.losses.CategoricalCrossentropy(from_logits=True),\n",
    "             optimizer=optimizer,\n",
    "             metrics=['accuracy'])\n",
    "print(\"✅\")"
   ]
  },
  {
   "cell_type": "code",
   "execution_count": 36,
   "metadata": {},
   "outputs": [
    {
     "name": "stdout",
     "output_type": "stream",
     "text": [
      "✅\n"
     ]
    }
   ],
   "source": [
    "# the save point\n",
    "checkpoint_dir = os.getenv('HOME')+'/aiffel/speech_recognition/models/wav_skip'\n",
    "\n",
    "cp_callback = tf.keras.callbacks.ModelCheckpoint(checkpoint_dir,\n",
    "                                                 save_weights_only=True,\n",
    "                                                 monitor='val_loss',\n",
    "                                                 mode='auto',\n",
    "                                                 save_best_only=True,\n",
    "                                                 verbose=1)\n",
    "print(\"✅\")"
   ]
  },
  {
   "cell_type": "code",
   "execution_count": 37,
   "metadata": {},
   "outputs": [
    {
     "name": "stdout",
     "output_type": "stream",
     "text": [
      "Epoch 1/10\n",
      "837/843 [============================>.] - ETA: 0s - loss: 1.9654 - accuracy: 0.3301\n",
      "Epoch 00001: val_loss improved from inf to 1.55237, saving model to /home/ssac19/aiffel/speech_recognition/models/wav_skip\n",
      "843/843 [==============================] - 6s 7ms/step - loss: 1.9633 - accuracy: 0.3309 - val_loss: 1.5524 - val_accuracy: 0.4798\n",
      "Epoch 2/10\n",
      "837/843 [============================>.] - ETA: 0s - loss: 1.3674 - accuracy: 0.5392\n",
      "Epoch 00002: val_loss improved from 1.55237 to 1.14032, saving model to /home/ssac19/aiffel/speech_recognition/models/wav_skip\n",
      "843/843 [==============================] - 5s 6ms/step - loss: 1.3666 - accuracy: 0.5393 - val_loss: 1.1403 - val_accuracy: 0.6095\n",
      "Epoch 3/10\n",
      "843/843 [==============================] - ETA: 0s - loss: 1.0506 - accuracy: 0.6455\n",
      "Epoch 00003: val_loss improved from 1.14032 to 0.91776, saving model to /home/ssac19/aiffel/speech_recognition/models/wav_skip\n",
      "843/843 [==============================] - 6s 7ms/step - loss: 1.0506 - accuracy: 0.6455 - val_loss: 0.9178 - val_accuracy: 0.6882\n",
      "Epoch 4/10\n",
      "839/843 [============================>.] - ETA: 0s - loss: 0.8371 - accuracy: 0.7242\n",
      "Epoch 00004: val_loss improved from 0.91776 to 0.76766, saving model to /home/ssac19/aiffel/speech_recognition/models/wav_skip\n",
      "843/843 [==============================] - 6s 7ms/step - loss: 0.8366 - accuracy: 0.7241 - val_loss: 0.7677 - val_accuracy: 0.7487\n",
      "Epoch 5/10\n",
      "840/843 [============================>.] - ETA: 0s - loss: 0.6869 - accuracy: 0.7725\n",
      "Epoch 00005: val_loss improved from 0.76766 to 0.65786, saving model to /home/ssac19/aiffel/speech_recognition/models/wav_skip\n",
      "843/843 [==============================] - 6s 7ms/step - loss: 0.6865 - accuracy: 0.7725 - val_loss: 0.6579 - val_accuracy: 0.7641\n",
      "Epoch 6/10\n",
      "842/843 [============================>.] - ETA: 0s - loss: 0.5792 - accuracy: 0.8075\n",
      "Epoch 00006: val_loss improved from 0.65786 to 0.62407, saving model to /home/ssac19/aiffel/speech_recognition/models/wav_skip\n",
      "843/843 [==============================] - 6s 7ms/step - loss: 0.5793 - accuracy: 0.8074 - val_loss: 0.6241 - val_accuracy: 0.7984\n",
      "Epoch 7/10\n",
      "843/843 [==============================] - ETA: 0s - loss: 0.5079 - accuracy: 0.8308\n",
      "Epoch 00007: val_loss improved from 0.62407 to 0.62036, saving model to /home/ssac19/aiffel/speech_recognition/models/wav_skip\n",
      "843/843 [==============================] - 6s 7ms/step - loss: 0.5079 - accuracy: 0.8308 - val_loss: 0.6204 - val_accuracy: 0.7829\n",
      "Epoch 8/10\n",
      "841/843 [============================>.] - ETA: 0s - loss: 0.4464 - accuracy: 0.8523\n",
      "Epoch 00008: val_loss improved from 0.62036 to 0.47763, saving model to /home/ssac19/aiffel/speech_recognition/models/wav_skip\n",
      "843/843 [==============================] - 6s 7ms/step - loss: 0.4471 - accuracy: 0.8521 - val_loss: 0.4776 - val_accuracy: 0.8394\n",
      "Epoch 9/10\n",
      "842/843 [============================>.] - ETA: 0s - loss: 0.3923 - accuracy: 0.8719\n",
      "Epoch 00009: val_loss did not improve from 0.47763\n",
      "843/843 [==============================] - 6s 7ms/step - loss: 0.3921 - accuracy: 0.8720 - val_loss: 0.5747 - val_accuracy: 0.8017\n",
      "Epoch 10/10\n",
      "839/843 [============================>.] - ETA: 0s - loss: 0.3525 - accuracy: 0.8865\n",
      "Epoch 00010: val_loss improved from 0.47763 to 0.44360, saving model to /home/ssac19/aiffel/speech_recognition/models/wav_skip\n",
      "843/843 [==============================] - 6s 7ms/step - loss: 0.3517 - accuracy: 0.8866 - val_loss: 0.4436 - val_accuracy: 0.8501\n",
      "✅\n"
     ]
    }
   ],
   "source": [
    "#30분 내외 소요\n",
    "history_wav_skip = model_wav_skip.fit(train_dataset, epochs=max_epochs,\n",
    "                    steps_per_epoch=len(train_wav) // batch_size,\n",
    "                    validation_data=test_dataset,\n",
    "                    validation_steps=len(test_wav) // batch_size,\n",
    "                    callbacks=[cp_callback]\n",
    "                    )\n",
    "print(\"✅\")"
   ]
  },
  {
   "cell_type": "code",
   "execution_count": 38,
   "metadata": {},
   "outputs": [
    {
     "data": {
      "image/png": "[encoded data removed]",
      "text/plain": [
       "<Figure size 576x576 with 2 Axes>"
      ]
     },
     "metadata": {
      "needs_background": "light"
     },
     "output_type": "display_data"
    },
    {
     "name": "stdout",
     "output_type": "stream",
     "text": [
      "✅\n"
     ]
    }
   ],
   "source": [
    "import matplotlib.pyplot as plt\n",
    "\n",
    "acc = history_wav_skip.history['accuracy']\n",
    "val_acc = history_wav_skip.history['val_accuracy']\n",
    "\n",
    "loss=history_wav_skip.history['loss']\n",
    "val_loss=history_wav_skip.history['val_loss']\n",
    "\n",
    "epochs_range = range(len(acc))\n",
    "\n",
    "plt.figure(figsize=(8, 8))\n",
    "plt.subplot(1, 2, 1)\n",
    "plt.plot(epochs_range, acc, label='Training Accuracy')\n",
    "plt.plot(epochs_range, val_acc, label='Validation Accuracy')\n",
    "plt.legend(loc='lower right')\n",
    "plt.title('Training and Validation Accuracy')\n",
    "\n",
    "plt.subplot(1, 2, 2)\n",
    "plt.plot(epochs_range, loss, label='Training Loss')\n",
    "plt.plot(epochs_range, val_loss, label='Validation Loss')\n",
    "plt.legend(loc='upper right')\n",
    "plt.title('Training and Validation Loss')\n",
    "plt.show()\n",
    "print(\"✅\")"
   ]
  },
  {
   "cell_type": "code",
   "execution_count": 39,
   "metadata": {},
   "outputs": [
    {
     "name": "stdout",
     "output_type": "stream",
     "text": [
      "188/188 [==============================] - 6s 30ms/step - loss: 0.4485 - accuracy: 0.8433\n",
      "loss value: 0.448\n",
      "accuracy value: 84.3333%\n",
      "✅\n"
     ]
    }
   ],
   "source": [
    "# Evaluation \n",
    "\n",
    "model_wav_skip.load_weights(checkpoint_dir)\n",
    "results = model_wav_skip.evaluate(test_dataset)\n",
    "\n",
    "# loss\n",
    "print(\"loss value: {:.3f}\".format(results[0]))\n",
    "# accuracy\n",
    "print(\"accuracy value: {:.4f}%\".format(results[1]*100))\n",
    "print(\"✅\")"
   ]
  }
 ],
 "metadata": {
  "kernelspec": {
   "display_name": "aiffel",
   "language": "python",
   "name": "aiffel"
  },
  "language_info": {
   "codemirror_mode": {
    "name": "ipython",
    "version": 3
   },
   "file_extension": ".py",
   "mimetype": "text/x-python",
   "name": "python",
   "nbconvert_exporter": "python",
   "pygments_lexer": "ipython3",
   "version": "3.7.9"
  }
 },
 "nbformat": 4,
 "nbformat_minor": 4
}
