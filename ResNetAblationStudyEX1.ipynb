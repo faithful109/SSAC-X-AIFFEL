{
 "cells": [
  {
   "cell_type": "markdown",
   "metadata": {},
   "source": [
    "# 2.없다면 어떻게 될까?(ResNet Ablation Study)  \n",
    "\n",
    "## 2-1. 들어가며  \n",
    "딥러닝 논문에서 다양한 방법을 적용하며 방법에 따른 차이를 실험결과로 보여주는데, 논문에 실험설정이나 구현방법이 어느정도 명시되어 있기에 엄청난 하드웨어나 특정 데이터셋이 필요하지 않은 논문은 따라해볼 수 있습니다. 이번 시간에는 모델을 구현, 모델에 각 기법을 사용하고 안하고의 차이를 체감하는 시간을 갖도록 하겠습니다.  \n",
    "  \n",
    "\n",
    "\n",
    "### 실습목표\n",
    "----------------------------------------------------\n",
    "  1. 직접 ResNet 구현하기\n",
    "  2. 모델을 config에 따라서 변경가능하도록 만들기\n",
    "  3. 직접 실험해서 성능 비교하기\n",
    "  \n",
    "  \n",
    "### 학습내용\n",
    "-------------------------------------------------\n",
    "  1. Ablation Study\n",
    "  2. Back to the 2015\n",
    "  3. Block\n",
    "  4. Complete Model\n",
    "  5. Experiment"
   ]
  },
  {
   "cell_type": "markdown",
   "metadata": {},
   "source": [
    "## 2-2. Ablation Study\n",
    "[ablation study](https://www.quora.com/In-the-context-of-deep-learning-what-is-an-ablation-study)  \n",
    "우리가 해볼 프로젝트는 애볼레이션 연구(ablation study)입니다. 직역하면 제거연구입니다.  \n",
    "딥러닝 논문에서 여러 방법을 제시하는데, 제시한 방법이 유효한지 확인할 때 해당하는 방법을 제거한 모델와 추가한 모델의 결과를 비교합니다.   \n",
    "애블레이션 연구는 제안한 방법이 결과, 성능에 어떤 영향을 끼치는지 확인하는 실험.  \n",
    "아래는 ResNet논문에서 제시한 residual connection의 애블레이션 연구.  \n",
    "ImageNet 검증 데이터셋에 대한 Top-1 error rate를 지표로 사용했습니다.  \n",
    "아래 비교를 통해 ResNet이 residual connection을 활용해 깊은 네트워크를 쌓았을 때, 이를 통한 성능향상을 얻음을 증명\n",
    "<img src=\"ResNet_AS.png\">"
   ]
  },
  {
   "cell_type": "markdown",
   "metadata": {},
   "source": [
    "## 2-3. Ablation Study 실습(1) CIFAR-10 데이터셋 준비하기  \n",
    "\n",
    "ResNet이 막 공개된 시점으로 돌아가 실제로 유효한지 실험을 통해 성능을 평가하고 다른 실험에 적용해보기로 하자.  \n",
    "ResNet의 성능을 평가하기 위해서는 논문과 동일하게 ImageNet의 데이터셋을 사용해야 하지만, 우리의 하드웨어 한계로 이미지넷보다 작은 CIFAR-10 데이터 셋으로 평가해보자.  \n",
    "**우리의 실험은 CIFAR-10에 대해 일반 네트워크와 ResNET을 구현해 둘의 결과를 비교해 ResNet/residual connection의 유효성을 확인하는 것이 목적**  \n",
    "[ResNet논문](https://openaccess.thecvf.com/content_cvpr_2016/papers/He_Deep_Residual_Learning_CVPR_2016_paper.pdf)  \n",
    "\n",
    "\n",
    "\n",
    "### 1) CIFAR-10\n",
    "---------------------------------------------------------------------\n",
    "[CIFAR-10](https://www.tensorflow.org/datasets/catalog/cifar10)  \n",
    "우리가 쓸 CIFAR-10은 10개의 카테고리에 대해 6만장의 이미지가 있으며 각 이미지의 크기는 32X32입니다.  \n",
    "MNSIT와 동일하게 CIFAR-10 데이터셋을 가지고 물체의 종류를 분류해보자.  \n",
    "데이터셋 준비\n",
    "```\n",
    "$ pip install tensorflow-datasets\n",
    "```"
   ]
  },
  {
   "cell_type": "code",
   "execution_count": 2,
   "metadata": {},
   "outputs": [
    {
     "name": "stdout",
     "output_type": "stream",
     "text": [
      "WARNING:tensorflow:From <ipython-input-2-dd35409f5a28>:5: is_gpu_available (from tensorflow.python.framework.test_util) is deprecated and will be removed in a future version.\n",
      "Instructions for updating:\n",
      "Use `tf.config.list_physical_devices('GPU')` instead.\n"
     ]
    },
    {
     "data": {
      "text/plain": [
       "True"
      ]
     },
     "execution_count": 2,
     "metadata": {},
     "output_type": "execute_result"
    }
   ],
   "source": [
    "import tensorflow as tf\n",
    "\n",
    "tf.test.is_gpu_available(\n",
    "    cuda_only=False,\n",
    "    min_cuda_compute_capability=None\n",
    ")"
   ]
  },
  {
   "cell_type": "code",
   "execution_count": 3,
   "metadata": {},
   "outputs": [
    {
     "data": {
      "text/plain": [
       "[PhysicalDevice(name='/physical_device:GPU:0', device_type='GPU')]"
      ]
     },
     "execution_count": 3,
     "metadata": {},
     "output_type": "execute_result"
    }
   ],
   "source": [
    "# Tensorflow가 활용할 GPU가 장착되어 있는지 확인해 봅니다.\n",
    "tf.config.list_physical_devices('GPU')"
   ]
  },
  {
   "cell_type": "code",
   "execution_count": 4,
   "metadata": {},
   "outputs": [
    {
     "data": {
      "text/plain": [
       "[name: \"/device:CPU:0\"\n",
       " device_type: \"CPU\"\n",
       " memory_limit: 268435456\n",
       " locality {\n",
       " }\n",
       " incarnation: 16656434992025018496,\n",
       " name: \"/device:XLA_CPU:0\"\n",
       " device_type: \"XLA_CPU\"\n",
       " memory_limit: 17179869184\n",
       " locality {\n",
       " }\n",
       " incarnation: 12532857783905193411\n",
       " physical_device_desc: \"device: XLA_CPU device\",\n",
       " name: \"/device:XLA_GPU:0\"\n",
       " device_type: \"XLA_GPU\"\n",
       " memory_limit: 17179869184\n",
       " locality {\n",
       " }\n",
       " incarnation: 2092380731141653090\n",
       " physical_device_desc: \"device: XLA_GPU device\",\n",
       " name: \"/device:GPU:0\"\n",
       " device_type: \"GPU\"\n",
       " memory_limit: 5829140160\n",
       " locality {\n",
       "   bus_id: 1\n",
       "   links {\n",
       "   }\n",
       " }\n",
       " incarnation: 5954372938965530517\n",
       " physical_device_desc: \"device: 0, name: GeForce RTX 2070, pci bus id: 0000:01:00.0, compute capability: 7.5\"]"
      ]
     },
     "execution_count": 4,
     "metadata": {},
     "output_type": "execute_result"
    }
   ],
   "source": [
    "from tensorflow.python.client import device_lib\n",
    "device_lib.list_local_devices()"
   ]
  },
  {
   "cell_type": "code",
   "execution_count": 5,
   "metadata": {},
   "outputs": [
    {
     "data": {
      "text/plain": [
       "'2.3.0'"
      ]
     },
     "execution_count": 5,
     "metadata": {},
     "output_type": "execute_result"
    }
   ],
   "source": [
    "tf.__version__"
   ]
  },
  {
   "cell_type": "code",
   "execution_count": 6,
   "metadata": {
    "scrolled": true
   },
   "outputs": [
    {
     "name": "stdout",
     "output_type": "stream",
     "text": [
      "Sun Apr 18 23:38:20 2021       \r\n",
      "+-----------------------------------------------------------------------------+\r\n",
      "| NVIDIA-SMI 450.102.04   Driver Version: 450.102.04   CUDA Version: 11.0     |\r\n",
      "|-------------------------------+----------------------+----------------------+\r\n",
      "| GPU  Name        Persistence-M| Bus-Id        Disp.A | Volatile Uncorr. ECC |\r\n",
      "| Fan  Temp  Perf  Pwr:Usage/Cap|         Memory-Usage | GPU-Util  Compute M. |\r\n",
      "|                               |                      |               MIG M. |\r\n",
      "|===============================+======================+======================|\r\n",
      "|   0  GeForce RTX 2070    Off  | 00000000:01:00.0  On |                  N/A |\r\n",
      "| N/A   43C    P0    34W /  N/A |   2071MiB /  7982MiB |     26%      Default |\r\n",
      "|                               |                      |                  N/A |\r\n",
      "+-------------------------------+----------------------+----------------------+\r\n",
      "                                                                               \r\n",
      "+-----------------------------------------------------------------------------+\r\n",
      "| Processes:                                                                  |\r\n",
      "|  GPU   GI   CI        PID   Type   Process name                  GPU Memory |\r\n",
      "|        ID   ID                                                   Usage      |\r\n",
      "|=============================================================================|\r\n",
      "|    0   N/A  N/A      1159      G   /usr/lib/xorg/Xorg                391MiB |\r\n",
      "|    0   N/A  N/A      2493      G   /usr/bin/gnome-shell              191MiB |\r\n",
      "|    0   N/A  N/A      5838      G   ...AAAAAAAA== --shared-files       22MiB |\r\n",
      "|    0   N/A  N/A     19727      C   ...a3/envs/aiffel/bin/python      241MiB |\r\n",
      "|    0   N/A  N/A     29333      G   ...AAAAAAAA== --shared-files      225MiB |\r\n",
      "|    0   N/A  N/A     30197      C   ...a3/envs/aiffel/bin/python      497MiB |\r\n",
      "|    0   N/A  N/A     31147      C   ...a3/envs/aiffel/bin/python      497MiB |\r\n",
      "+-----------------------------------------------------------------------------+\r\n"
     ]
    }
   ],
   "source": [
    "!nvidia-smi"
   ]
  },
  {
   "cell_type": "code",
   "execution_count": 7,
   "metadata": {},
   "outputs": [],
   "source": [
    "# TensorFlow and tf.keras\n",
    "import tensorflow as tf\n",
    "from tensorflow import keras\n",
    "\n",
    "# Helper libraries\n",
    "import numpy as np\n",
    "import matplotlib.pyplot as plt\n",
    "\n",
    "import tensorflow_datasets as tfds"
   ]
  },
  {
   "cell_type": "code",
   "execution_count": 8,
   "metadata": {},
   "outputs": [
    {
     "data": {
      "text/plain": [
       "[PhysicalDevice(name='/physical_device:GPU:0', device_type='GPU')]"
      ]
     },
     "execution_count": 8,
     "metadata": {},
     "output_type": "execute_result"
    }
   ],
   "source": [
    "# Tensorflow가 활용할 GPU가 장착되어 있는지 확인해 봅니다.\n",
    "tf.config.list_physical_devices('GPU')"
   ]
  },
  {
   "cell_type": "code",
   "execution_count": 9,
   "metadata": {},
   "outputs": [],
   "source": [
    "# 데이터셋 다운로드\n",
    "# tfds.load()는 ~/tensorflow_datasets 경로에 데이터셋 다운로드.\n",
    "# 경로를 바꾸고 싶다면 data_dir 사용.\n",
    "import urllib3\n",
    "urllib3.disable_warnings()\n",
    "\n",
    "#tfds.disable_progress_bar()   # 이 주석을 풀면 데이터셋 다운로드과정의 프로그레스바가 나타나지 않습니다.\n",
    "\n",
    "(ds_train, ds_test), ds_info = tfds.load(\n",
    "    'cifar10',\n",
    "    split=['train', 'test'],\n",
    "    shuffle_files=True,\n",
    "    with_info=True,\n",
    ")"
   ]
  },
  {
   "cell_type": "code",
   "execution_count": 10,
   "metadata": {},
   "outputs": [
    {
     "name": "stdout",
     "output_type": "stream",
     "text": [
      "FeaturesDict({\n",
      "    'id': Text(shape=(), dtype=tf.string),\n",
      "    'image': Image(shape=(32, 32, 3), dtype=tf.uint8),\n",
      "    'label': ClassLabel(shape=(), dtype=tf.int64, num_classes=10),\n",
      "})\n"
     ]
    }
   ],
   "source": [
    "# Tensorflow 데이터셋을 로드하면 꼭 feature 정보를 확인해 보세요. \n",
    "print(ds_info.features)"
   ]
  },
  {
   "cell_type": "code",
   "execution_count": 11,
   "metadata": {},
   "outputs": [
    {
     "name": "stdout",
     "output_type": "stream",
     "text": [
      "tf.Tensor(50000, shape=(), dtype=int64)\n",
      "tf.Tensor(10000, shape=(), dtype=int64)\n"
     ]
    }
   ],
   "source": [
    "# 데이터의 개수도 확인해 봅시다. \n",
    "print(tf.data.experimental.cardinality(ds_train))\n",
    "print(tf.data.experimental.cardinality(ds_test))"
   ]
  },
  {
   "cell_type": "markdown",
   "metadata": {},
   "source": [
    "tensorflow의 데이터셋은 Numpy가 아니기 때문에. ds_train.shape 사용불가.  \n",
    "\n",
    "\n",
    "### 2) Input Normalization  \n",
    "-------------------------------------------------\n",
    "[Normalization설명](https://light-tree.tistory.com/132)  \n",
    "우리의 이미지는 RGB 3채널로 각 채널은 0 ~ 255의 범위값을 갖습니다.  \n",
    "모델에 넣어주기 전에 채널의 최댓값인 255로 정규화하여 이미지 표현을 0~1사이로 만들어줍니다."
   ]
  },
  {
   "cell_type": "code",
   "execution_count": 12,
   "metadata": {},
   "outputs": [],
   "source": [
    "def normalize_and_resize_img(image, label):\n",
    "    \"\"\"Normalizes images: `uint8` -> `float32`.\"\"\"\n",
    "    # image = tf.image.resize(image, [32, 32])\n",
    "    return tf.cast(image, tf.float32) / 255., label #image를 float32로 변환하고 255.0으로 나눈것과 라벨을 반환."
   ]
  },
  {
   "cell_type": "code",
   "execution_count": 13,
   "metadata": {},
   "outputs": [],
   "source": [
    "def apply_normalize_on_dataset(ds, is_test=False, batch_size=16):\n",
    "    ds = ds.map( #map은 ds에 정규화한 이미지를 1대1 대응(맵핑)시킨다.\n",
    "        normalize_and_resize_img, \n",
    "        num_parallel_calls=1 # num_parallel_calls는 병렬처리 레벨지정. 단순하게 cpu 코어 숫자.\n",
    "    )\n",
    "    ds = ds.batch(batch_size)#크기가 크기에 한번에 메모리에 올리지 못한다. 그래서 배치로 나누어 학습시키며 업데이트 빈도 조절. \n",
    "                             #drop_remainder는 마지막에 남은 데이터 drop할지 여부결정\n",
    "    if not is_test:\n",
    "        ds = ds.repeat()#주어진 데이터가 끝나면 다시 처음부터 반복.\n",
    "        ds = ds.shuffle(200)#데이터 섞기\n",
    "    ds = ds.prefetch(tf.data.experimental.AUTOTUNE)#훈련과 데이터추출에 걸리는 시간 단축.\n",
    "    #tf.data.experimental.AUTOTUNE으로 설정시 tf.data 런타임이 실행시에 동적으로 값을 조정\n",
    "    return ds"
   ]
  },
  {
   "cell_type": "markdown",
   "metadata": {},
   "source": [
    "CIFAR-10은 10개의 클래스를 가진다."
   ]
  },
  {
   "cell_type": "code",
   "execution_count": 14,
   "metadata": {},
   "outputs": [
    {
     "data": {
      "text/plain": [
       "10"
      ]
     },
     "execution_count": 14,
     "metadata": {},
     "output_type": "execute_result"
    }
   ],
   "source": [
    "ds_info.features[\"label\"].num_classes"
   ]
  },
  {
   "cell_type": "code",
   "execution_count": 15,
   "metadata": {},
   "outputs": [
    {
     "data": {
      "text/plain": [
       "['airplane',\n",
       " 'automobile',\n",
       " 'bird',\n",
       " 'cat',\n",
       " 'deer',\n",
       " 'dog',\n",
       " 'frog',\n",
       " 'horse',\n",
       " 'ship',\n",
       " 'truck']"
      ]
     },
     "execution_count": 15,
     "metadata": {},
     "output_type": "execute_result"
    }
   ],
   "source": [
    "ds_info.features[\"label\"].names"
   ]
  },
  {
   "cell_type": "code",
   "execution_count": 16,
   "metadata": {},
   "outputs": [
    {
     "data": {
      "image/png": "[encoded data removed]",
      "text/plain": [
       "<Figure size 648x648 with 9 Axes>"
      ]
     },
     "metadata": {},
     "output_type": "display_data"
    }
   ],
   "source": [
    "fig = tfds.show_examples(ds_train, ds_info)"
   ]
  },
  {
   "cell_type": "code",
   "execution_count": 17,
   "metadata": {},
   "outputs": [
    {
     "data": {
      "image/png": "[encoded data removed]",
      "text/plain": [
       "<Figure size 648x648 with 9 Axes>"
      ]
     },
     "metadata": {},
     "output_type": "display_data"
    }
   ],
   "source": [
    "fig = tfds.show_examples(ds_test, ds_info)"
   ]
  },
  {
   "cell_type": "markdown",
   "metadata": {},
   "source": [
    "## 2-4. Ablation Study 실습 (2) 블록 구성하기  \n",
    "\n",
    "논문 모델을 그대로 구현하는 것도 중요하지만 우리가 함수를 만드는 것처럼 반복되는 것을 만들어 놓고 변경되는 부분만 바꾸는 것이 필요하다.  \n",
    "일반적인 딥러닝 모델에서 주요 구조를 모듈화해서 조금씩 바꾸어 쓸 수 있는 단위르 블록이라고 합니다.  \n",
    "레이어는 기본적으로 텐서플로우, 케라스, 파이토치에서 기본적으로 제공하는 단위  \n",
    "블록을 단위로 모델을 만들어야 한다.  \n",
    "ResNet을 보면 18, 34, 50, 101, 152의 5가지 네트워크가 있습니다.  \n",
    "ResNet의 기본 구조인 블록을 구현해봅니다.  \n",
    "\n",
    "\n",
    "### VGG 기본 블록 만들기\n",
    "----------------------------------------------------------------\n",
    "<img src=\"VGG.png\">\n",
    "\n",
    "이중에서 VGG-16, 19의 기본 구조 블록을 구현해보자.  \n",
    "블록을 구현하기 위해 모델 구조의 특징부터 살펴보자.  \n",
    "VGG의 블록은 CNN 레이어 여러개와 Max Pooling 레이어 한개로 이루어져 있다. 여기서 CNN은 모두 커널 크기가 3X3이다.  \n",
    "블록 내 CNN 레이어의 채널은 하나로 유지되지만 서로 다른 블록 간 CNN 레이어의 채널 수는 다를 수 있다.\n",
    "블록에 따라 CNN 레이어의 갯수 또한 달라진다.  \n",
    "블록의 마지막에는 항상 Max Pooling 레이어가 붙는다. 따라서 우리 블록은 여러개의 CNN 레이어와 Max Pooling 레이어한개로 이루어지고 CNN 레이어 수와 채널을 조절할 수 있어야 한다.  \n",
    "block_num은 레이어의 이름을 붙여주기 위해서 추가되었고 input_shape는 summary를 출력하기 위해서 넣어주었다. "
   ]
  },
  {
   "cell_type": "code",
   "execution_count": 18,
   "metadata": {},
   "outputs": [],
   "source": [
    "# function for building VGG Block\n",
    "\n",
    "def build_vgg_block(input_layer,\n",
    "                    num_cnn=3, \n",
    "                    channel=64,\n",
    "                    block_num=1,\n",
    "                   ):\n",
    "    # 입력 레이어\n",
    "    x = input_layer\n",
    "\n",
    "    # CNN 레이어\n",
    "    for cnn_num in range(num_cnn):\n",
    "        x = keras.layers.Conv2D(\n",
    "            filters=channel,\n",
    "            kernel_size=(3,3),\n",
    "            activation='relu',\n",
    "            kernel_initializer='he_normal',\n",
    "            padding='same',\n",
    "            name=f'block{block_num}_conv{cnn_num}'\n",
    "        )(x)    \n",
    "\n",
    "    # Max Pooling 레이어\n",
    "    x = keras.layers.MaxPooling2D(\n",
    "        pool_size=(2, 2),\n",
    "        strides=2,\n",
    "        name=f'block{block_num}_pooling'\n",
    "    )(x)\n",
    "\n",
    "    return x"
   ]
  },
  {
   "cell_type": "markdown",
   "metadata": {},
   "source": [
    "위의 VGG 블록을 추가하는 함수를 이용해서 input_layer에 추가해보자.  \n",
    "입력 레이어는 아까 데이터셋에서 봤듯이 32,32이고 rgb이므로 3채널->(32, 32, 3).  \n",
    "이 입력 레이어를 인자로 받아 build_vgg_block()는 블록의 레이어를 빌드하고 출력값을 얻을 수 있다.  \n",
    "이제 keras의 모델 클래스에서 input과 output을 정의해주면 간단하게 블록의 모델을 확인할 수 있다."
   ]
  },
  {
   "cell_type": "code",
   "execution_count": 19,
   "metadata": {},
   "outputs": [],
   "source": [
    "vgg_input_layer = keras.layers.Input(shape=(32,32,3))   # 입력 레이어 생성\n",
    "vgg_block_output = build_vgg_block(vgg_input_layer)    # VGG 블록 생성"
   ]
  },
  {
   "cell_type": "code",
   "execution_count": 20,
   "metadata": {},
   "outputs": [
    {
     "name": "stdout",
     "output_type": "stream",
     "text": [
      "Model: \"functional_1\"\n",
      "_________________________________________________________________\n",
      "Layer (type)                 Output Shape              Param #   \n",
      "=================================================================\n",
      "input_1 (InputLayer)         [(None, 32, 32, 3)]       0         \n",
      "_________________________________________________________________\n",
      "block1_conv0 (Conv2D)        (None, 32, 32, 64)        1792      \n",
      "_________________________________________________________________\n",
      "block1_conv1 (Conv2D)        (None, 32, 32, 64)        36928     \n",
      "_________________________________________________________________\n",
      "block1_conv2 (Conv2D)        (None, 32, 32, 64)        36928     \n",
      "_________________________________________________________________\n",
      "block1_pooling (MaxPooling2D (None, 16, 16, 64)        0         \n",
      "=================================================================\n",
      "Total params: 75,648\n",
      "Trainable params: 75,648\n",
      "Non-trainable params: 0\n",
      "_________________________________________________________________\n"
     ]
    }
   ],
   "source": [
    "# 블록 1개짜리 model 생성\n",
    "model = keras.Model(inputs=vgg_input_layer, outputs=vgg_block_output)  \n",
    "\n",
    "model.summary()"
   ]
  },
  {
   "cell_type": "markdown",
   "metadata": {},
   "source": [
    "## 2-5. Ablation Study 실습(3) VGG Complete Model\n",
    "이제 기본적인 블록을 만드는 함수를 만들었으니 이를 합쳐서 전체 모델을 만드는 함수를 만들어보자.  \n",
    "\n",
    "### VGG-16  \n",
    "----------------------------------------------------\n",
    "먼저 VGG-16부터 만들어보자. 블록내의 CNN 레이어 수와 채널수는 블록마다 다르다.  \n",
    "이는 VGG-16, VGG-19에 따라 달라지기에 함수에 전달되어야 한다. 여기서는 블록별 CNN 수와 채널을 리스트로 전달."
   ]
  },
  {
   "cell_type": "code",
   "execution_count": 21,
   "metadata": {},
   "outputs": [],
   "source": [
    "# VGG 모델 자체를 생성하는 함수입니다.\n",
    "def build_vgg(input_shape=(32,32,3),\n",
    "              num_cnn_list=[2,2,3,3,3],\n",
    "              channel_list=[64,128,256,512,512],\n",
    "              num_classes=10):\n",
    "    \n",
    "    assert len(num_cnn_list) == len(channel_list) #모델을 만들기 전에 config list들이 같은 길이인지 확인합니다.\n",
    "    \n",
    "    input_layer = keras.layers.Input(shape=input_shape)  # input layer를 만들어둡니다.\n",
    "    output = input_layer\n",
    "    \n",
    "    # config list들의 길이만큼 반복해서 블록을 생성합니다.\n",
    "    for i, (num_cnn, channel) in enumerate(zip(num_cnn_list, channel_list)):\n",
    "        output = build_vgg_block(\n",
    "            output,\n",
    "            num_cnn=num_cnn, \n",
    "            channel=channel,\n",
    "            block_num=i\n",
    "        )\n",
    "        \n",
    "    output = keras.layers.Flatten(name='flatten')(output)\n",
    "    output = keras.layers.Dense(4096, activation='relu', name='fc1')(output)\n",
    "    output = keras.layers.Dense(4096, activation='relu', name='fc2')(output)\n",
    "    output = keras.layers.Dense(num_classes, activation='softmax', name='predictions')(output)\n",
    "    \n",
    "    model = keras.Model(\n",
    "        inputs=input_layer, \n",
    "        outputs=output\n",
    "    )\n",
    "    return model"
   ]
  },
  {
   "cell_type": "code",
   "execution_count": 22,
   "metadata": {},
   "outputs": [
    {
     "name": "stdout",
     "output_type": "stream",
     "text": [
      "Model: \"functional_3\"\n",
      "_________________________________________________________________\n",
      "Layer (type)                 Output Shape              Param #   \n",
      "=================================================================\n",
      "input_2 (InputLayer)         [(None, 32, 32, 3)]       0         \n",
      "_________________________________________________________________\n",
      "block0_conv0 (Conv2D)        (None, 32, 32, 64)        1792      \n",
      "_________________________________________________________________\n",
      "block0_conv1 (Conv2D)        (None, 32, 32, 64)        36928     \n",
      "_________________________________________________________________\n",
      "block0_pooling (MaxPooling2D (None, 16, 16, 64)        0         \n",
      "_________________________________________________________________\n",
      "block1_conv0 (Conv2D)        (None, 16, 16, 128)       73856     \n",
      "_________________________________________________________________\n",
      "block1_conv1 (Conv2D)        (None, 16, 16, 128)       147584    \n",
      "_________________________________________________________________\n",
      "block1_pooling (MaxPooling2D (None, 8, 8, 128)         0         \n",
      "_________________________________________________________________\n",
      "block2_conv0 (Conv2D)        (None, 8, 8, 256)         295168    \n",
      "_________________________________________________________________\n",
      "block2_conv1 (Conv2D)        (None, 8, 8, 256)         590080    \n",
      "_________________________________________________________________\n",
      "block2_conv2 (Conv2D)        (None, 8, 8, 256)         590080    \n",
      "_________________________________________________________________\n",
      "block2_pooling (MaxPooling2D (None, 4, 4, 256)         0         \n",
      "_________________________________________________________________\n",
      "block3_conv0 (Conv2D)        (None, 4, 4, 512)         1180160   \n",
      "_________________________________________________________________\n",
      "block3_conv1 (Conv2D)        (None, 4, 4, 512)         2359808   \n",
      "_________________________________________________________________\n",
      "block3_conv2 (Conv2D)        (None, 4, 4, 512)         2359808   \n",
      "_________________________________________________________________\n",
      "block3_pooling (MaxPooling2D (None, 2, 2, 512)         0         \n",
      "_________________________________________________________________\n",
      "block4_conv0 (Conv2D)        (None, 2, 2, 512)         2359808   \n",
      "_________________________________________________________________\n",
      "block4_conv1 (Conv2D)        (None, 2, 2, 512)         2359808   \n",
      "_________________________________________________________________\n",
      "block4_conv2 (Conv2D)        (None, 2, 2, 512)         2359808   \n",
      "_________________________________________________________________\n",
      "block4_pooling (MaxPooling2D (None, 1, 1, 512)         0         \n",
      "_________________________________________________________________\n",
      "flatten (Flatten)            (None, 512)               0         \n",
      "_________________________________________________________________\n",
      "fc1 (Dense)                  (None, 4096)              2101248   \n",
      "_________________________________________________________________\n",
      "fc2 (Dense)                  (None, 4096)              16781312  \n",
      "_________________________________________________________________\n",
      "predictions (Dense)          (None, 10)                40970     \n",
      "=================================================================\n",
      "Total params: 33,638,218\n",
      "Trainable params: 33,638,218\n",
      "Non-trainable params: 0\n",
      "_________________________________________________________________\n"
     ]
    }
   ],
   "source": [
    "# 기본값을 그대로 사용해서 VGG 모델을 만들면 VGG-16이 됩니다.\n",
    "vgg_16 = build_vgg()\n",
    "\n",
    "vgg_16.summary()"
   ]
  },
  {
   "cell_type": "code",
   "execution_count": 23,
   "metadata": {},
   "outputs": [
    {
     "name": "stdout",
     "output_type": "stream",
     "text": [
      "Model: \"functional_5\"\n",
      "_________________________________________________________________\n",
      "Layer (type)                 Output Shape              Param #   \n",
      "=================================================================\n",
      "input_3 (InputLayer)         [(None, 32, 32, 3)]       0         \n",
      "_________________________________________________________________\n",
      "block0_conv0 (Conv2D)        (None, 32, 32, 64)        1792      \n",
      "_________________________________________________________________\n",
      "block0_conv1 (Conv2D)        (None, 32, 32, 64)        36928     \n",
      "_________________________________________________________________\n",
      "block0_pooling (MaxPooling2D (None, 16, 16, 64)        0         \n",
      "_________________________________________________________________\n",
      "block1_conv0 (Conv2D)        (None, 16, 16, 128)       73856     \n",
      "_________________________________________________________________\n",
      "block1_conv1 (Conv2D)        (None, 16, 16, 128)       147584    \n",
      "_________________________________________________________________\n",
      "block1_pooling (MaxPooling2D (None, 8, 8, 128)         0         \n",
      "_________________________________________________________________\n",
      "block2_conv0 (Conv2D)        (None, 8, 8, 256)         295168    \n",
      "_________________________________________________________________\n",
      "block2_conv1 (Conv2D)        (None, 8, 8, 256)         590080    \n",
      "_________________________________________________________________\n",
      "block2_conv2 (Conv2D)        (None, 8, 8, 256)         590080    \n",
      "_________________________________________________________________\n",
      "block2_conv3 (Conv2D)        (None, 8, 8, 256)         590080    \n",
      "_________________________________________________________________\n",
      "block2_pooling (MaxPooling2D (None, 4, 4, 256)         0         \n",
      "_________________________________________________________________\n",
      "block3_conv0 (Conv2D)        (None, 4, 4, 512)         1180160   \n",
      "_________________________________________________________________\n",
      "block3_conv1 (Conv2D)        (None, 4, 4, 512)         2359808   \n",
      "_________________________________________________________________\n",
      "block3_conv2 (Conv2D)        (None, 4, 4, 512)         2359808   \n",
      "_________________________________________________________________\n",
      "block3_conv3 (Conv2D)        (None, 4, 4, 512)         2359808   \n",
      "_________________________________________________________________\n",
      "block3_pooling (MaxPooling2D (None, 2, 2, 512)         0         \n",
      "_________________________________________________________________\n",
      "block4_conv0 (Conv2D)        (None, 2, 2, 512)         2359808   \n",
      "_________________________________________________________________\n",
      "block4_conv1 (Conv2D)        (None, 2, 2, 512)         2359808   \n",
      "_________________________________________________________________\n",
      "block4_conv2 (Conv2D)        (None, 2, 2, 512)         2359808   \n",
      "_________________________________________________________________\n",
      "block4_conv3 (Conv2D)        (None, 2, 2, 512)         2359808   \n",
      "_________________________________________________________________\n",
      "block4_pooling (MaxPooling2D (None, 1, 1, 512)         0         \n",
      "_________________________________________________________________\n",
      "flatten (Flatten)            (None, 512)               0         \n",
      "_________________________________________________________________\n",
      "fc1 (Dense)                  (None, 4096)              2101248   \n",
      "_________________________________________________________________\n",
      "fc2 (Dense)                  (None, 4096)              16781312  \n",
      "_________________________________________________________________\n",
      "predictions (Dense)          (None, 10)                40970     \n",
      "=================================================================\n",
      "Total params: 38,947,914\n",
      "Trainable params: 38,947,914\n",
      "Non-trainable params: 0\n",
      "_________________________________________________________________\n"
     ]
    }
   ],
   "source": [
    "# 원하는 블록의 설계에 따라 매개변수로 리스트를 전달해 줍니다.\n",
    "vgg_19 = build_vgg(\n",
    "    num_cnn_list=[2,2,4,4,4],\n",
    "    channel_list=[64,128,256,512,512]\n",
    ")\n",
    "\n",
    "vgg_19.summary()"
   ]
  },
  {
   "cell_type": "markdown",
   "metadata": {},
   "source": [
    "## 2-6. Ablation Study 실습 (4) VGG-16 vs VGG-19  \n",
    "이제 본격적으로 준비한 데이터셋과 모델 성능 비교를 위해서 모델을 훈련하고 평가하자.  \n",
    "VGG는 VGG-16과 VGG-19를 비교"
   ]
  },
  {
   "cell_type": "code",
   "execution_count": 24,
   "metadata": {},
   "outputs": [],
   "source": [
    "BATCH_SIZE = 256\n",
    "EPOCH = 20"
   ]
  },
  {
   "cell_type": "code",
   "execution_count": 25,
   "metadata": {},
   "outputs": [],
   "source": [
    "(ds_train, ds_test), ds_info = tfds.load(\n",
    "    'cifar10',\n",
    "    split=['train', 'test'],\n",
    "    as_supervised=True,\n",
    "    shuffle_files=True,\n",
    "    with_info=True,\n",
    ")\n",
    "ds_train = apply_normalize_on_dataset(ds_train, batch_size=BATCH_SIZE)\n",
    "ds_test = apply_normalize_on_dataset(ds_test, batch_size=BATCH_SIZE)"
   ]
  },
  {
   "cell_type": "markdown",
   "metadata": {},
   "source": [
    "VGG-16을 만들고 훈련시켜주자.  \n",
    "잠깐! 이 작업은 시간이 상당히 소요됩니다. BATCH_SIZE가 커지면 소요시간이 좀 줄어드는 효과가 있습니다만, 1epoch당 1분 이상 소요될 수도 있습니다. 이 훈련은 40Epoch 정도 수행하는 것을 권장하지만, 20Epoch 정도로도 어느정도 근접하는 성능을 얻을 수는 있을 것입니다."
   ]
  },
  {
   "cell_type": "code",
   "execution_count": 26,
   "metadata": {},
   "outputs": [
    {
     "name": "stdout",
     "output_type": "stream",
     "text": [
      "Epoch 1/20\n",
      "  2/195 [..............................] - ETA: 7s - loss: 2.3052 - accuracy: 0.0918WARNING:tensorflow:Callbacks method `on_train_batch_end` is slow compared to the batch time (batch time: 0.0235s vs `on_train_batch_end` time: 0.0527s). Check your callbacks.\n"
     ]
    },
    {
     "name": "stderr",
     "output_type": "stream",
     "text": [
      "WARNING:tensorflow:Callbacks method `on_train_batch_end` is slow compared to the batch time (batch time: 0.0235s vs `on_train_batch_end` time: 0.0527s). Check your callbacks.\n"
     ]
    },
    {
     "name": "stdout",
     "output_type": "stream",
     "text": [
      "195/195 [==============================] - 18s 90ms/step - loss: 2.2069 - accuracy: 0.1799 - val_loss: 2.1214 - val_accuracy: 0.2381\n",
      "Epoch 2/20\n",
      "195/195 [==============================] - 17s 86ms/step - loss: 2.0245 - accuracy: 0.2659 - val_loss: 1.9275 - val_accuracy: 0.3185\n",
      "Epoch 3/20\n",
      "195/195 [==============================] - 17s 85ms/step - loss: 1.9003 - accuracy: 0.3165 - val_loss: 1.8315 - val_accuracy: 0.3254\n",
      "Epoch 4/20\n",
      "195/195 [==============================] - 17s 85ms/step - loss: 1.7844 - accuracy: 0.3566 - val_loss: 1.7306 - val_accuracy: 0.4002\n",
      "Epoch 5/20\n",
      "195/195 [==============================] - 17s 86ms/step - loss: 1.6890 - accuracy: 0.3919 - val_loss: 1.6388 - val_accuracy: 0.4139\n",
      "Epoch 6/20\n",
      "195/195 [==============================] - 17s 86ms/step - loss: 1.6241 - accuracy: 0.4157 - val_loss: 1.6222 - val_accuracy: 0.4213\n",
      "Epoch 7/20\n",
      "195/195 [==============================] - 17s 86ms/step - loss: 1.5728 - accuracy: 0.4336 - val_loss: 1.5527 - val_accuracy: 0.4531\n",
      "Epoch 8/20\n",
      "195/195 [==============================] - 17s 86ms/step - loss: 1.5287 - accuracy: 0.4515 - val_loss: 1.5246 - val_accuracy: 0.4502\n",
      "Epoch 9/20\n",
      "195/195 [==============================] - 17s 86ms/step - loss: 1.4841 - accuracy: 0.4675 - val_loss: 1.4529 - val_accuracy: 0.4754\n",
      "Epoch 10/20\n",
      "195/195 [==============================] - 17s 86ms/step - loss: 1.4459 - accuracy: 0.4825 - val_loss: 1.4475 - val_accuracy: 0.4733\n",
      "Epoch 11/20\n",
      "195/195 [==============================] - 17s 86ms/step - loss: 1.4083 - accuracy: 0.4978 - val_loss: 1.4247 - val_accuracy: 0.4950\n",
      "Epoch 12/20\n",
      "195/195 [==============================] - 17s 86ms/step - loss: 1.3628 - accuracy: 0.5113 - val_loss: 1.3705 - val_accuracy: 0.5070\n",
      "Epoch 13/20\n",
      "195/195 [==============================] - 17s 86ms/step - loss: 1.3306 - accuracy: 0.5236 - val_loss: 1.3349 - val_accuracy: 0.5147\n",
      "Epoch 14/20\n",
      "195/195 [==============================] - 17s 86ms/step - loss: 1.2952 - accuracy: 0.5385 - val_loss: 1.2881 - val_accuracy: 0.5417\n",
      "Epoch 15/20\n",
      "195/195 [==============================] - 17s 86ms/step - loss: 1.2686 - accuracy: 0.5466 - val_loss: 1.2559 - val_accuracy: 0.5520\n",
      "Epoch 16/20\n",
      "195/195 [==============================] - 17s 86ms/step - loss: 1.2331 - accuracy: 0.5618 - val_loss: 1.2483 - val_accuracy: 0.5599\n",
      "Epoch 17/20\n",
      "195/195 [==============================] - 17s 86ms/step - loss: 1.1984 - accuracy: 0.5695 - val_loss: 1.2165 - val_accuracy: 0.5630\n",
      "Epoch 18/20\n",
      "195/195 [==============================] - 17s 87ms/step - loss: 1.1640 - accuracy: 0.5875 - val_loss: 1.2672 - val_accuracy: 0.5477\n",
      "Epoch 19/20\n",
      "195/195 [==============================] - 17s 87ms/step - loss: 1.1403 - accuracy: 0.5941 - val_loss: 1.2352 - val_accuracy: 0.5600\n",
      "Epoch 20/20\n",
      "195/195 [==============================] - 17s 87ms/step - loss: 1.1096 - accuracy: 0.6075 - val_loss: 1.1696 - val_accuracy: 0.5857\n"
     ]
    }
   ],
   "source": [
    "vgg_16.compile(\n",
    "    loss='sparse_categorical_crossentropy',\n",
    "    optimizer=tf.keras.optimizers.SGD(lr=0.01, clipnorm=1.),\n",
    "    metrics=['accuracy'],\n",
    ")\n",
    "\n",
    "history_16 = vgg_16.fit(\n",
    "    ds_train,\n",
    "    steps_per_epoch=int(ds_info.splits['train'].num_examples/BATCH_SIZE),\n",
    "    validation_steps=int(ds_info.splits['test'].num_examples/BATCH_SIZE),\n",
    "    epochs=EPOCH,\n",
    "    validation_data=ds_test,\n",
    "    verbose=1,\n",
    "    use_multiprocessing=True,\n",
    ")"
   ]
  },
  {
   "cell_type": "markdown",
   "metadata": {},
   "source": [
    "VGG-19을 만들고 훈련시켜주자.\n",
    "VGG-16보다 1/4 훈련시간이 더 걸린다."
   ]
  },
  {
   "cell_type": "code",
   "execution_count": 27,
   "metadata": {},
   "outputs": [
    {
     "name": "stdout",
     "output_type": "stream",
     "text": [
      "Epoch 1/20\n",
      "  2/195 [..............................] - ETA: 16s - loss: 2.3030 - accuracy: 0.1094WARNING:tensorflow:Callbacks method `on_train_batch_end` is slow compared to the batch time (batch time: 0.0323s vs `on_train_batch_end` time: 0.0638s). Check your callbacks.\n"
     ]
    },
    {
     "name": "stderr",
     "output_type": "stream",
     "text": [
      "WARNING:tensorflow:Callbacks method `on_train_batch_end` is slow compared to the batch time (batch time: 0.0323s vs `on_train_batch_end` time: 0.0638s). Check your callbacks.\n"
     ]
    },
    {
     "name": "stdout",
     "output_type": "stream",
     "text": [
      "195/195 [==============================] - 20s 100ms/step - loss: 2.2279 - accuracy: 0.1642 - val_loss: 2.1147 - val_accuracy: 0.2401\n",
      "Epoch 2/20\n",
      "195/195 [==============================] - 20s 102ms/step - loss: 2.0408 - accuracy: 0.2528 - val_loss: 1.9767 - val_accuracy: 0.2806\n",
      "Epoch 3/20\n",
      "195/195 [==============================] - 20s 100ms/step - loss: 1.9068 - accuracy: 0.3072 - val_loss: 1.8050 - val_accuracy: 0.3510\n",
      "Epoch 4/20\n",
      "195/195 [==============================] - 20s 102ms/step - loss: 1.7842 - accuracy: 0.3550 - val_loss: 1.7140 - val_accuracy: 0.3705\n",
      "Epoch 5/20\n",
      "195/195 [==============================] - 20s 102ms/step - loss: 1.6994 - accuracy: 0.3859 - val_loss: 1.6306 - val_accuracy: 0.4092\n",
      "Epoch 6/20\n",
      "195/195 [==============================] - 20s 101ms/step - loss: 1.6260 - accuracy: 0.4147 - val_loss: 1.5523 - val_accuracy: 0.4322\n",
      "Epoch 7/20\n",
      "195/195 [==============================] - 20s 102ms/step - loss: 1.5663 - accuracy: 0.4330 - val_loss: 1.5031 - val_accuracy: 0.4540\n",
      "Epoch 8/20\n",
      "195/195 [==============================] - 20s 102ms/step - loss: 1.5096 - accuracy: 0.4548 - val_loss: 1.4535 - val_accuracy: 0.4765\n",
      "Epoch 9/20\n",
      "195/195 [==============================] - 20s 102ms/step - loss: 1.4631 - accuracy: 0.4696 - val_loss: 1.4372 - val_accuracy: 0.4794\n",
      "Epoch 10/20\n",
      "195/195 [==============================] - 20s 102ms/step - loss: 1.4183 - accuracy: 0.4894 - val_loss: 1.4044 - val_accuracy: 0.4942\n",
      "Epoch 11/20\n",
      "195/195 [==============================] - 20s 102ms/step - loss: 1.3709 - accuracy: 0.5080 - val_loss: 1.3867 - val_accuracy: 0.5041\n",
      "Epoch 12/20\n",
      "195/195 [==============================] - 20s 102ms/step - loss: 1.3345 - accuracy: 0.5218 - val_loss: 1.2967 - val_accuracy: 0.5309\n",
      "Epoch 13/20\n",
      "195/195 [==============================] - 20s 102ms/step - loss: 1.2891 - accuracy: 0.5385 - val_loss: 1.2806 - val_accuracy: 0.5371\n",
      "Epoch 14/20\n",
      "195/195 [==============================] - 20s 102ms/step - loss: 1.2483 - accuracy: 0.5526 - val_loss: 1.2579 - val_accuracy: 0.5372\n",
      "Epoch 15/20\n",
      "195/195 [==============================] - 20s 102ms/step - loss: 1.2250 - accuracy: 0.5592 - val_loss: 1.2794 - val_accuracy: 0.5419\n",
      "Epoch 16/20\n",
      "195/195 [==============================] - 20s 102ms/step - loss: 1.1899 - accuracy: 0.5763 - val_loss: 1.2382 - val_accuracy: 0.5600\n",
      "Epoch 17/20\n",
      "195/195 [==============================] - 20s 102ms/step - loss: 1.1450 - accuracy: 0.5912 - val_loss: 1.1839 - val_accuracy: 0.5764\n",
      "Epoch 18/20\n",
      "195/195 [==============================] - 20s 103ms/step - loss: 1.1258 - accuracy: 0.6010 - val_loss: 1.1944 - val_accuracy: 0.5759\n",
      "Epoch 19/20\n",
      "195/195 [==============================] - 20s 102ms/step - loss: 1.0865 - accuracy: 0.6127 - val_loss: 1.1440 - val_accuracy: 0.5880\n",
      "Epoch 20/20\n",
      "195/195 [==============================] - 20s 102ms/step - loss: 1.0596 - accuracy: 0.6264 - val_loss: 1.1697 - val_accuracy: 0.5825\n"
     ]
    }
   ],
   "source": [
    "vgg_19.compile(\n",
    "    loss='sparse_categorical_crossentropy',\n",
    "    optimizer=tf.keras.optimizers.SGD(lr=0.01, clipnorm=1.),\n",
    "    metrics=['accuracy'],\n",
    ")\n",
    "\n",
    "history_19 = vgg_19.fit(\n",
    "    ds_train,\n",
    "    steps_per_epoch=int(ds_info.splits['train'].num_examples/BATCH_SIZE),\n",
    "    validation_steps=int(ds_info.splits['test'].num_examples/BATCH_SIZE),\n",
    "    epochs=EPOCH,\n",
    "    validation_data=ds_test,\n",
    "    verbose=1,\n",
    "    use_multiprocessing=True,\n",
    ")"
   ]
  },
  {
   "cell_type": "markdown",
   "metadata": {},
   "source": [
    "이제 VGG-16과 VGG-19를 그래프를 그리고 비교해보도록 하겠습니다. 먼저 훈련 손실(training loss)이 어떻게 다르게 진행되는지 비교해봅시다."
   ]
  },
  {
   "cell_type": "code",
   "execution_count": 28,
   "metadata": {},
   "outputs": [
    {
     "data": {
      "image/png": "[encoded data removed]",
      "text/plain": [
       "<Figure size 432x288 with 1 Axes>"
      ]
     },
     "metadata": {
      "needs_background": "light"
     },
     "output_type": "display_data"
    }
   ],
   "source": [
    "import matplotlib.pyplot as plt\n",
    "\n",
    "plt.plot(history_16.history['loss'], 'r')\n",
    "plt.plot(history_19.history['loss'], 'b')\n",
    "plt.title('Model training loss')\n",
    "plt.ylabel('Loss')\n",
    "plt.xlabel('Epoch')\n",
    "plt.legend(['vgg_16', 'vgg_19'], loc='upper left')\n",
    "plt.show()"
   ]
  },
  {
   "cell_type": "markdown",
   "metadata": {},
   "source": [
    "검증 정확도(validation accuracy)도 비교해보자"
   ]
  },
  {
   "cell_type": "code",
   "execution_count": 29,
   "metadata": {},
   "outputs": [
    {
     "data": {
      "image/png": "[encoded data removed]",
      "text/plain": [
       "<Figure size 432x288 with 1 Axes>"
      ]
     },
     "metadata": {
      "needs_background": "light"
     },
     "output_type": "display_data"
    }
   ],
   "source": [
    "plt.plot(history_16.history['val_accuracy'], 'r')\n",
    "plt.plot(history_19.history['val_accuracy'], 'b')\n",
    "plt.title('Model validation accuracy')\n",
    "plt.ylabel('Accuracy')\n",
    "plt.xlabel('Epoch')\n",
    "plt.legend(['vgg_16', 'vgg_19'], loc='upper left')\n",
    "plt.show()"
   ]
  },
  {
   "cell_type": "markdown",
   "metadata": {},
   "source": [
    "## 2-7. 프로젝트: ResNet Ablation Study  \n",
    "### 1) ResNet 기본 블록 구성하기\n",
    "------------------------------------------------------------------------------\n",
    "이제 실전으로 돌아와서 ResNet-34와 ResNet-50 네트워크를 직접 만든다고 생각해봅시다. 우선 ResNet-34와 ResNet-50에서 사용되는 블록의 공통점을 찾고 차이점을 찾아봅시다.\n",
    "[Deep Residual Learning for Image Recognition(paper)](https://arxiv.org/pdf/1512.03385.pdf)  \n",
    "<img src=\"paper.png\">  \n",
    "Q1. ResNet논문에 소개된 위 표에서, ResNet 34와 50에서 사용된 블록들의 공통점과 차이점을 비교해보고 그 특징을 정리해봅시다.  \n",
    "ANS) ResNet-34와 ResNet-50은 모두 conv block이라고 불리는 블록 구조를 각각 3, 4, 6, 3개씩 반복해서 쌓은 형태라는 공통점을 가지고 있습니다. \n",
    "그러나 ResNet-34와 ResNet-50의 블록 내부 구성은 약간 다릅니다. ResNet-34의 경우 Block은 3x3 kernel인 Convolution layer로만 구성되어있지만, ResNet-50은 1x1 Convolution이 앞뒤로 붙어 더 많은 레이어를 한 블록 내에 가지게 됩니다.  \n",
    "\n",
    "위의 퀴즈의 답을 어느 정도 스스로 찾아내셨다면 ResNet의 기본 블록, 또는 Residual 블록(residual block)이 어떻게 구성되어야 할지 감이 오셨을 것입니다. Learning by Doing 이라고 하죠! 이번에는 ResNet의 블록을 직접 만들어 봅시다! 혹시나 모델 내의 앞과 뒤에서 반복되지 않을 것 같은 부분은 함수로 구현하지 않아도 됩니다.  \n",
    "우리가 지금 만들어야 하는 것은 블록을 생성하는 함수입니다. 처음이라 너무 막연하실 수 있겠지만 여러분들은 이미 몇번의 경험이 있습니다.  \n",
    "일단은 VGG에서도 블록을 생성하는 함수를 만들었습니다. ResNet이라 하더라도 아이디어의 기본 원리는 다르지 않습니다.  \n",
    "그리고, 여러분들은 아마 이전에 VGG-16이나 ResNet-50 모델을 만들어서 훈련까지 시켜본 경험들이 있으실 것입니다. 코드를 스스로 구현한 것이 아니라 공개된 오픈소스를 활용해서 빠르게 구성했겠지만, 블록 생성 함수가 어떤 형태로 만들어지는지를 이미 경험해 보신 바 있을 테니 그것을 참고하셔도 도움이 될 것입니다.  \n",
    "하지만 이번 단계에서는 가급적 ResNet 논문을 통해서 구현방법에 대한 정보를 얻으시기를 권합니다. 논문만 보고 스스로 구현해 보는 경험을 통해 딥러닝 개발자로서의 내공과 자신감이 다져지게 될 것입니다.  \n",
    "\n",
    "\n",
    "### 2) ResNet-34, ResNet-50 Complete Model  \n",
    "---------------------------------------------------------------------\n",
    "ResNet-34\n",
    "VGG와 같이 블록을 만드는 함수를 사용해서 직접 전체 모델을 만들어 봅시다. ResNet-34와 ResNet-50의 차이에 따라 달라지는 구성(configuration)을 함수에 전달해서 같은 생성 함수 build_resnet()를 통해서 ResNet의 여러가지 버전들을 모두 만들어 낼 수 있도록 해야 합니다.\n",
    "다음 코드를 실행하면,  \n",
    "```\n",
    "resnet_34 = build_resnet(input_shape=(32, 32,3), is_50=False)\n",
    "resnet_34.summary()\n",
    "```  \n",
    "\n",
    "\n",
    "ResNet-50\n",
    "위에서 만든 함수에 config를 조절해서 ResNet-50을 만들어 봅니다. 구조가 원하는 대로 만들어졌는지 확인하고 이상이 있다면 수정합니다.\n",
    "\n",
    "다음의 코드를 실행하면, 아래의 결과가 나와야 합니다.\n",
    "```\n",
    "resnet_50 = build_resnet(input_shape=(32, 32,3), is_50=True)\n",
    "resnet_50.summary()\n",
    "```  \n",
    "\n",
    "### 3) 일반 네트워크(plain network) 만들기\n",
    "-------------------------------------------------------------------------------\n",
    "**블록 코드 수정하기**  \n",
    "우리는 앞에서 ResNet 모델을 구현했습니다. ResNet의 핵심 아이디어는 skip connection과 residual network기 때문에, ResNet의 효과를 보여주기 위해서는 skip connection이 없는 일반 네트워크(plain net)가 필요합니다. 위에서 ResNet 블록을 만들기 위한 함수를 그대로 활용해서 skip connection이 없는 블록을 만들 수 있도록 기능을 추가해 주세요!  \n",
    "**전체 함수 코드 수정하기**  \n",
    "이제 위에서 만든 블록 함수를 토대로 전체 네트워크를 만들 수 있도록 전체 네트워크 코드를 수정합시다. ResNet-50과 ResNet-34, 그리고 같은 레이어를 가지지만 skip connection이 없는 PlainNet-50과 PlainNet-34를 만들 수 있는 함수 build_plainnet()를 만들어 보세요. 이때 입력 이미지의 크기는 (224, 224, 3)으로 해주세요.  \n",
    "\n",
    "### 4) ResNet-50 vs Plain-50 또는 ResNet-34 vs Plain-34  \n",
    "-----------------------------------------------------------------------\n",
    "**Ablation Study**  \n",
    "이제 VGG-16, 19 예제와 같이 ResNet-50 vs Plain-50 또는 ResNet-34 vs Plain-34에 대해서 학습을 진행해 봅니다. 그리고 결과를 비교해 봅시다! ResNet은 많은 레이어와 Pooling을 거치므로 CIFAR-10에서는 오버피팅(overfitting)으로 잘 동작하지 않을 수 있습니다. 레이어가 많고 학습해야 할 변수(parameter)가 많은 데 비해, 데이터수가 많지 않기 때문이지요. 224x224 픽셀 크기의 데이터셋을 찾아서 실험해 보도록 합시다. 학습은 끝까지 시키기엔 시간이 없으니 확인을 위한 정도의 epoch로 설정해주세요.  \n",
    "\n",
    "어떤 데이터셋을 사용하셔도 무방하지만, 얼른 떠오르는 것이 없다면 tensorflow-datasets에서 제공하는 cats_vs_dogs 데이터셋을 추천합니다. 아마 이 데이터셋도 다루어 보신 적이 있을 것입니다. Tensorflow에서 제공하는 데이터셋이므로 오늘 VGG 학습에 사용했던 CIFAR-10을 로딩하는 것과 같은 방법으로 활용하실 수 있습니다.  \n",
    "\n",
    "**시각화**  \n",
    "학습을 통해 만들어진 history를 matplotlib로 시각화하여 두 모델의 검증 정확도(validation accuracy)와 검증 손실(validation loss)이 어떻게 다른지 살펴봅시다.  \n",
    "\n",
    "**추가 실험**  \n",
    "시간이 남으면 아래 카탈로그를 보고, tensorflow-datasets의 지원하는 다른 데이터셋에 실험을 해봅시다.\n",
    "  * [Tensorflow Datasets](https://www.tensorflow.org/datasets/catalog/overview)\n",
    "\n"
   ]
  }
 ],
 "metadata": {
  "kernelspec": {
   "display_name": "Python 3",
   "language": "python",
   "name": "python3"
  },
  "language_info": {
   "codemirror_mode": {
    "name": "ipython",
    "version": 3
   },
   "file_extension": ".py",
   "mimetype": "text/x-python",
   "name": "python",
   "nbconvert_exporter": "python",
   "pygments_lexer": "ipython3",
   "version": "3.7.9"
  }
 },
 "nbformat": 4,
 "nbformat_minor": 4
}
