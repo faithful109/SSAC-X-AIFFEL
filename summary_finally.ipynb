{
 "cells": [
  {
   "cell_type": "code",
   "execution_count": 1,
   "metadata": {},
   "outputs": [
    {
     "name": "stderr",
     "output_type": "stream",
     "text": [
      "[nltk_data] Downloading package stopwords to /home/ssac19/nltk_data...\n",
      "[nltk_data]   Package stopwords is already up-to-date!\n"
     ]
    }
   ],
   "source": [
    "import nltk\n",
    "nltk.download('stopwords')\n",
    "\n",
    "import numpy as np\n",
    "import pandas as pd\n",
    "import os\n",
    "import re\n",
    "import matplotlib.pyplot as plt\n",
    "from nltk.corpus import stopwords\n",
    "from bs4 import BeautifulSoup \n",
    "from tensorflow.keras.preprocessing.text import Tokenizer \n",
    "from tensorflow.keras.preprocessing.sequence import pad_sequences\n",
    "\n",
    "import urllib.request\n",
    "urllib.request.urlretrieve(\"https://raw.githubusercontent.com/sunnysai12345/News_Summary/master/news_summary_more.csv\", filename=\"news_summary_more.csv\")\n",
    "news_data = pd.read_csv('news_summary_more.csv', encoding='iso-8859-1')"
   ]
  },
  {
   "cell_type": "code",
   "execution_count": 2,
   "metadata": {},
   "outputs": [
    {
     "data": {
      "text/html": [
       "<div>\n",
       "<style scoped>\n",
       "    .dataframe tbody tr th:only-of-type {\n",
       "        vertical-align: middle;\n",
       "    }\n",
       "\n",
       "    .dataframe tbody tr th {\n",
       "        vertical-align: top;\n",
       "    }\n",
       "\n",
       "    .dataframe thead th {\n",
       "        text-align: right;\n",
       "    }\n",
       "</style>\n",
       "<table border=\"1\" class=\"dataframe\">\n",
       "  <thead>\n",
       "    <tr style=\"text-align: right;\">\n",
       "      <th></th>\n",
       "      <th>headlines</th>\n",
       "      <th>text</th>\n",
       "    </tr>\n",
       "  </thead>\n",
       "  <tbody>\n",
       "    <tr>\n",
       "      <th>12090</th>\n",
       "      <td>24-yr-old 1st female Indian wrestler in 6 yrs ...</td>\n",
       "      <td>India's 24-year-old Pooja Dhanda became the fi...</td>\n",
       "    </tr>\n",
       "    <tr>\n",
       "      <th>70807</th>\n",
       "      <td>Those who litter shouldn't chant Vande Mataram...</td>\n",
       "      <td>Addressing a students' convention in Delhi, PM...</td>\n",
       "    </tr>\n",
       "    <tr>\n",
       "      <th>26857</th>\n",
       "      <td>24-year-old actress rescued as cops bust prost...</td>\n",
       "      <td>Police have rescued a 24-year-old budding film...</td>\n",
       "    </tr>\n",
       "    <tr>\n",
       "      <th>40556</th>\n",
       "      <td>Congress MP slams website calculating dowry ba...</td>\n",
       "      <td>Congress MP Jyotiraditya Scindia has slammed a...</td>\n",
       "    </tr>\n",
       "    <tr>\n",
       "      <th>95569</th>\n",
       "      <td>UP govt to roll back ration cards with Akhiles...</td>\n",
       "      <td>The Yogi Adityanath government in Uttar Prades...</td>\n",
       "    </tr>\n",
       "    <tr>\n",
       "      <th>79358</th>\n",
       "      <td>Game of Thrones season 7 premiere pirated 9 cr...</td>\n",
       "      <td>As per piracy monitor Muso, the premiere episo...</td>\n",
       "    </tr>\n",
       "    <tr>\n",
       "      <th>77961</th>\n",
       "      <td>Stokes 1st Englishman to hit 3 6s in a row in ...</td>\n",
       "      <td>England's Ben Stokes hit three consecutive six...</td>\n",
       "    </tr>\n",
       "    <tr>\n",
       "      <th>45781</th>\n",
       "      <td>Minor girls booked for inserting wood in 7-yr-...</td>\n",
       "      <td>Three minor girls have been booked for alleged...</td>\n",
       "    </tr>\n",
       "    <tr>\n",
       "      <th>50618</th>\n",
       "      <td>TPG Global led consortium bids $1 bn for Tata ...</td>\n",
       "      <td>Investment firm TPG Global led consortium has ...</td>\n",
       "    </tr>\n",
       "    <tr>\n",
       "      <th>66837</th>\n",
       "      <td>Taj Mahal gives jobs to many people: Akhilesh ...</td>\n",
       "      <td>Days after BJP-led Uttar Pradesh government wa...</td>\n",
       "    </tr>\n",
       "  </tbody>\n",
       "</table>\n",
       "</div>"
      ],
      "text/plain": [
       "                                               headlines  \\\n",
       "12090  24-yr-old 1st female Indian wrestler in 6 yrs ...   \n",
       "70807  Those who litter shouldn't chant Vande Mataram...   \n",
       "26857  24-year-old actress rescued as cops bust prost...   \n",
       "40556  Congress MP slams website calculating dowry ba...   \n",
       "95569  UP govt to roll back ration cards with Akhiles...   \n",
       "79358  Game of Thrones season 7 premiere pirated 9 cr...   \n",
       "77961  Stokes 1st Englishman to hit 3 6s in a row in ...   \n",
       "45781  Minor girls booked for inserting wood in 7-yr-...   \n",
       "50618  TPG Global led consortium bids $1 bn for Tata ...   \n",
       "66837  Taj Mahal gives jobs to many people: Akhilesh ...   \n",
       "\n",
       "                                                    text  \n",
       "12090  India's 24-year-old Pooja Dhanda became the fi...  \n",
       "70807  Addressing a students' convention in Delhi, PM...  \n",
       "26857  Police have rescued a 24-year-old budding film...  \n",
       "40556  Congress MP Jyotiraditya Scindia has slammed a...  \n",
       "95569  The Yogi Adityanath government in Uttar Prades...  \n",
       "79358  As per piracy monitor Muso, the premiere episo...  \n",
       "77961  England's Ben Stokes hit three consecutive six...  \n",
       "45781  Three minor girls have been booked for alleged...  \n",
       "50618  Investment firm TPG Global led consortium has ...  \n",
       "66837  Days after BJP-led Uttar Pradesh government wa...  "
      ]
     },
     "execution_count": 2,
     "metadata": {},
     "output_type": "execute_result"
    }
   ],
   "source": [
    "news_data.sample(10)\n",
    "#test가 본문, headline이 요약본"
   ]
  },
  {
   "cell_type": "markdown",
   "metadata": {},
   "source": [
    "### - 데이터 전처리하기(추상적 요약)"
   ]
  },
  {
   "cell_type": "code",
   "execution_count": 3,
   "metadata": {
    "scrolled": true
   },
   "outputs": [
    {
     "name": "stdout",
     "output_type": "stream",
     "text": [
      "text 열에서 중복을 배제한 유일한 샘플의 수 : 98360\n",
      "headlines 열에서 중복을 배제한 유일한 샘플의 수 : 98280\n"
     ]
    }
   ],
   "source": [
    "#데이터 속의 중복 샘플 유무 확인\n",
    "print('text 열에서 중복을 배제한 유일한 샘플의 수 :', news_data['text'].nunique())\n",
    "print('headlines 열에서 중복을 배제한 유일한 샘플의 수 :', news_data['headlines'].nunique())"
   ]
  },
  {
   "cell_type": "code",
   "execution_count": 4,
   "metadata": {},
   "outputs": [
    {
     "name": "stdout",
     "output_type": "stream",
     "text": [
      "전체 샘플수 : 98360\n"
     ]
    }
   ],
   "source": [
    "#text가 다르지만, summary는 같을 수도 있기에 text의 중복은 제거해야 한다.\n",
    "news_data.drop_duplicates(subset = ['text'], inplace = True)\n",
    "print('전체 샘플수 :',(len(news_data)))"
   ]
  },
  {
   "cell_type": "code",
   "execution_count": 5,
   "metadata": {},
   "outputs": [
    {
     "name": "stdout",
     "output_type": "stream",
     "text": [
      "headlines    0\n",
      "text         0\n",
      "dtype: int64\n"
     ]
    }
   ],
   "source": [
    "print(news_data.isnull().sum())"
   ]
  },
  {
   "cell_type": "code",
   "execution_count": 6,
   "metadata": {},
   "outputs": [
    {
     "name": "stdout",
     "output_type": "stream",
     "text": [
      "정규화 사전의 수:  120\n"
     ]
    }
   ],
   "source": [
    "# it will은 it'll은 똑같은 의미이기에 하나로 통일하여 연산량을 줄일 수 있다.\n",
    "# 이런 것이 텍스트 정규화\n",
    "# 아래의 딕셔너리는 같은 의미를 가진 것들을 key와 밸류로 묶어놓았다.\n",
    "contractions = {\"ain't\": \"is not\", \"aren't\": \"are not\",\"can't\": \"cannot\", \"'cause\": \"because\", \"could've\": \"could have\", \"couldn't\": \"could not\",\n",
    "                           \"didn't\": \"did not\",  \"doesn't\": \"does not\", \"don't\": \"do not\", \"hadn't\": \"had not\", \"hasn't\": \"has not\", \"haven't\": \"have not\",\n",
    "                           \"he'd\": \"he would\",\"he'll\": \"he will\", \"he's\": \"he is\", \"how'd\": \"how did\", \"how'd'y\": \"how do you\", \"how'll\": \"how will\", \"how's\": \"how is\",\n",
    "                           \"I'd\": \"I would\", \"I'd've\": \"I would have\", \"I'll\": \"I will\", \"I'll've\": \"I will have\",\"I'm\": \"I am\", \"I've\": \"I have\", \"i'd\": \"i would\",\n",
    "                           \"i'd've\": \"i would have\", \"i'll\": \"i will\",  \"i'll've\": \"i will have\",\"i'm\": \"i am\", \"i've\": \"i have\", \"isn't\": \"is not\", \"it'd\": \"it would\",\n",
    "                           \"it'd've\": \"it would have\", \"it'll\": \"it will\", \"it'll've\": \"it will have\",\"it's\": \"it is\", \"let's\": \"let us\", \"ma'am\": \"madam\",\n",
    "                           \"mayn't\": \"may not\", \"might've\": \"might have\",\"mightn't\": \"might not\",\"mightn't've\": \"might not have\", \"must've\": \"must have\",\n",
    "                           \"mustn't\": \"must not\", \"mustn't've\": \"must not have\", \"needn't\": \"need not\", \"needn't've\": \"need not have\",\"o'clock\": \"of the clock\",\n",
    "                           \"oughtn't\": \"ought not\", \"oughtn't've\": \"ought not have\", \"shan't\": \"shall not\", \"sha'n't\": \"shall not\", \"shan't've\": \"shall not have\",\n",
    "                           \"she'd\": \"she would\", \"she'd've\": \"she would have\", \"she'll\": \"she will\", \"she'll've\": \"she will have\", \"she's\": \"she is\",\n",
    "                           \"should've\": \"should have\", \"shouldn't\": \"should not\", \"shouldn't've\": \"should not have\", \"so've\": \"so have\",\"so's\": \"so as\",\n",
    "                           \"this's\": \"this is\",\"that'd\": \"that would\", \"that'd've\": \"that would have\", \"that's\": \"that is\", \"there'd\": \"there would\",\n",
    "                           \"there'd've\": \"there would have\", \"there's\": \"there is\", \"here's\": \"here is\",\"they'd\": \"they would\", \"they'd've\": \"they would have\",\n",
    "                           \"they'll\": \"they will\", \"they'll've\": \"they will have\", \"they're\": \"they are\", \"they've\": \"they have\", \"to've\": \"to have\",\n",
    "                           \"wasn't\": \"was not\", \"we'd\": \"we would\", \"we'd've\": \"we would have\", \"we'll\": \"we will\", \"we'll've\": \"we will have\", \"we're\": \"we are\",\n",
    "                           \"we've\": \"we have\", \"weren't\": \"were not\", \"what'll\": \"what will\", \"what'll've\": \"what will have\", \"what're\": \"what are\",\n",
    "                           \"what's\": \"what is\", \"what've\": \"what have\", \"when's\": \"when is\", \"when've\": \"when have\", \"where'd\": \"where did\", \"where's\": \"where is\",\n",
    "                           \"where've\": \"where have\", \"who'll\": \"who will\", \"who'll've\": \"who will have\", \"who's\": \"who is\", \"who've\": \"who have\",\n",
    "                           \"why's\": \"why is\", \"why've\": \"why have\", \"will've\": \"will have\", \"won't\": \"will not\", \"won't've\": \"will not have\",\n",
    "                           \"would've\": \"would have\", \"wouldn't\": \"would not\", \"wouldn't've\": \"would not have\", \"y'all\": \"you all\",\n",
    "                           \"y'all'd\": \"you all would\",\"y'all'd've\": \"you all would have\",\"y'all're\": \"you all are\",\"y'all've\": \"you all have\",\n",
    "                           \"you'd\": \"you would\", \"you'd've\": \"you would have\", \"you'll\": \"you will\", \"you'll've\": \"you will have\",\n",
    "                           \"you're\": \"you are\", \"you've\": \"you have\"}\n",
    "\n",
    "print(\"정규화 사전의 수: \",len(contractions))"
   ]
  },
  {
   "cell_type": "code",
   "execution_count": 7,
   "metadata": {},
   "outputs": [
    {
     "name": "stdout",
     "output_type": "stream",
     "text": [
      "불용어 개수 : 179\n",
      "['i', 'me', 'my', 'myself', 'we', 'our', 'ours', 'ourselves', 'you', \"you're\", \"you've\", \"you'll\", \"you'd\", 'your', 'yours', 'yourself', 'yourselves', 'he', 'him', 'his', 'himself', 'she', \"she's\", 'her', 'hers', 'herself', 'it', \"it's\", 'its', 'itself', 'they', 'them', 'their', 'theirs', 'themselves', 'what', 'which', 'who', 'whom', 'this', 'that', \"that'll\", 'these', 'those', 'am', 'is', 'are', 'was', 'were', 'be', 'been', 'being', 'have', 'has', 'had', 'having', 'do', 'does', 'did', 'doing', 'a', 'an', 'the', 'and', 'but', 'if', 'or', 'because', 'as', 'until', 'while', 'of', 'at', 'by', 'for', 'with', 'about', 'against', 'between', 'into', 'through', 'during', 'before', 'after', 'above', 'below', 'to', 'from', 'up', 'down', 'in', 'out', 'on', 'off', 'over', 'under', 'again', 'further', 'then', 'once', 'here', 'there', 'when', 'where', 'why', 'how', 'all', 'any', 'both', 'each', 'few', 'more', 'most', 'other', 'some', 'such', 'no', 'nor', 'not', 'only', 'own', 'same', 'so', 'than', 'too', 'very', 's', 't', 'can', 'will', 'just', 'don', \"don't\", 'should', \"should've\", 'now', 'd', 'll', 'm', 'o', 're', 've', 'y', 'ain', 'aren', \"aren't\", 'couldn', \"couldn't\", 'didn', \"didn't\", 'doesn', \"doesn't\", 'hadn', \"hadn't\", 'hasn', \"hasn't\", 'haven', \"haven't\", 'isn', \"isn't\", 'ma', 'mightn', \"mightn't\", 'mustn', \"mustn't\", 'needn', \"needn't\", 'shan', \"shan't\", 'shouldn', \"shouldn't\", 'wasn', \"wasn't\", 'weren', \"weren't\", 'won', \"won't\", 'wouldn', \"wouldn't\"]\n"
     ]
    }
   ],
   "source": [
    "# 텍스트에는 자주 나오지만, 자연어 처리시에 도움이 되지 않는 단어들을 불용어(stopwords라고 하는데\n",
    "# 제거해서 연산량을 줄이면 성능이 좋아진다.\n",
    "# 우리는 NLTK에서 주어진 불용어 리스트 사용\n",
    "print('불용어 개수 :', len(stopwords.words('english') ))\n",
    "print(stopwords.words('english'))"
   ]
  },
  {
   "cell_type": "code",
   "execution_count": 8,
   "metadata": {},
   "outputs": [],
   "source": [
    "# 데이터 전처리 함수\n",
    "# text에 있는 불용어는 제거하고, summary의 불용어는 제거하지 않는다.\n",
    "# summary의 불용어를 제거하면 나오는 문장이 어색할 수 있기 때문에.\n",
    "def preprocess_sentence(sentence, remove_stopwords=True):\n",
    "    sentence = sentence.lower() # 텍스트 소문자화\n",
    "    sentence = BeautifulSoup(sentence, \"lxml\").text # <br />, <a href = ...> 등의 html 태그 제거\n",
    "    sentence = re.sub(r'\\([^)]*\\)', '', sentence) # 괄호로 닫힌 문자열 (...) 제거 Ex) my husband (and myself!) for => my husband for\n",
    "    sentence = re.sub('\"','', sentence) # 쌍따옴표 \" 제거\n",
    "    sentence = ' '.join([contractions[t] if t in contractions else t for t in sentence.split(\" \")]) # 약어 정규화\n",
    "    sentence = re.sub(r\"'s\\b\",\"\",sentence) # 소유격 제거. Ex) roland's -> roland\n",
    "    sentence = re.sub(\"[^a-zA-Z]\", \" \", sentence) # 영어 외 문자(숫자, 특수문자 등) 공백으로 변환\n",
    "    sentence = re.sub('[m]{2,}', 'mm', sentence) # m이 3개 이상이면 2개로 변경. Ex) ummmmmmm yeah -> umm yeah\n",
    "    \n",
    "    # 불용어 제거 (Text)(기본값이 True이기에 아무것도 안넣으면 실행)\n",
    "    if remove_stopwords:\n",
    "        tokens = ' '.join(word for word in sentence.split() if not word in stopwords.words('english') if len(word) > 1)\n",
    "    # 불용어 미제거 (Summary) (함수를 불러올 떄 false값을 넣어줘야 실행)\n",
    "    else: \n",
    "        tokens = ' '.join(word for word in sentence.split() if len(word) > 1)\n",
    "    return tokens"
   ]
  },
  {
   "cell_type": "code",
   "execution_count": 9,
   "metadata": {},
   "outputs": [
    {
     "data": {
      "text/plain": [
       "['saurav kant alumnus upgrad iiit pg program machine learning artificial intelligence sr systems engineer infosys almost years work experience program upgrad degree career support helped transition data scientist tech mahindra salary hike upgrad online power learning powered lakh careers',\n",
       " 'kunal shah credit card bill payment platform cred gave users chance win free food swiggy one year pranav kaushik delhi techie bagged reward spending cred coins users get one cred coin per rupee bill paid used avail rewards brands like ixigo bookmyshow ubereats cult fit',\n",
       " 'new zealand defeated india wickets fourth odi hamilton thursday win first match five match odi series india lost international match rohit sharma captaincy consecutive victories dating back march match witnessed india getting seventh lowest total odi cricket history',\n",
       " 'aegon life iterm insurance plan customers enjoy tax benefits premiums paid save taxes plan provides life cover age years also customers options insure critical illnesses disability accidental death benefit rider life cover age years',\n",
       " 'speaking sexual harassment allegations rajkumar hirani sonam kapoor said known hirani many years true metoo movement get derailed metoo movement always believe woman case need reserve judgment added hirani accused assistant worked sanju']"
      ]
     },
     "execution_count": 9,
     "metadata": {},
     "output_type": "execute_result"
    }
   ],
   "source": [
    "clean_news = []#전처리된 텍스트 리스트.\n",
    "\n",
    "# 전체 Text 데이터에 대한 전처리 : 10분 이상 시간이 걸릴 수 있습니다. \n",
    "for s in news_data['text']:\n",
    "    clean_news.append(preprocess_sentence(s))#전처리하고 리스트에 넣기\n",
    "\n",
    "# 전처리 후 출력\n",
    "clean_news[:5]"
   ]
  },
  {
   "cell_type": "code",
   "execution_count": 10,
   "metadata": {},
   "outputs": [
    {
     "data": {
      "text/plain": [
       "['upgrad learner switches to career in ml al with salary hike',\n",
       " 'delhi techie wins free food from swiggy for one year on cred',\n",
       " 'new zealand end rohit sharma led india match winning streak',\n",
       " 'aegon life iterm insurance plan helps customers save tax',\n",
       " 'have known hirani for yrs what if metoo claims are not true sonam']"
      ]
     },
     "execution_count": 10,
     "metadata": {},
     "output_type": "execute_result"
    }
   ],
   "source": [
    "clean_headlines = []\n",
    "\n",
    "# 전체 Summary 데이터에 대한 전처리 : 5분 이상 시간이 걸릴 수 있습니다. \n",
    "for s in news_data['headlines']:\n",
    "    clean_headlines.append(preprocess_sentence(s, False))#전처리하고 리스트에 넣기\n",
    "\n",
    "clean_headlines[:5]"
   ]
  },
  {
   "cell_type": "code",
   "execution_count": 11,
   "metadata": {},
   "outputs": [],
   "source": [
    "#전처리한 값들을 다시 데이터프레임에 넣는다.\n",
    "news_data['text'] = clean_news\n",
    "news_data['headlines'] = clean_headlines\n",
    "\n",
    "# 정제한 후에 값이 비게 될 수 있으므로 \n",
    "# 빈 값을 Null 값으로 변환\n",
    "news_data.replace('', np.nan, inplace=True)"
   ]
  },
  {
   "cell_type": "code",
   "execution_count": 12,
   "metadata": {},
   "outputs": [
    {
     "data": {
      "text/plain": [
       "headlines    0\n",
       "text         0\n",
       "dtype: int64"
      ]
     },
     "execution_count": 12,
     "metadata": {},
     "output_type": "execute_result"
    }
   ],
   "source": [
    "#전처리 후에 summary에 0개의 빈값이 생겼다.\n",
    "news_data.isnull().sum()"
   ]
  },
  {
   "cell_type": "code",
   "execution_count": 13,
   "metadata": {},
   "outputs": [
    {
     "name": "stdout",
     "output_type": "stream",
     "text": [
      "전체 샘플수 : 98360\n"
     ]
    }
   ],
   "source": [
    "#빈 샘플들은 제거\n",
    "news_data.dropna(axis=0, inplace=True)\n",
    "print('전체 샘플수 :',(len(news_data)))#데이터 전처리 함수"
   ]
  },
  {
   "cell_type": "code",
   "execution_count": 14,
   "metadata": {},
   "outputs": [
    {
     "name": "stdout",
     "output_type": "stream",
     "text": [
      "텍스트의 최소 길이 : 1\n",
      "텍스트의 최대 길이 : 60\n",
      "텍스트의 평균 길이 : 35.09968483123221\n",
      "요약의 최소 길이 : 1\n",
      "요약의 최대 길이 : 16\n",
      "요약의 평균 길이 : 9.299532330215534\n"
     ]
    },
    {
     "data": {
      "image/png": "[encoded data removed]",
      "text/plain": [
       "<Figure size 432x288 with 2 Axes>"
      ]
     },
     "metadata": {
      "needs_background": "light"
     },
     "output_type": "display_data"
    },
    {
     "data": {
      "image/png": "[encoded data removed]",
      "text/plain": [
       "<Figure size 432x288 with 1 Axes>"
      ]
     },
     "metadata": {
      "needs_background": "light"
     },
     "output_type": "display_data"
    },
    {
     "data": {
      "image/png": "[encoded data removed]",
      "text/plain": [
       "<Figure size 432x288 with 1 Axes>"
      ]
     },
     "metadata": {
      "needs_background": "light"
     },
     "output_type": "display_data"
    }
   ],
   "source": [
    "# 길이 분포 출력\n",
    "import matplotlib.pyplot as plt\n",
    "\n",
    "text_len = [len(s.split()) for s in news_data['text']]\n",
    "headlines_len = [len(s.split()) for s in news_data['headlines']]\n",
    "\n",
    "print('텍스트의 최소 길이 : {}'.format(np.min(text_len)))\n",
    "print('텍스트의 최대 길이 : {}'.format(np.max(text_len)))\n",
    "print('텍스트의 평균 길이 : {}'.format(np.mean(text_len)))\n",
    "print('요약의 최소 길이 : {}'.format(np.min(headlines_len)))\n",
    "print('요약의 최대 길이 : {}'.format(np.max(headlines_len)))\n",
    "print('요약의 평균 길이 : {}'.format(np.mean(headlines_len)))\n",
    "\n",
    "plt.subplot(1,2,1)\n",
    "plt.boxplot(headlines_len)\n",
    "plt.title('headlines')\n",
    "plt.subplot(1,2,2)\n",
    "plt.boxplot(text_len)\n",
    "plt.title('text')\n",
    "plt.tight_layout()\n",
    "plt.show()\n",
    "\n",
    "plt.title('headlines')\n",
    "plt.hist(headlines_len, bins = 40)\n",
    "plt.xlabel('length of samples')\n",
    "plt.ylabel('number of samples')\n",
    "plt.show()\n",
    "\n",
    "plt.title('text')\n",
    "plt.hist(text_len, bins = 40)\n",
    "plt.xlabel('length of samples')\n",
    "plt.ylabel('number of samples')\n",
    "plt.show()"
   ]
  },
  {
   "cell_type": "code",
   "execution_count": 15,
   "metadata": {},
   "outputs": [],
   "source": [
    "#그래프를 보면 text는 대체로 35내외의 길이를 가지고, summary는 9이내의 길이.\n",
    "#각각의 최댓값을 임시로 정해보자\n",
    "text_max_len = 40\n",
    "headlines_max_len = 10"
   ]
  },
  {
   "cell_type": "code",
   "execution_count": 16,
   "metadata": {},
   "outputs": [],
   "source": [
    "# 훈련데이터와 샘플의 길이를 입력하면 데이터의 몇 %가 해당되는지 확인하는 함수 \n",
    "def below_threshold_len(max_len, nested_list):\n",
    "  cnt = 0\n",
    "  for s in nested_list:\n",
    "    if(len(s.split()) <= max_len):\n",
    "        cnt = cnt + 1\n",
    "  print('전체 샘플 중 길이가 %s 이하인 샘플의 비율: %s'%(max_len, (cnt / len(nested_list))))"
   ]
  },
  {
   "cell_type": "code",
   "execution_count": 17,
   "metadata": {},
   "outputs": [
    {
     "name": "stdout",
     "output_type": "stream",
     "text": [
      "전체 샘플 중 길이가 40 이하인 샘플의 비율: 0.9238714924766165\n",
      "전체 샘플 중 길이가 10 이하인 샘플의 비율: 0.8162972753151687\n"
     ]
    }
   ],
   "source": [
    "#텍스트최대길이를 40으로 잡으면 8%가 날라감.\n",
    "below_threshold_len(text_max_len, news_data['text'])\n",
    "below_threshold_len(headlines_max_len,  news_data['headlines'])"
   ]
  },
  {
   "cell_type": "code",
   "execution_count": 18,
   "metadata": {},
   "outputs": [
    {
     "name": "stdout",
     "output_type": "stream",
     "text": [
      "전체 샘플수 : 74102\n"
     ]
    }
   ],
   "source": [
    "#이번 프로젝트에서는 최대길이보다 큰 샘플들을 최대길이로 자르는 것이 아니라 최대길이보다 작은 것들만 남긴다\n",
    "news_data = news_data[news_data['text'].apply(lambda x: len(x.split()) <= text_max_len)]\n",
    "news_data = news_data[news_data['headlines'].apply(lambda x: len(x.split()) <= headlines_max_len)]\n",
    "print('전체 샘플수 :',(len(news_data)))"
   ]
  },
  {
   "cell_type": "code",
   "execution_count": 19,
   "metadata": {},
   "outputs": [
    {
     "data": {
      "text/html": [
       "<div>\n",
       "<style scoped>\n",
       "    .dataframe tbody tr th:only-of-type {\n",
       "        vertical-align: middle;\n",
       "    }\n",
       "\n",
       "    .dataframe tbody tr th {\n",
       "        vertical-align: top;\n",
       "    }\n",
       "\n",
       "    .dataframe thead th {\n",
       "        text-align: right;\n",
       "    }\n",
       "</style>\n",
       "<table border=\"1\" class=\"dataframe\">\n",
       "  <thead>\n",
       "    <tr style=\"text-align: right;\">\n",
       "      <th></th>\n",
       "      <th>headlines</th>\n",
       "      <th>text</th>\n",
       "      <th>decoder_input</th>\n",
       "      <th>decoder_target</th>\n",
       "    </tr>\n",
       "  </thead>\n",
       "  <tbody>\n",
       "    <tr>\n",
       "      <th>2</th>\n",
       "      <td>new zealand end rohit sharma led india match w...</td>\n",
       "      <td>new zealand defeated india wickets fourth odi ...</td>\n",
       "      <td>sostoken new zealand end rohit sharma led indi...</td>\n",
       "      <td>new zealand end rohit sharma led india match w...</td>\n",
       "    </tr>\n",
       "    <tr>\n",
       "      <th>3</th>\n",
       "      <td>aegon life iterm insurance plan helps customer...</td>\n",
       "      <td>aegon life iterm insurance plan customers enjo...</td>\n",
       "      <td>sostoken aegon life iterm insurance plan helps...</td>\n",
       "      <td>aegon life iterm insurance plan helps customer...</td>\n",
       "    </tr>\n",
       "    <tr>\n",
       "      <th>5</th>\n",
       "      <td>rahat fateh ali khan denies getting notice for...</td>\n",
       "      <td>pakistani singer rahat fateh ali khan denied r...</td>\n",
       "      <td>sostoken rahat fateh ali khan denies getting n...</td>\n",
       "      <td>rahat fateh ali khan denies getting notice for...</td>\n",
       "    </tr>\n",
       "    <tr>\n",
       "      <th>9</th>\n",
       "      <td>cong wins ramgarh bypoll in rajasthan takes to...</td>\n",
       "      <td>congress candidate shafia zubair ramgarh assem...</td>\n",
       "      <td>sostoken cong wins ramgarh bypoll in rajasthan...</td>\n",
       "      <td>cong wins ramgarh bypoll in rajasthan takes to...</td>\n",
       "    </tr>\n",
       "    <tr>\n",
       "      <th>10</th>\n",
       "      <td>up cousins fed human excreta for friendship wi...</td>\n",
       "      <td>two minor cousins uttar pradesh gorakhpur alle...</td>\n",
       "      <td>sostoken up cousins fed human excreta for frie...</td>\n",
       "      <td>up cousins fed human excreta for friendship wi...</td>\n",
       "    </tr>\n",
       "  </tbody>\n",
       "</table>\n",
       "</div>"
      ],
      "text/plain": [
       "                                            headlines  \\\n",
       "2   new zealand end rohit sharma led india match w...   \n",
       "3   aegon life iterm insurance plan helps customer...   \n",
       "5   rahat fateh ali khan denies getting notice for...   \n",
       "9   cong wins ramgarh bypoll in rajasthan takes to...   \n",
       "10  up cousins fed human excreta for friendship wi...   \n",
       "\n",
       "                                                 text  \\\n",
       "2   new zealand defeated india wickets fourth odi ...   \n",
       "3   aegon life iterm insurance plan customers enjo...   \n",
       "5   pakistani singer rahat fateh ali khan denied r...   \n",
       "9   congress candidate shafia zubair ramgarh assem...   \n",
       "10  two minor cousins uttar pradesh gorakhpur alle...   \n",
       "\n",
       "                                        decoder_input  \\\n",
       "2   sostoken new zealand end rohit sharma led indi...   \n",
       "3   sostoken aegon life iterm insurance plan helps...   \n",
       "5   sostoken rahat fateh ali khan denies getting n...   \n",
       "9   sostoken cong wins ramgarh bypoll in rajasthan...   \n",
       "10  sostoken up cousins fed human excreta for frie...   \n",
       "\n",
       "                                       decoder_target  \n",
       "2   new zealand end rohit sharma led india match w...  \n",
       "3   aegon life iterm insurance plan helps customer...  \n",
       "5   rahat fateh ali khan denies getting notice for...  \n",
       "9   cong wins ramgarh bypoll in rajasthan takes to...  \n",
       "10  up cousins fed human excreta for friendship wi...  "
      ]
     },
     "execution_count": 19,
     "metadata": {},
     "output_type": "execute_result"
    }
   ],
   "source": [
    "#요약 데이터에는 시작 토큰과 종료 토큰을 추가한다.\n",
    "news_data['decoder_input'] = news_data['headlines'].apply(lambda x : 'sostoken '+ x)\n",
    "news_data['decoder_target'] = news_data['headlines'].apply(lambda x : x + ' eostoken')\n",
    "news_data.head()"
   ]
  },
  {
   "cell_type": "code",
   "execution_count": 20,
   "metadata": {},
   "outputs": [],
   "source": [
    "# 각각 numpy array로 저장\n",
    "encoder_news_input = np.array(news_data['text']) # 인코더의 입력\n",
    "decoder_news_input = np.array(news_data['decoder_input']) # 디코더의 입력\n",
    "decoder_news_target = np.array(news_data['decoder_target']) # 디코더의 레이블"
   ]
  },
  {
   "cell_type": "code",
   "execution_count": 21,
   "metadata": {},
   "outputs": [
    {
     "name": "stdout",
     "output_type": "stream",
     "text": [
      "[ 7718 66438 24964 ...   413 69787 26840]\n"
     ]
    }
   ],
   "source": [
    "#훈련 데이터와 테스트 데이터 분리\n",
    "#순서를 섞은 정수 시퀀스 생성.\n",
    "indices = np.arange(encoder_news_input.shape[0])\n",
    "np.random.shuffle(indices)\n",
    "print(indices)"
   ]
  },
  {
   "cell_type": "code",
   "execution_count": 22,
   "metadata": {},
   "outputs": [],
   "source": [
    "encoder_news_input = encoder_news_input[indices]\n",
    "decoder_news_input = decoder_news_input[indices]\n",
    "decoder_news_target = decoder_news_target[indices]"
   ]
  },
  {
   "cell_type": "code",
   "execution_count": 23,
   "metadata": {},
   "outputs": [
    {
     "name": "stdout",
     "output_type": "stream",
     "text": [
      "테스트 데이터의 수 : 14820\n"
     ]
    }
   ],
   "source": [
    "#8:2로 훈련, 테스트 데이터 분리. \n",
    "n_of_val = int(len(encoder_news_input)*0.2)#테스트 데이터 갯수\n",
    "print('테스트 데이터의 수 :',n_of_val)"
   ]
  },
  {
   "cell_type": "code",
   "execution_count": 24,
   "metadata": {},
   "outputs": [
    {
     "name": "stdout",
     "output_type": "stream",
     "text": [
      "훈련 데이터의 개수 : 59282\n",
      "훈련 레이블의 개수 : 59282\n",
      "테스트 데이터의 개수 : 14820\n",
      "테스트 레이블의 개수 : 14820\n"
     ]
    }
   ],
   "source": [
    "#:-n_of_val = :n_of_val+1\n",
    "encoder_input_train = encoder_news_input[:-n_of_val]\n",
    "decoder_input_train = decoder_news_input[:-n_of_val]\n",
    "decoder_target_train = decoder_news_target[:-n_of_val]\n",
    "\n",
    "encoder_input_test = encoder_news_input[-n_of_val:]\n",
    "decoder_input_test = decoder_news_input[-n_of_val:]\n",
    "decoder_target_test = decoder_news_target[-n_of_val:]\n",
    "\n",
    "print('훈련 데이터의 개수 :', len(encoder_input_train))\n",
    "print('훈련 레이블의 개수 :',len(decoder_input_train))\n",
    "print('테스트 데이터의 개수 :',len(encoder_input_test))\n",
    "print('테스트 레이블의 개수 :',len(decoder_input_test))"
   ]
  },
  {
   "cell_type": "code",
   "execution_count": 25,
   "metadata": {},
   "outputs": [],
   "source": [
    "#이렇게 해서 만들어진 단어집합은 src_tokenizer.word_index에 저장.\n",
    "src_tokenizer = Tokenizer() # 토크나이저 정의\n",
    "src_tokenizer.fit_on_texts(encoder_input_train) # 입력된 데이터로부터 단어 집합 생성"
   ]
  },
  {
   "cell_type": "code",
   "execution_count": 26,
   "metadata": {},
   "outputs": [
    {
     "name": "stdout",
     "output_type": "stream",
     "text": [
      "단어 집합(vocabulary)의 크기 : 61493\n",
      "등장 빈도가 9번 이하인 희귀 단어의 수: 45569\n",
      "단어 집합에서 희귀 단어를 제외시킬 경우의 단어 집합의 크기 15924\n",
      "단어 집합에서 희귀 단어의 비율: 74.10436960304425\n",
      "전체 등장 빈도에서 희귀 단어 등장 빈도 비율: 5.481076324871868\n"
     ]
    }
   ],
   "source": [
    "#단어집합에 저장된 모든 단어를 사용하는게 아니라 빈도수가 적은 것을 빼고 돌려야 학습에 큰 문제가 없으면서 비용절감이 가능.\n",
    "#빈도 수가 7보다 작은 것들에 대한 통계정보\n",
    "threshold = 10\n",
    "total_cnt = len(src_tokenizer.word_index) # 단어의 수\n",
    "rare_cnt = 0 # 등장 빈도수가 threshold보다 작은 단어의 개수를 카운트\n",
    "total_freq = 0 # 훈련 데이터의 전체 단어 빈도수 총 합\n",
    "rare_freq = 0 # 등장 빈도수가 threshold보다 작은 단어의 등장 빈도수의 총 합\n",
    "\n",
    "# 단어와 빈도수의 쌍(pair)을 key와 value로 받는다.\n",
    "for key, value in src_tokenizer.word_counts.items():\n",
    "    total_freq = total_freq + value\n",
    "\n",
    "    # 단어의 등장 빈도수가 threshold보다 작으면\n",
    "    if(value < threshold):\n",
    "        rare_cnt = rare_cnt + 1\n",
    "        rare_freq = rare_freq + value\n",
    "\n",
    "print('단어 집합(vocabulary)의 크기 :',total_cnt)\n",
    "print('등장 빈도가 %s번 이하인 희귀 단어의 수: %s'%(threshold - 1, rare_cnt))\n",
    "print('단어 집합에서 희귀 단어를 제외시킬 경우의 단어 집합의 크기 %s'%(total_cnt - rare_cnt))\n",
    "print(\"단어 집합에서 희귀 단어의 비율:\", (rare_cnt / total_cnt)*100)\n",
    "print(\"전체 등장 빈도에서 희귀 단어 등장 빈도 비율:\", (rare_freq / total_freq)*100)"
   ]
  },
  {
   "cell_type": "code",
   "execution_count": 27,
   "metadata": {},
   "outputs": [],
   "source": [
    "#10번보다 작게 등장하는 단어집합의 크기가 15886로 15000으로 어림잡아 단어집합 재생성\n",
    "src_vocab = 15000\n",
    "src_tokenizer = Tokenizer(num_words = src_vocab) # 단어 집합의 크기를 8,000으로 제한\n",
    "src_tokenizer.fit_on_texts(encoder_input_train) # 단어 집합 재생성."
   ]
  },
  {
   "cell_type": "code",
   "execution_count": 28,
   "metadata": {},
   "outputs": [
    {
     "name": "stdout",
     "output_type": "stream",
     "text": [
      "[[831, 2857, 6063, 5810, 48, 2024, 804, 2025, 3204, 1365, 13637, 228, 3713, 327, 869, 279, 6063, 1, 7513, 9475, 2319, 4760, 8275, 62, 13637, 1502, 12619, 560, 700, 599, 805, 1202], [2, 15, 64, 47, 2943, 2105, 1125, 30, 206, 1715, 168, 1073, 5676, 494, 80, 221, 2650, 559, 409, 813, 4305, 30, 206, 704, 429, 5452, 1125, 168, 1316, 10631, 494, 1], [22, 1536, 294, 460, 136, 3051, 2637, 79, 11, 23, 202, 1046, 7939, 37, 465, 6064, 915, 22, 101, 1536, 294, 467, 2259, 79, 87, 23, 2858, 1046, 1203, 1544, 7939, 3938, 3092, 381, 1046, 437, 23, 381, 7939]]\n"
     ]
    }
   ],
   "source": [
    "# 텍스트 시퀀스를 정수 시퀀스로 변환\n",
    "encoder_input_train = src_tokenizer.texts_to_sequences(encoder_input_train) \n",
    "encoder_input_test = src_tokenizer.texts_to_sequences(encoder_input_test)\n",
    "\n",
    "#단어집합의 크기를 15000으로 정해놨기에 이제 정수 인코딩후에 15000이 넘는 숫자가 있을 수가 없다.\n",
    "#잘 진행되었는지 샘플 출력\n",
    "print(encoder_input_train[:3])"
   ]
  },
  {
   "cell_type": "code",
   "execution_count": 29,
   "metadata": {},
   "outputs": [],
   "source": [
    "#summary 데이터도 동일하게 단어사전생성\n",
    "#단어에 부여된 고유한 정수는 tar_tokenizer.word_index에 저장\n",
    "tar_tokenizer = Tokenizer()\n",
    "tar_tokenizer.fit_on_texts(decoder_input_train)"
   ]
  },
  {
   "cell_type": "code",
   "execution_count": 30,
   "metadata": {},
   "outputs": [
    {
     "name": "stdout",
     "output_type": "stream",
     "text": [
      "단어 집합(vocabulary)의 크기 : 27263\n",
      "등장 빈도가 7번 이하인 희귀 단어의 수: 19717\n",
      "단어 집합에서 희귀 단어를 제외시킬 경우의 단어 집합의 크기 7546\n",
      "단어 집합에서 희귀 단어의 비율: 72.32146132120457\n",
      "전체 등장 빈도에서 희귀 단어 등장 빈도 비율: 7.628386866474914\n"
     ]
    }
   ],
   "source": [
    "#tar_tokenizer.word_counts.items()에 단어와각 단어의 등장 빈도수 저장되어 있다.\n",
    "threshold = 8\n",
    "total_cnt = len(tar_tokenizer.word_index) # 단어의 수\n",
    "rare_cnt = 0 # 등장 빈도수가 threshold보다 작은 단어의 개수를 카운트\n",
    "total_freq = 0 # 훈련 데이터의 전체 단어 빈도수 총 합\n",
    "rare_freq = 0 # 등장 빈도수가 threshold보다 작은 단어의 등장 빈도수의 총 합\n",
    "\n",
    "# 단어와 빈도수의 쌍(pair)을 key와 value로 받는다.\n",
    "for key, value in tar_tokenizer.word_counts.items():\n",
    "    total_freq = total_freq + value\n",
    "\n",
    "    # 단어의 등장 빈도수가 threshold보다 작으면\n",
    "    if(value < threshold):\n",
    "        rare_cnt = rare_cnt + 1\n",
    "        rare_freq = rare_freq + value\n",
    "\n",
    "print('단어 집합(vocabulary)의 크기 :',total_cnt)\n",
    "print('등장 빈도가 %s번 이하인 희귀 단어의 수: %s'%(threshold - 1, rare_cnt))\n",
    "print('단어 집합에서 희귀 단어를 제외시킬 경우의 단어 집합의 크기 %s'%(total_cnt - rare_cnt))\n",
    "print(\"단어 집합에서 희귀 단어의 비율:\", (rare_cnt / total_cnt)*100)\n",
    "print(\"전체 등장 빈도에서 희귀 단어 등장 빈도 비율:\", (rare_freq / total_freq)*100)"
   ]
  },
  {
   "cell_type": "code",
   "execution_count": 31,
   "metadata": {},
   "outputs": [
    {
     "name": "stdout",
     "output_type": "stream",
     "text": [
      "input\n",
      "input  [[1, 3325, 1653, 49, 468, 13, 550, 182, 2133], [1, 35, 2052, 711, 4, 129, 5418, 7, 472, 4, 473], [1, 233, 743, 18, 1008, 1009, 3, 1195, 541, 11, 4664], [1, 58, 48, 2001, 919, 146, 4, 6102, 379], [1, 223, 137, 85, 179, 687, 11, 3557]]\n",
      "target\n",
      "decoder  [[3325, 1653, 49, 468, 13, 550, 182, 2133, 2], [35, 2052, 711, 4, 129, 5418, 7, 472, 4, 473, 2], [233, 743, 18, 1008, 1009, 3, 1195, 541, 11, 4664, 2], [58, 48, 2001, 919, 146, 4, 6102, 379, 2], [223, 137, 85, 179, 687, 11, 3557, 2]]\n"
     ]
    }
   ],
   "source": [
    "#이번에도 단어집합을 어림잡아 2000으로 잡고 단어사전 재생성\n",
    "tar_vocab = 7500\n",
    "tar_tokenizer = Tokenizer(num_words = tar_vocab) \n",
    "tar_tokenizer.fit_on_texts(decoder_input_train)\n",
    "tar_tokenizer.fit_on_texts(decoder_target_train)\n",
    "\n",
    "# 텍스트 시퀀스를 정수 시퀀스로 변환\n",
    "decoder_input_train = tar_tokenizer.texts_to_sequences(decoder_input_train) \n",
    "decoder_target_train = tar_tokenizer.texts_to_sequences(decoder_target_train)\n",
    "decoder_input_test = tar_tokenizer.texts_to_sequences(decoder_input_test)\n",
    "decoder_target_test = tar_tokenizer.texts_to_sequences(decoder_target_test)\n",
    "\n",
    "#잘 변환되었는지 확인\n",
    "print('input')\n",
    "print('input ',decoder_input_train[:5])\n",
    "print('target')\n",
    "print('decoder ',decoder_target_train[:5])"
   ]
  },
  {
   "cell_type": "code",
   "execution_count": 32,
   "metadata": {},
   "outputs": [
    {
     "name": "stdout",
     "output_type": "stream",
     "text": [
      "삭제할 훈련 데이터의 개수 : 0\n",
      "삭제할 테스트 데이터의 개수 : 1\n",
      "훈련 데이터의 개수 : 59282\n",
      "훈련 레이블의 개수 : 59282\n",
      "테스트 데이터의 개수 : 14819\n",
      "테스트 레이블의 개수 : 14819\n"
     ]
    },
    {
     "name": "stderr",
     "output_type": "stream",
     "text": [
      "/home/ssac19/anaconda3/envs/aiffel/lib/python3.7/site-packages/numpy/core/_asarray.py:83: VisibleDeprecationWarning: Creating an ndarray from ragged nested sequences (which is a list-or-tuple of lists-or-tuples-or ndarrays with different lengths or shapes) is deprecated. If you meant to do this, you must specify 'dtype=object' when creating the ndarray\n",
      "  return array(a, dtype, copy=False, order=order)\n"
     ]
    }
   ],
   "source": [
    "#빈도수가 낮은 단어를 제거하면서 길이가 0인 샘플이 생길 수도 있다.\n",
    "#decoder_input에는 sostoken decoder_target에는 eostoken이 붙어 있길래 실제 길이가 0인 샘플은 1로 나온다.\n",
    "#길이가 1인 샘플의 인덱스들을 각각 drop_train, drop_test에 저장\n",
    "drop_train = [index for index, sentence in enumerate(decoder_input_train) if len(sentence) == 1]\n",
    "drop_test = [index for index, sentence in enumerate(decoder_input_test) if len(sentence) == 1]\n",
    "\n",
    "print('삭제할 훈련 데이터의 개수 :',len(drop_train))\n",
    "print('삭제할 테스트 데이터의 개수 :',len(drop_test))\n",
    "\n",
    "encoder_input_train = np.delete(encoder_input_train, drop_train, axis=0)\n",
    "decoder_input_train = np.delete(decoder_input_train, drop_train, axis=0)\n",
    "decoder_target_train = np.delete(decoder_target_train, drop_train, axis=0)\n",
    "\n",
    "encoder_input_test = np.delete(encoder_input_test, drop_test, axis=0)\n",
    "decoder_input_test = np.delete(decoder_input_test, drop_test, axis=0)\n",
    "decoder_target_test = np.delete(decoder_target_test, drop_test, axis=0)\n",
    "\n",
    "print('훈련 데이터의 개수 :', len(encoder_input_train))\n",
    "print('훈련 레이블의 개수 :',len(decoder_input_train))\n",
    "print('테스트 데이터의 개수 :',len(encoder_input_test))\n",
    "print('테스트 레이블의 개수 :',len(decoder_input_test))"
   ]
  },
  {
   "cell_type": "code",
   "execution_count": 33,
   "metadata": {},
   "outputs": [],
   "source": [
    "#텍스트 시퀀스를 정수 시퀀스로 바꾸었다면 샘플들의 길이를 맞추기 위해서 패딩함. 최대길이로 패딩하며 길이가 짧은 샘플뒤에 0을 넣어줄 것임.\n",
    "encoder_input_train = pad_sequences(encoder_input_train, maxlen = text_max_len, padding='post')\n",
    "encoder_input_test = pad_sequences(encoder_input_test, maxlen = text_max_len, padding='post')\n",
    "decoder_input_train = pad_sequences(decoder_input_train, maxlen = headlines_max_len, padding='post')\n",
    "decoder_target_train = pad_sequences(decoder_target_train, maxlen = headlines_max_len, padding='post')\n",
    "decoder_input_test = pad_sequences(decoder_input_test, maxlen = headlines_max_len, padding='post')\n",
    "decoder_target_test = pad_sequences(decoder_target_test, maxlen = headlines_max_len, padding='post')"
   ]
  },
  {
   "cell_type": "code",
   "execution_count": 34,
   "metadata": {},
   "outputs": [
    {
     "name": "stdout",
     "output_type": "stream",
     "text": [
      "WARNING:tensorflow:Layer lstm will not use cuDNN kernel since it doesn't meet the cuDNN kernel criteria. It will use generic GPU kernel as fallback when running on GPU\n",
      "WARNING:tensorflow:Layer lstm_1 will not use cuDNN kernel since it doesn't meet the cuDNN kernel criteria. It will use generic GPU kernel as fallback when running on GPU\n",
      "WARNING:tensorflow:Layer lstm_2 will not use cuDNN kernel since it doesn't meet the cuDNN kernel criteria. It will use generic GPU kernel as fallback when running on GPU\n"
     ]
    }
   ],
   "source": [
    "#함수형 api활용하여 인코더 설계\n",
    "from tensorflow.keras.layers import Input, LSTM, Embedding, Dense, Concatenate\n",
    "from tensorflow.keras.models import Model\n",
    "from tensorflow.keras.callbacks import EarlyStopping, ModelCheckpoint\n",
    "\n",
    "\n",
    "# 인코더 설계 시작\n",
    "embedding_dim = 128 #임베딩 벡터 차원\n",
    "hidden_size = 256 #LSTM에서 얼만큼의 수용력을 가질지 결정.(LSTM의 용량 크기 혹은 뉴론 갯수)\n",
    "\n",
    "# 인코더\n",
    "encoder_inputs = Input(shape=(text_max_len,))\n",
    "\n",
    "# 인코더의 임베딩 층\n",
    "enc_emb = Embedding(src_vocab, embedding_dim)(encoder_inputs)\n",
    "\n",
    "# 인코더의 LSTM 1 3층이어서 모델의 용량을 늘림\n",
    "encoder_lstm1 = LSTM(hidden_size, return_sequences=True, return_state=True ,dropout = 0.4, recurrent_dropout = 0.4)\n",
    "encoder_output1, state_h1, state_c1 = encoder_lstm1(enc_emb)\n",
    "\n",
    "# 인코더의 LSTM 2\n",
    "encoder_lstm2 = LSTM(hidden_size, return_sequences=True, return_state=True, dropout=0.4, recurrent_dropout=0.4)\n",
    "encoder_output2, state_h2, state_c2 = encoder_lstm2(encoder_output1)\n",
    "\n",
    "# 인코더의 LSTM 3\n",
    "encoder_lstm3 = LSTM(hidden_size, return_state=True, return_sequences=True, dropout=0.4, recurrent_dropout=0.4)\n",
    "encoder_outputs, state_h, state_c= encoder_lstm3(encoder_output2)"
   ]
  },
  {
   "cell_type": "code",
   "execution_count": 35,
   "metadata": {},
   "outputs": [
    {
     "name": "stdout",
     "output_type": "stream",
     "text": [
      "WARNING:tensorflow:Layer lstm_3 will not use cuDNN kernel since it doesn't meet the cuDNN kernel criteria. It will use generic GPU kernel as fallback when running on GPU\n"
     ]
    }
   ],
   "source": [
    "# 디코더 설계\n",
    "\n",
    "decoder_inputs = Input(shape=(None,))\n",
    "\n",
    "# 디코더의 임베딩 층\n",
    "dec_emb_layer = Embedding(tar_vocab, embedding_dim)\n",
    "dec_emb = dec_emb_layer(decoder_inputs)\n",
    "\n",
    "# 디코더의 LSTM\n",
    "decoder_lstm = LSTM(hidden_size, return_sequences = True, return_state = True, dropout = 0.4, recurrent_dropout=0.2)#LSTM 입력정의시, 인코더의 hidden state, cell state 넣어줘야 한다.\n",
    "decoder_outputs, _, _ = decoder_lstm(dec_emb, initial_state = [state_h, state_c])"
   ]
  },
  {
   "cell_type": "code",
   "execution_count": 36,
   "metadata": {},
   "outputs": [
    {
     "name": "stdout",
     "output_type": "stream",
     "text": [
      "Model: \"model\"\n",
      "__________________________________________________________________________________________________\n",
      "Layer (type)                    Output Shape         Param #     Connected to                     \n",
      "==================================================================================================\n",
      "input_1 (InputLayer)            [(None, 40)]         0                                            \n",
      "__________________________________________________________________________________________________\n",
      "embedding (Embedding)           (None, 40, 128)      1920000     input_1[0][0]                    \n",
      "__________________________________________________________________________________________________\n",
      "lstm (LSTM)                     [(None, 40, 512), (N 1312768     embedding[0][0]                  \n",
      "__________________________________________________________________________________________________\n",
      "input_2 (InputLayer)            [(None, None)]       0                                            \n",
      "__________________________________________________________________________________________________\n",
      "lstm_1 (LSTM)                   [(None, 40, 512), (N 2099200     lstm[0][0]                       \n",
      "__________________________________________________________________________________________________\n",
      "embedding_1 (Embedding)         (None, None, 128)    960000      input_2[0][0]                    \n",
      "__________________________________________________________________________________________________\n",
      "lstm_2 (LSTM)                   [(None, 40, 512), (N 2099200     lstm_1[0][0]                     \n",
      "__________________________________________________________________________________________________\n",
      "lstm_3 (LSTM)                   [(None, None, 512),  1312768     embedding_1[0][0]                \n",
      "                                                                 lstm_2[0][1]                     \n",
      "                                                                 lstm_2[0][2]                     \n",
      "__________________________________________________________________________________________________\n",
      "dense (Dense)                   (None, None, 7500)   3847500     lstm_3[0][0]                     \n",
      "==================================================================================================\n",
      "Total params: 13,551,436\n",
      "Trainable params: 13,551,436\n",
      "Non-trainable params: 0\n",
      "__________________________________________________________________________________________________\n"
     ]
    }
   ],
   "source": [
    "# 디코더의 출력층\n",
    "decoder_softmax_layer = Dense(tar_vocab, activation = 'softmax')\n",
    "decoder_softmax_outputs = decoder_softmax_layer(decoder_outputs) \n",
    "\n",
    "# 모델 정의\n",
    "model = Model([encoder_inputs, decoder_inputs], decoder_softmax_outputs)\n",
    "model.summary()\n",
    "#summary의 단어장중에서 하나의 단어를 선택하는 다중 분류 문제이므로 softmax사용."
   ]
  },
  {
   "cell_type": "markdown",
   "metadata": {},
   "source": [
    "### - 어텐션 메커니즘 사용하기(추상적 요약)"
   ]
  },
  {
   "cell_type": "code",
   "execution_count": 37,
   "metadata": {},
   "outputs": [],
   "source": [
    "#어텐션 매커니즘 설계는 새로운 신경망 설계. 우리는 일단 만들어진 것을 불러와서 사용\n",
    "urllib.request.urlretrieve(\"https://raw.githubusercontent.com/thushv89/attention_keras/master/src/layers/attention.py\", filename=\"attention.py\")\n",
    "from attention import AttentionLayer"
   ]
  },
  {
   "cell_type": "code",
   "execution_count": 38,
   "metadata": {},
   "outputs": [
    {
     "name": "stdout",
     "output_type": "stream",
     "text": [
      "Model: \"model_1\"\n",
      "__________________________________________________________________________________________________\n",
      "Layer (type)                    Output Shape         Param #     Connected to                     \n",
      "==================================================================================================\n",
      "input_1 (InputLayer)            [(None, 40)]         0                                            \n",
      "__________________________________________________________________________________________________\n",
      "embedding (Embedding)           (None, 40, 128)      1920000     input_1[0][0]                    \n",
      "__________________________________________________________________________________________________\n",
      "lstm (LSTM)                     [(None, 40, 512), (N 1312768     embedding[0][0]                  \n",
      "__________________________________________________________________________________________________\n",
      "input_2 (InputLayer)            [(None, None)]       0                                            \n",
      "__________________________________________________________________________________________________\n",
      "lstm_1 (LSTM)                   [(None, 40, 512), (N 2099200     lstm[0][0]                       \n",
      "__________________________________________________________________________________________________\n",
      "embedding_1 (Embedding)         (None, None, 128)    960000      input_2[0][0]                    \n",
      "__________________________________________________________________________________________________\n",
      "lstm_2 (LSTM)                   [(None, 40, 512), (N 2099200     lstm_1[0][0]                     \n",
      "__________________________________________________________________________________________________\n",
      "lstm_3 (LSTM)                   [(None, None, 512),  1312768     embedding_1[0][0]                \n",
      "                                                                 lstm_2[0][1]                     \n",
      "                                                                 lstm_2[0][2]                     \n",
      "__________________________________________________________________________________________________\n",
      "attention_layer (AttentionLayer ((None, None, 512),  524800      lstm_2[0][0]                     \n",
      "                                                                 lstm_3[0][0]                     \n",
      "__________________________________________________________________________________________________\n",
      "concat_layer (Concatenate)      (None, None, 1024)   0           lstm_3[0][0]                     \n",
      "                                                                 attention_layer[0][0]            \n",
      "__________________________________________________________________________________________________\n",
      "dense_1 (Dense)                 (None, None, 7500)   7687500     concat_layer[0][0]               \n",
      "==================================================================================================\n",
      "Total params: 17,916,236\n",
      "Trainable params: 17,916,236\n",
      "Non-trainable params: 0\n",
      "__________________________________________________________________________________________________\n"
     ]
    }
   ],
   "source": [
    "# 어텐션 층(어텐션 함수)\n",
    "attn_layer = AttentionLayer(name='attention_layer')\n",
    "# 인코더와 디코더의 모든 time step의 hidden state를 어텐션 층에 전달하고 결과를 리턴\n",
    "attn_out, attn_states = attn_layer([encoder_outputs, decoder_outputs])\n",
    "\n",
    "# 어텐션의 결과와 디코더의 hidden state들을 연결\n",
    "decoder_concat_input = Concatenate(axis = -1, name='concat_layer')([decoder_outputs, attn_out])\n",
    "\n",
    "# 디코더의 출력층\n",
    "decoder_softmax_layer = Dense(tar_vocab, activation='softmax')\n",
    "decoder_softmax_outputs = decoder_softmax_layer(decoder_concat_input)\n",
    "\n",
    "# 모델 정의\n",
    "model = Model([encoder_inputs, decoder_inputs], decoder_softmax_outputs)\n",
    "model.summary()"
   ]
  },
  {
   "cell_type": "code",
   "execution_count": 39,
   "metadata": {},
   "outputs": [
    {
     "name": "stdout",
     "output_type": "stream",
     "text": [
      "Epoch 1/50\n",
      "464/464 [==============================] - 173s 373ms/step - loss: 5.9446 - val_loss: 5.5430\n",
      "Epoch 2/50\n",
      "464/464 [==============================] - 171s 369ms/step - loss: 5.3333 - val_loss: 5.1876\n",
      "Epoch 3/50\n",
      "464/464 [==============================] - 173s 374ms/step - loss: 4.9591 - val_loss: 4.8564\n",
      "Epoch 4/50\n",
      "464/464 [==============================] - 169s 365ms/step - loss: 4.6570 - val_loss: 4.6359\n",
      "Epoch 5/50\n",
      "464/464 [==============================] - 168s 363ms/step - loss: 4.3939 - val_loss: 4.4779\n",
      "Epoch 6/50\n",
      "464/464 [==============================] - 169s 364ms/step - loss: 4.1791 - val_loss: 4.3572\n",
      "Epoch 7/50\n",
      "464/464 [==============================] - 169s 364ms/step - loss: 3.9933 - val_loss: 4.2846\n",
      "Epoch 8/50\n",
      "464/464 [==============================] - 169s 364ms/step - loss: 3.8391 - val_loss: 4.2121\n",
      "Epoch 9/50\n",
      "464/464 [==============================] - 168s 362ms/step - loss: 3.6947 - val_loss: 4.1701\n",
      "Epoch 10/50\n",
      "464/464 [==============================] - 168s 363ms/step - loss: 3.5678 - val_loss: 4.1527\n",
      "Epoch 11/50\n",
      "464/464 [==============================] - 169s 363ms/step - loss: 3.4527 - val_loss: 4.1143\n",
      "Epoch 12/50\n",
      "464/464 [==============================] - 169s 363ms/step - loss: 3.3483 - val_loss: 4.1053\n",
      "Epoch 13/50\n",
      "464/464 [==============================] - 168s 363ms/step - loss: 3.2597 - val_loss: 4.1039\n",
      "Epoch 14/50\n",
      "464/464 [==============================] - 169s 364ms/step - loss: 3.1707 - val_loss: 4.1081\n",
      "Epoch 15/50\n",
      "464/464 [==============================] - 169s 363ms/step - loss: 3.0851 - val_loss: 4.0933\n",
      "Epoch 16/50\n",
      "464/464 [==============================] - 169s 363ms/step - loss: 3.0137 - val_loss: 4.0856\n",
      "Epoch 17/50\n",
      "464/464 [==============================] - 168s 363ms/step - loss: 2.9465 - val_loss: 4.1091\n",
      "Epoch 18/50\n",
      "464/464 [==============================] - 168s 363ms/step - loss: 2.8772 - val_loss: 4.1054\n",
      "Epoch 00018: early stopping\n"
     ]
    }
   ],
   "source": [
    "model.compile(optimizer='rmsprop', loss='sparse_categorical_crossentropy')\n",
    "es = EarlyStopping(monitor='val_loss', mode='min', verbose=1, patience = 2)\n",
    "history = model.fit(x = [encoder_input_train, decoder_input_train], y = decoder_target_train, \\\n",
    "          validation_data = ([encoder_input_test, decoder_input_test], decoder_target_test),\n",
    "          batch_size = 128, callbacks=[es], epochs = 50)\n",
    "#earlystop은 조건이 충족되면 모델 훈련 중단.\n",
    "#여기서는 val_loss를 모니터링하며 증가하는 증상이 2번 보이면 조기종료\n",
    "# batch_size = 256 hidden_size = 256, epoch: 27 loss: 2.8436 - val_loss: 3.9859"
   ]
  },
  {
   "cell_type": "code",
   "execution_count": 40,
   "metadata": {},
   "outputs": [
    {
     "data": {
      "image/png": "[encoded data removed]",
      "text/plain": [
       "<Figure size 432x288 with 1 Axes>"
      ]
     },
     "metadata": {
      "needs_background": "light"
     },
     "output_type": "display_data"
    }
   ],
   "source": [
    "#훈련, 검증 데이터 손실을 시각화\n",
    "plt.plot(history.history['loss'], label='train')\n",
    "plt.plot(history.history['val_loss'], label='test')\n",
    "plt.legend()\n",
    "plt.show()"
   ]
  },
  {
   "cell_type": "code",
   "execution_count": 41,
   "metadata": {},
   "outputs": [],
   "source": [
    "src_index_to_word = src_tokenizer.index_word # 원문 단어 집합에서 정수 -> 단어를 얻음\n",
    "tar_word_to_index = tar_tokenizer.word_index # 요약 단어 집합에서 단어 -> 정수를 얻음\n",
    "tar_index_to_word = tar_tokenizer.index_word # 요약 단어 집합에서 정수 -> 단어를 얻음"
   ]
  },
  {
   "cell_type": "code",
   "execution_count": 42,
   "metadata": {},
   "outputs": [],
   "source": [
    "#훈련시에는 정답문장(summary)를 넣고 디코더의 출력과 비교가 가능해서 인코더와 디코더를 엮은 모델하나만 준비\n",
    "#하지만 정답문장이 없는 실제 상황에서는 만들어야 할 문장길이만큼 디코더가 반복적으로 동작해야 하므로 별도 모델 설계 필요. 이때 인코더, 디코더 모델 분리설계\n",
    "# 인코더 설계\n",
    "encoder_model = Model(inputs=encoder_inputs, outputs=[encoder_outputs, state_h, state_c])\n",
    "\n",
    "# 이전 시점의 상태들을 저장하는 텐서\n",
    "decoder_state_input_h = Input(shape=(hidden_size,))\n",
    "decoder_state_input_c = Input(shape=(hidden_size,))\n",
    "\n",
    "dec_emb2 = dec_emb_layer(decoder_inputs)\n",
    "# 문장의 다음 단어를 예측하기 위해서 초기 상태(initial_state)를 이전 시점의 상태로 사용. 이는 뒤의 함수 decode_sequence()에 구현\n",
    "# 훈련 과정에서와 달리 LSTM의 리턴하는 은닉 상태와 셀 상태인 state_h와 state_c를 버리지 않음.\n",
    "decoder_outputs2, state_h2, state_c2 = decoder_lstm(dec_emb2, initial_state=[decoder_state_input_h, decoder_state_input_c])"
   ]
  },
  {
   "cell_type": "code",
   "execution_count": 43,
   "metadata": {},
   "outputs": [],
   "source": [
    "# 어텐션 함수\n",
    "decoder_hidden_state_input = Input(shape=(text_max_len, hidden_size))\n",
    "attn_out_inf, attn_states_inf = attn_layer([decoder_hidden_state_input, decoder_outputs2])\n",
    "decoder_inf_concat = Concatenate(axis=-1, name='concat')([decoder_outputs2, attn_out_inf])\n",
    "\n",
    "# 디코더의 출력층\n",
    "decoder_outputs2 = decoder_softmax_layer(decoder_inf_concat) \n",
    "\n",
    "# 최종 디코더 모델\n",
    "decoder_model = Model(\n",
    "    [decoder_inputs] + [decoder_hidden_state_input,decoder_state_input_h, decoder_state_input_c],\n",
    "    [decoder_outputs2] + [state_h2, state_c2])"
   ]
  },
  {
   "cell_type": "code",
   "execution_count": 47,
   "metadata": {},
   "outputs": [],
   "source": [
    "def decode_sequence(input_seq):\n",
    "    # 입력으로부터 인코더의 상태를 얻음\n",
    "    e_out, e_h, e_c = encoder_model.predict(input_seq)\n",
    "\n",
    "     # <SOS>에 해당하는 토큰 생성\n",
    "    target_seq = np.zeros((1,1))\n",
    "    target_seq[0, 0] = tar_word_to_index['sostoken']\n",
    "\n",
    "    stop_condition = False\n",
    "    decoded_sentence = ''\n",
    "    while not stop_condition: # stop_condition이 True가 될 때까지 루프 반복\n",
    "\n",
    "        output_tokens, h, c = decoder_model.predict([target_seq] + [e_out, e_h, e_c])\n",
    "        sampled_token_index = np.argmax(output_tokens[0, -1, :])\n",
    "        sampled_token = tar_index_to_word[sampled_token_index]\n",
    "\n",
    "        if(sampled_token!='eostoken'):\n",
    "            decoded_sentence += ' '+sampled_token\n",
    "\n",
    "        #  <eos>에 도달하거나 최대 길이를 넘으면 중단.\n",
    "        if (sampled_token == 'eostoken'  or len(decoded_sentence.split()) >= (headlines_max_len-1)):\n",
    "            stop_condition = True\n",
    "\n",
    "        # 길이가 1인 타겟 시퀀스를 업데이트\n",
    "        target_seq = np.zeros((1,1))\n",
    "        target_seq[0, 0] = sampled_token_index\n",
    "\n",
    "        # 상태를 업데이트 합니다.\n",
    "        e_h, e_c = h, c\n",
    "\n",
    "    return decoded_sentence"
   ]
  },
  {
   "cell_type": "markdown",
   "metadata": {},
   "source": [
    "### - 실제 결과와 요약문 비교하기(추상적 요약)"
   ]
  },
  {
   "cell_type": "code",
   "execution_count": 48,
   "metadata": {},
   "outputs": [],
   "source": [
    "#테스트 결과를 보기 위해서는 정수 시퀀스-> 텍스트 시퀀스\n",
    "#패딩을 위한 0, 시작토큰, 종료토큰의 인덱스는 제외하고 변환\n",
    "# 원문의 정수 시퀀스를 텍스트 시퀀스로 변환\n",
    "def seq2text(input_seq):\n",
    "    temp=''\n",
    "    for i in input_seq:\n",
    "        if(i!=0):\n",
    "            temp = temp + src_index_to_word[i]+' '\n",
    "    return temp\n",
    "\n",
    "# 요약문의 정수 시퀀스를 텍스트 시퀀스로 변환\n",
    "def seq2summary(input_seq):\n",
    "    temp=''\n",
    "    for i in input_seq:\n",
    "        if((i!=0 and i!=tar_word_to_index['sostoken']) and i!=tar_word_to_index['eostoken']):\n",
    "            temp = temp + tar_index_to_word[i] + ' '\n",
    "    return temp"
   ]
  },
  {
   "cell_type": "code",
   "execution_count": 49,
   "metadata": {},
   "outputs": [
    {
     "name": "stdout",
     "output_type": "stream",
     "text": [
      "원문 : central bureau investigation told parliamentary panel today may bofors case crore scandal rajiv gandhi government swedish radio april claimed swedish arms manufacturer bofors ab paid bribes top indian politicians defence personnel crore deal \n",
      "실제 요약 : case may be cbi tells parliamentary panel \n",
      "예측 요약 :  cbi seeks cr scam from india\n",
      "\n",
      "\n",
      "원문 : court documents revealed blood testing startup valued billion ran fake demonstration tests prospective investors complaint based testimony former employees directors claims used commercial devices instead one drop blood testing technology cheat investors business partners \n",
      "실제 요약 : blood testing startup tests to investors lawsuit \n",
      "예측 요약 :  startup develops cr for startup for billion\n",
      "\n",
      "\n",
      "원문 : reacting anti romeo squads formed uttar pradesh senior congress leader digvijaya singh saturday asked online troll abuse opposing task force tweeted notably cm yogi adityanath directed officials lay clear guidelines anti romeo squads \n",
      "실제 요약 : what about online who troll abuse asks congress \n",
      "예측 요약 :  bjp mp demands up cm yogi singh\n",
      "\n",
      "\n",
      "원문 : mumbai based health tech startup health raised million first funding round led founder aman iqbal islands based firm startup software pattern analysis advise users rank healthy risk high risk iqbal launched million healthcare focussed fund \n",
      "실제 요약 : mumbai health tech startup raises mn from founder fund \n",
      "예측 요약 :  mumbai fashion startup gets mn from venture\n",
      "\n",
      "\n",
      "원문 : iranian president hassan rouhani friday accused country revolutionary guards attempting sabotage nuclear agreement west testing ballistic missiles anti israeli messages written however armed forces responded missile programme connection nuclear deal warned rouhani discussing country defence programme \n",
      "실제 요약 : guards tried to nuke deal iran prez \n",
      "예측 요약 :  iran rejects nuclear weapons against nuclear weapons\n",
      "\n",
      "\n",
      "원문 : china rejected us request cut oil imports iran assured increase purchase iranian crude reports quoting us officials said us asked countries reduce crude imports zero oil sanctions iran november notably china world biggest iranian oil \n",
      "실제 요약 : china rejects us request to cut iran oil imports report \n",
      "예측 요약 :  china rejects us sanctions against us over sanctions\n",
      "\n",
      "\n",
      "원문 : leader gang arrested four members ghaziabad wednesday accused claimed committing crimes matter pride community woman would marry man criminal cases police said stolen car several cartridges recovered possession \n",
      "실제 요약 : members of gang arrested in ghaziabad \n",
      "예측 요약 :  main held for lynching case threatens to police\n",
      "\n",
      "\n",
      "원문 : least fishermen tamil nadu arrested sri lankan navy allegedly fishing island per reports fishermen surrounded sri lankan navy early sunday morning later taken interrogation fishermen boats fishermen later sent jail reports added \n",
      "실제 요약 : indian fishermen held for allegedly fishing in sri lanka \n",
      "예측 요약 :  fishermen from sri lanka fishermen by fishermen\n",
      "\n",
      "\n",
      "원문 : infosys chairman nandan nilekani recent event said company complete called last year company board much past chairman year excellent ceo salil parekh infosys really stable forward looking path added \n",
      "실제 요약 : infosys is complete chairman nandan nilekani \n",
      "예측 요약 :  infosys to quit infosys infosys chairman\n",
      "\n",
      "\n",
      "원문 : us president donald trump questioned india pakistan russia fighting taliban afghanistan purportedly referring military presence country although countries sending troops afghanistan us billions dollars added questioned us afghanistan miles away \n",
      "실제 요약 : why is not india fighting taliban in afghanistan asks trump \n",
      "예측 요약 :  trump taliban is like taliban pak\n",
      "\n",
      "\n",
      "원문 : train operated world largest ran away without driver australia region monday deliberately derailed train ran away driver temporarily stepped inspect issue iron loaded train four passengers board \n",
      "실제 요약 : iron train travels without driver forcibly \n",
      "예측 요약 :  world largest train engine falls off train\n",
      "\n",
      "\n",
      "원문 : nineteen year old california us lottery twice one week bought two scratch tickets first crore lakh top prizes two tickets wants go shopping buy new car wrote lottery representatives website \n",
      "실제 요약 : year old from us wins lottery twice in week \n",
      "예측 요약 :  year old us wins lakh year old sell record\n",
      "\n",
      "\n",
      "원문 : kit portrays jon snow game thrones said wrong referring comment made experience sexism male actor think meant feel past sexually well pieces written added nn \n",
      "실제 요약 : was wrong about comment on sexism towards men kit \n",
      "예측 요약 :  have no longer films than kit kit\n",
      "\n",
      "\n",
      "원문 : construction begun billion project land mediterranean sea build luxury apartments monaco world second smallest country project approved reigning monarch prince albert ii add luxury homes priced per sq metre reclaimed land add six hectares monaco current hectares \n",
      "실제 요약 : world nd smallest country land from the sea \n",
      "예측 요약 :  crore to be built in new zealand\n",
      "\n",
      "\n",
      "원문 : indian army military wing help build new foot elphinstone road road suburban railway stations mumbai chief minister devendra fadnavis said tuesday comes around people died getting crushed stampede foot overbridge connecting elphinstone road railway stations september \n",
      "실제 요약 : army to build overbridge at mumbai station \n",
      "예측 요약 :  army launches road for mumbai road\n",
      "\n",
      "\n",
      "원문 : eight founders real estate portal housing reportedly written board merged entity claiming received exit rights compared investors group housing founders collectively owned shares startup also complained formally informed deal \n",
      "실제 요약 : housing founders write to board over exit rights \n",
      "예측 요약 :  tata motors to take over employees\n",
      "\n",
      "\n",
      "원문 : delhi police arrested two men allegedly broke restaurant middle night rob cash counter ate biryani stole laptop instead police said duo intended steal money cash counter found empty miscreants also scattered food place \n",
      "실제 요약 : men break into eatery to rob cash eat biryani instead \n",
      "예측 요약 :  delhi police arrests men for robbing drone\n",
      "\n",
      "\n",
      "원문 : switzerland based astronomers using nasa hubble space telescope captured images distant galaxy star forming cosmic snake region using gravitational researchers able obtain brighter image observe details times smaller gravitational uses gravity star galaxy light object \n",
      "실제 요약 : astronomers capture star forming snake galaxy \n",
      "예측 요약 :  nasa shares image of planet planet from space\n",
      "\n",
      "\n",
      "원문 : lakh businesses far filed first tax returns gst regime senior official said monday tax collected maiden filings gst regime still compiled revenue department estimated collection around crore maiden gst filings official added \n",
      "실제 요약 : over lakh businesses have filed gst returns so far \n",
      "예측 요약 :  lakh tax rates under gst on july\n",
      "\n",
      "\n",
      "원문 : makers historic drama announced shruti haasan decided quit lead actress film launch cannes film festival per shruti official statement made decision received proper script date calendar even though commitment film would span two years \n",
      "실제 요약 : haasan quits after its launch at cannes \n",
      "예측 요약 :  to be poster of film on film reports\n",
      "\n",
      "\n",
      "원문 : miss world manushi chhillar featured cover march edition magazine seen wearing dot top tied waist green white skirt paired la manushi look necklace fashion jewellery \n",
      "실제 요약 : miss world manushi chhillar features on cover of \n",
      "예측 요약 :  miss world manushi chhillar to be on\n",
      "\n",
      "\n",
      "원문 : least people killed injured suspected militants targeted mosque egypt north province friday country state news agency reported suspected militants set bomb opened fire worshippers al mosque town al group yet claimed responsibility attack \n",
      "실제 요약 : killed injured in mosque attack in egypt \n",
      "예측 요약 :  killed in attack on police in kashmir\n",
      "\n",
      "\n",
      "원문 : prisoners broke overcrowded jail indonesia island friday tearing gate near mosque prison complex allowed cells pray police reportedly around inmates notably jail capacity inmates housing prisoners \n",
      "실제 요약 : inmates break out of indonesian jail \n",
      "예측 요약 :  inmates escape from prison prison\n",
      "\n",
      "\n",
      "원문 : india second commitment period protocol nations reduce emission greenhouse gases second commitment period nations commit reducing emissions least levels india acceptance commitment climate action indian mission un said \n",
      "실제 요약 : india to reduce gas \n",
      "예측 요약 :  india to issue of its own\n",
      "\n",
      "\n",
      "원문 : union environment ministry approved proposal expansion delhi indira gandhi international airport expansion increase overall capacity airport million per annum current million per annum phase two expansion include construction new terminal \n",
      "실제 요약 : environment ministry approves delhi airport expansion plan \n"
     ]
    },
    {
     "name": "stdout",
     "output_type": "stream",
     "text": [
      "예측 요약 :  delhi approves its airport spinner to\n",
      "\n",
      "\n",
      "원문 : delhi university tuesday released fifth final cut list per schedule admissions list conclude july courses closed general category students several colleges highest cut fifth list college percent ba psychology \n",
      "실제 요약 : delhi university releases final cut off list \n",
      "예측 요약 :  delhi university tops list of most advanced\n",
      "\n",
      "\n",
      "원문 : bishop international airport us state michigan evacuated police officer stabbed neck man according reports suspect along knife reportedly detained police injured officer critical condition reports added airport closed notice \n",
      "실제 요약 : airport in us evacuated after cop stabbed in neck \n",
      "예측 요약 :  tourist detained in uk parliament officer case\n",
      "\n",
      "\n",
      "원문 : uae man fined lakh sent jail days fianc took serious offence jokingly called messaging app whatsapp following message fianc filed court case per law sending anything offensive nature social media considered \n",
      "실제 요약 : uae man calls fianc idiot on whatsapp fined lakh \n",
      "예측 요약 :  man fined lakh for not removing whatsapp\n",
      "\n",
      "\n",
      "원문 : senior customs officer sk swaminathan accused giving bribe colleague promotion file said cbi life career alleged cbi fabricated case shield corrupt officers result today wife son stalled unknown people swaminathan added \n",
      "실제 요약 : cbi my life with fake cases senior customs officer \n",
      "예측 요약 :  chargesheet filed against ex jail for misconduct\n",
      "\n",
      "\n",
      "원문 : ecuadorian embassy london banned wikileaks founder julian assange visitors taking phone calls according wikileaks march assange internet access cut following alleged breach agreement ecuadorian government refrain interfering states affairs wikileaks claims ban result us pressure \n",
      "실제 요약 : ecuador bans assange from taking visitors calls wikileaks \n",
      "예측 요약 :  uk bans assange from wikileaks\n",
      "\n",
      "\n",
      "원문 : union minister jitendra singh wednesday laid foundation stone construction new hostel jawaharlal nehru university announced seats hostel reserved students northeast five floor hostel pending three years accommodate students expected completed within twenty months \n",
      "실제 요약 : new jnu hostel to reserve seats for northeast students \n",
      "예측 요약 :  union minister announces new village\n",
      "\n",
      "\n",
      "원문 : police officers mumbai donated blood sunday official mumbai police twitter account posted wise things officers police station praised actions social media users tweeting good job cops mumbai police always stood sweat blood city \n",
      "실제 요약 : mumbai police officers donate blood on april fools day \n",
      "예측 요약 :  mumbai police station cops booked for traffic tweet\n",
      "\n",
      "\n",
      "원문 : chinese demonstrated quantum circuit surpassing previous record nine team made using aluminium pieces connected arranged around central bus physicists goal create large scale quantum computers complex interactions molecules \n",
      "실제 요약 : scientists break quantum record with \n",
      "예측 요약 :  world smallest smallest bike found in\n",
      "\n",
      "\n",
      "원문 : softbank planning retain shares flipkart next year avoid paying large tax according reports softbank yet decide much holding homegrown commerce firm sell reports claimed open good offers flipkart softbank ceo masayoshi son said earlier \n",
      "실제 요약 : softbank may keep its flipkart shares until to save tax \n",
      "예측 요약 :  walmart may get flipkart tax on flipkart merger report\n",
      "\n",
      "\n",
      "원문 : hyderabad schools parents association started postcard campaign draw telangana cm kc rao attention issue school fee hike association posted slogan let us write cm sir comes telangana government committee review issue school fee hike delayed report \n",
      "실제 요약 : parents send to gana cm over school fee hike \n",
      "예측 요약 :  schools dance to be given by minister\n",
      "\n",
      "\n",
      "원문 : rti activist madhya pradesh allegedly abducted monday killed unidentified men madhya pradesh police said victim body bore multiple injury marks apparently hit iron rods hockey sticks activist family said also attacked recently case lodged panchayat ousted secretary \n",
      "실제 요약 : rti activist abducted and killed in madhya pradesh \n",
      "예측 요약 :  mp son son killed in mp rape case case\n",
      "\n",
      "\n",
      "원문 : china rover rabbit left first ever footprint far side moon chinese officials said project chief designer said small step rover one giant leap chinese nation similar lines neil armstrong statement became first human step foot moon \n",
      "실제 요약 : chinese rover leaves st ever on moon far side \n",
      "예측 요약 :  chinese space space st moon khan\n",
      "\n",
      "\n",
      "원문 : private sector lender yes bank paid crore fines gst department alleged violations domestic remittances bank official said money paid protest lender believes violated norms however tax department view bank gst \n",
      "실제 요약 : yes bank pays crore in gst fines under protest \n",
      "예측 요약 :  bank of baroda notes from crore\n",
      "\n",
      "\n",
      "원문 : year old woman severely injured overbridge collapsed onto rail tracks station mumbai andheri died hospital saturday suffered severe injuries head limbs incident ventilator support notably collapsed bridge cleared safety audit november \n",
      "실제 요약 : yr old woman injured in mumbai bridge collapse dies \n",
      "예측 요약 :  woman falls off moving floor bridge dies in mumbai\n",
      "\n",
      "\n",
      "원문 : bjp mp satish gautam demanded word muslim dropped name aligarh muslim university added word muslim sounds hard whereas word hindu feeling attached said names university named aligarh university \n",
      "실제 요약 : remove word muslim from aligarh muslim university bjp mp \n",
      "예측 요약 :  bjp mp women women in triple talaq bjp\n",
      "\n",
      "\n",
      "원문 : wwe wrestler john cena proposed girlfriend nikki duo tag team match sunday orlando florida waiting long ask nicole garcia marry cena said one knee accepted kissing cena \n",
      "실제 요약 : john cena proposes to live on \n",
      "예측 요약 :  wwe winning director marries girlfriend\n",
      "\n",
      "\n",
      "원문 : us state department website mistakenly showed singapore part malaysia press briefing given us secretary state mike pompeo described briefing venue singapore malaysia singapore previously part malaysia separated east asian country \n",
      "실제 요약 : us govt website wrongly shows singapore as part of malaysia \n",
      "예측 요약 :  us embassy in us embassy to be named\n",
      "\n",
      "\n",
      "원문 : vikram taken managing director ceo national stock exchange quit member committee administrators bcci regulator sebi said could result conflict interest term five years exchange paid crore year \n",
      "실제 요약 : vikram takes charge as md and ceo of \n",
      "예측 요약 :  infosys ceo appointed new ceo of niti aayog\n",
      "\n",
      "\n",
      "원문 : upon national capital territory delhi national capital region includes districts uttar pradesh haryana rajasthan apart districts haryana including gurugram rewari ncr comprises eight districts ghaziabad meerut muzaffarnagar two districts rajasthan part ncr alwar \n",
      "실제 요약 : how many districts are included in the ncr \n",
      "예측 요약 :  haryana govt to run up by national\n",
      "\n",
      "\n",
      "원문 : number cases supreme court centre party increased last one year law ministry rise gst demonetisation number cases filed government party january december cases filed \n",
      "실제 요약 : sc cases where government is party rose in last year \n",
      "예측 요약 :  deadline for months in december extended to jan\n",
      "\n",
      "\n",
      "원문 : actor rishi kapoor took twitter share picture father raj kapoor death anniversary friday caption wrote line song kapoor film mera naam joker known films like shree kapoor passed away due asthma related complications aged \n",
      "실제 요약 : rishi tweets about father raj kapoor death anniversary \n",
      "예측 요약 :  rishi kapoor raj kapoor grandson raj kapoor passes away\n",
      "\n",
      "\n",
      "원문 : comedian jeff recently installed relationship saving station furniture company ikea store california united states station provided five ways couples ease tension loved one advice included suggestions blowing away anger bubbles looking photo puppy cup putting milk hats \n",
      "실제 요약 : man installs relationship saving station in ikea store \n",
      "예측 요약 :  hardik patel to find his hotel\n",
      "\n",
      "\n",
      "원문 : revealed enjoys acting get offers directors directors producers come work reason see acting added lot directors called saying enjoyed work never asked film said \n",
      "실제 요약 : enjoy acting but do not get offers from directors \n",
      "예측 요약 :  there is no plans to change industry\n",
      "\n",
      "\n",
      "원문 : open letter versions songs lata mangeshkar wrote feels hurt original tune distorted new cheap words added wrote totally song absolutely wrong added request companies look songs something reflects culture \n",
      "실제 요약 : adding cheap words to original songs me lata \n",
      "예측 요약 :  feel like to be called\n",
      "\n",
      "\n",
      "원문 : presenting budget rajasthan chief minister vasundhara raje monday announced state government recruit lakh youths december jobs offered state education department vacancies filled health department budget also proposed employment subsidy industries recruiting rajasthan residents \n",
      "실제 요약 : rajasthan govt to give jobs to lakh youths before december \n"
     ]
    },
    {
     "name": "stdout",
     "output_type": "stream",
     "text": [
      "예측 요약 :  rajasthan cm announces lakh for railway ministers\n",
      "\n",
      "\n"
     ]
    }
   ],
   "source": [
    "#실제 요약과 예측된 요약비교\n",
    "#나름대로 비슷한 요약도 있다. 여러 개선방안이 존재(트랜스포머, 빔서치, 사전 훈련된 워드 임베딩)\n",
    "for i in range(50, 100):\n",
    "    print(\"원문 :\", seq2text(encoder_input_test[i]))\n",
    "    print(\"실제 요약 :\", seq2summary(decoder_input_test[i]))\n",
    "    print(\"예측 요약 :\", decode_sequence(encoder_input_test[i].reshape(1, text_max_len)))\n",
    "    print(\"\\n\")"
   ]
  },
  {
   "cell_type": "markdown",
   "metadata": {},
   "source": [
    "### - Summa를 이용해서 추출적 요약해보기"
   ]
  },
  {
   "cell_type": "code",
   "execution_count": 53,
   "metadata": {},
   "outputs": [
    {
     "name": "stderr",
     "output_type": "stream",
     "text": [
      "[nltk_data] Downloading package stopwords to /home/ssac19/nltk_data...\n",
      "[nltk_data]   Package stopwords is already up-to-date!\n"
     ]
    }
   ],
   "source": [
    "import nltk\n",
    "nltk.download('stopwords')\n",
    "\n",
    "import numpy as np\n",
    "import pandas as pd\n",
    "import os\n",
    "import re\n",
    "import matplotlib.pyplot as plt\n",
    "from nltk.corpus import stopwords\n",
    "from bs4 import BeautifulSoup \n",
    "from tensorflow.keras.preprocessing.text import Tokenizer \n",
    "from tensorflow.keras.preprocessing.sequence import pad_sequences\n",
    "\n",
    "import urllib.request\n",
    "urllib.request.urlretrieve(\"https://raw.githubusercontent.com/sunnysai12345/News_Summary/master/news_summary_more.csv\", filename=\"news_summary_more.csv\")\n",
    "news_data = pd.read_csv('news_summary_more.csv', encoding='iso-8859-1')"
   ]
  },
  {
   "cell_type": "code",
   "execution_count": 64,
   "metadata": {},
   "outputs": [
    {
     "name": "stdout",
     "output_type": "stream",
     "text": [
      "       index                                          headlines  \\\n",
      "0          0  upGrad learner switches to career in ML & Al w...   \n",
      "1          1  Delhi techie wins free food from Swiggy for on...   \n",
      "2          2  New Zealand end Rohit Sharma-led India's 12-ma...   \n",
      "3          3  Aegon life iTerm insurance plan helps customer...   \n",
      "4          4  Have known Hirani for yrs, what if MeToo claim...   \n",
      "...      ...                                                ...   \n",
      "98396  98396  CRPF jawan axed to death by Maoists in Chhatti...   \n",
      "98397  98397  First song from Sonakshi Sinha's 'Noor' titled...   \n",
      "98398  98398         'The Matrix' film to get a reboot: Reports   \n",
      "98399  98399  Snoop Dogg aims gun at clown dressed as Trump ...   \n",
      "98400  98400  Madhesi Morcha withdraws support to Nepalese g...   \n",
      "\n",
      "                                                    text  \n",
      "0      Saurav Kant, an alumnus of upGrad and IIIT-B's...  \n",
      "1      Kunal Shah's credit card bill payment platform...  \n",
      "2      New Zealand defeated India by 8 wickets in the...  \n",
      "3      With Aegon Life iTerm Insurance plan, customer...  \n",
      "4      Speaking about the sexual harassment allegatio...  \n",
      "...                                                  ...  \n",
      "98396  A CRPF jawan was on Tuesday axed to death with...  \n",
      "98397  'Uff Yeh', the first song from the Sonakshi Si...  \n",
      "98398  According to reports, a new version of the 199...  \n",
      "98399  A new music video shows rapper Snoop Dogg aimi...  \n",
      "98400  Madhesi Morcha, an alliance of seven political...  \n",
      "\n",
      "[98401 rows x 3 columns]\n",
      "0        Saurav Kant, an alumnus of upGrad and IIIT-B's...\n",
      "1        Kunal Shah's credit card bill payment platform...\n",
      "2        New Zealand defeated India by 8 wickets in the...\n",
      "3        With Aegon Life iTerm Insurance plan, customer...\n",
      "4        Speaking about the sexual harassment allegatio...\n",
      "                               ...                        \n",
      "98396    A CRPF jawan was on Tuesday axed to death with...\n",
      "98397    'Uff Yeh', the first song from the Sonakshi Si...\n",
      "98398    According to reports, a new version of the 199...\n",
      "98399    A new music video shows rapper Snoop Dogg aimi...\n",
      "98400    Madhesi Morcha, an alliance of seven political...\n",
      "Name: text, Length: 98401, dtype: object\n",
      "<class 'pandas.core.series.Series'>\n"
     ]
    }
   ],
   "source": [
    "origin_text = news_data\n",
    "fixed_index_data = origin_text.reset_index()\n",
    "#print(fixed_index_data)\n",
    "print(fixed_index_data)\n",
    "txt = fixed_index_data['text']\n",
    "heads = fixed_index_data['headlines']\n",
    "print(txt)\n",
    "print(type(txt))"
   ]
  },
  {
   "cell_type": "code",
   "execution_count": 66,
   "metadata": {},
   "outputs": [
    {
     "name": "stdout",
     "output_type": "stream",
     "text": [
      "original text:\n",
      "Former Finance Minister Yashwant Sinha on Tuesday demanded a probe into the alleged diversion of loans worth Ã¢ÂÂ¹31,000 crore by Dewan Housing Finance (DHFL). All agencies including regulators of the government have failed to track nefarious deals, he said. This comes after a media report on Tuesday accused DHFL's controlling shareholders of diverting funds to shell companies to buy assets.\n",
      "original headline:\n",
      "Yashwant Sinha demands probe into alleged fund diversion by DHFL\n",
      "predicted summary:\n",
      "Former Finance Minister Yashwant Sinha on Tuesday demanded a probe into the alleged diversion of loans worth Ã¢ÂÂ¹31,000 crore by Dewan Housing Finance (DHFL).\n",
      "-----------------------------\n",
      "original text:\n",
      "US-based Boeing on Wednesday reported annual sales worth $101.12 billion in 2018, the first time the planemaker's sales crossed the $100-billion mark in its 102-year history. The company said it expects to deliver between 895 and 905 commercial aircraft in 2019. Boeing retained its position as the world's largest planemaker for the seventh straight year, delivering 806 aircraft in 2018. \n",
      "original headline:\n",
      "Boeing sales cross $100bn for 1st time in its 102-yr history\n",
      "predicted summary:\n",
      "Boeing retained its position as the world's largest planemaker for the seventh straight year, delivering 806 aircraft in 2018.\n",
      "-----------------------------\n",
      "original text:\n",
      "text\n",
      "original headline:\n",
      "headlines\n",
      "predicted summary:\n",
      "\n",
      "-----------------------------\n",
      "original text:\n",
      "OnePlus has emerged as India's best-selling premium smartphone brand of 2018, as per a report by Counterpoint. It captured 36% of the market share in the premium segment, in Q4 2018. Further, its OnePlus 6 emerged as the highest selling premium smartphone of 2018 followed by OnePlus 6T.\n",
      "original headline:\n",
      "OnePlus named bestselling premium smartphone brand of 2018: Report\n",
      "predicted summary:\n",
      "Further, its OnePlus 6 emerged as the highest selling premium smartphone of 2018 followed by OnePlus 6T.\n",
      "-----------------------------\n",
      "original text:\n",
      "Filmmaker Pooja Bhatt, while talking about the presentation of women in her films, said, \"I can never look at a female body, even if it's naked, in a vulgar manner.\" \"Our audience can say...the women in my films are bold or sensual, but never ever vulgar,\" she added. Pooja further said her censor board is her \"own heart and mind\".\n",
      "original headline:\n",
      "Can never look at female body, even if naked, in vulgar way: Pooja\n",
      "predicted summary:\n",
      "Filmmaker Pooja Bhatt, while talking about the presentation of women in her films, said, \"I can never look at a female body, even if it's naked, in a vulgar manner.\" \"Our audience can say...the women in my films are bold or sensual, but never ever vulgar,\" she added.\n",
      "-----------------------------\n",
      "original text:\n",
      "Actress Mishti, who has featured in 'Manikarnika: The Queen of Jhansi', has said the film's co-director Kangana Ranaut made false promises to the cast. \"Kangana had said, 'I want dates because all characters look jumbled up...I'm trying my best to give everybody a prominent space on screen.' After watching the movie, there is no scope for other characters,\" Mishti added. \n",
      "original headline:\n",
      "Kangana made fake promises to cast: 'Manikarnika' actress Mishti\n",
      "predicted summary:\n",
      "Actress Mishti, who has featured in 'Manikarnika: The Queen of Jhansi', has said the film's co-director Kangana Ranaut made false promises to the cast.\n",
      "-----------------------------\n",
      "original text:\n",
      "The high-powered committee led by PM Narendra Modi to select the next CBI Director will meet again on February 1, Congress leader Mallikarjun Kharge has said. The panel consisting of Kharge and Chief Justice of India Ranjan Gogoi met on January 24, but the meeting ended \"inconclusively\" after Kharge cited lack of details in the list of 80 IPS officers. \n",
      "original headline:\n",
      "PM-led panel to meet on Friday to pick new CBI chief: Kharge\n",
      "predicted summary:\n",
      "The high-powered committee led by PM Narendra Modi to select the next CBI Director will meet again on February 1, Congress leader Mallikarjun Kharge has said.\n",
      "-----------------------------\n",
      "original text:\n",
      "Nevada State Athletic Commission has banned MMA fighters Conor McGregor and Khabib Nurmagomedov for six months and nine months respectively over their roles in the mass brawl that occurred after their fight at UFC 229 last October. McGregor and Khabib have been fined $50,000 (Ã¢ÂÂ¹35 lakh) and $500,000 (Ã¢ÂÂ¹3.5 crore) respectively. The brawl occurred after Nurmagomedov confronted McGregor's teammate.\n",
      "original headline:\n",
      "McGregor fined Ã¢ÂÂ¹35 lakh, Khabib Ã¢ÂÂ¹3.5 crore for brawl; both banned\n",
      "predicted summary:\n",
      "Nevada State Athletic Commission has banned MMA fighters Conor McGregor and Khabib Nurmagomedov for six months and nine months respectively over their roles in the mass brawl that occurred after their fight at UFC 229 last October.\n",
      "-----------------------------\n",
      "original text:\n",
      "Pakistan captain Sarfaraz Ahmed, who has been banned for four matches over racist remarks, took an apparent dig at his critics by sharing a video of a child reciting 'log hai na' poem on Twitter. \"Pyaar karna hai to khud se kar...dushmani karne ke liye log hai na,\" the poem read. \"This is how the world is,\" Sarfaraz wrote.\n",
      "original headline:\n",
      "Banned for 4 matches, Sarfaraz shares 'log hai na' poem for critics\n",
      "predicted summary:\n",
      "Pakistan captain Sarfaraz Ahmed, who has been banned for four matches over racist remarks, took an apparent dig at his critics by sharing a video of a child reciting 'log hai na' poem on Twitter.\n",
      "-----------------------------\n",
      "original text:\n",
      "Banned cricketer Sreesanth has told Supreme Court he initially confessed to Delhi Police about his alleged involvement in 2013 IPL spot-fixing scandal to escape continuous police torture. Sreesanth further said the bookie tried dragging him into spot-fixing but he didn't fall for it. Citing Sreesanth not informing BCCI about fixing approach, the apex court said Sreesanth's conduct \"wasn't good\".\n",
      "original headline:\n",
      "Confessed to spot-fixing to escape police torture: Sreesanth to SC\n",
      "predicted summary:\n",
      "Sreesanth further said the bookie tried dragging him into spot-fixing but he didn't fall for it.\n",
      "-----------------------------\n",
      "original text:\n",
      "The Finance Ministry on Wednesday said the government will present an Interim Budget on February 1. The clarification came amid speculations that a full Budget may be presented during the session. The government recently assigned Piyush Goyal temporary additional charge of the Finance and Corporate Affairs ministries in the absence of Arun Jaitley, who is in the US for treatment.\n",
      "original headline:\n",
      "Govt to present Interim Budget, not full Budget on February 1\n",
      "predicted summary:\n",
      "The Finance Ministry on Wednesday said the government will present an Interim Budget on February 1.\n",
      "-----------------------------\n",
      "original text:\n",
      "US President Donald Trump on Wednesday called his country's top intelligence chiefs \"naive\" and \"wrong\" on Iran and added that they should perhaps \"go back to school\". Trump claimed Iran is testing rockets, calling the country \"a source of potential danger and conflict\". Top US intelligence officials on Tuesday said that Iran isn't currently taking steps towards building nuclear weapons.\n",
      "original headline:\n",
      "US intelligence naive and wrong, should go back to school: Trump\n",
      "predicted summary:\n",
      "US President Donald Trump on Wednesday called his country's top intelligence chiefs \"naive\" and \"wrong\" on Iran and added that they should perhaps \"go back to school\".\n",
      "-----------------------------\n",
      "original text:\n",
      "A senior priest at the Vatican who handled cases of sexual abuse has quit after being accused of sexual abuse by a former nun. The accused priest claimed he is innocent and said he would consider taking legal action. The Vatican said in a statement that a Church investigation of the case was underway.\n",
      "original headline:\n",
      "Vatican priest handling sex abuse cases quits over alleged sex abuse\n",
      "predicted summary:\n",
      "A senior priest at the Vatican who handled cases of sexual abuse has quit after being accused of sexual abuse by a former nun.\n",
      "-----------------------------\n",
      "original text:\n",
      "A 22-year-old writer turned down a job offer, claiming she was bullied to the point of tears during her two-hour interview by a UK company's CEO. Olivia Bland added the \"brutal\" interview brought back painful memories of her abusive relationship. \"I am so sorry that anyone has been hurt, it is never my intent,\" Web Applications CEO Craig Dean replied. \n",
      "original headline:\n",
      "Woman rejects job after CEO bullies her in interview; he apologises\n",
      "predicted summary:\n",
      "A 22-year-old writer turned down a job offer, claiming she was bullied to the point of tears during her two-hour interview by a UK company's CEO.\n",
      "-----------------------------\n",
      "original text:\n",
      "Noida Police has arrested Sector 20 station in-charge Manoj Pant and three journalists for allegedly extorting money from a call centre owner for removing his name from an FIR. The four were caught while taking bribe money of Ã¢ÂÂ¹8 lakh, police said. Pant was the lead investigator in the Paytm extortion case involving Founder Vijay Shekhar Sharma's secretary Sonia Dhawan.\n",
      "original headline:\n",
      "Police officer probing Paytm extortion case arrested for extortion\n",
      "predicted summary:\n",
      "Noida Police has arrested Sector 20 station in-charge Manoj Pant and three journalists for allegedly extorting money from a call centre owner for removing his name from an FIR.\n",
      "-----------------------------\n",
      "original text:\n",
      "Airtel on Wednesday said that Qatar's sovereign wealth fund Qatar Investment Authority will invest $200 million through a primary equity issuance in Airtel Africa. India's second-largest telecom operator's Africa unit recently raised $1.25 billion from six investors. Airtel Africa, the holding company for Airtel's operations in 14 African countries, is preparing for an initial public offering.\n",
      "original headline:\n",
      "Qatar to invest $200 million in Airtel Africa\n",
      "predicted summary:\n",
      "Airtel Africa, the holding company for Airtel's operations in 14 African countries, is preparing for an initial public offering.\n",
      "-----------------------------\n",
      "original text:\n",
      "Actor Shreyas Talpade said that 'Golmaal' filmmaker Rohit Shetty is still working on the script for the fifth instalment of the 'Golmaal' film franchise. \"He was telling us the other day that he...cracked some story. Once he's done with the...scripting, he'll take a call,Ã¢ÂÂ the actor added. The series features Shreyas along with Ajay Devgn, Arshad Warsi and Tusshar Kapoor.\n",
      "original headline:\n",
      "Rohit Shetty still working on script for Golmaal 5: Shreyas\n",
      "predicted summary:\n",
      "Actor Shreyas Talpade said that 'Golmaal' filmmaker Rohit Shetty is still working on the script for the fifth instalment of the 'Golmaal' film franchise.\n",
      "Once he's done with the...scripting, he'll take a call,Ã¢ÂÂ the actor added.\n",
      "-----------------------------\n",
      "original text:\n",
      "A 72-year-old man named Terry Sanderson has sued 'Avengers' actress Gwyneth Paltrow for allegedly crashing into him while skiing, and is seeking $3.1 million (over Ã¢ÂÂ¹22 crore) in damages. The lawsuit states the actress got up and skied away after knocking the man down, leaving him with broken ribs. The incident reportedly took place in 2016 in Utah, US. \n",
      "original headline:\n",
      "Man sues Avengers actress Gwyneth for Ã¢ÂÂ¹22 crore over ski crash\n",
      "predicted summary:\n",
      "A 72-year-old man named Terry Sanderson has sued 'Avengers' actress Gwyneth Paltrow for allegedly crashing into him while skiing, and is seeking $3.1 million (over Ã¢ÂÂ¹22 crore) in damages.\n",
      "-----------------------------\n",
      "original text:\n",
      "Yami Gautam was felicitated by Border Security Force (BSF) in Amritsar for her performance in 'Uri: The Surgical Strike'. \"BSF is the first line of defence of our country and it gives me...pride to have met them,\" Yami said. The film, which also stars Vicky Kaushal, is based on the Indian Army's surgical strike operation which took place in 2016.\n",
      "original headline:\n",
      "Yami Gautam felicitated by BSF for performance in 'Uri...'\n",
      "predicted summary:\n",
      "Yami Gautam was felicitated by Border Security Force (BSF) in Amritsar for her performance in 'Uri: The Surgical Strike'.\n",
      "-----------------------------\n",
      "original text:\n",
      "Social media giant Facebook has hired privacy critic Nate Cardozo, formerly the top legal counsel for US privacy watchdog EFF, as a privacy policy manager for WhatsApp. Cardozo had called Facebook a \"faceless corporation\" whose business model depends on user's confusion and indifference about privacy, in October 2015. Facebook has also hired attorney Robyn Greene as its privacy policy manager.\n",
      "original headline:\n",
      "Facebook hires its privacy critic as privacy policy manager\n",
      "predicted summary:\n",
      "Social media giant Facebook has hired privacy critic Nate Cardozo, formerly the top legal counsel for US privacy watchdog EFF, as a privacy policy manager for WhatsApp. Cardozo had called Facebook a \"faceless corporation\" whose business model depends on user's confusion and indifference about privacy, in October 2015.\n",
      "-----------------------------\n",
      "original text:\n",
      "Apple CEO Tim Cook said the company plans to lower some iPhones' prices in markets with currencies that weakened against the US dollar in the past year. \"WeÃ¢ÂÂve decided to go back to (iPhone prices) more commensurate with...local prices...a year ago,\" Cook added. The price cuts, in hopes of increasing sales, are reportedly occurring for second time in 12 years.\n",
      "original headline:\n",
      "Apple to cut some iPhones' prices outside US over strong dollar\n",
      "predicted summary:\n",
      "\"WeÃ¢ÂÂve decided to go back to (iPhone prices) more commensurate with...local prices...a year ago,\" Cook added.\n",
      "-----------------------------\n",
      "original text:\n",
      "Scientists in Australia's Flinders University are testing a wetsuit prototype that could protect its wearer after a shark attack. The suit, made of synthetic material similar to the material used in bulletproof vests, could help reduce blood loss after a shark attack. \"The majority of fatalities from shark bites is due to blood loss...shock from blood loss,\" a scientist said.\n",
      "original headline:\n",
      "Scientists test wetsuit to protect wearer after shark attack\n",
      "predicted summary:\n",
      "\"The majority of fatalities from shark bites is due to blood loss...shock from blood loss,\" a scientist said.\n",
      "-----------------------------\n",
      "original text:\n",
      "BJP National Secretary Rahul Sinha on Wednesday asked the party workers in West Bengal to come armed with sticks to PM Narendra Modi's rally in the state on February 2. His statement came a day after clashes broke out following BJP chief Amit Shah's WB rally. Sinha added the TMC is indulged in violence as they're afraid of BJP's strength.\n",
      "original headline:\n",
      "Come armed with sticks for PM Modi's rally in WB: BJP leader\n",
      "predicted summary:\n",
      "BJP National Secretary Rahul Sinha on Wednesday asked the party workers in West Bengal to come armed with sticks to PM Narendra Modi's rally in the state on February 2.\n",
      "-----------------------------\n",
      "original text:\n",
      "BJP President Amit Shah on Wednesday took a dig at the Opposition parties saying that the 'mahagathbandhan' for the Opposition is 4B - \"Bua-Bhatija-Bhai-Behen\". He added that 4B for the BJP meant \"Badhta Bharat, Banta Bharat\". He said Opposition's government cannot take the country ahead and \"only Modiji can provide a 'mazboot' (strong) government\".\n",
      "original headline:\n",
      "'4B' for Opposition is 'Bua-Bhatija-Bhai-Behen': Amit Shah\n",
      "predicted summary:\n",
      "BJP President Amit Shah on Wednesday took a dig at the Opposition parties saying that the 'mahagathbandhan' for the Opposition is 4B - \"Bua-Bhatija-Bhai-Behen\".\n",
      "-----------------------------\n",
      "original text:\n",
      "German automaker Volkswagen Group has retained the car industry's top spot in global sales, beating its Japanese rival Toyota. Volkswagen's sales, including its MAN and Scania heavy trucks and buses, rose 0.9% to 10.83 million in 2018, the company had said. Toyota came second with around 10.6 million deliveries, including its affiliated brands Daihatsu and Hino, in 2018.\n",
      "original headline:\n",
      "Volkswagen retains top spot in global sales, beats Toyota\n",
      "predicted summary:\n",
      "Volkswagen's sales, including its MAN and Scania heavy trucks and buses, rose 0.9% to 10.83 million in 2018, the company had said.\n",
      "-----------------------------\n",
      "original text:\n",
      "Ousted Nissan Chairman Carlos Ghosn has said his arrest over alleged financial misconduct was led by \"plot and treason\" by the Japanese carmaker's executives who opposed its deeper integration with Renault and Mitsubishi. Ghosn added he had discussed the integration plans with Nissan's CEO in September, a month before his arrest. He further said he wouldn't flee if granted bail.\n",
      "original headline:\n",
      "Plot, treason by Nissan executives led to my arrest: Ghosn\n",
      "predicted summary:\n",
      "Ousted Nissan Chairman Carlos Ghosn has said his arrest over alleged financial misconduct was led by \"plot and treason\" by the Japanese carmaker's executives who opposed its deeper integration with Renault and Mitsubishi.\n",
      "-----------------------------\n",
      "original text:\n",
      "The government has cut down customs duty on import of parts and components for electric vehicles to 10-15%, down from the previous 15-30%. The Central Board of Indirect Taxes and Customs said disassembled parts will attract 10% duty, whereas 15% will be levied on pre-assembled packs. However, fully built electric vehicles will continue to attract 25% import duty.\n",
      "original headline:\n",
      "Govt cuts customs duty on electric vehicle parts to 10-15%\n",
      "predicted summary:\n",
      "The government has cut down customs duty on import of parts and components for electric vehicles to 10-15%, down from the previous 15-30%.\n",
      "-----------------------------\n",
      "original text:\n",
      "Government officials on Wednesday said that a swine flu outbreak has killed 76 people this year in Rajasthan. Colder weather has worsened the seasonal outbreak of the H1N1 virus in the country, officials added. Rajasthan recorded more than a third of all swine flu deaths in India with Jodhpur being the worst affected area in the state, officials said.\n",
      "original headline:\n",
      "Swine flu outbreak kills 76 in Rajasthan\n",
      "predicted summary:\n",
      "Government officials on Wednesday said that a swine flu outbreak has killed 76 people this year in Rajasthan.\n",
      "-----------------------------\n",
      "original text:\n",
      "North Korea is \"unlikely to completely give up its nuclear weapons and production capabilities\", Director of US' National Intelligence, Daniel Coats, said. \"North Korean leaders view nuclear arms as critical to regime survival,\" he added. His statements come despite North Korea's agreement with the US at the Singapore summit last year to denuclearise the Korean Peninsula. \n",
      "original headline:\n",
      "N Korea unlikely to give up nuclear weapons: US intelligence chief\n",
      "predicted summary:\n",
      "\"North Korean leaders view nuclear arms as critical to regime survival,\" he added.\n",
      "-----------------------------\n",
      "original text:\n",
      "Jet Airways on Wednesday denied it was directed by GE Capital Aviation Services to ground its aircraft due to non-payment of dues. The airline said it's in the process of delivering three aircraft to lessors due to the expiry of lease terms. Further, three aircraft have been temporarily grounded to carry out an engine normalisation exercise, it added.\n",
      "original headline:\n",
      "Jet Airways denies being told to ground aircraft\n",
      "predicted summary:\n",
      "Further, three aircraft have been temporarily grounded to carry out an engine normalisation exercise, it added.\n",
      "-----------------------------\n",
      "original text:\n",
      "Retired Justice Srikrishna's enquiry panel has found that ex-CEO Chanda Kochhar violated ICICI Bank's code of conduct. The bank said it'll treat Kochhar's exit as termination and will take back all bonuses paid to her from April 2009 until March 2018. The CBI recently filed a case against Kochhar, her husband, and Videocon MD in the ICICI-Videocon loan case.\n",
      "original headline:\n",
      "ICICI fires Chanda Kochhar, to take back bonuses paid in last 9 yrs\n",
      "predicted summary:\n",
      "Retired Justice Srikrishna's enquiry panel has found that ex-CEO Chanda Kochhar violated ICICI Bank's code of conduct.\n",
      "-----------------------------\n",
      "original text:\n",
      "Ex-India cricketer Jacob Martin has been shifted to general ward from the ICU after being on a ventilator for nearly a month following a road accident, wherein he severely injured his lungs. Martin's wife Khyati mentioned there are chances that Jacob will be in hospital for two more months. BCCI, CSK and various cricketers provided financial assistance for Martin's treatment.\n",
      "original headline:\n",
      "Ex-cricketer Martin out of ICU after being on ventilator for a month\n",
      "predicted summary:\n",
      "Ex-India cricketer Jacob Martin has been shifted to general ward from the ICU after being on a ventilator for nearly a month following a road accident, wherein he severely injured his lungs.\n",
      "-----------------------------\n",
      "original text:\n",
      "Sri Lanka all-rounder Thisara Perera has written to Sri Lanka Cricket CEO Ashley de Silva, asking the board to intervene after ODI captain Lasith Malinga's wife Tanya targeted him on Facebook. Tanya accused Perera of meeting country's Sports Minister to secure his place in the team. \"We've become laughing stock of whole country...because of one person's personal vendetta,\" Perera wrote.\n",
      "original headline:\n",
      "Malinga's wife targets Perera on Facebook, he seeks board's help\n",
      "predicted summary:\n",
      "Tanya accused Perera of meeting country's Sports Minister to secure his place in the team.\n",
      "-----------------------------\n",
      "original text:\n",
      "Goa CM and ex-Defence Minister Manohar Parrikar has written a letter to Congress President Rahul Gandhi over his claim that Parrikar told him he has nothing to do with new Rafale deal. Parrikar wrote, \"Kindly do not use your visit to an ailing person to feed political opportunism.\" In their five-minute meeting, they didn't discuss anything about Rafale, he added.\n",
      "original headline:\n",
      "Don't use visit to ailing man for political gains: Goa CM to Rahul\n",
      "predicted summary:\n",
      "Goa CM and ex-Defence Minister Manohar Parrikar has written a letter to Congress President Rahul Gandhi over his claim that Parrikar told him he has nothing to do with new Rafale deal.\n",
      "-----------------------------\n",
      "original text:\n",
      "Prime Minister Narendra Modi stopped his speech at the inauguration of the new terminal building at Surat airport after observing that a cameraman had fainted. PM Modi then asked his officers to urgently arrange for an ambulance for the cameraman. \"It's good that PM was paying attention to his surroundings during his speech,\" the cameraman later said from a hospital. \n",
      "original headline:\n",
      "PM Modi stops speech after cameraman faints, asks officers to help\n",
      "predicted summary:\n",
      "PM Modi then asked his officers to urgently arrange for an ambulance for the cameraman.\n",
      "-----------------------------\n",
      "original text:\n",
      "A couple got divorced minutes after their wedding ceremony got over in Gujarat's Gondal as a disagreement broke out and relatives from both sides started throwing dishes at each other during lunch. The advocates representing both sides arrived at the marriage hall and got the couple divorced within minutes. The couple even reportedly returned the gifts exchanged during the ceremony.\n",
      "original headline:\n",
      "Couple divorces minutes after marriage as families fight over lunch\n",
      "predicted summary:\n",
      "A couple got divorced minutes after their wedding ceremony got over in Gujarat's Gondal as a disagreement broke out and relatives from both sides started throwing dishes at each other during lunch.\n",
      "-----------------------------\n",
      "original text:\n",
      "Gujarat Education Minister Bhupendrasinh Chudasma has written a congratulatory message to a yoga ashram run by rape-convict Asaram's organisation for observing February 14 as \"Matru-Pitru Pujan Divas\" (Mother-Father worship day). After the Congress termed the letter as \"unfortunate\", saying it \"shows the nexus between BJP and godman\", Chudasma clarified, \"All I have done is sent best wishes.\" \n",
      "original headline:\n",
      "Minister praises rape-convict Asaram over Matru-Pitru Divas\n",
      "predicted summary:\n",
      "Gujarat Education Minister Bhupendrasinh Chudasma has written a congratulatory message to a yoga ashram run by rape-convict Asaram's organisation for observing February 14 as \"Matru-Pitru Pujan Divas\" (Mother-Father worship day).\n",
      "-----------------------------\n",
      "original text:\n",
      "Venezuelan President NicolÃÂ¡s Maduro has claimed that his American counterpart Donald Trump ordered the Colombian government and the Colombian mafia to kill him. \"If something happens to me, Trump and Colombian President IvÃÂ¡n MÃÂ¡rquez will bear responsibility,\" he added. The US has blamed Maduro for the economic crisis in Venezuela and recognised opposition leader Juan GuaidÃÂ³ as interim President.\n",
      "original headline:\n",
      "Trump ordered to kill me: Venezuela President Maduro\n",
      "predicted summary:\n",
      "Venezuelan President NicolÃÂ¡s Maduro has claimed that his American counterpart Donald Trump ordered the Colombian government and the Colombian mafia to kill him.\n",
      "-----------------------------\n",
      "original text:\n",
      "Eight Asian billionaires aged 90 or above on the Bloomberg Billionaires Index of world's 500 richest people have a combined net worth of $125 billion. The richest among them is Hong Kong's Li Ka Shing with a net worth of $30.5 billion. India's 90-year-old Pallonji Mistry, who controls 18.3% of Tata Sons through Shapoorji Pallonji Group, is worth $20.1 billion.\n",
      "original headline:\n",
      "8 Asian billionaires aged over 90, including Mistry, control $125bn\n",
      "predicted summary:\n",
      "The richest among them is Hong Kong's Li Ka Shing with a net worth of $30.5 billion.\n",
      "-----------------------------\n",
      "original text:\n",
      "Tamil Nadu food safety officials on Wednesday raided and seized 1,000 kgs of banned plastic items from Hotel Saravana Bhavan in Chennai's Vadapalani. Officials began a surprise check in the branch at 8 am. The state government had banned single-use plastics from January 1 and said the banned items should be handed over at the offices of the city corporation.\n",
      "original headline:\n",
      "1,000 kg banned plastic seized from Saravana Bhavan in Chennai\n",
      "predicted summary:\n",
      "Tamil Nadu food safety officials on Wednesday raided and seized 1,000 kgs of banned plastic items from Hotel Saravana Bhavan in Chennai's Vadapalani.\n",
      "-----------------------------\n",
      "original text:\n",
      "Actress Shamita Shetty was verbally abused and her driver was slapped in an incident of road rage in Mumbai on Tuesday, as per reports. The incident reportedly took place after a motorist who was accompanied by two friends, rammed his vehicle into Shamita's car. The men allegedly manhandled and threatened Shamita's driver when he stepped out to inspect the damage. \n",
      "original headline:\n",
      "Shamita Shetty abused, driver slapped after accident: Report\n",
      "predicted summary:\n",
      "Actress Shamita Shetty was verbally abused and her driver was slapped in an incident of road rage in Mumbai on Tuesday, as per reports.\n",
      "-----------------------------\n",
      "original text:\n",
      "Actress Vaani Kapoor said that trolling has become a norm on social media, adding, \"There's no one who hasn't got trolled on social media.\" \"Everybody is out there to pull the other person down but it'll only bother [you] if you let it bother you,\" Vaani added. She further said, social media offers a platform \"where people enjoy belittling everybody\". \n",
      "original headline:\n",
      "Trolling has become the norm on social media: Vaani\n",
      "predicted summary:\n",
      "Actress Vaani Kapoor said that trolling has become a norm on social media, adding, \"There's no one who hasn't got trolled on social media.\" \"Everybody is out there to pull the other person down but it'll only bother [you] if you let it bother you,\" Vaani added.\n",
      "-----------------------------\n",
      "original text:\n",
      "Actress Sushmita Sen took to Instagram to share a joke on the subject of marriage. \"Whoever invented marriage was creepy as hell. Like I love you so much IÃ¢ÂÂm gonna get the government involved so you canÃ¢ÂÂt leave,\" Sushmita's post read. \"This is an insult to [the] beauty of marriage,\" an Instagram user commented on her post.\n",
      "original headline:\n",
      "Whoever invented marriage was creepy as hell: Sushmita posts joke\n",
      "predicted summary:\n",
      "Actress Sushmita Sen took to Instagram to share a joke on the subject of marriage.\n",
      "\"This is an insult to [the] beauty of marriage,\" an Instagram user commented on her post.\n",
      "-----------------------------\n",
      "original text:\n",
      "Television actor Karanvir Bohra, who flew to Russia on Tuesday to attend a film festival, has been detained in Moscow due to passport damage. \"They [are] contemplating to deport me back to India,\" the actor wrote on Twitter. The Indian embassy in Russia's capital responded to his tweet and said that they were looking into the issue. \n",
      "original headline:\n",
      "Actor Karanvir Bohra detained in Russia over passport damage\n",
      "predicted summary:\n",
      "Television actor Karanvir Bohra, who flew to Russia on Tuesday to attend a film festival, has been detained in Moscow due to passport damage.\n",
      "-----------------------------\n",
      "original text:\n",
      "While speaking about winning awards for his films, Shah Rukh Khan said, \"If I don't get an award, that award is at a loss.\" \"Sometimes, the prestige of an award increases when I receive it,\" the actor jokingly added. Shah Rukh further said that he was \"extremely ambitious\" but in a \"fair manner\". \n",
      "original headline:\n",
      "If I don't get an award, that award is at loss: SRK\n",
      "predicted summary:\n",
      "While speaking about winning awards for his films, Shah Rukh Khan said, \"If I don't get an award, that award is at a loss.\" \"Sometimes, the prestige of an award increases when I receive it,\" the actor jokingly added.\n",
      "-----------------------------\n",
      "original text:\n",
      "Actress Patralekhaa will make her debut in the Kannada film industry with the action-comedy film 'Where is my Kannadaka?' \"I can definitely say that itÃ¢ÂÂs a kind of role that I havenÃ¢ÂÂt portrayed on screen so far and that makes it special for me,\" the actress said in a statement. Shooting for the film will reportedly begin in April.\n",
      "original headline:\n",
      "Actress Patralekhaa to make her Kannada film debut \n",
      "predicted summary:\n",
      "Actress Patralekhaa will make her debut in the Kannada film industry with the action-comedy film 'Where is my Kannadaka?' \"I can definitely say that itÃ¢ÂÂs a kind of role that I havenÃ¢ÂÂt portrayed on screen so far and that makes it special for me,\" the actress said in a statement.\n",
      "-----------------------------\n",
      "original text:\n",
      "Gmail on Tuesday faced a global outage, which also affected India, wherein certain users complained they faced a '404 error' message while trying to sign-in to their accounts. The error message read: \"The requested URL was not found on this server. That's all we know.\" Google responded saying \"problem with Gmail should be resolved (now). We apologise for the inconvenience\".\n",
      "original headline:\n",
      "Gmail faces temporary global outage, users face '404 error'\n",
      "predicted summary:\n",
      "Gmail on Tuesday faced a global outage, which also affected India, wherein certain users complained they faced a '404 error' message while trying to sign-in to their accounts.\n",
      "The error message read: \"The requested URL was not found on this server.\n",
      "-----------------------------\n",
      "original text:\n",
      "Shiv Sena chief Uddhav Thackeray has asked the BJP to decide about the alliance with the Sena within 15 days and said the BJP should make a concrete proposal on the alliance. Thackeray added that only if the BJP agrees to Sena's terms and conditions, the party will agree for an alliance. Sena is free to fight independently, he said. \n",
      "original headline:\n",
      "Decide about an alliance within 15 days: Uddhav to BJP\n",
      "predicted summary:\n",
      "Shiv Sena chief Uddhav Thackeray has asked the BJP to decide about the alliance with the Sena within 15 days and said the BJP should make a concrete proposal on the alliance.\n",
      "-----------------------------\n",
      "original text:\n",
      "BJP President Amit Shah on Wednesday took a dig at the Opposition's proposed grand alliance saying if the \"mahagathbandhan comes to power, each opposition leader will be a Prime Minister every day of the week\". He added, \"[The] country will go on...holiday on Sunday\". He said the Opposition is thinking about leading the country but does not have a leader.\n",
      "original headline:\n",
      "Grand alliance, if wins, will see a new PM every day: Shah\n",
      "predicted summary:\n",
      "He said the Opposition is thinking about leading the country but does not have a leader.\n",
      "-----------------------------\n",
      "original text:\n",
      "Prime Minister Narendra Modi on Wednesday said his government's demonetisation decision made houses affordable for the aspiring youth. He added decisions like demonetisation and RERA have put a check on black money that used to be \"parked in the real estate sector\". He said 'UDAN' (Ude Desh ka Aam Nagrik) scheme has boosted the development of the country's aviation sector.\n",
      "original headline:\n",
      "Demonetisation made homes affordable for youth: PM Modi\n",
      "predicted summary:\n",
      "He added decisions like demonetisation and RERA have put a check on black money that used to be \"parked in the real estate sector\".\n",
      "-----------------------------\n"
     ]
    }
   ],
   "source": [
    "import requests\n",
    "from summa.summarizer import summarize\n",
    "for i in range(50, 100):\n",
    "    print('original text:')\n",
    "    print(txt[i])\n",
    "    print('original headline:')\n",
    "    print(heads[i])\n",
    "    print('predicted summary:')\n",
    "    print(summarize(txt[i], ratio=0.5))\n",
    "    print('-----------------------------')\n",
    "  "
   ]
  },
  {
   "cell_type": "markdown",
   "metadata": {},
   "source": [
    "추출적 요약은 핵심단어가 들어가있지만, 반복되어 있거나, 문법적인 오류가 있으며\n",
    "추상적 요약은 ratio에 따라 아예 생성되지 않는 경우도 존재하며, 문법적인 오류가 여전히 있다. ratio에 따라 원문에서 발췌되는 정도가 결정되기 때문에 핵심단어의 여부도 ratio에 따라 달라진다."
   ]
  }
 ],
 "metadata": {
  "kernelspec": {
   "display_name": "aiffel",
   "language": "python",
   "name": "aiffel"
  },
  "language_info": {
   "codemirror_mode": {
    "name": "ipython",
    "version": 3
   },
   "file_extension": ".py",
   "mimetype": "text/x-python",
   "name": "python",
   "nbconvert_exporter": "python",
   "pygments_lexer": "ipython3",
   "version": "3.7.9"
  }
 },
 "nbformat": 4,
 "nbformat_minor": 4
}
