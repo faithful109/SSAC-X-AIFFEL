{
 "cells": [
  {
   "cell_type": "markdown",
   "metadata": {},
   "source": [
    "# 트랜스포머로 만드는 대화형 챗봇"
   ]
  },
  {
   "cell_type": "markdown",
   "metadata": {},
   "source": [
    "## 15-1. 들어가며\n",
    "### 대화형 챗봇이란?\n",
    "챗봇의 5가지 유형\n",
    "1. 대화형 챗봇\n",
    "    * 자연어처리(인공지능)를 기반으로 자연스러운 대화가능\n",
    "    * 질문을 분석하여 답변을 주는 프로세스\n",
    "    * 엄청난 비정형 데이터 확보 필요, 구축난이도가 높고, 시간이 많이 필요.\n",
    "    * 결론: 비용(매우 높음), 전문성(매우 높음), 시간(매우 높음)\n",
    "2. 트리형 챗봇\n",
    "    * 정해진 트리구조를 따라 답변을 얻는 형태\n",
    "    * 최종답변의 경우의 수가 정해져 있음\n",
    "    * 챗봇 1세대에 주로 쓴 방식이며 고객 피드백에 따라 경우의 수 추가\n",
    "    * 결론: 비용(매우 낮음), 전문성(낮음), 시간(보통)\n",
    "3. 추천형 챗봇\n",
    "    * 표면적으로는 대화지만, 답변 제공방식이 대화형과 다르다.\n",
    "    * 인공지능 기반일 수도 있고, 아닐 수도 있다.\n",
    "    * 사전에 정의된 답변 리스트를 알고리즘 우선순위에 따라 보여준다.(리스트로도 보여줄 수 있다)\n",
    "    * 리스트가 1면 대화형과 다를게 없지만, 추천 답변을 리스트로 보여주면 고객이 선택을 해야 하지만, 원하는 답변을 얻을 확률이 높다.\n",
    "    * 대화형 챗봇으로 가기 위한 중간과정\n",
    "    * 결론: 비용(보통), 전문성(보통), 시간(많음)\n",
    "4. 시나리오형 챗봇\n",
    "    * 원하는 서비스나 아웃풋을 제공하기 위해 정해진 시나리오 수행.(로그인 과정, 아이디->유효성->비번->유효성)\n",
    "    * 최종결과를 출력하기 위해서 고객에게 받아야할 인풋을 순서대로 받아낸다.\n",
    "    * 제공해야 할 결과물이 정해져 있을 때 사용하며 투자대비 가장 효과가 좋다고 알려짐\n",
    "    * 결론: 비용(보통), 전문성(보통), 시간(보통)\n",
    "5. 결합형 챗봇\n",
    "    * 위의 챗봇을 결합하여 설계.\n",
    "    * 고객이 챗봇에서 모든 서비스를 완료하는 것이 최종 목적\n",
    "\n",
    "### 챗봇과 딥러닝  \n",
    "앨런 듀닝의 인공지능 정의가 챗봇의 시발점이라고 불리운다.  \n",
    "2011년 애플의 시리를 시작으로 챗봇의 가능성에 대해 많은 사람들이 관심을 갖게 되고 대기업에서 여러가지 챗봇을 개발.  \n",
    "챗봇이 실제로는 자신들이 말하는 것조차 해석하지 못함을 깨닫고 사람들의 관심에서 멀어짐.  \n",
    "2017년에 개선된 모델을 통해 챗봇의 성능이 많이 향상.\n",
    "좋은 성능을 발휘하는 BERT, ALBERT 모두 transformer를 통해 pretrain을 적용.  \n",
    "이전의 LSTM(RNN), seq2seq에 비해서 병렬처리 속도가 뛰어나고, 장기의존성에 강한 특징으로 긴 길이의 문장처리에도 좋은 모습을 보여줬다.  \n",
    "따라서 transformer 기반으로 인코더-디코더 구조의 챗봇을 만들것.  \n",
    "ex)영어->한국어 번역(영어문장을 인코더가 벡터로, 이 벡터를 디코더가 한국문장으로)  \n",
    "좋은 성능을 내기 위해서는 pretrained model을 활용할 필요가 있으나 우리는 구조만 알아보는 정도에 그친다.  \n",
    "\n",
    "### 학습목표\n",
    "----------------------------------------------------------------------------------------------------------\n",
    "1. 트랜스포머의 인코더 디코더 구조 이해하기\n",
    "2. 내부 단어 토크나이저 사용하기\n",
    "3. 셀프 어텐션 이해하기\n",
    "4. 한국어에도 적용해보기  \n",
    "\n",
    "### 준비물\n",
    "-----------------------------------------------------------------------------------------------------------\n",
    "```\n",
    "$ mkdir -p ~/aiffel/songys_chatbot  \n",
    "```\n"
   ]
  },
  {
   "cell_type": "markdown",
   "metadata": {},
   "source": [
    "## 15-2. 트랜스포머와 인코더 \n",
    "### 인코더와 디코더 구조 되짚어보기\n",
    "-----------------------------------------------------------------------------------------------------------\n",
    "인코더에 입력문장이 들어가고, 디코더에서 이에 대응하는 출력문장 생성.  \n",
    "이를 훈련한다는 것은 (입력문장, 출력문장) 병렬구조로 구성된 데이터셋을 훈련  \n",
    "이런 방식은 번역기뿐 만 아니라 질문에 대한 답변에도 사용한다.\n",
    "\n",
    "### 트랜스포머의 인코더와 디코더\n",
    "-----------------------------------------------------------------------------------------------------------\n",
    "    트랜스포머도 번역기와 같이 인코더, 디코더로 구성.  \n",
    "입력 문장의 정보를 누적되어 있는 인코더에서, 출력문장의 단어를 누적되어 있는 디코더를 통해서 하나씩 만들어 나간다.\n",
    "<img src=\"인코더,디코더.png\" align=\"left\">\n",
    "<img src=\"transformer.png\" align= \"left\">"
   ]
  },
  {
   "cell_type": "markdown",
   "metadata": {},
   "source": [
    "## 15-3. 트랜스포머의 입력 이해하기"
   ]
  },
  {
   "cell_type": "markdown",
   "metadata": {},
   "source": [
    "```\n",
    "conda install -c powerai tensorflow-datasets\n",
    "```"
   ]
  },
  {
   "cell_type": "code",
   "execution_count": 1,
   "metadata": {},
   "outputs": [
    {
     "name": "stdout",
     "output_type": "stream",
     "text": [
      "슝=3\n"
     ]
    }
   ],
   "source": [
    "#패키지 임포트\n",
    "import tensorflow as tf\n",
    "import tensorflow_datasets as tfds\n",
    "import os\n",
    "import re\n",
    "import numpy as np\n",
    "import matplotlib.pyplot as plt\n",
    "print(\"슝=3\")"
   ]
  },
  {
   "cell_type": "markdown",
   "metadata": {},
   "source": [
    "많은 자연어 처리 모델은 단어를 임베딩 벡터로 변환.  \n",
    "트랜스포머와 다른 RNN모델과 다른 것은 임베딩벡터에 어떤 값을 더해서 입력으로 사용.  \n",
    "그 값이 포지셔널 인코딩(positional Encoding)  \n",
    "\n",
    "<img src=\"positional_encoding.png\" align=\"left\">\n",
    "<img src=\"positional_encoding1.png\" align=\"left\">  \n",
    "  "
   ]
  },
  {
   "cell_type": "markdown",
   "metadata": {},
   "source": [
    "RNN은 어순대로 모델에 입력되어 어순정보를 따로 줄 필요가 없었으나,  \n",
    "트랜스포머는 한꺼번에 문장의 모든 단어를 문장단위로 입력받기에 어순정보를 따로 넣어줘야 한다.  \n",
    "그래서 위치정보를 가진 벡터를 더해서 모델에 입력한다.  \n",
    "<img src=\"positional_expression.png\" align=\"left\">  \n",
    "  \n",
    "  \n"
   ]
  },
  {
   "cell_type": "markdown",
   "metadata": {},
   "source": [
    "위의 함수에서 pos, i, dmodeli는 아래 그림에서 확인할 수 있다.  \n",
    "dmodeli는 임베딩 벡터의 차원을 의미.  \n",
    "pos는 입력 문장에서의 임베딩 벡터의 위치를 나타내며 i는 임베팅 벡터내의 차원 인덱스의미.  \n",
    "\n",
    "<img src=\"positional_variable.png\" align=\"left\">"
   ]
  },
  {
   "cell_type": "code",
   "execution_count": 2,
   "metadata": {},
   "outputs": [
    {
     "name": "stdout",
     "output_type": "stream",
     "text": [
      "슝=3\n"
     ]
    }
   ],
   "source": [
    "# 포지셔널 인코딩 레이어\n",
    "class PositionalEncoding(tf.keras.layers.Layer):\n",
    "\n",
    "  def __init__(self, position, d_model):\n",
    "    super(PositionalEncoding, self).__init__()\n",
    "    self.pos_encoding = self.positional_encoding(position, d_model)\n",
    "\n",
    "  def get_angles(self, position, i, d_model):\n",
    "    angles = 1 / tf.pow(10000, (2 * (i // 2)) / tf.cast(d_model, tf.float32))\n",
    "    return position * angles\n",
    "\n",
    "  def positional_encoding(self, position, d_model):\n",
    "    angle_rads = self.get_angles(\n",
    "        position=tf.range(position, dtype=tf.float32)[:, tf.newaxis],\n",
    "        i=tf.range(d_model, dtype=tf.float32)[tf.newaxis, :],\n",
    "        d_model=d_model)\n",
    "    # 배열의 짝수 인덱스에는 sin 함수 적용\n",
    "    sines = tf.math.sin(angle_rads[:, 0::2])\n",
    "    # 배열의 홀수 인덱스에는 cosine 함수 적용\n",
    "    cosines = tf.math.cos(angle_rads[:, 1::2])\n",
    "\n",
    "    pos_encoding = tf.concat([sines, cosines], axis=-1)\n",
    "    pos_encoding = pos_encoding[tf.newaxis, ...]\n",
    "    return tf.cast(pos_encoding, tf.float32)\n",
    "\n",
    "  def call(self, inputs):\n",
    "    return inputs + self.pos_encoding[:, :tf.shape(inputs)[1], :]\n",
    "print(\"슝=3\")"
   ]
  },
  {
   "cell_type": "code",
   "execution_count": 3,
   "metadata": {},
   "outputs": [
    {
     "data": {
      "image/png": "[encoded data removed]",
      "text/plain": [
       "<Figure size 432x288 with 2 Axes>"
      ]
     },
     "metadata": {
      "needs_background": "light"
     },
     "output_type": "display_data"
    }
   ],
   "source": [
    "#행(문장)의 크기가 50, 열(워드 임베딩 차원)의 크기가 512인 행령.\n",
    "sample_pos_encoding = PositionalEncoding(50, 512)\n",
    "\n",
    "plt.pcolormesh(sample_pos_encoding.pos_encoding.numpy()[0], cmap='RdBu')\n",
    "plt.xlabel('Depth')\n",
    "plt.xlim((0, 512))\n",
    "plt.ylabel('Position')\n",
    "plt.colorbar()\n",
    "plt.show()"
   ]
  },
  {
   "cell_type": "markdown",
   "metadata": {},
   "source": [
    "## 15.4 어텐션? 어텐션!\n",
    "### 어텐션이란?\n",
    "-----------------------------------------------------------------------------------------------------------\n",
    "그림 상으로 딕셔너리 구조인 것으로 보인다.  \n",
    "주어진 쿼리(query)와 각 키(key)의 유사도를 각 값(value)에 맵핑.  \n",
    "이 값들을 모두 더한 것을 어텐션 값이라고 한다.  \n",
    "<img src=\"attention.png\" align=\"left\">  "
   ]
  },
  {
   "cell_type": "markdown",
   "metadata": {},
   "source": [
    "### 트랜스포머에서 사용된 어텐션  \n",
    "-----------------------------------------------------------------------------------------------------------\n",
    "트랜스포머는 3가지 어텐션 사용.  \n",
    "1. 인코더 셀프 어텐션(인코더)\n",
    "2. 디코더 셀프 어텐션(디코더)\n",
    "3. 인코더-디코더 어텐션(디코더)  \n",
    "\n",
    "<img src=\"transformer_attention.png\" align=\"left\">"
   ]
  },
  {
   "cell_type": "markdown",
   "metadata": {},
   "source": [
    "어텐션에서 사용되는 쿼리(Query), 키(Key), 밸류(Value)는 기본적으로 단어 (정보를 함축한) 벡터\n",
    "\n",
    "주의할 점은 단어 벡터는 초기 입력으로 사용되었던 임베딩 벡터가 아니고, **트랜스포머의 여러 연산을 거친 후의 단어 벡터**\n",
    "\n",
    "각 어텐션의 기능.  \n",
    "\n",
    "인코더 셀프 어텐션 : 인코더의 입력으로 들어간 문장 내 단어들이 서로 유사도를 구한다.  \n",
    "디코더 셀프 어텐션 : 단어를 1개씩 생성하는 디코더가 이미 생성된 앞 단어들과의 유사도를 구한다.  \n",
    "인코더-디코더 어텐션 : 디코더가 잘! 예측하기 위해서 인코더에 입력된 단어들과 유사도를 구한다.\n",
    "\n",
    "3개중 2가지가 셀프 어텐션인데, 셀프 어텐션이 왜 2개나 들어가는지를 알아보자."
   ]
  },
  {
   "cell_type": "markdown",
   "metadata": {},
   "source": [
    "### 셀프 어텐션(Self Attention)\n",
    "----------------------------------------------------------------------------------------------------------\n",
    "셀프 어텐션은 유사도를 측정하는 대상이 다른 문장의 단어가 아니라 현재 문장 내의 단어들끼리 서로 유사도를 구하는 방식.  \n",
    "인코더-디코더 어텐션은 서로 다른 단어에서 유사도를 구한다.\n",
    "셀프 어텐션이 사용된 예시  \n",
    "한 문장에 animal과 it이 같이 있으면 셀프 어텐션을 통해서 it이 동물임을 알 수 있다."
   ]
  },
  {
   "cell_type": "markdown",
   "metadata": {},
   "source": [
    "## 15-5. 스케일드 닷 프로덕트 어텐션  \n",
    "어텐션을 구하는 수식은 아래와 같다.  \n",
    "<img src=\"scaled_dot_production.png\">  \n",
    "  \n",
    "Q, K, V는 쿼리(Query), 키(Key), 값(Value)를 나타냄.  \n",
    "어텐션 함수는 주어진 쿼리에 대해서 모든 키와의 유사도를 구한다.  \n",
    "구한 유사도를 키와 맵핑된 값에 반영.  \n",
    "유사도가 반영된 값을 모두 더하면 어텐션값이라고 한다.\n",
    "\n",
    "  1. Q, K, V는 단어 벡터를 행으로 하는 문장행렬.  \n",
    "  2. 벡터의 내적(dot product)는 벡터의 유사도를 의미.\n",
    "  3. 특정 값을 분모로 사용하는 것은 값의 크기를 조절하는 스케일링을 위함.  \n",
    "\n",
    "문장행렬Q와 문장행렬K의 곱하면 다음의 초록색 행렬과 같다.\n",
    "<img src=\"QKV.png\">  \n",
    "예시로 'I'행과 'Student'열의 값은 Q의 'I' 벡터와 K의 'Student' 벡터의 내적값 의미.  \n",
    "모든 단어 벡터의 유사도가 기록됨.  \n",
    "유사도행렬을 스케일링해주기 위해서 특정값으로 나누고, 유사도를 0~1로 Normalize해주기 위해서 소프트맥스 함수 사용.  \n",
    "여기서 문장행렬 V와 곱하면 Attention 값을 얻습니다.\n",
    "<img src=\"AttentionValue.png\">  \n",
    "내적을 통해 단어 벡터간 유사도를 구하고 특정값을 분모로 나눠줘서 스케일드 닷 프로덕트 어텐션이라고 칭함.  \n",
    "특정값으로 안 나눠주면 닷 프로덱트 어텐션이라고 부른다.  \n",
    "\n",
    "### 구현하기\n",
    "----------------------------------------------------------------------------------------------------------\n",
    "스케일드 닷 프로덕트 어텐션 함수를 구현해봅시다"
   ]
  },
  {
   "cell_type": "code",
   "execution_count": 4,
   "metadata": {},
   "outputs": [
    {
     "name": "stdout",
     "output_type": "stream",
     "text": [
      "슝=3\n"
     ]
    }
   ],
   "source": [
    "# 스케일드 닷 프로덕트 어텐션 함수\n",
    "def scaled_dot_product_attention(query, key, value, mask):\n",
    "  \"\"\"어텐션 가중치를 계산. \"\"\"\n",
    "  matmul_qk = tf.matmul(query, key, transpose_b=True)\n",
    "\n",
    "  # scale matmul_qk\n",
    "  depth = tf.cast(tf.shape(key)[-1], tf.float32)\n",
    "  logits = matmul_qk / tf.math.sqrt(depth)\n",
    "\n",
    "  # add the mask to zero out padding tokens\n",
    "  if mask is not None:\n",
    "    logits += (mask * -1e9)\n",
    "\n",
    "  # softmax is normalized on the last axis (seq_len_k)\n",
    "  attention_weights = tf.nn.softmax(logits, axis=-1)\n",
    "\n",
    "  output = tf.matmul(attention_weights, value)\n",
    "\n",
    "  return output\n",
    "print(\"슝=3\")"
   ]
  },
  {
   "cell_type": "markdown",
   "metadata": {},
   "source": [
    "## 15-6. 머리가 여러 개인 어텐션  \n",
    "히드라처럼 하나의 일에 여러개가 투입되면 좀더 좋지 않을까 싶다.\n",
    "\n",
    "### 병렬로 어텐션 수행하기\n",
    "-----------------------------------------------------------------------------------------------------------\n",
    "트랜스포머의 num_heads가 몇개의 어텐션연산을 병렬적으로 할지 결정하는 파라미터.  \n",
    "<img src=\"num_heads.png\">  \n",
    "포지셔널 인코딩에서 d_model이 임베딩벡터의 차원.  \n",
    "트랜스포머의 초기 입력인 문장행렬의 크기는 문장길이(행)X d_model(열)  \n",
    "트랜스포머는 이렇게 입력된 문장행렬을 num_heads으로 나눠 어텐션 수행.  \n",
    "다시 num_heads갯수만큼 어텐션값 행렬을 concatenate.  \n",
    "\n",
    "### 멀티-헤드 어텐션  \n",
    "-----------------------------------------------------------------------------------------------------------\n",
    "병렬 어텐션수행시 얻을 수 있는 효과는?  \n",
    "<img src=\"num_heads_attention.png\">  \n",
    "여러개의 머리가 각각 다른 관점으로 어텐션을 수행해 하나이면 놓칠 정보를 얻을 수 있다.  \n",
    "어텐션 병렬 수행을 멀티 헤드 어텐션이라고 한다.  \n",
    "\n",
    "### 구현하기\n",
    "-----------------------------------------------------------------------------------------------------------\n",
    "내부적으로 스케일드 닷 프로덕트 어텐션 함수 호출.\n"
   ]
  },
  {
   "cell_type": "code",
   "execution_count": 5,
   "metadata": {},
   "outputs": [
    {
     "name": "stdout",
     "output_type": "stream",
     "text": [
      "슝=3\n"
     ]
    }
   ],
   "source": [
    "class MultiHeadAttention(tf.keras.layers.Layer):\n",
    "\n",
    "  def __init__(self, d_model, num_heads, name=\"multi_head_attention\"):\n",
    "    super(MultiHeadAttention, self).__init__(name=name)\n",
    "    self.num_heads = num_heads\n",
    "    self.d_model = d_model\n",
    "\n",
    "    assert d_model % self.num_heads == 0\n",
    "\n",
    "    self.depth = d_model // self.num_heads\n",
    "\n",
    "    self.query_dense = tf.keras.layers.Dense(units=d_model)\n",
    "    self.key_dense = tf.keras.layers.Dense(units=d_model)\n",
    "    self.value_dense = tf.keras.layers.Dense(units=d_model)\n",
    "\n",
    "    self.dense = tf.keras.layers.Dense(units=d_model)\n",
    "\n",
    "  def split_heads(self, inputs, batch_size):\n",
    "    inputs = tf.reshape(\n",
    "        inputs, shape=(batch_size, -1, self.num_heads, self.depth))\n",
    "    return tf.transpose(inputs, perm=[0, 2, 1, 3])\n",
    "\n",
    "  def call(self, inputs):\n",
    "    query, key, value, mask = inputs['query'], inputs['key'], inputs[\n",
    "        'value'], inputs['mask']\n",
    "    batch_size = tf.shape(query)[0]\n",
    "\n",
    "    # linear layers\n",
    "    query = self.query_dense(query)\n",
    "    key = self.key_dense(key)\n",
    "    value = self.value_dense(value)\n",
    "\n",
    "    # 병렬 연산을 위한 머리를 여러 개 만듭니다.\n",
    "    query = self.split_heads(query, batch_size)\n",
    "    key = self.split_heads(key, batch_size)\n",
    "    value = self.split_heads(value, batch_size)\n",
    "\n",
    "    # 스케일드 닷 프로덕트 어텐션 함수\n",
    "    scaled_attention = scaled_dot_product_attention(query, key, value, mask)\n",
    "\n",
    "    scaled_attention = tf.transpose(scaled_attention, perm=[0, 2, 1, 3])\n",
    "\n",
    "    # 어텐션 연산 후에 각 결과를 다시 연결(concatenate)합니다.\n",
    "    concat_attention = tf.reshape(scaled_attention,\n",
    "                                  (batch_size, -1, self.d_model))\n",
    "\n",
    "    # final linear layer\n",
    "    outputs = self.dense(concat_attention)\n",
    "\n",
    "    return outputs\n",
    "print(\"슝=3\")"
   ]
  },
  {
   "cell_type": "markdown",
   "metadata": {},
   "source": [
    "## 15-7.마스킹\n",
    "특정값들을 가려서 실제 연산에 방해되지 않도록 하는 기법을 마스킹이라고 한다.  \n",
    "트랜스포머에서는 어텐션을 위해 2가지 마스킹 사용.  \n",
    "\n",
    "### 패딩 마스킹(Padding Masking)\n",
    "-----------------------------------------------------------------------------------------------------------\n",
    "자연어 처리의 패딩은 무엇일까?\n",
    "<img src=\"padding.png\">  \n",
    "문장의 길이가 다를때 정해진 길이보다 짧은 문장에 0을 넣어 길이를 맞추는 것. (앞에 넣는 것과 뒤에 넣는 것이 있는데, 앞에 넣는 것이 좋았던 것으로 기억한다)  \n",
    "keras의 pad_sequences()사용.  \n",
    "숫자 0은 의미가 없기에 숫자가 0인 위치를 따로 체크.  "
   ]
  },
  {
   "cell_type": "code",
   "execution_count": 6,
   "metadata": {},
   "outputs": [
    {
     "name": "stdout",
     "output_type": "stream",
     "text": [
      "슝=3\n"
     ]
    }
   ],
   "source": [
    "#정수 시퀀스를 입려갛면 숫자가 0인 부분을 체크한 벡터 리턴\n",
    "def create_padding_mask(x):\n",
    "  mask = tf.cast(tf.math.equal(x, 0), tf.float32)\n",
    "  # (batch_size, 1, 1, sequence length)\n",
    "  return mask[:, tf.newaxis, tf.newaxis, :]\n",
    "print(\"슝=3\")"
   ]
  },
  {
   "cell_type": "code",
   "execution_count": 7,
   "metadata": {},
   "outputs": [
    {
     "name": "stdout",
     "output_type": "stream",
     "text": [
      "tf.Tensor(\n",
      "[[[[0. 0. 1. 0. 1.]]]\n",
      "\n",
      "\n",
      " [[[1. 1. 1. 0. 0.]]]], shape=(2, 1, 1, 5), dtype=float32)\n"
     ]
    }
   ],
   "source": [
    "# 숫자가 0인 부분은 1이 나온다.\n",
    "print(create_padding_mask(tf.constant([[1, 2, 0, 3, 0], [0, 0, 0, 4, 5]])))"
   ]
  },
  {
   "cell_type": "markdown",
   "metadata": {},
   "source": [
    "### 룩 어헤드 마스킹(Look-ahead masking, 다음 단어 가리기)\n",
    "-----------------------------------------------------------------------------------------------------------\n",
    "RNN은 step이 있어서 단어가 순서대로 들어가지만 트랜스포머는 문장행렬로 한꺼번에 넣어서 마스킹이 필요.  \n",
    "<img src=\"RNN.png\">  \n",
    "RNN은 자신보다 앞에 있는 단어들만 참고해서 다음 단어 예측  \n",
    "  \n",
    "트랜스포머는 문장행렬을 입력하기에 위치와 상관없이 모든 단어를 참고해 다음단어 예측.  \n",
    "우리가 원하는 목표는 이전단어에서 다음 단어를 예측하는 것이기 때문에 자신보다 다음에 나오는 단어를 참고하면 훈련을 제대로 하는 것이 아니다. 자신보다 다음단어를 참고하지 않도록 가리는 기법이 룩 어헤드 마스킹 기법.  \n",
    "<img src=\"look_ahead_masking.png\">  \n",
    "빨간색이 마스킹을 표현.  \n",
    "행이 Query, 열이 Key임을 보고 살펴보자.  \n",
    "Query 단어가 '행복을'이면 그 행에서는 '찾고'부터 유사도를 구할 수 없게 해놨다.  \n",
    "빨간색 부분을 마스킹함수로 구현"
   ]
  },
  {
   "cell_type": "code",
   "execution_count": 8,
   "metadata": {},
   "outputs": [
    {
     "name": "stdout",
     "output_type": "stream",
     "text": [
      "슝=3\n"
     ]
    }
   ],
   "source": [
    "def create_look_ahead_mask(x):\n",
    "  seq_len = tf.shape(x)[1]\n",
    "  look_ahead_mask = 1 - tf.linalg.band_part(tf.ones((seq_len, seq_len)), -1, 0)\n",
    "  padding_mask = create_padding_mask(x)\n",
    "  return tf.maximum(look_ahead_mask, padding_mask)\n",
    "print(\"슝=3\")"
   ]
  },
  {
   "cell_type": "code",
   "execution_count": 9,
   "metadata": {},
   "outputs": [
    {
     "name": "stdout",
     "output_type": "stream",
     "text": [
      "tf.Tensor(\n",
      "[[[[0. 1. 1. 1. 1.]\n",
      "   [0. 0. 1. 1. 1.]\n",
      "   [0. 0. 0. 1. 1.]\n",
      "   [0. 0. 0. 0. 1.]\n",
      "   [0. 0. 0. 0. 0.]]]], shape=(1, 1, 5, 5), dtype=float32)\n"
     ]
    }
   ],
   "source": [
    "print(create_look_ahead_mask(tf.constant([[1, 2, 3, 4, 5]])))"
   ]
  },
  {
   "cell_type": "markdown",
   "metadata": {},
   "source": [
    "이 마스킹과 패딩마스킹은 별개이므로 이 마스킹 수행때 0인 단어가 있으면 이것도 패딩해야 해서 create_look_ahead_mask()에서 패딩마스크 함수도 호출"
   ]
  },
  {
   "cell_type": "code",
   "execution_count": 10,
   "metadata": {},
   "outputs": [
    {
     "name": "stdout",
     "output_type": "stream",
     "text": [
      "tf.Tensor(\n",
      "[[[[1. 1. 1. 1. 1.]\n",
      "   [1. 0. 1. 1. 1.]\n",
      "   [1. 0. 0. 1. 1.]\n",
      "   [1. 0. 0. 0. 1.]\n",
      "   [1. 0. 0. 0. 0.]]]], shape=(1, 1, 5, 5), dtype=float32)\n"
     ]
    }
   ],
   "source": [
    "print(create_look_ahead_mask(tf.constant([[0, 5, 1, 5, 5]])))"
   ]
  },
  {
   "cell_type": "markdown",
   "metadata": {},
   "source": [
    "## 15-8. 인코더\n",
    "트랜스포머의 인코더에 대해 알아보자.  \n",
    "\n",
    "### 인코더 층 만들기\n",
    "-----------------------------------------------------------------------------------------------------------\n",
    "<img src=\"encoder.png\">  \n",
    "인코더는 2개의 서브 층(sublayer)로 나뉘는데, 셀프 어텐션(멀티 헤드 어텐션)과 피드포워드 신경망이다.\n",
    "<img src=\"encoder_1.png\">"
   ]
  },
  {
   "cell_type": "code",
   "execution_count": 11,
   "metadata": {},
   "outputs": [
    {
     "name": "stdout",
     "output_type": "stream",
     "text": [
      "슝=3\n"
     ]
    }
   ],
   "source": [
    "# 인코더 하나의 레이어를 함수로 구현.\n",
    "# 이 하나의 레이어 안에는 두 개의 서브 레이어가 존재합니다.\n",
    "def encoder_layer(units, d_model, num_heads, dropout, name=\"encoder_layer\"):\n",
    "  inputs = tf.keras.Input(shape=(None, d_model), name=\"inputs\")\n",
    "\n",
    "\t# 패딩 마스크 사용\n",
    "  padding_mask = tf.keras.Input(shape=(1, 1, None), name=\"padding_mask\")\n",
    "\n",
    "  # 첫 번째 서브 레이어 : 멀티 헤드 어텐션 수행 (셀프 어텐션)\n",
    "  attention = MultiHeadAttention(\n",
    "      d_model, num_heads, name=\"attention\")({\n",
    "          'query': inputs,\n",
    "          'key': inputs,\n",
    "          'value': inputs,\n",
    "          'mask': padding_mask\n",
    "      })\n",
    "\n",
    "  # 어텐션의 결과는 Dropout과 Layer Normalization이라는 훈련을 돕는 테크닉을 수행\n",
    "  attention = tf.keras.layers.Dropout(rate=dropout)(attention)\n",
    "  attention = tf.keras.layers.LayerNormalization(\n",
    "      epsilon=1e-6)(inputs + attention)\n",
    "\n",
    "  # 두 번째 서브 레이어 : 2개의 완전연결층\n",
    "  outputs = tf.keras.layers.Dense(units=units, activation='relu')(attention)\n",
    "  outputs = tf.keras.layers.Dense(units=d_model)(outputs)\n",
    "\n",
    "  # 완전연결층의 결과는 Dropout과 LayerNormalization이라는 훈련을 돕는 테크닉을 수행\n",
    "  outputs = tf.keras.layers.Dropout(rate=dropout)(outputs)\n",
    "  outputs = tf.keras.layers.LayerNormalization(\n",
    "      epsilon=1e-6)(attention + outputs)\n",
    "\n",
    "  return tf.keras.Model(\n",
    "      inputs=[inputs, padding_mask], outputs=outputs, name=name)\n",
    "print(\"슝=3\")"
   ]
  },
  {
   "cell_type": "markdown",
   "metadata": {},
   "source": [
    "### 인코더 층을 쌓아 인코더 만들기\n",
    "-----------------------------------------------------------------------------------------------------------\n",
    "구현한 인코더 층을 임베딩 층(Embedding layer)와 포지셔널 인코딩(Positional Encoding)을 연결하고 원하는 만큼 인코더 층을 쌓아 트랜스포머의 인코더 완성  \n",
    "인코더, 디코더 내부에서 각 서브층 후에 훈련을 돕는 Layer Normalization을 사용.(위 그림에서 Normalize라 표현)  \n",
    "트랜스포머는 num_layers(하이퍼 파라미터)의 인코딩 층을 쌓는다. 실습에서는 논문보다 적게 쌓는다."
   ]
  },
  {
   "cell_type": "code",
   "execution_count": 12,
   "metadata": {},
   "outputs": [
    {
     "name": "stdout",
     "output_type": "stream",
     "text": [
      "슝=3\n"
     ]
    }
   ],
   "source": [
    "def encoder(vocab_size,\n",
    "            num_layers,\n",
    "            units,\n",
    "            d_model,\n",
    "            num_heads,\n",
    "            dropout,\n",
    "            name=\"encoder\"):\n",
    "  inputs = tf.keras.Input(shape=(None,), name=\"inputs\")\n",
    "\n",
    "\t# 패딩 마스크 사용\n",
    "  padding_mask = tf.keras.Input(shape=(1, 1, None), name=\"padding_mask\")\n",
    "\n",
    "  # 임베딩 레이어\n",
    "  embeddings = tf.keras.layers.Embedding(vocab_size, d_model)(inputs)\n",
    "  embeddings *= tf.math.sqrt(tf.cast(d_model, tf.float32))\n",
    "\n",
    "  # 포지셔널 인코딩\n",
    "  embeddings = PositionalEncoding(vocab_size, d_model)(embeddings)\n",
    "\n",
    "  outputs = tf.keras.layers.Dropout(rate=dropout)(embeddings)\n",
    "\n",
    "  # num_layers만큼 쌓아올린 인코더의 층.\n",
    "  for i in range(num_layers):\n",
    "    outputs = encoder_layer(\n",
    "        units=units,\n",
    "        d_model=d_model,\n",
    "        num_heads=num_heads,\n",
    "        dropout=dropout,\n",
    "        name=\"encoder_layer_{}\".format(i),\n",
    "    )([outputs, padding_mask])\n",
    "\n",
    "  return tf.keras.Model(\n",
    "      inputs=[inputs, padding_mask], outputs=outputs, name=name)\n",
    "print(\"슝=3\")"
   ]
  },
  {
   "cell_type": "markdown",
   "metadata": {},
   "source": [
    "## 15-9. 디코더\n",
    "인코더와 비슷하지만 좀더 복잠.  \n",
    "3개의 서브층으로 구성.  \n",
    "<img src=\"decoder.png\">  \n",
    "순서대로 셀프 어텐션, **인코더-디코더 어텐션(인코더에서 추가된 것)**, 피드 포워드 신경망.  \n",
    "인코더-디코더 어텐션은 셀프 어텐션과 달리, Query가 디코더의 벡터, Key, Value가 인코더의 벡터라는 특징.  \n",
    "인코더가 입력문장의 정보를 디코더에게 전달하는 과정.  \n",
    "<img src=\"decoder_1.png\">  \n",
    "셀프 어텐션, 인코더-디코더 어텐션은 모두 스케일드 닷 프로덕트 어텐션을 멀티 헤드 어텐션으로 병렬적으로 수행"
   ]
  },
  {
   "cell_type": "code",
   "execution_count": 13,
   "metadata": {},
   "outputs": [
    {
     "name": "stdout",
     "output_type": "stream",
     "text": [
      "슝=3\n"
     ]
    }
   ],
   "source": [
    "# 디코더 하나의 레이어를 함수로 구현.\n",
    "# 이 하나의 레이어 안에는 세 개의 서브 레이어가 존재합니다.\n",
    "def decoder_layer(units, d_model, num_heads, dropout, name=\"decoder_layer\"):\n",
    "  inputs = tf.keras.Input(shape=(None, d_model), name=\"inputs\")\n",
    "  enc_outputs = tf.keras.Input(shape=(None, d_model), name=\"encoder_outputs\")\n",
    "  look_ahead_mask = tf.keras.Input(\n",
    "      shape=(1, None, None), name=\"look_ahead_mask\")\n",
    "  padding_mask = tf.keras.Input(shape=(1, 1, None), name='padding_mask')\n",
    "\n",
    "  # 첫 번째 서브 레이어 : 멀티 헤드 어텐션 수행 (셀프 어텐션)\n",
    "  attention1 = MultiHeadAttention(\n",
    "      d_model, num_heads, name=\"attention_1\")(inputs={\n",
    "          'query': inputs,\n",
    "          'key': inputs,\n",
    "          'value': inputs,\n",
    "          'mask': look_ahead_mask\n",
    "      })\n",
    "\n",
    "  # 멀티 헤드 어텐션의 결과는 LayerNormalization이라는 훈련을 돕는 테크닉을 수행\n",
    "  attention1 = tf.keras.layers.LayerNormalization(\n",
    "      epsilon=1e-6)(attention1 + inputs)\n",
    "\n",
    "  # 두 번째 서브 레이어 : 마스크드 멀티 헤드 어텐션 수행 (인코더-디코더 어텐션)\n",
    "  attention2 = MultiHeadAttention(\n",
    "      d_model, num_heads, name=\"attention_2\")(inputs={\n",
    "          'query': attention1,\n",
    "          'key': enc_outputs,\n",
    "          'value': enc_outputs,\n",
    "          'mask': padding_mask\n",
    "      })\n",
    "\n",
    "  # 마스크드 멀티 헤드 어텐션의 결과는\n",
    "  # Dropout과 LayerNormalization이라는 훈련을 돕는 테크닉을 수행\n",
    "  attention2 = tf.keras.layers.Dropout(rate=dropout)(attention2)\n",
    "  attention2 = tf.keras.layers.LayerNormalization(\n",
    "      epsilon=1e-6)(attention2 + attention1)\n",
    "\n",
    "  # 세 번째 서브 레이어 : 2개의 완전연결층\n",
    "  outputs = tf.keras.layers.Dense(units=units, activation='relu')(attention2)\n",
    "  outputs = tf.keras.layers.Dense(units=d_model)(outputs)\n",
    "\n",
    "  # 완전연결층의 결과는 Dropout과 LayerNormalization 수행\n",
    "  outputs = tf.keras.layers.Dropout(rate=dropout)(outputs)\n",
    "  outputs = tf.keras.layers.LayerNormalization(\n",
    "      epsilon=1e-6)(outputs + attention2)\n",
    "\n",
    "  return tf.keras.Model(\n",
    "      inputs=[inputs, enc_outputs, look_ahead_mask, padding_mask],\n",
    "      outputs=outputs,\n",
    "      name=name)\n",
    "print(\"슝=3\")"
   ]
  },
  {
   "cell_type": "markdown",
   "metadata": {},
   "source": [
    "### 디코더 층을 쌓아 디코더 만들기\n",
    "-----------------------------------------------------------------------------------------------------------\n",
    "디코더의 층은 임베딩 층(Embedding layer)과 포지셔널 인코딩(Positional Encoding)을 연결.  \n",
    "원하는 만큼(num_layers) 디코더를 쌍하 디코더 완성.  \n",
    "디코더도 논문보다 적게 쌓아 실습함.  "
   ]
  },
  {
   "cell_type": "code",
   "execution_count": 14,
   "metadata": {},
   "outputs": [
    {
     "name": "stdout",
     "output_type": "stream",
     "text": [
      "슝=3\n"
     ]
    }
   ],
   "source": [
    "def decoder(vocab_size,\n",
    "            num_layers,\n",
    "            units,\n",
    "            d_model,\n",
    "            num_heads,\n",
    "            dropout,\n",
    "            name='decoder'):\n",
    "  inputs = tf.keras.Input(shape=(None,), name='inputs')\n",
    "  enc_outputs = tf.keras.Input(shape=(None, d_model), name='encoder_outputs')\n",
    "  look_ahead_mask = tf.keras.Input(\n",
    "      shape=(1, None, None), name='look_ahead_mask')\n",
    "\n",
    "\t# 패딩 마스크\n",
    "  padding_mask = tf.keras.Input(shape=(1, 1, None), name='padding_mask')\n",
    "  \n",
    "\t# 임베딩 레이어\n",
    "  embeddings = tf.keras.layers.Embedding(vocab_size, d_model)(inputs)\n",
    "  embeddings *= tf.math.sqrt(tf.cast(d_model, tf.float32))\n",
    "\n",
    "\t# 포지셔널 인코딩\n",
    "  embeddings = PositionalEncoding(vocab_size, d_model)(embeddings)\n",
    "\n",
    "\t# Dropout이라는 훈련을 돕는 테크닉을 수행\n",
    "  outputs = tf.keras.layers.Dropout(rate=dropout)(embeddings)\n",
    "\n",
    "  for i in range(num_layers):\n",
    "    outputs = decoder_layer(\n",
    "        units=units,\n",
    "        d_model=d_model,\n",
    "        num_heads=num_heads,\n",
    "        dropout=dropout,\n",
    "        name='decoder_layer_{}'.format(i),\n",
    "    )(inputs=[outputs, enc_outputs, look_ahead_mask, padding_mask])\n",
    "\n",
    "  return tf.keras.Model(\n",
    "      inputs=[inputs, enc_outputs, look_ahead_mask, padding_mask],\n",
    "      outputs=outputs,\n",
    "      name=name)\n",
    "print(\"슝=3\")"
   ]
  },
  {
   "cell_type": "markdown",
   "metadata": {},
   "source": [
    "인코더, 디코더를 구현했으니 트랜스포머 모델을 만들 수 있으나, 데이터 로드/전처리를 하자"
   ]
  },
  {
   "cell_type": "markdown",
   "metadata": {},
   "source": [
    "## 15-10. 챗봇의 병렬 데이터 받아오기\n",
    "우리가 쓰는 데이터는 Cornell Movie-Dialogs Corpus라는 영화, TV프로그램에서 사용한 대화의 쌍으로 구성된 데이터셋.  \n",
    "대화의 쌍은 먼저 나온 문장에 응답하는 대화문장의 쌍을 지칭.  \n",
    "\n",
    "이번 스텝의 목표  \n",
    "  1. 정해진 개수인 50,000개의 질문과 답변의 쌍을 추출한다.\n",
    "  2. 문장에서 단어와 구두점 사이에 공백을 추가한다.\n",
    "  3. 알파벳과 ! ? , . 이 4개의 구두점을 제외하고 다른 특수문자는 모두 제거한다.  \n"
   ]
  },
  {
   "cell_type": "code",
   "execution_count": 15,
   "metadata": {},
   "outputs": [
    {
     "name": "stdout",
     "output_type": "stream",
     "text": [
      "슝=3\n"
     ]
    }
   ],
   "source": [
    "#데이터 다운로드\n",
    "path_to_zip = tf.keras.utils.get_file(\n",
    "    'cornell_movie_dialogs.zip',\n",
    "    origin='http://www.cs.cornell.edu/~cristian/data/cornell_movie_dialogs_corpus.zip',\n",
    "    extract=True)\n",
    "\n",
    "path_to_dataset = os.path.join(\n",
    "    os.path.dirname(path_to_zip), \"cornell movie-dialogs corpus\")\n",
    "\n",
    "path_to_movie_lines = os.path.join(path_to_dataset, 'movie_lines.txt')\n",
    "path_to_movie_conversations = os.path.join(path_to_dataset,'movie_conversations.txt')\n",
    "print(\"슝=3\")"
   ]
  },
  {
   "cell_type": "code",
   "execution_count": 16,
   "metadata": {},
   "outputs": [
    {
     "name": "stdout",
     "output_type": "stream",
     "text": [
      "50000\n"
     ]
    }
   ],
   "source": [
    "# 데이터양이 많으니 일부분만 사용.\n",
    "# 사용할 샘플의 최대 개수\n",
    "MAX_SAMPLES = 50000\n",
    "print(MAX_SAMPLES)"
   ]
  },
  {
   "cell_type": "code",
   "execution_count": 17,
   "metadata": {},
   "outputs": [
    {
     "name": "stdout",
     "output_type": "stream",
     "text": [
      "슝=3\n"
     ]
    }
   ],
   "source": [
    "# 전처리 함수 정규표현식을 통해 구두점 제거, 토크나이징에 문제가 없도록 한다!  \n",
    "def preprocess_sentence(sentence):\n",
    "  sentence = sentence.lower().strip()\n",
    "\n",
    "  # 단어와 구두점(punctuation) 사이의 거리를 만듭니다.\n",
    "  # 예를 들어서 \"I am a student.\" => \"I am a student .\"와 같이\n",
    "  # student와 온점 사이에 거리를 만듭니다.\n",
    "  sentence = re.sub(r\"([?.!,])\", r\" \\1 \", sentence)\n",
    "  sentence = re.sub(r'[\" \"]+', \" \", sentence)\n",
    "\n",
    "  # (a-z, A-Z, \".\", \"?\", \"!\", \",\")를 제외한 모든 문자를 공백인 ' '로 대체합니다.\n",
    "  sentence = re.sub(r\"[^a-zA-Z?.!,]+\", \" \", sentence)\n",
    "  sentence = sentence.strip()\n",
    "  return sentence\n",
    "print(\"슝=3\")"
   ]
  },
  {
   "cell_type": "code",
   "execution_count": 18,
   "metadata": {},
   "outputs": [
    {
     "name": "stdout",
     "output_type": "stream",
     "text": [
      "슝=3\n"
     ]
    }
   ],
   "source": [
    "# 질문과 답변의 쌍인 데이터셋을 구성하기 위한 데이터 로드 함수, 전처리 함수를 안에서 호출\n",
    "def load_conversations():\n",
    "  id2line = {}\n",
    "  with open(path_to_movie_lines, errors='ignore') as file:\n",
    "    lines = file.readlines()\n",
    "  for line in lines:\n",
    "    parts = line.replace('\\n', '').split(' +++$+++ ')\n",
    "    id2line[parts[0]] = parts[4]\n",
    "\n",
    "  inputs, outputs = [], []\n",
    "  with open(path_to_movie_conversations, 'r') as file:\n",
    "    lines = file.readlines()\n",
    "\n",
    "  for line in lines:\n",
    "    parts = line.replace('\\n', '').split(' +++$+++ ')\n",
    "    conversation = [line[1:-1] for line in parts[3][1:-1].split(', ')]\n",
    "\n",
    "    for i in range(len(conversation) - 1):\n",
    "\t\t\t# 전처리 함수를 질문에 해당되는 inputs와 답변에 해당되는 outputs에 적용.\n",
    "      inputs.append(preprocess_sentence(id2line[conversation[i]]))\n",
    "      outputs.append(preprocess_sentence(id2line[conversation[i + 1]]))\n",
    "\n",
    "      if len(inputs) >= MAX_SAMPLES:\n",
    "        return inputs, outputs\n",
    "  return inputs, outputs\n",
    "print(\"슝=3\")"
   ]
  },
  {
   "cell_type": "code",
   "execution_count": 19,
   "metadata": {},
   "outputs": [
    {
     "name": "stdout",
     "output_type": "stream",
     "text": [
      "전체 샘플 수 : 50000\n",
      "전체 샘플 수 : 50000\n"
     ]
    }
   ],
   "source": [
    "# 데이터를 로드하고 전처리하여 질문을 questions, 답변을 answers에 저장합니다.\n",
    "# 문답이기에 1대1대응. 데이터수가 동일 해야 한다.\n",
    "questions, answers = load_conversations()\n",
    "print('전체 샘플 수 :', len(questions))\n",
    "print('전체 샘플 수 :', len(answers))"
   ]
  },
  {
   "cell_type": "code",
   "execution_count": 20,
   "metadata": {},
   "outputs": [
    {
     "name": "stdout",
     "output_type": "stream",
     "text": [
      "전처리 후의 22번째 질문 샘플: she s not a . . .\n",
      "전처리 후의 22번째 답변 샘플: lesbian ? no . i found a picture of jared leto in one of her drawers , so i m pretty sure she s not harboring same sex tendencies .\n"
     ]
    }
   ],
   "source": [
    "# 출력해서 제대로 저장되었는지, 전처리가 잘 되었는지 보자.\n",
    "# 구두점을 기점으로 공백추가.\n",
    "print('전처리 후의 22번째 질문 샘플: {}'.format(questions[21]))\n",
    "print('전처리 후의 22번째 답변 샘플: {}'.format(answers[21]))"
   ]
  },
  {
   "cell_type": "markdown",
   "metadata": {},
   "source": [
    "## 15-11. 병렬 데이터 전처리하기\n",
    "\n",
    "목차\n",
    "  1. TensorFlow Datasets SubwordTextEncoder를 토크나이저로 사용한다.  단어보다 더 작은 단위인 Subword를 기준으로 토크나이징하고,  각 토큰을 고유한 정수로 인코딩한다.\n",
    "  2. 각 문장을 토큰화하고 각 문장의 시작과 끝을 나타내는 START_TOKEN 및 END_TOKEN을 추가한다.\n",
    "  3. 최대 길이 MAX_LENGTH인 40을 넘는 문장들은 필터링한다.\n",
    "  4. MAX_LENGTH보다 길이가 짧은 문장들은 40에 맞도록 패딩한다.  \n",
    "\n",
    "### 1. 단어장(Vocabulary) 만들기\n",
    "-----------------------------------------------------------------------------------------------------------각 단어에 고유한 정수 인덱스를 부여하기 위해 단어장만듬.\n",
    "질문,답변 둘다 단어장에 넣는다."
   ]
  },
  {
   "cell_type": "code",
   "execution_count": 21,
   "metadata": {},
   "outputs": [
    {
     "name": "stdout",
     "output_type": "stream",
     "text": [
      "살짝 오래 걸릴 수 있어요. 스트레칭 한 번 해볼까요? 👐\n",
      "슝=3 \n"
     ]
    }
   ],
   "source": [
    "print(\"살짝 오래 걸릴 수 있어요. 스트레칭 한 번 해볼까요? 👐\")\n",
    "\n",
    "# 질문과 답변 데이터셋에 대해서 Vocabulary 생성. (Tensorflow 2.2.0 이하)\n",
    "tokenizer = tfds.features.text.SubwordTextEncoder.build_from_corpus(questions + answers, target_vocab_size=2**13)\n",
    "\n",
    "# (주의) Tensorflow 2.3.0 이상의 버전에서는 아래 주석의 코드를 대신 실행해 주세요. \n",
    "#tokenizer = tfds.deprecated.text.SubwordTextEncoder.build_from_corpus(questions + answers, target_vocab_size=2**13)\n",
    "print(\"슝=3 \")"
   ]
  },
  {
   "cell_type": "markdown",
   "metadata": {},
   "source": [
    "디코더 생성 과정에서 사용할 시작, 종료 토큰도 단어장에서 추가하여 정수부여."
   ]
  },
  {
   "cell_type": "code",
   "execution_count": 22,
   "metadata": {},
   "outputs": [
    {
     "name": "stdout",
     "output_type": "stream",
     "text": [
      "슝=3\n"
     ]
    }
   ],
   "source": [
    "# 시작 토큰과 종료 토큰에 고유한 정수를 부여합니다.\n",
    "START_TOKEN, END_TOKEN = [tokenizer.vocab_size], [tokenizer.vocab_size + 1]\n",
    "print(\"슝=3\")"
   ]
  },
  {
   "cell_type": "code",
   "execution_count": 23,
   "metadata": {},
   "outputs": [
    {
     "name": "stdout",
     "output_type": "stream",
     "text": [
      "START_TOKEN의 번호 : [8331]\n",
      "END_TOKEN의 번호 : [8332]\n"
     ]
    }
   ],
   "source": [
    "print('START_TOKEN의 번호 :' ,[tokenizer.vocab_size])\n",
    "print('END_TOKEN의 번호 :' ,[tokenizer.vocab_size + 1])"
   ]
  },
  {
   "cell_type": "code",
   "execution_count": 24,
   "metadata": {},
   "outputs": [
    {
     "name": "stdout",
     "output_type": "stream",
     "text": [
      "8333\n"
     ]
    }
   ],
   "source": [
    "# 시작 토큰과 종료 토큰을 고려하여 +2를 하여 단어장의 크기를 산정합니다.\n",
    "VOCAB_SIZE = tokenizer.vocab_size + 2\n",
    "print(VOCAB_SIZE)"
   ]
  },
  {
   "cell_type": "markdown",
   "metadata": {},
   "source": [
    "### 2. 각 단어를 고유한 정수로 인코딩(Integer encoding) & 패딩(Padding)\n",
    "-----------------------------------------------------------------------------------------------------------\n",
    "tensorflow_datasets의 SubwordTextEncoder를 통해 tokenizer 정의, Vocabulary 완성.  \n",
    "tokenizer.encode(): 단어 -> 정수  \n",
    "tokenizer.decode(): 정수 시퀀스 -> 단어 시퀀스."
   ]
  },
  {
   "cell_type": "code",
   "execution_count": 25,
   "metadata": {},
   "outputs": [
    {
     "name": "stdout",
     "output_type": "stream",
     "text": [
      "정수 인코딩 후의 21번째 질문 샘플: [60, 8, 37, 8172, 49]\n",
      "정수 인코딩 후의 21번째 답변 샘플: [7824, 1223, 19, 61, 2, 4, 336, 10, 1595, 14, 1104, 698, 3263, 263, 16, 71, 14, 107, 2133, 900, 3, 59, 4, 23, 355, 204, 60, 8, 37, 885, 2289, 8107, 344, 1001, 5179, 4214, 342, 1]\n"
     ]
    }
   ],
   "source": [
    "# 임의의 22번째 샘플에 대해서 정수 인코딩 작업을 수행.\n",
    "# 각 토큰을 고유한 정수로 변환\n",
    "print('정수 인코딩 후의 21번째 질문 샘플: {}'.format(tokenizer.encode(questions[21])))\n",
    "print('정수 인코딩 후의 21번째 답변 샘플: {}'.format(tokenizer.encode(answers[21])))"
   ]
  },
  {
   "cell_type": "markdown",
   "metadata": {},
   "source": [
    "문장 최대 길이를 40으로 정하고 40보다 짧은 것들은 패딩"
   ]
  },
  {
   "cell_type": "code",
   "execution_count": 26,
   "metadata": {},
   "outputs": [
    {
     "name": "stdout",
     "output_type": "stream",
     "text": [
      "40\n"
     ]
    }
   ],
   "source": [
    "# 샘플의 최대 허용 길이 또는 패딩 후의 최종 길이\n",
    "MAX_LENGTH = 40\n",
    "print(MAX_LENGTH)"
   ]
  },
  {
   "cell_type": "code",
   "execution_count": 27,
   "metadata": {},
   "outputs": [
    {
     "name": "stdout",
     "output_type": "stream",
     "text": [
      "슝=3\n"
     ]
    }
   ],
   "source": [
    "# 정수 인코딩, 최대 길이를 초과하는 샘플 제거, 패딩\n",
    "def tokenize_and_filter(inputs, outputs):\n",
    "  tokenized_inputs, tokenized_outputs = [], []\n",
    "  \n",
    "  for (sentence1, sentence2) in zip(inputs, outputs):\n",
    "    # 정수 인코딩 과정에서 시작 토큰과 종료 토큰을 추가\n",
    "    sentence1 = START_TOKEN + tokenizer.encode(sentence1) + END_TOKEN\n",
    "    sentence2 = START_TOKEN + tokenizer.encode(sentence2) + END_TOKEN\n",
    "\n",
    "    # 최대 길이 40 이하인 경우에만 데이터셋으로 허용\n",
    "    if len(sentence1) <= MAX_LENGTH and len(sentence2) <= MAX_LENGTH:\n",
    "      tokenized_inputs.append(sentence1)\n",
    "      tokenized_outputs.append(sentence2)\n",
    "  \n",
    "  # 최대 길이 40으로 모든 데이터셋을 패딩\n",
    "  tokenized_inputs = tf.keras.preprocessing.sequence.pad_sequences(\n",
    "      tokenized_inputs, maxlen=MAX_LENGTH, padding='post')\n",
    "  tokenized_outputs = tf.keras.preprocessing.sequence.pad_sequences(\n",
    "      tokenized_outputs, maxlen=MAX_LENGTH, padding='post')\n",
    "  \n",
    "  return tokenized_inputs, tokenized_outputs\n",
    "print(\"슝=3\")"
   ]
  },
  {
   "cell_type": "markdown",
   "metadata": {},
   "source": [
    "길이가 40이 넘는 경우는 제외되었으므로 다시 단어장 크기와 샘플 개수 확인해보자"
   ]
  },
  {
   "cell_type": "code",
   "execution_count": 28,
   "metadata": {},
   "outputs": [
    {
     "name": "stdout",
     "output_type": "stream",
     "text": [
      "단어장의 크기 : 8333\n",
      "필터링 후의 질문 샘플 개수: 44095\n",
      "필터링 후의 답변 샘플 개수: 44095\n"
     ]
    }
   ],
   "source": [
    "questions, answers = tokenize_and_filter(questions, answers)\n",
    "print('단어장의 크기 :',(VOCAB_SIZE))\n",
    "print('필터링 후의 질문 샘플 개수: {}'.format(len(questions)))\n",
    "print('필터링 후의 답변 샘플 개수: {}'.format(len(answers)))"
   ]
  },
  {
   "cell_type": "markdown",
   "metadata": {},
   "source": [
    "### 3. 교사 강요(Teacher Forcing) 사용하기\n",
    "-----------------------------------------------------------------------------------------------------------\n",
    "tf.data.Dataset API는 훈련 프로세스가 빨라지도록 입력파이프라인 구축 API.  \n",
    "이를 활용하기 위해서는 질문, 답변 쌍을 tf.data.Dataset의 입력으로 넣어주는 작업 필요.  \n",
    "디코더의 입력과 실제값(레이블)을 정의하기 위해서 교사강요 기법 이해 필요.  \n",
    "\n",
    "교사 강요(teacher forcing)란, 테스트 과정에서 t 시점의 출력이 t+1 시점의 입력으로 사용되는 RNN 모델을 훈련시킬 때 사용하는 훈련 기법입니다. \n",
    "\n",
    "교사 강요를 사용하지 않을때 훈련속도가 지나치게 느려지는 경우가 있다.  \n",
    "그 이유는 교사 강요를 하지 않은 경우, 잘못된 예측이 다음 시점(time step)의 입력으로 들어가면서 연쇄적으로 예측 정확도에 영향을 미치기 때문\n",
    "이전의 자신 출력이 현재 자기 상태를 결정하는 모델이 자기회귀모델(auto-regressive, AR).  \n",
    "RNN모델, 트랜스포머의 디코더가 자기회귀모델.  \n",
    "질문과 답변의 쌍을 tf.data.Dataset API의 입력으로 사용해 파이프라인 구성.  \n",
    "교사강요를 위해 answers[:, :-1]를 디코더의 입력값, answers[:, 1:]을 디코더의 레이블로 사용."
   ]
  },
  {
   "cell_type": "code",
   "execution_count": 29,
   "metadata": {},
   "outputs": [
    {
     "name": "stdout",
     "output_type": "stream",
     "text": [
      "슝=3\n"
     ]
    }
   ],
   "source": [
    "BATCH_SIZE = 64\n",
    "BUFFER_SIZE = 20000\n",
    "\n",
    "# 디코더는 이전의 target을 다음의 input으로 사용합니다.\n",
    "# 이에 따라 outputs에서는 START_TOKEN을 제거하겠습니다.\n",
    "dataset = tf.data.Dataset.from_tensor_slices((\n",
    "    {\n",
    "        'inputs': questions,\n",
    "        'dec_inputs': answers[:, :-1]\n",
    "    },\n",
    "    {\n",
    "        'outputs': answers[:, 1:]\n",
    "    },\n",
    "))\n",
    "\n",
    "dataset = dataset.cache()\n",
    "dataset = dataset.shuffle(BUFFER_SIZE)\n",
    "dataset = dataset.batch(BATCH_SIZE)\n",
    "dataset = dataset.prefetch(tf.data.experimental.AUTOTUNE)\n",
    "print(\"슝=3\")"
   ]
  },
  {
   "cell_type": "markdown",
   "metadata": {},
   "source": [
    "## 15-12. 모델 정의 및 학습하기  \n",
    "앞에서 만든 인코더와 디코더를 이용해 트랜스포머 함수 정의"
   ]
  },
  {
   "cell_type": "code",
   "execution_count": 30,
   "metadata": {},
   "outputs": [
    {
     "name": "stdout",
     "output_type": "stream",
     "text": [
      "슝=3\n"
     ]
    }
   ],
   "source": [
    "def transformer(vocab_size,\n",
    "                num_layers,\n",
    "                units,\n",
    "                d_model,\n",
    "                num_heads,\n",
    "                dropout,\n",
    "                name=\"transformer\"):\n",
    "  inputs = tf.keras.Input(shape=(None,), name=\"inputs\")\n",
    "  dec_inputs = tf.keras.Input(shape=(None,), name=\"dec_inputs\")\n",
    "\n",
    "\t# 인코더에서 패딩을 위한 마스크\n",
    "  enc_padding_mask = tf.keras.layers.Lambda(\n",
    "      create_padding_mask, output_shape=(1, 1, None),\n",
    "      name='enc_padding_mask')(inputs)\n",
    "\n",
    "  # 디코더에서 미래의 토큰을 마스크 하기 위해서 사용합니다.\n",
    "  # 내부적으로 패딩 마스크도 포함되어져 있습니다.\n",
    "  look_ahead_mask = tf.keras.layers.Lambda(\n",
    "      create_look_ahead_mask,\n",
    "      output_shape=(1, None, None),\n",
    "      name='look_ahead_mask')(dec_inputs)\n",
    "\n",
    "  # 두 번째 어텐션 블록에서 인코더의 벡터들을 마스킹\n",
    "  # 디코더에서 패딩을 위한 마스크\n",
    "  dec_padding_mask = tf.keras.layers.Lambda(\n",
    "      create_padding_mask, output_shape=(1, 1, None),\n",
    "      name='dec_padding_mask')(inputs)\n",
    "\n",
    "  # 인코더\n",
    "  enc_outputs = encoder(\n",
    "      vocab_size=vocab_size,\n",
    "      num_layers=num_layers,\n",
    "      units=units,\n",
    "      d_model=d_model,\n",
    "      num_heads=num_heads,\n",
    "      dropout=dropout,\n",
    "  )(inputs=[inputs, enc_padding_mask])\n",
    "\n",
    "  # 디코더\n",
    "  dec_outputs = decoder(\n",
    "      vocab_size=vocab_size,\n",
    "      num_layers=num_layers,\n",
    "      units=units,\n",
    "      d_model=d_model,\n",
    "      num_heads=num_heads,\n",
    "      dropout=dropout,\n",
    "  )(inputs=[dec_inputs, enc_outputs, look_ahead_mask, dec_padding_mask])\n",
    "\n",
    "  # 완전연결층\n",
    "  outputs = tf.keras.layers.Dense(units=vocab_size, name=\"outputs\")(dec_outputs)\n",
    "\n",
    "  return tf.keras.Model(inputs=[inputs, dec_inputs], outputs=outputs, name=name)\n",
    "print(\"슝=3\")"
   ]
  },
  {
   "cell_type": "markdown",
   "metadata": {},
   "source": [
    "### 1. 모델 생성\n",
    "-----------------------------------------------------------------------------------------------------------\n",
    "num_layers, d-Model, units이 하이퍼 파라미터.  \n",
    "논문에서 num_layers=6, d-Model=512이나, 더 작은 파라미터 사용.  "
   ]
  },
  {
   "cell_type": "code",
   "execution_count": 31,
   "metadata": {},
   "outputs": [
    {
     "name": "stdout",
     "output_type": "stream",
     "text": [
      "Model: \"transformer\"\n",
      "__________________________________________________________________________________________________\n",
      "Layer (type)                    Output Shape         Param #     Connected to                     \n",
      "==================================================================================================\n",
      "inputs (InputLayer)             [(None, None)]       0                                            \n",
      "__________________________________________________________________________________________________\n",
      "dec_inputs (InputLayer)         [(None, None)]       0                                            \n",
      "__________________________________________________________________________________________________\n",
      "enc_padding_mask (Lambda)       (None, 1, 1, None)   0           inputs[0][0]                     \n",
      "__________________________________________________________________________________________________\n",
      "encoder (Model)                 (None, None, 256)    3187456     inputs[0][0]                     \n",
      "                                                                 enc_padding_mask[0][0]           \n",
      "__________________________________________________________________________________________________\n",
      "look_ahead_mask (Lambda)        (None, 1, None, None 0           dec_inputs[0][0]                 \n",
      "__________________________________________________________________________________________________\n",
      "dec_padding_mask (Lambda)       (None, 1, 1, None)   0           inputs[0][0]                     \n",
      "__________________________________________________________________________________________________\n",
      "decoder (Model)                 (None, None, 256)    3714816     dec_inputs[0][0]                 \n",
      "                                                                 encoder[1][0]                    \n",
      "                                                                 look_ahead_mask[0][0]            \n",
      "                                                                 dec_padding_mask[0][0]           \n",
      "__________________________________________________________________________________________________\n",
      "outputs (Dense)                 (None, None, 8333)   2141581     decoder[1][0]                    \n",
      "==================================================================================================\n",
      "Total params: 9,043,853\n",
      "Trainable params: 9,043,853\n",
      "Non-trainable params: 0\n",
      "__________________________________________________________________________________________________\n"
     ]
    }
   ],
   "source": [
    "tf.keras.backend.clear_session()\n",
    "\n",
    "# 하이퍼파라미터\n",
    "NUM_LAYERS = 2 # 인코더와 디코더의 층의 개수\n",
    "D_MODEL = 256 # 인코더와 디코더 내부의 입, 출력의 고정 차원\n",
    "NUM_HEADS = 8 # 멀티 헤드 어텐션에서의 헤드 수 \n",
    "UNITS = 512 # 피드 포워드 신경망의 은닉층의 크기\n",
    "DROPOUT = 0.1 # 드롭아웃의 비율\n",
    "\n",
    "model = transformer(\n",
    "    vocab_size=VOCAB_SIZE,\n",
    "    num_layers=NUM_LAYERS,\n",
    "    units=UNITS,\n",
    "    d_model=D_MODEL,\n",
    "    num_heads=NUM_HEADS,\n",
    "    dropout=DROPOUT)\n",
    "\n",
    "model.summary()"
   ]
  },
  {
   "cell_type": "markdown",
   "metadata": {},
   "source": [
    "### 2. 손실함수(Loss function)\n",
    "---------------------------------------------------------------------------------------------------------\n",
    "레이블인 시퀀스에 패딩되어 있으므로 loss 계산시 패딩마스크 적용.  "
   ]
  },
  {
   "cell_type": "code",
   "execution_count": 32,
   "metadata": {},
   "outputs": [
    {
     "name": "stdout",
     "output_type": "stream",
     "text": [
      "슝=3\n"
     ]
    }
   ],
   "source": [
    "def loss_function(y_true, y_pred):\n",
    "  y_true = tf.reshape(y_true, shape=(-1, MAX_LENGTH - 1))\n",
    "  \n",
    "  loss = tf.keras.losses.SparseCategoricalCrossentropy(\n",
    "      from_logits=True, reduction='none')(y_true, y_pred)\n",
    "\n",
    "  mask = tf.cast(tf.not_equal(y_true, 0), tf.float32)\n",
    "  loss = tf.multiply(loss, mask)\n",
    "\n",
    "  return tf.reduce_mean(loss)\n",
    "print(\"슝=3\")"
   ]
  },
  {
   "cell_type": "markdown",
   "metadata": {},
   "source": [
    "### 3. 커스텀된 학습률(Learning rate)  \n",
    "---------------------------------------------------------------------------------------------------------\n",
    "딥러닝시에 learning rate가 가장 중요.  \n",
    "논문은 커스텀 학습률 스케쥴링 사용(초기에 learning rate를 급격하게 높였다가, 서서히 낮추기)  \n",
    "optimizer로는 adam사용.\n",
    "논문 공식  \n",
    "<img src=\"learning_rate.png\">"
   ]
  },
  {
   "cell_type": "code",
   "execution_count": 33,
   "metadata": {},
   "outputs": [
    {
     "name": "stdout",
     "output_type": "stream",
     "text": [
      "슝=3\n"
     ]
    }
   ],
   "source": [
    "class CustomSchedule(tf.keras.optimizers.schedules.LearningRateSchedule):\n",
    "\n",
    "  def __init__(self, d_model, warmup_steps=4000):\n",
    "    super(CustomSchedule, self).__init__()\n",
    "\n",
    "    self.d_model = d_model\n",
    "    self.d_model = tf.cast(self.d_model, tf.float32)\n",
    "\n",
    "    self.warmup_steps = warmup_steps\n",
    "\n",
    "  def __call__(self, step):\n",
    "    arg1 = tf.math.rsqrt(step)\n",
    "    arg2 = step * (self.warmup_steps**-1.5)\n",
    "\n",
    "    return tf.math.rsqrt(self.d_model) * tf.math.minimum(arg1, arg2)\n",
    "print(\"슝=3\")"
   ]
  },
  {
   "cell_type": "markdown",
   "metadata": {},
   "source": [
    "커스텀 학습률 스케쥴링 계획을 시각화해보자.  \n",
    "학습초기에는 learning_rate가 step_num에 비례해서 증가하다가 이후에 감소"
   ]
  },
  {
   "cell_type": "code",
   "execution_count": 34,
   "metadata": {},
   "outputs": [
    {
     "data": {
      "text/plain": [
       "Text(0.5, 0, 'Train Step')"
      ]
     },
     "execution_count": 34,
     "metadata": {},
     "output_type": "execute_result"
    },
    {
     "data": {
      "image/png": "[encoded data removed]",
      "text/plain": [
       "<Figure size 432x288 with 1 Axes>"
      ]
     },
     "metadata": {
      "needs_background": "light"
     },
     "output_type": "display_data"
    }
   ],
   "source": [
    "sample_learning_rate = CustomSchedule(d_model=128)\n",
    "\n",
    "plt.plot(sample_learning_rate(tf.range(200000, dtype=tf.float32)))\n",
    "plt.ylabel(\"Learning Rate\")\n",
    "plt.xlabel(\"Train Step\")"
   ]
  },
  {
   "cell_type": "markdown",
   "metadata": {},
   "source": [
    "### 4. 모델 컴파일\n",
    "-----------------------------------------------------------------------------------------------------------\n",
    "손실함수와 커스텀 학습률로 모델 컴파일."
   ]
  },
  {
   "cell_type": "code",
   "execution_count": 35,
   "metadata": {},
   "outputs": [
    {
     "name": "stdout",
     "output_type": "stream",
     "text": [
      "슝=3\n"
     ]
    }
   ],
   "source": [
    "learning_rate = CustomSchedule(D_MODEL)\n",
    "\n",
    "optimizer = tf.keras.optimizers.Adam(\n",
    "    learning_rate, beta_1=0.9, beta_2=0.98, epsilon=1e-9)\n",
    "\n",
    "def accuracy(y_true, y_pred):\n",
    "  y_true = tf.reshape(y_true, shape=(-1, MAX_LENGTH - 1))\n",
    "  return tf.keras.metrics.sparse_categorical_accuracy(y_true, y_pred)\n",
    "\n",
    "model.compile(optimizer=optimizer, loss=loss_function, metrics=[accuracy])\n",
    "print(\"슝=3\")"
   ]
  },
  {
   "cell_type": "markdown",
   "metadata": {},
   "source": [
    "### 5. 훈련하기\n",
    "----------------------------------------------------------------------------------------------------------\n",
    "20 에포크 훈련"
   ]
  },
  {
   "cell_type": "code",
   "execution_count": 36,
   "metadata": {},
   "outputs": [
    {
     "name": "stdout",
     "output_type": "stream",
     "text": [
      "Epoch 1/20\n",
      "689/689 [==============================] - 50s 72ms/step - loss: 2.1102 - accuracy: 0.0427\n",
      "Epoch 2/20\n",
      "689/689 [==============================] - 49s 71ms/step - loss: 1.4988 - accuracy: 0.0791\n",
      "Epoch 3/20\n",
      "689/689 [==============================] - 49s 71ms/step - loss: 1.3930 - accuracy: 0.0862\n",
      "Epoch 4/20\n",
      "689/689 [==============================] - 49s 71ms/step - loss: 1.3337 - accuracy: 0.0905\n",
      "Epoch 5/20\n",
      "689/689 [==============================] - 49s 71ms/step - loss: 1.2826 - accuracy: 0.0946\n",
      "Epoch 6/20\n",
      "689/689 [==============================] - 49s 71ms/step - loss: 1.2361 - accuracy: 0.0982\n",
      "Epoch 7/20\n",
      "689/689 [==============================] - 49s 71ms/step - loss: 1.1815 - accuracy: 0.1022\n",
      "Epoch 8/20\n",
      "689/689 [==============================] - 49s 71ms/step - loss: 1.1199 - accuracy: 0.1075\n",
      "Epoch 9/20\n",
      "689/689 [==============================] - 49s 71ms/step - loss: 1.0622 - accuracy: 0.1133\n",
      "Epoch 10/20\n",
      "689/689 [==============================] - 49s 71ms/step - loss: 1.0088 - accuracy: 0.1193\n",
      "Epoch 11/20\n",
      "689/689 [==============================] - 49s 71ms/step - loss: 0.9598 - accuracy: 0.1249\n",
      "Epoch 12/20\n",
      "689/689 [==============================] - 49s 72ms/step - loss: 0.9151 - accuracy: 0.1306\n",
      "Epoch 13/20\n",
      "689/689 [==============================] - 49s 72ms/step - loss: 0.8742 - accuracy: 0.1363\n",
      "Epoch 14/20\n",
      "689/689 [==============================] - 49s 71ms/step - loss: 0.8375 - accuracy: 0.1417\n",
      "Epoch 15/20\n",
      "689/689 [==============================] - 49s 71ms/step - loss: 0.8041 - accuracy: 0.1467\n",
      "Epoch 16/20\n",
      "689/689 [==============================] - 49s 71ms/step - loss: 0.7727 - accuracy: 0.1516\n",
      "Epoch 17/20\n",
      "689/689 [==============================] - 49s 71ms/step - loss: 0.7443 - accuracy: 0.1565\n",
      "Epoch 18/20\n",
      "689/689 [==============================] - 49s 71ms/step - loss: 0.7191 - accuracy: 0.1606\n",
      "Epoch 19/20\n",
      "689/689 [==============================] - 49s 71ms/step - loss: 0.6950 - accuracy: 0.1647\n",
      "Epoch 20/20\n",
      "689/689 [==============================] - 49s 71ms/step - loss: 0.6739 - accuracy: 0.1683\n"
     ]
    },
    {
     "data": {
      "text/plain": [
       "<tensorflow.python.keras.callbacks.History at 0x7f7194701290>"
      ]
     },
     "execution_count": 36,
     "metadata": {},
     "output_type": "execute_result"
    }
   ],
   "source": [
    "EPOCHS = 20\n",
    "model.fit(dataset, epochs=EPOCHS, verbose=1)"
   ]
  },
  {
   "cell_type": "markdown",
   "metadata": {},
   "source": [
    "## 15-13. 챗봇 테스트하기\n",
    "예측 단계는 다음과 같다.\n",
    "  1. 새로운 입력 문장에 대해서는 훈련 때와 동일한 전처리를 거친다.\n",
    "  2. 입력 문장을 토크나이징하고, START_TOKEN과 END_TOKEN을 추가한다.\n",
    "  3. 패딩 마스킹과 룩 어헤드 마스킹을 계산한다.\n",
    "  4. 디코더는 입력 시퀀스로부터 다음 단어를 예측한다.\n",
    "  5. 디코더는 예측된 다음 단어를 기존의 입력 시퀀스에 추가하여 새로운 입력으로 사용한다.\n",
    "  6. END_TOKEN이 예측되거나 문장의 최대 길이에 도달하면 디코더는 동작을 멈춘다."
   ]
  },
  {
   "cell_type": "code",
   "execution_count": 37,
   "metadata": {},
   "outputs": [
    {
     "name": "stdout",
     "output_type": "stream",
     "text": [
      "슝=3\n"
     ]
    }
   ],
   "source": [
    "def decoder_inference(sentence):\n",
    "  sentence = preprocess_sentence(sentence)\n",
    "\n",
    "  # 입력된 문장을 정수 인코딩 후, 시작 토큰과 종료 토큰을 앞뒤로 추가.\n",
    "  # ex) Where have you been? → [[8331   86   30    5 1059    7 8332]]\n",
    "  sentence = tf.expand_dims(\n",
    "      START_TOKEN + tokenizer.encode(sentence) + END_TOKEN, axis=0)\n",
    "\n",
    "  # 디코더의 현재까지의 예측한 출력 시퀀스가 지속적으로 저장되는 변수.\n",
    "  # 처음에는 예측한 내용이 없음으로 시작 토큰만 별도 저장. ex) 8331\n",
    "  output_sequence = tf.expand_dims(START_TOKEN, 0)\n",
    "\n",
    "  # 디코더의 인퍼런스 단계\n",
    "  for i in range(MAX_LENGTH):\n",
    "    # 디코더는 최대 MAX_LENGTH의 길이만큼 다음 단어 예측을 반복합니다.\n",
    "    predictions = model(inputs=[sentence, output_sequence], training=False)\n",
    "    predictions = predictions[:, -1:, :]\n",
    "\n",
    "    # 현재 예측한 단어의 정수\n",
    "    predicted_id = tf.cast(tf.argmax(predictions, axis=-1), tf.int32)\n",
    "\n",
    "    # 만약 현재 예측한 단어가 종료 토큰이라면 for문을 종료\n",
    "    if tf.equal(predicted_id, END_TOKEN[0]):\n",
    "      break\n",
    "\n",
    "    # 예측한 단어들은 지속적으로 output_sequence에 추가됩니다.\n",
    "    # 이 output_sequence는 다시 디코더의 입력이 됩니다.\n",
    "    output_sequence = tf.concat([output_sequence, predicted_id], axis=-1)\n",
    "\n",
    "  return tf.squeeze(output_sequence, axis=0)\n",
    "print(\"슝=3\")"
   ]
  },
  {
   "cell_type": "code",
   "execution_count": 38,
   "metadata": {},
   "outputs": [
    {
     "name": "stdout",
     "output_type": "stream",
     "text": [
      "슝=3\n"
     ]
    }
   ],
   "source": [
    "#입력문장에 대해서 decoder_inference를 호출해 챗봇대답얻는 함수\n",
    "def sentence_generation(sentence):\n",
    "  # 입력 문장에 대해서 디코더를 동작 시켜 예측된 정수 시퀀스를 리턴받습니다.\n",
    "  prediction = decoder_inference(sentence)\n",
    "\n",
    "  # 정수 시퀀스를 다시 텍스트 시퀀스로 변환합니다.\n",
    "  predicted_sentence = tokenizer.decode(\n",
    "      [i for i in prediction if i < tokenizer.vocab_size])\n",
    "\n",
    "  print('입력 : {}'.format(sentence))\n",
    "  print('출력 : {}'.format(predicted_sentence))\n",
    "\n",
    "  return predicted_sentence\n",
    "print(\"슝=3\")"
   ]
  },
  {
   "cell_type": "code",
   "execution_count": 39,
   "metadata": {},
   "outputs": [
    {
     "name": "stdout",
     "output_type": "stream",
     "text": [
      "입력 : Where have you been?\n",
      "출력 : i m not gonna let her away from you .\n"
     ]
    },
    {
     "data": {
      "text/plain": [
       "'i m not gonna let her away from you .'"
      ]
     },
     "execution_count": 39,
     "metadata": {},
     "output_type": "execute_result"
    }
   ],
   "source": [
    "sentence_generation('Where have you been?')"
   ]
  },
  {
   "cell_type": "code",
   "execution_count": 40,
   "metadata": {},
   "outputs": [
    {
     "name": "stdout",
     "output_type": "stream",
     "text": [
      "입력 : It's a trap\n",
      "출력 : it s not mine .\n"
     ]
    },
    {
     "data": {
      "text/plain": [
       "'it s not mine .'"
      ]
     },
     "execution_count": 40,
     "metadata": {},
     "output_type": "execute_result"
    }
   ],
   "source": [
    "sentence_generation(\"It's a trap\")"
   ]
  },
  {
   "cell_type": "markdown",
   "metadata": {},
   "source": [
    "## 15-14.프로젝트: 한국어 데이터로 챗봇 만들기\n",
    "### Step 1. 데이터 수집하기\n",
    "-----------------------------------------------------------------------------------------------------------\n",
    "```\n",
    "wget으로 데이터 다운로드\n",
    "$ wget https://github.com/songys/Chatbot_data/raw/master/ChatbotData%20.csv ```\n",
    "  \n",
    "\n",
    "\n",
    "\n",
    "\n",
    "\n",
    "\n"
   ]
  },
  {
   "cell_type": "markdown",
   "metadata": {},
   "source": [
    "### Step 2. 데이터 전처리하기\n",
    "-----------------------------------------------------------------------------------------------------------\n",
    "다른 언어이기에 다른 전처리를 수행해야 할 필요도 있다."
   ]
  },
  {
   "cell_type": "code",
   "execution_count": 76,
   "metadata": {},
   "outputs": [
    {
     "name": "stdout",
     "output_type": "stream",
     "text": [
      "슝=3\n"
     ]
    }
   ],
   "source": [
    "def preprocess_sentence(sentence):\n",
    "\n",
    "  sentence = re.sub(r\"[?.!,]+\", \"\", sentence)\n",
    "\n",
    "  return sentence\n",
    "print(\"슝=3\")"
   ]
  },
  {
   "cell_type": "code",
   "execution_count": 77,
   "metadata": {},
   "outputs": [
    {
     "name": "stdout",
     "output_type": "stream",
     "text": [
      "['12시 땡', '1지망 학교 떨어졌어', '3박4일 놀러가고 싶다', '3박4일 정도 놀러가고 싶다', 'PPL 심하네', 'SD카드 망가졌어', 'SD카드 안돼', 'SNS 맞팔 왜 안하지ㅠㅠ', 'SNS 시간낭비인 거 아는데 매일 하는 중', 'SNS 시간낭비인데 자꾸 보게됨', 'SNS보면 나만 빼고 다 행복해보여', '가끔 궁금해', '가끔 뭐하는지 궁금해', '가끔은 혼자인게 좋다', '가난한 자의 설움', '가만 있어도 땀난다', '가상화폐 쫄딱 망함', '가스불 켜고 나갔어', '가스불 켜놓고 나온거 같아', '가스비 너무 많이 나왔다', '가스비 비싼데 감기 걸리겠어', '가스비 장난 아님', '가장 확실한 건 뭘까', '가족 여행 가기로 했어', '가족 여행 고고', '가족 여행 어디로 가지', '가족 있어', '가족관계 알려 줘', '가족끼리 여행간다', '가족들 보고 싶어', '가족들이랑 서먹해', '가족들이랑 서먹해졌어', '가족들이랑 어디 가지', '가족들이랑 여행 갈거야', '가족여행 가야지', '가족이 누구야', '가족이랑 여행 가려고', '가족한테 스트레스 풀었어', '가출할까', '가출해도 갈 데가 없어', '간만에 떨리니까 좋더라', '간만에 쇼핑 중', '간만에 휴식 중', '간식 뭐 먹을까', '간식 추천', '간장치킨 시켜야지', '간접흡연 싫어', '갈까 말까 고민 돼', '갈까 말까', '감 말랭이 먹고 싶다', '감 말랭이 먹어야지', '감기 같애', '감기 걸린 것 같아', '감기 기운이 있어', '감기 들 거 같애', '감기가 오려나', '감기약이 없어', '감기인거 같애', '감미로운 목소리 좋아', '감정이 쓰레기통처럼 엉망진창이야', '감정컨트롤을 못하겠어', '감정컨트롤이 안돼', '감히 나를 무시하는 애가 있어', '갑자기 나쁜 생각이 막 들더라', '갑자기 눈물 나', '갑자기 물어봐서 당황했어', '갑자기 불편한 사이가 된 거 같아', '강렬한 첫인상 남겨야 하는데', '강아지 키우고 싶어', '강아지 키우고 싶은데 역시 안돼겠지', '강아지 키울 수 있을까', '강아지 키울까', '강원도 가서 살까', '같이 게임하자고 해도 되나', '같이 놀러갈 친구가 없어', '같이 먹었는데 나만 살찐 거 같아', '같이 수영장 가기로 했어', '같이 있으면 힘든데 붙잡고 싶어', '같이 피씨방 가자고 해볼까', '같이 할 수 있는 취미 생활 뭐 있을까', '개강룩 입어볼까', '개강옷 예쁘게 입어 볼까', '개강이다', '개강이라니', '개같은 상황', '개같이 되버렸어', '개기름 꼈어', '개념도 놓고 옴', '개념이 없어', '개당황', '개당황했잖아 갑자기 물어 봐서', '개인적인 업무까지 다 시켜', '개인적인 일도 다 시켜', '개졸려', '개좋아', '개학하니까 좋다', '걔 너무 싫다', '걔는 누굴 닮아서 그런거니', '걔랑 같은 반 됐으면 좋겠다', '거지 같이 일해 놓고 갔어', '거지됐어', '거짓말 했어', '거짓말을 나도 모르게 자꾸 해', '거짓말을 하게 돼', '거짓말이 거짓말을 낳아', '걱정 없이 살고파', '걱정 좀 없이 살고 싶다', '건강 관리', '건강 빨리 회복해야지', '건강검진 왔어', '건강검진하러 옴', '건강이 최고', '건강이 최고인 것 같아', '건강하게 다이어트 하는 방법', '건강한 다이어트법', '건너건너 아는 사람인데 연락해도 될까', '건물주 되고싶어', '건물주가 짱인데', '건방져', '건조기 살까봐', '건조하네', '걸레질도 해야 돼', '걸어 가고 있는데 깜깜해서 무서워', '겁난다', '게으른 동료가 있어', '게임 같이 하자고 할까', '게임 때문에 시간 다갔어', '게임 때문에 폰이 점점 느려지는듯', '게임 재미있어', '게임 지겨워', '게임도 이제 재미없어', '게임하고 싶어', '게임하다 시간 다갔어', '겨울 지나 봄이야', '겨울에는 온천이지', '겨울이 가고 봄이 올거야', '격려 좀 해줘', '격려가 필요해', '견과류 챙겨 먹어야지', '결국 이런 운명이라니 슬프다', '결정 못하겠어', '결정은 빠르면 빠를 수록 좋겠지', '결정은 빠를수록 좋겠지', '결정을 못 내리겠어 어떻해', '결정적인 물증이 없어', '결혼 했는데', '결혼 했어', '결혼도 다 돈이다', '결혼식 가기 귀찮아', '결혼식 또 가야돼', '결혼식때 하객이 없을 까봐 걱정돼', '결혼식이 너무 많아', '결혼이나 하지 왜 자꾸 나한테 화 내냐구', '결혼준비 돈 많이 들겠지', '결혼준비하는데 돈 얼마나 드나', '결혼하는데 돈 많이 드네', '결혼하는데 돈 얼마나 들까', '결혼하면 좋아', '결혼하면 좋을까', '결혼하면 행복할까', '결혼하면 행복해', '결혼하면 행복해질까', '결혼할까', '결혼해도 되나', '결혼해도 될까', '결혼해야 하나', '경쟁이 너무 치열해', '계속 공부해도 될까', '계속 도전하는 거 귀찮아', '계속 방학이면 좋을텐데', '계속 보고 싶어', '계속 보고 싶으면 어떡해', '계속 속이 진짜 안 좋아', '계속 엇갈리는 느낌', '계속 학생하고 싶어', '계속 한숨만 나와', '고3은 공부만 해야겠지', '고3이니까 공부해야겠지', '고구마 다이어트 해야지', '고구마만 먹고 다이어트 해야지', '고기 구워 먹고 싶다', '고기 먹고 싶어', '고데기 망했어', '고데기 했는데 망했어', '고독한 밤', '고마운 사람들이 많아', '고무신 거꾸로 신으면 어쩌지', '고민 있어', '고민 좀 들어줄래', '고백하고 후회하면 어떡하지', '고시원 너무 답답해', '고시원 답답해', '고시원에서 나가고 싶어', '고시원에서 탈출하고 싶어', '고양이 동영상 보는 중', '고양이 키우고 싶어', '고양이 키우고 싶어', '고의는 아닌데 실수를 한 거 같아', '고집 센 사람', '고집하고는', '골프 못 치는데', '골프 배워야 돼', '골프 어려워', '골프치러 가야돼', '곱창 먹고 싶어', '곱창 생각나', '공무원 괜찮겠지', '공무원 되고 싶다', '공무원 되면 좋겠다', '공무원 시험 공부 힘들다', '공무원 시험 죽을 거 같아', '공무원 시험 힘들어ㅠㅠ', '공무원 준비할까', '공무원이 좋지', '공복이라 신경이 예민해져', '공복이라 예민해', '공복이면 예민함', '공부 계속해도 될까', '공부 꼭 해야 할까', '공부 때려치워야 하나', '공부 시작해도 될까', '공부 왜 해야 돼', '공부 잘 안돼', '공부 잘하고 싶어', '공부 좀 더 할 걸', '공부 하기 싫다', '공부는 내 체질이 아닌 것 같아', '공부로 먹고 살 수 있을까', '공부방법이 잘못된걸까', '공부하기 싫어', '공부하기 싫은 날', '공부하는 낙이 없어', '공부하는 이유', '공부하는 이유가 없어', '공시 준비 힘들어', '공시 준비 힘들어', '공시 준비중', '공시 준비하는데 힘들다', '공시생이야', '공연 보고 싶어', '공연 보러 가고 싶어', '공책 필기 나만 힘들어', '공황장애 생겼어', '공황장애 있어', '공휴일에는 집이 최고', '공휴일에는 집콕', '과거는 잊고 앞으로 나아 가야지', '과거는 중요하지 않아', '과식해서 소화가 안돼', '과식했나 봐', '과식했다', '과외비 부담되겠지', '과외비 비싸', '과일 먹고 자야지', '과일 먹어야지', '과일 안 먹게 돼', '과일 잘 안 먹게 돼', '과일 챙겨 먹어야지', '관계가 계속 애매하다', '관심 끄라고 하고 싶다', '관심 좀 안 가졌으면', '관절염 같애', '관절염인가', '광고가 안 끝나', '괜찮아지고 있어', '괜찮은 사람인데 사귀긴 싫어', '괜히 건들지 말라고', '괜히 기다렸어', '괜히 농담해서 망했다', '괜히 아까운 시간 버렸다', '괜히 창피해', '괴물이 되어 가는 느낌이 들어', '교보문고 왔어', '교양 수업 재밌어', '교양수업 시간에 마음에 드는 애 있어', '교양수업 은근 재미져', '교양수업에서 마음에 드는 애 있어', '교양수업이 재미있어', '교양이 전공보다 재미있어', '교직이수 가능할까', '교통사고 났었어', '교통사고 당했어', '교회 가기 싫어', '교회 갔다 만났어', '교회에서 만났어', '구박하면서 엄청 일 시켜', '군대 갔다 올 때까지 기다릴 수 있을까', '군대 기다려 주려고', '군대 기다려도 될까', '군대 기다리면 부담스러워할까', '군대 기다릴 수 있을까', '군대 언제 끝나나', '군대 전역 기다려', '굿모닝', '궁금하면 오백원', '궁금하지', '궁금해', '궁금해 알려줘', '귀 아파', '귀가 가려워', '귀가 간지러', '귀가 윙윙거려', '귀농 어때', '그 사람이 나 안 좋아하는 거 같아', '그 사람이 나 좋아해줬으면 좋겠다', '그 사람이 행복했으면 좋겠다', '그 시절엔 다 그랬지', '그냥 고백할걸', '그냥 공무원이 좋을 듯', '그냥 내버려 둬 주었으면', '그냥 선 볼까', '그냥 쉬고 싶다', '그냥 씹어야겠다', '그냥 이렇게 살고 싶어', '그냥 자는 거 아니지', '그냥 잘못했다고 하면 될거 같은데 자꾸 변명해', '그냥 택시 타야지', '그냥 할까', '그냥 혼자 밥이나 먹어야지', '그냥 혼자 있는게 좋아', '그동안 잘 지냈나요', '그땐 그랬지', '그래 그러자', '그래 이제 결정했어', '그래도 좀 기대했는데', '그런 말을 왜 하지', '그런 사람인가보다 해야하나봐', '그런 사람인갑다 해야지', '그런 친구 아니었는데 너무 귀찮게 하네', '그렇게 갈 거면서', '그렇게 오래 살았는데도 이해를 못하겠어', '그렇게 할래', '그림 잘 그리고 싶다', '그림 좀 잘 그렸으면 좋겠다', '그만 두고 나오고 싶어', '그만 먹어야 하는데', '그만 살고싶어', '그저 그런 하루', '근사한 곳 알아 냈어', '근육 있으면 멋있을텐데', '금값 알아', '금값 어때', '금사빠인가', '금수저 물고 태어나면 좋겠지', '금수저로 태어났으면', '금수저로 태어났으면 좋았을텐데', '금연이 쉽지 않아', '기 빨렸어', '기념일 다 챙기는거 귀찮아', '기념일 또 까먹었어', '기념일 못챙겼어', '기념일 챙기기 귀찮아', '기능 좀 알려줘봐봐', '기다리는 것도 지쳐', '기다리라고 말 못하겠어', '기다림이 습관이 됐나봐', '기대가 무너졌어', '기대가 부담스러운데 떨쳐낼 수 있는 방법 있을까', '기대하고 있었는데', '기대하지 말걸', '기대했는데', '기댈 수 있는 사람', '기력이 없어', '기름값 올랐어', '기본이 뭔지도 모르는 것 같아', '기본이 안 되어 있어', '기부 좀 했어요', '기부했어', '기분 꿀꿀해', '기분 나쁜 농담을 계속하고 있어', '기분 울적해서 좀 걷고 있어', '기분 전환 하고 싶어', '기분 전환이 필요해', '기분이 그지 같아', '기분이 더러워', '기분이 묘해', '기분이 이상해', '기숙사 괜찮을까', '기숙사 떨어졌어', '기숙사 사는거 어떨까', '기숙사 살면 불편해', '기숙사 안됐어', '기술 배울까', '기차 타고 여행 가고 싶어', '기차여행 가고 싶어', '기침도 못하겠어', '기침도 편하게 못해', '기프트콘 받았어', '기프트콘 선물 괜찮을까', '기프트콘 선물해볼까', '기프트콘 주면 좋아할까', '기프트콘으로 선물 받았어', '기프트콘으로 선물 해야겠다', '기회를 놓쳤어', '기회를 못 잡았어', '기획사니까 당연히 예쁜 애들 많겠지', '기획사에 예쁜 애들 많겠지', '긴 머리 관리 어렵다', '긴 머리 관리하는 거 힘들다', '긴 시간이 걸렸지만 괜찮아', '긴장 푸는 법 알려줘', '긴장돼', '긴장돼서 땀나네', '길거리에서 연락처 물어보면 줘도 되나', '길에서 담배 피우는 사람 싫어', '길에서 번호 따였어', '길에서 전번 물어보면 줘도 되나', '길에서 헌팅 당했어', '길은 멀고 해는 진다', '길이 미끄러워서 미끄러질뻔했어', '길이 안보여', '길이 얼어서 미끄러질뻔했어', '길이 얼었어', '김떡순 먹고 싶어', '김치도 없네', '김치볶음밥 먹어야지', '김치볶음밥이나 만들어 먹어야지', '김치찌개 먹고 싶어', '까아 오빠들 컴백한다', '깜깜한데 전기 안들어오네', '깡 마른 거 같아', '꼴 사나워질 것 같은데', '꽃 받고 싶다', '꽃 사고 싶어', '꽃 살까', '꽃 선물 좋아할까', '꽃 선물해 볼까', '꽃 예쁘게 말렸어', '꽃게탕 맛있다', '꽃게탕 진짜 밥도둑', '꽃꽂이 배우는 중', '꽃꽂이 배우니까 좋다', '꽃놀이 가고 싶어', '꽃다발 말려봐야지', '꽃다발 말리면 에쁘겠지', '꽃다발 받았어', '꽃다발 샀어', '꽃다발 선물 괜찮지', '꽃다발 선물 받았어', '꽃다발 선물 어때', '꽃다발 준비했어', '꽃바구니 선물이랑 과일 바구니 선물 뭐가 좋아', '꽃바구니가 좋을까 과일바구니까 좋을까', '꽃선물 받고 어', '꿀잼', '꿈은 많은데', '꿈이 너무 많아', '꿈이 너무 무서웠어', '꿈이 다양해', '꿈이 두 개야', '꿈이 없어', '꿈이 이루어질까', '꿈이 자꾸 바뀌어', '꿈이 현실이었으면', '끝나니까 허무하다', '끝나면 좋을 줄 알았는데', '낌새가 이상하더니 딱 걸렸어', '낌새가 있더니 딱 걸렸어', '나 감정쓰레기통이었나봐', '나 갖고 장난친건가', '나 같은 사람은 동물 키우면 안되겠지', '나 같이 예쁜 애를 왜 갈구지', '나 거짓말 못하겠어', '나 결정 잘 한거지', '나 결정했어', '나 괜찮지 않니', '나 교직이수할 수 있을까', '나 그동안 뭐한거니', '나 그지임', '나 내일 기숙사 가야돼', '나 내장비만이래', '나 너무 못 생겼어', '나 너무 소심해', '나 노트북 사줘', '나 놀려먹기 쉬운가', '나 누구게', '나 누락됐나봐', '나 다른 거 할까', '나 대충한 거 아닌데', '나 뒷담화하는 애 어떻게 할까', '나 뒷담화하는 애 있다는데 어떻게 하지', '나 많이 기대했는데', '나 말 실수한 거 같아', '나 맨날 속는 거 같아', '나 머리 나쁜 듯', '나 머리가 나뿐 것 같아', '나 먼저 잘게', '나 모르는게 왜 이렇게 많지', '나 몰래 사귀는 거 같애', '나 무시 당한 거 같아', '나 무시하는 거 같아', '나 무시하는 사람 어떻게 해', '나 무시하는 사람 짜증나', '나 문제가 많은거 같아', '나 뭐하는 거지', '나 미팅한다', '나 바뀌고 싶어', '나 바본인가 봄', '나 백수야', '나 버림 받은 거 같아', '나 보이스피싱 당한 거 같은데 어떡해', '나 비만이야', '나 사랑하니', '나 상 받는대', '나 새 옷 샀다', '나 서류에서 광탈했어', '나 소개팅한다', '나 속은 거 같아', '나 속은듯', '나 수학여행 간다', '나 스마트폰 중독인가봐', '나 승진했어', '나 실수한건가', '나 실수했나', '나 아재인가', '나 아직 어른 아닌 거 같아', '나 아직도 애 같아', '나 어때', '나 여기서 뭐하는 거지', '나 연기 너무 못해 거짓말 못하겠어', '나 열심히 할거야', '나 오늘 개불쌍', '나 오늘 따라 잘생겨 보이네', '나 오늘 상 받았지롱', '나 완전 계탔어', '나 왕따야', '나 왕따인거 같아', '나 왜 멍청해', '나 왜 이러지', '나 왜케 못 생겼지', '나 요즘 정신 놓고 살고 있는 거 같아', '나 욕 먹는 거 같아', '나 웃겨 봐', '나 은근 무시하는 애 있어', '나 이상한가', '나 이상해', '나 이제 졸업해', '나 인정받고 싶어', '나 잘 살 수 있겠지', '나 잘생겼지', '나 잘하고 있는 건지 모르겠어', '나 잘하고 있는 걸까', '나 잘하는 게 없어', '나 잘하는게 없는거같아', '나 잘할 수 있을까', '나 점점 괴물이 되고 있어', '나 정신차리게 말해줘', '나 좀 건들지 마', '나 좀 건들지 말라고 해', '나 좀 내버려 두면 좋겠어', '나 좀 내버려 뒀으면', '나 좀 안 건들였으면 좋겠어', '나 좀 좋아해줬으면', '나 좀 쩌는 듯', '나 좀 칭찬해줘', '나 좋아하게 만들고 싶다', '나 좋아하는 것 같아', '나 좋아해주는 사람 있겠지', '나 주름살 있나', '나 죽을 뻔함', '나 짤릴 거 같아', '나 쫌 불쌍한 거 같아', '나 챙겨줄 사람이 필요해', '나 천재 같아', '나 천재임', '나 축구는 진짜 잘해', '나 친구들한테 인정받고 싶어', '나 폭식증인듯', '나 폰 중독인 거 같애', '나 폰겜 너무 많이해', '나 폰겜했더니 몇 시간 갔어', '나 할 수 있어', '나 함부로 말하는 거 고치고 싶어', '나 혼자 야근해', '나 혼자 여행 왔는데 괜찮네', '나 혼자서 축구 본다', '나 화장을 너무 못해', '나 화장이 잘 안돼', '나 회사에서 인정받고 싶어', '나가기도 귀찮아', '나는 그냥저냥 사는 거 같아', '나는 기분 나쁜데 농담이라고 계속해', '나는 나약한 존재', '나는 누구인가', '나는 모자란 사람인 거 같아', '나는 뭐든 할 수 있다', '나는 뭘 잘할까', '나는 왜 이 모양일까', '나는 왜 이렇게 태어났을까', '나는 왜 태어났을까', '나는 잘 할줄 아는 게 없는 것 같아', '나는 좋아하는 게 뭘까', '나는 좋은데 …', '나는 친구가 없어', '나는 친구라고 믿었는데', '나도 괜찮은 사람인데', '나도 대우 받고 싶다고', '나도 비키니 입고 싶다', '나도 상 받고 싶다', '나도 약초 캐볼까', '나도 월급 필요해', '나도 위로 받고 싶다', '나도 이벤트가 되다니', '나도 이제 아재인가', '나도 중국 진출해볼까', '나도 집 사고 싶어', '나도 커플룩 입고 싶다', '나두 잘할거야', '나들이를 가볼까', '나란 놈', '나랑 놀아줘', '나랑 놀자', '나랑 상관 없는 이야기들', '나랑 있는게 힘들었나봐', '나른하다', '나를 기다려줬으면 좋겠다', '나를 너무 오래 기다리게했어', '나를 너무 함부로 대해', '나를 미소짓게 만든 너', '나를 바꿀 수 있는 건 뭐가 있을까', '나를 친구로 생각 안했나봐', '나를 호구로 아는 사람 어떡해', '나를 힘들게 하는 사람인데 붙잡고 싶어', '나만 갈궈', '나만 기다렸나봐', '나만 꿈 없이 사는 거 같아', '나만 남친 없어', '나만 뒤처지는 느낌이야', '나만 반친구 없어', '나만 빼고 행복해보여', '나만 설레나', '나만 설레는 거야', '나만 솔로야', '나만 애기봐', '나만 야근해', '나만 우스워질거 같아', '나만 이상한 사람이래', '나만 이상해졌어', '나만 일시켜서 짜증폭발', '나만 제자리걸음이야', '나만 제자리인듯', '나만 진급 못했어', '나만 친구라고 생각한건가', '나만 친구로 생각했나봐', '나만 힘든 거 아니지', '나만의 시간이 필요한 것 같아', '나만의 시간이 필요해', '나빼고 다 행복한 거 같아', '나쁜 꿈 꿨어', '나이 때문에 무시 받았어', '나이 어리다고 무시해', '나이가 많은데 취직이 될까', '나이도 있으니 영양제 좀 챙겨볼까', '나이들면서 눈물이 많아졌어', '나이먹으니까 주름살 생겨', '나중에 뭐하고 먹고 사냐', '나중에 뭐할까 고민이야', '나중에 창업해야 겠지', '나한테 감추는 게 하나도 없었으면', '나한테 거짓말 좀 안 했으면', '나한테 냄새 나면 어쩌지', '나한테 냄새 날까', '나한테 너무 많은 걸 바라는 듯', '나한테 문제가 많아', '나한테 상의 좀 하지', '나한테 상의하면 좋을텐데', '나한테 이상한 냄새 나나', '나한테 할 말 있대 뭘까', '나한테 행운 좀 왔으면 좋겠어', '나한테만 예의 차리래', '나한테만 왜 이런 일이 일어날까', '나한테만은 완전 솔직했으면', '낙엽 밟는 소리 좋다', '낙엽밟는 소리', '낚시 안 해봤는데', '낚시 안 해봤는데 재미있어 보인다', '낚시 재밌을까', '낚시 좋아하는 남자 어때', '낚시는 무슨 재미', '난 동물 못키울거 같아', '난 많이 노력한 거 같은데', '난 쓰레기야', '난 왜 예쁘게 말을 못할까', '난 왜 이모양일까', '난 정말 안되겠다', '난 진짜 쓰레기야', '난 천재다', '난방비 비싼데 추워', '난방이 안돼', '난방이 안돼나 추워', '날 몇시간동안이나 기다리게했어', '날씨 건조한 거 같애', '날씨 왜 이렇게 춥냐', '날씨 좀 풀린거 같아', '날씨 좋은데', '날씨 죽인다', '날씨 짱 좋아', '날씨 풀렸다', '날씨가 너무 눅눅해', '날씨가 너무 추워', '날씨가 북극같아', '날씨가 진짜 덥다', '날아 가고 싶어', '남동생한테 자꾸 화내게 되네', '남들에게 인정받으려면 어떻게 해야 돼', '남들이 날 욕하는 거 같아', '남들이 다 손가락질 하는 거 같아', '남은 휴가가 없어', '남의 눈을 너무 신경써', '남의 일 도와줘야 할까', '남의 차 긁었어 내 돈', '남이 걷지 않는 길을 가려고 해', '남자 보통 어디서 만나', '남자 어디서 만나', '남자 친구가 바래다 줬어', '남자 화장하는 거 어때', '남자가 낚시를 너무 좋아해', '남자가 화장하는 거 어떻게 생각해', '남자면 편할 것 같아', '남자였으면 좋겠어', '남자인지 여자인지 알려줘', '남자친구 교회 데려가고 싶어', '남자친구 또 운동 갔어', '남자친구 생일인데 뭘 줄까', '남자친구 승진 선물로 뭐가 좋을까', '남자친구 오늘 따라 훈훈해 보인다', '남자친구 오늘 좀 질린다', '남자친구가 나 안 믿어줘', '남자친구가 너무 바빠', '남자친구가 너무 운동만 해', '남자친구가 너무 잘생겼어', '남자친구가 데려다줬어', '남자친구가 맞춤법을 너무 많이 틀려', '남자친구가 사업 시작한대', '남자친구가 사업한대', '남자친구가 사진 실력 꽝', '남자친구가 사진을 너무 못 찍어', '남자친구가 안놀아 줘', '남자친구가 애교가 많아', '남자친구가 욕함', '남자친구가 의심해', '남자친구가 이벤트 해 주면 좋겠다', '남자친구가 이벤트를 잘 안해줘', '남자친구가 입이 험해', '남자친구가 자꾸 잔소리해', '남자친구가 잔소리가 심해', '남자친구가 전화를 잘 안해', '남자친구가 전화하는 걸 안 좋아해', '남자친구가 홧김에 욕함', '남자친구는 어디서 만나', '남자친구랑 봉사활동 해보려고', '남자친구랑 종교 문제로 다툼', '남자친구랑 종교가 달라', '남자친구한테 질린 거 같아', '남친 SNS에 내 사진 없어', '남친 때문에 살찐 듯', '남친 보여줄까', '남친 생일선물 뭘 주면 좋을까', '남친 승진 선물 추천', '남친 어디서 만나', '남친 프로필에 내 사진 왜 안올릴까', '남친 프사에 내 사진 없어', '남친이 SNS에 내 사진에 안 올려', '남친이 입이 험해', '남친한테 교회 가자고 하고 싶어', '남편이 나 안 도와줘', '남편이 나보다 집안일 더 잘해', '남편이 맨날 늦게 들어와', '남편이 미워', '남편이 아기를 안 돌봐줘', '남편이 왜 애키우는거 안 도와줄까', '남편이 육아를 안해', '남편이 육아에 무신경해', '남편이 집안일 안 도와줘', '남편이 집안일 안 해', '남편이 집안일을 너무 잘해', '남편이 짜증나게해', '남편이 하나도 안 도와줘', '남편이 회식이라고 안와', '남편이 회식하면 늦게 들어와', '낭만이 사라진 것 같아', '낭만이 없어', '낭만이라고는 없어가지구', '내 남자친구 보고 싶어', '내 남자친구 아이돌이면 좋겠다', '내 능력이 너무 모자라', '내 마음을 알아줬으면', '내 마음을 좀 알아 달라고', '내 몸이 여러 개 였으면 좋겠다', '내 문제는 뭘까', '내 문제점이 뭘까', '내 배우자는 어디 있을까', '내 배우자도 어디 있을까', '내 사수 너무 깐깐해', '내 생각대로 살거야', '내 생각이랑 다른 사람 생각이 진짜 다르다는 걸 느껴', '내 성격 너무 소심해', '내 스타일 아니던데', '내 스타일 아니야', '내 실력 좀 쩌는 듯', '내 얼굴이 읽히나', '내 여자친구 아이돌이야', '내 외모 맘에 안들어', '내 월급만 안 올라', '내 의견 좀 존중해 줬으면', '내 의견을 존중해줬으면', '내 의지는 상관없나봐', '내 의지로 안되는 일인가봐', '내 이름이 없어', '내 인생 답 없어', '내 인생은 가시밭길 같아', '내 인생의 주인공은 나야', '내 일 아닌데 해야 돼', '내 자존감', '내 잘못이 뭔지 모르겠어', '내 잘못인 거 같은데 말을 못하겠어', '내 잘못인 거 같은데 어떻게 털어놓지', '내 주제를 모르고 덤빈건가', '내 지인한테 내 험담했대', '내 집이 생겼어', '내 짝은 어디있을까', '내 친구에게 내 험담을 하다니', '내 키 맞춰 봐', '내 키가 몇이게', '내 편이 없는 거 같아', '내 편이라고는 하나도 없는 거 같아', '내가 그렇게 부족한가', '내가 그르친 거 같아', '내가 그사람이랑 진짜 결혼해도 될까', '내가 기대를 너무 많이 했나봐', '내가 나빴네', '내가 너무 방심했어', '내가 너무 생각없이 말했어', '내가 너무 쉽게 보였나', '내가 너무 초라해', '내가 다른 무슨 말을 하겠어', '내가 만족을 못해', '내가 많이 부족한가', '내가 말하면 왜 비난만 할까', '내가 멍청한거지', '내가 무능력하게 느껴져', '내가 뭘 잘못했을까', '내가 뭘 좋아하는지 잘하는지 모르겠어', '내가 바보지', '내가 부족하니까 이렇게 밖에 안된거겠지', '내가 불효녀야', '내가 불효자야', '내가 사랑할 자격이 있나', '내가 쉬워보이나', '내가 쓸모없는 인간 같아', '내가 아무것도 아닌 사람 같아', '내가 왜 해야하는지 모르겠어', '내가 원하는 사람이 되기 어려워', '내가 이래뵈도 괜찮은 사람인데', '내가 이렇게 또 불효를 한다', '내가 이상한 건가', '내가 이상한 사람같아', '내가 이상한가', '내가 잘못한 걸까', '내가 잘못했다는데 뭔지 안 알려줘', '내가 제일 문제인 듯', '내가 제정신이 아니다', '내가 좋아하는 가수 컴백한다', '내가 좋아하는 거 모르나', '내가 좋아하는 거 모르는 거 같애', '내가 좋아하는 사람과 나를 좋아해주는 사람', '내가 좋아하는 사람이 나 안 좋아하는 거 같아', '내가 좋아하는 사람이 나 좋아해줬으면 좋겠다', '내가 좋아하는 사람이 행복했으면 좋겠다', '내가 좋아할 자격이 있나', '내가 주제를 몰랐나봐', '내가 주제를 몰랐던 거지', '내가 죽어도 모를 거 같아', '내가 진짜 즐길 수 있을게 뭘까', '내가 질린대', '내가 참 못난거 같아', '내가 호구냐구', '내가 희생양이 됐어', '내가 힘든 게 많다', '내기해서 이겼는데 소원 뭐하지', '내년에는 더 행복해질려고 이렇게 힘든가봅니다', '내마음을 모르겠어', '내사랑은 어디 있나', '내아파트 갖고 싶어', '내일 기대하게 되네', '내일 기숙사 들어가', '내일 날씨 어때', '내일 날씨 좋을까', '내일 떨린다', '내일 만나자고 데쉬', '내일 만나자고 해볼까', '내일 모의고사 본다', '내일 모의평가다', '내일 발표 나는데 떨려', '내일 발표 준비 아자아자', '내일 발표 준비하고 있어', '내일 발표인데 떨려', '내일 비왔으면', '내일 소풍간다', '내일 수학여행가', '내일 시험이야', '내일 약속 있는데 날씨 좋았으면', '내일 일찍 일어나야 돼', '내일 친구랑 놀까', '내일 클스마스 이브네', '내일 하루 종일 바빠', '내일은 기다리던 소풍 간다', '내일은 비왔으면 좋겠다', '내일은 친구들랑 놀까', '내일이 기대돼', '내일이면 크리스마스 이브네', '내장 비만', '낼 데이트하기로했는데 날씨 좋았으면', '낼 바쁘넹', '냄새 나면 어쩌지', '냄새나면 어쩌지', '냄새날 것 같아 걱정이야', '냉면 땡긴다', '냉방비 너무 많이 나와', '냉방비 장난 아님', '냉장고 털어도 먹을게 없네', '냉장고가 텅비었어', '냉장고에 김치도 없네', '냉장고에 먹을 게 없네', '냉장고에 먹을 게 하나도 없네', '너 누구', '너 누구냐', '너 누구니', '너 때문이야', '너 또 뭐할 줄 알아', '너 만든 사람 최소 천재', '너 만든 사람은 누구야', '너 말 잘하니', '너 말 제대로 못해', '너 말이 좀 이상하다', '너 무서워', '너 뭐하는 애야', '너 미워', '너 이러면 미워한다', '너 진짜 쓰레기야', '너는 못가잖아', '너는 뭐 억었어', '너는 아무일도 없었나봐', '너는 안자', '너덜너덜해진 느낌이야', '너도 고민 있니', '너도 고민 있어', '너도 몰랐니', '너도 무슨 고민 있니', '너도 상사 있어', '너무 기빨려', '너무 기대했나봐', '너무 다른 문화인 듯', '너무 단순한 것만 하는거 아니니', '너무 더워', '너무 더워서 미치겠어', '너무 마른 거 같아', '너무 많은 걸 바래', '너무 많이 먹어서 소화시켜야 하는데 움직이기가 싫어', '너무 많이 먹었나봐', '너무 많이 먹었어', '너무 멋있다', '너무 바빠', '너무 배가 불러', '너무 불공평한거 같애', '너무 빨리 대답해', '너무 빨리 철 든 거 같아서 마음이 아파', '너무 빨리 철 들었어', '너무 뻔뻔하게 구는데', '너무 어려워', '너무 오래 기다리게 한다', '너무 외로워', '너무 잘하는 후배가 들어왔어', '너무 졸려', '너무 초라해지는 느낌이야', '너무 추워서 나가기 귀찮아', '너무 추워서 시베리아 같아', '너무 편해도 안 좋아', '너무 편해진 거 같아', '너무 허기지네', '너무 힘들다', '너무 힘들다 지쳤어', '너무하네 진짜', '넌 고민이 뭐야', '넌 누구냐', '넘 많이 먹었다', '넘넘 외로워 죽겠어', '넘어져서 발목 삔 거 같애', '넘어질 뻔했어', '넘어질뻔했어', '네일 할까', '넥타이핀 선물 괜찮겠지', '넥타이핀 정도는 선물로 줘도 괜찮겠지', '노는게 제일 좋아', '노래 못해서 노래방 안 가', '노래 잘 부르는 사람 부러워', '노래 잘하고 싶어', '노래 잘하는 사람 부러워', '노래방 가고 싶어', '노래방 가면 어색할까', '노래방 걸 거 같은데 뭐 부르지', '노래방 노잼', '노래방 데이트 할 거 같은데 뭐 부르지', '노력해도 성적이 안 나와', '노력해도 안되는 거 같애', '노력해도 잘 안되는 공부', '노메이크업인데 전남친 만남', '노처녀 히스테리', '노처녀인데 자꾸 화 낸다', '노트북 백업 안까먹고 해야지', '노트북 부팅 안돼', '노트북 사줘', '노트북 안돼', '노후 걱정 벌써 해야하나', '노후 걱정할 나이는 아닌데', '녹차 마실래', '녹차 한 잔 어때', '논문 쓰기 힘들다', '논문이 잘 안 써져', '놀고 싶다', '놀러 와라', '놀러가고 싶은데 같이 갈 친구가 없어', '놀러가고싶다', '놀러가기 딱 좋은 날씨다', '놀리기 쉬운 대상인가봐', '놀면서 돈 벌고 싶어', '놀아 줄 사람이 없어', '놀아 줄거지', '놀아줘', '놀아줘 놀아줘', '놀이공원 데이트 어때', '놀이공원 알바 재밌대', '놀이공원 알바하면 재밌겠지', '놀이동산 가고 싶어', '놀이동산 가자고 해볼까', '놀이터에 친구가 없어', '놀이터에서 뛰어 놀고 싶은데 친구가 없어', '농구하다 다쳤어', '농구하다 무르팍 깨짐', '농구하러 가야지', '농구해야지', '농담처럼 진담하는 사람', '농사 짓고 살까', '농촌 봉사활동 간다', '농활 간다', '뇌용량 초과', '누가 내 욕하는 거 같아', '누가 만들었니', '누가 문열다 내차 긁었어', '누구 소개 좀 시켜줘 봐봐', '누구나 힘든거지', '누구냐 넌', '누구랑 결혼해야 할까', '누구세요', '누구야', '누굴 닮아서 그런건지', '누굴 만나는 것도 귀찮아', '누락된걸까', '누우면 바로 자', '누우면 자', '누워 있는데 잠이 안 와', '눈 또 와', '눈 많이 왔어', '눈 쌓였어', '눈 좀 안 왔으면', '눈꺼풀이 무거워', '눈물 나서 못 멈추겠어', '눈물 나올거 같아', '눈물 나올라 그래', '눈물이 많아졌어', '눈썹 문신 어때', '눈썹 문신 하면 편할까', '눈썹 문신 해볼까', '눈썹이 귀여워', '눈썹이 씰룩씰룩', '눈이 건조해', '눈이 계속 뻑뻑해', '눈이 너무 나빠졌어', '눈이 너무 많이 와', '눈이 뻑뻑해', '눈이 아파', '눈이 안 떠져', '눈이 자꾸 나빠지는 것 같아', '눈이 침침해', '눈이 피곤해', '눕자마자 잘 거 같아', '뉴게임 없나', '뉴스 재미없어', '뉴스는 역시 지루해', '느낌이 왔어', '느낌이 좋아', '늘 빡빡하게 살기 힘드네', '능력이 너무 안돼', '능력이 없는 거 같아', '능력치 제로', '늦게 까지 술 먹나 보다', '늦어지고 있는데 변명이 생각 안나', '늦은 시간에 걸어다니니까 무서워', '늦잠과 브런치 수다가 있는 주말', '니 상사는 누구니', '다 그만 두고 싶다', '다 그만하고싶어', '다 끝나가니 좋을줄만 알았는데', '다 나 좋아했으면 좋겠어', '다 내 잘못이지', '다 내 잘못인 것 같아', '다 때려 치우고 싶어', '다 마음에 안 들어', '다 알고 있을까', '다 잘 될거야', '다 잘해', '다 필요없어', '다 허무하다', '다 힘들겠지', '다가 오지마', '다들 행복한 거 같은데', '다른 거 시작 해볼까', '다른 거 해볼까', '다른 건 무감각한데 이건 예민해', '다른 사람도 다 힘들겠지', '다른 사람들에게 사랑을 베풀고 싶어', '다른 사람들은 잘하는것 같아서 초초해', '다른 사람들은 행복할까', '다른 사람들은 행복해 보이는데', '다른 사람들이 나 좋아했으면 좋겠어', '다른 사람은 다 행복해보여', '다른 사람의 시선이 너무 신경쓰여', '다른 생각을 하는 사람이 많다', '다른 학과 간다', '다리 꼬면 안되는데 습관 안고쳐져', '다리 떠는거 말들음', '다리 떠는거 지적받았어', '다리 떨면 안 좋아', '다리 떨면 진짜 복나가나', '다리가 덜덜 떨려', '다리가 부은 거 같아', '다리가 퉁퉁 부었어', '다리가 후덜덜', '다리꼬지마', '다시 만나자는 건 아닌데 보고 싶어', '다시 태어나도 챗봇할래', '다시 태어난다면', '다육이 좀 심어볼까', '다육이 키워보까', '다음에 또 만나자', '다음에 봐', '다이어트 성공하고 싶은데', '다이어트해야 되는데', '다크서클 내려왔어', '다크서클 턱밑에 있다', '단거 땡긴다', '단독주택 살고 싶어', '단둘이는 처음', '단둘이는 처음 만나는 날ㅋㅋ', '단발 어울릴까', '단발 해볼까', '단수', '단수래', '단순하다', '단체생활 많이 힘든가', '단체생활 적응이 안돼', '단체생활 해야 되는거 싫다', '단체생활 힘들어', '달달한 거 먹고 싶다', '달달한 마카롱 먹고 싶다', '달달한 연애 하고 싶어', '달력이 또 넘어가네', '달리 보이고 싶은데 뭐할까', '달콤한 와플 먹고 싶어', '담배 끊는 거 어려워', '담배 너무 비쌈', '담배 비싸', '담배 왤케 비싸', '담배끊었었는데 담배 피고 싶다', '담뱃값이 왜 이렇게 비싸', '답 없는 내 인생', '답례품 뭐하지', '답례품 뭘로 할까', '답이 안와', '답이 어디있을까', '답정녀 안 만나는 방법 있나', '답정녀 어떡해', '답정녀 좀 싫어', '답정녀 퇴치법', '답하기 싫은가봐', '당구 쳤어', '당구 치고 옴', '당당하게 비키니 입고 싶다', '당당하기가 어려워', '대기업 아니어도 될까', '대기업 취직 어려울까', '대기업에 취직하고 싶어', '대기업은 접어야 할 듯', '대놓고 말했으면 좋겠어', '대놓고 질린대', '대답 잘하니', '대답이 너무 빨라', '대리 불렀는데 안 오네', '대리님은 갈구는게 취미인 듯', '대리님이 너무 갈궈', '대리운전 불렀어', '대리효도 극혐', '대리효도 짜증', '대만 놀러가고 싶어', '대만 여행가고 싶어', '대빵 큰 여드름 올라와', '대외활동하다 만났어', '대우 좀 해줬으면', '대우가 별로야', '대우를 안해줘', '대청소 해야지', '대체불가한 사람이 되고 싶어', '대체불가한 사람이 될 수 있을까', '대출 갚다 죽겠어', '대출 갚으면 한 평생 다 갈듯', '대출 언제 다 갚냐', '대출 이자 왜 이렇게 많이 나오지', '대출받아도 괜찮을까', '대출이 너무 많아', '대충한 거 아닌데', '대충했다고 혼났어', '대학 가고 싶다', '대학 가는 게 낫지', '대학 가면 좋겠지', '대학 가면 행복할까', '대학 가야 하나', '대학 간다고 달라질까', '대학 나온 거 부러워', '대학 다 떨어졌어', '대학 떨어 졌어 휴', '대학가야지', '대학에서 아싸해도 될까', '대학원 가고 싶어', '대학원 가는게 좋을 것 같아', '더 격렬하게 아무 것도 안하고 싶다', '더 나은 학교생활 하고 싶어', '더 이상 나한테 안 왔으면 좋겠어', '더 이상 못할거 같아', '더 이상 안 왔으면 좋겠어', '더우니까 무서운 이야기 듣고싶지', '더워', '더워 미치겠다', '더워 죽겠다', '더워더워', '더워서 잠을 못자', '더워서 죽을 것 같아', '더워서 죽을 듯한 날씨야', '덕수궁 돌담길 걸었어', '덕수궁 돌담길 따라서 둘이 걸었어', '덕질 중', '덕질 하는 중', '덜 싸우는 법', '데려다 주느라 막차 놓침', '데려다 주지도 않고', '데이트로 놀이공원 가는거 어때', '도대체 중간이 없어', '도로가 얼었어', '도서관 가서 공부해야지', '도서관 가야지', '도서관 앞자리 사람 괜찮다', '도서관 책 반납 안햇다', '도서관에 책 빌리러 가려고', '도서관에서 괜찮은 사람 봤어', '도시락 싸가지고 가야지', '도시락 싸가지고 다닐까', '도시락 싸는 거 귀찮은데 사먹을까', '도시락 싸볼까', '도시락 싸봐야지', '도시락 싸서 놀러 가고 싶어', '도시락 싸서 피크닉 가고 싶어', '도시락 싸옴', '도시락 싸왔어', '도와준 사람들 너무 고맙다', '도전하기 싫다', '독감 같아', '독박 육아 짜증나', '독서 좀 해야겠어', '독학하려니까 힘들어', '돈 가지고 유세부려', '돈 굴리기', '돈 다 썼어', '돈 다 어디 갔나', '돈 다 어디 쓴지 모르겠네', '돈 다 없어졌어', '돈 많으면 좋겠지', '돈 많은 백수 하고 싶어', '돈 많이 벌고 싶어', '돈 많이 벌었으면 좋겠어', '돈 모으고 싶어', '돈 모으는 재미', '돈 모으는 재미가 있네', '돈 버는 게 쉽지 않음', '돈 버는 게 어렵구만', '돈 벌고 싶어', '돈 벌고 싶어', '돈 벌면 뭐하나', '돈 벌어서 뭐하지', '돈 빌려줬는데 연락 두절', '돈 빌려줬는데 잠수탔어', '돈 안드는 데이트 코스', '돈 어디갔지', '돈 없는데 투잡이라도 해야 할까', '돈 없어', '돈 없어도 갈 수 있는 데이트 코스', '돈 없으면 결혼도 못하겠다', '돈 잃어버렸어', '돈 좀 모아야 할텐데', '돈 좀 빌려줘', '돈 쥐꼬리만큼 가지고 유세부리는 꼴이라니', '돈없이 결혼하기 가능', '돈은 어떻게 모으는 거임', '돈이 똑 떨어짐', '돈이 안 모여', '돈이 엄떠', '돈이 없네', '돈이 없어 졌어', '돈이 천원밖에 없어', '돈이 하나도 없어', '돈이라도 많으면 좋을텐데', '돌겠다', '돌아버리겠다 진짜', '돌잔치 가야지', '동기가 나보다 먼저 진급', '동기는 진급하는데', '동료가 너무 게을러', '동문서답을 해', '동상 걸릴 뻔했어', '동상 걸릴거 같아', '동생이 나 제끼고 결혼하겠대', '동생이 먼저 결혼하겠대', '동생이랑 대판 싸움', '동생이랑 싸웠어', '동생한테 약점 잡혔어', '동생한테 짜증냈어', '동생한테 화냈어', '동성 친구들이 편해', '동성이 좋아', '동호회 가야지', '동호회 나가기 귀찮아', '동호회 나가야 하나', '동호회 나가지 말까', '동호회 약속 있어', '동호회 재미 없어졌어', '되게 건조하네', '되고 싶은 게 두 개야', '되고 싶은 게 없어', '되는 일이 하나도 없네', '두 사람만 좋으면 되는줄 알았는데 아니었나봐', '두고 봐', '둔한 편인데 이것만 예민해', '둘이 사귀는 거 같애', '뒤돌아 보지 말고 나가야 하는데', '뒤에 누가 따라 오는 것 같아 무서워', '뒤에서 발자국 소리 나서 놀램', '뒤에서 얘기하면 내가 못 들을 줄 알았나봐', '뒤에서 호박씨까면 내가 못 들을 줄 알았나', '뒤척이다 늦잠 자게 되네', '뒷통수 맞았어', '뒷통수 제대로 맞음', '드디어 개강이다', '드디어 데이트인데 뭐하지', '드디어 봄이 오나봐', '드디어 손 잡음', '드디어 승진함', '드디어 졸업한다', '드디어 천일', '드디어 커플 반지 받았어', '드디어 해외 여행 간다', '드라마 볼 게 없어', '드라마나 보면서 놀고 싶다', '드라이 잘 안되네', '드라이가 잘 안돼', '드라이브 데이트 해야겠다', '드라이브 하면서 데이트 해야겠다', '드라이플라워 만들었어', '드레스룸 만들고 싶다', '드레스룸 있으면 좋겠다', '드론 자격증 딸까', '드론 조종사 자격증 따면 재밌을 거 같아', '듬직한 사람이 좋아', '등록금 너무 비싸다 허리 휨', '등록금 비싸다', '등산할까', '따듯해서 좋다', '따듯해지니까 살 것 같다', '따뜻한 물이 안나와', '딱 좋아', '딴 거 뭐 할 줄 알아', '딴 일 찾아볼까', '딸기 먹고 싶다', '딸기 먹어야지', '딸기 먹을래', '딸기 뷔페 가고 싶어', '딸기가 너무 먹고 싶어', '딸기가 좋아', '땅 사면 좋겠다', '땅이나 살까', '때려 치고 싶다', '떠나요~ 제주도~', '떡볶이 먹고 싶다', '떨리나봐', '떨어뜨려서 핸드폰 액정 나갔어', '또 개강이라니', '또 개강이야', '또 공부해야돼', '또 눈 내려', '또 못 만났어', '또 뭘 먹나', '또 살찐 거 같아', '또 스팸 전화', '또 야근', '또 어떻게 버티지', '또 전화 안받아', '또 지각하네', '또 폭식했다', '또 한달이 지나갔네', '또라이가 너무 많아', '또라이들 짱 많아', '똑 부러지게 말해야지', '똑같은 나날들', '똑똑', '똑똑하면 좋겠다', '똑똑해지고 싶다', '똥마려', '뜨끈한 온천가고 싶다', '뜻밖의 고민을 하고 있어', '띰띰해요 놀아 주세요', '라면 맛있게 끓이는 법 알려줘', '라면 먹고 갈래', '라면 먹고 싶어', '라면 먹어야겠다', '라면 먹을래', '라면 잘 끓이는 법', '랜선 집사됐어', '레고 사고 싶은데 비싸', '레고가 비싸', '레시피대로 한 거 같은데 왜 맛이 없지', '레시피대로 했는데 왜 맛이 없지', '렌터카 빌릴까봐', '로그인 아이디 기억안나', '로그인 아이디 까먹었다', '로또 당첨 번호 불러봐', '로또 당첨 번호를 불러 주세요', '로또 당첨 좀 됐으면', '로또 번호 알려줘', '로또 번호 알려줘', '로또 좀 됐으면', '롯데월드 가자고 해볼까', '롱패딩 살까', '롱패딩 필요할까', '리모델링할까', '리치치즈피자 먹고 싶다', '리폼 해볼까', '마딩 있는 주택에 살고 싶어', '마라톤 나가볼까', '마라톤 출전할까', '마른 기침 나와', '마른 기침이 계속 나오네', '마스크팩 대량 구매했어', '마스크팩 잔뜩 샀어', '마음 다 잡는 중', '마음 둘 곳이 없어', '마음 잡고 고고씽', '마음 잡고 다시 시작', '마음도 춥고 날씨도 춥네', '마음만은 청춘이야', '마음만은 항상 청춘인데', '마음에 드는 거 같은데 고백을 왜 안 하지', '마음에 안 드는 짓만 해', '마음에 하나도 안 들어', '마음을 보여 주고 싶어', '마음을 정리하고 있는데 뜻밖의 남자가 카톡을 했네', '마음을 정리하는 중인데 카톡 왔어', '마음의 여유가 없어', '마음의 평화가 필요해', '마음이 무거워져', '마음이 보였으면 좋겠어', '마음이 복잡해', '마음이 싱숭생숭해서 자꾸 글을 쓰게 되네', '마음이 싱숭생숭해서 자꾸 여기다 쓰게되넹', '마음이 울적해', '마음이 울적해', '마음이 유난히 춥네', '마음이 자꾸 급해져', '마음이 조급해', '마음이 착잡하다', '마음이 허해', '마카롱 먹고 싶다', '막 말하는 거 고치고 싶어', '막 뭐 사고 싶어', '막말 좀 안 했으면 좋겠다', '막말 쩔어', '막말 최악이지', '막말 할거 같은데', '막말이 나와', '막말이 제일 나빠', '막말해서 상처줬어', '막차 놓쳤다', '막차 놓쳤다 택시비 아까워', '막차 놓쳤어', '만나기만 하면 싸워', '만나기만 하면 싸워', '만나기만 하면 자꾸 싸우게돼', '만나는게 싫지는 않아', '만나면 싸워', '만나면 좋긴 한데 귀찮아', '만나면 좋은 사람이 있어 헤헤', '만나면 좋은데 사귀긴 싫어', '만나서 고백할걸', '만나자고 약속 잡는 것도 귀찮아', '만날 땐 좋고 안 만나도 괜찮은 거 같아', '만담꾼이네', '만두 먹고 싶어', '만든 사람', '만족을 모르나봐', '만족할 줄을 몰라', '만족해야겠지', '많이 먹었는데 몸무게 똑 같아', '많이 먹었더니 졸려', '많이 자도 피곤해', '말 거는게 어려워', '말 예쁘게 하고 싶어', '말 잘하고 싶어', '말 잘하는 법', '말 좀 잘하면 좋을텐데', '말문이 막힌다', '말문이 탁 막힌다', '말실수했다', '말을 못하겠어', '말을 수시로 바꾸는 사람 어떻게 해', '말을 예쁘게 하면 좋으련만', '말을 왜 이렇게 못 알아 듣니', '말을 이해를 못해', '말을 좀 잘 하고 싶어', '말을 해놓고 후회돼 죽겠어', '말이 너무 심해', '말이 안 통해', '말이 안 통해', '말이 안돼', '말이 제일 무서운 듯', '말조심해야지', '말투가 맘에 안들어', '말투가 별로야', '말하고 나니 후련하네여', '말하고 후회하면 어떡해', '말하고 후회할까봐 걱정돼', '말하는 대로 다 되면 정말 좋겠다', '말하는게 재밌어', '말하는대로 다 됐으면 좋겠다', '말하는대로 이루어졌으면', '말하지 말걸', '말해봐', '맘 편한 데가 없어', '맘속으로 조금씩 정리가 돼가네', '맛있는 거 먹고 싶은데 살 찔까봐 걱정돼', '맛있는 냄새나', '맛집 가고 싶어', '맛집 다녀왔어', '맛집갈까', '망고빙수 맛있다', '맞는 결정을 한거겠지', '맞는 선택일까', '맞춤법 많이 틀리는 사람', '맞춤법 자꾸 틀리는 사람', '맞춤법을 자꾸 틀리는 남친 깬다', '매운 국물 떡볶이 먹고 싶다', '매운 닭발 먹고 싶다', '매운 칼국수 고고', '매일 아침 피곤해', '매일 타는 버스에서 보는 그 사람', '매콤한 닭발 생각나', '맥주 마셔야지', '맥주 마실까 소주 마실까', '맥주 소주 어떤거 마실까', '맥주 한 잔 어때', '맥주 한 잔 할래', '맥주 한 잔 해야지', '맨날 놀기만 했으면 좋겠어', '맨날 똑같아', '맨날 똑같애', '맨날맨날 똑같아', '맨몸으로 결혼하기 가능', '머리 기름낀거 티나나', '머리 깎고 올게', '머리 깎아야겠다', '머리 깎아야지', '머리 냄새날텐데', '머리 다듬어 달라고 그럴까', '머리 또 잘라야 돼', '머리 바꿀까', '머리 스타일 바꿀까', '머리 아파', '머리 아픈 거 같애', '머리 안 감은 거 티나나', '머리 안감았더니 떡졌어', '머리 어떻게 깎을까', '머리 어떻게 할까', '머리 염색 해야지', '머리 용량 초과', '머리 좀 다듬을까', '머리 짧게 잘라야지', '머리 하나도 안 남을 것 같아', '머리 한 대 맞은 거 같아', '머리 확 잘라버려야지', '머리가 너무 빨리 자라', '머리가 너무 아프네', '머리가 띵한게 한 대 맞은거 같아', '머리가 띵해', '머리가 좀 아프다', '머리가 지끈거려', '머리가 콕콕 쑤셔', '머리만 바빠', '머리스타일 바꿔볼까', '머리스타일 어떻게 바꾸지', '머리에서 열날거 같다', '머리카락 많이 빠져', '머리카락 쑥쑥 빠지는 느낌', '머리카락이 엄청 빠져', '머리카락이 자꾸 빠져', '머릿결 좀 찰랑거렸으면 좋겠어', '머릿속이 복잡해', '머릿속이 정리 안돼', '머릿속이 하얘졌어', '먹고 나니까 졸리당', '먹고 살기 힘들다', '먹고 자고', '먹고 자고 놀고만 싶어', '먹고 자고 먹고 자고', '먹고 자도 놀기만 해도 될까', '먹고 자도 되나', '먹고 죽을 돈도 없어', '먹기도 귀찮아', '먹으면 살 찔까봐 걱정돼', '먹을 거 뭐 없나', '먹을 거 하나도 없어', '먹을 게 일도 없어', '먹을까 참을까', '먹통이야 답답하다', '먼저 잘게 잘자', '먼지 때문에 목아파', '먼지 싫다', '먼지 지수 어때', '먼지 콜록콜록', '먼지가 너무 많아', '먼지가 많나', '먼지가 쌓였네', '멋지게 나이들고 싶다', '멋지게 늙고 싶다', '멋지게 살고 싶었는데', '멋진 데 알아 냈어', '멋진 삶을 살고 싶어', '멍 때리기', '멍 때리는 중', '멍청한게 탈이지', '메뉴얼이 있으면 뭐하나', '메뉴얼이 있으면 뭐해', '메모리카드 어디다 두었을까', '메모리카드 잃어버렸어', '메모하는 습관 필요해', '메모하는 습관을 기르고 싶어', '메이크업 동영상 보는 중', '며칠 전에 다시 만났는데', '면도 귀찬하', '면도기 또 사야돼', '면도기 사야되는데', '면도기 새로 사야돼', '면도기랑 이것저것 사야되는데', '면도안하면 안되나', '면도하기 귀찮', '면도하는 게 낫겠지', '면도해야 되는데 귀찮아', '면세에서 뭐 사지', '면세점에서 쇼핑할거야', '면접 때 너무 떨려', '면접 어떻게 잘 보냐', '면접 잘 보고 싶어', '면접 잘 볼 수 있을까', '면접 준비 방법', '면접 준비 어떻게 하지', '면접 준비중이야', '면접 팁 좀 줘', '면접만 남았어', '면접만 보면 돼', '면접만 보면 떨려서 말을 못하겠어', '면접이 코앞이야', '면허 따는 중', '면허 따야하나', '면허 딸까봐', '면허 없는데', '면허 없는데 따야겠지', '명절 다가오니까 스트레스', '명절 선물 뭐하지', '명절 스트레스', '명품 선물 부담스러울까', '명품 이제 사지 말아야겠어', '몇 반 될지 궁금해', '몇시간 동안 안와', '모공 너무 커', '모공 점점 커지는 것 같아', '모기가 너무 많아', '모기가 웽웽거려', '모든 일이 어려워', '모르겠는데 노력하래', '모르는 걸까 모르는 철 하는 걸까', '모르는 게 너무 많아', '모르는 번호로 전화왔어', '모르는 번호에서 전화오면', '모르는 사람 만나는거 너무 스트레스야', '모르는 사람들이 페친 신청해', '모르는 사람이 자꾸 쳐다봐', '모른 척 하는 건지 모르는 건지', '모른 척 하는건가', '모른척 지나쳤어', '모른척 해줬어', '모임에서 만났어', '목 마르다', '목 말라', '목 아파', '목 탄다', '목걸이 선물이 좋겠다', '목걸이 선물해볼까', '목돈 만들기', '목소리 좋은 사람이 좋아', '목욕탕 가서 때밀어야겠다', '목욕탕 가야지', '목이 바싹바싹 탄다', '목이 뻐근해', '목이 뻑뻑해', '목이 칼칼해', '목표가 없어', '목표가 없어서 걱정임', '몰라서 당했어', '몰랐구나', '몸매가 탄탄하면 좋은데', '몸무게 좀 줄었으면', '몸살 감기에 걸릴 거 같아', '몸살 나서 힘들어', '몸살 났나봐', '몸에 힘이 하나도 없어', '몸에서 멀어지면 맘에서도 멀어진데', '몸이 무거워', '몸이 여러 개면 좋겠다', '몸이 영 찌뿌둥해', '몸이 찌뿌둥해', '몸이 천근만근이다', '못 알아들었어', '못하는 게 없는 사람', '못하는거 투성이야', '못하는게 너무 많아', '무기력증 극복하는 방법', '무기력증 어떻게 극복하지', '무기력한 것일뿐', '무기력해', '무료 앱이 유료로 됐어', '무릎 쑤셔', '무릎 아파', '무릎 안 좋으면 스쿼트 하면 안되겠지', '무리에 잘못 낀 듯', '무사안일 기원', '무서운 꿈 꿨어', '무서운 이야기 해줄까', '무서워서 달려왔어', '무서워서 뛰어 왔어', '무서워요', '무슨 말을 해야할까', '무슨 매주 결혼식이야', '무슨 생각해', '무슨 향수가 좋을까', '무지 덥다', '무한리필 가면 너무 돼지처럼 보일까', '무한리필 괜찮지 않아', '문 안열림', '문 여는 소리같은게 나서 무서움', '문 잠겼는데 집에 아무도 없네', '문신하고 싶은데 후회할까', '문신하면 후회하려나', '문열다 옆차랑 부딪혔어', '문이 안열려', '문자보낼 친구도 없어', '문콕당했어', '문콕한듯', '문화가 너무 다른 것 같아', '문화센터 가야지', '문화센터라도 가야겠다', '물 끓여서 차 마셔야지', '물 끓여야지', '물 너무 차가워', '물 마셔야지', '물 마실라구', '물 많이 마셔야 돼', '물 많이 마시라고 했는데', '물 자주 마셔야지', '물 좋은데 어디야', '물 주문해야지', '물 차가워', '물 한 잔 마시기', '물가 왤케 비쌈', '물가가 왜 이렇게 비쌈', '물건 사는것도 힘드네', '물걸레질해야지', '물리치료 받아야 하나', '물리치료 받아야겠다', '물배달 시켜야겠다', '물이 안 나와', '물이 안나온데', '뭐 먹을 거 없나', '뭐 먹을까', '뭐 먹지', '뭐 물어 볼까', '뭐 볼까', '뭐 이렇게 쉬운 게 없지', '뭐 입고 가지', '뭐 입고 나가지', '뭐 입지', '뭐 좀 먹을까', '뭐 좀 물어 봐도 돼', '뭐 좀 배워볼까봐', '뭐 하는 중', '뭐 하는지 궁금해', '뭐 할줄 알아', '뭐 해', '뭐 해주기가 싫어', '뭐가 잘못된 걸까', '뭐가 중요한지 모르겠어', '뭐라 하려다 참았어', '뭐라고 하고 싶었는데 참았어', '뭐라고', '뭐라도 배워볼까', '뭐부터 바꿔야 할까', '뭐야 너무 건방져', '뭐하고 놀지', '뭐하고 살지', '뭐하냐', '뭐하는 분이세요', '뭐하면 시간이 잘 갈까', '뭐하면 시간이 잘 갈까', '뭐하면서 노는 게 좋을까', '뭐하면서 놀까', '뭐할까', '뭐해 먹지', '뭔 날이여', '뭔 비밀이 그렇게 많은지', '뭔 참견이야', '뭔가 뒷맛이 쓰다', '뭔가 말해봐', '뭔가 무섭다', '뭔가 배워볼까', '뭔가 불공평해', '뭔가 새로운 자극이 필요해', '뭔가 수상한데', '뭔가 자꾸 불안해', '뭔가 찔려', '뭔가 취미생활 필요해', '뭔가 해야 할까', '뭘 바꿔야 할까', '뭘 배워 볼까', '뭘 잘못했다는 걸까', '뭘 해도 재미없다', '뭘하면 행복할까', '뭘해도 귀여워', '뭣이 중한지 모르겠어', '미끄러질 뻔했어', '미드 보고싶다', '미래에 대한 고민', '미세먼지 나쁨인가', '미세먼지 때문에 짜증나', '미세먼지 또 나쁨', '미세먼지 심하대', '미세먼지 지수 뭐야', '미세먼지 지수 어떻대', '미세먼지 최악인데', '미세먼지가 너무 많아', '미세먼지가 너무 많아 하늘이 뿌옇다', '미세먼지가 너무 많아서 짜증나', '미용 몸무게하고 싶다', '미용실 가서 머리해야지', '미용실 가야지', '미용실 갔다왔는데 티가 안 나', '미용실에서 너무 티 안 나게 머리를 잘라줬어', '미운 짓만 해', '미워', '미워한다', '미친 사람들이 너무 많아', '미친듯이 덥다', '미팅한다', '믿는 게 아니었어', '믿지 말껄', '밉다 진짜', '바나나 먹고 싶다', '바나나 먹어야지', '바나나가 좋아', '바다 가자고 하면 갈까', '바다 놀러가고 싶다', '바다 놀러가자고 해볼까', '바다 보러 가자고 말해야겠다', '바다 보러 가자고 해볼까', '바다가 가고 싶어요', '바라는게 없어', '바라는게 없어', '바람 많이 부네', '바람 분다', '바람 쐬러 나갈까', '바람쐬러 정동진가~~', '바람이 너무 많이 부네', '바본가봐', '바쁘네', '바지 입을까 치마 입을까', '밖에 나가기 귀찮아', '밖에 안나가고 이렇게 살고 싶어', '밖에서 먹으니까 더 맛있어', '반 배정 내가 원하는 대로 될까', '반 배정 잘 될까', '반 배정 좀 잘 됐으면 좋겠다', '반가워', '반가워', '반가워요 반갑구만', '반갑습니다', '반딧불이 보고싶다', '반배정 망했어', '반배정부터 올해 끝났다', '반에 친구가 없어', '반장 나가볼까', '반장 선거 나가볼까', '반장은 원래 힘들어', '반장이라서 힘들어', '반지 많이 비쌀까', '반지 뭘로 선물할까', '반지 받았어', '반지 비싼가', '반지 선물 뭘로 할까', '반지 선물하려고', '반지 선물하면 좋아하겠지', '반지 호수 모르는데', '반지 호수 물어볼까', '발 부었어', '발 아파', '발레 배우려고', '발레 배워보려고', '발렌타인데이 선물 비싸', '발렌타인데이 선물 줄 사람이 없어', '발렌타인데이 초콜릿 비싸', '발렌타인데이인데 줄 사람이 없어', '발목 다쳤어', '발목 삐끗했어', '발목 삔 거 같애', '발목 접질렀어', '발목 접질렀어', '발톱 손질 받을까', '발표 무사히 끝내고 싶어', '발표 잘 하고 싶어', '발표 준비 너무 힘들어', '발표 준비하느라 힘들어', '발표가 안나', '발표할때 너무 떨려', '발표할때 자꾸 떨려', '밤 12시야', '밤 샜어', '밤샜어', '밤에 잠이 안 와', '밥 너무 많이 남음', '밥 너무 많이 함', '밥 먹다 옷에 흘렸어', '밥 먹다 흘렸어', '밥 먹어야지', '밥 먹었는데 배고파', '밥 먹었는데도 또 배고파', '밥 먹었니', '밥 먹었어', '밥 뭐 먹을까', '밥 잘 사주는 예쁜 누나 어디 없나', '밥 탔다', '밥 태웠어', '밥먹자', '밥벌이 뭐하나', '밥생각이 없어', '밥이 없어', '밥이나 먹자', '방들이 귀찮아', '방들이 준비 뭐하지', '방법도 안 말해주고 그냥 열심히 하래', '방심하는게 아니었어', '방에 먼지가 한가득', '방탈출 게임 갔다왔어', '방탈출 게임 했어', '방학 끝나서 좋아', '방학 안 끝났으면 좋겠다', '방학에 만날 사람이 없네', '방학은 너무 심심해', '방학이 끝났다니', '방학이 있었으면 좋겠어', '방학이 있었으면', '방학이 필요해', '방학인데 집에만 있어', '방학했더니 심심해', '배 아파서 기분이 안 좋아', '배 아프다', '배 터지겠네', '배 터지겠다', '배가 너무 고파', '배가 넘넘 고파', '배고파', '배고파', '배고파 죽을 것 같아 힘이 없어', '배고파서 일어났어', '배고파서 자다 깼어', '배고파서 힘이 없어', '배고프다', '배고프당', '배고프면 예민함', '배고픈 거 같아', '배달 중이래', '배부르고 졸려', '배부르니 졸리다', '배불러', '배불러', '배불러서 배 터질 듯', '배송 중이래', '배에서 꾸룩꾸룩 소리 남', '배에서 소리 남', '배워도 모르는 게 너무 많아', '배터리 간당간당', '백조됐어', '뱃살 나온 거 같아', '뱃살 나와', '뱃살 빵빵', '뱃살이 잡혀', '버려야 되는데', '버리기 아까운데 리폼 해볼까', '버릴 건 버려야 겠지', '버림 받은 느낌', '버스 기다릴 때 가면 자꾸 생각나', '버스 끊겼다', '버스 멀미나', '버스 멀미하는 것 같아', '버스 정류장에서 기다리고 있었어', '버스 정류장에서 기다리던 사람', '버스 정류장하면 생각나', '버스가 안와', '버스가 왜이렇게 안오지', '버스에서 매일 보는 사람', '버스타면 힘든데 그냥 택시탈까', '버스탈까 택시탈까', '번호 달라고 해볼까', '번호 따볼까나', '번호키 누르는 소리가 나서 무서움', '벌써 개강이라니', '벌써 방학 끝이라니', '벌써 생활비가 없어', '벌써 잠 와', '벌써 허기진다', '법을 요리조리 피해가는 사람', '법을 피해가는 사람', '벗어나고 싶어', '벚꽃 예쁘다', '벚꽃구경 가고싶다', '벚꽃이 너무 예뻐', '베란다 좀 가꿔볼까', '베란다도 꾸미니까 예쁘더라', '베란다에 뭐 심어볼까', '베터리 15%야', '베터리 겨우 15%야', '베터리 충전기도 안 가져 왔네', '베트남 사업하기 좋을 것 같니', '베트남어 배우는 거 어떻게 생각해', '베트남어 배울까', '베트남에서 사업해볼까', '베프랑 다툼', '베프랑 싸움', '벨이 울리는 걸 기다려', '변기 막혔는데 아무 생각이 안 난다', '변기 막혔어', '변명거리 생각해봐', '변명거리가 생각이 안나', '변한게 없어', '변한게 하나도 없어', '변화가 없어', '변화를 좀 주고 싶다', '별 보러 가고 싶다', '별 보러 시골 가고 싶다', '별 사람이 많다', '별 일 없었어', '별거 아닌데 떨려', '별것도 아닌 거 가지고 트집잡는 사람 어떡해', '별님에게 물어 보렴', '별다른 게 없는 일상', '별다른 게 없어', '별다를 게 없는 하루', '별들에게 물어봐', '별의별 사람이 다 있는 듯', '별이 안 보여', '병무청 시계는 지금도 간다', '병원 가기 싫어', '병원 너무 가기 싫다', '보기만해도 짜증이 나지', '보너스 깎였어', '보드 타러 가야지', '보드게임 재밌다', '보름달 떴다', '보름달을 봤어', '보이스피싱 같아', '보이스피싱 같은데', '보이스피싱 당했어', '보이스피싱 전화왔어', '보이스피싱인듯', '보일러 틀고 나갔어ㅠㅠ', '보일러 틀어놓고 나왔어', '보조 배터리 안 가지고 왔다', '보조베터리 안 가져왔다', '보증금 마련하는 게 쉽지 않네', '보증금 모잘라', '보험 많이 든 거 같애', '보험 많이 들었어', '보험료 설계 다시 해야 하나', '보험료 재설계 해야 하나', '복 받겠지', '복근 만들어야지', '복근 좀 생겼으면', '복붙으로 끝내더라', '복수전공하고 싶어', '복전신청했어', '복전하고 싶어', '복전하면 좋아', '복전하면 힘들텐데 그래도 하는게 나을아', '복전했어', '볼링 치고 놀았어', '볼링 치고 옴', '봄날이 기대돼', '봄방학이다', '봄방학했어', '봄에 동물원 가는거 어때', '봄에 동물원 데이트 어때', '봄이 오긴 오나봐', '봄이 왔어', '봄이 왔으면 좋겠어', '봄이다', '봄인가봐', '봉사도 하고 사랑을 베풀고 싶어', '봉사활동 해볼까', '봉사활동도 좀 해야 하는데', '부담스러운 기대 좀 떨쳐낼 없을까', '부드러운 이불에서 나가기 싫어', '부모님 노후가 걱정돼', '부모님 말 안듣고 반항했어', '부모님 모실 수 있을까', '부모님 선물 추천', '부모님 선물 추천해줘', '부모님 선물은 뭐가 좋음', '부모님 선물은 뭐할까', '부모님이 같이 살자셔', '부모님이 내 꿈을 무시해', '부모님이 내 꿈을 반대해', '부모님이 선 보래', '부모님처럼 살고 싶다', '부모님한테 반항했어', '부산 갈까', '부산 놀러갈까', '부업할까', '부자 되게 해주세요', '부자 백수 하고 싶어', '부자로 태어 났으면 좋을 텐데', '부자친구 스트레스', '부케 누가 받지', '부케 뭐로 하지', '부케 어떤 꼿으로 하지', '부팅 시간 너무 오래 걸려', '분식 먹고 싶아', '분위기 있는 데서 데이트하고 싶어', '분위기 좋았는데 망', '분위기 좋았는데 망했다', '분위기 좋은 곳에서 데이트하고 싶어', '분통 터지지만 포기안한다고 말했네요', '불 날 뻔', '불 날 뻔했어', '불공평해', '불만을 입에 달고 다니는 사람 때문에 고민이야', '불만이 너무 많아', '불만족스러워', '불면증 온 거 같아', '불면증인가', '불면증인가봐', '불안해', '불편한 사이가 된 거 같아', '불효자는 웁니다', '뷔페 가고 싶어', '블랙데이인데 짜장면 같이 먹을 사람이 없어', '블랙박스 제대로 찍혔을까', '블랙박스로 보면 나올까', '블록체인이 뭐야', '블록체인이 왜 이렇게 시끄러워', '블루투스 이어폰 살까', '블루투스 이어폰 편하겠지', '비 맞아서 옷 젖었어', '비 오기 시작하네', '비 오네', '비 오는 날', '비 오는 날 데이트', '비 오는 날은 만나서 뭐할까', '비 오는데', '비 오는데', '비 온다', '비 와', '비가 와서 눅눅해', '비꼬는 사람', '비만 판정 받았어', '비밀 지켜줄까', '비밀 지킬 수 있을까', '비밀번호 기억안 나', '비밀번호 까먹었다', '비밀번호 뭐였더라', '비밀번호 자꾸 바꾸래', '비밀번호 자꾸 바꿔', '비밀연애 하고 있어', '비밀은 없는 거겠지', '비밀은 없어', '비밀이 너무 많은 거 같아', '비싼 명품 이제 그만 사야겠어', '비싼 선물 부담스럽나', '비싼게 맛있어', '비오는날 뭐할까', '비오는날 뭐해', '비오면 마중 나와 주는 사람 있어서 좋다', '비정규직 서럽다', '비정규직 차별', '비정규직은 사람도 아닌가', '비정규직이라 차별받아', '비타민 먹어야지', '비타민 사서 먹어야겠다', '비트코인 날림', '비트코인 망함 한강 가자', '비트코인 ㅜㅜ', '비행기 타러 간다', '비행기 타러 공항 간다', '비행기표가 너무 비싸', '비행기표가 왜이렇게 비싸', '빙빙 돌려서 말하지 말고 다이렉트로 말했으면', '빙수 맛있다', '빚 때문에 죽을 것 같아', '빚이 너무 많아', '빠떼리 나감', '빡빡한 일상', '빨래 끝', '빨래 다했다', '빨래했어', '빨리 걷다가 넘어질뻔', '빨리 정규직 하고 싶다', '빵 먹어야지', '빵 한 개만 먹어야지', '빵꾸난 양말 봤나', '빼빼로 만들어 주면 좋아할까', '빽 선물 받았어', '빽 선물 해도 될까', '뻔하다', '뻘짓 한 느낌 싫다', '뿌리 염색 다시 해야 되겠다', '뿌염해야지', '사과를 안해', '사과할 사람은 사과를 안해', '사귀고 싶어', '사내에서 비밀 연애 하고 있어', '사는 게 허무해요', '사는게 날 너무 지치게 해', '사다리타기 맨날 꽝이야', '사다리타기 맨날 운이 안 좋아', '사람 관리하는 게 제일 힘들어', '사람 만나는 거 너무 어려워', '사람 만나는 게 쉽지 않아', '사람 만나는 게 피곤해', '사람 많아서 기다려야할지도', '사람 사이에 있어도 외로워', '사람들은 왜 이렇게 날 힘들게 할까', '사람들은 왜 이렇게 신경쓸까', '사람들이 나 이상하대', '사람들이 나 좀 좋아해줬으면', '사람들이 날 너무 힘들게 한다', '사람에 치여', '사람은 많은데 외로워', '사람은 진짜 다른 가봐', '사람의 마음을 얻는게 어려워', '사람이 제일 무서워', '사랑니 나나봐', '사랑니 나는 거 아프다', '사랑니 나는 것 같아 아파', '사랑니 아파', '사랑한다고 말해줘', '사소한 걸로 트집잡는 사람 어떡해', '사수 좋아하는 거 같애', '사수가 깐깐하게 군다', '사수가 일을 너무 못하네', '사수님 너무 좋아', '사업 구상', '사업 구상하고 있어', '사업 시작해도 될까', '사업 해볼까', '사이코가 너무 많아', '사장이 월급을 안줘', '사전뜻이 이상해', '사전이 이상해', '사진 업로드해야겠다', '사진 예쁘게 찍고 싶다', '사진 올려야지', '사진 잘 찍고 싶어', '사진 정리 언제 다 하냐', '사진 정리가 안돼네', '사투리 귀여워', '사투리쓰는게 귀여워', '사표 낼까', '사표 던지고 나오고 싶어', '사회생활에서 인간 관계가 어려워', '사회에서 좋은 사람 만날 수 있을까', '사회에서도 좋은 사람 만날 수 있어', '사회에서도 좋은 사람 많이 만날 수 있을까', '산 넘어 산이네', '산다는건 뭘까', '살 게 없네', '살 때문에 교복이 잘 안들어가', '살 만한게 없네', '살 좀 빼고 싶다', '살 좀 빼야되는데', '살 쪄서 교복이 껴', '살만해', '살아서 좋은점', '살아야 하는 이유', '살이 안 쪄', '살이 안빠져', '살찐 거 같아', '삶에 지쳤어', '삼겹살 구워 먹고 싶다', '삼겹살 구워 먹어야지', '삼겹살 구워야지', '삼겹살 냄새', '삼겹살 냄새 다 벴어', '삼겹살 먹고 싶다', '삼겹살에 소주', '삼겹살에 소주 먹고 싶어', '상 받고 싶어', '상 받으면 좋겠지', '상 받을 거 같아', '상 좀 받아야 할텐데', '상관 없는 이야기만 해', '상사 너무 싫은데 좋아질 수 있을까', '상사가 갈궈', '상사가 미울 때', '상사가 미워', '상사가 진짜 미쳤다', '상사에게 안부 인사도 해야 돼', '상사한테 또 깨졌어', '상사한테 또 혼남', '상의도 안하고 왜 혼자 결정 하지', '상의도 없이 왜 그런 결정을 하지', '상처 안 받고 싶다', '상처 좀 안 받고 싶다', '상처받았어', '상황이 안 좋아', '상황이 최악이다', '새 신발 샀어', '새 신발 선물 받았다', '새 옷 샀다', '새 운동화 사야지', '새 이불 덮었어', '새 집 가기로 했어', '새 집 샀어', '새 집으로 이사 가기로 했어', '새 휴대폰이 갖고 싶어', '새로운 게임 없나', '새로운 곳에 적응을 못해', '새로운 공부 시작해도 될까', '새로운 마음으로', '새로운 마음으로 시작', '새로운 베프가 필요해', '새로운 베프를 만들고 싶어', '새로운 사람 만나는 게 스트레스야', '새로운 사랑이 찾아올까', '새로운 일 벌려도 될까', '새로운 일 해도 될까', '새벽 감성', '새벽되니까 감성적으로 되네', '새신발 샀는데 비와', '새신발 신고 놀러 가야지', '새신발 신고 좋은 곳 가야지', '새신발 신었는데 비와', '새이불 뽀송뽀송', '새치가 왜 이렇게 많을까', '새치가 왜 이렇게 많이 나지', '새폰 케이스로 새옷 입혀 줄까', '새학기 준비 좀 해볼까', '새학기 준비해야지', '새학기 필기구 좀 사야지', '새학기 학용품 사야지', '새해 복 많이 받아', '새해다', '샌드위치 먹고 싶어', '샌드위치 생각 나', '샐러드 먹어야지', '생각 안나', '생각 없이 말했어', '생각만 해도 땀나네', '생각만 해도 마음이 무거워', '생각만해도 좋아', '생각보다 오늘 너무 춥네', '생각없이 말했어', '생각없이 상처줬어', '생각이 불순', '생각이 불순해져', '생각이 전혀 안나', '생각한 데로 안돼서 고민이다', '생각할 수 있어', '생각할 시간 조차 없어', '생각할 시간도 없는 느낌', '생각할수록 머리 아파', '생각해주는 척만 한거였어', '생각해주는 척하더니 더한 사람이었어', '생강차 끓여 먹어야겠다', '생강차 먹어야겠다', '생리통 너무 심해', '생리통 때문에 배 아파', '생리통 심해', '생판 모르는 사람이 아는척해', '생활비 다 썼네', '샤워가운 완전 유용해', '샤워가운 있으니까 좋다', '샤워하는데 밖에서 소리나서 쫄았어', '샤워하는데 창문 밖에서 소리나서 개쫄음', '서류도 안돼', '서류에서 떨어졌어', '서류에서 떨어지다니', '서비스센터 가야겠네', '서비스센터 가야하게 생겼네', '서울 근교 데이트 추천해줘', '서울 근교에서 갈만한 곳 추천', '서점 왔어', '서점에 들렀어', '서핑 출발', '서핑하러 가고 싶다', '서핑하러 가야지', '선 들어왔어', '선 많이 볼거 같아', '선 볼까', '선물 주세요', '선물로 인형 받았어', '선물받고 싶어', '선배가 선배같지 않아', '선배가 이상해', '선생님 좋아해', '선생님이 나만 뭐라고 해', '선생님이 나만 미워해', '선생님이 나한테 왜 그럴까', '선생님이 좋아', '선생님이 차별하는 것 같아', '선생님이 친구랑 차별해', '선생님한테 선물 줘야 된대', '선생님한테 선물한대', '선이 많이 들어오네', '선자리 들어왔어', '선택 장애 같아', '선택 장애 있는 거 같아', '선택이 어려워', '선풍기 틀어도 더워', '선풍기 틀어도 더워', '선풍기가 있어도 소용 없어', '선풍기만으로 안 되는 더위', '설날인데 볼 게 없어', '설날인데 재밌는거 안해', '설명 좀 해봐', '섬유유연제 향 좋다', '섬유유연제 향 좋은거 사야겠지', '성격이 안 맞나봐', '성격이 완전 반대야', '성격이 점점 날카로워져', '성공하고 싶다', '성공하면 계속 좋을 줄 알았는데', '성공하면 끝일줄 알았는데', '성공할 수 있을까', '성공할 수 있을까', '성덕 되고 싶다', '성덕 되면 내 마음도 편해 지겠지', '성적 좀 좋았으면', '성적표 보시면 화내실텐데', '성형 견적 받아볼까', '성형 무서워', '성형 상담 받아 볼까', '성형 안해도 예쁜데', '성형 해도 될까', '성형할까', '세금 너무 많아', '세금 너무 많이 내는 거 같애', '세뱃돈 받았어 호호', '세뱃돈 받음', '세상엔 힘든 게 많다', '세상은 불공평해', '세상이 너무 무서워', '세상이 무서워', '세탁기 돌리는 중', '세탁소 가기 귀찮네', '세탁소 가기도 귀찮네', '셀카 잘 찍고 싶다', '셀카 잘 찍는 방법', '셀카 잘 찍어서 올리고 싶다', '셀카 좀 잘 찍고 싶다', '셀카만 계속 찍어', '셀프 신행준비 팁 알려줘', '셀프웨딩 어떨꺼 같아', '셀프웨딩 해볼까', '셀프웨딩 힘든만큼 보람될까', '셀프웨딩 힘들겠지', '셀프웨딩이 유행이래', '셀프인테리어 해볼까', '소개받았는데 카톡으로 연락 중', '소개받은 사람이랑 카톡으로 연락 중', '소개팅 시켜줘', '소개팅 하고싶다', '소개팅 해주고 욕먹음', '소개팅남 연락이 없어', '소개팅도 안 들어와', '소개팅으로 잘되기도 하나', '소개팅으로 잘된 사람도 있나', '소개팅이 왜 안 들어올까', '소개팅하고 연락이 안 와', '소개팅한다', '소개해 준다는 사람도 없어', '소나기 내려', '소리지르고 싶어', '소문 날까봐 무서워', '소문이 안 좋아', '소액결제 엄청 나왔어', '소오름 쫙', '소원 뭐 말하지', '소원하는 대로 이루어졌으면', '소통이 안돼', '소화가 안돼', '소화시켜야 하는데 움직이기가 싫어', '소화제 먹어야 겠다', '소화제 먹어야겠다', '속상해', '속았나', '속이 계속 안 좋아', '속이 안 좋아', '속이 안 좋아', '속이 영 안 좋아', '속이는 거 더 못하겠어', '속이는 거 더 이상 못하겠어', '손 베였어', '손 시려', '손 얼것 같음', '손 얼겠다', '손 잡았어', '손가락이 가늘고 긴 사람', '손가락이 예쁜 사람', '손님 싫어', '손님 오는 거 싫어', '손목 아파', '손목 아프다구', '손발이 차가워', '손수건 가지고 다닐걸', '손수건 안 가지고 나왔어', '손이랑 발이 차가워', '손톱 정리 좀 할까', '손톱이 길어', '손톱이 너무 길어', '손톱이나 깎아야지', '손톱이나 짧게 깎아야지', '쇼핑 좀 해볼까', '쇼핑 중독인가봐', '쇼핑이나 할까', '쇼핑하고 싶다', '쇼핑했더니 힘드네', '숏컷 해볼까', '숏컷트 어울릴까', '수강신청 망했어', '수강신청 폭망', '수건 썩었어', '수건에서 냄새나', '수능 떨린다', '수능 어떻게해', '수능 잘 보는 방법', '수능시험에서 좋은 점수 받는 방법', '수도가 얼었나 물이 안나와', '수도가 얼었나봐', '수면양말 겁나 따뜻', '수면양말 포근포근 따뜻하다', '수박 맛있어', '수박 먹어야지', '수분크림 듬뿍 바르고 자야겠다', '수분크림 바르고 자면 나아질거야', '수상한 느낌이 든다', '수업시간 내내 잤어', '수업시간 내내 잤어', '수염 기르고 싶다', '수염 기를까', '수염 길러볼까', '수염 미는 게 낫겠지', '수염 자르는 게 낫겠지', '수염 자르지 말까', '수영 막 잘하고 싶다', '수영 배울까', '수영 잘하고 싶어', '수영장 같이 가려고 해', '수영하러 다닐까', '수제 빼빼로 어때', '수족냉증이야', '수줍게 웃는게 귀여웠어', '수줍게 웃어주던 너', '수학여행가는데 옷 뭐입을까', '수학여행가는데 입을 게 없어', '수학여행때 뭐 입지', '숙제 까먹었다', '숙제 산더미', '숙제 안 한 듯', '숙제가 쌓여가', '숙취 때문에 지끈거려', '숙취 장난 아니야', '순간의 화를 못 참겠어', '술 고프다', '술 끊을거야', '술 땡겨', '술 마셔도 안 취해', '술 마시고 망가질테닷', '술 마시고 싶다', '술 마시고 싶다', '술 마시러 가고 싶다', '술 많이 마셔야지', '술 먹고 싶어', '술 먹고 지갑 잃어버렸어', '술 먹고 카드 긁었어', '술 먹고 카드 너무 긁었어', '술 먹고 필름 끊겼어', '술 먹는 거 말고 친구랑 뭐하지', '술 먹으러 갔는데 연락이 안돼', '술 먹으면 연락이 안돼', '술 먹을 줄 알아', '술 안 먹으면 친구랑 뭐하지', '술 잘 먹는다고 이야기해도 될까', '술 잘하니', '술 좀 그만 마셔야지', '술 좀 마실까', '술 취해서 지갑 잃어버렸어', '술 한잔만 마셔도 어지러워', '술만 먹으면 전화를 안 받아', '술만 먹으면 집에 늦게 와', '술먹고 필름 끊겼어', '술을 너무 못 마셔', '술이나 마시고 싶다', '쉬고 싶다', '쉬고 싶은데 회식 가야돼', '쉬는 날에는 쉬고 싶다', '쉬는 중입니다', '쉬마려', '쉬운 게 없네', '쉬운 게 하나도 없네', '쉬운 게 하나도 없는 듯', '쉽게 상처받는 거 같아', '슈퍼문이라더니 예쁘다', '슈퍼문이야', '스노우보드 배우러 갈거댜', '스노클링 재미있을까', '스노클링 해볼까', '스케일링 하기 귀찮아', '스케일링 하러 가야지', '스쿼트 하면 무릎에 안좋겠지', '스키 강습 받아야 될까', '스키 배워보고 싶다', '스키 안 타봤어', '스키 처음 타 봐', '스키 처음 타는데 강습 받아야 되나', '스키 첨 타 봤어', '스키장 간다', '스키장 알바 재밌대', '스키장 알바 하면 재밌을 듯', '스킨 떨어졌다', '스킨 없다', '스타벅스 가봤어', '스타벅스 같은데 가봤어', '스타트업에 가도 될까', '스타트업에 취직해도 될까', '스타트업에 투자하는거 어때', '스타트업에 투자해볼까', '스타트업하면 위험할까', '스터디 카페 왔어', '스터디 카페 좋다', '스테끼 먹은거 몇 년 만이냐', '스테이크 먹고 싶어', '스테이크 먹으러 가고 싶어', '스테이크 썰고 싶다', '스테이크 썰러 가고 싶어', '스트레스 만땅', '스트레스 받는 데 어떻게 하면 좋을까', '스트레스 받아', '스트레스 받아', '스트레스 주는 사람 어떻게 하지', '스트레스 주는 사람이 있어', '스트레스 참기 어렵다', '스트레스 팍팍', '스트레스 푸는 방법', '스트레스~', '스트레스가 안 풀려', '스트레스를 가족한테 풀어', '스트레칭 해야되는데', '스트레칭해야지', '스팸 갑자기 왜케 많이 와', '스팸 메일 갑자기 많이 와', '스팸 문자 계속 와', '스팸 문자까지 오네', '스팸 전화 많이 와', '습관 고치는 거 너무 어려워', '습관 못 고치겠어', '습관을 고치기 어려워', '습관이 안 고쳐져', '시각한데 웃겨', '시간 버렸다', '시간 아까워', '시간 왤케 빨리감', '시간 잘 간다', '시간 잘 떼우는 방법', '시간 진짜 빨리감', '시간이 너무 빨리 가', '시간이 너무 안 가 지루해', '시간이 안 가', '시간이 휘리릭', '시간표 개판', '시간표 망함', '시간표 망했다', '시간표 잘못짰다', '시간표대로 움직여', '시계 소리 짱 커', '시계 소리가 거슬려', '시계가 멈춘거 같아', '시계줄 다른 색으로 바꿔야지', '시계줄 바꿔야지', '시계침 소리가 크게 들리네', '시곗바늘 소리가 너무 크게 들려', '시골 내려가서 살까', '시골에서 사는 거 어떨까', '시급 얼마 받니', '시누 좀 이상한 듯', '시누이가 이상해', '시베리아 같아 추워', '시선이 자꾸 느껴져', '시어머니가 나만 미워하는 것 같아', '시어머니가 질투하는 것 같아', '시어머니가 질투해', '시어머니가 차별해', '시어머니될 사람이 진짜 이상해', '시원한 냉면 먹고 싶어', '시트지로 리폼해야겠다', '시트지로 붙여야겠다', '시험 공부 언제 다함', '시험 공부 큰일', '시험 기간인데 집중이 안돼', '시험 끝나고 만나고 싶어', '시험 끝나고 우리 만나자', '시험 보기 전날', '시험 보지 말까', '시험 성적 가져가면 혼날텐데', '시험 없어졌으면 좋겠다', '시험 없어지면 좋겠다', '시험 왜 안 없어지지', '시험 준비 빨리 끝났으면', '시험 준비 언제 끝나', '시험 지겨워', '시험을 꼭 봐야하나 도망가고 싶다', '시험인데 집중 안돼', '식당이나 하나 내볼까', '식비가 너무 많이 나와', '식비가 어마무시하다', '식욕이 없어', '식욕폭발', '식욕폭발해서 폭풍 먹방 찍었어', '신경 쓰여', '신경이 바늘 끝 같아', '신기한 일들이 많이 일어나', '신기해', '신뢰 회복할 수 있을까', '신뢰에 금 간 거 같은데 회복할 수 있을까', '신발 새로 샀다', '신발 선물 받았어', '신용카드 다 없애야겠어', '신입이 벌써 치고 올라온다', '신행준비 혼자 할 수 있을까', '신혼여행 가서 돌아오기 싫다', '신혼여행 길게 가고 싶다', '신혼여행 한달쯤 가고 싶다', '신혼집 꾸미고 싶어', '신혼집 인테리어 어떻게 하지', '실내 데이트 어디가 좋을까', '실내 데이트 추천', '실망 안시키면 좋겠다', '실망하지 않았으면 좋겠다', '실비 드는게 좋을까', '실비 들까', '실수한거 같아', '실수했다', '실험실 더러워', '실험실이 너무 더러워', '심부름 간다', '심부름 다녀올게', '심술나', '심심아 심심하다', '심심하다', '심심하다고', '심심한데 뭐 재미있는거 없을까', '심심한데 뭐하면 좋을까', '심심한데 뭐하지', '심심해', '심심해요', '심증은 있는데 물증이 없네', '십년감수했어', '싱크대 리폼할거야', '싸게 팔길래 샀어', '싸우면 안되는데', '싸우면 연락 안 받는 사람 어떻게 해', '싸우면 연락이 안돼', '싸우면 자꾸 잠수를 탄다 답답해', '싸우면 잠수타는 사람', '싸운 이유도 기억 안나', '싸움을 피하는 방법', '싸웠는데 화해 어떻게 하지', '싸웠을 때 어떻게 해', '쌍커풀 해볼까', '쌍커풀성형할까', '쌤이 나만 뭐라 해', '썸 중인거 이야기할까', '썸타는거 친구한테 이야기 한고 싶다', '쓰던 앱이 유료로 전환됐어', '쓰레기 언제 비워', '쓰레기기는 또 언제 치워', '쓸데 없는 걱정 1위 연예인 걱정', '쓸데없는 일 하는중', '쓸모 없게 느껴져', '쓸쓸하다', '씻고 자야 되는데', '씻고 자야지', '씻기 싫어', '씻기도 귀찮다', '아 놔 생리통', '아 놔 왜 사냐', '아 땀난다', '아 몰라 자야겠다', '아 스트레스 받아', '아 잇몸 시려', '아 진짜 아쉽다', '아기 키우는거 너무 어려울 것 같아', '아기 키울 수 있을까', '아날로그 감성 좋다', '아날로그 감성 카메라 샀어', '아날로그가 좋아', '아놔 동생이 약점 잡고 늘어지네', '아놔 왜 이러지', '아놔 코 막혀', '아는데 모른척하나', '아닌 척 하면서 나 싫어해', '아메리카노 한 잔', '아무 것도 하기 싫어', '아무 데도 안 나가고 집에 있고 싶다', '아무 생각 없이 놀고 먹고 싶어', '아무 생각 없이 쉬고 싶다', '아무 생각이 안든다', '아무것도 안하고 집에서 뒹굴거리고 싶어', '아무것도 하고 싶지 않으면서 아무거나 하고 싶어', '아무것도 하기가 싫어', '아무도 모르게 있고 싶어', '아무도 안 놀아줘', '아무도 없어', '아무래도 속은 거 같아', '아무래도 우울증 걸린 거 같아', '아무래도 전공을 잘못 골랐나봐', '아무래도 탈모왔나봐', '아무리 열심히 해도 선천적인 건 못 따라가겠지', '아무리 열심히 해도 타고난 사람은 못 따라가겠지', '아무리 해도 안돼', '아무말이나 막했어', '아부 잘 하는 사람 부러워', '아부 잘 하는 사람 부럽기도 해', '아부도 기술인가봐', '아부쟁이가 부러워', '아빠 술 좀 끊으라고 해줘', '아빠가 담배 그만 피웠으면', '아빠가 담배 끊었으면 좋겠어', '아빠가 술 너무 많이 먹어', '아빠가 술 좀 그만 먹었으면', '아빠가 술 좀 끊었으면', '아쉬움만 남아', '아예 모르는 것도 아니고 얼굴만 아는 민망한 사이가 있어', '아예 일찍 출근하면 되겠지', '아예 일찍 출근해야지', '아울렛 가서 쇼핑하고 옴', '아울렛 쇼핑 재밌다', '아이고 소리가 절로 나온다', '아이고 의미 없다', '아이고 추워라', '아이공 허리 아파라', '아이돌 너무 좋아', '아이돌 오빠들 좋아', '아이돌이 남친이면 좋을텐데', '아이돌이 여친이면 좋겠다', '아이디 생각 안나', '아이라이너 그리기 귀찮은데 문신할까', '아이라이너 문신 해볼까', '아이스크림 너무 비싸', '아이스크림이 오랜만에 사먹는데 너무 비싸', '아주 잊기로 독하게 마음 먹고 신나게 놀고 있습니다', '아직 결정 못 내렸어', '아직 노후 준비는 이르지', '아직 많이 부족한가', '아직 장난인 것 같아', '아직도 공부할 게 많아', '아직도 모르는게 너무 많은 것같아', '아직도 안 끝났어', '아침 꼭꼭 먹어야지', '아침 먹었니', '아침 먹었더니 든든하네', '아침 안 먹는데 자꾸 먹으라고 그래', '아침 일찍 일어나 조깅하고 있어', '아침 챙겨 먹어야지', '아침밥 먹을 시간 없어서 굶었더니 배고파', '아침밥 못 먹었더니 배고파', '아침부터 피곤해', '아침에 들을 노래 뭐가 좋을까', '아침에 들을 노래 추천해줘', '아침에 일어나는 거 힘들다', '아침에 일어나면 물 한 잔 마시기', '아침에 일어나서 뭔가 해보려고', '아침에 일어났다가 또 잤어', '아침에 일찍 일어나서 뭔가 해야겠어', '아파', '아파서 어떡해', '아파트 사고 싶다', '아파트로 이사 가고 싶다', '아파트에서 살고 싶다', '아프면 안 되는데', '악몽 꿨어', '안 끝나', '안 데려다 줬어', '안 싸우는 법', '안경 말고 렌즈 껴야겠어', '안경 바꿔야지', '안경 벗고 완전 훈녀', '안경 벗었는데 완전 훈남', '안경 벗었는데 차이가 없어ㅋㅋ', '안경 벗으니까 완전 예뻤어', '안경 벗으니까 훈훈하더라', '안경 벗으면 나으려나', '안경 빼니까 다른 사람', '안경 빼니까 예뻐보여', '안경 안 어울리는 거 같아', '안경 안꼈는데 아무도 몰라', '안경테 뭐로 바꿀까', '안경테 바꾸면 인상이 바뀔까', '안경테 바꿀까봐', '안경테 바꿔야되는데', '안나가고 뒹굴거리고 싶어', '안녕', '안녕안녕', '안녕하세요', '안뇽', '안될거 같아', '안부 인사까지 해야 돼', '안주 뭐 먹을까', '안주 추천 좀', '안친한데 연락해도 될까', '알뜰폰 괜찮을까', '알뜰폰 샀어', '알뜰폰 어때', '알뜰폰으로 바꿨어', '알바 같이 하는 사람 좋아', '알바 구해볼까', '알바 생각보다 힘들다', '알바 집 알바 집 이게 뭐냐', '알바 하나 더 구해야겠어', '알바구함', '알바만 하고 살고 있어', '알바하고 싶어', '알바하기 힘들다', '알바하는데 같이 일하는 사람 좋아져', '알아들은 척했는데 모르겠어', '앞머리 길러볼까', '앞머리 내릴까', '앞머리 내릴까봐', '앞머리 다시 길러볼까', '앞머리 떡졌어', '앞머리 만들까', '앞으로 나가지 않고 이렇게만 살고싶어', '앞으로 뭐 해먹고 사냐', '앞으로 뭐하고 살지', '앞으로 어떻게 살지', '앞으로 조심해야겠다', '애기가 밥을 너무 안 먹어', '애기가 밥을 안 먹어', '애들 총회 가야겠죠', '애들 총회에 왜 나를 오라고 하냐', '애를 나혼자 키우는 것 같아', '애매한 관계', '애버랜드 가고 싶어', '애완동물 키우고 싶어', '애완동물 키우고 싶은데 아빠가 못 키우게 해', '애완동물 키우고 싶은데 아빠가 키우지 말래', '액정 나갔어', '야', '야경 보고 싶다', '야경 보러 가고 싶다', '야구장 고고', '야구장이나 갈까', '야근 좀 그만하고 싶어', '야근각', '야근할 줄 모르고 약속 잡았어', '야식 먹고 싶어엉엉', '야식 먹고 싶은데 살 찔 거 같아', '야식 먹을까 말까', '야외에서 먹으니까 더 맛있어', '약 기운에 졸음이 몰려왔어', '약 먹고 나아야지', '약 먹었더니 졸려', '약 챙겨 먹어야지', '약속 있는데 야근이네', '약초 캐볼까', '양말 구멍 난거 지금 봄', '양말 구멍 났다', '양말에 빵꾸난 거 봤나', '양배추즙 맛없어', '양배추즙 최악', '양심에 찔려', '양심이 콕콕', '양초 선물 받았어', '양키캔들 선물받았어', '얘는 싸우기만 하면 연락이 안돼', '어둠아 끝나라', '어둠에서 나와야 할 듯', '어둠의끝', '어디서 맛난 냄새가 나는데', '어디서 피해자 코스프레임', '어디서부터 잘못된 걸까', '어딘가 떠나고 싶다', '어떤 사람이랑 결혼해야할까', '어떤 영화 볼까', '어떻게 벌어 먹고 살지', '어떻게 서류에서부터 계속 떨어져', '어떻게 하면 나를 좋아하게 만들지', '어떻게 하면 좋을까', '어떻게 하면 호감형이 될까', '어떻게 화해하지', '어떻게해 늦잠 잤어', '어려 보이고 싶어', '어려지고 싶어', '어렸을 때 공부 좀 할 걸', '어렸을때 공부할껄', '어렸을때는 공부하기 싫었는데 지금은 하고 싶네', '어렸을때는 비슷했던 거 같은데', '어렸을때로 돌아가고 싶어', '어른이 된다는 건 뭘까', '어른이 된다는 것', '어린 시절로 돌아가고 싶어', '어린이집 방학이래', '어린이집 입학식 가야겠지', '어린이집 입학식 꼭 참석해야하나', '어머', '어머나', '어색한게 얼굴에 티 나', '어이가 없네', '어이가 없어서', '어이상실', '어이없어', '어제 밤 샜어', '어제 술마시고 나서 기억 안나', '언니가 있으면 뭐가 좋아', '언니랑 다퉜어', '언니랑 전쟁 중', '언제 다 고쳐', '언제쯤 예쁘게 화장 잘할까', '언젠가 자기 복제가 될까', '언젠가는 나를 좋아해 주는 사람 있겠지', '얼굴 너무 까매졌어', '얼굴 너무 탔다', '얼굴 보니까 떨리더라', '얼굴 엄청 작은 거 부러워', '얼굴 작은 거 부러워', '얼굴 평가해 달래', '얼굴만 아는 민망한 사이가 있어', '얼굴은 내 스타일 아닌데 점점 좋아지는 거 같아', '얼른 아아야 할텐데', '얼마나 행복해질려고 이렇게 힘들지', '얼마전 재회했는데', '얼어 죽는 줄', '얼어죽는 줄 알았어', '얼집 방학이래', '얼평해달라는 사람 어떻게 생각해', '엄마 기대 때문에 부담돼', '엄마 말씀 안 들은거 후회돼', '엄마 말씀 잘 들을걸', '엄마 미안해', '엄마 밥 먹고 싶다', '엄마 밥 생각나', '엄마 보고 싶다', '엄마 생각난다', '엄마 힘들게 했어', '엄마가 나 때문에 힘든 거 같아', '엄마가 나만 시켜', '엄마가 나한테 기대가 너무 큰 거 같아서 부담스러워', '엄마가 내 방에 막 들어와', '엄마가 동생이랑 차별해', '엄마가 동생한테만 잘해줘', '엄마가 선 보라고 하시는데', '엄마가 안 왔으면 좋겠어', '엄마가 언니랑 나랑 차별해', '엄마가 언니랑 차별해', '엄마가 자꾸 나만 시켜', '엄마는 뭐하나', '엄마라고 자식방에 막 들어오면 안돼지', '엄마랑 둘이 여행가', '엄마랑 싸웠어', '엄마랑 아빠처럼 살고 싶다', '엄마랑 여행 안 가봤는데', '엄마아빠 노후가 걱정돼', '엄마아빠 보고 싶다', '엄마아빠랑 다시 같이 살아야돼', '엄마한테 또 화냈어', '엄마한테 막말했어', '엄마한테 미안해', '엄마한테 손 좀 벌려야겠다', '엄마한테 혼났어', '엄청 오래 만났어', '업데이트가 너무 오래 걸려', '업데이트가 엄청 느려', '업무 끝내고 집 갈 수 있을까', '업무 스트레스 넘 심해', '업무 지적 또 받음', '업무 지적을 너무 많이 받아', '업무가 쌓여있어', '엇갈리는 느낌 싫다', '엇갈리지 않았으면 좋겠다', '에어 후라이어 사고 싶다', '에이 짱나', '에이씨', '엠티 꼭 가야해', '엠티 안 가도 돼지', '여기 있으니까 좋다', '여기 좋아', '여기까지가 한계야', '여기까지가 한계인 거같아', '여드름 났어', '여드름 때매 스트레스받아', '여드름 손으로 짰어', '여드름 짰어', '여드름 피부 화장으로 가릴까', '여르름 또났어', '여름 끝났으면', '여름 빨리 지나갔으면', '여름 휴가 어디가 좋을까', '여름 휴가 어디가지', '여름에는 냉면만한게 없는 듯', '여름에는 냉면이지', '여름인데 태닝할까', '여우같은 사람 진짜 싫어', '여우같은 애한테 당했어', '여우같은 짓하는 사람 싫어', '여우한테 당했어', '여유가 너무 없어', '여유롭게 살고 싶어', '여자 어디서 만나', '여자 친구랑 연락이 안돼', '여자로 태어 났으면 어땠을까', '여자야 남자야', '여자예요 남자예요', '여자친구가 교환학생 간대', '여자친구가 교환학생 다녀온대', '여자친구가 남의 눈을 너무 신경써', '여자친구가 너무 예뻐', '여자친구가 맨날 욕해', '여자친구가 왜 화났는지 모르겠어', '여자친구가 욕했어', '여자친구가 자꾸 질리게 한다', '여자친구가 전화를 안해', '여자친구가 전화하는 걸 안 좋아해', '여자친구가 혼자 여행 가보고 싶다는데', '여자친구가 혼자 여행 간다는게 화나', '여자친구랑 전화 안 받네', '여자친구랑 종교 때문에 다툼', '여자친구랑 종교가 달라', '여자친구한테 질린 듯', '여자해보고 싶어', '여친 데려다 주고 막차 놓침', '여친 진짜 예쁘다', '여친이 맨날 욕해', '여친이 셀카 너무 많이 찍어', '여친이 화난 이유를 아직도 모르겠어', '여행 가고 싶은데 시간이 없어', '여행 가야지', '여행 계획 세워야지', '여행 어디가지', '여행가고 싶다', '여행갈 시간도 없다', '여행지 추천', '역류성 식도염 온 거 같아', '역류성 식도염이 또 도졌어', '역시 나는 천재야', '역시 이불밖은 위험해', '연금 믿어도 될까', '연금 받을 수 있을까', '연락 또 해도 되겠지', '연락 많이 해도 되겠지', '연락 안 하던 친구한테 연락해도 되나', '연락 안오면 걱정돼', '연락 안오면 어쩌나 걱정되네', '연락 안해서 미안해', '연락 어떻게 시작함', '연락 없더니 갑자기 왜 만나자고 하지', '연락 좀 빨리 하지', '연락 좀 빨리빨리 했으면 좋겠다', '연락 좀 안 왔으면 좋겠어', '연락 처음에 어떻게 시작함', '연락 하지 말라고', '연락이 너무 안돼', '연락이 될까', '연락이 될지 모르겠네', '연락하는 게 어색해', '연락하는 게 익숙하지가 않아', '연봉대비 근무시간이 너무 긴 거 같애', '연상이 좋아', '연애 갱년긴가', '연애 상담 가능', '연애 상담 해줄래', '연애 위기인 거 같아', '연애 하고 싶어', '연애는 도대체 어떻게 하는거야', '연애는 어떻게 하는 거야', '연애하고 나만 살 쪘나봐', '연애했더니 살찐 듯', '연예인 걱정이 제일 쓸데 없어', '연예인 되고 싶어', '연예인 되는 방법', '연예인 되면 피곤하겠지', '연예인도 힘든게 있겠지', '연예인도 힘들겠다', '연예인도 힘들겠지', '연일 최고 몸무게 갱신하네', '열나고 아파', '열쇠 두고 왔다', '열쇠 안가지고 왔다', '열심히 공부해야지', '열심히 한 거 같은데', '열심히 한 거 같은데 결과가 왜 이러지', '열심히 한 거 같은데 망', '염색이나 해야지', '염색하는게 좋을까', '염색해볼까', '엿같다', '엿같은 상황', '영양제 뭐가 좋아', '영양제 좀 먹을까', '영양제 챙겨 먹을 나이가 됐어', '영어 잘 했으면', '영어 잘 했으면 좋겠다', '영어학원 다녀볼까', '영어학원 좀 다닐까', '영화 보러 왔어', '영화 추천', '영화가 재미 없어', '영화관 알바 하고 싶다', '영화관 알바하면 좋겠다', '영화관 혼자 왔어', '영화보고 왔다', '영화봤는데 재미 없어', '옆에 있는 사람이 중요해', '옆에 있는 사람한테 너무 소홀했던거 같아', '예능 볼 게 없다', '예능도 이제 재미없어', '예비 시어머니가 이상해', '예쁘다고 말해줘', '예쁜 카페 찾아가 볼까', '예의 차리래 지는', '예전 게임인데 재밌다', '예전에는 비슷했는데', '옛여자친구가 준 편지 못 버리겠어', '오 좀 멋있는데', '오늘 괜히 기분 꿀꿀해', '오늘 그냥 쉬고 싶다', '오늘 기분 좋아', '오늘 기분은 설명이 안돼', '오늘 기분을 뭐라고 해야하나', '오늘 길 너무 막히더라', '오늘 길 많이 막히더라', '오늘 까먹고 아무 것도 안 가져 왔다', '오늘 나 좀 잘생겨 보인다', '오늘 날씨 좋아서 놀러가고 싶어', '오늘 날씨 죽인다', '오늘 날이 좋아', '오늘 너무 졸려', '오늘 너무 피곤해', '오늘 너무 힘들다', '오늘 또 늦잠잤어', '오늘 또 하루 살았네', '오늘 라면 먹고 싶어', '오늘 라면 먹어야지', '오늘 머리 안 감았는데', '오늘 못 만났어', '오늘 무슨 날인가', '오늘 물 진짜 조금 마셨다', '오늘 뭐 입지', '오늘 뭐 재미있는거 하는 날인가', '오늘 미세먼지 어때', '오늘 보름달이다', '오늘 보름달이야', '오늘 상 받았다', '오늘 생각보다 춥네', '오늘 아무 것도 안 가져 왔다', '오늘 야근인가', '오늘 왤케 추워', '오늘 운이 꽝이다', '오늘 운이 안 좋았어', '오늘 유난히 지하철에 자리가 없어', '오늘 일도 안 했는데 엄청 피곤해', '오늘 저녁 뭐 먹을까', '오늘 저녁은', '오늘 점심 뭐 먹을까', '오늘 점심은', '오늘 좀 건조한 거 같애', '오늘 좀 바쁘네', '오늘 지각인듯 뭐라 그러지', '오늘 처리할 일 너무 많아', '오늘 처리할 일이 쌓인다', '오늘 첫 출근이야', '오늘 초미세먼지도 심하대', '오늘 치마랑 바지 뭐 입지', '오늘 침대밖으로 안 나가야지', '오늘 팩 하고 자야지', '오늘 하루도 이렇게 마무리', '오늘 햇볕 좋다', '오늘 화장 떴어', '오늘 화장이 안 먹어', '오늘 회식 안하나', '오늘나 어제이나 똑같아', '오늘도 공기가 뿌얘', '오늘도 그냥 그냥', '오늘도 그냥 그냥 다갔네', '오늘도 꾸준히 회사 가시 싫다', '오늘도 끝', '오늘도 날씨가 뿌얘', '오늘도 또 이렇게 가는구나', '오늘도 어제랑 똑같아', '오늘도 퇴근길 엄청 막히네', '오늘도 평온해', '오늘도 힘차게 시작', '오늘따라 너무 힘들게 한다', '오늘따라 엄마 보고 싶어', '오늘은 결재 받아야지', '오늘은 결재가 나야 할텐데', '오늘은 교회 안가면 안될까', '오늘은 내가 기분이가 좋아', '오늘은 또 뭐 입냐', '오늘은 또 뭘 먹나', '오늘은 또 어떻게 버티지', '오늘은 뭐 먹을까', '오늘은 별도 안 보이네', '오늘은 샐러드만 먹어야지', '오늘은 쉬고 싶다', '오늘은 진짜 대청소 한다', '오늘은 집에 있고 싶어', '오늘은 치맥이야', '오늘은 파도가 잔잔하네', '오늘은 학교 가고 싶지 않아', '오늘이 천일이네', '오디션 나가볼까', '오디션 도전해볼까', '오래 살고 싶다', '오래 살고 싶어', '오래 살아야 할텐데', '오래 살아야할텐데', '오래된 게 좋겠지', '오래된 게 좋은 것도 있지', '오랜 시간을 함께해도 이해하지 못하겠어', '오랜만에 떨려서 좋았는데', '오랜만에 보니까 떨리더라', '오랜만에 서점에 갔었어', '오랜만에 쇼핑', '오랜만에 스테끼 먹고 싶어', '오랜만에 아침 먹었어', '오로라 보러 가고 싶다', '오로라 보러 여행 가고 싶다', '오싹한 이야기 해줄까', '오지마', '오토바이 사고 싶어', '오토바이 위험하겠지', '오토바이 있었으면 좋겠다', '오토바이 타고 싶다', '오토바이 타고 싶은데 무서워', '오토바이 타러 가고 싶다', '오후되면 얼굴에 개기름 껴', '옥상에 뭐 좀 심어볼까', '온다고 했는데 왜 안 오지', '올해 계속 안 좋네', '올해 왜 이러지', '올해 왜 이러지', '올해 왜 이러지', '올해 왜 이렇게 엉망이지', '올해 이상해', '올해도 건강하길', '옷 걸 데가 없어', '옷 사 줘', '옷 좀 사줘', '옷은 많은데 입을 게 없어', '옷이 다 젖었어', '옷장이 점점 줄어들어', '와 소름 돋아', '와 체육대회다', '와인 마실까', '와인 콜', '와인 한 잔 할까', '와인 한잔 짠~', '와플 기계 사고 싶다', '와플 기계사서 집에서 만들어 먹고 싶다', '와플 먹고 싶어', '완벽하게 좀 하고 싶다', '완벽한 사람이 되고 싶어', '완벽해지고 싶어', '완벽해지는 방법', '완전 계탄 느낌', '완전 복붙으로 잘하더라고', '완전 시간 아까워', '완전 재미 없거든', '완전 좌절이다', '왕따된 거 같아', '왕따인가 봄', '왕만두 맛있는데', '왜 갑자기 연락했을까', '왜 계속 한숨 나오지', '왜 공부해야하는지 모르겠어', '왜 교양도 들어야 해', '왜 그러는지 모르겠어', '왜 나를 의심하지', '왜 나만 시키지', '왜 나한테 피해를 주냐고', '왜 내가 해야 하지', '왜 답장을 안하지', '왜 돈이 없지', '왜 때문에 나만 시키냐고', '왜 말을 못해 말을 못하냐구', '왜 말을 이해를 못하냐구', '왜 맨날 속는 건 나인거지', '왜 비난만 할까', '왜 살까', '왜 서류에서 떨어지지', '왜 성적이 안오를까', '왜 싸웠는지도 기억 안나', '왜 안 하지', '왜 이런 일이 일어날까', '왜 이렇게 돈이 없지', '왜 이렇게 쓸쓸하지', '왜 이렇게 태어났을까', '왜 이상한 말 해', '왜 이제 만나자고 했을까', '왜 이제 찾는걸까', '왜 이제서야 연락했을까', '왜 이제서야 찾아온거야', '왜 잠을 못 자는 걸까', '왜 진급이 안 되지', '왜 카톡 답장을 안하지', '왤케 춥냐', '외국어 꼭 해야되나', '외국어는 필수인가', '외로워', '외로워', '외모에 자신이 없어', '외식 너무 많이 했다', '외제차 갖고 싶다', '외제차 타고 싶어', '외향적이면 좋을텐데', '왼손잡이가 뭐 어때서', '왼손잡이가 잘못이야', '요가 온 아줌마들이 참견해', '요가하는데 아줌마들이 참견해', '요리 재밌어', '요리하는게 재밌어', '요번 방학에 뭐하지', '요즘 광고가 너무 길어', '요즘 나 왜 이러지', '요즘 너무 지루해', '요즘 뉴스가 재미가 없네', '요즘 되는 일이 없네', '요즘 드라마 너무 재밌네', '요즘 드라마가 땡겨', '요즘 사람이 무서워', '요즘 속이 안 좋아', '요즘 웃을 일이 없네', '요즘 자꾸 까먹어', '요즘 자꾸 깜빡깜빡해', '요즘 잠을 늦게 자', '요즘 잠을 못자', '요즘 제정신이 아니야', '요즘 조깅하고 있어', '요즘 조심할 게 많아', '요즘 핫한 건', '요즘 핫한 게 뭐야', '요즘에는 외국어도 잘해야하나봐', '요즘에는 중국어도 잘해야하나봐', '욕먹었어 여자친구한테', '욜로', '용돈 넘 적어', '용돈 다 썼어', '용돈 달라고 졸라볼까', '용돈 받음', '용돈 벌써 다 썼어', '용돈 벌써 없어', '용돈 올려줬으면', '용돈 인상해 달라고 말할까', '용돈 줘', '우리 같이 놀자', '우리 계속 엇갈림', '우리 과에 좋아하는 애 있어', '우리 남편 또 늦게 들어와', '우리 분위기 좋았는데', '우리 집에도 고양이 있으면 좋겠다', '우리 학과 어떤 애 쫌 훈훈하다', '우리가 좋은데 왜 반대하시지', '우리집 망한 거 같애', '우리집 망한 거 같은데 나 어떡하지', '우리집 망했다', '우리집에 놀러와', '우산 같이 쓰자고 해볼까', '우산 놓고왔다', '우산 또 놓고 왔어', '우산 또 사야하나', '우산 또 안가지고 왔다', '우산 몇 개째 사는 건지', '우산 없는데 같이 쓰자고 할까 너무 진부한가', '우산 잃어버렸어', '우산빌려달라고 해볼까', '우산을 들고 기다려 준데', '우산이 없는데 빌릴까', '우아하게 화내는 법', '우연이 만났는데 운명이 됐어', '우연이 운명이 됐어', '우연히 또 만났어', '우울증 걸린 거 같아', '우정이 뭐야', '우정이 뭘까', '우정이란게 뭘까', '운동 갔다 다칠 뻔했어', '운동 매일러 가기 힘들다', '운동 매일하기 힘들다', '운동 오지게 했어', '운동 잘 하고 싶어', '운동 잘하는 사람 멋있어', '운동 좀 잘 하고 싶다 진짜', '운동 좀 해야겠다', '운동을 너무 열심히 했어', '운동하다 다칠뻔', '운동하면 뭐 하나', '운동해도 살이 안 빠져', '운동해야지', '운동화 새로 사야지', '운동화 신을까 구두 신을까', '운동화가 나을까 구두가 나을까', '운명 같은 사랑 가능할까', '운명이 슬프다', '운명이 있을까', '운명인 것 같아', '운명인가', '울 남친은 애교가 많아', '울 애기 너무 예뻐', '울적하다', '울적한 기분', '울적한 기분이 안 없어져', '울적해 울고 싶어', '울적해서 거리를 걷고 있어', '움직임이 없어', '웃게 만드는 너란 녀석', '웃겨 줘', '웃겨봐', '웃으면 안되는데', '웃을 일이 없네', '웃을 줄 알았지', '워킹맘 진짜 힘들다', '원두 갈았어', '원두커피 갈아서 마시려고', '원래 일은 혼나면서 배우는 거야', '원서 낸거 1지망에서 떨어졌어', '원피스 입는 게 낫겠지', '원피스 입을까', '월급 들어왔어', '월급 받아서 주택청약 들었어', '월급 올라서 기분 좋아', '월급 올랐어', '월급 입금됐다고 문자 왔어', '월급만 나만 그대로야', '월급에 비해 근무시간이 너무 긴 거 같애', '월급은 안 오르고', '월급이 살짝 스쳐 지나간 느낌', '월급이 안 오르네', '월급이 안들어와', '월급이 왜 똑같지', '월세 너무 비싸', '월세 너무 아까워', '월세 아까워', '월세방 비싸', '월요일도 아닌데 길이 너무 막혀', '월요일도 아닌데 차가 너무 많아', '웨딩촬영 봐주러 갔는데 너무', '웹툰 뭐 볼까', '웹툰 추천해줘', '위기야', '위로받고 싶은 날', '위로해줄 사람이 없어', '위로해줄 사람이 필요해', '위병 난 거 같아', '위장에 탈 난 거 같아', '위층 너무 시끄러워', '위층 소음 괴롭다', '윗집 애 또 뛴다', '유기견 분양 받으려고', '유기견 입양하려고', '육아휴직 해야지', '으아 떨려', '으아 속상해', '으악', '으악 소리 지르고 싶다', '으으 화장실 급해', '으으~ 떨린다', '은근히 따돌림 당하는 기분이 들어', '은퇴가 멀지 않은 것 같아', '은퇴하고 뭐하지', '은퇴후가 걱정이야', '은퇴후에 뭐하지', '은행 대출 받을까봐', '음', '응', '의미 없어', '의미 있는 일 하고 싶다', '의미 있는 일이 뭐가 있을까', '의심 받고 있어', '의심 받는 느낌적 느낌', '의심가는 사람이 있는데', '의심되는데', '의외로 괜찮은 사람이네', '의외야', '의외인 점이 많은 사람이야', '의외인듯', '의욕상실', '의욕이 안 생겨', '의욕이 없어', '의욕이 일도 없어', '의욕이 하나도 없다', '의자 너무 불편해', '의자가 불편해', '이 기분은 뭘까', '이 기회 잡고 싶다', '이 기회는 내꺼야', '이 길이 나에게 맞는걸까', '이 길이 맞을까', '이 나이에 모르는게 왜 이렇게 많지', '이 노래는 저음이 좋아', '이 놈의 신용카드 다 없애야지', '이 멍충아', '이 무리에 낀게 잘못인가', '이 바보탱이', '이 상황에서 벗어나고 싶어', '이 세상에서 누가 제일 예뻐', '이 세상에서 제일 예쁜 사람은', '이 순간 뭘하면 좋을까', '이 시간에 라면 먹고 싶은데 살 찔 거 같아', '이 시려', '이 썩은 거 같아', '이 쓰레기야', '이 정도면 잘생겼지', '이 좀 여유롭게 살고 싶다', '이 지각쟁이', '이 현실에서 도망가고 싶어', '이 회사는 나만 일하는 것 같아', '이가 차가워', '이거저거 막 사고 싶어', '이건 정말 위기야', '이걸로 만족해야겠지', '이게 뭐라고 떨려', '이길이 내길인가', '이길이 맞는지 모르겠다', '이놈', '이닦았는데 잇몸에서 피나', '이따 커피 마시자고 해보려고', '이래라 저래라 참견 좀 안했으면', '이러고 있을 때가 아니야', '이러다 대머리 되겠어', '이러다 또 흐지부지하고 말겠지', '이런 일상에서 휙 떠나고 싶어', '이렇게 갈 거였구나', '이렇게 날씨도 좋은데', '이렇게 대학 가야하나', '이렇게 또 늙어간다', '이렇게 못 알아 듣니', '이렇게 오래 만날 줄 몰랐는데', '이렇게 치열한 경쟁은 싫어', '이력서 광탈 중이야', '이력서 몇 개째 쓰는건지 모르겠다', '이력서 쓰고 있어', '이력서 쓰는 중', '이름 알려줘', '이름이 뭐야', '이마가 너무 넓어', '이마야 운동장이야', '이모티콘 기간 끝나서 없어졌어', '이모티콘 기간 끝났어', '이민가고싶어', '이발 어떻게 할까', '이발 좀 하고 올게', '이번 달에 결혼식 너무 많아', '이번 달에 결혼식 매 주 있어', '이번 방학에 뭐하면 잘했다고 소문날까', '이번 생은 처음이라서', '이번 크리스마스에 눈이 올까', '이번 학기 열심히 살아야지', '이번달에 외식 너무 많이 했다', '이번에는 분명하게 말해야지', '이번에는 생리통 너무 아파', '이번엔 또 뭐 해 먹지', '이벤트 당첨됐어', '이별 후 새로운 사람 찾아', '이불 밖은 위험해', '이불밖은 위험해', '이빨 아파', '이쁜 구석이 없어', '이사 가야 할 것 같아', '이사 도와줘야 할까', '이사 왔더니 친구가 없어', '이사가서 전학가게 됐어', '이사가야돼', '이사하는 거 도와줄까', '이사하는 것도 일이다', '이사하니까 정리할 게 많아', '이삿짐 싸야지', '이상하게 이 친구한테는 집착하게 된다', '이상한 말을 해', '이상한 사람이 자꾸 쳐다봐', '이상한 소문이 돌아', '이어주려고 해서 더 어색해졌어', '이어폰 까먹지 말고 사야지', '이어폰 사야지', '이자 왜 이렇게 많지', '이제 결정해야 되는데', '이제 그만 잘래', '이제 그만하고 쉬고 싶다', '이제 기다리는 것도 지쳐', '이제 기다리는게 습관 같아', '이제 먹는 것도 귀찮아', '이제 바람 분다', '이제 봄인가봐', '이제 어둠에서 나오려고 해', '이제 은퇴해야 하나', '이제 인턴 그만두고 싶어', '이제 일어나야 하는데', '이제 취업 해야할 텐데', '이제 택시 안타', '이제 택시타지 말아야지', '이제 혼자서도 잘할 수 있어', '이젠 기억이 가물가물해', '이젠 기억이 거의안나', '이직 가능할까', '이직 성공할 수 있을까', '이직각인가', '이직해도 될까', '이직해야할지 고민이야', '이해를 못하겠어', '인간 관계가 제일 어려운거 같아', '인간관계 관리하는 거 힘들어', '인강 듣는데 자꾸 딴짓하게돼', '인강 듣는데 집중이 안돼', '인관관계 맺는 게 피곤해', '인기 많으려면', '인내하면 얻을 수 있을까', '인사드리러 갔는데 파혼하는게 나을것 같아', '인사드리러 갔다가 파혼했어', '인상이 좋더라', '인생 공부한건가', '인생 너무 불공평해', '인생 뭐있나', '인생 살만해', '인생 잘 못 산건가', '인생 허무해', '인생 헛산듯', '인생에서 최고의 행복', '인생의 쓴맛', '인생이 쓰디쓰다', '인센티브가 생각보다 안 나올 것 같아', '인연은 소중한 거지', '인연은 항상 소중한 거겠지', '인정 받고 싶다', '인정 받고 싶은거 당연한 거 아니냐', '인정받고 싶은데 어떻게 해야돼', '인정받으려면 어떻게 해야 하나', '인터넷 쇼핑몰에서 바지 샀는데 망함', '인터넷에서 바지 샀는데 안 맞아', '인턴 됐어', '인턴 때려 치우고 싶어', '인턴 원서 넣어 볼까', '인턴 할까', '인턴 합격', '인턴이라도 어니냐', '인턴하고 싶어', '인테리어 다시 하고싶어', '인테리어 좀 다시 해야할 듯', '인테리어 혼자 해볼까', '인형 뽑기 돈만 날렸어', '인형 뽑기 어려워', '인형 뽑기 해줘', '인형 뽑아줘', '인형 사줄까', '인형 선물 받았어', '인형 선물 좋을지', '인형 선물하면 좋아할까', '인형 좋아할까', '인형뽑기 아직도 하나', '인형뽑기는 유행 지났지', '일 끝나면 그냥 쉬고 싶어', '일 대충했대', '일 때려칠까', '일 못하는 사수랑 일하는 거 힘드네', '일 안하고 돈 벌고 싶어', '일 좀 하고 다시 말시킬게', '일기 써야 되는데', '일기쓰기', '일도 못하는데 엄청 시켜', '일도 하고 공부도 하는게 가능한가', '일만 하고 살았는데 이 모양', '일만 하다 죽을 것 같아', '일본어 어렵네', '일상에서 떠나고 싶어', '일어나보니까 침대에서 떨어져 있었어', '일어났더니 목이 잠겼어', '일에 적응하면 좀 더 잘 할 수 있을까', '일요일에 교회끝나고 어디 가고 싶어', '일요일에 교회만 가', '일요일에 데이트 해야지', '일은 많이 하는데 월급은 너무 적어', '일은 원래 혼나면서 배워', '일을 거지같이해', '일을 나만 해', '일을 못하는 동료가 있는데 말해줄까', '일을 못하면서 안 물어봐 답답하다', '일을 해도 안 늘어', '일이 또 쌓이네', '일이 안 끝나', '일이 익숙해 지지 않네', '일이 잘 안 늘어', '일이랑 공부 동시에 가능', '일이랑 공부 병행 가능', '일인자가 되려면 얼마나 노력해야할까', '일인자가 되려면 피나는 노력이 필요하겠지', '일일 만보 걷기', '일일일팩', '일찍 가서 쉬고 싶은데 오늘 회식 잡혔어', '일찍 일어나야 돼', '일찍 퇴근하고 쉬고 있어', '일하고 올게', '일하기 싫다', '일하는 거에 비해 월급은 쥐꼬리', '일하는데 실수를 많이 해', '일하면서 공부할 수 있을까', '일하면서 대학원다니기 쉽지 않겠지', '일하면서 석박 따기 어렵겠지', '일하면서 애키우기 힘들다', '일해야 되는데 졸려', '임신이면 어떡하지', '임신했어', '임용 결과 발표 기다리고 있어', '임용 기다리고 있어', '임용 기다리고 있어', '임용 시험 기다리고 있어', '입 안이 다 헐었어', '입 안이 텁텁해', '입고 나갈 게 없어', '입냄새 나나', '입냄새 안나나', '입덕했어', '입맛없는데 뭐 먹지', '입맛없어', '입소문 난 맛집 다녀왔어', '입소문이 무서워', '입을 거 없다', '입이 고급이야', '입이 방정이야', '입이 텁텁하다', '입이 헐었어', '잇몸에서 피나는 거 같애', '잇몸이 시려', '있잖아', '잊어야겠다고 마음 먹고 맨날맨날 놀고 있습니다', '자', '자격증 공부해야지', '자격증 따야하나', '자격증 딸거야', '자격증 딸까', '자고 일어나도 피곤해', '자고 일어났더니 목 아파', '자고 일어났더니 하루 다갔어', '자극이 필요해', '자기 말은 기억 못하고 나만 혼내는 사람 어떡해', '자기 복제가 될까', '자기 소개 또 어떻게 해', '자기 소개 어떻게 해', '자기 소개서 오글거려', '자기 일도 아닌데 고맙다', '자기 잘못 인정 안하는 사람', '자기 잘못은 모르고 엄청 뻔뻔해', '자기가 한 말 기억 못해서 나만 혼내는 사람 어떡해', '자기도 해결방안이 없으면서 불만만해', '자기애가 너무 떨어졌어', '자꾸 거짓말 하게 되네', '자꾸 나약하게 느껴져', '자꾸 날카로워진다', '자꾸 늦는 사람', '자꾸 동문서답이야', '자꾸 뒤처지는 느낌이야', '자꾸 말 바꾸는 사람 어떻게 해', '자꾸 뭘 사게 돼', '자꾸 미리 걱정해', '자꾸 봐주니까 기어오른다', '자꾸 비비꼬는데', '자꾸 설사해', '자꾸 아침 먹으래', '자꾸 우연히 만나', '자꾸 자다 깨', '자꾸 조급해져', '자꾸 졸게 되네', '자꾸 지각하네', '자꾸 폭식하는데 어떻게 고칠 수 있을까', '자꾸 함부로 대해', '자는 거 아니겠지', '자니', '자니', '자다 깨다 해', '자다가 침대에서 떨어졌어', '자매가 있으면 좋은 점', '자면 안되는데 또 잤어', '자소설 쓰는 중', '자신감 꺽는데 뭐 있는 듯', '자신감 업되는 비결 좀', '자신감 제로', '자신감 하락', '자신감을 갖고 싶어', '자신감이 없어', '자야겠다', '자유시간 갖고 싶어', '자유시간이 필요해', '자율주행 자동차 나오겠지', '자율주행 자동차 언제 나오냐', '자장가 불러 달랬더니 불러줬어', '자장가를 불러준 사람', '자장면 짬뽕', '자장면이 좋아 짬뽕이 좋아', '자존감 어떻게 올려', '자존감 좀 높이고 싶다', '자존감이 너무 떨어졌어', '자존감이 너무 떨어졌어', '자존감이 바닥을 친다', '자존감이 바닥이야', '자주 못보면 헤어지겠제', '자취방 선물 알려줘', '자취하는데 뭐 필요할까', '자취해야할듯', '작은 꽃나무라도 키워보면 어떨까', '잘 나갈 때 은퇴해야하나', '잘 되라고 한건데 더 어색해졌어', '잘 사는 게 뭘까', '잘 사니', '잘 살고 싶어', '잘 살고 있겠지', '잘 선택한건지', '잘 쉬는 방법', '잘 지냈어', '잘 참았는데 담배 피고 싶다', '잘 할 수 있을까', '잘 할 수 있을지 걱정 돼', '잘되겠지', '잘래', '잘못 쓴 거 엄청 많아', '잘못한 거도 없는데 찔려', '잘못한게 돼버렸어', '잘자', '잘하는 게 뭔지 모르겠어', '잘하는 게 뭘까', '잘하는 게 없는 것 같아', '잘하는 게 직업이면 좋겠지', '잘하는거 하라는 데 없어', '잘하는게 없는 느낌', '잘할 수 있겠지', '잠 온다', '잠 와', '잠 잘못 잤나봐', '잠깐 쉬려고 했는데 한참 지났네', '잠만 잤네', '잠수가 취미', '잠시만 쉬려고 했는데 길어졌어', '잠을 못 잤더니 너무 졸려', '잠을 못 잤더니 힘들다', '잠을 잘못 잤나', '잠이 계속 와', '잠이 너무 와', '잠이 또 안와', '잠이 안 와', '잡담할 시간 있어', '잡담해도 돼', '장 봤는데 다 비싸', '장 봤는데 후덜덜해', '장기자랑 안 시켰으면 좋겠어', '장기자랑 왜 시켜', '장난 잼있어', '장난스러운 사이', '장난치니까 좋다', '장래희망이 없어', '장마인데 건조기 사는게 좋을까', '장학금 가능할까', '장학금 받고 싶다', '장학금 받으려면 독하게 해야돼', '장학금 받을 수 있을까', '재미 없는 하루', '재미 없어', '재미 없어', '재미없는 일밖에 없어', '재미있는 드라마 끝났어', '재밌게 해줘', '재밌는 거 뭐 없나', '재밌는 일이 없어', '재밌는거 없나', '재밌는거 할 줄 알아', '재밌는거 해 줘', '재밌는게 없어', '재밌다', '재채기 나올거 같은데 안 나와', '재채기 나와', '재취직 될까', '재택근무 힘들다', '재택근무가 더 힘든 거 같아', '재테크 어떻게 해', '재테크 하는 방법 알려줘', '저 사람이 왜 자꾸 볼까', '저 좀 웃게 해주세요', '저금통 깰까', '저금통 털까', '저기', '저녁 메뉴 뭐 먹을까', '저녁 메뉴 좀 골라줘', '저녁 메뉴 추천 해줘', '저녁 뭐 먹지', '저녁 준비 해놔야지', '저녁밥 뭐 먹냐', '저녁으로 뭐 먹을까', '저녁해야 되는데', '저음 멋있어', '저주할거야', '적금 더 들까', '적금 들까', '적금 들어야 하나', '적금 들었어', '적금 특판 들었어', '적금 하나 더 가입할까', '적당히 좀 하지', '적당히를 몰라', '적응을 못하겠어', '전 애인 만났어', '전공 못 살릴듯', '전공 살려서 취직할 수 있을까', '전공 수업 노잼', '전공 수업 재미없어', '전공 잘못 골랐나봐', '전공만 듣고 싶다', '전과하고 재미있게 학교 다니고 싶다', '전과해도 잘 할 수 있겠지', '전과했어', '전기 나갔다', '전기 안들어와', '전기가 갑자기 나갔어', '전기장판 깔고 자고 있어', '전기장판으로 겨울 나기', '전남친 보고 싶어', '전남친이 자꾸 생각나', '전남친한테 연락하고 싶어', '전부 가시밭길 같아', '전부다 알고 있을까', '전세 계약했어', '전세비 갑자기 올랐어 어떡하지', '전세비 올려달래 어떡하지', '전세집 구했어', '전애인 만났는데 모르는 척할까', '전여친 보고 싶어', '전여친한테 연락하고 싶어', '전역할 때까지 언제 기다려', '전학 걱정된다', '전학가게 됐어', '전학가도 잘 할 수 있겠지', '전화 걸어도 되나', '전화 또 안 받네', '전화 못하겠어', '전화 안 받는 이유가 뭘까', '전화 안 받아', '전화 안 받으니까 초조해져', '전화 와라', '전화 왜 안 받지', '전화 왜 안오지', '전화는 왜 갖고 다녀 안받으면서', '전화를 너무 안 받아', '전화를 왜 안 받냐 진짜', '전화를 잘 안 받아', '전화벨이 울렸으면', '전화하기 너무 늦나', '전화하기엔 늦은 시간인데 전화하고 싶어', '전화하는 거 힘들다', '전화할 사람이 없네', '전화할까 말까', '전화해도 되겠지', '전화해야 되나', '절대불공평', '절망적이야', '절약해서 부자돼야지', '절약해야 잘 살지', '절친 만나고 싶어', '절친이 오늘 모른척했어', '절친인데 쌩깠어', '젊게 살고 싶다', '젊어지고 싶어', '점 보러 가볼까', '점 뺄까', '점 뺴러 가고 싶다', '점심 도시락 싸는 거 귀찮다', '점심 때 은행 갔다와야지', '점심 먹어야지', '점심 메뉴 고르는 거 힘드네', '점심 메뉴 좀 골라줘', '점심시간 너무 짧아', '점심시간에 외출하는 것도 눈치봐야돼', '점심시간에 외출하면 안 되나', '점심시간에 은행 갔다와야지', '점심시간엔 그냥 쉬고 싶어', '점심시간이라도 마음 놓고 쉬고 싶어', '점이라도 볼까', '점점 모질어진다', '점점 좋아져', '점점 호감 간다', '정규직 가즈아', '정규직 너무 쪼금 뽑아', '정규직 될 수 있을까', '정규직 입사 너무 어려워', '정규직 하고 싶다', '정답이 뭘까', '정동진 가서 바람이나 쐬야겠다', '정리 불가', '정리가 안돼', '정수리 냄새', '정수리 냄새 난 거 아니야', '정시 퇴근하고 집에 가는 중', '정신 못차리겠다', '정신없을수록 침착해야지', '정신적으로 스트레스를 너무 주는데 이런 사람은 어떻게 상대해', '정신줄 어디 갔나', '정신차리고 싶어', '정신차리라고 한 마디 해줘', '정장 사야겠지', '정장 한 벌 필요할 듯', '제 2 외국어 뭐할까', '제2외국어 뭐 선택할까', '제급기 없거든', '제대로 평가해줘', '제사 없어졌으면', '제사를 너무 많이 해', '제습기가 필요해', '제자리걸음만 하는 듯', '제주도 가고 싶다', '제주도 가고 싶어', '제주도 가서 살까', '제주도 놀러 가고 싶어요', '제주도 바닷가 가고 싶어', '제주도로 떠나야겠다', '조교하면 공부하기 힘들겠지', '조교하면서 공부할까', '조금만 기다려 줬으면 좋겠다', '조급하고 초초하다', '조명빨 좋다', '조명빨인가', '조모임 왜 이케 많아', '조별 과제 발표 하기 싫어', '조별 발표 왜 이렇게 많이 시키지', '조별 발표 하기 싫어', '조심조심', '조심할 게 많아', '조용히 있고 싶어', '조용히 지나가면 될까', '조용히 지나갈까', '조카 선물 고르기 어렵네', '조카 선물 뭐 사주지', '조카 오는 거 싫어', '조카 입학 선물', '조카 입학 선물 뭐 사냐', '조카들 너무 귀찮게 해', '졸려', '졸린데 못 자겠어', '졸린데 잠이 안 와', '졸업 사진 망했다', '졸업 사진 잘 못 찍었어', '졸업 선물 뭐가 좋을까', '졸업 선물 추천', '졸업식 가야겠지', '졸업식에 가도 되나', '졸업식에 가도 될까', '졸업이다', '좀 더 가까워지고 싶어', '좀 맞자', '좀 쉬면서 애기 키워야 할 듯', '종이에 손 베였어', '좋긴 한데 귀찮아', '좋아 죽을거 같아', '좋아하는 게 뭔지 모르겠어', '좋아하는 애랑 같은 반 됐으면 좋겠다', '좋은 관계 어떻게 유지하지', '좋은 관계란 뭘까', '좋은 대학 나온 거 부러워', '좋은 대학 나온 사람 부러워', '좋은 사람들은 다 어디 갔을까', '좋은 아침', '좋은 점이 없어', '좌절 중이야', '주고 받았던 편지도 버려야겠지', '주눅들어서 말을 못하겠어', '주량 센데 솔직하게 이야기해도 될까', '주량 쎈 게 좋은 건가', '주름도 멋져', '주름도 멋진 사람', '주름살 생겼어', '주름살이 조금씩 생긴다', '주말에 놀꺼 추천', '주말에 늦잠자고 브런치 먹으면서 수다 떨고 싶어', '주말에 데이트 해야지', '주말에 뭐 하고 놀까', '주말에 스키장 간다', '주말에도 헬스하러 많이 오네', '주말인데 헬스장에 사람이 많네', '주식 대박 남', '주식 망했어', '주식으로 돈 많이 벌었어', '주식이 떨어졌어', '주워담지 못할 말을 했어', '주제 넘은 짓 한거 같아', '주차장에 자리가 없어', '주차장이 꽉 찼어', '주차하다 긁었어', '주차할데 없어서 짜증나', '주택 청약 가입', '주택 청약 시작', '주택청약 들었어', '주행 연습 끝났어', '죽고 싶다', '죽어도 아무도 모르겠지', '죽을 때까지 함께하고 싶다', '죽을 때까지 함께하고 싶은 사람이 생겼어', '죽을래', '줄 길거 같아', '중2 아들 때매 고민이야', '중2 히스테리 알아', '중2병', '중2병 이라더니 진짜 속썩일 줄이야', '중2병인거 같아', '중간이 없어', '중고 거래 했어', '중고로 사길 잘 한거 같아', '중고로 샀어', '중고로 잘 산 거 같애', '중국 발령 날 수도 있어', '중국 출장 가야할 수도 있어', '중국어 공부할까', '중국어 배울려면 학원 다녀야 할까', '중국어 있는게 좋겠지', '중국어 학원 다녀야 하나', '중국어 혼자 공부 가능한가', '중국으로 진출해볼까', '중문 있는게 낫겠지', '중소기업이라도 취직할까', '중소기업인데 그냥 취직할까', '중요한 발표 기다리고 있어', '즐기며 살고 싶어', '증거도 없으면서 나만 의심해', '지가 피해자래', '지갑 까먹었다', '지갑 바꿀까', '지갑 안 가져왔다', '지갑 없어졌어', '지갑 잃어버림', '지금 나한테 장난친거', '지금 내가 해야 할 것', '지금 노력한다고 될까', '지금 자면 밤에 못 자겠지', '지금 자면 밤에 못 자는데 졸려', '지금 행복해', '지금까지 일만 하고 산 거 같애', '지금이라도 중국어 공부할까', '지기 너무 싫어', '지는 거 싫어', '지는 거 좋은 사람은 없겠지', '지는 게 진짜 싫어', '지방 와서 친구가 없어', '지진 걱정돼', '지진 안나겠지', '지진나면 어떡하지', '지진나면 어떡해', '지하철에 발 디딜 틈도 없다', '지하철에 사람이 너무 많아', '지하철에 자리가 없어', '지하철에서 겁나 멋진 사람 발견 말 시켜 볼까', '지하철에서 괜찮은 사람 봤는데 말 시켜 볼까', '직구로 사면 싸겠지', '직구로 사야지', '직장 가기 싫어', '직장생활 시작했어', '직장에서 나만 일 시켜', '직장에서 너무 괴롭혀', '직장에서 따돌림 당함', '직장에서 상사가 괴롭혀', '직장에서 왕따 당하고 있어', '직장에서 자꾸 혼나는데 그만둬야할까', '직장에서 화풀이 대상 같은데 그만둬야 할까', '직장운 없는 거 같애', '직장이 괴롭다', '직장이 맘에 든적이 없는 거 같애', '직장인도 방학 필요해', '진급 누락됐어', '진급에서 나만 누락됐어', '진급에서 나만 빠졌어', '진급하고 싶어', '진급할 때가 된 거 같은데', '진급해야 할텐데', '진담을 농담처럼 하는 사람', '진정으로 즐거운 게 뭘까', '진짜 내가 되고 싶어', '진짜 너무하네', '진짜 되도 않는 소리하네', '진짜 말도 안돼', '진짜 무력하다', '진짜 별 사람이 다 있어', '진짜 열심히 해야지', '진짜 완전체가 있어', '진짜 이제 한계야', '진짜 친구 몇 명 있어야 돼', '진짜 친구 사귀고 싶어', '진짜 친구가 없는 거 같애', '진짜 피곤한 날', '진한 커피 한잔', '짐 싸야돼 귀찮아', '집 가는 중', '집 나가서 혼자 살고 싶다', '집 다와서 사귀던 남자애 만났어', '집 망한 거 같은데', '집 밖에 나가기 싫어', '집 사고 싶어', '집 샀어', '집 아예 샀어', '집 예쁘게 꾸미고 싶어', '집 팔거야', '집 팔려고', '집나가도 갈 데가 없어', '집나갈까', '집들이 귀찮아', '집들이 누구 초대해', '집들이 선물 뭐 사갈까', '집들이 선물 뭐가 좋아', '집들이 어떻게 해', '집들이 하기 싫어', '집들이 하라네', '집들이 해야겠지', '집들이고 뭐고 다 귀찮다', '집들이는 보통 누구를 초대하나', '집안일 너무 많다', '집안일 쌓여 있다', '집안일 어려워', '집안일 해도 해도 안 끝나', '집안일 해도해도 끝이 없어', '집안일을 못하겠어', '집안일이 너무 많아', '집안일이 안 끝나', '집앞에서 전남친 만남', '집에 간다', '집에 갈 때 피맥 먹고 싶다', '집에 감기약 없어', '집에 먹을게 없어', '집에 먼지가 너무 많아', '집에 빨랑 가고 싶다', '집에 일찍 가고 싶다', '집에 친구 오라고 하려고', '집에 친구 초대하려고', '집을 왜 물어보지', '집이 너무 지저분해', '집이 더러워', '집이 어디냐고 왜 물어보지', '집중이 안돼', '집중이 왜 이렇게 안 돼지', '집착같은데 걔는 뭐라고 생각할까', '집착인 것 같기는 해', '집착인가', '집착인가봐', '징글징글한 층간소음', '짜여진 시간표대로 움직이고 있어', '짜장면 시켰어', '짜증나', '짜증나게 해서 일단 나왔어', '짜증나서 집 나왔어', '짜증난다', '짜증만땅', '짝남에게 빼빼로 줘도 될까', '짝남한테 선물 주면 부담스러워할까', '짝사랑하는 사람한테 선물 주면 부담될까', '짝사랑한테 빼빼로 줘도 될까', '짤릴 필이 와', '짱 추워', '짱좋아', '쫄면 먹고 싶다', '쫄면 생각나', '쭉쭉 나가야 하는데', '찜질방 가고 싶다', '찜질방 가면 쌩얼 보여줘야 되나', '찜질방 같이 가면 화장 지워야 할까', '찜질방가서 땀 빼고 싶다', '차 기름값이 또 올랐네', '차 렌트 해야겠다', '차 막힌다', '차 사는 게 낫겠지', '차 사야 할 거 같은데', '차 살거야', '차 살까', '차 진짜 막힌다 어떻하니', '차 팔아서 불편해', '차 팔았더니 불편하네', '차 한 잔 하자고 해볼까', '차별받고 있는 느낌', '차별이 제일 싫어', '착하게 살면 복 받겠지', '착하다고 오히려 무시하는 것 같아', '착한 사람을 괴롭히는 세상', '착한 사람이 잘 됐으면 좋겠어', '착한 사람이 잘 됐으면 좋겠어 좀', '찬물만 나와', '찰랑찰랑한 머릿결 갖고 싶다', '참견 좀 안했으면', '참견 좀 하지마', '참고 계속 도전하면 될까', '참는 게 나을까', '참아야 하나', '참외 맛있다', '참외 먹어야지', '참으면 성공할 수 있을까', '참치김치찌개 먹고 싶어', '창문을 열고 나왔네', '창문을 열어 놓고 나왔네', '창업 고민된다', '창업 할까', '창업이라도 해야 겠지', '창업하고 싶다', '창업해도 될까', '창피해', '책 반납 안햇다', '책 보는데 글자만 들어와', '책 빌려봐야지', '책 선물이 제일 나을 듯', '책 선물해야지', '책 어디다 팔아', '책 좀 읽어야지', '책 팔 수 있는 곳 알려줘', '책만 보면 졸려', '책만 펴만 잠와', '책보는데 글자만 봤어', '책상 리폼할거야', '책장 정리 좀 해야겠다', '책장 좀 치워야겠다', '챙길게 너무 많아', '처음 보는 사람이랑 뭔 말을 하지', '처음 보는 애랑 무슨 얘기하지', '처음 해외여행가', '처음에 말 걸 때 힘들어', '처음에 친구 어떻게 사귀지', '처음에 카톡 뭐라 보내지', '처음에는 별로 였는데 호감 간다', '처음에는 좋았는데 점점 별로', '처음엔 좋았는데', '처음이라 그런거지', '천재 같아', '철이 너무 일찍 들었어', '철이 빨리 든 거 같아서 좀 그래', '첫 데이트에 뭐하지', '첫 출근 날이야', '첫눈 오는날 만나고 싶다', '첫눈이 올때 같이 있고 싶다', '첫인상에서 강렬한 인상 남기기', '첫인상은 뭘로 판단할까', '첫직장 출근', '청강이라도 해야겠다', '청강하려고', '청소 해도 티가 안나', '청소 해도 해도 더러워', '청소는 넘나리 귀찮', '청소를 안 했더니 먼지 쌓였어', '청소하기 귀찮', '체력 관리', '체육대회 싫어', '체육대회 안 했으면', '체육대회한데', '체육복 또 까먹었어', '체육복 안 가져 왔다', '쳇바퀴 도는 하루', '쳇바퀴 돌듯 돌아가는 삶', '초콜릿 만들어서 줄까', '초콜릿 선물하면 좋아할까', '최고 몸무게 찍는 중', '최고다 행복해', '최선을 다한 거 같은데', '최선을 다했는데', '최저시급은 받니', '최저임금 수준에서 알바비가 안 나왔어', '최저임금 올랐다는데 월급은 왜 똑같지', '추석 가기 싫어', '추석에 집에 가기 싫어', '추우니까 나가기 싫어', '추워', '추워 죽을 뻔했네', '추워죽겠다', '추천 메뉴', '축구 가야 되는데', '축구 동영상 시청 중', '축구 볼때는 치맥이지', '축구 시청 중', '축구 잘해', '축구하러 가야지', '축의금 고민', '축의금 보통 얼마내', '축의금 얼마 내지', '축의금 얼마해야 되나', '축제 준비하느라 바빠', '축제날은 즐겨야지', '춘곤증인가', '춘곤증인가봐 졸려', '출근 길에 맨날 보는 사람 있어', '출근 자체가 스트레스야', '출근길 너무 힘들어', '출근길 막혀', '출근길이 유난히 기네', '출근시간 아깝다', '출근이 스트레스야', '출근하기 너무 오래 걸려', '출근하기 싫어', '출근하자마자 스트레스 받아', '출퇴근 시간 너무 오래 걸려', '출퇴근 시간이 좀 줄어들었으면 좋겠다', '충전기 안 가져왔다', '충전기 안 가지고 왔다', '충전해야겠다', '취미 좀 만들어볼까', '취미생활 같이하는 게 좋다던데', '취미생활하는데 돈이 많이 들어', '취미에 돈이 너무 많이 들어', '취뽀 어렵다', '취뽀하고 싶다', '취업 못하는 기간이 길어진다', '취업 준비 기간이 길어진다', '취업 준비 힘들어', '취업은 너무 힘들겠지', '취업의 관문을 뚫는게 쉽지가 않네', '취업하고 싶다', '취업하기 힘들겠지', '취직 원츄', '취직이 안 돼', '취직이나 했으면', '취직하고싶어', '취직하는데 나이가 많아', '취직하면 공부 안해도 되는줄 알았는데', '취직하면 공부 안해도 될 줄 알았어', '취직하면 끝이 아니네', '취직하면 끝일줄 알았는데 계속 할게 많아', '취직해야 할텐데', '층간소음 때문에 왜 살인이 나는지 알 거 같애', '층간소음 심해', '층간소음때매 환장하겠어', '층간소음에 살인 난다더니', '치고 올라오는 신입', '치과 가면 돈 많아 들텐데', '치과 가면 돈 엄청 깨질 텐데', '치과 가야 하나', '치과 치료 받아야 할까', '치매가 더 심해지는 것 같아 무서워', '치매가 점점 심해지는 거 같아', '치매이면 어쩌지', '치매일까봐 무섭다', '치맥데이', '치맥먹으면서 축구봐야지', '치킨 시켜야지', '치킨집 차릴까', '친구 같은 너', '친구 돌잔치 가는 중', '친구 따라 강남가나', '친구 따라다녀야겠다', '친구 많이 사귀고 싶어', '친구 몇 명쯤 필요한가', '친구 사귀고 싶어', '친구 사귀는 방법', '친구 예전 남자친구 사귀어도 되나', '친구 온대', '친구 웨딩촬영 갔는데 서운했어', '친구 전남친 사겨도 되나', '친구 좀 사귀고 싶다', '친구가 귀찮게해', '친구가 나 귀엽대', '친구가 나한테 집착해', '친구가 내 썸남이랑 연락해', '친구가 너무 고맙네', '친구가 너무 맘대로야', '친구가 너무 예뻐', '친구가 다 떠나 갔어', '친구가 다 떠나서 내가 못났나 싶어', '친구가 다 자기 마음대로 하려고 해', '친구가 도와주고 있는데 마음에 안들어', '친구가 도와주는게 마음에 안들어', '친구가 많으면 재미있을 것 같아', '친구가 배아플 정도로 잘 됐어', '친구가 소개해줬는데 이상한 사람이었어', '친구가 소심해', '친구가 엄청 소심해', '친구가 없어', '친구가 예뻐서 위축돼', '친구가 이사하는 거 도와준대', '친구가 이어줬는데 안 됐어', '친구가 자꾸 집착하는 것 같은데 뭐라 말하지', '친구가 자꾸 클럽가자 해', '친구가 자꾸 클럽을 너무 좋아해 맨날 가재', '친구가 잘되니까 배 아픈 거 같아', '친구가 잘되니까 약 올라', '친구가 전남친이랑 사귈 거 같아', '친구가 지금 놀러온대', '친구가 카톡 씹어', '친구가 필요해', '친구네 갔다올게', '친구네 놀러가려고', '친구네 집에 놀러 가서 내일 오려고', '친구네 집에서 자야지', '친구네 집이 부자라 우리집에 초대를 못하겠어', '친구들 부르려고', '친구들 초대하려고', '친구들은 다 결혼했어', '친구들은 다 예뻐', '친구들은 다 예쁘게 하고 왔어', '친구들이 나만 왕따시키는 거 같아', '친구들이 나보구 귀엽다고 했는데', '친구들이 다 예뻐졌어', '친구들이랑 가기 좋은 곳', '친구들이랑 노래방 가고 싶어', '친구들이랑 맛난거 먹고 싶다', '친구들이랑 맛집 가고 싶어', '친구들이랑 봉사활동 해보려고', '친구들이랑 셀프 이사', '친구들이랑 어디 놀러가지', '친구들한테 인기 얻으려면', '친구들한테 인정받을 수 있을까', '친구라고 생각했는데', '친구라고 생각했는데 날 엄청 쉽게 생각했나봐', '친구라고 생각했던 애가 뒷담화 하고 다님', '친구라는게 뒷담화나 하다니', '친구랑 나랑 자꾸 비교하게 돼', '친구랑 더 친해지고 싶어', '친구랑 만나면 좋아', '친구랑 말다툼했어', '친구랑 비교 돼', '친구랑 비교하면 내가 작아져', '친구랑 수다 떨고 왔어', '친구랑 싸웠어', '친구랑 썸남이 연락했나봐', '친구랑 있으면 내가 작아져', '친구랑 잘 노는 방법', '친구랑 전남친이 사귈 거 같은 예감이 들어', '친구랑 친해지는 법', '친구랑 힐링하고 왔어', '친구에게 물어 봐야겠다', '친구인데도 너무 잘되니까 약 오르네', '친구인듯 친구아닌 친구 같은 너', '친구한테 마음의 빚이 많아', '친구한테 몇 년만에 연락해도 되나', '친구한테 물어봐야지', '친구한테 미안하다', '친구한테 소개해주고 욕만 먹었어', '친구한테 실수한 거 같아', '친구한테 쌓인 게 안 풀려', '친구한테 썸 중인거 이야기 해야하나', '친구한테 자꾸 쌓인다', '친구한테 자꾸 집착하게 돼', '친구한테 진짜 고마워', '친척 대하는 거 불편해', '친척들 만나기 싫다', '친척들 만나는 거 불편해', '친척들 만나는 거 싫어', '친한 친구랑 싸움', '친한 친구랑 싸웠어', '친한 친군데 호박씨깜', '친한 친군한테 뒤통수 맞음', '침대가 최고', '침대에 누우면 바로 자', '침착해야지', '칭찬 좀 해봐', '칭찬 좀 해줬으면', '카드 다 부러뜨려 버려야겠다', '카드 다 없애버려야지', '카드가 못찾겠다', '카드가 왜 없지', '카드값 갚느라 허리가 휘어', '카드값 너무 많이 나왔어', '카톡 대화를 삭제하는게 수상해', '카톡 대화를 왜 삭제하지', '카톡 뭐라 보낼까', '카톡 씹었어', '카톡할 사람이 하나도 없네', '카톡할 친구가 없네', '카톡할 친구가 없네', '카페 알바 면접 간다', '카페나 갈까', '카풀로 출퇴근 해볼까', '카풀해볼까', '칼국수 어때', '커플 폰케이스 사자고 해야겠다', '커플 폰케이스 해볼까', '커플링 맞출까', '커플링 맞춰볼까', '커플이 같은 옷 입는거 좋아보여', '커피 그만 마셔야지', '커피 땡기네', '커피 마셔야지', '커피 마시고 싶어', '커피 말고 딴 거 마실거 없나', '커피 말고 뭐 마시지', '커피 볶는 시간', '커피 안 마시면 일을 못해', '커피 없으면 집중이 안돼', '커피 좀 마셔야겠다', '커피 좀 줄여야겠어', '커피 중독인가', '커피 타기 귀찮아', '커피 타는 거 싫다', '커피 한 잔 하자고 말해볼까', '커피가 너무 써', '커피가 너무 진해', '커피가 없으니까 집중이 안 되네', '커피가 좋아', '커피나 한 잔 하자고 말 해볼까', '커피를 너무 많이 마셔', '커피콩 볶고 있어', '커피향', '커피향 좋다', '컨디션 조절', '컨디션 조절이 안돼', '컴터 고장났나봐', '컴터 부팅하는데 시간이 오래걸려', '컴터가 맛이 갔어', '컴터가 안돼', '컴퓨터 백업해야지', '컴퓨터가 넘넘 느려', '컴퓨터가 느려졌어', '컴퓨터가 느려졌어', '컴퓨터가 대빵 느려졌어', '케익 만들어서 선물할까', '케익 직접 만들어볼까', '코 근질거려', '코 막혀', '코 세워 볼까', '코 조금만 세워 볼까', '코가 간지러워', '코가 간질간질', '코가 근질근질', '코감기로 찡찡거려', '코고는 것도 귀여워', '코골이 너무 시끄러워', '코골이 어떻게 고쳐', '코딩 좀 배울까', '코맹맹', '코인노래방 가서 스트레스 좀 풀어야겠다', '코인노래방 가야지', '코자', '코코넛오일 맛없어', '코코넛오일 먹기 싫어', '코트 살까', '코트 살까 말까', '콜록콜록', '콧물 나네', '콧물 질질', '쿠폰 다 모았다', '쿠폰 다 모음', '크루즈 여행 하고 싶어', '크루즈 타고 여행 하고 싶어', '크리스마스에 뭐 하나', '크리스마스엔 눈이 올까', '큰일 없이 살고 있어', '클럽 가고 싶은데 말할까', '클럽가고 싶은데 말하고 갈까', '클스마스에 할일', '키 왜 안 크지', '키 이제 안 크나', '키 컸으면', '키가 안 커', '키가 왜 안 클까', '키가 조금만 더 컸으면 좋겠어', '타로 보고 왔어', '타로점 봤어', '타이밍이 기가 막혀', '타이밍이 진짜 기막혀', '탄생의 이유 알아', '탄탄한 몸매 갖고 싶어', '탈모인가', '태닝할까', '태몽꾼거 같아', '태몽꿨대', '택배 기다리고 있어', '택배 아저씨 오셨을까', '택배 안와', '택배 왔나', '택배 왜 안오지', '택배가 안 와', '택시 너무 많이 탔어', '택시 타야겠다', '택시비 너무 비싸', '택시비 많이 나왔어', '택시비 아까워', '택시비로 돈을 너무 많이 썼어', '텀블러 까먹었다', '텀블러 안 가져 왔다', '텔레비전 볼 게 없어', '통장 잔고가 하나도 안 남았어', '통장잔고가 0이야', '통학 힘들다', '통화할 사람이 한 명도 없어', '퇴근 시간도 아닌데 엄청 막혀', '퇴근 후에 만나자고 해볼까', '퇴근길 아닌데 차 엄청 막혀', '퇴근길 엄청 막히네', '퇴근시간 왜케 안 오냐', '퇴근시간만 기다려', '퇴근하고 놀고 싶다', '퇴근하고 만나자고 말해볼까', '퇴근하고 뭐 하지', '퇴사 예정이야 후련하다', '퇴사하면 후련할거 같아', '투자라 생각하는 게 나을까', '투자라고 생각 할 수도 있지', '투잡 뛰어야 하나', '투잡할까', '튀김기 사고 싶다', '트래킹 하러 갈까', '트위터 보면 다 행복해보여', '티 나게 어색해 했어', '티 안 나게 나 싫어해', '티비 볼 거 없어', '팀플 안 하면 좋겠다', '팀플 좀 안 했으면 좋겠다', '파도 엄청나다', '파도 장난 아니다', '파도 타고 놀고 싶어', '파도 타고 싶어', '파도가 엄청 세', '파도가 엄청나', '파도가 잔잔하네', '파란 하늘이 그리워', '파마하면 어울릴까', '파마할까', '판도라의 상자를 연 거 같아', '판도라의 상자를 연 기분', '팔뚝 너무 두꺼워', '팔뚝살 빼고 싶어', '팔로우 왜 안해주지', '패디나 할까', '패키지여행이 좋을까 자유여행이 좋을까', '패턴 풀어볼까', '팩이나 할까', '팩해야지', '팬미팅 갔다 왔어', '팬미팅 재밌다', '편두통 온다', '편두통 왔어', '편안하게 살고 싶다', '편의점 간식 먹어야지', '편의점 아르바이트라도 해 보려고', '편의점 알바 면접 간다', '편의점 알바해보려고', '편의점에서 먹어야지', '편지도 다 버려야겠지', '편하게 쉬고 싶다', '평가 좀 해줘', '평가원 시험 잘 봐야 할텐데', '평가원 잘 보고 싶다', '평생 저주할거야', '평생 함께하고 싶다', '평생하고 싶은거 찾아야 할텐데', '평온해', '평일 저녁 데이트 장소 좀 추천해줘', '평일 저녁 데이트 장소 추천', '포근포근한 이불에서 못나가겠어', '포기안한다고 말했어', '폭식증 어떻게 고칠 수 있을까', '폭언하는 사람 어떻게 해', '폭풍 먹방했더니 졸려', '폰 꺼질라그래', '폰 떨궜어', '폰 베터리가 너무 잘 닳아', '폰 베터리가 벌써 없어', '폰 베터리가 없네', '폰 요금 많이 나옴', '폰 초기화 해야지', '폰 케이스 사줄까', '폰게임 때매 폰 느려지는듯', '폰게임 좀 그만했으면', '폰을 오래했나 눈이 너무 뻑뻑해', '폰이 문젠가', '표정이 읽히나', '푸르른 하늘을 보고 싶다', '푹 쉬고 싶어', '프로젝트 끝났으면 좋겠다', '프로젝트 빨리 끝났으면 좋겠다', '프로필 사진 바꿀까', '프리마켓 구경가야지', '프리마켓 재밌겠지', '프사 좀 바꿔볼까', '피곤한테 또 잠은 안 와', '피곤한테 잠이 안와', '피곤해서 못일어나겠어', '피곤해서 하루종일 누워있는 중', '피맥 땡긴다', '피부 관리해야지', '피부 좋아지고 싶어', '피부가 거지같아', '피부가 늙은 듯', '피부가 다시 조금씩 좋아지고 싶어', '피부가 점점 늙어가는게 느껴져', '피부가 푸석푸석해', '피부가 푸석하다', '피씨방 가자고 말해볼까', '피어싱 할까', '피어싱하면 아플까', '피자 땡기네', '피자 막막 먹고 싶어', '피자 먹고 싶다', '피자 배달 왔는데 다 식었네', '피자 식어서 왔어', '피크닉 가고 싶다', '피크닉 가자', '피크닉 고고', '피크닉 어때', '피피엘 너무 심하네', '피해는 주지 말아야되는 거 아니야', '필기구 안가져 왔다', '필기하는거 힘들겠지', '필름 끊겼었네', '필름 카메라 샀어', '필통 두고 옴', '하 말 잘하는 애들 부러워', '하객룩으로 뭐 입지', '하객이 없을 까봐 걱정돼', '하고 싶은 게 없어', '하고 싶은 게 없어', '하고 싶은 게 하나도 없어', '하고 싶은게 없어', '하나부터 열까지 챙길게 너무 많아', '하는 일 없이 피곤해', '하늘 나는 자동차 생겼으면', '하늘 날 수 있는 차 생겼으면', '하늘 본지가 언젠지', '하늘 좀 보구 싶다', '하늘은 왜 내 편을 안 들어주지', '하늘은 왜 내 편이 아닌 것 같아', '하늘을 날고 싶어', '하라고 할때는 공부하기 싫었는데', '하루 종일 밀린 드라마 보고싶다', '하루 종일 아무것도 하기 싫어', '하루를 효율적으로 보내고 싶어', '하루에 만보 걷기', '하루에 몇 번씩 헷갈리네', '하루에도 몇 번씩 마음이 바뀌어', '하루종일 맘 상한게 안풀려', '하루종일 속상해', '하루하루 늙어가', '하루하루가 똑같애', '하우스웨딩 하고싶다', '하우스웨딩도 괜찮은 거 같아', '하울이나 할까', '하품 나와', '하품이 자꾸 나오네', '학교 가기 싫다', '학교 가면 볼텐데', '학교 가서 어떻게 얼굴 보지', '학교 다니는 것도 힘드네', '학교 다닐 때 공부 좀 할걸', '학교 잘 적을할 수 있을까', '학교 적을하고 잘 다닐 수 있을까', '학교 축제 준비하느라 바빠', '학교 축제를 즐겨야지', '학교생활이 조금만 더 재밌으면 좋겠어', '학교에서 계속 잠', '학교에서 계속 잤어', '학교에서 맞았어', '학교에서 아싸해도 될까', '학교폭력 당하고 있어', '학벌이 중요하겠지', '학벌이 중요한가', '학부모 총회에 엄마가 안 왔으면 좋겠어', '학생 데이트 코스 추천', '학생만 평생하면 좋겠다', '학식 이제 물린다', '학식 지겨워', '학원 가기 싫어', '학원 안 다니고 독학하는데 힘들어', '학원 안가고 싶다', '학원폭력 짜증나', '학폭 없어졌으면', '학회 가고 있어', '학회 가는 중', '한 가지를 보면 다른 것은 보지 않아도 알지', '한 가지를 봐도 뻔한 것 같아', '한 번 보고 어떻게 판단하지', '한 번 사는 인생인데', '한 잔 하고 싶다', '한강 가서 맥주 마시고 싶다', '한강 밤에 가면 좋겠지', '한강 야경 좋지', '한강에서 맥주 캬', '한거도 없는데 벌써 이시간', '한국어가 어렵네', '한동안 연락 못해서 미안', '한복 맞출까 빌릴까', '한복 빌려도 예쁠까', '한숨 나와', '한숨만 자꾸 나온다', '한약 너무 써', '한약 먹고 싶지 않다', '한약 먹기 싫어', '한약은 왜이렇게 쓰지', '한자 공부도 좀 해야 되는데', '한자 공부해야지', '할 말 없다', '할 말 있대 뭘까', '할 말이 생각 안나', '할 줄 아는거 뭐야', '할 줄 아는거', '할말 다 하고 사는 게 나빠', '할말 다 했는데 실수한건가', '할인해서 샀어', '할일 되게 많아', '할줄 아는 게 없어', '할줄 아는거', '핫한 명절 선물 알려줘', '항상 나중에 후회해', '항상 당당하고 싶어', '항상 뒤늦게 후회해', '항상 똑같애', '항상 선택할 때 힘들어', '항상 흐지부지야', '해 뜨는 거 보고 잤어', '해결방안도 없으면서 불만만 많은 사람 극혐', '해도해도 모르는게 왜 이렇게 많지', '해볼까', '해봤자 쓸 데 없을 텐데', '해야할 일들이 너무 많아', '해외 여행 너무너무 가고 싶다', '해외여행 가고 싶어', '해외여행 가고싶다', '해외여행가면 좋겠지', '해주기 싫어', '핸드백 선물 받았어', '핸드백 선물 해도 될까', '핸드폰 고장난거 아니야 연락이 안와', '핸드폰 꺼지기 직전', '핸드폰 꺼지기 직전', '핸드폰 꺼질때까지 톡', '핸드폰 너무 많이 해', '핸드폰 떨어 뜨렸어', '핸드폰 떨어뜨려서 고장 났나봐', '핸드폰 바꾸고 싶다', '핸드폰 바꿀 때가 된듯', '핸드폰 배터리 나감', '핸드폰 소액결제 엄청 나왔어', '핸드폰 액정 깨짐', '핸드폰 어플 지울까', '핸드폰 없을 때는 어떻게 살았냐', '핸드폰 요금 많이 나옴', '핸드폰 용량 부족해', '핸드폰 중독인가봐', '핸드폰 중독인듯', '핸드폰 충전해야지', '핸드폰 패턴 궁금해', '핸드폰게임 자꾸 하게돼', '핸드폰이 넘 느려 어플 좀 지울까', '핸드폰이 느려터졌어', '핸드폰이 맛 간거 같아', '핸드폰이 잘 안돼', '햇볕이 너무 좋다', '행복은 어디있어', '행복하기 위해 중요한 게 뭐야', '행복해지고 싶어', '행운을 빌어줘', '향수 뭐로 할까', '향수 뿌려도 될라나', '향수 뿌리면 티나나', '허기져', '허리 아파', '허리 아프다', '허리가 계속 아파', '허리가 많이 아파', '허리가 아파', '허전하다', '허전한게 좀 그렇다', '허전해', '헉', '헌신하다 헌신짝 될 거 같아', '헛소리하네', '헤어스타일 좀 바꿔볼까', '헤어져도 살 수 있겠지', '헤어졌는데 연락하고 싶어', '헤어지고 나면 어떻게 살지', '헤어지기 전으로 돌아가고 싶은건 아닌데', '헤어지자', '헤어지자고 말할까', '헤어진 남자 친구한테 전화하고 싶어', '헤어진 여자친구가 준 편지 못 버리겠어', '헤어진 여친 생각나', '헤헤 용돈 받았어', '헥헥 더워', '헬스장 사람들 몸이 좋아', '헬스장에 사람들이 몸이 다 좋아', '헬스장에 사람이 엄청 많음', '헬스장에 운동 오는 사람 많네', '헬조선 떠나고 싶다', '현금만 써야겠다', '현금만 쓸까봐', '현금영수증 까먹었다', '현금영수증 또 까먹었다', '현금영수증 안했다', '현금영수증 잊어 먹었어', '현실에서 도망치고 싶어', '현재를 즐기면서 살고 싶다', '호감 가는 인상', '호텔 로비에서 소개팅하기로했어', '호텔에서 소개팅하기로했어', '혼밥 먹는 중', '혼밥이라도 먹어야지', '혼밥하고 있어', '혼수 비싸겠지', '혼수 얼마나 들까', '혼수 얼마야', '혼수 준비하는데 돈 많이 들겠지', '혼술 중', '혼술하고 있어', '혼영해야지', '혼자 노래방 가면 어색할 거 같은데', '혼자 사는 거도 괜찮을 것 같아', '혼자 사는 거도 나쁘지 않은 듯', '혼자 살 수 있을까', '혼자 살고 싶다', '혼자 살아도 될까', '혼자 살아야 할 듯', '혼자 앞서서 생각해', '혼자 여행 가도 괜찮을까', '혼자 여행 괜찮을까', '혼자 여행 왔어', '혼자 영화나 봐야겠다', '혼자 영화보러 왔어', '혼자 있고 싶다', '혼자 있으니까 편하네', '혼자 있으니까 혼자 할게 많네', '혼자 자유 여행 가는 거 괜찮을까', '혼자 잘 살 수 있을까', '혼자 축구 보는 중', '혼자 해야 돼', '혼자 해야되는게 너무 많네', '혼자가 편하대', '혼자가 편해', '혼자라서 너무 좋아', '혼자만의 시간을 갖고 싶어', '혼자서도 잘해요', '홈쇼핑에서 또 샀어', '홈쇼핑에서 자꾸 사게되네', '화 잘 내는 법', '화 참으려면 어떻게 하지', '화 참을 때 어떻게 하지', '화내는법을 모르겠어', '화를 내는 법을 알고 싶어', '화를 못 참겠어', '화를 못내', '화를 잘 못 참겠어', '화를 한 번 내는게 나을텐데', '화분에 뭐 심어볼까', '화이트데이에 뭐 선물하지', '화이트데이에 뭐하지', '화장 무너짐', '화장 열심히 했는데', '화장 잘 하고 싶다', '화장 좀 예쁘게 하고 싶다', '화장 지우고 자야하는데', '화장 지워야 하는데 졸려', '화장도 못하고 전남친 만남', '화장빨인가', '화장실 가고 싶어', '화장실 계속 가고 싶어', '화장실 급해', '화장실', '화장실을 못 참아', '화장실을 어떻게 참아', '화장으로 여드름이 가려질까', '화장이 안 먹네', '화장이 안 받네', '화장품 다 떨어졌어', '화장품 사고 싶어', '화장품 없어 사야 돼', '화장품이 필요해', '화장하는 동영상 보는 중', '화장하니까 어때', '화해 어떻게 해', '확실한 건 뭘까', '환기 좀 해야할까', '환기할까', '환승 가능', '환승이 될까', '환승할까', '활발한 성격 갖고 싶다', '황당해 죽겠다', '황당해서 말도 안 나와', '황사 심해', '황사땜에 눈아파', '회 먹어야지', '회 먹으러 가야겠다', '회사 가기 시러', '회사 사람들이 아직도 불편해', '회사 옆에 집이 었으면', '회사 일이 너무 많아', '회사 적응할 수 있겠지', '회사 체육대회 가기 싫다', '회사 체육대회라니', '회사가는 길에 매일 보는 사람 있어', '회사랑 집 가까우면 좋겠다', '회사를 차리고 싶다', '회사만 가면 우울해', '회사에 빨리 적응해야 할텐데', '회사에 완전체가 있어', '회사에 적응 잘 하고 싶어', '회사에 친구가 없어', '회사에는 왜 친구 같은 사람이 없을까', '회사에서 마음 놓고 말할 사람이 없어', '회사에서 마음 편한 사람이 없어', '회사에서 스트레스 받아', '회사에서 인정받는 방법', '회사에서도 친구가 필요해', '회사일 끝나면 아무것도 못하겠어', '회식 재미없어', '회식 좀 그만 했으면ㅜㅜ', '회식 했으면 좋겠다', '회의 때 말 좀 잘했으면', '회의 망했어', '효율적으로 시간 보내는 방법', '후련하네여', '후련하달까', '후배가 나보다 잘해서 속상해', '후배가 너무 잘해', '후배보다 못해서 짜증나', '후회 안해야 할텐데', '훅 들어온다', '휙 떠나고 싶다', '휴가 가야지', '휴가 고고', '휴가 못 쓰게 해', '휴가가 없어', '휴가를 못가', '휴대폰 바꿀 타이밍', '휴대폰 액정 깨졌어', '휴대폰 없이 못 살거 같아', '휴대폰 용량 없다', '휴대폰 중독인 것같아', '휴대폰 초기화 해야돼', '휴대폰 충전기도 까먹었다', '휴대폰이 넘 느려', '휴식 중', '휴양지 가고 싶다', '휴양지 추천', '휴지 사야지', '휴지도 떨어졌네', '휴학하고 싶다', '휴학하는 게 나을까', '휴학할까', '휴학해야하나', '흡입했더니 졸려', '희망이 딱히 없어', '희망이 안보여', '희망이 없어', '희생양 된 느낌', '흰머리 나', '흰머리 보여', '힌트 좀 안주나', '힌트 좀 줬으면 좋겠어', '힘내라고 말해줘', '힘내야지', '힘든 것 좀 끝났으면', '힘든 시기가 지나갔으면', '힘든 데도 날 도와준 사람', '힘차게 시작', '1000일 만난 여자친구와 이별', '10년 연애 헤어졌습니다', '10년 연애사 되돌아보니 다 부질없네', '10년 연예의끝', '10년만나다 헤어지네', '10년이라는 시간이 참 무색하다 싶네', '10월의 마지막밤  더 보고싶네 그사람', '14년된 여자친구랑 이별', '14년의 기나긴 이야기', '15년…안녕', '15년만에 쓰는 편지', '1년 9개월 의 연애 종지부', '1년 반', '1년4개월의 종지부를 찍네', '1년동거 끝에 헤어짐', '1년만에 꿈에나와서 설레게하네', '1년만에 다시헤어지게 됐네', '1년만의 연애가 끝났네', '1년을 넘게 만났는데 어떻게 이럽니까', '1년이 되어갑니다', '1년이 아무것도 아니였나', '1년이 지났어도', '1년전 그 날', '1년전 헤어진 남자한테서 연락이 왔어', '2년 6개월 이렇게 끝나네', '2년 가까이 여친하구 헤어졌습니다', '2년 가량의 연애', '2년 다되가는 연애 끝', '2년 만에 연락 그후입니다 ', '2년 사귀고 헤어졌습니다', '2년 정도를 만났는데 잘 이해가 안가', '2년간 만난 여자친구와의 이별', '2년간 연애끝에', '\"2년간의 단거리', '2년동안 나 사랑해줘서 고맙다', '2년만에 연락을 했습니다', '2년사귀다가 헤어젔는데', '2년여의 만남 3번의 이별', '2년의 꿈같았던 사랑 갑작스런이별', '2년의 시간', '2년의 연애에 이별이란 종착역', '2년이 지나서 첫사랑이 살던곳 지나갔는데', '2달반이라는 시간동안 많이 괜찮아졌어', '2주가 지났어', '2주가지나가네', '2주동안 참을만 했는데', '2주전에 헤어졌습니다', '30살 막바지의 이별', '3개월만에 연락이 오긴왔는데', '3개월만에 연락이 왔습니다', '3개월이라는 시간이 흘렀지만 여전히 제자리걸음', '3개월전에 헤어진 전남친이 문자했어', '3개월째', '3년 동거 돈 싸움 헤어짐', '3년 반의 만남 끝에 헤어지게 되었습니다', '3년 연애  마침표가 도저히 끊기질 않네 어쩌면 좋죠', '3년 연애의 끝', '3년 째 트라우마', '3년간 만나던 여자친구와 헤어졌어', '3년반 만난여자와 헤어진지 한달 되었습니다', '3년연애이별', '3년이 지난 지금', '3년이란 시간이 흘렀는대도', '3년이란 오랜기간 연애를 하다보니 권태기가 찾아오네', '3달이 지났네', '3달이지났는데 이제야 헤어짐을 확신했네', '40을 목전에 둔 헤어짐', '45일만에 진짜 헤어지네', '4개월째', '4년 반이라는 시간이 이렇게 끝나네', '4년 사귄 여자친구가 환승 이별했어', '4년 사귄뒤 이별 어느새 5달이 다되어가네여', '4년 연애 후 이별 6개월 새로운 시작을 하는 전여친 너무 힘들어', '4년4개월간의사랑이끝났네', '4년넘은 인연이 끝이났습니다', '4년만난 여자와 이별한지 5개월 다되어가네', '4년을 만난 여친이 떠났습니다', '\"4년을 만났어도', '4년을 엊그제 마무리 했습니다', '4번의 재회와 4번의 헤어짐', '\"4월', '5년 10개월간 연애 그리고 이별 준비 중', '5년 동거후 이별', '5년 사귄 여자친구와 이별이네 조언부탁좀 드려', '5년 연애 이별', '5년 연애 후 이별 3개월차', '5년 연애가 끝났습니다', '5년 종교 문제 결국엔 헤어지네', '5년가까이 사귄 그녀와 헤어졌습니다', '5년간 사귀고 어제 헤어졌습니다', '5년간 사귀고 이별', '5년만난 전여친과 결국 어제 헤어졌습니다', '5년연애 끝은 정말 멍하고 허무하네', '5년연애 이별후 3개월', '\"5년이 넘게 만난 첫 연인', '5년이란 시간이 무색해지네', '600일 좀 넘은 저의 사랑 그리고 이별이야기', '6개월 가량의 이별과 재회의 끝', '6개월간의 짧은 사랑', '6개월만에 다시 만납니다', '6개월이 지나도 왜이런거죠', '6년 4개월동안의 연애 그 후 이별 뭘해야할까', '6년 연애 후 환승이별 당했어', '6년 이야기', '6년그리고남은 것들', '6년연애 그리고 이별통보', '6년을 널 위해 모든걸 바쳤고 니가 떠난후 4년동안 난 미친듯이 살았다', '6년의 만남 이별을 준비하고 있습니다', '6년의시간과 6일간의 헤어짐 이제보내주려합니다', '6살 많은 전여친이랑 만나고 얘기 잘하고 왔습니다', '7년 내남자', '7년 정도 사귀었습니다', '7년만에 두번째 이별통보', '7년반 연애 끝났습니다', '7년사귄 남자친구에게 배신당했어', '7년사귄 남자친구의 유흥업소 방문사실을 알아버렸습니다', '7년이라는 세월 함께한 애인과 이별하게 되었습니다', '7년째', '7일차', '8년 긴 만남의 끝은 힘드네', '8년 긴 연애의 끝', '8년 만났는데 어떻게 헤어져', '8년 사귀고 해어진지 1년', '8년 사귀고 헤어진지 2달', '8년 연애끝의 이별', '8년의 연애의 끝에 와있습니다', '9년 연애 환승이별', '9년간의 연애', '\"9년연예', '9년이 넘는 연애를 끝냅니다', 'jk김동욱 노래 생각나네', 'SNS 를 끊어야 하는데', 'SNS 흔적', 'sns에서 다른 이성이랑 대화하는걸 보니 화가 나', '가벼워졌다고 생각했는데', '가사가 내맘같아', '가슴 아픈 이별', '가슴 한편이 꾹꾹하네', '가슴에 구멍이 너무 커', '가슴은 계속 죽음만을 쳐다봅니다', '가슴이 너무 아프고 숨쉬기가 힘드네', '가슴이 아파', '가슴이 아프네', '가슴이 허락하질 않네', '가장 가까웠던 사람이 이제 가장 먼 사람이네', '가족관계 알려줘', '가짜 이별 4개월만에 마침표 찍었습니다', '가혹한 이별 극복방법', '간단하게 사랑이라는건', '간단하게 사랑이라는건', '간만에 꿈에 나와준 그녀 덕에 추억들이 막 떠오르네', '간통 극복하는 방법', '갈수록 더보고싶고 감당이안돼', '갈수록 힘이 드네', '감각이 무뎌질 때도 된 거 같은데', '감정기복', '감정에 솔직했을 뿐인데 남자들은 싫은 가봐', '감정조절이 안돼', '감정조절이 안되서 문자 보냈네', '갑자기 급우울', '갑자기 또 힘이드네', '갑자기 무너져버린 내자신', '갑자기 밀려오는 우울감', '갑자기 심장이 덜컹', '갑자기 일어난일이라 어이 없어', '갑자기 차가워졌는데', '갑자기 화가나서 싸우고', '갑자기 힘드네', '갑작스러운 이별', '갑작스럽게 연락이 왔네', '같은 반인데 헤어지자고 해야 하나', '같은하늘 다른공간', '같이 마지막으로 다녀온 여행 생각나', '같이 보고싶어 올립니다', '같이 보고싶어서 올려~', '같이 오르고있는줄 알았는데', '같이 욕해줘', '같이 있었는데', '같이 해온 5년', '개거지같이 헤어져서 열받아', '걔 없이 잘지내 보려구', '걔는 행복하게 살텐데', '거울 속에 비친 내 모습', '거울보는게 싫어졌어', '거의 매일 술', '거지같은 이별', '거짓말은 진짜 못고치는 병 맞죠', '거짓말처럼 돌아왔으면 좋겠다', '걸지 못한 전화', '걸핏하면 차단하는 놈', '겁나 열받어', '겁이 납니다', '겨우 힘든 맘 추스렸는데 연락오네', '겨울에 하는 이별', '견디기가 너무 힘드네', '견딘다는 것', '결국 결혼에 골인 못하고 헤어졌습니다', '결국 놓아줬네', '결국 다시 이렇게 됐네', '결국 답왔는데기다리지 말라네', '결국 또 꿈꿨네', '결국 또 다시 이별이 오네', '결국 또 무너졌습니다', '결국 또 오게되네', '결국 만나진 못하고 카톡으로 맘 전했네', '결국 사고쳤내 또', '결국 여친이 헤어지자 하네', '결국 연락을 해버렸네', '결국 연락했어', '결국 완전 끝낫네', '결국 유료 상담을 받고야 말았네', '결국 이렇게 끝나버리네', '결국 이렇게 될 꺼면서', '결국 이별 종지부를 찍었네', '결국 이별의 끝은 망상인건가', '결국 제가 병신인거죠', '결국 찾아갔네', '결국 파혼했어', '결국 핸드폰 번호 바꿨어', '결국 핸드폰 번호 바꿨어', '결국 헤어졌네', '결국 헤어졌네', '결국 헤어졌네', '결국 헤어졌어', '결국 헤어지자고 했어', '결국 헤어짐이 찾아오네', '결국 헤어짐이 확실해졌습니다', '결국엔 끝이라는 생각', '결국엔 바람난거였네', '결국은 무너졌네', '결혼 가치관 때문에 헤어졌네', '결혼 삼개월 이혼이네', '결혼 전재 동거가 끝났네', '결혼 준비중 일방적인 이별통보 살기 싫어져', '결혼 직전 이별', '결혼까지 생각했는데', '결혼은 4년후에 하고 싶다고 하네', '결혼이나 하지 왜 자꾸 나한테 화 내냐구', '결혼적령기의 여자는 이기적이에요', '결혼할 확신이 안선다고 헤어지자네', '계속 맴돈다', '계속 생각나는 사람', '계속 생각난다면 연락 한 번 해봐야겠죠', '계속 시간을 갖자는 의미는 뭔가', '계속꿈에 나와', '계절이 바뀌면', '고민이 되네', '고백하고 후회하면 어떡하지', '고작 그러려고 날 떠난건지', '고작 사람 하나인데', '곧 1년인데 헤어졌어', '곧 500일을 앞두고 헤어졌어', '공부는 내 체질이 아닌 것 같아', '공부하기 힘들다', '공허하네', '공허한 마음', '공허함이 크네', '공황증', '과거가 발목을 잡아', '과거에 얽매여 있어', '과거의 나한테 화나', '과연 돌아올까', '과연 사랑이였을까', '괘씸하고 분하지만 너무 그립습니다', '괜찮다 나는 괜찮다', '괜찮다가갑자기 ㅠ', '괜찮다가도 불쑥불쑥 올라오네', '괜찮다가도 한번씩 마음이 저려오네', '괜찮아 지고있었는데 에효', '괜찮아 지지가 않아', '괜찮아 진 줄 알았는데 오늘 펑펑 울었어', '괜찮아졌는줄 알았는데  ', '괜찮아졌다가 다시울컥하네', '괜찮아진 줄 알았는데', '괜찮았었는데', '괜찮은 줄 알았는 데', '괜찮은 줄 알았는데', '괜찮은 줄 알았는데 남자가 생겼단 말에 마음이 또 다시 덜컥 내려 앉네', '괜찮은 줄 알았는데', '괜찮은 줄 알았다', '\"괜찮은 척', '괜찮은게 아닌가봐', '괜찮은주 알았는데', '괜찮을줄 알았는데', '괜한 희망은 더 큰 절망을', '괜히 카톡했네', '괴로워', '괴롭습니다', '구걸하듯 사랑하지 마', '군대 가도 기다리겠다더니', '군인이라 슬프네', '군인입니다 환승이별', '궁금한게 있는데', '궁금한게있습니다', '궁금한게있어', '권태기 ', '권태기 이기적인 거 알지만', '권태기 이별', '권태기는 노답이네', '권태기라고 이별을 통보하는 사람', '권태기로 헤어지면 후회할까', '그 남자의 결혼 소식', '그 모습 자꾸 생각나', '그 사람도 그럴까', '그 사람에게 여자가 생겼네 ', '그 사람이 참 그리워', '그 애하고 다녔던곳들 찾아다니는 습관', '그게 되니', '그나저나 웃기라고 해보죠', '그나저나 힘들긴 힘드네', '그냥 가슴이 아프네', '그냥 궁금해', '그냥 나를 위해 살고 싶어', '그냥 다 포기하려구', '그냥 답답하네', '그냥 마음에서 지울게', '그냥 만남과 헤어짐의 연속', '그냥 무작정 그녀 집에 갑니다', '그냥 보고싶다', '그냥 보내려 합니다', '그냥 써 봐', '그냥 이렇게 산다', '그냥 이별은 힘듬', '그냥 주절주절', '그냥 차단이나 하지', '그냥 친구하자네', '그냥 행복하면 그뿐', '그냥 흔한 이별 그리고 넋두리', '그냥너와 말한마디 섞고 너와의 인연에 고맙다', '그녀 생각만 하면 멍해져', '그녀 생각에', '그녀 생각에 아직 잠을 잘못잡니다', '그녀 생일', '그녀 참 잔인하네', '그녀가 꿈에 나와서 다시 만나고 싶다 했어', '그녀가 떠났습니다', '그녀가 많이 힘들어보이네', '그녀가 정말 떠납니다', '그녀는 가끔 이라도 나를 생각해 줄까', '그녀는 내게 돌아오지 않아 이젠 잊어야해', '그녀는 무슨 생각일까ㅠ', '그녀는 이별했지만 전 아직 슬픈진행중', '그녀로부터 연락이왔습니다', '그녀를 닮은 여잘 보고', '그녀를 떠나 보냈습니다', '그녀를 떠나보내야 하나', '그녀를 만났던 카페에서 탈퇴했어', '그녀를 잊어야 하는게 너무 힘이 드네', '그녀를만나고와서', '그녀에 sns를 봤습니다', '그녀에게 받았던 선물들을 모조리 다 버리려 합니다', '그녀에게 연락이 왔습니다', '그녀에게도 후폭풍이 올까', '그녀와 운동하던 헬스장 짐 정리 하러 갑니다', '그녀와 이별을 할때마다 한나씩 잃었었네', '그녀와 헤어졋습니다', '그녀와 헤어지고 느낀게 많네', '그녀의 결혼 너무 가슴이 아프네', '그녀의 남자사진을 봤습니다', '그녀의 모습을 보는 마지막 순간', '그녀의 사진들 다 지웠어', '그녀의 소식', '그녀의 소식 친구로부터 전해듣기', '그녀의 카톡', '그녀의 카톡이 없어졌다', '그녀의 행복을 진심으로 빌어주는 날이 올까', '그노무 카톡', '그놈 생일이예요', '그대가 보고파', '그동안 감정적으로 너무 기대한 듯', '그동안 보내왔던 시간', '그동안의 만남과 시간이 멈춰버렸습니다', '그땐 몰랐습니다', '그래 오늘 내가 찼어', '\"그래', '그래도 겨우 번호를 지웠어', '그래도 속이좀 풀리네', '그래도 아프다', '그런 여자가 있었지하고 잊혀지겠지', '그럼에도 난 이러고 있어', '그렇게 기다렸는데', '그렇게 잊어가는구나', '그리고 3년하고도 5개월', '그리움', '그리움', '그리움만은 어쩔수 없는가보다', '그리움이 나을가아픔이 나을가', '그리워 하지마 만약 다시 만난다면 넌 더 외로울거야', '그리워서 죽고 싶다는 생각이 드네', '그만 울어야지', '그만 힘들어하구 싶다', '그말 하지 말걸', '그사람도 아주 가끔은 내 생각해줬으면 좋겠어', '그사람도 이별을 준비 중인 걸까', '그사람은지금대전에있습니다', '그사람이 자꾸 꿈에 나와', '그쪽은 너무 편안하고 즐겁게 지내', '극복 연락 흔들림', '근데 헤어지고 별로 힘들지 않은건 왜그런건가', '글 썼다가 지우게 돼', '글을 쓰게 되네', '기념일에 대한 추억', '기다리고 계신 분들', '기다리고 있습니다', '기다리는게 답일까', '기다리는게 힘든거네', '기다리다 지친듯해', '기다리면 연락은 오더라구', '기다리지 않았다고 하지만 기다렸어', '기다림', '기대하지 마라', '기분 참 더럽네', '기분이 너덜너덜', '기분이 묘한 하루네', '기숙사 괜찮을까', '기억에서 잊혀질까', '기억을 지우고 싶네', '기억의 왜곡에 속지말고 아파하지 마세', '기억이 불쑥 날 때', '기억이나 할까', '기억하고 싶지 않은 기억', '기운이 없어', '기절할 정도로 피곤해야 잠드는데', '기회도 없네', '긴 연애 끝에 헤어짐', '긴시간이 흐른 후면 괜찮아지겠지', '긴여정 끝에 헤어졌습니다', '긴연애의 끝인가', '깊은고민', '깨끗하게 보내야 하는데', '깨달음은 늘 늦게 온다', '꼭 아파야 하는 정량이 있는 것 같아', '꼭 잡고 싶습니다', '꿈꾸니까 진짜 힘드네ㅜ', '꿈때문에 새벽에 깨게되네', '꿈속에서도 안보여', '꿈에 나오지마 제발', '꿈에 나온다는건 아직 못잊는건가', '꿈에 나온헤어진 여자친구', '꿈에 나왔네', '꿈에서 전남친 친구가나왓는데', '꿈에서까지 힘들게하냐', '꿈에서라도 보고싶어', '꿈을 꿨는데 악몽이네', '꿈을 안 꿀 수 있다면', '꿈이 너무 리얼하네', '꿈이라는 무방비상태', '꿈인지 현실인지', '꿈ㅠㅠ', '끈어져 버린 인연의 고리', '끈을 놓지 말자', '끝', '끝까지 저에게 너무했던 남자친구', '끝까지 절 갖고 놀더군', '끝까지 참 못난놈', '끝까지 함께 할 거라 믿었는데', '끝나지 않을까봐 겁이나', '끝날때까지 끝난게 아니라지만', '끝내는게 맞을까', '끝이 났네', '끝이 보이지 않는 터널 같습니다', '끝이났네', '끝이네', '끝이보였던 연애', '끝인가', '끝인거 답은 아는데 왜 안되는걸까', '끝인거겠죠', '나 같이 헤어진 경우도 있을까', '나 너한테 다시 돌아가면 받아줄꺼야 라는 말', '나 미쳤나바', '나 심리상담 받고 왔어', '나 어떡하나', '나 잘하는 거 맞을까', '나 정말 무뎌지고있나봐', '나 좀 말려 줘', '나 편안해질까', '나 혼자 잡고 있던 끈이었어', '나그네', '나는 괜찮다', '나는 너를 거쳐간 수 많은 남자들 중 한명뿐이겠지', '나는 더 이상 아닌거겠져', '나는 모든걸 걸어 널 사랑하는데', '나는 열심히 잊고 있다 하지만 마음 한켠엔 구멍이 남아있네', '나는 이제 아프지 않습니다', '나는 좋은데 …', '나는 참 단순했다', '나도 모르게 니 생각을 하고 있어', '나도 좀 살게 연락 좀 하지마', '나라도 내 마음을 지켜야 하는 거야', '나란 놈 참 신기한 놈이다', '나랑 만날땐 안바꾸던 프사', '나를 사랑하지 않는다네', '나를 사랑한 그사람에게 해줄수있는것', '나를 사랑했던 건 진심이였을까', '나를 선택의 기로에 놓이지 않게하라', '나를 좀 놓아달라는 여친 혹시 가능성은 있을까 죽을 것 같네', '나만 구질하게ㅜㅜ', '나만 그대로다', '나만 아직 그자리인거 같아', '나만 힘든 거였구나', '나만 힘든가 보네', '나만 힘든거 같아', '나만 힘든건지', '나만 힘든것같아', '나만의 착각이었나보네', '나만큼 힘들지 않았으면 좋겠습니다', '나쁜 꿈을 꿨어', '나쁜 마음이 듭니다', '나쁜 사람 잊는방법', '나약한 생각', '나없이행복한가봐', '나의 기억은 또 다시 시간을 걷는다', '나의 약점', '나의 이별 이야기', '나의 자만심 때문에', '나이먹을수록 더 힘드네', '나하긴 싫고 남주긴 아깝다는 심리인가', '나한테 욕 좀 해줘', '나한테 지쳐서 떠난여자', '난 나대로 걍 산다', '난 너한테 결코 네버 절대로 연락 안할거다', '난 또 바보ㅠㅠ', '난 아니라네', '난 안돼 난 못 받아들여 제발', '난 왜이리 바보 같을까', '난 잘못이 없다', '난 잘지내고 있어', '날 버려달라고', '날 보는걸 벌레 보듯하던 니 시선', '날씨가 갑자기 추워져서인지', '날씨가 제 마음같네', '날씨가 좋네', '날씨가 좋아서 좋긴한데 또 싫네', '날씨가 차서 그런지', '날씨가 참 안도와주네', '날이 꿀꾸리', '날이 많이 추운데', '남긴게 없이 줬다고 믿어', '남동생한테 자꾸 화내게 되네', '남들이 다 겪는 그저그런 8년의 사랑이야기', '남은건 너의 빈자리', '남자 못믿겠어', '남자가 못잊는 여자', '남자들에게 말 못하는 여자들의 이별 세가지', '남자들은 원래 이런가', '남자분들 궁금해', '남자분들 질문이', '남자분들께 궁금 해', '남자의심리 모르겠어', '남자인지 여자인지 알려줘', '남자친구 물건', '남자친구 조건 때문에 헤어졌어', '남자친구가 이별준비를 하는 것 같아', '남자친구의 말 뜻', '남자친구의 바람으로 오늘 이별했습니다', '남자후폭풍', '남친과 헤어진지 12일째', '남편과 별거한지 3달 되었네', '낭만이라고는 없어가지구', '낮술먹는날 우울터짐', '낮에는 그나마 괜찮은데', '내 나이 어떻해', '내 마음과 머리가 이해가 안가네', '내 마음에 마지막 인사', '내 마음을 정리하기가 어려워', '내 머리 속에 지우개가 있으면 좋겠어', '내 발등 내가 다시 찍었네', '내 사랑에게', '내 사랑은 그저 집착일 뿐이다', '내 사랑의 끝은 이별이지만', '내 생각 하나만 바꾸면 편할텐데', '내 생각을 하고는 있을까', '내 안에서 없애고 싶다', '내 욕심일 뿐이지', '내 이기심과 욕심이 그녀를 떠나게 한거 같아', '내 이름이 없어', '내 자신을 사랑하라', '내가 그리운만큼 그대도 그리운가', '내가 나쁜 놈이지', '내가 나쁜놈인가', '내가 나에게 해주고 싶은 말', '내가 너의 곁에 잠시 살았다는걸', '내가 더 좋아하는 것', '내가 만난 최악의 여자', '내가 멍청한건가', '내가 뭘 좋아하는지 잘하는지 모르겠어', '내가 사랑했던 사람', '내가 싫대', '내가 얼마나 찾아야 할까', '내가 예민한걸까', '내가 왜 고집부렸을까', '내가 이상한건가', '내가 잊어야 그 사람이 날 그리워하는 날이 온다', '내가 잘못햇나', '내가 제일 무서운건너를 못잊을것 같은거야', '내가 힘든 이유', '내가노력해 봐도', '내가미쳤지', '내게 전화라도 해줬으면 좋겠다', '내려 놓으렵니다', '내려놓기', '내려놓는다는건 어떻게 하는거죠', '내려놓을 준비 합니다', '내여잘 건드린놈들', '내일 그녀 생일이네', '내일 그녀 생일입니다', '내일 마지막 데이트', '내일 발렌타인데이인데', '내일로 꼭 헤어진지 1년째네', '내일이면 헤어진지 2주 되네', '냉정해지지못해', '너 만든 사람은 누구야', '너 뭐니', '너가 생각난다', '너가 없으면 못 살 줄 알았는데', '너가 제일 기뻐해줬을텐데', '너는 내 인생에서 죽었다', '너도 아프니', '너랑 나는 안되는 걸까', '너를 사랑한 만큼만', '너무 가슴이 아파', '너무 가슴이 아프네', '너무 괴롭네', '너무 끔직한 5월의 연휴도', '너무 너무 억울하다', '너무 늦은 깨달음', '너무 답답하네 어떤맘일까', '너무 답답한데', '너무 답답해 조언 좀 해줘', '너무 답답해서 글올려', '너무 답답해서 글을 써봅니다', '너무 두려워', '너무 매달렸나봐', '너무 보고 싶다', '너무 보고 싶습니다', '너무 보고 싶어 살려줘', '너무 보고싶네', '너무 사랑해서그래서 미안하다', '너무 사랑했고 너무 그리워하는 그사람', '너무 상처를받아서', '너무 슬퍼 잠못들어 보내지 못하는 글을 올려봅니다', '너무 아파 외로워', '너무 아플줄 알았는데 오히려 무덤덤하네', '너무 오래한 연애', '너무 우울하네', '너무 잡고 싶지만 도저히 잡지 못해', '너무 허무하네', '너무 화가나 슬프구', '너무 화나', '너무 힘드네', '너무 힘드네여', '너무 힘든 나날을 보내고 있습니다', '너무 힘든데', '너무 힘든데 조언 좀', '너무 힘들다', '너무 힘들다', '너무 힘들다', '너무 힘들어', '너무 힘들어서 미치겠네', '너무 힘들어서 심장이 터질 것만 같아', '너무 힘들어서 정말 너무 힘들어', '너무 힘들어서 죽고싶어', '너무 힘들어서 지금 옥상에 올라왔어', '너무 힘듭니다', '너무 힘듭니다', '너무 힘이 들고 내 자신이 한심해', '너무 힘이 들어', '너무 힘이듭니다', '너무나 와닿는그런 표현이 아닐까 하네', '너무나도 힘들어', '너무너무 답답하네', '너무너무너무 힘드네', '너무우울해', '너무하네 진짜', '너무화가나네', '너에게 보낼 수 없어 여기다 남길게', '너에게 보냈던 마지막 카톡', '너에게 쓰는 나의 마음편지', '너에게 쓰는 편지', '너에게 쓴다', '너와 처음 만났던 공간부터', '너의 향기를 지우려', '너한테 또 안보낼 편지', '너한테 쓰는 편지', '너한테 이글안보여줄거다 ', '넋두리', '넌 그냥 외로움을 달래기 위한 거였겠지', '넌 너무나도 잘지내고있구나', '넌 잘살더라', '넌 충분히 좋은 사람이였어', '넌 행복하네', '널 사랑하지 않아', '넘 많이 먹었다', '넘 힘든 이별 준비', '네 꿈을 자주 꾸는데', '네가 죽는다는 꿈을 꾸었어', '네번 헤어졌습니다', '노래 가사가 참ㅠ', '노래 듣는데 참 공감이 되네', '노래가 정말 가슴이 찢어지내', '노래를 듣다가 눈물 나', '놀아 줄 사람이 없어', '놔줬더니 이게 뭐야', '누구나 가슴속에 있는 전화번호', '누구나 궁금할법한 이야기', '누군가 제 이야기를 들어줬으면 해서 올리내', '눈물', '눈물만', '눈물이 계속 나와', '눈물이 납니다 무슨 눈물인지 모르겠지만', '눈물이 많터냐', '눈물이 말랐는지 슬퍼도 감정이안나오네', '눈물이 멈춰지질 않네', '눈썹 문신 어때', '뉴스는 역시 지루해', '니 물건들 잡동사니들다 버려달라고 부탁했는데', '니가 독한거니 내가 찌질한거니', '니가 생각나긴나', '니가 심어준 버릇', '니가 없는 주말', '니가 원망스러워', '니가 이 글을 봤으면', '다 괜찮은 줄 알았는데', '다 끝났네', '다 끝났네', '다 내려놓고 오늘부터 연락 끊었네', '다 내려놓았더니잊혀지려고는 하는데', '다 부질없는짓 같아', '다 잊고 살아야', '다 잊었는줄 알았는데', '다 정리된 상태에서 헤어지면 후폭풍 없나', '다가오는 크리마스', '다가온 이별', '다들 아니라는 남자', '다들 어떠셨어 결국 이렇게 되는건가', '다들 어떻게 견딜까', '다들 잘 헤어졌데', '다들 추석 잘보내세용', '다들 힘들겠지', '다른 남자들도 그럴까', '다른 사람들도 나처럼 이렇게 힘들까', '다른 사람들도 이런 재회 바라나', '다른 사람들에 비해 만남은 짧앗지만', '다른 사람에게 뺏긴거 같네', '다른 사람을 만나도 채워지지 않아', '다시 꼭 잡겠다는 결심', '다시 돌아오거나 연락이 올까', '다시 뒤숭숭해', '다시 또 가라 앉고 있습니다', '다시 만나서 이야기', '다시 만나자는 말 하기 전까지 연락 안 하게', '다시 만나자면 만나줄까', '다시 만날 수 있을가', '다시 만날 수 있을까', '다시 만날수 있을까', '다시 보기는 봤는데 결국은', '다시 붙잡고 싶은데 돌아올까', '다시 붙잡는 사람', '다시 사랑한다고 했는데', '다시 숨쉬려구', '다시 와도 싫다고 단호하게 말해야지', '다시 우울', '다시 원점으로 돌아온건지', '다시 이별', '다시 이별이 올거같아', '다시 재회하는 경우는 기분 어떨까', '다시 차단해야만 하는군', '다시 찾아온 이별', '다시 한번 더 붙잡고 싶어 ㅠㅠ', '다시 한번 또', '다시 한번 붙잡아도 안되네', '다시 헤어졌습니다', '다시 헤어진 직후로 돌아간거같아', '다시 힘들어지네 ㅠㅠ', '다시는 연락 안하고 잊어볼려구', '다시만나고싶어', '다음주가 너무 무서워', '다음주에 전 여자친구를 보기로 했어', '다잊은것같다가도', '다정했던 너는 이미 죽었다', '담담하게 헤어졌어', '답 좀 줘', '답답증', '답답하네  뒤숭숭하고', '답답하네 재회 하고 싶어', '답답하다', '답답한 마음', '답답한 마음만 드는 내 사랑', '답답함', '답답해', '답답해 죽겠네', '답답해서', '답변 조언 부탁드려 오랜연애 끈을놓을까', '답이 없는 과정', '답이 없는 남자', '당신도 저만큼 아팠으면 좋겠습니다', '당신이 너무 원망스럽습니다', '대체 뭘해야 머릿속에서 지울수 있을까', '대체 본심이 뭐라는 건데', '더 답답한 오늘', '더 많이 좋아하고 덜 많이 좋아하는 거 그만합시다', '더 이상 사랑 때문에 상처받기 싫어', '덜 좋아하는 방법만 알면 힘들지 않을텐데', '덤덤', '덤덤하게', '덤덤해지는데', '도대체 왜 이러는걸까', '도와줘', '도움되시길', '독하게 정리', '독한 불면증', '돌아올거란 생각부터 하지 말걸', '돌이키기 힘든 실수', '동거 8년 환승이별', '동거 후 헤어졌어', '동거하다 이별', '동거헤어짐 그 후', '동성동본으로 헤어질려고 합니다 ', '두 번째 이별 이야기', '두달 반', '두달간에 연애 그리고 헤어짐', '두달이 넘었는데도 힘드네', '두달이 되가네', '두달이 되었네', '두달이 지났네', '두달전에 잠수이별했던 전남친이 연락한다', '두렵습니다', '두번 다시 하기 싫은 헤어짐', '두번 다시는 마주치고 싶지 않아여', '두번 이별하는 느낌입니다 하', '두번째 이별', '두번째 읽씹', '두번째 주말이 지났네', '둘 다 바보였다', '둘만의 기념일 너무 힘드네', '뒤숭숭하네', '뒤숭숭하네', '드디어 그 순간이 거의 다가왔습니다', '드디어 바닥을 찍었네', '드디어 어제 끝냈습니다', '드디어 연애에 종지부를 찍은것 같네', '드디어 정리했네', '드디어 제가 손을 놓았어', '드디어 차단을 했습니다', '드디어 처음으로 꿈에 나욌습니다', '드라마보고 눈물났어', '따끔하게 혼내 줘', '따뜻한 봄이 다시 왔네 ㅎㅎ', '따지고 싶은데 참아야겠죠', '딱 알아봤는데', '딱 오늘 새벽 헤어졌습니다', '딱 좋아', '딱한번만 생각해보세', '때를 기다립니다', '떠나간 사람 생각하면 끝도 없습니다', '떠나간 전여친 지나가다 봤네', '떠나간사람은 이렇게도 차갑나', '떠나려는 사람 잡는 방법', '떠나보내지지가 않아', '떠난 그녀를 제 마음속에서 이제는 놔주려 합니다', '떡볶이 좋아하지도 않는데', '또 꿈에 나와버리네 에휴', '또 다시 낮술', '또 다시 돌아온 불금이네', '또 다시 생각나는 그', '또 다시 악몽', '또 다시 이별', '또 다시 이별을 맞았네', '또 다시 이별입니다', '또 바람일까', '또 아침은 오네', '또 아픈 밤이네', '또 연락을 해버렸네', '또 일주일도 못가서ㅎㅎ', '또 전화 안받아', '또 주말', '또 주말이 지나가고', '또 주말이네', '또 하루가 간다', '또 하루가 저물어가네', '또 한번의 무너짐', '또다시 꿈에 나왔네', '또다시 찾아오는 밤', '또오늘부터 한달이 시작되었네', '똑같은 이별', '\"뜨겁게 사랑하거나', '뜬금 시간을 가지자고 해서', '뜬금없이', '뜬눈으로 밤을 지새웠네', '뜻밖에 연락', '로맨스는 없습니다', '롤로코스터를 타는 마음', '롱디 그만 두고 싶습니다', '리턴 다시 돌아오는 힘겨움', '마냥 헌신하던 제 모습이 처량하고 화가나네', '마무리', '마음 먹었습니다', '마음 비우기가 너무 힘들어', '마음 정리가 되네', '마음 정리가 안돼', '마음 정리중', '마음대로 안되네', '마음도 춥고 날씨도 춥고', '마음에 구멍이 난 느낌', '마음을 억지로 접는게 어렵네', '마음이 꽉막힌듯해요', '마음이 너덜너덜해졌어', '마음이 너무 답답하고 무거워', '마음이 너무 아파', '마음이 답답합니다', '마음이 더이상 커지지 않았으면 좋겠어', '마음이 떠났데', '마음이 변하는 이유', '마음이 불안하고 초조해 미치겠어', '마음이 아려', '마음이 안오는 건 어쩔 수가 없나봐', '마음이 어려워서 들어왔어', '마음이 완전히 식은 남자', '마음이 쫌 복잡하네', '마음정리', '마주쳤는데 최악', '마주칠까', '마지막 그녀를 만났어', '마지막 데이트 하고있는데 이 사람이 미워', '마지막 도전', '마지막 말', '마지막 문자 보냈어', '마지막 문자 아직도 가지고 있어', '마지막 문자를 보내버렸어', '마지막 붙이지 못한 이별편지', '마지막 사랑', '마지막 선물', '마지막 이별', '마지막 작별 문자를 보낼까', '마지막 정리', '마지막 짐 갖다주러 가는 길', '마지막 카톡을 보냈어', '마지막 현관문을 닫을 때가 안 잊혀', '마지막문자', '마지막으로 만나고 왔습니다', '마지막으로 붙잡아보려 합니다', '마지막으로 얼굴보고 정리하려했는데 그게 안돼', '마지막으로 편지까지 썼는데', '마지막이 될 편지', '마지막이겠죠', '마지막인가봐', '마지막입니다', '마침표', '막장으로 가네', '만나고 와서 더 힘드네', '만나고 왔는데 혼란스러워', '만나는 중에 이 남자 저 남자랑 연락하는 여자', '만나러 왔습니다', '만난지 7년 헤어진지 5일째', '만날땐 좋다가 헤어지면 매몰찬 여친', '만남과 이별', '많은걸 깨달은 이별', '많은조언부탁드려', '많이 괜찮아졋지만 여전히 찌질한 모습의 나', '많이 괜찮아졌다고 생각했는데', '많이 사랑 했나보다', '많이 약해졌나봐 내맘이', '많이 힘드네', '많이슬퍼하고 그리워해야', '말도 안되는 이유로 결별 선언하는 그녀', '말로만듣던 환승에 치가 떨리네', '말하자면 길어', '맘 잡았다고 생각했는데', '맘 추스리며', '맘을 추스리지 못하겠어', '맘이 떠났다는게 맞는거 같아', '맘이 아푸네', '맘터놓고 얘기할곳이 없네', '\"망각은 축복이고', '망상이제일짜증나고 미치네', '매달렸다 차였어', '매달리는거 안좋은거 같아', '매달린후 2주째 발신자제한', '매듭문자를 보냈습니다', '매번 글쓸때마다 상황설명하라고 해', '매번 왜 이렇게 남는게 후회인지 모르겠네 ㅎㅎ', '매번 헤어지면서 회의감', '매순간 넘 보고 싶어', '매일 같은 노래만', '매일 계속되는 악몽과 불면증', '매일 그녀 꿈을 꾸네', '매일 그립습니다', '매일 술', '매일 술 먹기로 했어', '매일매일 눈물로 보내', '매정하게 내치고 이별 통보한 그사람', '맥주 한 캔마시며', '머 좀 물을게', '머리 식히러 간 여행에서 되려 힘듦이 찾아오네', '머리가 터질거 같습니다', '머리가 핑핑 도네', '머리는 아는데 가슴은 모르네', '머리는 이제 완전히 이해가됬네 가슴은아직이지만', '머리는 잊어야한다는데 마음이 붙잡는 미련', '머리는 헤어지는게 맞는데', '머리따로 마음따로 몸따로', '머리로는 이제 끝이구나 하는데', '머리와 가슴이 따로놉니다', '머리했다', '머릿속에서 계속 생각이 나', '머하자는거니', '먹먹함', '먼들', '먼저 이별통보해도 후폭풍이 오나', '먼저 헤어지자고 하면 후폭풍 있을까', '멀리 가버리면 어떻게 해', '멀어지는 길', '멀쩡했는데 또시작이예요', '멋있게 잊어 주자', '멘붕', '멘탈이 많이 흔들리네', '멘탈이 점점 무너지네', '며칠 잠잠하다가 또 흔들리네', '며칠 참다가 오늘 저녁에 또 터졌네', '면도 귀찬하', '면접 잘 볼 수 있을까', '면접 준비 방법', '명절 너무 힘드네', '명절 연휴 막막하네', '명치쪽이 답답해', '몇년째 이별인지', '몇번을 경험해봐도 너무 아프네', '몇번이나 매달려보셨어', '몇일 동안의 나의 이야기', '몇일 전 그사람 봤어', '몇일동안 고민하다가 찾아갔습니다', '몇일만에 또 찾아갔네요', '모든 것이 의미 없는 것이 되네', '모든 노래 가사는 내 맘같아', '모든 진실을 알게 됐네', '모든걸 다 주니깐 떠난 그 여자', '모든게 니멋대로', '모든게 다 끝났습니다', '모든게 잊혀지면 연애를 안할생각입니다', '모르겠어', '모처럼 생각나서', '목소리 듣고싶어', '몰랐던 때로 돌리고싶어', '몰래 sns 훔쳐보고 있는 나 한심해', '몸에서 멀어지면 맘에서도 멀어진다는데', '몸에서 받아주는건 담배밖에 없네', '몸이 멀어지면 마음도 멀어진다는말 어떻게 생각하세', '몸이 아프니까', '몸이 아프니깐 더 힘드네', '못 놓구 있는 나', '못돼져야 하나봐 너무 힘들어', '못된 사람', '못잊을땐잊고싶고잊혀지려하니잊기싫은것', '못참고 문자 보냈네', '못참고 연락끝났네', '못참고 카톡 보내버렸네', '못참고연락했어', '무거운 마음이네ㅎ', '무너진 밤', '무너진 신뢰 쌓아가기', '무뎌진줄 알았는데', '무료 상담 받았는데 마음 접으라고 하네', '무모한 시작', '무상', '무서운 감정기복', '무서운 주말', '무섭습니다', '무슨 말이 필요하겠니', '무슨 말이라도 해주세', '무슨 죄를 지었기에 이렇게 빨리', '무슨마음일까', '무엇을 하든 늘 따라다니는 너', '무제', '문 잠겼는데 집에 아무도 없네', '문득 그 길을 걷다', '문득 달력을 보니', '문득 듣고픈 노래', '문득 이런생각이 들었습니다', '문득문득 보고싶어요', '문득문득 생각나네', '문자 보내놓은지 어언 한 달', '문자 왔다는데 읽다가 눈물샘 터졌어', '물건들 버려야지', '물질적인 정리는 다했는데', '뭐 깨진지 몇달도 더 되었지만', '뭐 한두번도 아니지만', '뭐라도 해야 살거같은데', '뭔 상황인지 헷갈리네', '뭔가 무섭다', '뭔지 이제 헷갈리네', '뭘해도', '미련', '미련덩어리 프사 모음', '미련스럽다', '미련으로 붙잡아선 안되겠죠', '미련이 남아서', '미련이 없다고 생각했는데', '미련인건가 바보인건가', '미련한 여자의 기나긴 이별 이야기', '미안하고 보고 싶습니다', '미안하대', '미안한 마음에', '미안해', '미안해 모든게 다 미안', '미운감정 어떻게 하나', '미워하지않으려고', '미워할수 없는 그대', '미쳐', '미치겠네', '미치겠네', '미치겠습니다', '미치겠습니다', '미치겠습니다 연락하고 싶어서', '미치겠습니다 하', '미치겠어', '미치도록 보고싶네', '미친 사랑을 했습니다', '미친것같아', '미친게 맞는걸까', '미친듯이 보고싶어', '미친듯이 보고싶어', '미친듯이 잡고 싶어', '미친듯이 힘들다', '미칠 것 같아', '미칠꺼 같습니다 정말', '믿은 내가 바보지', '믿음이 깨진여자', '밉게 보였으면 좋겠어', '밑바닥까지 봐서 속은 휴련하네', '바람', '바람 강제이별 너무 힘들어', '바람 나서 떠난 여친이 전화왓네', '바람 불어 좋은 날', '바람난 여자친구 사람 고쳐 쓰는거 아니네', '바람난거 알고 헤어졌습니다', '바람난건가', '바람이나 비슷한 일 용서해주신 사람 있을까 ', '바람피지마', '바보같은 마음', '바보같은 짓을 했어', '바보같이 연락했는데 읽씹당했어', '바보라서 참지못하고 연락했어', '바보짓 그만 둘래', '바빠졌으면 좋겠어', '바쁘게 사는게 나쁘지는 않네', '바쁜 나의 일상으로', '반 정도는 정리가 된 것 같아', '반가운 연락', '반년만에 연락해봤네', '반복되는 맘의 준비', '반복되는 하루', '받아들여야지', '받아들이기가 많이 힘드네', '밤마다 미치겠어', '밤만 되면', '밤만 되면 너무 힘드네', '밤만 되면 미치겟네', '밤보다 자고 일어났을 때 더 힘들어', '밤새 술마셨나봐', '밤에 잠이 너무 안와여', '밤은 길기만 하죠', '밤이되니깐 감수성 터짐', '밤이오는게 오늘이가는게 무섭고 힘드네', '밥먹기 참 힘드네', '방금 너무 울었어', '방금 헤어지고 왔습니다', '방금도 엉엉 울었네', '방법이 없는걸까', '방안 가득한 그녀의 흔적', '배신맞은것같아', '백만번쯤 들을 때 즈음이면 웃으며 다가올까', '버려졌다는느낌', '버려줘서 고마워', '버려진 사람들을 위한 지침서', '번호를 알아내서 연락하면 소름돋을까', '벌 받는 중입니다', '벌써 15일이나', '벌써 1주일째', '벌써 2달이 되었습니다', '벌써 6개월째라니', '벌써 일년', '벌써 저를 세번째 떠나갔네', '벌써 한달이 되었다', '벌써 헤어진지 2년 5개월 이제야 너를 놓네', '베인 곳 또 베이고', '변명', '변해가네', '별 그지같은 이유로 헤어지자네', '별거 아닌거에 속상하네', '별똥별 떨어지는 날', '별이진 후 무언가 사라진 날들', '병장인데 이별', '보고 싶다고 하네', '보고싶네', '보고싶다', '보고싶다 진짜', '\"보고싶다', '보고싶다고 만나달라고 연락하면', '보고싶다는 생각이 너무 간절하네', '보고싶습니다', '보고싶어', '보고싶어 사무칠때', '보고싶어 잠이 안와', '보고싶어 전 남자친구가 너무', '보고싶어서 미치겠는데', '보고싶은데', '보고야 말았네', '보고파', '보고파 보고싶어', '보고프다', '보내야지', '보내줘야 할 것 같아', '보내지 못하는 전할 수 없는 메시지', '보름밖에 안되었는데', '보여주고싶은데 보여주지 못하니', '보지말걸 차라리', '보통의 이별통보가 아닌', '복잡해지네 이거 어떻게 생각해야 될까', '봄은 오네', '봄의 계절이 찾아왔네', '봄이라서 더욱 그리운', '\"봐야하나 ', '부디 더 힘내줘', '부디 돌아와', '부럽네', '\"부르고', '부모님 반대로 헤어졌습니다', '부서진 심장', '부치지 못한 편지', '분노', '분노감 ㅠ', '분노만 남아', '분하고 그립고 고통스러워다른 여자 사랑하는 그모습', '불금에 혼자 혼술', '불금이네', '불금입니다', '불꽃축제하네', '불륜이 될까봐 정리하려고', '불면증', '불쑥 전여친한테 전화받으니 짜증나고 씁쓸하네', '불토 달리고 싶다', '붙잡고 싶습니다', '붙잡고 싶어', '붙잡고 싶은데 이제는 늦은것 같네 ', '붙잡고 싶은데 힘이 드네', '붙잡고싶어', '붙잡는건 정말 아닐까', '붙잡으려 말 것', '붙잡으려고', '붙잡은지 일주일만에 연락왔어', '비 오니까 또 생각나네', '비가 많이 오니까 너가 떠오른다', '비가 오니 이 노래가 생각 나네', '비가 오니울컥하네', '비가 와', '비가오네', '비가오니 그런가', '비가오니까', '비가오면 생각나는 노래', '비극', '비는정말싫다', '비많이오네~', '비밀번호 뭐였더라', '비오네', '비오는날', '비오는데 우산 챙겨 갔는지 모르겠네', '비오니까 같이 막걸리먹던게 생각나네ㅎㅎㅎ', '비참하네', '비참하다', '빌어먹을', '빨리 일상속으로 돌아가고픈데', '뻔하다', '사과해야 하나', '사귄시간만큼의 시간이 흘렀는데도', '사귄지는 며칠 안됐었지만', '사는게 힘들어', '사람 마음이란게 참', '사람 일 죽으란 법은 없겠지', '사람 홧병나게하는거도 가지가지', '사람과의 이별은 아니구', '사람들이 그런 말 하더군', '사람은 감정적인 동물이라', '사람은 역시 기억하고싶은것만 기억하나봐', '사람을 잊는게 이렇게 힘들 줄이야', '사람을 잊는다는 것에 대한 모순', '사람이 변하나', '사람이 참 간사하죠', '사랑 없이도 잘 살았는데', '사랑 참', '사랑 참 별거없네', '사랑 참 어렵다', '사랑 하기 때문에 떠난다는 말', '사랑이별추억미련', '사랑과 정 끊기 어렵네', '사랑만으로 다 될줄 알았던 우리들', '사랑에 유효기간 있는걸까', '사랑에 힘들어 하는 님들께 같이 공유할까 합니다', '사랑은 가슴으로 이별은 머리로', '사랑은 부작용과 휴유증을 길게 남긴다', '사랑은 사랑으로 치유 한다는 그 말 믿어보려구', '사랑은 상처를', '사랑은 찾아가는 것일까 사랑은 찾아오는 것일까', '사랑을 믿으세요', '사랑을 했기에 떠냐야만 했다', '사랑의 기준은 뭘까', '사랑의 반대말', '사랑의 아픔은 사랑으로 치료한다', '사랑의 유효기간', '사랑이 끝나고 나서', '사랑이 끝나고 할 일', '사랑이 뭘까', '사랑이 익숙해지면 정으로', '사랑이라는 감정 참 우습네', '사랑이란 뭘까', '\"사랑이란거 하고 받고싶은데', '사랑이후 다시 세상은 회색빛으로', '사랑하는사람', '사랑하던 그 사람', '사랑한다는것', '사무실에 나왔지만 손에 안 잡히네', '사실 관계 7년을 정리했습니다', '사업 시작해도 될까', '사진 다 지우진 못하겠네', '사진을 못지우겠네', '사진을 보다가', '사진을 지웠습니다', '사진을 지웠어', '사진첩', '산넘어 산이네', '살고 싶다', '살려줘 라는 말이 무심코 튀어 나온다', '살만 찌네', '살빼고 담배 끊고 다 했는데', '살아간다', '삼년 사랑하고 이별한지 몇 시간', '삼다리 여친', '삼십대를 훌러덩~~~~', '삼주라는 시간이 흘렀네', '상념', '상담좀해주세 남자입니다', '상대가 바람펴서 헤어진지 1년이 지났습니다', '상대방의 후폭풍 따위는 없어', '상대와 헤어지고 돌아오는길', '상상했던 미래엔 항상 그가 있었는데', '상처', '상처 받고 헤어졌습니다', '상처 받기 싫다', '상처 안받아봤어', '상처가 많은 사람을 사랑하는 것은 힘든 일이었어', '상처가 빨리 나았으면좋겠다', '상처가 역시 크네', '상처는 치유되지 않아도 아픔은 무뎌질테니', '상처를 받는다는건', '상처주지 맙시다', '상처준 사람 잘살고 있더라', '상황이 어찌됐던 간에 내가 못잊겠으면 연락을 했겠죠', '상황이 힘들어서 헤어진다', '새 남자가 생겼나봐', '새 남자가 생겼대', '새 여친이 생겼더라구', '새로운 사람을 만날 노력', '새로운 사랑을 시작하기에 앞서서', '새로운여자가 생긴걸까', '새롭게 시작하려고 합니다', '새벽', '새벽 1시 30분', '새벽 3시', '새벽에 그만 깨고싶어', '새벽에 문득 잠에서 깨서 하는건', '새벽에 술먹고 카톡을 먼저했어', '새벽에 울다지쳐 신천에나와 지금까지있네', '새벽에 전화가 왔네', '새벽에 카톡이 왔네', '\"새사람을 만날 듯', '새장 같은 집', '\"새출발', '새해 복마니 받아', '새해부터는 당신 생각 안하려 했는데', '생각 안나는 방법 없나', '생각을 고쳐 먹었습니다', '생각의 변화', '생각할 가치조차 없잖아ㅠ', '생각할 시간을 가지자는 그녀', '생각할 시간을 갖자는 그녀', '생각할 시간을 달라고 한 남친', '생각할 시간을 달라고 한 남친', '생각할수록 진짜 화나고 분하네 3년을 만나고 전화로 이별통보', '생리통 때문에 배 아파', '생생한 꿈', '생일축하했다 바보야', '샤워할 때 눈을 감으면', '서로 그냥 밑바닥을 보여준것 같아', '서로 나쁘게 헤어지지 않고 싶은데', '서로 위로하며 함께 극복할 사람', '서로가 원치 않았던 이별', '서로의 조각', '서른초반 전 즘 게시글 보며 안타까워', '설레였던게 언젠인지', '설마했던 진짜 이별', '성격이 좋은 건지', '성격적으로 안맞는걸 알지만 마음은 그게 아님을 알땐', '성급했던 것 같네', '세달 끝에 재회 실패', '세상 젤 아픈 이야기는', '세상 참 모르는 일이네', '세상 혼자인 기분', '세상에 영원한 것은 없다', '세상에서 제일 이뻣던 내 전 여자친구에게', '세상은 혼자인거죠', '세상이 다 그렇지 뭐', '셀프웨딩이 유행이래', '소개팅 거절도 힘든거네', '소식이 궁금해~', '소중한 것을', '소화도 안되고 가슴 한 켠에 응어리가 있는 거 같네', '속시원해~~안녕 잘가~~~', '속에 있던 소리 다 하고고 완전 끝냈어', '속이 후련하네', '손가락이 원망스럽네ㅜㅜ', '솔로 7개월 넘어가네', '솔로들만 이해 ㅠ', '솔직히 그녀가 미친듯이 불행했으면 좋겠다', '솔직히 말하면 헤어지고 싶어', '수면제 먹고 다섯시간이나 잤네', '수백번 싸우고 수백번 화해', '수신차단의 의미', '순수하게좋아했지만 걔는 너무도 약은애였어', '순진했던게 죄인가', '술 먹고 싶어', '술 먹으니 연락하고싶어지네', '술 한잔 했더니 너무 보고 싶네', '술기운에 연락했는데', '술기운을빌려 무작정 찾아갔습니다', '술마시고 있네', '술마시면 안되는데', '술만 마시면', '술만 먹으면 연락 안되는 여친', '술만 먹으면 전화를 안 받아', '술먹고 병신짓거리 했네여', '술먹고 연락도 없는', '술먹고 연락오네', '술먹고 집앞에 찾아온남자', '술병이네', '술을 끊어야겠어', '술을 마시니까 더 생각나는 날이에', '술을 마시러 나갈까어디론가 떠나볼까', '술이 보약도 아니고', '술이 왠수지', '술이야', '술주정', '술취해서 전화했어', '술한잔 먹고 적어', '술한잔해야 하루가 가', '술한잔했어', '숨막히네', '숨막히는건 없어졌네', '숨어서 보기', '쉬는 중입니다', '쉽지 않겠지만', '쉽지않은 날들', '스스로에게 너무 인색했네', '스타트업하면 위험할까', '스트레스성 위통이', '\"슬퍼', '슬퍼', '슬퍼죽겠습니다', '슬퍼하지 않기 위해 노력하려구', '슬픈 메리크리스마스이브입니다 ', '슬픈 예감대로 되어가는 현실', '슬픈 이별', '슬픈게 솔직하면 안되는건가', '슬픔이 더 커지는 아침이네', '슬픔활용법', '습관이 무서워', '습관이라는게 무섭네', '습관처럼 생각나', '시간 갖는 거', '시간 낭비하지 마세요', '시간은 눈물과 흐르고', '시간을 갖자는 무슨 의미일까', '시간을 돌리고 싶네', '시간을 되돌리고싶다', '시간이 가고 있나', '시간이 약이긴 하네', '시간이 약이긴 한가봅니다', '시간이 약이라는데 독이 되는거 같습니다', '시간이 지날수록 더 보고싶어', '시간이갈수록', '시간이라는게 참 사람을 무색하게 만들죠', '시간이란 약의 부작용', '시계를 돌려받고 싶은데', '시도때도없이 생각나네 그녀가', '시련', '시원섭섭하지만 후련하네', '신경쓰지 말아줄래 라고 하네', '신나게 산책했습니다', '신청했더니 정말로 왔네ㅎㅎ', '신혼여행 가서 돌아오기 싫다', '싫어', '싫어지는것', '심각합니다', '심난하네', '심난한 하루', '심란하네', '심리상담 받았어', '심심', '심심해', '심장이 주저 앉은듯 합니다', '심장이 터질거 같네', '싱숭생숭ㅠ', '싸구려 인생', '싸웠다', '썸타는거 친구한테 이야기 한고 싶다', '썼다 지우고 다시 썼다가 지우고', '쏘주', '쓰고 또 지우고 또 쓰고', '쓰레기', '쓰레기 맞지', '쓰레기를 안고 있는 나', '쓰레기새끼', '씁쓸', '씁쓸하네', '아 괜히 헤어지자고 했나봐', '아 꿈에서 맨날 나와', '아 또 참지 못하고 카톡 프사를 봐버렷네', '아 성격 좀 고치고싶어', '아 아른거려', '아 오늘 하루는 어떻게 잊어볼까', '아 오늘 힘드네', '아 오늘 힘드네ㅜㅜ', '아 잠수라니', '아 정말 지옥이네', '아 혼자있는게 너무 무섭네', '아 어찌해야 되나', '아 상담 좀 해 줘', '아 힘든 목일이네', '아벌받고 있는거네', '아빌어먹을 이제야 알다니', '아닌건 아니다', '아따 엿먹일 방법 없나', '아련하게 조금씩 잊게 되나보네', '아름다운 사랑도 아니고 이건 뭐', '아름다운 이별은 없는걸까 ㅠ', '아름답게 헤어지고 회사 그만둔 전남친', '아무 것도 할 수 없는', '아무것도 아닌 글에 화가 치밀어 오르네', '아무것도 아닌 일이 될 수 있을까', '아무것도 안되네', '아무것도 하기싫어', '아무도 안 놀아줘', '아무래도 헤어져야 할까 봐', '아무리 기다려도 이젠 안돌아오나봐', '아무리 꽉 붙들어도 무너지는건 한순간', '아무리 매달려도', '아무리 미친놈 욕을해도', '아무리 생각 안하려 해도', '\"아무리 힘들어도', '아무일도 없었던 것처럼 살고 싶어', '아오 그놈에 꿈', '아이디 생각 안나', '아직 그리운 그대', '아직 멀었나봐', '아직 아주 많이 사랑하는데 나는 말야', '아직 준비가 안됐는데', '아직도 가슴이 아프고 눈물이 나네', '아직도 그대로인걸', '아직도 기억 속에 생생한데', '아직도 꿈같고 너무 괴로워', '아직도 남았나봐', '아직도 너무 힙듭니다', '아직도 널 감싸는 내가 싫다', '아직도 눈물 나', '아직도 많이 죽을것같아', '아직도 멍청하네', '아직도 심장이 뛰고있어', '아직도 이별중인가봅니다', '아직도 잊지 못하나봐', '아직도 잊지 못하는 사람', '아직도 잊지 못했는가봐', '아직도 잊혀지지 않아', '아직도 적응이 안되네', '아직도 헷갈리네', '아직도 힘들지만', '아직도 아직 인가보다', '아직도잊지못했던거니', '아직은 아닌것 같은데', '아침마다 왜 이러는지', '아침부터 답답하네', '아침부터 또 눈물이 나네', '아침에 눈 뜨는게 힘들어', '아침에 벌떡 일어났네', '아침이 젤 힘드네', '아파', '아프고 또 아프지만', '아프고 힘드네', '아프네', '아프니까 더생각나고 힘드네', '아프다', '\"아프지 않은 이별은 없지만', '아픈 상처', '아픈 첫사랑', '아픈데 연락하기 싫어', '아픔도 이제 안녕', '아픔은 덜해지는것 같은데 미련은 더욱 많아지네', '아픔은 빨리 잊혀지는법', '아픔을 지니고 사랑한다는 것', '아휴', '아휴~ 싱숭생숭한 하루', '안 돌아올거 아는데', '안 맞는다면서 헤어진 우리', '안녕을 고하며', '안녕하세', '알고보니 나만 바보네', '알고보니 환승이별 인것 같아', '알수가 없네', '앞으로 힘든 시간 될것같습니자', '앞이 캄캄합니다ㅠ', '애를 나혼자 키우는 것 같아', '애인이 생겼답니다', '야', '야 너', '야구 경기 보러 꼭 함께 가자던 그 남자', '야이 겁나게 미운 여자야', '약 올라', '약 한달 전 헤어진 그에게', '양가 부모가 원하지 않는다면', '양다리', '양다리 어장관리', '얘는 싸우기만 하면 연락이 안돼', '어느덧 이별 5주차', '어느덧 한달', '어느덧 헤어진지도 4개월이 됐네', '어느새 나이가 30이네', '어느새 한달인데', '어느새 헤어진지 한달', '어디까지 가야 끝이보일지', '어디론가 훌쩍 떠나고 싶다', '어디서부터 어떻게 얘기를 해야할지', '어떡하지', '어떡해', '어떡해야 될가', '\"어떤 날도', '어떤 놈인지 확인하고 싶으면 이상한가', '어떤 마음이었을까', '어떤 마음인걸까', '어떤 작별일지', '어떻게 나한테 이러지', '어떻게 맘정리를할까', '어떻게 벌주어야 할까', '어떻게 살아가야 할까', '어떻게 하면 좋을까', '어떻게 하면좋을까', '어떻게 해야 마음을 돌릴 수 있나', '어떻게 해야 여자친구가 제 진심을 알아줄까', '어떻게 해야 하는 거니', '어떻게 해야 할까', '어떻게 해야돼', '어떻게 헤어져', '어떻게 헤어져야 할지 모르겠어', '어떻게받아들여야할까', '어떻하죠 이 상황을', '어떻해야 할까', '어려운일', '어렵네', '어리석은 나', '어이 없는 헤어짐', '\"어이없는연애 끝난걸까', '\"어제 결국 또 톡보내버렸네', '어제 그녀를 또 보았어', '어제 꿈에나온너', '어제 만났네', '어제 만났어', '어제 비 오는 창가를 바라보다 문득 니 생각났어', '어제 새벽에 그녀에게 전화가왔습니다', '어제 새벽에 이별했어', '어제 연락 왔는데 또 상처줘서 또 헤어졌어ㅠ', '어제 연락이 왔어 제가 매달려서 온거같아', '어제 연락햇는데ㅋㅋ', '어제 오늘 멘탈이 나갔네', '어제 이별 했습니다', '어제 이별을 했는데 진짜어이가없네', '어제 이별을 했습니다', '어제 이별하고 맘이 너무 아파', '\"어제 이별했고', '어제 정말 사랑한 그녀와 헤어졌습니다', '어제 정말로 완전히 보냈습니다', '어제 헤어졌습니다', '어제 헤어졌어', '어제 헤어지자했어', '어제 헤어진 여자친구 연락 왔다고 글 썼는데 ㅋㅋ', '어제 헤어진 여친 학교 다녀 왔어', '어제가 극에 달했었는데', '어제가 생일이었는데', '어제는 그녀의 결혼식', '어제와 오늘 문득문득 생각에 눈물을 흘립니다', '어제이별한 남자입니다', '어제전화가왔습니다', '어젯밤 꿈에나타났습니다', '어젯밤 꿈을 꿨어', '어젯밤 집 앞에서 잠깐 만났어', '어젯밤 헤어졌던 여자친구에게 전화가 왔어', '어젯밤에 1주일 전 헤어진 여자친구 집에 찾아 갔다 왔어', '어젯밤에 판도라의 상자를 열어버렸네', '어째서', '어째야 할까', '어쩌면 좋을까', '어쩌죠', '어쩔 수 없겠죠', '어쩔수 없는', '어찌해야 될까', '어찌해야 하나', '어찌해야 할까', '억울한 현실', '억지로 붙여놓은 깨어진 도자기', '억지로 붙였던 깨어진 도자기의 결말', '언제가 제이야기 한번 들어줄 날이오겠죠', '언제까지 덮을 수 있을까', '언제까지 이렇게 잊지못하고 힘들기만 할까', '언제부터인지', '언제쯤 괜찮아지려나', '언제쯤 괜찮아질런지', '언제쯤 무뎌질까', '언제쯤 벗어날 수 있을까', '언제쯤 예쁘게 화장 잘할까', '언제쯤 이 끈을 놓아야할까 지금일까', '언제쯤 잊혀질까', '\"언제쯤 잊혀질런지', '언제쯤 편히 잠들수있을까', '언제쯤이면여기를', '언젠가 나아지겠죠', '언젠가 마주치더라도 너만 보일거야', '언젠가 하는 거죠', '언젠가는 끝', '언젠간 내 기억 속에서 서서히 지워지겠지', '언젠간 먼저 연락오겠죠', '언젠간 모두 잊고', '얼마나 더 지나야 아물런지', '얼마나 지나야 잊혀지나', '얼마만큼 사랑을 받으셨나', '얼마전에 욕 이빠이 하고 다 끝냈는데', '엄마아빠랑 다시 같이 살아야돼', '업무 스트레스 넘 심해', '엉엉 우는꿈 꿨어', '에궁', '에라이', '에이구 이제 그만 돌아와 이제 그만 울고', '에혀 힘드네여', '에휴', '에휴 잊기가 힘드네', '에휴 추억을지우네', '에휴 후폭풍인가봐', '에휴', '에휴 왤케 머리속에서 계속 멤돌까', '여기 글들을 보니깐', '여기까지 인듯 합니다', '여러번 재회 그리고 헤어짐', '여러분 제가 느낀바입니다', '여섯번째 이별이에요', '여자 친구랑 헤어진지 23일째', '여자가 떠가기전 하는 준비', '여자는 한번 마음 먹으면 끝인가', '여자들은 바람피고 후회할까', '여자사람 친구 많은 남자친구 헤어져야겠죠', '여자친구 같았던 썸녀', '여자친구 만나고왔어~', '여자친구 무시했다가 이별 당했습니다', '여자친구 붙잡느라고 모든걸 쏟아붓고 있습니다', '여자친구가 나 때매 힘들대', '여자친구가 왜 저랑 헤어졌는지 아직도 모르겠어', '여자친구랑 헤어졌네', '여자친구와 이별한지 정확히 1년이 되는 날이네', '여자친구와 헤어지고 세운 목표들', '여자친구와 헤어진지 8일', '\"여자친구와 헤어진지 어느덧 6개월이네', '여자친구와의 헤어짐을 막고 싶어', '여자친구의 거짓말', '여전히 괴롭다', '여쭈어볼것이있습니다', '여친 집에 있는 내 물건들이 돌아왔네', '여친 핸폰번호 기억못하나', '여친과 갈 때까지 가면 질리나', '여친과의 이별', '여친이 드디어 권태기가 온 거 같아', '여친이 찾아올 거라는 희망고문', '여친이랑 다툼', '여친이랑 헤어진지 1년째인데 아직도 못잊네', '여친집에 찾아가고 싶은데 어떠하죠', '여행이라도 가고싶다', '역시 못잊겠습니다', '역시 재회는 힘들어', '역시나 후폭풍이 밀려왔네', '연락 말라고 모질게 했내 결국', '연락 못하는 아픔', '연락 안되서 헤어졌는데 또 연락 기다리고 있네', '연락 안하고 가만히 있는게 맞는 걸까', '연락 왔는데 끝냈어', '연락올까', '\"연락왔는데', '연락은 괜히 해서', '연락을 하면 안되는구나', '연락을 해봤는데 안받네', '연락을기다려야해 아니면 찾아가야해', '연락이 없네', '연락죽어도 안올텐데 매일 기다려', '연락처좀 바꿔 주라', '연락하고 싶어', '연락하고 싶은 충동', '연락하고 지내는데', '연락하면 후회할까', '연락하지 말라고 했어', '연락해보고싶네', '연락해보는게 좋을까', '연락했는데', '연락했는데 실수한거 같네', '연말이라 그런지', '연상녀랑 어제 헤어졋네', '연애 관계도 망', '연애 중 주고 받았던 문자 다시 보면 눈물이 나', '연애2년차헤어졌습니다', '연애하는 것도 기술이 필요한가봐', '연차 내고 누워만 있네', '연하의 남자친구와 이별 후 5일째 입니다', '연휴', '연휴가 시작되고 나니 더 생각나네', '열받아서 막 전화에다가 화풀이했어', '영원한 사랑은 없는걸까', '예전 직장선배 언니가 해준이야기가 생각나네', '오늘 6년이란 시간을 정리했습니다', '오늘 간신히 참았어', '오늘 그 사람 생일이네', '오늘 꿈에서 그녀가 먼저 카톡 해줬어', '오늘 너무 힘드네', '오늘 다 끝냈습니다', '오늘 다시만나보니 정리가될것같아', '오늘 다시한번 확인사살 받고왔네ㅠ', '오늘 더 힘이 드네', '오늘 따라 그 친구가 좀 보고싶네', '오늘 또 헤어진 사람의 sns를 봤네', '오늘 마지막 사진을 정리했습니다', '오늘 마지막 연락했습니다', '오늘 마지막 인사를 하러가네', '오늘 마지막 인사하러 갑니다', '오늘 메일을 한통 보냈어', '오늘 무너졌어', '오늘 무작정 찾으러가고싶은데 갈까', '\"오늘 보기로 했던 그녀', '오늘 얼굴보고 확실히 헤어졌어', '오늘 연락왔네 그래도 이젠 안녕', '오늘 연락왔어', '오늘 유난히 우리가 더 힘든 이유', '오늘 이별하러가', '오늘 이별했습니다', '오늘 집앞까지 찾아 갔는데', '오늘 카톡방 나왔어 슬슬 정리하나봐', '오늘 편지 놓아 두려고 합니다', '오늘 하루는 또 어떻게 견디죠', '오늘 하루도 너없이 잘 버텼다', '오늘 하루도 잘 버티고 계신가', '오늘 하루도 잘들 지내셨나', '오늘 헤어졌습니다', '오늘 헤어졌어', '오늘 헤어졌어여', '오늘 헤어짐을 말하려 합니다', '오늘 혼자 영화보고 왔어', '오늘 회사에서 어쩔수없이 보고 왔습니다', '오늘도 계속 생각나네', '오늘도 과거속에 머물며 제자리걸음이네', '오늘도 버티고 버팁니다', '오늘도 보고 왔어', '오늘도 술 몇 잔 마시니 생각나네요', '오늘도 술마셔', '오늘도 어김없이 너무생각나네', '오늘도 연락을 기다리는 나', '오늘도 연락하고싶은거 꾹꾹 정말 참았습니다', '오늘도 전 여친sns를 봤습니다', '오늘도 집에만 있을 예정', '오늘도 짝사랑하는 사람을 만나러 갑니다', '오늘도 출근을 합니다', '오늘도 톡을 보냈네', '오늘도 포장마차', '오늘도 하루 버텻구나', '오늘도 하염없이 걷고 눈물 흘리고', '오늘도 한숨만 쉬다 하루 다 갔네', '오늘도잠을못이루네', '오늘도출근해~', '오늘따라 너무 연락하고 싶네', '오늘따라 너무 힘드네', '오늘따라 더 생각나', '오늘따라 더 힘드네', '오늘따라 미치네ㅜㅜ', '오늘따라 보고싶다', '오늘로써 이별 딱 1달째', '오늘마지막 통화후 깔끔히 정리', '오늘만큼은 푹자고 싶은데', '오늘밤 하고픈 말 다쏟아내려합니다', '오늘밤은 비가 내립니다', '오늘부로 최악의 남자가 되었습니다', '오늘부터 내려놓기로 했습니다', '오늘은 2년전 그녀에게 고백했던날', '오늘은 그런 생각이', '오늘은 나쁜 남자가 되기 위해 결심을 하고 있습니다', '오늘은 노래한 곡에 또 울컥 ㅠ', '오늘은 발렌타이 데이네', '오늘은 아프다', '오늘은 제 미련한 인생을 주절거려보렵니다', '오늘의 감정일기를 써볼까 합니다', '오늘이 마지막 매달림입니다', '오늘이 생일이네', '오늘이 일주일이네', '오늘이 최고네', '오락가락하네', '오래 사귀다가 식어서 헤어진 남자에게도 후폭풍 있나', '오래 전에 했던 이별이 생각나네', '오랜 연애 끝에 헤어짐을 통보 받았습니다', '오랜만에 결혼한 친구 만나고 왔는데', '오랜연애 환승이별', '오랫만에 글을 쓰네', '오면 안돼 예전처럼', '오빠 최고라고 해주던 너', '오빠가 너무 보고 싶어', '오싹한 이야기 해줄까', '오해했네 그리고 차단 ㅎㅎ', '온라인 연애 상담해볼까', '온전히 내 편이길 바라는 누군가가 옆에 있었으면 좋겠는', '온종일 멍하네', '올릴까 말까 하다가 조언을 얻고자 올려봅니다', '와 미친거 같네', '와 연락하고싶다', '와 진짜 너무 짜증나네', '완벽한 이별 후', '완전 어이없네', '완전 헤어짐 극복 방법 있을까', '완전히 끝나버린 사이', '완전히 끝났네', '완전히 끝났어~', '완전히 잊는다는게 쉽지 않네', '완전히 정리했어', '왔다갔다', '왜', '왜 갈수록 더 생각나지', '왜 그것만 삭제했을까', '왜 그럴까', '왜 그리 쉽게 변해', '왜 극복이 안되는지 제자신이 실망스러워 ㅠ', '왜 끝내지 못하는거죠', '왜 나는 매번 이럴까', '왜 남자가 여자가 하는 행동을하죠', '왜 남자친구 있는 여자를 내 마음을 흔들지', '왜 내 블로그를 들어와서 볼까', '왜 못잊는거야 대체왜', '왜 사람은 외로울까 아직도 의문이다', '왜 상대는 아무렇지 않은 것 같지', '왜 이럴까', '왜 이렇게 무기력하죠', '왜 이별은 익숙해지지가 않을까', '왜 이별하고 다들 왜 연락을 끊는건가', '왜 자꾸 내 마음속에 나타나니', '왜 저를 좋게 기억해주는 걸까', '왜 차단이 안되있을까', '왜그랬어', '왜나만 힘든 거니', '왜이럴까 우린', '왜이리 생각이 날까', '왜좋았던 기억만 남을까', '왠지 가슴한 켠이 먹먹하네', '왠지 담담하네', '외로운 지금 이 순간을 강해지고 있다는 생각으로 살고 싶다', '외로움', '외로움에 연속', '외로움을 이겨내는 법 좀', '외로움이 커져', '외로워', '외로워', '외로워서', '외롭고 우울해서 잠이쏟아져;;;', '외롭지만 혼자 걸을수 있어_조성모', '요즘 너무 고민이네', '요즘 노래 들으며 견디고 있어', '요즘 다시 쓰리다', '요즘따라 아침이 너무 힘드네', '요즘은 솔로인게 좋네~', '욕 먹을 준비 돼있다', '욕까지 먹었는데 정이 안 떨어져', '욕을 퍼붓고 왓어', '용기내서 새해인사 했네', '용서의 의미', '우리 사랑은 가벼웠던 거겠죠', '우리 이것만은 잊지말자', '우리 진짜 이별인가봐', '우리 추억들 모두안녕', '\"우리는 15년째 이별중입니다', '우리모두 마음의여유를 가져봐', '우리서로 애써봐', '우연히 그녀를 보았습니다', '우연히 길거리에 만나면 인사를 해야 하나', '우연히 마주쳤어', '\"우연히', '우울증 도진것 같아', '우울하고 무기력해', '우울하네', '우울합니다', '우을증있는 여자친구', '우정이란게 뭘까', '운동 다녀왔어', '운동을 통해서 극복하고 있습니다', '운세 종합해 보니 헤어질 때였네', '운이좋은건지 나쁜건지', '울면서 카톡 보냈어 너무 힘들어서', '울적한 아침이에', '웃겨봐', '웃기지마 넌 쓰레기야', '웃는게 웃는게 아니네', '웃는척 친구인척', '원래 다 이런거겠죠', '원래 여자들은 냉정하나', '원래 이별하면 이런건가', '원래그런건가바', '원래남자친구집에놀러가면청소해주나', '월욜부터 힘드네', '위로 받을 곳이 필요해', '위로 좀 해줘', '위로 해 주세요', '위로가 되네', '위로가 되는 좋은글이 있어 올려', '위로노래', '위로와 격려', '위안이 됩니다', '유학간다네', \"윤종신 '좋니' 노래 가사가 엄청 와닿네\", '으으 짜증나네', '으휴 집에 들어가기가 싫네', '으흠', '음 헤어졌는데 아직 잘 모르겠어', '음반복이냐', '음악 들으면서 잊으려고', '음악이싫어졌어', '음여기다 말해도 될까 모르겠다', '응원합니다모두들', '의미 부여 하면 안되겠지만', '의미부여', '의미부여 안하고 싶은데', '의미부여 안해야하는걸 아는데 자꾸 하게 되네ㅠ', '의심이 자꾸 들어', '의외로 병신들이 많다', '의욕도 업고 너무 힘들어', '이 가슴 먹먹함 너무 힘드네', '이 글을 끝으로 잊고 싶어', '이 남자맘이 뭔지 ㅠ', '이 또한 지나가겠죠', '이 명절을어찌보낼지허허', '이 몸쓸 놈의 마음이참 변덕스럽네', '이 사람은 도대체', '이 세상 하직할뻔 했네', '이 순간 뭘하면 좋을까', '이 여자 유부녀인가', '이 여자는 무슨 생각일까', '이 좋은날', '이 행동이 절대 용납이 안돼나', '이거참 뭐하고 있는건지', '이건 뭘까', '이건 아파도 너무 아프잖아', '이건 이별을 준비해야 하는건가', '이건무슨의미죠', '이것 또한 받아들이는 것이겠죠~', '이것도 제 미련이겠죠', '이게 뭐지', '이게 사람 얼굴인지', '이게 왜이리 힘들지', '이게 잠수이별인가', '이기적인 마음', '이남자 마음을 모르겠어', '이대로 이별이겠죠', '이러고있는게 잘하고있는건지', '이러는 내가 너무 싫다', '이러다 병걸리겠어ㅠㅠ', '이러면 안되는 줄 알면서도', '이러면 안되는데', '이러지 말자', '이런 가사 보내는 이유가 뭘까', '이런 글귀가 있네', '이런 날씨 우린 그렇게 만났었지', '이런 내가 너무 싫어', '이런 사랑도 있나', '이런 상황 어떻게 해석해야 할까', '이런 생각도 맞는 생각인가', '이런 여자이런남자안대용~', '이런 이별도 해 보셨나', '이런 친구들이있다는 걸 다시 느끼게해준 너', '이런게 연애니', '이런게 후폭풍인가', '이런경우답은 나온거 같은데', '이런사람을만나고싶네', '이런이별', '이런제가 싫어', '이럴 수가 없는데 왜이러지', '이럴 수도 있구나', '이럴경우 연락안오겠죠', '이렇게 두번 배신하고 힘들게 할줄이야', '이렇게 또 끝나가나바', '이렇게 얘기라도 하면 나아질까', '이렇게 진짜 끝인걸까', '이렇게 힘들고 괴로운 적 처음이야', '이만 보내줘야 할까', '이무슨 신의 장난인지', '이미 잘못이 너무 많아서', '이밤이 지나면', '이번주 일요일날 만나기로 했어', '이번주에 혼자 여행가려 하는데', '이별', '\"이별 ', '이별 10일째 되어가네', '\"이별 119일째', '이별 20 일', '이별 2달째에 새로운 소개팅했습니다', '이별 2달차 아직도 못 잊고 원망', '이별 2일째', '이별 3일째', '이별 400일', '이별 4일차', '이별 5달', '이별 5일째', '이별 6개월째네', '이별 6개월후', '이별 6일째', '이별 6일째', '이별 고통', '이별 괜찮타', '이별 극복 방법', '이별 극복할수있을까', '이별 글 쓴지 어느 덧 1년하고 2개월 정도 되었네', '이별 너무 힘드네ㅠ', '이별 넋두리', '이별 다음날', '이별 두달째', '이별 뒤', '이별 마음접는것은', '이별 받아는 들이긴했는데', '이별 사유가 내 맘에 안들어', '이별 상태', '이별 성장통이 너무 길다', '이별 수순을 밟고 있는 거지', '이별 앞에 씩씩해지기', '이별 왜 찾아오는 것일까', '이별 이야기', '이별 이야기 하나', '이별 이야기', '이별 이야기는 신중해야 하는걸 아니까 오늘도 고민합니다', '이별 이후', '이별 일년 반', '이별 일주일 후  우리의 이야기', '이별 일주일차', '이별 준비', '이별 준비 중', '이별 중독', '이별 참 힘드네', '이별 통보 받은지 7일째', '이별 통보 후 일주일이네', '이별 통보를 받게 되면 어떻게 해', '이별 하는 중', '이별 하루차를 보내고 있습니다', '이별 한달 반째', '이별 한달 후', '이별 한달반째', '이별 한달인데 가슴이 답답한게 아직도', '이별 한달차입니다', '이별 후 1년 그리고 선물', '이별 후 3개월이 지났는데', '이별 후 6달째 이제 그만좀 잊고 싶어', '\"이별 후 7개월', '이별 후 감정', '이별 후 그사람과 마주치는 거', '이별 후 난', '이별 후 다른 이성 소개팅 후 후폭풍', '이별 후 다시 사귀는데 휴', '이별 후 두달 경과보고서', '이별 후 들으면 더 힘든 노래들', '이별 후 만남', '이별 후 어떻게 될까', '이별 후 왜 다시 전화를 하는걸까', '이별 후 젤 힘들 건 허전함인 거 같아', '이별 후 첫날', '이별 후 한달', '이별 후 한달 경과 보고서', '이별 후 한달째', '\"이별 후 후회', '이별 휴유증', '이별', '이별 냉정해진다', '이별 몸이 버티질 못하네', '이별 무뎌짐', '이별 버릇고치기', '이별 버텨라', '이별 생일이네', '이별 성숙해지다', '이별 지쳐버렸나', '이별4주년', '이별그리고 노래', '이별100일째', '이별1년 8개월차', '이별6일차 정신병자 같네', '이별곧 두달', '이별극복후 새로운 설렘', '이별까지의 이야기', '이별너무 힘든네', '이별노래 추천해줘', '\"이별당시 보다 더 짠한건', '이별로부터 언제쯤 자유로워질까', '이별만한 다이어트가 없네', '이별밖에 방법이 없을까', '이별병', '이별보다 더 아프네', '이별얘기 끄저그적', '이별에 답', '이별에 힘드신 남자분들 이 글 보시고 힘내세', '이별에 힘들어 하는 분들께', '이별에도 준비가 필요한 거겠죠', '이별예감', '이별은 결국엔 가치의 문제네', '이별은 냉정할수록 좋은 것 같아', '이별은 다 비슷한거 같아', '이별은 받아들이는 것', '이별은 받아들이는 것인가', '이별은 받아들이는게 맞는건가보네', '이별은 받아들인다는 것', '이별은 아니나 고민이 있습니다', '이별은 역시나 힘드네', '이별은 왤케 힘드나', '이별은 원래 힘들자나', '이별은 진짜 비겁한 짓 같아', '이별은 필수입니다', '이별을 고민중입니다', '이별을 극복하면서 참 많이 힘들기도 했었네', '이별을 극복한건지', '이별을 기다기는건지 아닌지', '이별을 먼저 말해본적있나', '이별을 받아드리질 못하고있네', '이별을 받아들여야 하는데 생각이 자꾸 나네', '이별을 받아들이는 게 맞는걸까', '이별을 받아들이지 못하는 제가 한심하네', '이별을 배워가는', '이별을 빨리 인정해야 하는데', '이별을 실감하네', '이별을 앞둔 이들에게', '이별을 준비중', '이별을 준비하고 있습니다 ', '이별을 하고', '이별을 하고야 후회를 하네', '이별을 하는게 나을까', '이별을 한지 조금 지나니 후회가 되네', '이별을 해야하나봐', '이별의 고통 중에 가장 큰 건 기다림인거 같아', '이별의 고통 해결책', '이별의 마무리', '이별의 순기능', '이별의 시간', '이별의 아픔 이겨내기', '이별의 아픔에서 벋어나는 방법', '이별의 아픔을 위안 삼을 방법 좀 알려줘', '이별의 아픔이 있는데 몸까지 아파서야', '이별의 아픔이란', '이별의 이유는 정말 다양하내', '이별이 다시 올거 같은 느낌', '이별이 무서운건', '이별이 아닌 사별', '이별이 온 후', '이별이 이렇게 아픈거였나', '이별이 있어야 인연도 있는거 같아', '이별이 좋은점', '이별이 코 앞으로 다가온것 같아', '이별이 힘든 이유는', '이별이아픈것도 슬픈것도', '이별이란', '이별이란', '이별이란 참 힘드네', '이별일까', '이별준비', '이별준비 그리고 극복', '이별준비 하려고', '이별준비하는방법', '이별중이신 회원들을 위해', '이별증후군', '이별통보 받고 딱 일주일 째네', '이별통보를 받았습니다', '이별하고 목숨까지 끊는 사람들 전혀 이해 못 했는데', '이별하고 욕했어', '이별하고 절대 하지 말아야할 것', '이별하는 방법 중', '이별하는게 맞는거겠죠', '이별하려고 하는데 정말 말 꺼내기가 힘드네', '이별하려고 합니다', '이별하려다 붙잡고 다시 사귀는데', '이별하신분들', '이별한지 10일차 점점 나아지고 있습니다', '이별한지 11일째 아직은 힘드네', '이별한지 1년하고 2개월지나갑니다', '이별한지 1달', '이별한지 20일 차', '이별한지 20일째', '이별한지 2달 다 되어갑니다', '이별한지 2주인데', '이별한지 3개월', '이별한지 3개월 째', '이별한지 3일', '이별한지 3일째', '이별한지 3일째네', '이별한지 4개월째', '이별한지 6년째', '이별한지 8일째', '이별한지 꽤 오래되었는데 연락이 왔네', '이별한지 두달이 넘고 얼굴 안본지 한달이 넘은', '이별한지 딱 한달 째', '이별한지 벌써 한달하고 2주', '이별한지 오개월째', '이별한지 이제 겨우 한 달', '이별한지 이제 일주일째네', '이별한지 한 달이 넘었고 괜찮은 줄 알았는데', '이별한지 한달된 남자입니다', '이별할 때 지켜야할 매너', '이별할 수 없는 아픔', '이별할때 남자들의 거짓말', '이별할때는 미련 갖지 않게 해주는게 좋겠어', '이별해야 하나', '이별했네', '이별했다', '이별했습니다', '이별후', '이별후 10개월 만의 연락 그후', '이별후 2주반이 지난시점', '이별후 3개월 다되가는데', '이별후 3일째', '이별후 3주 아니 차인후 3주', '이별후 6개월', '이별후 8개월이란 시간이 흐르고', '이별후 그리움이 생생한 오늘', '이별후 너무 외로워ㅠ', '이별후 네달째', '이별후 느끼는 감정들이 단계별로 있는거 같네', '이별후 사진을 못지우겠네', '이별후 시간이 많이 흘렀네', '이별후 여친페메 무슨 의미일까', '이별후 열흘 뒤에 붙잡았어', '이별후 자주듣는 노래있으신가', '이별후 재회 그리고', '이별후 첫 생일이네', '이별후 한달', '이별후 한달', '이별후 한달반만에 그사람이 좋아하는 사람이 생겼다는걸 알아버렸네', '이별후 한달째 인데', '이별후', '이별후에', '이별후에도 나를 괴롭히는 그의 말들', '이별후폭풍 왜이렇게 심하죠', '이사람 무슨 생각인걸까', '이상한나의취미이별을세는것', '이성간 종교문제', '이성으로는 감당 할 수 없을 것 같아', '이시간들 어찌보내야할까', '이야기를 한번 해보려 합니다~', '이야기하고싶다', '이용당하고 버려진 느낌', '이용만 당했던건가', '이유가 확실해졌네', '이유라는게 뭔지', '이제 10일차 이별', '이제 1년 됐습니다', '이제 1년도 지나고 성큼 가을이 왔네', '이제 2주 좀 넘었네', '이제 3개월이네', '이제 3주정도 되가는데 점점 좋아지고있어', '이제 겨우 일주일 됐네', '이제 괜찮습니다 그래서 힘드네 이젠', '이제 그만', '이제 그만 보낼려구', '이제 그만해야겠죠', '이제 끝이네', '이제 끝인가봐', '이제 나 자신으로 돌아와 아름다워지고 싶어', '이제 나도 계산적인 사람이 되려나 봅니다', '이제 나름의 정리를 시작해보려구', '이제 너 따위 생각도 안난다 꺼져', '이제 너무 지쳐가네ㅠ', '이제 놓아 주려고', '이제 놓아주렵니다', '이제 놓을수 있을것 같아', '이제 누구 만나는 것도 지치네', '이제 더이상 남자친구로 안느껴진다는 그녀', '이제 때론 괜찮기도 해', '이제 마음 정리도 된 거 같은데', '이제 마음을 정리할 때가 된거같아', '이제 막 이별을', '이제 모든게 퍼즐처럼 맞춰지네', '이제 반년이란 시간이 흘렀는데', '이제 밥도 잘 먹구 술은 안마시면 되겠는데', '이제 보내주려 합니다', '이제 보름 다되어가네', '이제 사진 지운 이유는', '이제 세달째', '이제 숨 좀 쉬나', '이제 스스로 인정한 것 같아', '이제 슬슬 끝이 보이네', '이제 여친이 마음이 괜잖아진거같아', '이제 와서 소문이라니', '이제 이곳올일 없을거 같네하하ㅜ', '이제 이별한지 한달', '이제 인정해야할 것 같아', '이제 일주일', '이제 일주일이네', '이제 잊혀지는데 속도가 붙는거 같아', '이제 자리 잡아가는데', '이제 전부 못믿겠네', '이제 점심시간에도 너에게 카톡을 할 수가 없구나', '이제 정리하려고 합니다', '이제 정말 끝이겠죠', '이제 정말 놓으려구', '이제 정말 놓으려합니다', '이제 정말 마침표 찍어야 하네', '이제 제발 좀 잊자', '이제 진짜 끝났어 슬퍼', '이제 진짜 떠나야겠지', '이제 진짜 안녕', '이제 탈퇴합니다', '이제 한 삼주 되었나', '이제 한달이 조금 넘었어', '이제 헤어진지 1주일됐어', '이제 헤어진지 딱 한달', '이제 헤이진지 5일차네', '이제 확실히 알겠어', '이제 힘내렵니다', '이제는 너를 보낼 시간이 가까이 오는구나', '이제는 놓아줄꺼라 생각하지만', '이제는 먼저 놓아줄까 합니다', '이제는 숨막히고 괴로운건 좀 무뎌졌는데', '이제는 연락도 없는 너를 그리며', '이제는 이별을 받아드리려고 합니다', '이제는 잡을 수가 없네', '이제는 정리가 된 거 일까', '이제는 정말 끝', '이제는 포기하게 되네 나 자신조차', '이제는 후회 없네 ', '이제는그만하고 싶어', '이제떠나려합니다', '이제서야 현실을 받아들이네', '이제서야', '이제야 깨달음', '이제야 오래전 상대방이 아팠던걸 이해했어', '이제야 좀 잊혀지네', '이젠 괜찮을 줄 알았어', '이젠 그냥 조금만 자극이와도 눈물이', '이젠 나의 스케줄로 돌아가야할때', '이젠 너 때문에 오래된 노래들도 못 듣겠어', '이젠 놓아주려 해', '이젠 놓아줘야 할 때인가 보다', '이젠 눈물이 말라버렸나 봅니다', '이젠 다시 만날 수도 없는 상황', '이젠 더이상 정 주기 무섭습니다', '이젠 보내줄게', '이젠 붙잡을 수 도 없는 사람', '이젠 슬픈 사랑', '이젠 어떡해얄지 모르겠어', '이젠 어쩌죠', '이젠 유부남이 된 전남친', '이젠 의미있는 시간을 만들어보려해', '이젠 잊기로 해', '이젠 잡아도 안되는거래', '이젠 정말 놔줄라고', '이젠 정말 잊고 싶어', '이젠 정말끝이겟죠', '이젠 제 자신한테 지칩니다', '이젠 조금씩 생각이 변하네', '이젠 조금씩 화가나네', '이젠 증오가 될거같네', '이젠 진짜 끝인가봐', '이젠 진짜 진짜 안녕', '이젠 포기가 되네', '이젠정말끝이네', '이틀전 그녀에게 연락이 왔습니다', '이해심이 부족한 나', '이혼', '이혼만은 막고싶은데', '이혼을 앞둔 부부밥상', '이혼을 준비중인 부부라면', '이혼을 하고싶진 않는데 너무견디기힘듭니다 ㅠㅠ', '이혼한지 일년이 넘었네', '익숙함에 속지말자 라는말에 대하여', '익숙해질 법도 한데', '인간의 성향은 변하지 않나 봅니다', '\"인과응보', '인내', '인생 포기한 걸까', '인연', '인연이었다던 그사람', '일과시간 후 집에 도착한 다음에도 궁상', '일방적인 통보로 헤어졌습니다', '일상의 추억', '일어나자마자 우울', '일을하다가도 잠을 자다가도', '일이 안 끝나', '일이 익숙해 지지 않네', '일전에 여기서 댓글주고 받던분들', '일주일간 괜찮았는데', '일주일이 너무 길어', '일주일이 일년같다', '일주일전까지만해도', '일하는 곳 근처 가서 염탐하고 왔네', '읽씹', '읽씹은 아프네', '입원 중에 이별통보 받았는데 마이 아프네', '입장이 바뀐 상태에서 오랜만에 와보내', '있을때 잘 할 걸', '잊겠다 다짐했는데 아직 멀었나 봅니다', '잊고싶다', '잊고싶다', '잊고싶어도 잊질못하네', '잊고있다 생각했는데', '잊기가 너무 힘드네', '잊기가 힘듭니다', '잊기싫은데 잊혀져만 가', '잊기위해 무던히도노력했는데', '잊는다는거 참 어렵네', '잊어보려 하는데', '잊어보려고', '잊어볼 마음에 다른 여자 만나고왔습니다', '잊어야 살 수 있을 것 같아', '잊어야 할것들이 너무 많아', '잊어야겠지', '잊어야하나', '잊은 줄 알았는데', '잊을 때', '잊을 수 없다는 거 이제 알겠네', '잊을 수가 있을까', '잊을수 없는 너', '잊자 잊자 지워버리자', '잊지 못하겟어', '잊지마', '잊지못한다면순수한겁니다', '잊지못할줄 알았는데', '잊혀져 가는게 더 아프내', '잊혀져가는 모든 것이 그리워지네', '잊혀지네', '잊혀지면 얼마나 좋을가', '잊혀진걸까', '잊혀진다는거', '잊혀질까', '자괴감', '자괴감만 드는 하루하루를 보내고 있습니다', '자기 쓰레기 맞다고 잊고 살아가래', '자기관리가 답인듯', '자기를 아껴주고 사랑해주는 사람의 마음을 이용하는 사람', '자기중심적인 여자', '자꾸 꿈에 나와여ㅠ ㅠ', '자꾸 다시 만나게 되는데 무슨 방법이 좋을까', '자꾸 바보짓을 하고 있네', '자꾸 보고싶어', '자꾸 봐주니까 기어오른다', '자꾸 생각나고 붙잡을수도 없고', '자꾸 생각나네', '자꾸 심하게 차였는데생각나네', '자꾸 왜 사랑이 식었는지 물어보고 싶어', '자꾸 이상한 생각이 드네', '자꾸 졸게 되네', '자꾸 화가나', '자꾸 후회가 되네', '자는게 두려움', '자다가 깨서 분노', '자다가 이런 적은 처음이네', '자신과의 싸움중에서 이제 이틀째 날', '자신만만하던게 엊그젠데 이젠 힘들어', '자신을 사랑하기', '자신이 이해가 안될 때도 있지 않나', '자야하는데~~', '자연스럽게 헤어진 건가', '자존감이 너무 없어졌네', '자존감이 떨어져 있는 지금', '작년오늘', '작은 상처들', '잘 견디고있었는데', '잘 버텨봅시다', '잘 살 수 있겠죠', '잘 살겠지 라고 생각하자', '잘 지내', '잘 지내고 있네', '잘 지내고 있네여아무일 없다는듯이', '잘 지내니', '잘 참아오고있는데', '잘 참았어', '잘 헤어졌는데 너무힘들어', '잘가', '잘못이라면 더 많이 좋아했던 죄', '잘못인줄 모르는 여자', '잘살고있니', '잘살아야 되는데', '잘안되는군', '잘지내고 있는지 궁금해지네', '잘지내고있니', '잘참다가 페북을 봐버렸네', '잘참아왔는데 눈물 흘렸네', '잘한 행동인가 싶네', '잘해준것 같은데도 느끼는 미안함', '잘해줘도 이별은 아프네', '잠 들기가 무서워', '잠 못 이루는 어느날', '잠 못자고 있네', '잠겨 죽어도 좋으니 너는 물처럼 내게 밀려오라', '잠깐 괜찮았는데', '잠도 잘 못자고', '잠들기 직전 일어난 직후는 죽을 것 같네', '잠들기가 어려워', '잠수', '잠수이별', '잠수이별이라니', '잠수이별인지 아닌지 잘 모르겠어', '잠수이별해도 될까', '잠수탄 사람', '잠시라도 좋으니 만낳 수 있을까', '잠을 많이 설치고 출근하네', '잠을 자야 되는데', '잠이 안오네', '잠이 안와', '잡아야 되는건지 말아야 되는건지 모르겠네', '잡힐듯하면서 안잡히네', '장가간 그사람', '장거리 연애하다 이별', '장거리 이별', '장거리연애 이별', '장거리연애였는데', '장기간 연애', '장수 커풀의 이별', '재회 6개월만에 다시 헤어졌네', '재회 가능성이 있을까', '재회 그리고 다시 이별', '재회 네달 만에 다시 헤어집니다', '재회 생각 완전히 접었습니다', '재회 어떻하죠', '재회 중인데 끝을내야하나 고민이됩니다', '재회 후 이별', '재회 후 이별 ', '재회 후 이별에는 후폭풍이 없는줄 알았는데', '재회 후 헤어짐', '재회를 기다리다 단념하게된 이유가 뭐였나', '재회를 바라는것도 새로운 사랑을 원하는것도 아닌데', '재회를 위한 기다림', '재회를 하긴 했었는데', '재회를 한다해도', '재회하고 딱5개월만에 헤어졌네', '재회하고싶어', '재회하면 또 그렇겠지', '재회했는데 행복하지 않네', '재회했다가 이별 ', '재회후 다시 이별', '재회후 또 이별', '저 괜찮으면 친구사이 하자는데', '저 사람이 왜 자꾸 볼까', '저 잘 잊을 수 있겠죠', '저는 4시간에 걸쳐서 정리를 했습니다', '저는 개인적으로 따로 연락하자는분들', '저는 어떻게 해야할까여', '저는 이별하면 남자만 힘든 줄 알았어요', '저는 이제 포기할라구', '저는 전 여친 관련해서 거의 모든걸 다 지웠어', '저도 가슴 아픈 이별을 했습니다', '저도 어쩔 수 없는 찌질한 남자인가 봅니다', '저도 연애하고 결혼할 수 있을까', '저만 이렇게 힘든거 아니죠 ㅠㅠ', '저만 힘든 것 같아요', '저에게 희망이 있을까', '저주스럽다 모든게 다', '적응이 안되네', '전 결국 밑바닥까지 보고말았습니다', '전 기다리고 있어', '전 바보입니다', '전 병신인가봅니다', '전 여자친구', '전 여자친구 부친상 다녀왔어', '전 여자친구가 마지막으로 얼굴 한 번만 보자고', '전 여자친구가 카톡 친추에 떴어', '전 여자친구의 새 남자친구', '전 여자친구한테 남자가 생긴 거 같아', '전 여친 생일이야', '전 여친 카톡 메인 사진 슬프다', '전 여친 카톡 메인 프로필', '전 여친에게 카톡 보내는 꿈 꿨어', '전 여친이 드디어 연애를 시작했네', '전 여친이 페북 연애중 띄웠었다네', '전 왜 이렇게 안똑똑할까요', '전 왜 짧은 연애만 반복될까', '전 정말괜찮은데', '전 제가 찬건 줄 알았는데', '전 헤어지고 곧장 소개팅을 했죠', '전남자친구 생일', '전남친 마주쳤어', '전남친 여친 생겼네', '전남친 집앞', '전남친 트라우마에 힘들어하는 여자친구', '전남친 후폭풍 온거 같을때', '전남친소식을들었어', '전남친에게 연락왔어', '전남친이 만나자고 합니다', '전남친이 톡 차단했더라구', '전남친한테 한달만에 연락하고싶어 ㅠㅠ', '전여자친구 잊고 사랑하는법', '전여친', '전여친 꿈을 꿧어', '전여친 남자 생겼나 봐', '전여친 최악입니다', '전여친 카톡 탈퇴 재가입 한거 같은데', '전여친 한테 두달만에 연락이 왔어', '전여친 헤어졌으니 남이죠', '전여친생일 ㅎㅎ', '전여친에게 다시 연락이 오면', '전여친은 남자가 벌써 생겼네', '전여친이 나보다 나은 사람이라는 생각이 자꾸 들어', '전여친이랑 낼 술한잔 하기로 했어', '전여친한테 남친이 생겼네', '전하지 못 할 편지', '전화가 왔는데 못받앗어', '전화하고싶어', '절대 사과 안하는 여자친구', '절망적인데', '점심시간잠깐 그녀가 저에게 했던 말들이 떠오르네~ㅠㅠ', '점점 괜찮아 지는것 같다가도', '점점 나도 지쳐가네', '점점 나아진다 머리로 정리하니 마음도 이제 따라온다', '점점 더 심해지는듯', '점점 힘들어져', '정리가 도저히안됩니다지금도 그여자집앞', '정리가 되네', '정리되지 못한 이별', '정리하는 중', '정리해야지', '정말  냉정하네', '정말 간절하고 간절하네', '정말 구제불능에 멍청이 인가봐', '정말 꿈같다', '정말 끝까지 저의 마지막 자존심마저 뭉개버리네', '정말 끝이라고', '정말 난감하다', '정말 너를 받아준게 아니였어ㅠㅠ', '정말 너무 궁금해', '정말 너무 힘들어', '정말 너무 힘듭니다', '정말 너무너무 힘듭니다', '정말 다시돌아 온다면', '정말 뜨겁게 사랑했어', '정말 막장으로 헤어지신분 계신가', '정말 모두 잊고 새출발할꺼야', '정말 모든게 그립지만', '정말 모르겠습니다', '정말 무슨생각인지 궁금하네', '정말 미안하다 말밖에는', '정말 미쳐버리겠네', '정말 미치겠네', '정말 복합적으로 힘드네', '정말 사람이란', '정말 상처가 잡혀지질않으니 지칩니다', '정말 서로 좋았는데 엊갈림', '정말 속상하고 답답하고 할 수 있는게 없네', '정말 숨막혀 ㅠㅠ', '정말 슬프고 죽고싶어', '정말 아직 너무 사랑합니다 잡고 싶습니다', '정말 아프고 힘드네', '정말 연애하고싶지않네', '정말 오락가락 언제 괜찮아질지', '정말 오랜만에 글을 쓰네', '정말 왜 이러는걸까', '정말 웃긴건', '정말 이건 너무하다 싶을정도로 힘들어', '정말 이번엔 끝인거겠죠', '정말 이해할수가 없네ㅜ', '정말 잊은걸까', '정말 잔인하네', '정말 제가 이해가 안갈 정도로 잘못한건가', '정말 제가 이해안되고 견딜수 없을만큼 아파', '정말 처량하게 혼자', '정말 할게 없네', '정말 화가 나', '정말 후회없고 미련없이 사랑했던 사람들', '정말 희망 없는 건가', '정말 힘드네', '정말 힘드네', '정말 힘드네', '정말 힘드네 결혼 앞두고 생각할 시간', '정말 힘들게 헤어졌습니다', '정말 힘들다', '정말 힘듭니다', '정말 정말 쉽지가 않네 이럴 땐 어떡해야 할까', '정말내 자신이 싫다', '정말로 끝났네 이젠', '정말로 사랑한다면', '정말로 이별하려고 준비합니다', '정말로 헤어졌네', '정말로 헤어졌습니다', '정말이지 이렇게 살고 싶지 않네', '정말잊어보려고 모든수단을 동원했지만', '정신 차려야 하는데', '정신과 방금다녀와서 처방전 받고 왔어', '정신과 찾아 왔어', '정신병 걸릴 것 같네', '정신이 없어', '정신차려야 하는거 아는데', '정신차리자 정신', '정은 많지만 설렘이 없다는 이유로 헤어졌습니다', '제 마음과 머리가 일치가 안되', '제 아주 오래전 이별', '제 이야기를 풀어보고 싶습니다', '제 잘못으로 여자친구가 떠났네', '제 잘못입니다', '제 친구가 그러더라구', '제 친구가 술마시면서 잊으려고', '제가 그녀를 놓아줬어', '제가 그동안 착각 속에 살았습니다', '제가 놓았던 손을 다시 잡으려니 힘드네', '제가 먼저 파혼 하자고 매달리고 있습니다', '제가 어떻게 행동해야할지 모르겠어', '제가 이상한 건가요', '제가 잘하고 있는걸까', '제가 제 복을 찬거겠죠 ', '제가 집착하는 중이에요', '제가나쁜건지 그녀가나쁜건지', '제가너무집착했어', '제길', '제발 그만 좀 나와주라', '제발 도와줘', '제발 머리가 나빠졌음 좋겠습니다', '제발 잠좀 자게해주라', '제발 저좀 살려주세요 힘들어', '제발 힘들면 기대줘', '제일 짜증나는게뭐냐면 문자로 헤어졌다는 거야', '제자리 지키기', '제잘못으로인한이별', '제정신이 아닌거 같아', '젠장', '조금 아픈가 보다 아주 쪼금', '조금 힘들어', '조금만 더 참을껄', '조금만 사랑할걸', '조금씩 무뎌져가나봐', '조금씩 아물어가는건가 이별의 상처', '조금의 결심이서네', '조만간 다른 사람 만날꺼 같아', '조바심 나네', '조언 부탁드립니다', '조언 좀 구하겠습니다', '조언 좀 해주세요 ㅠㅠ', '조울증인가봐', '좀 무뎌졌나 했는데', '좀 웃어주지', '좀 짜증나네', '종교 그리고 이별 그리고 재회', '종교 문제가 해결이 안되네', '좋다가 밉다가 무한반복', '좋아하지만 힘들어서 헤어지자고 먼저 얘기했어', '좋았던 추억까지 잿빛으로 변하고 있네', '좋은 사람 많아', '좋은 사람으로 남는다는것', '좋은 이별을 하려면 어떻게 해야 할까', '좋은 하루였어', '좋은꿈 꿨다 생각해', '좋은남자 만나서 행복하게 살아라', '좋은이별은 어떤건가', '죄송해 너무답답해서 여기에올려봐', '주말은더 힘들어', '주말이 제일 힘드네', '주말이 참 힘들겠어', '주말이네', '주말이라 더 힘들어 견디세 그저 견디는 수밖에 없어 ㅠ', '주변사람들에게 너무 미안합니다', '주저리 주저리하게 돼', '주저리주저리', '주저리주저리 푸념글', '주차장이 꽉 찼어', '주체가안된다', '주체할수 없는 눈물이 흐르네', '죽겠다 진짜', '죽고 싶은 심정에 상담을 청합니다', '죽고싶네', '죽구싶네요', '죽는게 더 편할려나', '죽어가는', '죽을 것 같아', '죽을거 같네', '죽을거같죠사람은 간사하네', '죽을것같아', '죽을만큼 보고싶다', '죽진 못하겠구 겁이나고', '준비중', '준비할 시간을안주네', '중2 히스테리 알아', '중국어 혼자 공부 가능한가', '증오', '지겹네', '지겹다', '지금 가장 힘든 거는', '지금 무작정 보러가는중입니다', '지금 비오는데 제일 생각나는 사람', '지금 생각하고 있는건 망상 일뿐입니다', '지금 연락 왔어', '지금 이 순간 너무 힘들어', '지금 이감정', '지금도 전하지 못하는 한 마디', '지금의 나에겐 없는 너의 일상', '지금이 겨울이라 참 다행이이네', '지긋지긋한 연휴', '지나가는 말이 가슴을 후벼파', '지나간다', '지나고나면 ', '지난 갑작스러운 이별통보', '지난 주말부터 또 후유증이', '지난주 이별했네', '지독하고 질긴 인연을 끝내려고 해', '지루함에 지쳤다네', '지옥같은 5월이 다가 오네ㅜㅜ', '지옥같은 주말', '지워지지 않습니다', '지쳐서 헤어지자고 한 남자도 후폭풍올까', '지쳐서 헤어진 남자랑은 재회가능성', '지치네', '지친다', '지하철만 타면 생각나', '직장과 이별', '진실을 알면서도 왜 확인하려는걸까', '진정 헤어진 여친 맘은 못 돌리는 건가', '진짜 끝', '진짜 끝이었다는걸아는데도', '진짜 마지막까지 믿었습니다', '진짜 미치겠다', '진짜 사랑해서 아픈 느낌', '진짜 시간이 약인지', '진짜 어의 없네ㅠㅠ', '진짜 어이없고 화 나내', '진짜 이건 뭐', '진짜 이별', '진짜 이제 안녕', '진짜 이해가 안가 근데 잊을려고', '진짜 인간적으로 카톡으로 이별통보', '진짜 잊혀질까', '진짜 잠 좀 자고 싶네', '진짜 정신병 걸릴꺼 같은데', '진짜 하루하루 너무 마음 찢어지고 숨 못쉬겠어', '진짜끝이보이네', '진짜미칠꺼같네', '진짜헤어졌네 결국', '질긴 사랑과 아픔의 정도', '질긴 인연 드디어 끝인 것 같네', '질린다네', '질질 끄는연애 드디어끝이네', '집에 들어가기가 무서워', '집에서 웃고 떠들고 있지만', '집착 미련 사랑', '집착같아', '집착은 절대하지 말아야지', '집착인걸까', '짜증 수준이 되어버렸습니다', '짜증나네 ', '짜증난다', '짝남 잊으려구', '짝사랑', '짧게 만났다고 해서 안힘든게 아니네', '짧다면 짧고 길다면 긴 일년간의 연애가 끝이났네', '짧은 시간이었다', '짧은 연애였는데 더 힘드네', '짧은 연애였지만 후유증이 기네', '짧은만남 긴여운', '짧은만남 만남보다긴이별 재회는 아니라는걸 깨달음', '짧은연애인데 미련때문에 연락을 할지말지 ㅠㅠ', '짧지 않은 세월이 정말 끝이 났네', '짱나는새끼', '쩝 전여친이랑 통화 한 번하니 좀 낫네', '쫌 부담스러운데', '쭉 괜찮다가 오늘 갑자기 너무 보고싶고 생각나네ㅠㅠ', '찌질하게 게임카톡보내는거 욕하고 싶어', '찌질한 이별중', '차단 반복하는 이남자 뭔가', '차단당했네', '차단여부를 어찌아시나', '차단인줄알았는데', '차단한 카톡', '차라리 널 만나지 않았더라면', '차라리 솔직하게 말해주지 더 짜증나는건', '차라리 죽는게 나을듯한 이별의고통', '차였지만 잊지못하고 있는 한 남자입니다', '차인후 연락이 오나', '착각', '착각이였나보네ㅋㅋ', '착각인걸까', '착찹하네', '착한남자너무 쿨하지못한남자 매력없어', '찬 사람은 후폭풍 없나', '찬남자한테 연락 왔어', '찬사람 차인사람', '참 9년이란 세월이', '참 너란 여자', '참 너랑은 악연이니', '참 답 없는 나란 놈', '참 무섭네 사람 마음이란게', '참 부질없다', '참 소박하고 순수했던 사람', '참 싫으네 이런 상황', '참 쓸쓸합니다', '참 아이러니 하네', '참 앞 뒤 모르고 제3자라고 지껄이는', '참 잘낫네', '참 정말 속이 뒤집어지고 구역질 나오고 미치겠네', '참 허무하네', '참 힘드네', '참 힘들다', '참견쟁이', '참고 있어', '참는방법 좀', '참다 참다', '참다 참다 결국 마지막으로 문자보냈어', '참다가 연락', '참담하다', '참아내지 못하고 전화를 했습니다', '참아볼께', '참아야겠지', '참지 못하고 또 친추를 하고', '처음 느끼는 감정', '처음 집근처에서 연애와 헤어짐', '처음글남기네여', '천사같은 여자친구가 떠나갔어 마음이 너무 아픕니다', '첫눈', '첫데이트 하자마자 차임;', '첫만남 그리고 끝', '첫사랑 그 긴이별', '첫사랑 부모님 반대로 이별했습니다', '첫사랑과 이별', '첫사랑은 안되는건가', '첫사랑이렇게 힘드네', '첫사랑이자 5년연애', '첫시작이 잘못된 만남이였을까', '첫여친이라 잘 안잊혀지네', '첫이별 너무힘드네 ㅠㅠ', '첫이별이라 그런지 너무 힘드네', '첫이별후 제가 가장 충격먹었던게음', '초코렛이나 꺼내 먹어야지', '최근에 헤어졌어', '최악', '최악의 남자', '최저임금 수준에서 알바비가 안 나왔어', '추석 연휴 때 생각나는 그 사람', '추석연휴가 그렇게 좋지만은 않다', '추억 그 미칠듯한 그리움', '추억들을 하나씩 보내며', '추억에 머물다', '추억은 힘이 없다', '추운날씨', '축하해', '출근 준비하다 또 울었네', '출근시간 아깝다', '충격충격', '친구 사이로 지낸다는 게 말이 되나', '친구같데', '친구도 연인도 아닌 그런사이의 끝', '친구랑 술 한잔 기울이고 들어왔습니다', '침묵', '카카오톡 계정 탈퇴', '카카오톡 대화명', '카톡 2틀째 확인안하내', '카톡 보냈어', '카톡 탈퇴하다가 다시 재가입 했는데', '카톡사진을 보니 눈물이 나네', '카톡에 차단시', '카톡으로 이런사진을 보내왔어', '카톡을 탈퇴했나봐', '카톡차단에 이제는 프로필 비공개 당했어', '카톡프로필~~~보고왔는데', '카톡프사 무슨 의미일까', '커플 사진 보니 더 슬퍼', '커플링 사진 그대로 두나', '컴터가 맛이 갔어', '코 앞이 재회', '크리스마스 다음날 이별했습니다', '크리스마스가 더 가까워지니까 속이 답답해지네', '태어나 단한번도 들어보지못한 이별이야기 도와주세', '택시비 너무 비싸', '텅빔', '통증', '통화를 하긴했는데 힘드네', '퇴근길에 봤네', '퇴근길에 훅하고 연락오네', '퇴근길에', '퇴근했어~근데', '툭하면 헤어지자라는 말을 하는 사람', '파혼', '파혼 7개월 째', '파혼위기', '파혼한거 정말 잘했다', '편안하게 보자는 말', '편지를 써보았어', '평범함 속에 웃음 속에 감쳐진 나', '평생 내꺼일거 같아서 함부로 했습니다', '평생 함께하고 싶다', '평온한거 같은데 행복하지가 않네', '포기하니 공허하네', '포기해야하는걸 알면서도 난 왜이러니', '포기해야할까', '폰 자꾸 보게 돼', '프로필 사진을 보았는데', '프사 무슨 의미 일까', '프사를 왜 보았을까', '핑계', '하 고놈의 술이 뭔지 참', '하 끝나는 건가', '하 너무 힘들어서 그냥 투덜투덜', '하 못참고 또 연락해버렸네', '하', '하 며칠 괜찮아졌다가 후폭풍이 또 밀려오네', '하고 싶은게 없어', '하나만 물아볼께', '하나하나 다 신경이 쓰이네', '하늘이 준 이별 같다', '하루 겨우 참고 또 문자 보냈네', '하루 이틀 이제는 사흘', '하루가 일년같아', '하루는 괜찮고 하루는 아픈 반복되는 일상', '하루동안 너무 연락을 많이 한걸까', '하루에도 수십번', '하루에도ㅠㅠ', '하루종일 회사에서 미친사람처럼 눈물의 의미를 생각하면서', '하루하루 너무 힘드네', '하루하루 이별하는 기분', '하루하루가 너무 고통스럽네', '하루하루가 지옥같아', '하소연 좀 해도 되나', '하아 너무 많이 힘드네 ㅜㅜ', '하아 다시 또 터진 눈물', '하아', '하이고 숨막힌다', '하진짜 열받아서', '하참 주말 더럽게 기네', '하하 진짜 헤어지고 싶다', '한 5개월쯤 됐네', '한 달 동안 잊으려고 노력해보라네', '한 번은 더 볼 일이 있을 것 같았는데', '한 여자와 한 남자의 이야기', '한강에서 소주한잔', '한달 다되가네', '한달 됐네', '한달 만에 보는 너에게', '한달 사귀고 헤어진 남자 무슨 생각일까', '한달 째', '한달 하고 일주일', '한달동안 대답이 없는게 아직도 생각하면 비참한데', '한달됐어', '한달만에제가', '한달반째', '한달의 시간을 갖자고 했지만 ', '한달이 10년 같은', '한달이 넘었네', '한달이 넘었지만', '한달이넘었는데 괜찮은거같은데', '한달이라는 시간이 흘렀습니다', '한달전에 마음 변한걸 느꼈을때 헤어질 것을', '한달째 클럽', '한달하고 2주가 지났는데 아직도', '한달하고 6일 지났네', '한달하고 9일째', '한때는 나의 전부였던 그녀', '한때는 원망하고 화났었지만', '한번 마음이 떠난 여자는 다시 안돌아오나 ', '한번만 더 보고 싶어요', '한번의 기회쯤 있겠지 라고 생각했던 내생각이 어리석었습니다', '한번쯤 진하게 아픈것도 괜찬아', '한번쯤은 다시 널 보고 싶어', '한사람어게추억이된다는것', '한사람의 부재가 이렇게나 크게', '한살 한살 더 먹을수록 만남이 두려워지네', '한순간에 변한 사람그리고 예의에 대해', '\"한순간에', '한숨', '한숨만', '한숨만 나오네', '한심하네ㅜㅜ', '한없이 소중하던 사람이 미워지네', '한이 쌓여', '한잔 했습니다', '한쪽이 마음 떠나고 마음 돌리는 방법', '할 말이 많은데', '할 수 있는 일이 이것뿐이라서', '할 수 있다면 그럴수 있다면 달라질까', '할 줄 아는거', '할수있습니다', '함께했던 시간이 너무 많았기에', '해가지는게 두렵네', '해선 안 될 사랑', '해외장거리 헤어진지 3주 다되가네', '핸드폰 떨어뜨려서 고장 났나봐', '행복한 돌싱녀', '행복한 인생 돌싱남', '행복할 수가 없어서 너무 아프고 불행합니다', '행복할까', '행복해라 불행해도 좋고', '행복해야 돼', '행복해져야해', '행복해하는 널보며', '행여 잃을까봐 꼭 쥐고 있어야 하는건 내 것이 아닙니다', '햐도 상처받아서 무뎌지네', '허전함', '허허 맴찢', '허허 모든 것을 다 줬는데', '헉 어쩌다보니 헤어졌을때 해선 안되는 금기 하나를', '헛웃음만 나오네', '헤어져도 그러려니 하겠지 했는데', '헤어져야 맞는건지', '헤어져야 하나', '헤어져야 하는걸 아는데 그사람을 보낼 수가 없네', '헤어져야 할 거 아는데 괴로워', '헤어져야 할까', '헤어져야 할까', '헤어져야하는게 맞는거겠죠', '헤어졌네', '헤어졌는데 가끔 궁금해져', '헤어졌는데 계속 연락중', '헤어졌는데 아픔보다는 미움원망', '헤어졌는데 왜제번호를안지워을까 이해해안돼네', '헤어졌는데 자꾸 연락하네', '헤어졌는데만나자는건', '헤어졌다는 그 말', '헤어졌습니다', '헤어졌습니다 이제 어떡하면 되나', '헤어졌어 위로가 필한 밤', '헤어졌어', '헤어졌을때는 자신을 바쁘게 만드는 게 제일 좋은 방법인듯', '헤어졌지만 생각나', '헤어지고 1주에 한번은 뭐라도 오네', '헤어지고 2년 정도에 느끼는 것들', '헤어지고 3개월만에 만나고 왔어', '헤어지고 3주인 오늘 만났어', '헤어지고 4달째', '헤어지고 나니 많은 생각이 들어', '헤어지고 나니까 휘청거리네여', '헤어지고 나서 만나기로', '헤어지고 나서 많은 일들이 있었네', '헤어지고 난 후 나의 일상들', '헤어지고 난뒤 친구', '헤어지고 다시 만나고 하다 결국 이별', '헤어지고 두번째 연락', '헤어지고 뜨문뜨문 연락은 다시 시작하긴 뭐하고 남주긴 아까운 뭐 이런마음인건가', '헤어지고 만나고 를 반복하다가 다시 만났는데', '헤어지고 벌써 한달이 됐네', '헤어지고 세달뒤 딴사람과 결혼', '헤어지고 시간이 흐르는게 무서워', '\"헤어지고 시간이흘렀네', '헤어지고 연락했습니다', '헤어지고 이제 알았어', '헤어지고 자꾸 생각나', '헤어지고 차단하는 이유는 뭘까', '헤어지고 추가 이야기 너무 힘이들어', '헤어지고 한달 이제야 느낌온다 ㅋ', '헤어지고 힘들다', '헤어지고나면 다른게', '헤어지고나서 다시 붙잡길래 믿었어', '헤어지고나서 보내는 두번째 주말이네', '헤어지고나서 여자가 연락이 없다는건', '헤어지고서 10개월동안 4번 봤네', '헤어지기 전 통화', '헤어지기 전으로 돌아가고 싶어', '헤어지기전하소연', '헤어지누여자친구 만나러가ㅠ', '헤어지는 중이였어', '헤어지는 중입니다', '헤어지는거 잘하는사람들 부러워', '헤어지는게 맞는걸까', '헤어지는게 서로를 위해 좋은거겠죠', '헤어지는게 편하겠죠', '헤어지니까 알겟어', '헤어지려고 합니다', '헤어지면 연락 안하는게 맞을까', '헤어지신 남자분들이나 여자분들', '헤어지자 말한 사람도 힘들까', '헤어지자고 끝났고 다정리했다면서', '헤어지자고 말했어 마음이 찢어지네', '헤어지자고 통보 받고 하루만에 다시 재회', '헤어지자고하더니 연락이 왔어', '헤어지자는 남친 잡아도 될지모르겠어', '헤어지자는 말 듣게 됐네', '헤어지자는 말을 듣고 다시 잡고 또 그 다음의 연애', '헤어지지 말자더니 놔버린 나쁜놈', '헤어지지 않았다면', '헤어지지 않았다면 오늘이 1년째 되는 날이네', '헤어지지 열흘짼데 너무 힘드네', '헤어진 날 부터 오늘까지', '헤어진 남친의 SNS 행적', '헤어진 남친의 연락하는 심리', '헤어진 사람과 같이 갔던 콘서트 영상이 티비에 나왔어', '헤어진 사람은 벌써 새여친 생겼네', '헤어진 사람이 생각나는데 어떻게 견디지', '헤어진 애인 카톡 안들어간다고 다짐 했는데', '헤어진 여자심리', '헤어진 여자친구', '헤어진 여자친구 생일전에 잡아보려구', '헤어진 여자친구 연락', '헤어진 여자친구가 꿈에서 밥을 해주고 가네', '헤어진 여자친구를 다시 만나고 싶어', '헤어진 여자친구를 돌아오게 하는 방법', '헤어진 여자친구에 진료예약 문자가 저에게오네', '헤어진 여자친구에게 마지막 한마디 했습니다', '헤어진 여자친구에게 새로운 남자가', '헤어진 여자친구와 재회하고 싶어', '헤어진 여자친구의 생일입니다', '헤어진 여자친구한테 화이트데이날 사탕 주면 않되겠죠', '헤어진 여친 생각나서 노래 해바라기가 생각나네', '헤어진 여친에게 문자 보내려고', '헤어진 여친이 페북이나 인스타그램 사진 안지우는게', '헤어진 연인의 새로운 사랑', '헤어진 지 2주 파혼', '헤어진 지 2주가 지났네', '헤어진 지 이제 2주정도네', '헤어진 지 이틀됐네 붙잡으면 안되겠죠', '헤어진 지 한달됐습니다', '헤어진 후 거의 세 달이 되어가네', '헤어진 후 이런 생각하면 안되지만 계속 부정적인 생각만 드네', '헤어진 후', '헤어진건 아닌데', '헤어진건가이거', '헤어진것인가 아닌것인가', '헤어진게 잘한걸까', '헤어진다는게 이렇게 힘든 일인줄 몰랐네', '헤어진사람에게 잊는동안 도움은 못받겠죠', '헤어진지 10일 지났네', '헤어진지 10일째', '헤어진지 10일째', '헤어진지 11개월 째인데 연락이 안돼', '헤어진지 12일째인데', '헤어진지 15일', '헤어진지 1년', '헤어진지 1년 뭐하는건지ㅋ', '헤어진지 1년 카톡해도 될까', '헤어진지 1년', '헤어진지 1년이 넘었네', '헤어진지 1년이면 재회는 힘들겠죠', '헤어진지 1달', '헤어진지 1달 정도 되었습니다', '헤어진지 1달반정도 됬네', '헤어진지 1달째 됐습니다', '헤어진지 1일차', '헤어진지 1주일 되었습니다', '헤어진지 1주일 너무 힘드네', '헤어진지 2달', '헤어진지 2달 다되어가는데', '헤어진지 2달 되가는데 오늘 무지 힘드네', '헤어진지 2달', '헤어진지 2달째', '헤어진지 2주만에 만났어', '헤어진지 2주째 ', '헤어진지 2주쯤 됐군', '헤어진지 3개월', '헤어진지 3개월이 지났네', '헤어진지 3개월째', '헤어진지 3개월째입니다', '헤어진지 3달만에 새로운 남자가 생긴 그녀', '헤어진지 3달만에 카톡왔는데 어떻게 해야할지 모르겠어', '헤어진지 3달째인데 후폭풍 왔나봐 ㅠ', '헤어진지 3일째인데 오늘 몰아쳐오네여', '헤어진지 3주', '헤어진지 3주오늘 그 친구 생일', '헤어진지 3주가 아직안됐네', '헤어진지 3주째', '헤어진지 3주째 입니다', '헤어진지 3주차 넘어가네~', '헤어진지 40일째', '헤어진지 42일째', '헤어진지 43일', '헤어진지 4일', '헤어진지 4일째 네', '헤어진지 5개월', '헤어진지 5개월차 꿀인생삽니다', '헤어진지 6개월', '헤어진지 6개월여~', '헤어진지 6개월이 넘어가네', '헤어진지 6일째', '헤어진지 9일', '헤어진지 9일째 이제 익숙해졌어 괜찮아졌고', '헤어진지 두 달째인데 힘드네', '헤어진지 두달', '헤어진지 두달 늘 만났던 장소를 난 지나다니고', '헤어진지 두달 무덤덤한데', '헤어진지 두달됬네 벌써', '헤어진지 두달이 되었습니다', '헤어진지 딱 3주째', '헤어진지 딱 한달 됐내', '헤어진지 벌써 두달이 다되가지만', '헤어진지 벌써 몇 년', '헤어진지 삼일째입니다', '헤어진지 세달이 다되가네', '헤어진지 어느덧 한달', '헤어진지 어언 3년이 되가네', '헤어진지 열흘 됐는데 연락하고 싶네', '헤어진지 이제 겨우 하루 지났네', '헤어진지 이제 곧1년', '헤어진지 이주가 좀 넘었네', '헤어진지 일주일만에 새로운 남자가 생긴 전여친', '헤어진지 일주일째', '헤어진지 하루 마음이 아프네', '헤어진지 한 달 됐어', '헤어진지 한 달 되는날', '헤어진지 한 달 조금 넘었는데 여전히 힘드네', '헤어진지 한 달 째', '헤어진지 한 달아직도 힘드네', '헤어진지 한 달째', '헤어진지 한달', '헤어진지 한달 조금 넘었어', '헤어진지 한달 좀 넘었네', '헤어진지 한달', '헤어진지 한달 됐네', '헤어진지 한달 됐어', '헤어진지 한달이 되어가네', '헤어진지 한달짼데', '헤어진지 한달하고 이주 정도 되었네', '헤어진지 어언 10개월', '헤어진지 1개월뿐이안됐네', '헤어진지1년', '헤어진지 1년되가', '헤어진지 25일째', '헤어진지 2개월차 잊혀지질 않네', '헤어진지2주가지났네', '헤어진지는 좀 오래 됐어', '헤어진지도 벌써 9개월이 지났네 근데 참 그래', '헤어진지도 어느덧 반년', '헤어진지 이제 5개월', '헤어진지 한달', '헤어진진 거의 1년', '헤어진후 4개월', '헤어진후 4일짼데 하 생각보다 진짜 힘드네', '헤어질때의 모습이 그 사람의 진짜 모습', '헤어짐', '헤어짐 이후', '헤어짐 통보 당한지 1달 정도 지났네', '헤어짐 통보후 한달만에 연락이 왔는데', '헤어짐 ㅠㅠ', '헤어짐과 중간에 다시 만남과 갈등', '헤어짐도 저혼자', '헤어짐으로 싸우고 완전히 헤어진지 어느덧 2개월', '헤어짐이 꿈이었으면 좋겠어', '헤어짐이 힘든이유', '헤이진지 이제 딱 한달', '현실과 마주하기', '현실과 타협해야하는 이별', '현실의 벽', '현실적인 문제에 이별이 다가오고 있어', '현실적인 문제에 헤어짐이 다가오고 있어 결국 이별일텐데', '혜진아 내 맘이 너에게 확정되기 전에 날 떠났어야지', '혹시 그런 날 없나', '혹시 딴여자를 만나고 싶다는 생각이 든다면', '고민상담 가능', '\"혹시나', '혼술중', '혼자 놀로다니기만 하는 남자', '혼자 보내는 크리스마스가 다가오고 있다', '혼자 사랑하고 혼자 이별하고', '혼자 사랑했나봐', '혼자 살아야 할 듯', '혼자 술 마실만한 장소 없을까', '혼자 이겨내기 힘들어', '혼자 이별여행이라도 갔나', '\"혼자 있고싶다는 남자친구', '혼자 있는 시간이 정말 힘드네', '혼자 있으니 힘이드네', '혼자 있으니까 편하네', '혼자 잘 살 수 있을까', '혼자 커피마셔', '혼자 해야 돼', '혼자 혼술 한다', '혼자가 되고', '혼자가 되면 견디기 힘듭니다', '혼자라는거 그런대로 괜찮아', '혼자라는건 여전히 많이 힘드네', '혼자만 힘드네', '혼자ㅠㅠㅠ', '홀로술한잔하며 ', '화낼 힘도 없다', '화장실', '화창한 날씨 포근한 햇살 나는', '환경 때문에 헤어진 여자친구', '환승 가능', '환승 이별', '환승 이별 후 돌아오고 싶다는 그녀', '환승 이별 후 재회했는데 이젠 진짜 끝을 내야하나', '환승당했다는 여자입니다', '환승이별 3달째를 앞둬도 힘들다', '환승이별 당했습니다 ㅎㅎㅎ', '환승이별당했습니다', '환승이별이란걸 알게됐습니다', '환승이별인지 이제라도 안 것에 감사해야할지', '환승이였다는걸 알고서 ', '환승하는 년놈들', '환승하는 사람들 대단해', '환승했다는 소식을 알게되었음', '황당하지만 재미난 일이 생겼네ㅎㅎ', '회복되는게 하루하루가 다른거 같아', '회사 사람들이 아직도 불편해', '회사선배랑 바람나서 헤어졌어', '회사에는 왜 친구 같은 사람이 없을까', '후', '후 아직 헤어진것도 아닌데', '후 좀 낫네여', '후언제까지 이럴까', '후ㅎㅎ', '후기 입니다', '후련하달까', '후련해', '후밤에 집에 혼자있으려니 답답하네', '후아 뭘까', '후아 힘드네', '후우', '후폭풍 재회를 두번 또 헤어짐', '후폭풍이 오네', '후폭풍이 올까 두려운데', '후회', '후회 하고있어', '후회가 몰려오네', '후회는 최선을 다하지않았기 때문일까', '후회스럽습니다', '후회없이 사랑했어', '후회하지말아', '휘성노래가 귀에 감기네', '휴', '휴 결국 헤어졌습니다', '휴 전남친 흔적찾기', '휴 착찹하네', '휴 생일인데 기운빠지네', '휴반년이라는 시간 잊었다 생각했지만 또 다시', '휴~~ 이제 글쓰는것도 멈춰야 할까', '휴대폰 켜면서 기대하는 것 좀 그만하고 싶네', '휴아플걸알면서도', '휴우', '흐앙  왤케 자꾸 생각나죠', '흐음 이거 고민이네', '흐음이거고민인데여;;', '흐잌~~ 불금이닷~~ㅠㅠ', '흑역사 제조 완료', '흔적', '흔적이란게 남은걸까', '흔한 군인의 이별', '흠', '흠 또 괜한 의미부여', '흠 아무 의미없는거라고 생각하고 싶은데 자꾸 뒤숭숭하네', '희망고문', '희생하는 것이 내 방식인 연애 5년간 사귀다 이별했습니다', '힘껏 아파하고 몸부림 치면서 살고 있어', '힘낼 곳이 없어', '힘드네 장거리', '힘드네 정말', '힘드네 차단 해야할까', '힘드네 포기라는게', '힘드네', '힘드네 정말이런건 줄 몰랐어', '힘드네조언좀 부탁드립니다', '힘든 밤입니다', '힘든 사랑', '힘든 하루', '힘든 하루 하루 되돌리며', '힘든고 외로움', '힘든데 밉지가 않아', '힘들 거라고 말했는데', '힘들고 지치네', '\"힘들고', '힘들까', '오늘도 힘들다', '힘들어', '힘들어 미치겠습니다', '힘들어 죽을거 같습니다', '힘들어너무 힘들어', '힘들어서 들어왔는데 괜찮아졌네', '힘듭니다 오늘 또 무너졌어', '힘듭니다', '힘이 될런지 모르겠지만', '힘이 드네', '힘이 없어', '힘이드네여자들이란', '짝사랑만큼 고통스러운 건 없겠지', '1년 넘게 만났는데 지금도 불타올라', '1년 동거 중인데 계속 좋아', '1년 동거하고 결혼했어', '1년 만났는데도 그 사람에 대해 잘 모르겠어', '1년반 만났는데 결혼하자고 해도 될까', '1년째 동거중이야', '1년째 좋아하는 사람이 있어', '2년 가량의 연애', '2년 만났는데도 잘 모르는 부분이 많은 거 같아', '2년 만났어', '2년 사겼어', '2년여의 만남', '2년째 동거중인데 결혼하려고', '2년째 좋아하는 사람이 있어', '30살이 넘었는데 짝사랑 계속해도 될까요', '3년 사겼는데 이제 결혼해야겠지', '3년 사겼어', '3년째 연애 중', '3년째 짝사랑 중인 나 비정상이야', '4년 사겼는데도 너무 좋아', '4년째 연애하고 있어', '4년째 짝사랑 중인 나 이제 고백해도 될까', '5년 만났는데 매일 보고 싶어', '5년 만났어', '5년째 짝사랑 중인데 포기해야 할까', '6년째 연애중', 'AB형 남자랑 썸 타면', 'AB형 여자랑 썸 타면', 'A형 남자랑 썸을 타게 됨', 'A형 여자랑 썸을 타게 됨', 'B형 남자랑 썸 탐', 'B형 여자랑 썸 탐', 'CC 레알 별로임', 'O형 남자와 썸을 타는데', 'O형 여자와 썸을 타는데', '가끔 짝남과 연애하는 상상을 해', '가끔 짝사랑 하는 여자애랑 데이트 하는 상상을 해', '가슴 뛰는 사랑', '가슴 찢어지게 아파 그 사람은 내 마음 알까', '가슴이 뛰어', '가을 타나 봐', '가을 타나 봐', '가족끼리 엄청 친한 사인인데 좋아하게 됐어요 고백했다 차이거나 헤어지면 어떡하죠', '가족이 아니지만 가족같은', '각자 집에 인사드리러 가', '간간히 동굴에 들어가는 남친 어떻게 해야돼', '간접적으로 차버린 짝남한테 연락하고 싶어요', '감당 못하는 사랑', '감정싸움 그만하고 싶어', '갑자기 사랑한다고 이야기해도 될까', '갑자기 선을 긋는 사람', '강아지 좋아하는 남자 어떤 것 같아', '강아지 좋아하는 여자 어떤 것 같아', '강아지 좋아하는 남자 어때', '강아지 좋아하는 여자 어때', '같은 과에 내 이상형인 남자애가 있는데 cc는 무리일까', '같은 회사에 좋아하는 여자가 생겼어', '같이 살까', '같이 일하는 사람에게 어떻게 연락을 시작할까', '같이 있으면 너무 좋아', '같이 있자고 말해도 될까', '객관적으로 짝남 별로인걸 아는데도 좋아해 이런 내가 너무 싫어', '걔 앞에만 서면 말이 안 나와', '걔도 날 좋아하는 건지 매너인지 모르겠음', '걔한테 잘보이고 싶은데 무슨 옷을 입는게 좋을까', '거래처 직원을 좋아하게 됐는데 어떻게 연락할까', '거리가 먼데 고백하면 받아줄까', '거짓말 하는 썸남 말해', '걷자고 꼬셔', '게스트하우스에서 만난 짝남이 관심이 가는데 내게 말 걸게 하고 싶어', '게스트하우스에서 만난 짝녀와 남은 일정을 같이 여행하고싶어', '게임 아이템 지르는 남친', '게임에서 만난 사람 좋아하게 되었는데 괜찮을까요', '결국 사랑이었어', '결혼 결심 이유', '결혼 결심한 계기가 있었어', '결혼 결심한 이유 있어', '결혼 상대로 괜찮을까', '결혼 생각 없는데 꼭 남자친구 부모님을 만나야할까', '결혼 생각 없었는데 결혼하고 싶어진 이유', '결혼 전에 다이어트 해야겠지', '결혼 전에 준비할 게 많겠지', '결혼 전에 혼란스러워', '결혼 준비하는 과정이 행복해', '결혼 준비하면서 많이 싸워', '결혼 준비하면서 못 보던 모습을 보게 돼', '결혼 해도 되는지 고민돼', '결혼날짜 받아왔어', '결혼상대로는 아닌거 같은 여자친구가 결혼을 원해', '결혼생활에 회의감이 들어', '결혼식 날짜 잡았대', '결혼식 날짜 잡으려고', '결혼식 앞두고 고민이야', '결혼식장 벌써 차있더라', '결혼은 타이밍인가', '결혼은 하고 싶은데 며느리는 되기 싫어', '결혼은 현실이지', '결혼을 앞두고 있습니다', '결혼이야기를 꺼내고 싶은데 어느 분위기에 꺼내는게 좋을까', '결혼적령기가 언제야', '결혼적령기가 지나가는 거 같아', '결혼적령기가 지나면 결혼하기 힘들겠지', '결혼전제로 만나고 있어', '결혼준비하면서 과연 행복할까 고민돼', '결혼하고 나서 애 낳기 싫어졌어', '결혼하고 싶다', '결혼하는데 돈이 엄청 드네', '결혼하는데 보통 얼마 들어', '결혼하는데 준비할 게 많네', '결혼하면 안 좋은 점', '결혼하면 좋은 점 말해줘', '결혼하면좋을까', '결혼한지 1년 됐는데 넘 좋아', '결혼한지 3개월 행복해', '결혼한지 반년인데 이렇게 행복해도 될까 싶어', '결혼할 사람이 나한테 거짓말한 거 같아', '결혼해도 되는 건지 모르겠어', '결혼해도 될까', '결혼해서도 설렐까', '결혼해서도 연애하는 것 같아', '경제력 보는게 이기적인거야', '계속 그 사람 생각만 해', '계속 그 사람한테 의지해도 될까', '계속 그리워', '계속 사랑하고 싶다', '계속 살아도 될까', '계속 생각하고 좋아하면 꿈에 나오려나', '계속 좋아하는 거 무리일까요', '고마워', '고맙다', '고민이 많은데 표현을 못하겠어', '고백', '고백 받고 싶어', '고백 받으면 기분 어떨까', '고백 언제 하지', '고백 좀 하지', '고백도 못하겠어', '고백은 어떻게 하는거야', '고백조차 못해보고 끝났어', '고백하고 싶어', '고백하고 어색해지면 어떡하지', '고백한 애가 연락이 느려', '고백한 애가 톡이 느려', '고백한 애가 톡이 안와', '고백할 타이밍인 거 같아', '고백합니다', '고백해도 될까', '고백했는데 답장이 없어', '고백했다 차이면 어쩌지', '고뱄했는데 너무 떨려', '공공장소에서의 스킨쉽 어떻게 생각해', '공시 붙자 마자 결혼하재', '공시 준비하는데 연애하면 안되겠지', '공시생인데 연애 해도 될까', '공휴일에 데이트하자고 해봐야지', '과묵한 타입인건가', '과함 설렘 후에 지금은 안 설레', '과함 설렘 후에 지금은 안 설레', '관심을 받는다는거', '관심있는 여자애한테 의미있는 선물을 주고 싶은데 뭘 주면 좋아할까요', '괜찮아 사랑이야', '괜찮은 사람 발견함 여친 있는지 물어봐도 됨', '괜찮은 사람인지 어떻게 알 수 있을까', '괜히 화가 나서 짝남한테 연락 끊자고 했어', '교양 듣는데 심남 있음 썸 타고 싶다', '교양 듣는데 어떤 남자가 자꾸 쳐다 봐 관심 있는 걸까', '교양 듣는데 어떤 여자가 자꾸 쳐다봄 썸 각', '교회 오빠한테 눈이 가', '교회에 좋아하는 여자애가 생겼어', '교회에 좋아하는 오빠가 생겼어', '구남친하고 헤어진지 얼마 안됐는데 다른 사람을 좋아하게 됐어', '구속을 너무 많이 해', '구썸남 보고싶어', '구썸남 인스타에 좋아요 누름', '구썸남한테 연락하고 싶다', '구여친이랑 헤어진지 꽤 됐는데 좋아하는 사람이 없음', '구짝남한테 카톡했는데 읽씹해서 미련 없이 차단했어요', '군대 때문에 헤어져야하는게 고민임', '군대가기 전인데 썸녀한테 고백해도 될까', '군대를 기다리는게 너무 힘들어', '군인 남친 보고 싶어', '군인인데 여자친구 보고 싶어', '권태기 어떻게 해결해야할까', '권태기가 찾아온 이유', '귀찮으면 썸 끝인가', '그 남자를 좋아해도 되는지 고민이야', '그 사람 때문에 하루에도 몇 번씩 기분이 오르락 내리락 해', '그 사람 생각에 잠이 안 와', '그 사람 이상형 알고 싶어', '그 사람과 내 맘이 같을까', '그 사람은 나한테 관심이 없는걸까', '그 사람이 나를 좋아하는 줄 알았는데', '그 사람이 나를 찾았으면 좋겠어', '그 사람이 날 좋아하는 이유가 뭘까', '그 사람이 뭐하는지 궁금해', '그 사람이 저를 그만 좋아하게 하는 방법 있을까요', '그 애 앞에서 말을 잘 못하겠어', '그 애도 내 생각을 할까', '그 여자를 좋아해도 되는지 고민이 됩니다', '그가 내 연락을 부담스러워하진 않을까', '그게 잘 안되네', '그냥 결혼이나 할까', '그녀가 내 연락을 부담스러워할까', '그녀가 지금 내 눈앞에 있습니다', '그녀는 나를 어떻게 생각할까', '그녀는 내 마음을 알까', '그녀는 내가 좋아하는 것을 이용하는 거야', '그녀는 내가 좋아하는 이 상황을 즐기는 것 같아', '그녀는 조금이라도 내 생각을 할까', '그녀는 지금 무슨 생각을 할까', '그녀는 지금 뭐하고 있을까', '그녀도 나를 좋아하는 줄 알았는데 아닌가봐', '그녀도 나를 좋아했으면 좋겠는데', '그녀도 내 생각을 할까', '그녀를 다시 찾았습니다', '그녀를 생각할 수록 내가 비참해져', '그녀와 같은 조가 하고 싶어', '그녀의 환심을 살 수 있는 방법이 뭐가 있을까', '그는 나를 어떻게 생각할까', '그는 내 마음을 알까', '그는 내가 좋아하는 마음을 이용하는 걸까', '그는 내가 좋아하는 이 상황을 즐기는 것 같아', '그는 조금이라도 내 생각을 할까', '그는 지금 무슨 생각을 할까', '그는 지금 뭐하고 있을까', '그도 나를 좋아하는 줄 알았는데 아니었어', '그도 나를 좋아했으면 좋겠다', '그를 생각하면 할수록 내가 비참해', '그를 좋아하면 내가 비참해지는거 아는데도 포기가 안돼', '그리울수록 아파', '그사람 이상형 궁금해', '그와 같은 조가 되고 싶은데 먼저 말해볼까', '그의 환심을 살 수 있을까', '그저 그런 연애', '근황이 궁금해', '급 내 짝남 생각나는 일화가', '기념일에 선물 어느정도로 해줘', '기념일은 언제언제 챙겨', '기다리는 것도 행복해', '기다림 속에 갇혀 있어', '기댈 수 있는 남자 만나고 싶어', '기댈 수 있는 사람이 이상형이야', '긴 머리가 잘 어울렸던 그녀', '길에서 첫사랑 만났어', '꼬시는 방법', '꿈에 나온 여자를 어떻게 찾을 수 있을까', '꿈에서 썸 나는 남자애가 자꾸 나와', '꿈에서 썸 타는 여자애가 나와', '꿈에서 자꾸 어떤 남자애가 나와', '꿈에서 자꾸 어떤 여자애가 나와', '끝이 보이는 사랑해도 될까', '끼 부리는 사람 어때', '나 같이 서로 좋아하는 거 확인하고 사귄 사람 있나', '나 같이 향기로 좋아하게 되는 사람도 있나', '나 그대로를 사랑해줄 사람 있나', '나 기억했으면 좋겠다', '나 둘다 좋아하는 것 같애', '나 또 짝남을 2년동안 좋아하는 건가', '나 뚱뚱한데 좋아하는 남자에게 연락해도 될까', '나 맨날 놀리는 애가 있는데 나 좋아하는건가', '나 보고 잘 웃는 여자애 나 좋아하는 건가', '나 부담스러워하면 어쩌지', '나 사랑에 빠졌죠', '나 사랑하긴 했니', '나 사랑하는 사람 생겼어', '나 사랑할 자격 없는 사람이야', '나 사랑할 준비 됐나', '나 사랑해서 만나는 거겠지', '나 상사병 걸렸나봐', '나 설레는데 혹시 썸', '나 쉬운 남자 아니야', '나 쉬운 사람이라고 생각하면 어쩌지', '나 쉬운 여자 아니야', '나 쉽게 보나', '나 썸타는 것 같은데 설레발인 부분', '나 얘를 좋아하는 걸까', '나 어장인듯', '나 연락하지 말라고 단호하게 해줘', '나 오늘 심쿵함', '나 왜 사랑할까', '나 왜 사랑해', '나 왜 이렇게 화냈었지', '나 왜 좋아할까', '나 윗집 남자애 좋아하는 것 같애', '나 자꾸 놀리는 애가 있는데 나 좋아하는건가', '나 자체를 사랑해줄 사람이 있을까', '나 좀 봐줬으면 좋겠어', '나 좀 사랑해줘', '나 좋아하는 남자애 없나봄 넘 외로워', '나 좋아하는 애 떼어내는 방법 좀 알려줘', '나 좋아하는 애 생겼나봐', '나 좋아하는 애가 갑자기 연락을 안하는데 숨은 뜻이 있는건가', '나 좋아하는 애가 매일 선톡 걸다가 갑자기 톡을 안함', '나 좋아하는 여자애가 없는 듯 나 왜 사냐', '나 좋아하는 여자애한테 답장이 안와', '나 진심인데', '나 짝남이 외국인인데 어떡해 미치겠어', '나 처음 연애해봐', '나 혼자 썸 타는 부분', '나 혼자만의 썸일까', '나는 꼼꼼한데 여친은 안 꼼꼼해', '나는 못난거 같은데 인기있는 여자에게 연락해도 될까', '나는 못났는데 인기있는 남자에게 연락해도될까', '나는 못생겼는데 좋아하는 여자에게 연락해도 될까', '나는 받기만 하는 것 같아', '나는 사랑 표현이 어색한데 여자친구는 너무 적극적인 표현을 원해', '나는 아직 고백 전인데 소문 나서 짝녀가 알게 됐는데 어떻게 함', '나는 아직 고백안했는데 소문이 나서 짝남이 알게 됐어', '나는 왜 사랑하는 사람에게 잔인했던가', '나는 좋아하는데 그 사람은 나를 친구로만 생각해', '나도 모르게 니 생각을 하고 있어', '나도 좋아하는 사람이랑 놀러가고 싶어', '나도 좋아하는 사람이랑 영화 보고 싶다', '나랑 다른 애들 자꾸 엮는 애가 있는데 얘 나한테 관심있나', '나랑 딱 맞는 사람이 있을까', '나랑 맨날 엮이는 사람이 있는데 좋아졌어', '나랑 사귈래', '나랑 썸 타는 줄 알았는데 내 동기랑 사귐', '나랑 썸 타던 여자애가 내 친구랑 사귄대', '나랑 썸타는 애가 영화보재', '나랑만 연락하면', '나를 떠보는 것 같은 짝남', '나를 보는 거 같아', '나를 설레게하는사람', '나를 왜 좋아하는 걸까', '나를 정말 사랑하는 걸까', '나를 좋아하는 사람도 있을까', '나를 좋아하는 사람은 아무도 없을거야', '나를 좋아하는 사람을 만나는 건 축복일거야', '나를 좋아하는 사람이 있는데 철벽치게 돼요', '나를 좋아하는 애랑 친구 가능', '나를 좋아하는건 바라지도 않아요', '나를 좋아하는데 숨기는 사람한테 나도 좋아한다고 어떻게 표현해', '나를 좋아하지 않는 그 사람이 너무 미워', '나를 좋아한다는 사람한테 호감이 생길까요', '나를 진심으로 좋아해주는 사람이 생겼으면 소원이 없겠어', '나를 진심으로 좋아해주는 사람이랑 만날 걸', '나를 친구로서 좋아하는 걸까', '나만 너무 좋아하는거 같애', '나만 안되는 연애', '나만 왜 이렇게 사랑이 힘들까', '나만 좋아하는 건가 자괴감 들어', '나만 좋아하는 것 같아 자존감 떨어져', '나보다 2살 어린 남자를 좋아하는게 비정상이야', '나보다 친구들을 더 좋아하는 남친', '나보다 친구들을 더 좋아하는 여친', '나쁜 사람인 걸 아는데도 좋아하는 마음이 사라지지 않아', '나에 대한 관심이 줄어든 거 같아', '나에게만 집중했으면 좋겠어', '나이 먹고 짝사랑하는 내가 한심해', '나이 차이 많이 나는 남자 어때', '나이 차이 많이 나는 여자 어때', '나이 차이 많이 나는 짝녀에게 고백해도될까', '나이가 많이 차이 나는 연애 어떻게 생각해', '나이가 어린데 연애를 해도 될까', '나이들수록 좋아하는게 두려워져요', '나이를 먹을수록 새로운 사람 만나는게 두려워', '나이트갔는데 이상형 만났어', '나한테 관심 없는 거 아는데도 포기가 안돼', '나한테 관심 있는게 맞을까', '나한테 관심이 없는 것 같은데 왜 끈을 놓지 못할까', '나한테 너무 잘해줘서 이래도 되나 싶어', '나한테 뒷모습만 보여줬어', '나한테 마음 떠난 사람이랑 계속 사귀기', '나한테 목적 가지고 접근한 거 같아', '나한테 배려해줘서 나도 해주고 싶어', '나한테 잘해주는데 썸일까', '나한테 질리면 어쩌지 걱정돼', '나한테도 관심 있어 보이는데 연락해볼까', '나한테만 잘해주는 걸까', '나혼자 설레는게 한심해', '나혼자 설레발 치는게 짜증나', '나혼자 짝사랑하는게 점점 현타 와', '난 금사빠라서 오랫동안 좋아하는 사람 보면 신기해', '난 남자인데 남자가 좋아', '난 여자인데 남자를 좋아하는게 맞는지 모르겠어', '날 사랑하는 이유가 뭘까', '날 좋아하는 사람을 어떻게 하면 저를 좋아하게 만들까요', '날 좋아하는 여자애가', '날 좋아하던 남자애가 고백이 없는데 맘 접은걸까', '날 좋아하던 여자애가 반응이 없어', '날 좋아한다는 남자애가 행동이 이상해', '남녀 학벌차이 많이나면 좀 그런가', '남녀간의 소통의 중요성을 다시 한번 깨달았습니다', '남사친 좋아하는 내가 잘못이지', '남사친이 나를 좋아하는 것 같은데 어떡함', '남사친이 남자로 느껴질때 있어', '남사친이 많은 썸녀', '남사친이 좋아졌어', '남사친이 좋아졌으면 어떡해', '남사친이라 쓰고 짝남이라 읽는다', '남사친이랑 사귀는 거 가능', '남사친이랑 잘 맞아서 카톡이 끊어지지 않는데 이거 그린라이트일까', '남사친인데 요즘 관심 가', '남자가 더 사랑해서 결혼하면 잘 사나요', '남자가 더 사랑해서 한 결혼', '남자가 돈을 더 써야하는게 일반적이야', '남자가 먼저 고백해야 해', '남자가 여자를 좋아하는데 약속을 까먹을 수 있나요', '남자가 여자를 좋아할때 하는 행동이 뭐가 있나요', '남자가 좋아하는 음식이 뭐야', '남자는 먼저 고백하면 관심 사라짐', '남자는 정말 사랑없는 성관계 가능해', '남자는 좋아하는 여자랑 눈 마주치면 어떻게 해', '남자는 좋아하는 여자랑 약속 안 까먹겠죠', '남자는 첫사랑 못 잊어', '남자는 호감 없으면 연락 안해', '남자들 직장 내에서 좋아하는 여자 있으면 어떻게 해', '남자들 진심으로 좋아하는데도 이렇게 행동할 수 있나요', '남자들은 관심 없으면 보통 연락 먼저 안해', '남자들은 몇 년씩 혼자 짝사랑 할 수도 있어', '남자들은 여자가 본인 좋아하는거 눈치 못 채나', '남자들은 여자가 자기 좋아하는 거 알게 되면 어떻게 해 싫지 않다면 받아줘', '남자들은 이쁜 여자만 좋아할까요', '남자들은 좋아하는 사람한테만 잘해주고 그래요', '남자들은 좋아하는 여자가 자기보다 능력이 좋은 경우에 아무리 좋아해도 마음 접고 포기하나요', '남자들은 좋아하는 여자한테 이럴 수 있어', '남자들은 좋아하면 무조건 답장이 빠른가요', '남자들이 싫어하는 여자들 특징은 뭘까요', '남자들이 좋아하는 여자들 특징은 뭐야', '남자랑 단둘이 술마시는 여자친구를 이해해줘야할까', '남자에게 첫사랑이란', '남자친구 만나고 왔어', '남자친구 만들고 싶어', '남자친구 말고 다른 남자도 궁금해', '남자친구 부모님 만났는데 진짜 좋았어', '남자친구 소개시키는 자리 내가 더 떨려', '남자친구 스타일이 마음에 안들어', '남자친구 영장 나왔대', '남자친구 오지랖 너무 많아', '남자친구 이성친구가 많아', '남자친구 자취 선물로 뭐가 좋을까', '남자친구 카톡 말투가 마음에 안 들어', '남자친구 코 완전 높아', '남자친구 폰 봐도 되나', '남자친구가 sns에 나 안 올려', '남자친구가 갑자기 군대간대', '남자친구가 게임을 너무하는게 고민이야', '남자친구가 기념일을 잘 잊어', '남자친구가 나 사랑할까', '남자친구가 나를 너무 애 취급하는거 같음', '남자친구가 나를 더 좋아하게 할 수 있는 방법', '남자친구가 나를 떠날까봐 고민이야', '남자친구가 나쁜 의도는 아닌데 표현이 너무 서툴러', '남자친구가 나한테 너무 집착해', '남자친구가 날 예뻐해주는 게 느껴져', '남자친구가 내 편을 안 들어 주고 조언만 해줘', '남자친구가 너무 객관적이야', '남자친구가 너무 국밥류만 좋아해', '남자친구가 너무 귀찮아해', '남자친구가 너무 똑똑해', '남자친구가 너무 바쁘다면 헤어지는게 맞는걸까', '남자친구가 너무 소심해', '남자친구가 너무 잘해줘', '남자친구가 너무 조급해', '남자친구가 너무 좋아', '남자친구가 누나가 두명이라 그래서 결혼 걱정돼', '남자친구가 다른 여자들에게 인기가 많아', '담배피는게 싫어', '남자친구가 데려다 준대', '남자친구가 데이트 통장을 제안하는데 어떻게 생각해', '남자친구가 돈이 너무 없어', '남자친구가 되어줘', '남자친구가 마중 나온대', '남자친구가 많이 먹어서 무한리필만 가', '남자친구가 말을 예쁘게 해', '남자친구가 먹을 거에 집착해', '남자친구가 뭔가 수상한데 말을 안해', '남자친구가 변해가는거 같아', '남자친구가 비꽈', '남자친구가 비혼주의래', '남자친구가 사랑스럽게 쳐다봄', '남자친구가 살이 너무 쪘어', '남자친구가 센 척해', '남자친구가 술만 마시면 연락이 안돼', '남자친구가 술먹으면 개가 돼', '남자친구가 술자리를 너무 좋아해', '남자친구가 술주정 부려', '남자친구가 을 너무 좋아해', '남자친구가 연락 안 하고 외박했어', '남자친구가 연락이 너무 늦어', '남자친구가 연락이 없어', '남자친구가 연애하는데 가끔씩 막말을 해', '남자친구가 외아들 홀시어머니라 결혼 고민이야', '남자친구가 유학 간대', '남자친구가 있는데 다른 사람을 좋아하는 것 같애', '남자친구가 자존심이 너무 쎄', '남자친구가 작은 일을 다 잊어버려', '남자친구가 잘못을 해도 다 공감해주는게 옳은걸까', '남자친구가 잘생겨서 인기가 거의 아이돌급이야', '남자친구가 적극적이지가 않아', '남자친구가 전역하더니 변한 거 같아', '남자친구가 좋은데 눈치가 없어', '남자친구가 좋은데 신뢰가 안 생겨', '남자친구가 준 생일선물이 너무 맘에 안 들어', '남자친구가 진짜 잘 챙겨줘', '남자친구가 질투를 안해', '남자친구가 질투하는 거 귀여워', '남자친구가 집안일을 너무 안해 나만 하는게 고민이야', '남자친구가 집청소를 너무 안해', '남자친구가 짠돌이라서 돈 쓸 때 엄청 아까워해', '남자친구가 첫사랑이야', '남자친구가 충고만 해서 상처받아', '남자친구가 친구들이랑 여행을 가는데 여자도 있으면 어떡해', '남자친구가 카톡 답장이 너무 느려', '남자친구가 클럽을 간다면 어떻게해', '남자친구가 키가 좀 작아', '남자친구가 표현을 하게하고싶은데 방법을 잘 모르겠어', '남자친구가 표현이 너무 없어 너무 무뚝뚝해', '남자친구가 힘들어 해', '남자친구랑 너무 좋은데 점 본거에서는 만나지말라해', '남자친구랑 말이 안 통해', '남자친구랑 말이 안 통해', '남자친구랑 멀리 떨어져야할 거 같은데 어쩌지', '남자친구랑 스킨십하고 싶어', '남자친구랑 왜 맨날 싸울까', '남자친구랑 카페가면 무슨 얘기하지', '남자친구를 믿는데 가끔 의심이 가', '남자친구를 질리게하는 행동들이 뭐가 있어', '남자친구앨범속에 지우지못한 전 여자친구 사진 이해해야할까', '남자친구에게 고민이나 속사정을 어디까지 얘기해', '남자친구에게 시계 선물해주고싶은데 어느 브랜드가 좋을까', '남자친구에게 적극적으로 표현할까 아니면 도도하게 하는게 좋을까', '남자친구에게 힘들때 어떻게해', '남자친구와 동거 해도되는걸까', '남자친구와 방구 언제 텄는지', '남자친구와 여사친이 너무 친해', '남자친구와 여행 어디로 가', '남자친구와 진도가 보통 어때', '남자친구와 첫키스는 언제했어', '남자친구와 카페가면 뭐해', '남자친구와 호칭을 뭘 쓰는지', '남자친구의 감정기복이 너무 심해', '남자친구의 과거 어디까지 이해해', '남자친구의 과거의 동거를 이해해줄 수 있어', '남자친구의 성적 취향을 이해못하겠어', '남자친구의 스킨쉽이 너무 부담돼', '남자친구의 유머코드가 너무 안 맞아', '남자친구의 입냄새가 고민이야', '남자친구의 전여자친구가 너무 이뻐서 비교돼', '남자친구의 틀리는 맞춤법이 거슬려', '남자친구의 학력이 너무 높아서 내가 부족해 보임', '남자친구의 혼전순결이 고민이야', '남자친구하고 커플티를 하고싶은데 어디거를 할까', '남자친구한테 서운해', '남자친구한테 아무리 말해도 자기 말만해', '남자친구한테 안 설레', '남자친구한테 정 떨어진 거 같아', '남자친구한테 핸드폰 공개해', '남자한테 언제 설레', '남잔데 남자 좋아해', '남잔데 남자를 사랑하는 거 같아', '남친 멀어진 것 같아', '남친 생겼는데 호칭 어떻게 해', '남친 연상인데 오빠라고 불러야 해', '남친 요구가 점점 심해지는 듯', '남친 있는 짝녀가 친절한데 무슨 의미일까요', '남친 있는데 다른 사람이 자꾸 눈에 들어와', '남친 투정이 심해', '남친과 살아온 환경이 너무 달라', '남친에 대한 불신이 자꾸 들어', '남친이 나를 안 좋아하는 것 같은데 내가 붙잡고 있는 것 같아', '남친이 나를 좋아하는게 맞겠지', '남친이 나보다 눈물이 더 많아', '남친이 내 사진 프사로 안해', '남친이 내 친구랑 연락하는 것 같애', '남친이 데이트 시간을 자꾸 늦어', '남친이 사진 잘 찍었으면', '남친이 안 좋은 사이트를 하는거같아', '남친이 워커홀릭이야', '남친이랑 대화가 잘 돼서 좋아', '남친이랑 뭐하고 놀지', '남편복 있다는 의미가 뭐야', '남편은 진짜 남의 편인가', '남편을 자꾸 무시하게 돼', '남편이 게이였어', '남편이 나를 사랑한대', '남편이 날 사랑하지 않는 것 같아 이혼해야할까', '남편이 날 진심으로 사랑하는 걸까', '남편이 내 의견 무시해', '남편이 자꾸 만져', '남편이 자꾸 만져', '남편이 축가 불러준대', '남편이 츤데레 스타일이야', '남편이 효자인 거 같아', '남편한테 만족해', '남편한테 서운한거 얘기해도 될까', '내 가치관이랑 다른 가치관을 가지고 있는 그 남자를 좋아하는게 힘들어', '내 기준 괜찮은 사람 발견했는데 남친 있는지 물어봐도 돼', '내 남사친이랑 잘되고 싶어 그는 나를 여자로 봐줄까', '내 남자로 만들기', '내 마음 들킨 거 같아', '내 마음 알면서도 모른척하는거면 어떡해', '내 마음에 온통 너야', '내 마음을 보여주는 게 어려워', '내 맘대로 되지가 않아', '내 번호를 따간 사람이 내 친구가 좋아하는 애야', '내 사랑이 부족한걸까', '내 사랑이 있을까', '내 아이돌이랑 연애하보고 싶다', '내 여자로 만들기', '내 여자하자', '내 왜 좋아할까', '내 이상형도 아닌데 그 여자를 왜 좋아하는지 모르겠어', '내 이상형이 뭔지 모르겠어', '내 이상형이 아닌데 그 남자를 왜 이렇게 좋아할까', '내 존재를 알리고 싶어', '내 첫사랑이 날 기억 못 해', '내 친구가 내 짝남 욕을 계속 해', '내 친구가 내 짝남 좋아하나', '내 친구들이 다 별로라고 하는 짝녀 나만 좋다면 연락하는게 맞는걸까', '내 친구랑 내 짝남이 서로 좋아하는 것 같아', '내 친구랑 내 짝녀가 서로 좋아하는 것 같은데 나 어떡함', '내가 그 사람을 좋아하는건지 아닌지 착각이 들어', '내가 그냥 아는 여자라네', '내가 그냥 학교 후배래', '내가 그녀를 생각하는 만큼 그녀도 다른 사람을 생각하겠지', '내가 그를 생각하는 만큼 그도 나를 생각할까', '내가 그사람한테 필요했으면 좋겠어', '내가 너무 기댄 거 같아', '내가 너무 몰아붙였나봐', '내가 너무 이기적이었어', '내가 너무 진지한걸까', '내가 누굴 좋아하는지 헷갈리면 이상해', '내가 더 사랑할까', '내가 더 좋아하는 거 같은 느낌이야', '내가 더 좋아하는 관계', '내가 무의식 중에 무시하는 듯한 말투를 썼어', '내가 사랑하는 사람이 나를 사랑했으면', '내가 사랑해도 될까', '내가 사랑했던 그 사람 맞아', '내가 생각하는 만큼 걔도 날 생각할까', '내가 생각했던 사람이 맞는지 확신이 안들어', '내가 싫은 건 너도 싫어해줘서 고마워', '내가 썸 깼는데 다시 연락하고 싶어', '내가 여자 좋아하는 줄 알았는데', '내가 여자친구의 전남자친구보다 능력이 부족해', '내가 연락 끊은 짝남한테 다시 연락올 수 있는 법 좀', '내가 오랫동안 좋아하던 사람이 날 몰라', '내가 이 사람을 사랑하는 건가', '내가 좋대', '내가 좋아하는 거 알았는데도 나를 대하는게 변함이 없어', '내가 좋아하는 거 티내면 싫어할까', '내가 좋아하는 걸 티냈는데 그 사람은 반응이 없어', '내가 좋아하는 걸 티냈는데 못 알아챘을까', '내가 좋아하는 남자를 만나는게 나아 나를 좋아하는 남자를 만나는게 나아', '내가 좋아하는 사람보다 나를 좋아해주는 사람 만나는게 행복한거라더니', '내가 좋아하는 사람이 나를 신경쓰게 하는 방법 조언 좀', '내가 좋아하는 사람이 나를 좋아하는지 모르겠어', '내가 좋아하는 사람이 나를 창피해하는 것 같아', '내가 좋아하는 사람이 날 좋아해주는건 정말 기적인 듯', '내가 좋아하는 사람이 날 좋아했으면 좋겠어', '내가 좋아하는 사람이 누구를 좋아하는지 궁금해', '내가 좋아하는 사람이 누군지 점점 헷갈려', '내가 좋아하는 사람이 다른 사람을 좋아하는데 자괴감이 들어', '내가 좋아하는 사람이 다른 사람을 짝사랑 해 도와줘야 할까', '내가 좋아하는 사람이 유명해지면 기분이 어떨까', '내가 좋아하는 사람이랑 나이 차이가 많이 나는데 괜찮을까', '내가 좋아하는 애가 날 좋아하는 것 같으면 갑자기 정 떨어지고 뭔가 싫어짐', '내가 좋아하는 애가 유학간대', '내가 좋아하는 애를 내 친구가 계속 욕하는게 맘에 안들어', '내가 좋아하는 애를 내 친구가 좋아하는게 맘에 안 들어', '내가 좋아하는 여자애를 따라 좋아하는 애가 있음', '내가 좋아하는걸 그사람이 알았으면 좋겠어', '내가 좋아하는지 그 애가 아예 몰라', '내가 좋아할 자격이 있나 모르겠어', '내가 좋아할 자격이 있나 모르겠어', '내가 좋아해도 될까', '내가 좋아해도 될까', '내가 진짜 둔한데 나를 좋아하는지 모르겠어', '내가 집착하는 걸까', '내가 첫 연애래', '내가 첫사랑이래', '내가 최대한 잘해줘도 불만이 많아', '내가 친절하니까 쉬워보이나', '내가 해본 연애 중에 짝사랑인데 이뤄진 연애는 없는 듯', '내가 해주는 것도 없는데 나한테 너무 잘해줘', '내일 개강총회인데 짝녀한테 어떻게 잘 보이지', '내일 결혼식이야', '내일 더 사랑해', '내일 만나자고 해볼까', '내일 뭐 입고 나갈까', '내일 짝남이랑 영화보러간당', '내일 짝녀랑 영화보러갑니다', '낼 짝남한테 잘 보이고 싶어', '낼 짝녀한테 잘 보이고 싶어', '너 생각이 났어', '너도 썸 타', '너라서 행복해', '너를 사랑한 시간', '너무 사랑하는데 동거해도될까', '너무 설레서 울렁거려', '너무 예민한 여자친구', '너무 잘해주면 질려하나', '너무 잘해줬더니 당연한줄 아네', '너무 좋아서 절제가 안돼', '너무 좋아하면 남자친구가 부담스러워 할까', '너무 쿨한 남자친구가 고민이야', '너무 행복해 오래갈 수 있을까', '너무 행복해 오래갈 수 있을까', '너와 내가 인연이었으면 좋겠어', '넘치는 사랑 받고 있어', '노는 거 좋아하는 남자는 좋아하면 힘들겠지', '노는 거 좋아하는 사람은 좋아하면 힘들거야', '노는 것 좋아하는 여자 이쁜데 좀 그래', '놀러다니기 좋아하는 남자 착하긴한데 나랑은 안맞다고 생각이 들어', '놓치고 싶지 않는 사람', '누가 날 좋아하는 걸 알면 어떤 생각이 들어', '누가 더 사랑할까', '누가 봐도 썸 타는 사이인데 연락이 없어', '누구에게나 친절한 남자 위험해', '누군가를 좋아하는게 과연 행복한 걸까', '누군가를 좋아하는게 두려워', '누군가를 좋아하는게 이렇게 힘들줄 알았다면 시작도 안했을거야', '누군가를 좋아한다는건 정말 힘들일이야', '누군가를 좋아해본 적이 없는데 문제가 있는걸까', '누군가를 짝사랑하게 되는게 두려워', '눈 뜨면 생각나는 사람', '눈에서 멀어져도 좋아하는 건 어떡하죠', '눈을 감아도 보고 싶어', '눈이 자꾸 마주쳐', '다 맞춰주고 싶은 사람', '다 잊었는데 다시 그녀가 나타났어', '다 잘맞는데 가치관이 다른 연애가 고민', '다니던 회사를 그만두고 1년간 여행을 가자고 해', '다들 우리 잘 어울린대', '다른 사람은 잘만 하는 연애', '다시 만나서 사랑할 수 있을까', '다시 사랑이 오겠지', '다시 썸 타는 방법', '다시 웃게 해준 사람', '다시 태어나도 만나고 싶은 사람', '다썸이 뭐야', '다정한 사람 만나고싶어', '단 하루도 널 사랑하지 않은 날이 없었어', '단둘이 놀자', '단톡방에서 내 톡에만 답장해 썸 각', '답프로포즈 해볼까', '대부분 무덤덤한 남자친구가 고민임', '대출 엄청 끼고 집 사', '대출껴서 집사는게 맞나', '대학교 고학번 선배랑 썸 타도 되나', '대학교에서 첫사랑 다시 만났어', '대화가 안 통해', '대화가 잘 통하는 사람이야', '댄디한 남자 사귀고파', '더 사랑하고 싶다', '더 사랑해달라고 말해볼까', '더 사랑해달래', '더 사랑해줘', '더 알고 싶어 지는 사람이야', '덜 좋아하는게 답인 것 같아', '데이트 계획을 너무 나만 짜는거같아', '데이트 비용은 보통 어떻게 내', '데이트 장소', '데이트 장소가 항상 고민이야', '데이트 통장 만들까', '데이트 할때 너무 많이 먹는 남자친구가 고민이야', '데이트는 어디로 가', '데이트비용이 너무 많이 나와', '데이트중에 정적 있어도 괜찮을까', '데이트하고 보통 몇시쯤에 집에 들어가', '데이트하는데 무한리필만 가', '데이트할 시간이 없네', '도대체 사랑이 뭐니', '도서관에서 항상 같은 자리에 앉는 여자가 계속 떠올라', '돈이 없으면 연애를 하지않는게 맞는걸까', '동거 하다 걸렸어', '동거하는 거 부모님이 알게 되셨어', '동거하는데 헤어져야할 거 같아', '동거하다 사랑이 식으면 어떡해', '동거하다가 헤어질까봐 걱정이야', '동거해도 될까', '동네 친구랑 썸 괜찮을까', '동물 좋아하는 사람 어때', '동물 좋아하는 사람은 착한가', '동물을 너무 좋아해', '동성애 어떻게 생각해', '동성을 사랑해', '동성을 좋아하는게 비정상이 아닌걸 아는데 고백하는건 망설여져', '동성친구 좋아하는 사람 없어', '동아리에서 마음에 드는 남자 만났어', '두 남자 사이에서 갈등 중', '두 사람한테 거의 동시에 고백받았어', '두 여자 사이에서 갈등하고 있어', '두근두근해', '두달 사겼어', '뒷담화 좋아하는 사람 어떻게 생각해요', '드라마같은 사랑 하고 싶어', '드레스 입어보는 거 재밌어', '딩크족으로 살거야', '딱 1년 연애', '딱 내 이상형이야', '딱 내 취향인데', '또 고백해볼까', '또 사랑이 올 줄 몰랐어', '띠동갑 짝사랑하는데 괜찮을까', '라면먹고갈래 말해볼까', '랜선 연애 어떻게 생각해', '랜선 연애로 잘 되기도 해', '랜선 연애 중', '랩 추천 좀 나 좋아하는 남자애한테 잘 보이고 싶어', '로맨틱한 고백', '로맨틱한 사랑 하고 싶다', '로맨틱한 사랑을 원해', '롱디인데 너무 보고 싶어', '롱디인데 연락이 자주 안돼', '마음 맞는 사람이 있을까', '마음 표현하기가 힘들어', '마음에 드는 사람이 있는데', '마음에 드는 여자가 있어요', '마음에 든다는 걸 어떻게 알릴 수 있어', '마음에 안 차는데 만나도 돼', '마음에 없는데 관계를 하고 싶대', '마음에 없는데 관계를 하고 싶대', '마음을 들켰나봐', '마음을 아무리 밀어내도 안돼', '마음을 확실하게 아는 방법', '마음이 변할까봐 두려워', '마음이 식은 거 같아', '마음이 예쁜 사람 만나고 싶어', '마음이 자꾸 쓰이네', '마중 나가볼까', '만나는 사람마다 유형이 비슷해', '만나는데 혈액형이 중요해', '만나도 불안하면 어떡해', '만나자', '만나지 얼마 안됐는데 여행가재', '만난지 100일', '만난지 100일 됐는데 여행가재', '만난지 1년됐어', '만난지 1년인데 결혼해도 될까', '만난지 200일됐어', '만난지 세달만에 결혼 가능함', '만난지 얼마 안됐는데 결혼해도 될까', '만난지 얼마 안됐는데 고백받았어', '만난지 얼마 안됐는데 고백했어', '만난지 얼마 안됐는데 키스함', '만난지 이틀만에 고백받았어', '많이 늦은시간인데 연락해봐도 괜찮을까', '많이 만났는데 아직도 왜 모르지', '많이 좋아하던 전남친이랑 다시 사겨도 될까', '많이 좋아하던 전여친에게 연락해도될까', '많이 좋아했는데 이젠 끝내야겠지', '많이 좋아했었는데 이젠 정리하려고', '말 없이 찾아가는건 예의가 아니겠지', '말수 적은 남자인데 썸타도 괜찮을까', '말을 안하는 연애', '말이 안 예쁘게 나와', '말하는 거 귀여워', '말할 때 너무 떨려', '맘 정리한 짝녀한테 연락하고 싶어요', '맘 정리했는데 짝녀한테 연락오는데', '맛있는 거 먹는데 생각나는 사람', '맞지 않더라도 대화로 잘맞아갈수 있을까', '맞추려고 노력하는데 힘들어', '맞춤 정장 했어', '매년 좋아하는 애가 바뀌었는데 어떡하죠', '매일 아침 정류장에서 마주치는 남자애가 신경쓰여', '매일 아침 정류장에서 마주치는 여자애한테 눈이 가', '매일 아침 정류장에서 마주하는 그녀', '매일 아침 정류장에서 보게되는 그', '매일 카페에서 그의 뒷모습만 보게 돼', '매일 카페에서 보게 되는 그녀가 눈에 밟혀', '매일매일 사랑해', '매주 수요일 그녀를 만날 수 있어', '매주 수요일 그를 만날 수 있어', '매주 월요일 그녀를 볼 수 있어', '매주 월요일 그를 볼 수 있어', '매주 화요일 그녀는 마주할 수 있어', '매주 화요일 그를 볼 수 있어', '맨날 썸만 타고 깨짐', '맨날 짝사랑만 하다가 끝났는데 연애할 수 있을까', '머릿속에 너만 가득해', '먹는거에 너무 예민한 여자친구가 고민임', '먼저 고백하는 게 좋을까', '먼저 연락 안 오면 끝인가', '먼저 연락이 자주 오면 썸인가요', '먼저 인사하려고 했는데 짝남이 먼저 인사해줬어', '먼저 인사할까 했는데 짝녀가 먼저 인사해줬어', '메리지블루인가봐', '명품선물 꼭 해야할까', '몇 년 만에 썸 타는 거라 어떻게 연락을 해야할지 모르겠어', '몇 년 후 만날 수 있을까', '몇 년을 좋아했는데도 관계가 달라진게 없어', '몇 달을 좋아했는데 달라진게 없어요', '몇일정도 썸타', '모닝콜 해달라고 하는대 좋아하는 걸까', '모든 걸 다 주니까 떠난다는 그 남자', '모르는 사람인데 첫 눈에 반했어', '모르는 사이에 좋아하는 티 내는 법 알려주세요', '모르는 애랑 썸타는 꿈 꿨어', '모쏠 남자와의 썸', '모쏠 여자와의 썸', '모쏠인 사람 만나면 답답할까', '모임에서 썸 깨졌는데', '모태솔로라 잘 모르겠어 도와줘', '모태솔로인데 어떻게 시작해', '목적 있는 만남이라는 걸 알게 됐어', '몰두할 때는 연락 안 되는 사람 어때', '몰래 동거하고 있어', '못생긴 남자를 좋아하는 여자가 있을지', '못생긴 여자를 좋아하는 남자가 있을까', '무슨 생각 하고 있을까', '무언가에 집중하는 남자가 좋아', '무조건 나한테 다 맞춰주는 남자친구 변하면 어떡하지', '뭐 보고 결혼 결심해', '뭐라고 말하면서 고백할까', '뭐하냐고 계속 물어보면 좋아하는 거야', '뭘 챙겨주면 좋을까', '미래를 함께할 반려자인지 확신이 아직 없어', '미련 남은거랑 좋아하는 거랑 뭐가 다름', '미팅 할까 말까', '미팅에서 번호 딴 애가 좋은데 뭐라고 연락을 할까', '밀당 어떻게 해', '밀당은 어떻게 해', '바람기가 있는 남자친구 어떡해', '바래다달라고 말해볼까', '박력있는 남자가 좋아', '반동거중인 여자친구가 나갔으면 좋겠어', '발 맞춰 걷는 게 좋더라', '발라드 추천 좀 좋아하는 여자애한테 잘 보이고 싶음', '발렌타인데이에 고백할까요', '밝은 사람 만나고 싶어', '밤새 그리워서 편지 썼어', '밤인데 전화해도 되나', '배려 없는 사람 어떡해', '배려 있는 사람이 좋은데', '배려가 너무 없어', '배우자가 생긴다는 것', '배우자라고 하니까 이상해', '벌써 가족 같아', '변하지 않는 사람도 있겠지', '별로인 거 알면서도 좋아하는 내가 이상해', '보통 썸이면 밀당해', '보통 좋아하는 애 생기면 먼저 연락해', '보통 좋아하면 먼저 연락하나', '본능적인 끌림', '본인을 좋아하는게 확실한 여자와 친구가 될 수 있어', '봄 오니까 나도 썸 타고 싶어', '봄 타나 봄', '봄 타나 봄', '봄 타나봐', '부모님 반대 설득하고 싶어', '부모님 반대가 너무 심해', '부모님께 보여드리고 싶은 사람 있어', '부모님이 결혼 자금 안 보태주신대', '부모님이 이혼하려는 거 같은데 나는 어떻게 하지', '부모님이 이혼할 거 같아', '부부싸움은 칼로 물 베기라더니', '분명 짝남 정리해야지 마음 먹었는데 이상하지', '불타올랐다가 식었어', '불타올랐다가 식었어', '비가 오니까 짝사랑 하는 사람 더 생각나', '비밀로 했는데 들켜서 오해하고 있어', '비혼주의자인데 만나도 될까', '빨리 찾아온 사랑', '빼빼로 데이인데 썸남한테 만들어줄까 그냥 살까', '빼빼로 만들어주는 거 좋아할까', '빼빼로데이에 고백할까요', '뽑은 인형 짝녀에게 주면 좋아할까', '사귀고 나서 외모에 신경을 너무 안 써', '사귀고 나서 트레이닝복만 입어', '사귀고 나서 화장을 안 해', '사귀고 나서 환장이 깨졌어', '사귀기로 했는데 존댓말 계속 써도 돼', \"사귀는 사이인데 '야'라고 해 기분 나쁜데 어떡해\", '사귀던 사람이 갑자기 연락이 안돼', '사귀던 사람이 잠수탔어', '사귀면 끝일 줄 알았는데', '사귀면 좋을까', '사귀면서도 좋아하는 감정을 잘 못느끼는데 문제 있는 건가요', '사귀자는 말 아니면 썸인가', '사귀자는 말 아니면 썸인가', '사귄지 얼마 안됐는데 스킨십하려고해', '사귄지 한달됐어', '사내 썸 뭔가 떨린다', '사내 연애 비추하나요', '사내에 좋아하는 여자분이 생겼는데 조심해야겠지', '사내연애 비밀로 해야겠지', '사내커플인데 비밀연애임 답답해', '사내커플인데 비밀연애하니까 더 떨려', '사람들은 내가 그 남자를 좋아하는 거라는데 난 이해가 안가', '사람은 다른데 연애는 비슷해', '사랑 경험이 없어', '사랑 고민', '사랑 글로 배워요', '사랑 끝난 거 같은데 잡아도 될까', '사랑 끝난 거 같은데 잡으면 돌아올까', '사랑 때문에 죽고 싶어', '사랑 명언 알려줘', '사랑 못 받는 느낌에 우울해', '사랑 받는 걸 알려준 사람', '사랑 받는 느낌을 못 받아', '사랑 받는 느낌이 없어', '사랑 별거 없네', '사랑 앞에서 죄인이 돼', '사랑 없는 삶은 불행할까', '사랑 존재하기는 해', '사랑 지키는 방법', '사랑 표현에 서툴러', '사랑 힘들다', '사랑과 우정 사이', '사랑꾼', '사랑꾼인 거 같아', '사랑때문에 많이 아파', '사랑만 보고 하는 결혼 사랑 없는 결혼', '사랑만으로 안되는 게 많을까요', '사랑받고 있지 않은 거 같다', '사랑받고싶어', '사랑받는 방법', '사랑받는 행복을 알게 해준 너', '사랑보다 조건을 보고 결혼해야할까', '사랑보다 중요한 것이 있을까', '사랑스러운 눈빛', '사랑싸움 그만하고 싶어', '사랑없이 결혼 가능해', '사랑없이 결혼한 케이스 있어', '사랑에 빠지고 싶다', '사랑에 빠지면 티가 나', '사랑에 빠진 거 같아', '사랑에 빠진 거 같아', '사랑에 서툴어', '사랑에 유효기간이 있을까', '사랑에도 유효기간이 있다는데', '사랑으로 가능한 것', '사랑은 나이를 초월해', '사랑은 돌아오는 거야', '사랑은 변하지 않았으면', '사랑은 시간이 약인가', '사랑은 영원해', '사랑은 죄가 아닌데', '사랑은 주고 받는 거지', '사랑을 기다리고 있어', '사랑을 알게 해준 너', '사랑을 표현해줬으면 좋겠어', '사랑을 했다', '사랑을 했다', '사랑을 했다', '사랑의 감정을 모르겠어', '사랑의 결과는 어차피 두가지', '사랑의 끝은 결혼일까', '사랑의 끝은 뭘까', '사랑의 끝이 뭐야', '사랑의 묘약 같은 거 있나', '사랑의 정의', '사랑의 힘은 위대한가봐', '사랑의 힘은 진짜 위대한듯', '사랑이 구체적으로 뭐야', '사랑이 끝난 거 같다는 느낌이 너무 많이 들어', '사랑이 끝난 것 같아', '사랑이 날 힘들게 해', '사랑이 다가왔어', '사랑이 뭐가 대수라고', '사랑이 뭐길래', '사랑이 뭐라고 생각해', '사랑이 뭐야', '사랑이 뭐야', '사랑이 뭔데 힘들게 하는지', '사랑이 뭔지 넌 알아', '사랑이 뭔지 모르겠어', '사랑이 뭘까 궁금해', '사랑이 뭘까', '사랑이 밥 먹여주나', '사랑이 밥 먹여주나요', '사랑이 변하는걸 인정해야할까', '사랑이 변하면 어떡하지', '사랑이 쉬운 사람', '사랑이 싹 트고 있어', '사랑이 안 변했으면 좋겠다', '사랑이 애매해', '사랑이 어떻게 변하니', '사랑이 어떻게 변하니', '사랑이 영원할 거라 믿고 싶어', '사랑이 정말 있을까', '사랑이라는 이름으로', '사랑인지 아닌지 모르겠어', '사랑인지 아닌지 확실하지 않은 거 같아', '사랑인지 헷갈려', '사랑하고 사람이 달라졌어', '사랑하고 싶은데 내가 자꾸 구속해', '사랑하고 좋게 바꼈어', '사랑하고싶어', '사랑하기에 시간이 부족해', '사랑하냐고 왜 물어봐', '사랑하는 거 힘들다', '사랑하는 사람 내가 붙잡는 거 같애', '사랑하는 사람 사이에는 보이지 않는 끈이 있을까', '사랑하는 사람 잊는 법', '사랑하는 사람 잊어야 할 거 같아', '사랑하는 사람과 아침을 함께 맞이하고 싶어', '사랑하는 사람과 함께 있고 싶어', '사랑하는 사람은 딱 알아볼 수 있어', '사랑하는 사람은 표시가 있었으면 좋겠다', '사랑하는 사람을 계속 기다려야 할까요', '사랑하는 사람을 두고 다른 사람과 결혼해야해', '사랑하는 사람을 알아보고 싶어', '사랑하는 사람이 떠난대', '사랑하는 사람이 있는데 다른 사람이 신경쓰여', '사랑하는 사람이 있어', '사랑하는 사람이 행복했으면 좋겠다', '사랑하는 사람이랑 결혼하고싶어', '사랑하는 사람이랑 결혼하고싶어', '사랑하는 사람이랑 내가 너무 차이나', '사랑하는 사람이랑 살고싶어', '사랑하는 사람이랑 헤어져', '사랑하는 사람이랑 헤어져야해', '사랑하는 사람한테 내가 너무 모잘라', '사랑하는건지 나도 모르겠어', '사랑하는데 그리워', '사랑하는데 꼭 결혼해야할지는 모르겠어요', '사랑하는데 내가 집착해', '사랑하는데 너무 계산적인 남자친구가 고민이야', '사랑하는데 너무 계산적인 여자친구가 고민이야', '사랑하는데 미지근한 거 같아', '사랑하는데 여자친구가 너무 이기적이야', '사랑하는데 왜 힘든 걸까', '사랑하는데 외로워', '사랑하는데 지쳐', '사랑하는데 힘들어', '사랑하는지 자꾸 물어보는 이유', '사랑하면 끝일줄 알았는데', '사랑하면 닮아', '사랑하면 더 잘해줘야하는거 아니야', '사랑하면 마냥 좋은 건 아닌 거 같아', '사랑하면 뭐가 달라져', '사랑하면 사람이 바껴', '사랑하면 안되는 사람', '사랑하면 안되는데 사랑하고 있어', '사랑하면 안될 사랑을 사랑하고 있어', '사랑하면 예뻐지나봐', '사랑하면 예뻐지나봐', '사랑하면 좋을까', '사랑하면서 외로워', '사랑하지 않는데 만나는 거 같아', '사랑한 만큼 배려해야했어', '사랑한걸까', '사랑한다고 말을 안해줘', '사랑한다고 말해볼까', '사랑한다고 말해주면 뭐가 덧나나', '사랑한다고 말해줘', '사랑한다고 어떻게 표현하지', '사랑한다는 걸 느끼는순간', '사랑한다는 말 쉽게 안 나와', '사랑한다는 말 아껴야할까', '사랑할 때도 용기가 필요하지', '사랑할 시간이 없어', '사랑할 여유가 없어', '사랑할 자격이 있나', '사랑할수록 나만 손해인 거 같은 느낌이야', '사랑할수록 아프다', '사랑할수록 집착해', '사랑할수록 행복해', '사랑해', '사랑해', '사랑해 보고싶어', '사랑해라고 말해줬으면 좋겠어', '사랑해라고 왜 말 안하지', '사랑해보고싶어', '사랑해본적 없는 것 같아', '사랑해봤어', '사랑해서 결혼하는 거지', '사랑해서 그런거래', '사랑해서 그렇다는데 말이 안돼', '사랑해서 너무 행복해', '사랑해서 헤어지겠대', '사랑해서 헤어지는 게 말이 된다고 생각해', '사랑해서 헤어진대', '사랑했는데 왜 지금은 함께있지 않을까', '사생활 좀 존중해줬으면', '사실 사랑이 뭔지 아직도 모르겠어', '사진이 남는 거겠지', '살며시 다가왔어', '살면서 남편이 더 좋아져', '삼각관계인가', '상견례 너무 떨려', '상견례는 어디서 해', '상대가 먼저 만나자고 해서 만났는데 난 아닌 거 같대', '상대방의 마음을 사로잡는 방법', '상메가 제 얘기 같아요', '상사병 극복하고 싶어', '상처입은 사람한테 다가가기', '새로운 사랑 찾아 이제는', '새로운 사랑은 찾아와', '새로운 사랑이 좋을까', '생각이 자꾸 나', '서로 사랑하는데 불안해', '서로 사랑하면 다 될 줄 알았어', '서로 사랑해', '서로 좋아하게 되는건 운명같은 일이었어', '서로 좋아하는 것 같은건 내 착각일까', '서로 좋아하는 것 같은데 내가 자존심 때문에 자꾸 관심 없는 척하게 돼', '서로 좋아하는 사람 만나기가 정말 힘든거였네', '서로 좋아하는 줄 알았는데 짝사랑이었네요', '서로에게 맞추려고하는데 잘 안돼', '서운한거를 다말해 아니면 어디까지 말해', '선 결혼 후 연애 해도 될까', '선물은 뭐가 좋음', '선배가 나만 챙겨줌 썸인 부분', '설레고 싶은데 아직 좋아하는 사람이 없어', '설렘이 사라진 거 같아', '성숙한 사람을 만나고 싶어', '성숙한 사랑은 뭘까', '세상에서 제일 쓸데없는 게 짝사랑 같아', '세상에서 제일 힘든 게 짝사랑인 듯', '세상이 감미로워보여', '세상이 아름다워 보여', '섹스리스 부부 어때', '섹스리스 커플이야', '소개받고 맨날 톡하면 썸이지', '소개팅 나온 여자애가 너무 좋은데 나만 좋아하는거같아 어떻게 날 좋아하게하지', '소개팅 성공률 높이는 법', '소개팅 성공하고 싶어', '소개팅 안 해봤는데', '소개팅 앱에서 만난 사람 좋아하게 되었는데 괜찮은 사람일까요', '소개팅 어색할까봐 안해봤는데', '소개팅 어플로 알게 된 사람 괜찮을까', '소개팅 어플로 알게 된 사람이랑 썸 타도 괜찮을까', '소개팅하고 애프터 바로 와', '소개팅하고 애프터까지 왔는데 너무 어색해', '소개팅하고 애프터까지 왔는데 설렘이 없어', '소심남 좋아하는 여자도 있나요', '소심한 남자 좋아하는 여자도 있을까요', '소심한 남자와의 연애', '손 잡고 싶어', '수수한 여자가 좋아', '순수한 사람 만나고싶다', '술 마셨는데 썸 타는 여자한테 전화해도 되는 부분', '술 마셨는데 썸남한테 데리러 오라고 할까', '술 먹고 짝남한테 카톡하는 거 좀 별로지', '술 먹고 짝녀한테 전화하는 거 싫어하나', '술 먹는데 챙겨주는 짝남 무슨 의미일까요', '술 먹을 때 옆에서 챙겨줬는데 썸임', '술 좋아하는 사람 싫은데 그 사람은 좋아', '술자리에서 그만 마시라고 해주는 짝녀 무슨 뜻일까요', '술집에서 헌팅했어', '쉬는 날이라고 했는데 만나자는 말이 없어', '쉬는날인데 왜 만나자고 안하지', '스드메 계약했어', '스몰웨딩 결심했어', '스킨십 속도가 쫌 빨라', '스킨십 언제부터 할까', '스킨십 좋아하는 남자친구 어떡해', '스킨십 좋아하는 여자친구 어떡해', '스킨십 좋아하는 연인', '스킨십 해볼까', '스킨십만 하는 거 같아', '스킨십은 언제 시작해', '스터디 하는데 괜찮은 사람 있어', '스터디 하다 만났어', '스튜디오 촬영은 하지 말까', '스튜디오 촬영하는 날이야', '승부욕 있는 남자가 좋아', '시어머니가 같이 목욕탕 가재', '시어머니가 자꾸 카톡해', '시험 앞두고 짝남이 생겨버렸어', '시험 앞두고 짝사랑하는 여자가 생겼어요', '식상한 말이라도 사랑한다고 했으면 좋겠다', '신혼 길게 즐기고 싶어', '신혼 진짜 행복해', '신혼같지가 않아', '신혼생활이 영원했으면', '신혼여행 어디로 갈까', '신혼인데 남편이랑 자주 부딪혀', '신혼인데 엄청 싸워', '싫어졌다가 좋아지는 경우도 있나요', '싫어하는 눈치가 아닌 거 같은데', '싫은 건 아닌데', '심남이 내가 좋아하는 거 눈치 챘을까', '심쿵하게 하는 방법', '싸우고 시간을 갖자하면 보통 며칠 만에 연락해', '싸우다보니까 사랑했던걸 까먹어', '싸우면 어떻게 해결해', '싸운다의 기준이 뭘까', '싸울 때 내가 아는 사람이 맞나 싶어', '싸울 때 이겨낼 수 있는 방법이 있을까', '쌈은 뭐야', '쌩얼인데 짝남 만났어', '썸 고백해도 될까', '썸 기준이 뭐야', '썸 깨지고', '썸 깬 거 후회해', '썸 깰 때 어떻게 해', '썸 끝나고 잡아도 될까', '썸 끝난 건가', '썸 끝난거지', '썸 끝내고 싶어', '썸 끝내고 싶지 않아', '썸 끝내는게 맞을까', '썸 끝내야 할까', '썸 끝냈는데 너무 힘들어', '썸 너무 들이댔나', '썸 두달 넘었는데', '썸 맞는거임', '썸 맞는지 궁금', '썸 사이에서 원래 질투유발하고 그래', '썸 시작인 거 같은데 사귀고 싶어', '썸 어떻게 타', '썸 여러명이랑 타는 것도 바람 피는 거야', '썸 오래타는 건 재보는 거 아냐', '썸 오래타면 오래 못 사겨', '썸 왜 끝났지', '썸 정리 어떤 식으로 해야 할까', '썸 정리하고 싶으면', '썸 중에 고백 언제가 적절해', '썸 중에는 선톡이 중요', '썸 지났는데 고백 안하면', '썸 타고 싶다 연애 말고', '썸 타고 싶어', '썸 타고 있는데 연락 끊겼어 먼저 해도 돼', '썸 타고 있는데 주변에 말해', '썸 타고 있는데 카톡 차단 당함', '썸 타기 좋은 알바 뭐있음', '썸 타기 좋은 알바 추천 좀', '썸 타긴 하는데 어색한 사이야 톡 어떻게 계속 이어가', '썸 타는 거 때문에 친구들이 놀려', '썸 타는 거 시간 아까워', '썸 타는 거 좋아해', '썸 타는 거 티내고 싶진 않아', '썸 타는 것 같은데 조언해줘', '썸 타는 것도 귀찮아', '썸 타는 계절이 왔나 봄', '썸 타는 기간', '썸 타는 기간', '썸 타는 남자애가 연락 오는 꿈 뭘까', '썸 타는 노래 듣는 중인데 좋아', '썸 타는 법 좀', '썸 타는 사람 만나기로 했는데 뭐 입어', '썸 타는 사람 보고싶어', '썸 타는 사람 생선 준비 오바임', '썸 타는 사람 생일이야 선물 사야 해', '썸 타는 사람 선물 뭐 사야 해', '썸 타는 사람 선물로 향수 어때', '썸 타는 사람 이름 뭐라고 저장할까', '썸 타는 사람 있는데 망설여지는데', '썸 타는 사람 있는데 불안해', '썸 타는 사람이 나오는 야한 꿈 꿨어', '썸 타는 사람이 내 프사 보고 귀엽대', '썸 타는 사람이 셀카 보내는 건 뭐야', '썸 타는 사람이랑 밥 먹기로 함', '썸 타는 사람한테 영통 걸까', '썸 타는 사람한테 영화 보자고 할까', '썸 타는 사이가 이렇게 편해도 되나', '썸 타는 사이에 배낭여행 가능', '썸 타는 사이에 얼마나 간섭 가능', '썸 타는 사이인데 너무 간섭이 심해', '썸 타는 사이인데 일부러 늦게 답장 해도 돼', '썸 타는 사이인데 카톡하다가 마무리 어떻게 해', '썸 타는 시간', '썸 타는 애한테 사귀자고 해도 됨', '썸 타는 여자 만나기로 했는데 편하게 입어도 됨', '썸 타는 여자가 남사친 만나러 간다는데 뭐라 해', '썸 타는 여자가 있는데', '썸 타는 여자애 상메 궁금해', '썸 타는 여자애 프사에 남자 누굴까', '썸 타는 여자애가 연락 오는 꿈 뭐지', '썸 타는 여자애한테 벚꽃 보러 가자고 해도 돼', '썸 타는 줄 알았는데 짝사랑이었네', '썸 타는 중에 데이트 비용은 누가', '썸 타는 중인데 권태기가 온 듯', '썸 타는 중인데 나 말고 다른 사람하고도 썸타는 것 같아', '썸 타는 중인데 난 직장인이고 얘는 학생이야', '썸 타는 중인데 난 학생이고 그 사람은 직장인이야', '썸 타는 중인데 너무 인기 많아서 빼앗길까봐 걱정됨', '썸 타는 중인데 다른 사람과 연락 자제해야 해', '썸 타는 중인데 바빠서 연락 제대로 못하는데 이해해야겠지', '썸 타는 중인데 안 설레', '썸 타는데 고민 있어', '썸 타는데 맨날 늦어', '썸 타는데 머리 아파 신경쓰여', '썸 타는데 사랑하다고 말할 수 있음', '썸 타는데 어디 가자고 할까', '썸 타는데 원래 이렇게 적극적이야', '썸 타는데 적극적으로 해도 됨', '썸 타는데 현타 와', '썸 타니까 연락에 집착하게 돼', '썸 타다 고백할 시기', '썸 타다 깨졌는데 다시 연락해도 되나', '썸 타다 깨진 애 있는데 다시 연락해볼까', '썸 타다 늙어 죽을 듯', '썸 타다 지쳤어', '썸 타다가 고백하고 차였는데 연락해도 될까', '썸 타다가 막상 사귀려고 하면 싫어', '썸 타다가 말도 안하고 잠수 타는 경우 뭐야', '썸 타다가 이제 안 볼 거면 걍 잠수 타 만나서 말해', '썸 타던 남자가 답장이 안와', '썸 타던 사이인데 부담 돼 연락 무시해도 될까', '썸 타던 사인데 잠수타는 거 뭐야', '썸 타던 선배가 연락을 안해', '썸 타던 여자애가 자기랑 무슨 관계냐고 함', '썸 탈 때 꽃 선물 부담스러워 할까', '썸 탈 때 단답이나 줄임말 쓰지마', '썸 탈 때 더 잘해주는 건 뭐임', '썸 탈 때 말투', '썸 탈 때 무슨 말하지', '썸 탈 때 뽀뽀 괜찮아', '썸 탈 때 어디가', '썸 탈 때 연락문제로 속상한 적 있어', '썸 탈 때 예민한 부분 말해', '썸 탈 때 진도', '썸 탈 때가 그리워', '썸 탈 때는 설렜는데 사귀면 마음이 식을까', '썸 탈 때는 좋은데 연애하면 정이 뚝 떨어져 왜그래', '썸 탈 때도 조건 보면 이상해', '썸 탈 떄 남자가 좀 더 쓰는게 맞아', '썸 탈출하고 싶어', '썸 탔던 애 친구해도 되나', '썸 탔던 애한테 연락왔어', '썸 확인법', '썸과 연인 사이', '썸끝인가요', '썸남 꿈 꿨어', '썸남 만나기로 했는데 뭐 입어', '썸남 만나기로 했는데 치마 바지', '썸남 만나러 갈지 말지 고민 돼', '썸남 목소리 듣고 싶어', '썸남 발렌타인 선물 뭐가 좋을까', '썸남 빼빼로 줘야 함', '썸남 생겼는데 너무 조급해', '썸남 생겼는데 프사 뭐할까', '썸남 생일 때 편지 줘도 될까', '썸남 인스타 좋아요 눌러버렸어', '썸남 있는데 완전 스윗함', '썸남 졸업하는데 가도 되나', '썸남 졸업하는데 선물 뭐가 괜찮아', '썸남 초콜릿 줘야 해', '썸남 태도가 맘에 안들어', '썸남도 내 생각할까', '썸남의 계속되는 약속 취소', '썸남이 같이 운동하자는데 가능', '썸남이 그냥 오빠 동생으로 지내자고 함', '썸남이 나한테 무관심한 것 같아', '썸남이 너무 진지해서 부담 돼', '썸남이 넘 좋아서 절제가 안돼', '썸남이 데리러 온다고 하는데 뭐라고 반응해', '썸남이 둔한듯', '썸남이 술 취한 상태로 고백함 기억할까', '썸남이 약속 자꾸 미루는데 내가 싫은걸까', '썸남이 여사친 만나러 간대', '썸남이 연락이 안돼', '썸남이 연애가 다 짧은게 맘에 걸려', '썸남이 오디션 나간대', '썸남이 짝남 됐어요 위로해 주세요', '썸남이 춥다고 옷 잠궈주는데 설레', '썸남이 카톡에서 하트 붙였어', '썸남이 톡이 느려', '썸남이랑 1박 2일로 펜셥 잡고 놀러가는데 고백 없으면 끝', '썸남이랑 궁합', '썸남이랑 꽁냥거리는데 설레', '썸남이랑 끝인 것 같아 촉이 와', '썸남이랑 뭐하지', '썸남이랑 밥 먹기로 했는데 뭐 먹자고 하지', '썸남이랑 벚꽃 놀이 가고 싶어', '썸남이랑 여행가도 돼', '썸남이랑 영화 뭐 보지', '썸남이랑 헬스장에서 운동 가능', '썸남인데 넘 귀여워 어쩌지', '썸남인데 모텔 가자고 함 어떻게 거절해', '썸남인줄 알았는데 짝남이었나봐', '썸남한테 같이 카공하자고 할까', '썸남한테 같이 카페에서 공부하자고 할까', '썸남한테 먼저 연락해도 될까', '썸남한테 뭐라고 카톡하지', '썸남한테 빼빼로 줄까', '썸남한테 소개팅 나가라고 해볼까', '썸남한테 소개팅 나간다고 해볼까', '썸남한테 영화 보자고 해볼까', '썸남한테 책 같이 읽자고 할까', '썸남한테 책 선물해도 괜찮을까', '썸남한테 크리스마스 선물 오바', '썸남한테 표현 못하겠어 어떻게 해', '썸녀 꿈 꿨어', '썸녀 만나는데 뭐 입지', '썸녀 웃기는 방법 좀', '썸녀 주변에 남자가 많아', '썸녀 태도가 짜증남', '썸녀 화이트데이 선물 뭐가 좋을까', '썸녀가 그냥 오빠 동생으로 지내자 했음', '썸녀가 약속 시간을 안 지킴', '썸녀가 오디션 붙었대', '썸녀가 짝녀 됐습니다', '썸녀랑 거의 사귀는 수준인데 꼭 고백해야해', '썸녀랑 밥 먹는데 어디가지', '썸녀랑 어떤 대화를 해야 해', '썸녀한테 미련 남아', '썸녀한테 여행가자고 해도 됨', '썸녀한테 크리스마스 선물 오바인 부분', '썸도 문화차이가 있나', '썸도 후폭풍 옴', '썸만 타고 싶어', '썸만 타고 싶어 사귀는 건 걱정돼', '썸말고 사귀고 싶어', '썸에도 유통기한이 있어', '썸에서 발전하고 싶어', '썸에서 연애로 넘어갔어요', '썸에서 연애로 못넘가요', '썸에서 연인될 수 있을까', '썸에서 자꾸 끝나요', '썸은 꼭 타야 해', '썸은 어떻게 타는거야', '썸은 얼마나 타', '썸은 연락만', '썸은 왜 타', '썸은 좋았는데 연애는 별로', '썸은 좋은데 사귀긴 싫어', '썸을 오래 탔는데 사귀어도 괜찮은 사람일까', '썸을 오래 탔는데 사귀어도 되는 거야', '썸의 기준이 뭐야', '썸의 조건이 뭐야', '썸이 날 싫어하는 꿈을 꿨어', '썸이 너무 긴듯', '썸이 너무 길어', '썸이 딱 좋은 것 같아 연애 싫음', '썸이 뭐야', '썸이 뭐임', '썸이 왜 깨졌는지 모르겠어', '썸이 좋아', '썸이랑 친구 사이', '썸이었으면 좋겠다', '썸이었으면 좋겠어', '썸이었으면 좋겠어', '썸인 거 같은데 연락 안 하면', '썸인 거 같은데 연락이 안돼', '썸인가', '썸인가 아닌가', '썸인가 애매한 거 싫어', '썸인가요', '썸인데 나 솔로야', '썸인데 떠보는 거 같아요', '썸인데 선물해도 돼', '썸인데 스킨십 어디까지 괜찮아', '썸인데 스킨십 해도 돼', '썸인데 싸늘해', '썸인데 어디 가는게 좋음', '썸인데 연락이 너무 늦어', '썸인데 영화보재 뭐 보지', '썸인데 자꾸 외롭다고 해', '썸인데 행동은 커플', '썸인지 쌈인지', '썸인지 아닌지', '썸인지 아닌지 알 수 있나', '썸인지 아닌지 확신이 안들어', '썸인지 아닌지 확인하는 방법 있어', '썸인지 알려면', '썸인지 애매모호해', '썸인지 어장인지', '썸인지 착각인지', '썸인지 헷갈려', '썸인지 확인하는 방법 있나', '썸일 때 다른 사람 만나면', '썸일 때도 스킨십 하고 싶어', '썸일 때도 질투함', '썸일까', '썸타고 싶어요', '썸타고 있는데 먼저 연락해도 되는 부분', '썸타고 있는데 소개팅 나가도 될까요', '썸타고 있어요', '썸타는 사람이 나한테 관심 없는 것 같아', '썸타는 사람이 많은 거 같은데', '썸타는 사람이 플라토닉 사랑을 이해해줄까', '썸타는 애랑 노래방 가는데', '썸타는 애랑 잘되는 팁 좀', '썸타는 중인데 계속 먼저 연락해도 됨', '썸타는데 갠톡 안하면', '썸타는데 돈 필요하대', '썸타다 끝났나', '썸타다 지침', '썸타다가 갑자기 연락이 없어', '썸타던 여자가 갑자기 돌아섰어', '썸탈때 여자가 먼저 연락하면 안돼', '썸탈때 카톡', '씨씨인데 몰래 만나고 있는데 공개 연애 하자고 할까', '씨씨인데 몰래 만나고 있는데 공개 연애 하자고 할까', '씻어도 냄새나는 거 같애', '아기 생겼어', '아기 좋아하는 남자 어때', '아기 좋아하는 남자 어때', '아기 좋아하는 여자 어때', '아기 좋아하는 여자 어때', '아낌없이 퍼주는 스타일 호구인걸까', '아내한테 만족해', '아름다운 이별은 없겠지', '아름답게 잊혀지길', '아마 평생 모르겠지', '아무리 눈치 없어도 좋아하는 티 내면 알아채나요', '아무리 바빠도 연락을 해야하는 거 아냐', '아무리 지쳐도 집에 가면 있는 내편', '아직 마음을 모르겠는데 고백해도 돼', '아직 사귀지도 않는데 의심을 해', '아직 좋아하는데 헤어지자고 하는 경우 있어', '아직도 사랑하는 거 같아', '아직도 좋아하는 사람이 있는데', '아침 등교할때 버스정류장에서 항상 마주치는 짝녀에게 말 걸어보고싶어', '안 좋아하는 법 좀 알려줘', '안 좋아하는데 계속 만나는 거 가능', '안경 쓰는 남자애 좋아하는 남자 있어', '안경 쓰는 여자애 좋아하는 남자 있어', '알바하면서 썸 많이 타', '앞으로 짝남 안봐야지', '애기 안 갖고 싶어', '애기 일찍 갖는 게 좋을까', '애니 좋아하는 남자 별로임', '애니 좋아하는 사람 별로야', '애들이 썸 타냐고 물어봐', '애매모호한 썸 그냥 끝낼까', '애매한 관계같아', '애인이 있는데 좋아하는 사람이 생겼어요', '애정운 궁금하다', '애프터까지 왔는데 연락이 뜸해', '약간 나혼자 썸타는 듯', '약속 끝나고 짝남에게 집에 데려달라고하면 오해하려나', '약속 끝나고 짝녀를 집에 데려다주면 너무 티나려나', '약속을 계속 미루는 썸남', '양궁카페 갔다옴', '어떤 남자가 엄청 수작부려', '어떤 남자애가 나 내일 뭐하냐는데 뭐라하지', '어떤 남자애가 내일 뭐하냐는데 나한테 관심있나', '어떤 사람 꿈 꾸고 나서 호감 생겼어', '어떤 사람 만나야해', '어떤 사람을 만나는 게 좋을까', '어떤 사람이 춥다고 나만 옷 벗어줌', '어떤 사람이랑 사랑하고 싶어', '어떤 여자가 나한테 끼 부려', '어떤 연애 하고 싶어', '어떨때 사랑하는구나 알아', '어떨때 연인이 변했다고 생각해', '어떻게 꼬시지', '어떻게 심쿵하게 하지', '어떻게 여러 명을 좋아할 수 있어', '어떻게 오래만나지', '어떻게 용기를 내', '어떻게 프로포즈 하지', '어떻게 해야 오래 만날 수 있을까', '어릴땐 누군가를 참 쉽게 좋아했는데 지금은 어려워', '어장관리 당한 걸 알게 됐어', '어장이면 슬플 거 같아', '어장이면 어떡해', '어장인거 아는데도 좋아해', '어장인거 알게 됐는데 포기해야겠지', '어장인거 알겠는데 포기가 안돼', '어장인건가', '어제 동창회 갔는데 나 걔랑 썸 타는 것 같애', '어제 짝남이랑 꿈에서 놀았는데 다시 꾸고 싶다', '어제 짝남이랑 놀았는데 꿈같다', '어제 짝남한테 너무 차갑게 말한 것 같아', '어제 짝녀랑 데이트했는데 꿈만 같습니다', '어제 짝녀한테 너무 차갑게 말한 듯', '어플로 만난 남자친구 계속 만나는게 맞는걸까', '어플로 만난 여자친구 계속 연애하는게 맞는걸까', '언제 사랑 받는 구나 느껴', '언제까지 내가 선톡을 해야할까', '엄청 로맨틱해', '엠티 가는데 짝남이랑 같은 조 됐으면 좋겠다', '엠티 가는데 짝녀랑 같은 반 되길', '여러 명과 썸', '여러명 좋아하면 안돼', '여리여리한 여자가 이상형이래', '여린 마음에 상처준 건 아닐까', '여사친 좋아하는 내가 짜증남', '여사친이 많은 썸남', '여사친이 여자로 느껴질때 있어', '여사친이 좋아졌어', '여사친이 좋아진 것 같애', '여사친이라 쓰고 짝사랑녀라고 읽는다', '여사친이랑 사귀는 거 가능', '여사친이랑 연락이 끊기지 않고 너무 잘되는데 그린라이트일까', '여사친이랑 잘되고 싶다', '여사친인데 좋아하는 듯', '여자가 남자한테 잘해주면 질려', '여자가 더 사랑해서 한 결혼', '여자가 먼저 고백하는 거 어때', '여자는 좋아하는 남자랑 눈 마주치면 어때', '여자는 호감 없어도 잘해줘', '여자들은 남자가 자기 좋아하는거 눈치 잘 채', '여자들은 몇 년이고 짝사랑하기도 해', '여자들은 좋아하는 남자가 자기보다 능력이 좋은 경우에만 좋아하나요', '여자들은 좋아하는 사람한테는 장난 잘 안 쳐', '여자들은 좋아하는 사람한테만 잘해줘', '여자들은 좋아하는데도 답장시간이 느릴 수 있나요', '여자들은 직장 내에 좋아하는 남자 생기면 어떡해', '여자들은 착한 남자를 좋아하나요', '여자들이 뒤에서 좋아하는 남자들 특징이 뭐임', '여자들이 보통 좋아하는 음식이 뭐야', '여자들이 싫어하는 남자들 특징 좀 알려주세요', '여자들이 좋아하는 남자 말투는 뭐가 있나요', '여자들이 좋아하는 남자 특징', '여자들이 좋아하는 남자들 스타일이 어떻게 됨', '여자랑 단둘이 술마시는 남자친구를 이해해줘야할까', '여자에게 하는 기분 좋은 스킨십 알려줘', '여자인데 먼저 다가가도 돼', '여자인데 먼저 대쉬해도 됨', '여자친구 마중 나가야지', '여자친구 만나고왔어', '여자친구 말고 다른 여자도 만나보고 싶어', '여자친구 보고만 있어도 좋아', '여자친구 부모님이 나를 좀 무시했어', '여자친구 스타일이 마음에 안들어', '여자친구 쌩얼 보고 배신감 느껴', '여자친구 쌩얼도 예뻐', '여자친구 여신같아', '여자친구 오지랍 장난 아님', '여자친구 요구가 심해져', '여자친구 집까지 데려다주려고', '여자친구 패턴 몰래 봤어', '여자친구가 감정없이 카톡 답장해', '여자친구가 갑자기 이유없이 화내', '여자친구가 게임을 너무하는게 고민이야', '여자친구가 계획적이지 않아서 스트레스 받아', '여자친구가 기념일을 잘 잊어', '여자친구가 나 사랑하는 건지 모르겠어', '여자친구가 나 사랑하는 건지 확신이 없어', '여자친구가 나를 sns에 올리지 않아서 서운해', '여자친구가 나를 떠날까봐 고민이야', '여자친구가 나를 안 질려하려면 뭘 준비해야할까', '여자친구가 내 의견 안 들어', '여자친구가 너무 귀가 얇아', '여자친구가 너무 많은 걸 기억하길 바라는게 고민임', '여자친구가 너무 무뚝뚝해', '여자친구가 너무 어린거 같아', '여자친구가 너무 이쁘고 내가 못 생겨서 너무 자존감이 떨어짐', '여자친구가 너무 좋은데 자존감을 너무 떨어뜨려', '여자친구가 너무 좋은데 점 본거에서는 만나지말래', '여자친구가 너무 챙김받고 싶어해', '여자친구가 눈치가 없어', '여자친구가 다른남자들에게 인기가 많은게 고민이야', '여자친구가 담배를 피는게 싫어', '여자친구가 더치페이를 안해', '여자친구가 데이트 시간을 너무 안 지켜', '여자친구가 돈을 안 써', '여자친구가 돈이 너무 없어', '여자친구가 돌아다니는걸 너무 좋아해', '여자친구가 동거했었대', '여자친구가 말을 듣기 좋게 해', '여자친구가 바쁜걸 이해못해', '여자친구가 베지테리언이야', '여자친구가 변해가는거 같아', '여자친구가 비혼주의래', '여자친구가 사진을 너무 많이 찍어', '여자친구가 살이 너무 쪄서 고민임', '여자친구가 선톡을 안 해', '여자친구가 소극적이야', '여자친구가 수상해', '여자친구가 순진한척해', '여자친구가 술만 마시면 필름이 끊기는데 너무 걱정돼', '여자친구가 술을 못마시는데 분위기를 좋아해서 자주 술마시러가는게 고민이야', '여자친구가 스킨십 하기 싫대', '여자친구가 스킨십을 너무 좋아해', '여자친구가 스킨십이 너무 없어', '여자친구가 애교 많았으면 좋겠어', '여자친구가 애교가 많아졌으면 좋겠어', '여자친구가 연락이 너무 많아', '여자친구가 연락이 안돼', '여자친구가 연락이 안돼', '여자친구가 연애하는데 가끔씩 막말을 해', '여자친구가 예쁜데 착하기까지해', '여자친구가 음식을 너무 적게 먹어', '여자친구가 일정 중에 연락못하는걸 이해못함', '여자친구가 자기 말만하고 내 말은 안 들어', '여자친구가 자꾸 구속해', '여자친구가 자꾸 의심해', '여자친구가 자주 씻지를 않아', '여자친구가 작은 일까지 다 기억해', '여자친구가 잘 삐져', '여자친구가 잘 삐져', '여자친구가 잘못된건 아닌데 표현이 너무 서툴러', '여자친구가 잘못을 해도 다 공감해주는게 옳은걸까', '여자친구가 잠이 너무 많아', '여자친구가 좋은데 믿음이 안 가', '여자친구가 좋은데 왠지 모르게 귀찮아', '여자친구가 준 생일 선물이 별로야', '여자친구가 집안일을 너무 안해 나만 하는거같아', '여자친구가 취업하더니 변하더라', '여자친구가 친구들이랑 여행을 가는데 남자도 있으면 어떡해', '여자친구가 커피를 못 마셔서 카페 대신에 갈만한 곳', '여자친구가 쿨했으면 좋겠음', '여자친구가 클럽에서 춤만 춘다는데 진짜일까', '여자친구가 클럽을 간다면 어떻게해', '여자친구가 키가 너무 커', '여자친구가 표현을 하게하고싶은데 방법을 잘 모르겠어', '여자친구가 향기에 집착해', '여자친구가 화나면 말을 안 해', '여자친구가 힘들어하는데 내가 뭘 해줄 수 있을까', '여자친구랑 남사친이 너무 친해', '여자친구랑 뭐하고 노나', '여자친구랑 스킨십하고싶어', '여자친구랑 어디 놀러갈까', '여자친구랑 연락 문제로 자주 싸워', '여자친구랑 진도가 너무 빠른거 같아', '여자친구랑 피시방데이트도하고싶은데 어떻게 말을 할까', '여자친구를 믿는데 가끔 의심이 가', '여자친구에게 고민이나 속사정을 어디까지 얘기해', '여자친구에게 옷선물 좋은 브랜드있어', '여자친구에게 팔찌 목걸이 둘중하나만 선물할 수 있다면 뭐가 좋을까', '여자친구에게 해줄만한 화장품 선물 뭐가 있을까', '여자친구에게 힘들때 어떻게 해', '여자친구와 노래방을 가면 무슨 노래를 부르는게 좋을까', '여자친구와 여행가고싶은데 부모님이 보수적이야', '여자친구와 여행가는게 부담스러움', '여자친구와 첫키스는 언제했어', '여자친구와 커플링 꼭 해야 함', '여자친구의 sns말투가 고민이야', '여자친구의 감정기복이 너무 심해', '여자친구의 과거 어디까지 이해해', '여자친구의 성적 취향을 이해못하겠어', '여자친구의 이성친구가 고민이야', '입냄새가 고민이야', '여자친구의 핸드폰 저장명을 뭐로 하지', '여자친구의 혼전순결이 고민이야', '여자친구의 회사가 내가 다니는 회사랑 너무 비교돼', '여자친구한테 더 이상 설레지 않아', '여자친구한테 더 이상 설레지 않아', '디퓨저 선물 해줄까', '여자친구한테 서운한 거 같은데 표현하는 게 좋을까', '여자친구한테 핸드폰 공개해', '여자한테 언제 설레', '여지를 준 짝녀 버려야겠죠', '여친 과소비 심해', '여친 생겼는데 호칭 어떻게 함', '여친 쌩얼보고 깜놀했어', '여친 있는 짝남이 너무 친절하게 대해줘서 착각하게 돼요', '여친 있는 짝남이랑 연락을 해도 될까', '여친 있는데 다른 여자랑 썸 가능', '여친에게 운동을 하자고 어떻게 돌려말하지', '여친이 나랑 찍은 사진 프사로 안해', '여친이 나를 안 좋아하는데 내가 붙잡고 있는 것 같아요', '여친이 나를 좋아하는게 맞는지 모르겠음', '여친이 너무 많이 먹어', '여친이 너무 예민해', '여친이 아는 형이랑 썸 타는데', '여친이 안 좋은 사이트 해', '여친이 오히려 섬세하지 못해', '여친이 외박이 안돼', '여친이 있는 사람인데 왜 나한테 잘해주지', '여친이 있는데 다른 사람이 좋아지고 있어', '여친하고 헤어진지 얼마 안됐는데 딴 사람 좋아하게 됨', '여행 온 김에 짝녀 선물 사려하는데 어떻게 생각함', '여행 와서 짝남 선물 살까 하는데', '여행 왔는데 좋아하는 선물로 뭐가 괜찮을까', '여행지에서 마음에 드는 사람 만났어', '연극 보러 갈까', '연락 계속 오면 관심 있는 거야', '연락 많이 안하는 썸도 있나', '연락 많이하는데 썸인지 모르겠어', '연락 문제로 애인이랑 싸운 적 있어', '연락 자주 하는데 친군가', '연락만으로 썸 가능해', '연락 문제로 싸웠는데 어쩌지', '연락 문제로 지쳐가', '연락하고 싶어', '연락하고 싶어지네', '연락해도될까', '연락해보까', '연상 어때', '연애 감흥이 점점 사라져', '연애 고수 되려면', '연애 상대와 결혼 상대는 다를까', '연애 세포 깨우는 법', '연애 안 한지 너무 오래 됐어', '연애 어떻게 하는 거야', '연애 어떻게 하는지 까먹었어', '연애 잘하는 사람 부러워', '연애 중에 카톡 프사 연인으로 해 기본으로 하면 어때', '연애 중인데 나 보수적인걸까', '연애 처음하는 남자친구', '연애 초보다 연락을 너무 안해', '연애는 시간낭비인듯', '연애는 진짜 좋아하는 사람이랑 해야해', '연애는 하기 싫은데 썸은 타고 싶어', '연애다운 연애 하고 싶어', '연애도 좋지만 내 시간도 중요한 나 정상일까', '연애로 발전할 수 있을까', '연애를 못 봐서 그런가 대화를 어떻게 해야할지 모르겠어', '연애를 실패할 수록 두려워 좋은 사람 만날 수 있을까', '연애를 오래하려면', '연애보다 썸이 좋아', '연애상담하더니 둘이 사귀더라', '연애상담해주던 사람이 좋아지는 거 같아', '연애상담해줬더니 나만 바보됐어', '연애세포 다 죽었나봐', '연애세포 다 죽은 듯', '연애세포가 다 죽었나', '연애스타일이 너무 다른 남자친구와 어떻게 얘기를 해야할까', '연애스타일이 너무 다른 여자친구와 어떻게 얘기를 해야할까', '연애의 끝은 결혼인거야', '연애중인데 외로운 느낌이 들면 문제일까', '연애하고 싶은데 좋아하는 사람이 없어', '연애하는 것처럼 결혼 가능해', '연애하는데 사랑받는 느낌을 안받아', '연애하는데도 외로워', '연애한지 2년째야', '연애할때 많이 사랑하면 나만 손해야', '연애할때 몇살 차이가 적당해', '연애할때 자유를 원하는 상대에게 얼마나 자유롭게 해줘야하나', '연예인과 썸 타는 꿈 해몽 좀', '연예인이랑 사귄다', '연예인하고 연애해보고 싶어', '연인과 어떤걸로 싸워', '연인끼리 같이 샤워해', '연인이랑 어떻게 하면 안 싸울 수 있을까', '연인인데 정치견해가 달라', '연하 어때', '영원한 사랑', '영원히 함께 했으면 좋겠다', '영화 보자는데 나한테 관심 있나', '영화 보자는데 나한테 관심 있나', '영화같은 사랑 하고 싶어', '영화볼때 너무 목소리가 큰 남자친구가 고민', '예랑이 턱시도 멋져', '예랑이가 대리효도시키는 건 아니겠지', '예랑이가 마마보이인듯', '예쁘니까 사랑하는 건가', '예쁘니까 좋아하나', '예쁘면 다냐ㅠㅠ', '예쁜데 연애 안하는 여자', '예식장 취소했어', '오늘 가는 모임에 짝남이 있는데', '오늘 꿈에는 짝남이 나왔으면', '오늘 데이트각이야', '오늘 따라 보고 싶네', '오늘 만나기로 했는데 빈손으로 나가', '오늘 백일이야', '오늘 서점에서 이상형 봤어', '오늘 왠지 고백 받을 것 같음', '오늘 좋아하는 애한테 고백했는데', '오늘 짝남 만나는데 뭐 입지', '오늘 짝남 만나는데 옷이 없다', '오늘 짝남이 썸녀 생긴거 알게 돼서 술 좀 마셨어요', '오늘 짝녀 만나기로 했는데 옷이 없네', '오늘 짝녀 만나는데 뭐 입나', '오늘 짝녀가 썸남 생긴거 알게 되고 한 잔 했습니다', '오늘 큰맘 먹고 연락했습니다', '오늘도 사랑해', '오늘도 짝남이 멋졌어', '오늘도 짝사랑하는 남자 땜에 우울해요', '오늘도 짝사랑하는 여자 땜에 술 마시는 중', '오늘도 짝사랑하는 여자가 정말 이뻤습니다', '오늘로 짝남 보내기로 했어요', '오늘만나기로했어', '오늘부로 짝녀를 보내기로 했어요', '오늘부터 짝사랑을 끝내려 합니다', '오늘은 그녀를 만나기로 약속한 날', '오늘처럼 사랑하기', '오래 만나고 싶은데 짧은 연애만 했어 내가 문제가 있나', '오래 만나고싶은데', '오래 만나는 방법 있어', '오래 만나서 지겨워진 거 같아', '오래 만났어', '오래 못 가는 연애', '오래 사랑하고 싶어', '오래 연애하고 싶어', '오래 연애해서 그런가 관심이 줄었어', '오랜 연애로 가족같은 느낌이야', '오랜 연애로 여자친구가 잘 안꾸미고 나오는게 고민임', '오랜 연애인데도 좋아', '오랜만에 가슴이 두근거려', '오랜만에가슴이뛰어', '오랜만이네', '오랜연애로 남자친구가 더 이상 새롭지않은게 고민임', '오랫동안 썸만 타 뭐가 문제임', '오랫동안 썸만 타고 솔로인건 왜그래', '오랫동안 연애 안한 사람이랑 사귀는 거 괜찮아', '오해로 싸움이 시작됐어', '오해하는 거 같은데 어떡하지', '완전 귀여워', '완전히 마음에 들지는 않는데 만나도 될까', '왜 결혼 안하니 묻지 좀 마', '왜 내 마음을 몰라주지', '왜 사랑한다고 표현을 안 할까', '왜 자꾸 나한테 귀엽다고 하지 날 좋아하나', '왜 좋아하는 마음은 그만두지 못할까', '외국에도 썸 같은 개념이 있어', '외로워서 그런건지 진짜로 좋아하는 건지 모르겠어요', '외모는 내 취향인데 좋아하는 걸까', '요구하거나 제안했을 때 뭐라고 리액션해야할지 모르겠어', '요즘 내가 내가 아닌 거 같아', '요즘 눈에 띄는 남자애가 있는데', '요즘 눈에 띄는 여자애가 있는데', '요즘 눈에 띄는 남자애', '요즘 눈에 띄는 여자애', '요즘 맨날 좋아하는 오빠가 꿈에 나와요', '요즘 좋아하는 남자애가 꿈에 나오는데', '용기내볼까', '우리 둘이 모은 돈으로 결혼해야 돼', '우리 반 남자애를 좋아하는데', '우리 반 여자애를 좋아하는데', '우리 반 남자애 좋아하게 됨', '우리 반 여자애 좋아하게 됨', '우리 반 여자애가 나를 좋아하는 것 같아', '우리 반에 반장을 좋아해', '반장을 좋아해', '우리 반에 좋아하는 남자애가 있어', '우리 반에 좋아하는 여자애가 생김', '우리 사귀는 거 맞겠지', '우리 사랑이 영원했으면 좋겠어', '우리 사랑이었을까', '우리 언니 남친이 날 좋아하는데 방법 좀', '우리반 남자애가 나 좋아하는 걸 너무 티내', '우리반 여자애가 나 좋아하는 거 너무 티냄', '우리의 사랑은 끝났어', '우린 운명이었어', '우린 운명인줄 알았는데', '운동을 하는 남자가 좋아', '운동하는 여자가 좋아', '운명적인 사랑 있어', '운명적인 사랑을 믿었는데', '운명적인 사랑을 했어', '웃는 모습이 예쁜 사람', '웃을 때 진짜 예뻐', '원래 사랑에 빠지면 잠 잘 안와', '원래 장난 잘 치는 성격인데 짝남 앞에서 넘 떨려서 노잼 돼', '원래 장난도 잘하고 재밌다고들 하는데 그녀 앞에선 작아지는데 어떡해', '웨딩드레스 입어보고 싶었어', '웨딩드레스를 입은 너를 보고', '위험한 사랑 해도 될까', '유부남 좋아하는 거 같아', '유부남 좋아하면 안되겠지', '유부남됐어', '유부남을 좋아하게 됐어', '유부녀 좋아하면 안되지', '유부녀 됐어', '유부녀를 좋아하게 되었어', '유학 준비하는 여자친구', '음식 많이 가리는 남자를 사겨도 괜찮을까', '음식 편식하는 사람 사겨도 돼', '의견 차이가 있을 때 나 너무 무시해', '이 남자애의 행동 나를 좋아하는게 맞는지 모르겠어', '이 사람 나를 좋아하는 건가', '이 사람 만나면서 내 자존감이 떨어지는 것 같아 안 만나는게 답이야', '이 사람 만나면서 내 자존감이 떨어지는 것 같아 안 만나는게 답이야', '이 사람 없으면 못 살 거 같아', '이 사람 좋아하는 게 맞을까', '이 사람은 사랑이 참 쉬운가봐 내가 우습나', '이 사람이다 싶어', '이 사랑이 마지막 사랑이었으면', '이 세상에 나 혼자 남겨진 기분', '이 세상에서 내가 제일 불행해', '이 여자애의 행동 나를 좋아하는게 맞나', '이 오빠 나를 좋아하는 건가', '이 정도면 내가 좋아하는 걸 알까', '이 행복이 사라질까 두려워', '이거 뭘까 좋아하는 걸까', '이거 사랑인가', '이거 썸 맞나', '이거 썸 아냐', '이거 썸인가', '이거 썸인가요', '이거 좋아하는 거 맞나', '이건 그냥 날 안 좋아하는 걸까', '이게 바로 첫사랑인듯', '이게 썸인가', '이기적인 사람을 좋아하는 거', '이런 나를 좋아해주는 사람이 있을까', '이런 얼굴 좋아하는 사람이 있을까요', '이렇게 또 혼자 좋아하고 이별하고', '이렇게 사랑 받아도 되나', '이루어질 수 없는 사랑 해도 될까', '이뤄질 수 없는 사랑이 제일 서글퍼', '이른 연락해도 될까', '이미 접은 짝남한테 주기적으로 연락이 온다', '이번 주말 그녀에게 연락해 볼까', '이벤트 안하는 남자친구', '이별도 사랑일까', '이 사람이랑 결혼이 옳은 걸까', '이 사람이랑 결혼해도 되겠지', '이상적인 관계는 뭘까', '이상적인 연애란', '이상하게 놓치고 싶지 않는 사람이 있어', '이상형 알고싶다', '이성의 학교선배와 단둘이 식사한다면 어떻게 해', '이제 그만 좋아하고 싶어', '이제 끝난 줄 알았는데 아직도 좋아해', '이제 끝인 줄 알았는데 계속 좋아하고 있었어', '이제 나도 날 좋아해주는 사람을 만나고 싶어', '이제 내 짝남 못봐 군대 가거든', '이제 좀 지겨워진 거 같아', '이제 청첩장 돌려도 되겠지', '이젠 다시 사랑 못할 것 같아', '이젠 짝사랑하는게 무섭고 두려워', '인연이 있다고 생각해', '인연이 있다고 생각해', '인연이란게 있을까', '일 하면서 알게 된 사람한테 연락해도 될까', '입맛이 너무 안 맞는 거 같애', '있는 그대로의 나를 사랑하기', '자기 기준에 맞추라는 사람', '자기 전에 통화하면 썸 맞지', '자기 전에 통화하면 썸이야', '자기를 3인칭으로 말하는 여자친구의 말투가 고민임', '자길 좋아하는 여자애가 있으면 더 잘해주는 경향이 있나', '자꾸 갠톡하는 선배 있는데 관심 있나', '자꾸 날 칭찬하는 여자애 나한테 관심있는거 아니야', '자꾸 신경쓰여', '자꾸 짝남 얼굴 생각나', '자꾸 짝녀 얼굴 생각나네', '자꾸 헷갈리게 해', '자신감 있는 여자가 좋아', '자전거 데이트 어떨까', '자주 가는 카페 알바생이 나를 자주 뻔히 쳐다보는데 이거 그린라이트일까', '자주 가는 카페에 알바생한테 번호 따고 싶은데', '자주 가는 카페에 잘생긴 알바생이 있는데 어떻게 고백하면 좋을까', '자취한다는데 뭘 챙겨줄까', '잘 만나고 있는데 나 질려하면 어쩌지 걱정이야', '잘 만나는 중인데 헤어지면 어쩌지 걱정돼', '잘 맞는 사람 만나고 싶다', '잘 먹는 남자가 보기 좋지않아', '잘 먹는 여자가 좋아', '잘 사귀는데 불안한 느낌이 들면 정상일까', '잘 지냈으면 좋겠다', '잘 챙겨주는데 나를 좋아하는 걸까', '잘지내나', '잘해줬더니 더 해달래', '잠 안 온다고 했더니 자장가 불러줬어', '장거리 썸 고백해도될까', '장거리 썸 괜찮을까', '장거리 연애 괜찮을까', '장거리 연애하면 보통 몇일에 한번 만나', '장거리 연애하면 보통 어느 지점에서 만나', '장거리하다가 결혼 가능할까', '장난스러운 고백 받았어', '장난으로 좋아한 거 아닌데', '장난인지 진심인지 구분이 안돼', '장난인지 진심인지 구분이 안돼', '장수커플이야', '재수학원에서 연애는 필망', '저를 좋아하는 사람 알면서도 모르는 척하는게 이기적인가요', '저를 좋아하는 사람은 없을 거예요', '저를 좋아하는 사람한테 호감이 안 생겨요', '저를 좋아하던 사람이 갑자기 매정해졌어요', '저만 좋아하는 사람 페북 같은거 살펴보나요', '저한테만 장난치는 남자애가 나 좋아하나', '적극적인 여자가 좋아', '전 남친이랑 헤어진지 오래됐는데 좋아하는 사람이 없어', '전 너무 이기적인데 저를 좋아해줘요', '전 썸남 보고싶어', '전 왜 제 마음도 잘 모르는 걸까요', '전남친하고 짝남이 친구야', '전부 다 줘도 아깝지 않은 사람', '전여친하고 짝녀가 친구야', '전화하면서 잠들고 싶다', '절 찼던 남자애가 다시 절 좋아하는게 가능할까요', '절 찼던 여자애가 절 다시 좋아하는 건가요', '점심시간일 텐데 카톡이 안 와', '정말 고맙다 귀염둥아', '정말 사랑했는데', '정말 사랑했어', '정말 잘 맞는 사람이 있을까', '정성 담긴 선물 뭐가 좋을까', '정열적인 사랑 하고 싶어', '정장 한 벌 맞췄어', '제가 좋아하는 남자가 저를 짝사랑한대요 제가 먼저 고백해도 될까요', '제가 좋아하는 사람이 맘 잡고 공부해야할 것 같다고 기다려달라는데 제 맘이 안별할까요', '제가 좋아하던 사람이 절 좋아하면 갑자기 거부감 들고 싫어져요', '제대로 사랑하고싶어', '조용한 여자가 좋아', '존경할 수 있는 사람 만나고 싶어', '좀 있으면 귀국하는데 짝녀에게 뭘 챙겨줄까', '종교가 다른 여자친구 헤어져야하나', '종교가 다른 짝남과 연애할수 있을까', '종교를 너무 싫어하는 남자친구가 고민', '좋아 하는 사람한테 어떻게 고백을 할까요', '좋아 하는 애한태 고백하는 방법좀', '좋아하게 된 남자가 있는데 많이 어린데 어울릴 수 있을까', '좋아하고 있는 애가 친구를 소개 시켜줬어', '좋아하고 있는 애랑 카톡하는 중인데 뭐라고 하지', '좋아하고 있는 애를 친구가 소개 시켜줬어', '좋아하는 감정을 스스로 다스릴 수 있을까', '좋아하는 감정을 억제하는 방법은 뭐지', '좋아하는 감정을 혼자서 정리할 수 있을까요', '좋아하는 감정이 나를 슬프게도 해', '좋아하는 감정이 나를 슬프게도 해', '좋아하는 감정이 뭐예요', '좋아하는 거 기준이 뭐임', '좋아하는 거랑 사랑하는 거 차이점이 뭘까요', '좋아하는 거랑 사랑하는 건 어떻게 구분해', '좋아하는 거랑 사랑하는 건 어떻게 구분해', '좋아하는 거랑 사랑하는게 다른 거야', '좋아하는 거랑 사랑하는게 다른 거야', '좋아하는 걸 알게되면 갑자기 싫어져요 무슨 심리일까요', '좋아하는 그녀가 유학을 간다고 합니다', '좋아하는 그사람은 바람둥이야 좋아해도 될까', '좋아하는 남자 때문에 너무 기분이 안 좋아', '좋아하는 남자 생겼는데 호감 어떻게 표시할까요', '좋아하는 남자 표정이 너무 차가워서 다가가기 어려워', '좋아하는 남자가 여친이랑 헤어질 때까지 기다렸다가 고백하는거 가능한 사람이 있을까요', '좋아하는 남자가 톡이 늦어', '좋아하는 남자애 때문에 성적이 떨어졌어요', '좋아하는 남자애 마음을 알다가도 모르겠어', '좋아하는 남자애 생겼는데 완전 설레', '좋아하는 남자애 앞에서 표정 관리가 안돼', '좋아하는 남자애 프사가 누굴까', '좋아하는 남자애가 게임을 좋아하는데 이야기 오래가는 소재 좀 알려줘', '좋아하는 남자애가 날 좋아하게 하려면 어떻게 해', '좋아하는 남자애가 담배를 피는데 저는 담배를 싫어하는데 어떻게 끊으라고 말해볼까요', '좋아하는 남자애가 바람둥이 같은데 계속 좋아하면 안되겠죠', '좋아하는 남자애가 여친 생기면 울 줄 알았는데 덤덤해', '좋아하는 남자애가 우리 언니를 좋아한대', '좋아하는 남자애가 입대하는데 어떤 선물을 해주는게 좋을까요', '좋아하는 남자애랑 같은 반이 됐는데 너무 떨려', '좋아하는 남자애랑 다른 반 됐어', '좋아하는 남자애랑 약속 잡았는데 계속 연락 없어', '좋아하는 남자애에게 어떤 생일선물을 주면 좋아할까요', '좋아하는 남자애한테 답장이 없어 나 안좋아하는 거 맞지', '좋아하는 남자애한테 발렌타인데이 때 초콜릿 줄까', '좋아하는 남자애한테 어떻게 관심 표현함', '좋아하는 남자애한테 자연스럽게 연락하는 방법 뭐 있을까', '좋아하는 남자의 단점을 들었는데도 좋아', '좋아하는 남자한테 관심 없는 척 하고 있는데 너무 우울해', '좋아하는 남자한테 여친이 있는데 헤어졌으면 좋겠어', '좋아하는 남자한테 연락 하지 말자고 했는데', '좋아하는 누나가 날 너무 어린애 취급함', '좋아하는 마음 그만두기 힘든데 짝남이 헷갈리게 해', '좋아하는 마음 들면 고백해야 되는거 아님', '좋아하는 마음을 감출길이 없어', '좋아하는 마음을 전할 수 있을까', '좋아하는 마음이 안 생길 것 같다고 떠난 남자', '좋아하는 마음이 안 생길 것 같다고 떠난 여자', '좋아하는 사람 꿈을 꿨어', '좋아하는 사람 때문에 공부를 못하겠어', '좋아하는 사람 때문에 너무 센치하다', '좋아하는 사람 생각으로 아무것도 집중을 못하겠어', '좋아하는 사람 생겼는데 페북 친구 신청 해도 될까요', '좋아하는 사람 생겼으면 좋겠어', '좋아하는 사람 생기면 어떻게든 sns같은 거 알아내서 친신하고 그래', '좋아하는 사람 생기면 자꾸 따라하게 돼', '좋아하는 사람 앞에서 다른 사람한테 관심 있는 척 해봤어요', '좋아하는 사람 앞에서 성격이 이중적인데 정상인가요', '좋아하는 사람 앞에서 실례를 했어', '좋아하는 사람 앞에서 쪽팔린 경험이 너무 많아', '좋아하는 사람 앞에서 표정 관리 안되는 거 어떡해', '좋아하는 사람 앞에선 다 똑같은가봐요', '좋아하는 사람 언제까지 기다릴 수 있을까요', '좋아하는 사람 얼굴이 이제 생각이 안나', '좋아하는 사람 오늘 못 봐서 진짜 우울하다', '좋아하는 사람 이상형에 나를 맞춰야 할까', '좋아하는 사람 있는데 내가 좀 소심해', '좋아하는 사람 잊는 방법 조언 좀', '좋아하는 사람 직업이 좀 걸리는데 계속 좋아해도 될까요', '좋아하는 사람 포기하는 방법 있어', '좋아하는 사람 프사랑 비슷한 거 걸어', '좋아하는 사람 환심 살 수 있는 방법 좀', '좋아하는 사람만 보면 감정이 북받쳐올라', '좋아하는 사람만 보면 눈물이 나는데 어떡해', '좋아하는 사람에 대한 감정이 이제 뭔지 잘 모르겠어', '좋아하는 사람에 대한 관심을 끄는 방법이 뭐가 있을까', '좋아하는 사람에 대한 미련이 아직 남은걸까', '좋아하는 사람에 대한 생각 비우는 방법 좀 알려줘요', '좋아하는 사람에 대한 예의가 없는 것 같아', '좋아하는 사람에 대해 착각만하게 되는 내 자신이 싫어', '좋아하는 사람에게 요리를 해주면 좋아할까', '좋아하는 사람에게 편지를 쓴다는것 효과적일까', '좋아하는 사람을 싫어하는 척하고 있는데 우울해', '좋아하는 사람을 원망하게 될 것 같아', '좋아하는 사람의 심리를 모르겠어', '좋아하는 사람의 호감을 살 수 있는 방법이 뭐가 있을까', '좋아하는 사람이 거짓말을 하면 어떡하죠', '좋아하는 사람이 고쳤줬으면 하는 거 말해도 될까', '좋아하는 사람이 나를 부담스러워해', '좋아하는 사람이 나한테 먼저 연락오게 하는 방법', '좋아하는 사람이 날 너무 편하게 생각해', '좋아하는 사람이 날 싫어해서 죽고 싶어', '좋아하는 사람이 너무 냉정한데', '좋아하는 사람이 너무 예뻐', '좋아하는 사람이 너무 잘생겼어', '좋아하는 사람이 너무 철벽치는데 계속 다가가도 될까', '좋아하는 사람이 다른 사람을 좋아한대 살기 싫다', '좋아하는 사람이 다른 여자 얘기하는게 너무 가슴 아파요', '좋아하는 사람이 다른 여자랑 친해지는게 서운해', '좋아하는 사람이 단둘이 있는 걸 부담스러워해요', '좋아하는 사람이 단톡에서 다른 남자한테 관심 있는 것 같이 보여요', '좋아하는 사람이 말한 이상형이랑 나랑 너무 다른데', '좋아하는 사람이 부담스러워할까봐 친구들 여럿이서 보는데', '좋아하는 사람이 생기면 좋을 줄 알았는데 우울하기만 해', '좋아하는 사람이 쓰레기면 어떻게 할꺼야', '좋아하는 사람이 여러명인데 괜찮겠지', '좋아하는 사람이 연애에 관심이 없는 거 같애', '좋아하는 사람이 외국인인데 날 부담스러워하진 않을까', '좋아하는 사람이 인기가 많은데 남친이 없어', '좋아하는 사람이 인기는 많은데 여친이 없어 왜 그럴까', '좋아하는 사람이 있는데 고백하는 건 싫어요', '좋아하는 사람이 있는데 관계에 진전이 없어', '좋아하는 사람이 있는데 사귀는 건 싫어', '좋아하는 사람이 있는데 사연이 길어요', '좋아하는 사람이 있는데 씨씨야 만나도 될까', '좋아하는 사람이 있는데 이제 못 봐', '좋아하는 사람이 있는데 자괴감 들어', '좋아하는 사람이 있는데 종교가 달라', '좋아하는 사람이 있는데 할 말이 없어서 연락이 끊겼어', '좋아하는 사람이 있어', '좋아하는 사람이 자꾸 나한테 전여친 얘기해', '좋아하는 사람이 좋아하는 것들 따라하게 되는데 정상인가', '좋아하는 사람이 카톡 차단한듯', '좋아하는 사람이 하는 행동에 하나씩 의미 부여하는게 짜증나', '좋아하는 사람이 행동하는 모든 게 좋아', '좋아하는 사람이랑 같은 반 돼라', '좋아하는 사람이랑 벚꽃구경 가고 싶어', '좋아하는 사람이랑 종교가 다른데 괜찮을까', '좋아하는 사람이랑 친구 가능해', '좋아하는 사람한테 거절 당하면 영영 끝일까 두려워', '좋아하는 사람한테 거절 당할까봐 두려워', '좋아하는 사람한테 고백 안하는 사람도 있나요', '좋아하는 사람한테 관심 없는 척 하는 것도 이제 지쳐요', '좋아하는 사람한테 내가 자꾸 말거는 걸 귀찮아할까', '좋아하는 사람한테 닮은 사람 봤다고 카톡 보내볼까', '좋아하는 사람한테 도와달라고 해볼까', '좋아하는 사람한테 만나자고 말해도 되나', '좋아하는 사람한테 말 거는 방법', '좋아하는 사람한테 맨날 선톡하는데 부담스러워 하려나', '좋아하는 사람한테 뭐라고 카톡 시작하지', '좋아하는 사람한테 선톡하려고 하는데', '좋아하는 사람한테 적극적인 여자 별로야', '좋아하는 사람한테 집까지 데려달라고 부탁해볼까', '좋아하는 사람한테 티 안내는 사람 어떻게 생각해', '좋아하는 선배가 나한테 연락했으면 좋겠어', '좋아하는 선배가 있는데 선톡오게 하는 방법 좀', '좋아하는 앞에서 방구를 꼈어', '좋아하는 애 가망 없으면 포기하는게 맞을까요', '좋아하는 애 상메가 무슨 뜻인지 모르겠어', '좋아하는 애 친구한테 다같이 만나자고 말해도 돼', '좋아하는 애 피하는 방법 조언 좀', '좋아하는 애 피하는 중임', '좋아하는 애 피하면서도 우울해', '피해 다니면 좋아했던 마음이 좀 사라질까', '좋아하는 애한테 페메 해볼까', '좋아하는 애가 1년만 기다려 달라는데 어쩌지', '좋아하는 애가 여친 사귈 마음이 없대', '좋아하는 애가 연예인에 관심이 많은데 나는 관심이 없는데 무슨 얘기하지', '좋아하는 애가 자자고 해서 자버렸어 어떡해', '좋아하는 애가 좀 노는 애인데 좋아해도 돼', '좋아하는 애랑 같은 반 됐어', '좋아하는 애랑 같이 있으면 나만 이래', '좋아하는 애랑 같이 잤어', '좋아하는 애랑 관련된 흑역사가 많은데', '좋아하는 애랑 만나서 놀건데 뭐 먹는게 좋을까', '좋아하는 애랑 무슨 얘기할까', '좋아하는 애랑 연락 중인데 어떤 얘기를 이끌어가야할지 모르겠어', '좋아하는 애랑 영화 볼건데 액션은 좀 그렇겠지', '좋아하는 애랑 있으면 왜 쳐다보지를 못하겠지', '좋아하는 애랑 전화하면', '좋아하는 애랑 카톡하면', '좋아하는 애를 내가 너무 우상화하는 것 같아', '좋아하는 애한테 간접적으로 고백했는데 알아 차렸을까', '좋아하는 애한테 말도 못 해보고 졸업했어요', '좋아하는 애한테 선펨했는데 답장을 안해', '좋아하는 애한테 영화보자 하면 효과적일까', '좋아하는 애한테 찌르기 눌러 버림', '좋아하는 애한테 페메 해볼까', '좋아하는 애한테 하고 싶은 말이 뭐야', '좋아하는 여선배가 있는데 말할 수도 없고 어떡함', '좋아하는 여자 때문에 너무 심각해요', '좋아하는 여자 마음을 알다가도 모르겠어', '좋아하는 여자 생겼는데 호감 표시하려면 어떻게 해야 해', '좋아하는 여자 생겼으면 좋겠다', '좋아하는 여자 페북 친구도 아닌데 좋아요 눌렀음 쪽팔려', '좋아하는 여자가 너무 철벽이야', '좋아하는 여자가 다른 남자랑 친해지는게 짜증남', '좋아하는 여자가 최근들어 연락이 늦는데 나한테 마음이 없는거겠지', '좋아하는 여자가 톡을 씹어', '좋아하는 여자가 헤어질 때까지 기다렸다가 결국 사귀는게 가능할까요', '좋아하는 여자랑 친해지는 방법 좀 알려줘', '좋아하는 여자애 꿈을 꿨는데 눈을 못 마주치겠음', '좋아하는 여자애 생각하느라 성적이 떨어짐', '좋아하는 여자애 생겼는데 떨려 죽겠음', '좋아하는 여자애 앞에서 표정 관리가 안됩니다', '좋아하는 여자애가 날 좋아하게 만들고 싶은데 조언 좀', '좋아하는 여자애가 남친 사귈 마음이 없다는데 진짜일까', '좋아하는 여자애가 우리 형을 좋아한다고 들음 나 어떡하냐', '좋아하는 여자애가 유학을 가는데 어떤 선물을 해주는게 추억에 남을까요', '좋아하는 여자애랑 같은 반이 됐어', '좋아하는 여자애한테 무슨 선물을 줄까', '좋아하는 여자애한테 밥 먹자고 했는데 바쁘다고만 해', '좋아하는 여자애한테 손편지 줘도 돼', '좋아하는 여자애한테 어떻게 관심 표현하는지 조언 좀', '좋아하는 여자애한테 어떻게 하면 좋은 인상을 남길 수 있을까', '좋아하는 여자애한테 자연스럽게 페메 보내는 방법 뭐가 있지', '좋아하는 여자애한테 화이트데이 때 사탕 주면 좋아할까', '좋아하는 여자에 프사가', '좋아하는 여자에게 어떻게 연락할까', '좋아하는 여자의 단점을 들었는데 어떻게 해야할지 모르겠어 답답해', '좋아하는 여자한테 관심 없는 척 하고 있어', '좋아하는 여자한테 관심 없는 척 하는데 잘하고 있는지 모르겠어', '좋아하는 여자한테 남친이 있는데 연락하고 싶어', '좋아하는 여자한테 선물해도 괜찮을까', '좋아하는 여자한테 연락 하지 말자고 했는데 후회해', '좋아하는 여자한테 표현하는게 옳은 걸까', '좋아하는 연예인 바뀔 때마다 짝남이 바뀌는 듯', '좋아하는 오빠 페북 친구도 안되어있는데 실수로 댓글 달았어요', '좋아하는 오빠가 날 어리게만 봐', '좋아하는 오빠가 최근에 연락이 계속 늦거나 이어지지 않는데 그냥 연락 끊어야 할까', '좋아하는 오빠랑 어떻게 친해질까', '좋아하는 오빠랑 친해지는법', '좋아하는 이상형이 계속 바뀌어', '좋아하는 티도 못내는 제가 너무 불쌍해요', '좋아하는 티를 많이 내도 문제야', '좋아하는거 어떤 느낌이야', '좋아하는거 어떤 느낌임', '좋아하는게 이렇게 힘들지 몰랐어', '좋아하는데 걸린 시간이 보통 어떻게 돼요', '좋아하는데 이전과 다를게 없을까봐 말을 못하겠음', '좋아하는데 자꾸 시비걸게 돼요', '좋아하는데 자꾸 짜증나기도 해', '좋아하는데 전혀 티 안내는게 가능할까요', '좋아하는데 티조차 못내는게 마음 아파요', '좋아하는데도 헤어지자네요', '좋아하는지 확신이 안들어', '좋아하는지 확신이 안들어', '좋아하다 더 좋아지는 게 사랑인가', '좋아하던 남자애가 여친 생겼는데 막상 아무런 느낌 안 들어', '좋아하던 사람 미워질 것 같아', '좋아하던 사람에 대한 감정으로 내가 너무 힘들어', '좋아하던 사람하고 멀리 떨어져 있으면 더 보고 싶어져', '좋아하던 여자애가 남친 생겼다는대 아무렇지도 않아', '좋아하면 꿈에 나오는건가', '좋아하면 먼저 연락해야 해', '좋아하면 어떤 느낌일까', '좋아하면 이용당해도 되는거야', '좋아하면서 너무 싫어', '좋아하면서도 너무 싫은 감정 뭘까요', '좋아하지 않는데 계속 연락하고 만나는거 가능한가', '좋아해', '좋아했던 기억 영원히 없앨 수는 없을까', '좋아했던 사람 영원히 잊을 수 없을까', '좋아했던 사람도 금방 잊을 수 있을까', '좋아했던 사람에 대한 트라우마 때문에 연애를 못하겠어', '좋아했지만 고백은 못하겠어', '좋아했지만 끝내 고백은 못할 듯', '좋은 곳 오면 생각나는 사람', '좋은 관계를 맺는 방법', '좋은 사람 같아서 놓치고 싶지 않아', '좋은 사람 있으면 소개시켜줘', '좋은 첫인상 남게 하려면', '주말이 행복해', '주말인데 연락이 안 와', '주말인데 연락해볼까', '주변 이성이 많은 여자친구 어떡해', '주변에서 다 별로라고 한 짝남 그냥 맘을 접어야할까', '주변에서 제가 그녀를 좋아하는 거라는데 받아들여지지 않습니다', '죽고 못 사는 관계', '죽었던 연애세포가 살아나는 것 같아', '죽음을 뛰어넘는 사람', '준비 안됐는데 썸남 지금 집 앞에 있대', '즉흥적인 여자친구가 고민임', '지금 나오라고 하는거 예의 없음', '지금 나오라고 하면 나올까', '지금 남친을 별로 안좋아하는 것 같은데', '지금 사귀고 있는 사람이랑 결혼하고 싶어', '지금 상황을 정리하고 유학을 가자는 상대', '지금 여친을 별로 안좋아하는 것 같아', '지금 연락해도 돼', '지금 이 순간이 깨지지 않았으면 좋겠어', '지금 좋아하는 사람 있어', '지나가는 말로 이쁘다한 것을 다 기억해 두는게 좋은가요', '직장에서 좋아하는 여자가 있으면 고백하면 안되나', '진실된 사랑이 있을까', '진심으로 사랑하는 여자와', '진심으로 좋아하는 애가 생겼으면', '진심이 뭘까', '진심일까', '진정 사랑에 대해 배워가는중입니다', '진짜 나를 좋아하는 남자랑 사귈 걸', '진짜 좋아하는 애가 생겼으면 좋겠어', '진짜 좋아하면 장거리 연애 가능', '질투가 너무 심한데 질투를 어떻게 줄일까', '집까지 데려다줬는데 호감 그냥 매너', '집앞에서 첫사랑 만남', '집에 가기 싫어', '집에 여자친구 소개시켰어', '집에서 먼곳으로 데이트를 자주 가야하는데 꼭 차를 사야할까', '집이 먼데 사귀어도 될까', '집착을 줄이고싶어', '집착하는 것 처럼 보이면 어떡해', '짝남 고민 들어줄래요', '짝남 관련 악몽을 꿔', '짝남 나한테 마음 있는지 궁금해', '짝남 내일 모레 출국이래', '짝남 내일 출국인데', '짝남 때문에 너무 우울하고 혼란스러워', '짝남 때문에 마음이 아픈데 어떻게 해야할지 모르겠어', '짝남 때문에 우울해', '짝남 마주치지 않으려고 노력할거야', '짝남 못 잊겠어', '짝남 보고싶다', '짝남 보내주는 편지야', '짝남 보란듯이 성공하고 싶어요', '짝남 보란듯이 잊어주겠어', '짝남 생각에 잠을 못 자', '짝남 생각할수록 정리 되는 듯', '짝남 섞인 술자리 갈 예정', '짝남 알바 그만둬서 이제 못만나는데 단톡방 친구추가 해서 갠톡하면 별로인가', '짝남 그냥 연락 끊긴지 오래됐는데 연락하는 거 오바야', '짝남 여친 생겼네', '짝남 여친 있는지 없는지 어떻게 알아내', '짝남 일년 째 멀리서 지켜보기만 하는 중', '짝남 있는데 소개 들어오면 받나요', '짝남 잊으려고 나 혼자 나쁘게 생각하는 내 자신이 증오스러워', '짝남 잊으려고 하는데 인스타에서 자꾸 보여요', '짝남 전여친 못잊는거 보는게 너무 맘이 아파', '짝남 정리 잘하고 있었는데 자꾸 꿈에 나와', '짝남 줄건데 센스있는 선물 추천해주세요', '짝남 표정 안좋아서 괜히 신경 쓰여', '짝남 프사 궁금해요', '짝남 프사랑 비슷한거 하고 싶은데 해도 될까', '짝남과 자연스럽게 친해질 수 있는 방법 있을까', '짝남네 집에서 친구들이랑 집들이 가는데 뭐 사갈까', '짝남보다 더 나은 사람은 없을거야', '짝남에게 같이 옷보러가자고 해도 될까', '짝남에게 밤에 자주 산책하자고 해도될까', '짝남은 나를 싫어하나봐 기분 탓인지', '짝남은 나한테 관심이 없는 것 같애', '짝남은 짝남일 뿐인가', '짝남을 반에서 공개적으로 좋아하는게 나을까요', '짝남의 여사친들 보기 질투나', '짝남의 전 여친 등장', '짝남이 갑자기 못나 보여', '짝남이 고시생이면 기다려야 하나요', '짝남이 곧 군대를 가요', '짝남이 공무원준비를 한다는데 고백하면 방해가 될까', '짝남이 공시생이면 어떻게 하죠', '짝남이 나를 떠보는 걸까', '짝남이 나를 좋아하는 애의 친구인데 어떡해', '짝남이 나한테 관심 없어보여도 계속 연락하고 들이대', '짝남이 나한테 먼저 연락왔으면 좋겠어', '짝남이 나한테 여지준 것 같아', '짝남이 날 너무 편하게 생각해', '짝남이 날 신경쓰는 것 같은 건 내 착각일까', '짝남이 날 좋아하게 할 방법이 있을까', '짝남이 남친이 되었어요', '짝남이 내 친구 좋아하는 현실 어떻게 받아들여요', '짝남이 내 친구를 좋아하는 것 같아', '짝남이 내가 좋아하는 거 알아버림', '짝남이 내가 좋아하는걸 1도 몰라', '짝남이 너무 인기가 많아서 뺏길거같아 두려워', '짝남이 너무 좋은데 패션센스가 별로야', '짝남이 넘 귀여워', '짝남이 다른 애 좋아하는 것 같아', '짝남이 다른 여자를 좋아하는 걸 보니 자존감이 떨어져', '짝남이 독서가 취미라는데 무슨 책을 선물해줄까', '짝남이 몇일째 카톡 안읽씹하면 노답이죠', '짝남이 삐딱하게 굴면 어떻게 하죠', '짝남이 사귀던 사람이랑 헤어졌는데 내가 고백해도 될까', '짝남이 생겼는데 뭐부터 해야할까', '짝남이 여친이 있었어요', '짝남이 연락이 안 되는데 자고 있는 걸까', '짝남한테 계속 친한 척하면 부담스러워 할까', '짝남이랑 친해질 수 있는 방법은 뭘까', '짝남이 운동선수인데 연락하면 귀찮아할까', '짝남이 운동하다 다쳤는데 어떡하지', '짝남이 있는데 나는 사정이 안돼 연애를 안하는게 맞는걸까', '짝남이 자꾸 꿈에 나오는데 꿈에서도 용기 없어서 피하고 그래', '짝남이 자취한다는데 필요한 거 사다주면 좋아할까', '짝남이 잘생긴건 아닌데 착해', '짝남이 정말 친절한데 모두에게 그럴까', '짝남이 제 톡 안 읽고 프사 바꿨어요', '짝남이 졸업하는데 뭘 주면 인상깊을까', '짝남이 좋다고 했던 노래 이 새벽에 참 어울리는 노래야', '짝남이 좋아하는 사람이 있대요', '짝남이 좋아하는애 있거나 여친 있으면 포기하는 이유가 뭐야', '짝남이 학교에서 평이 안 좋아', '짝남이 헤어진지 별로 안됐는데 다가가도 될까', '짝남이든 썸남이든 뭐든 있었음 좋겠다', '짝남이랑 같이 도서관 가고 싶어 방법 좀', '짝남이랑 계속 카톡하고 싶은데', '짝남이랑 괜히 술 마셨어', '짝남이랑 끝났는데 그래도 매일 볼 수 있어서 좋아', '짝남이랑 동생 이름이 똑같아', '짝남이랑 만나기로 했는데 뭐 할지 추천 좀', '짝남이랑 사귀기로 했어', '짝남이랑 술 마셨는데 기분만 더 더러워졌어', '짝남이랑 썸 탈 것 같애', '짝남이랑 아직 덜 친해서 오늘 아무말 대잔치함', '짝남이랑 약속 파토 남', '짝남이랑 잘됐으면 좋겠다', '짝남이랑 저녁에 보기로 했는데 연락이 없다', '짝남이랑 저도 모르게 사이가 어색해졌어요', '짝남이랑 조금이라도 닮은 사람 있음 눈길 간다', '짝남이랑 카톡이 끊겼는데 어떻게 더 연락할까', '짝남이랑 카톡한거 다시 쭉 읽어 봤는데 거의 나만 질문함', '짝남이랑 페북친구인데 짝남이 좋다했던거 태그해도 되나', '짝남있던 단톡방에 술 마시고 실수했어', '짝남한테 감정 소모 안하고 싶다', '짝남한테 같이 공부하러 가자고 해볼까', '짝남한테 같이 스터디하자고 해도 될까요', '짝남한테 게임 초대 톡 왔음', '짝남한테 고백한다 안한다', '짝남한테 고백했는데 내가 싫지는 않은데 못 사귀겠대', '짝남한테 고백했는데 잘 됐으면 좋겠다', '짝남한테 괜히 만나자고 했나봐', '짝남한테 내일 영화보자고 말해도 될까', '짝남한테 늦은 생일 선물 주러 가는데 떨려', '짝남한테 라인 왔는데 답장 뭐라고 해야할지 모르겠어', '짝남한테 문자 왔어', '짝남한테 밤늦게 나오라고 했더리 진짜 나왔줬는데 저한테 호감이 있는 걸까요', '짝남한테 밥 먹자고 그냥 해볼까', '짝남한테 시덥지 않은 걸로 선톡해도 될까', '짝남한테 실망했어요', '짝남한테 아침에 데이트 신청했는데 오늘 야근이야', '짝남한테 여러 번 차이다가 나중에 사귀게 된 사람도 있을까', '짝남한테 연락할까', '짝남한테 은근슬쩍 좋아하는 티 내는 방법 좀', '짝남한테 잘 보이고 싶은데', '짝남한테 정 떼는 방법 없나', '짝남한테 좋아하는거 들켰는데 그냥 예전처럼 편하게 지내고 싶어', '짝남한테 주말에 만나자고 했는데 일 있대 계속 언제 되는지 물어봐도 되나', '짝남한테 크리스마스 선물할건데 추천 좀', '짝남한테 톡 와 있네', '짝남한테 혼자 화나고', '짝남한테도 철벽이게 돼 왜그럴까', '짝녀 고민 들어줘', '짝녀 관련돼서 악몽을 자주 꾸는데 불안함', '짝녀 기분이 안좋아 보여서 신경 쓰임', '짝녀 나한테 마음이 있는걸까', '짝녀 남친 생겼네', '짝녀 때문에 화가나요', '짝녀 마음 정리하는 중이데 자꾸 꿈에 나옵니다', '짝녀 보고 싶다', '짝녀 보란 듯이 성공하고 싶습니다', '짝녀 보란 듯이 잊고 싶어요', '짝녀 생각에 잠을 못자겠어', '짝녀 생각할수록 정리 되는 느낌', '짝녀 선물 어디까지 가능', '짝녀 알바 그만둬서 못나는데 연락처 물어보면 싫어할까', '짝녀 연락 끊긴지 꽤 됐는데 연락해도 될까요', '짝녀 오랫동안 멀리서 지켜보기만 하고 있습니다', '짝녀 있는데 소개팅 들어오면 받아도 되나요', '짝녀 잊으려면 인스타부터 안 해야할듯', '짝녀 줄 센스있는 선물 추천 좀 해주세요', '짝녀 프사 자음이 궁금함', '짝녀가 고시생인데 언제까지 기다려야 할까요', '짝녀가 공시생인데 기다릴까요', '짝녀가 나를 떠보는 걸까', '짝녀가 나를 좋아하는 애의 절친이야', '짝녀가 나한테 관심이 전혀 없는 듯', '짝녀가 나한테 먼저 연락올 일은 없겠지', '짝녀가 날 너무 친구로 생각해', '짝녀가 내 친구를 좋아하는 것 같음 어떡해', '짝녀가 내 친구를 좋아해', '짝녀가 내 톡은 안 읽고 프사 바꿈', '짝녀가 내가 좋아하는 걸 알아버렸어', '짝녀가 너무 이뻐서 찝적대는 사람이 너무 많아', '짝녀가 다른 남자를 좋아한대', '짝녀가 다른반인데 친해지는 방법없을까', '짝녀가 단톡에선 답장하고 갠톡은 답장 안해', '짝녀가 몇일째 카톡 안읽씹하면 거절인거죠', '짝녀가 사귀던 사람이랑 헤어졌는데 좋아한다고 고백해도 되나', '짝녀가 어떻게 하면 내 생각을 하게 할까', '짝녀가 여친이 되었습니다', '짝녀가 연락 안 되고 있는데 자나', '짝녀가 예쁜 건 아닌데 끌려', '짝녀가 외국인인데 연락처 물어봐도 될까', '짝녀가 외국인인데 좋아해도 되나', '짝녀가 우리 과에서 인기가 너무 많아', '짝녀가 우리 과에서 제일 인기가 많은 듯', '짝녀가 운동을 한다는데 같이 하고싶어', '짝녀가 음식을 가리는 편인데 뭘 먹으면 좋을까', '짝녀가 이사간다는데 너무 힘들어', '짝녀가 있는데 내게 연애는 사치인거 같아', '짝녀가 있었는데 못 잊겠어', '짝녀가 저한테 관심이 없는 것 같은데도 계속 연락해도 될까요', '짝녀가 절 신경쓰는 것 같은 건 내 착가인가요', '짝녀가 졸업하는데 어떤 꽃을 선물하면 좋아할까', '짝녀가 좋아하는 사람 있거나 남친 있으면 포기하는 이유가 뭐임', '짝녀가 좋아하는 사람이 있답니다', '짝녀가 좋아하는거 눈치 1도 못챔', '짝녀가 차갑게 굴면 어떻게 해요', '짝녀가 학교에서 소문이 안 좋아', '짝녀는 짝녀일 뿐이건가', '짝녀랑 갑자기 어색해졌습니다', '짝녀랑 누나 이름이 똑같애', '짝녀랑 드디어 사귄다', '짝녀랑 술 마셨는데 이제 진짜 접어야하나봐', '짝녀랑 약속 파토 났어요', '짝녀랑 얼굴 마주보고 대화할 때 미칠 것 같아', '짝녀랑 연락이 끊겼는데 더 연락하고 싶어', '짝녀랑 저녁에 보기로 했는데 연락두절임', '짝녀랑 조금이라도 닮으면 눈이 가는 듯', '짝녀랑 카톡했던거 다시 읽어 보는데 거의 다만 물어보네', '짝녀를 반 애들 다 알게 공개적으로 좋아하면 싫어할까요', '짝녀에게 남친이 있었습니다', '짝녀에게 내 옷좀 봐달라고 만나자 해도 될까', '짝녀에게 다가가려면 짝녀의 친구에게 먼저 다가가는게 나을까', '짝녀와 같이 드라이브갈껀데 어디로 갈까', '짝녀와 자연스럽게 친해질 수 있는 방법 좀', '짝녀의 전 남친이 나탔났음', '짝녀한테 같이 스터디하자고 해도 되나요', '짝녀한테 고백했는데 미안하대', '짝녀한테 고백했는데 잘 됐으면', '짝녀한테 고백했는데 짝녀가 오해하게 해서 너무 미안하다네요', '짝녀한테 공부 가르쳐달라고 해볼까', '짝녀한테 라인 왔는데 뭐라고 답장 해야할지 모르겠어', '짝녀한테 문자 왔어', '짝녀한테 실망했음', '짝녀한테 여러 번 차였는데 사귈 수 있을까요', '짝녀한테 연락해볼까', '짝녀한테 영화 보자고 그냥 해볼까', '짝녀한테 의미 없는 선톡 해도 될까요', '짝녀한테 잘 보이고 싶은데', '짝녀한테 주말에 보자고 연락했는데 일정이 있대요 언제되는지 계속 물어도 될까요', '짝녀한테 줄임말 쓰면 안됨', '짝녀한테 카페 가서 같이 공부하자고 해볼까', '짝녀한테 크리스마스 선물로 뭐가 좋음', '짝녀한테 휘둘리고 싶지 않은데 이러는 내가 싫다', '짝녀한테도 철벽쳐요 성격이 왜 그럴까요', '짝사랑 그만하고 싶다', '짝사랑 그만할래', '짝사랑 끝내고 나니 마음이 공허하다', '짝사랑 시작하고 감정 기복이 심해', '짝사랑 중이었는데 솔로 탈출했어요', '짝사랑 중인 내가 이해가 안돼', '짝사랑 중인데 나혼자 드라마 찍음', '짝사랑 중인데 나혼자 영화찍어', '짝사랑 중인데 나혼자 치정 로맨스야', '짝사랑 중인데 이 세상에 나만 힘든 것 같아', '짝사랑 중일 때 장점', '짝사랑 진짜 못해먹겠다', '짝사랑 포기하는 것도 힘드네', '짝사랑 포기하려니까 우울해', '짝사랑 하는 남자 때문에 하루에도 몇 번 기분이 달라져', '짝사랑 하는 남자가 외국인인데 어떻게 다가갈 수 있을까', '짝사랑 하는 남자애가 이사 간대', '짝사랑 하는 사람과 친해질 수 있는 방법 조언 좀', '짝사랑 하는 사람보다 좋은 사람 만날거야', '짝사랑 하는 사람을 보냈습니다 위로해 주세요', '짝사랑 하는 사람이 날 좋아할 확률은', '짝사랑 하는 사람이 날 좋아할리는 없겠지', '짝사랑 하는 사람이 너무 잘나서 내가 작아보여', '짝사랑 하는 사람이랑 잘됐으면 좋겠다', '짝사랑 하는 상대가 나를 싫어하는 것 같애', '짝사랑 하는 여자 때문에 신경이 곤두서', '짝사랑 하는 여자가 헷갈리게 합니다', '짝사랑 하는 여자랑 뽀뽀하는 꿈 꿨어요', '짝사랑 하는 여자애가 오늘 꿈에 나온다면 소원이 없겠네', '짝사랑 하는 여자에 대한 고민 좀 들어주세요', '짝사랑 하는 여자한테 고백한다 안한다', '짝사랑 하니까 감정 기복 장난 아님', '짝사랑 하던 사람 못 잊을 것 같애', '짝사랑 하던 사람이 있는데 끝까지 포기 못할 것 같아', '짝사랑 하던 사람이랑 썸 타고 싶어', '짝사랑 하던 사람이랑 썸 탈 것 같애', '짝사랑 하던 사람한테 고백했는데 차임 계속 좋아해도 될까', '짝사랑 하면 무슨 기분인지 알긴 해요', '짝사랑 하면서 내가 초라하게 느껴져', '짝사랑 해봤어', '짝사랑 했던 그가 떠나갔어', '짝사랑 했던 그녀가 남친이 생겼대', '짝사랑 했던 그에게 여자친구가 생겼어', '짝사랑 했던 여자가 떠나갔네', '짝사랑 힘들어', '짝사랑만 하다보니 이 세상에 나 혼자인 것 같네', '짝사랑만 하다보니 자존감이 떨어졌어', '짝사랑만이 답일까', '짝사랑에서 연인으로 발전 가능', '짝사랑에서 연인으로 발전하려면 어떻게 해야 해', '짝사랑은 안 이뤄지나봐', '짝사랑은 언제까지나 짝사랑일 뿐이가봐요', '짝사랑은 언제나 고독할까', '짝사랑은 짝사랑으로 남는게 좋은 걸까요', '짝사랑은 힘든 거 같아', '짝사랑을 끝내니까 마음이 허전해', '짝사랑을 너무 오래해서 현타 와', '짝사랑을 하다보니 자존감이 낮아졌어', '짝사랑이 이렇게 힘들줄을 몰랐어요', '짝사랑이 이뤄지지 않을 것 같은데 계속 좋아해도 될까', '짝사랑인 상대한테 고백했는데 짝남이 오해하게 해서 미안하대', '짝사랑인가 썸인가', '짝사랑인지 썸인지 구별하는 법', '짝사랑중이야', '짝사랑중인데 그 애는 저를 잘 알지 못하는데 연락을 하면 놀랠까요', '짝사랑하는 기분이 뭔지 알아요', '짝사랑하는 남자는 내가 싫은가봐', '짝사랑하는 사람에 대한 마음이 갑자기 식었어', '짝사랑하는 사람이랑 엄청 편하게 지내는데 썸 가능', '짝사랑하는 여자가 저를 싫어하나봅니다', '짝사랑하다고 솔탈함 기 받아가', '짝사랑하면 어떤 기분이야', '짝사랑한 만큼 상처도 깊어져', '쪼금 지겨워진 거 같아', '차 없으면 데이트 못해', '차로 데려다줬는데', '차였는데 좋아하는 감정이 사라지질 않아요', '착각이면 어떡해', '착각일 수도 있는데 서로 좋아하는 것 같으면 고백해', '착해서 잘해주는 건지 좋아하는 건지', '착해서 잘해주는 건지 좋아하는 건지', '참 많이 좋아했는데', '처음 마음이 아픈게 첫사랑인가', '처음 커플템으로 어떤거를 할까', '처음에는 가벼운 마음이었는데', '천년의 짝사랑이 식는 기분', '첫 눈에 반하는게 가능해', '첫 눈에 반하는게 가능해', '첫 데이트에 뭐 먹는걸 좋을까', '첫 만남에 키스했는데 너무 빠른걸까', '첫눈에 반함', '첫눈에 반해서 좋아할 수 있어', '첫데이트 어디로 가는게 좋을까', '첫사랑 다시 만나도 사랑할 수 있을까', '첫사랑 보고 싶어', '첫사랑 생각나', '첫사랑 생각나', '첫사랑 생각만해도 아련해', '첫사랑도 내 생각할까', '첫사랑도 내가 보고 싶을까', '첫사랑을 다시 만났어', '첫사랑을 추억해', '첫사랑이 떠올라', '첫사랑인 거 같아', '청첩장 고르고 있어', '청첩장 골랐어', '청첩장 누구 주지', '청첩장 누구한테 주지', '청첩장 누구한테 줘야할지', '청첩장 돌리기 귀찮아', '청첩장 만들어야지', '청첩장을 찍는 날이 오다니', '최근에 헤어진 짝남한테 연락하면 주변에서 욕할까', '최근에 헤어진 짝남한테 지금 연락하기는 너무 이를까', '최근에 헤어진 짝녀한테 연락하면 내 연락을 받아줄까', '최소 썸인 듯', '최악의 소개팅이었어', '출산휴가 있는 회사로 이직할까', '취업준비하는데 연애해도 될까', '취준생인데 연애 부담 돼', '취준생인데 연애 해도 될까', '취향 알고 싶다', '취향 좀 존중해줬으면', '친구 결혼 준비하는 거 보니까 나도 하고 싶어진다', '친구 결혼식에서 축가 준비 중', '친구 사이로도 못 지낼 것 같아', '친구 짝남이 나 좋아하는데 어떡함', '친구 짝녀가 날 좋아하는데 어쩔', '친구가 결혼식 사회 봐주기로 했어', '친구같은 연애 하고 싶어', '친구도 아니고 사귀는 사이도 아닌데 뭐지', '친구들과의 모임이 너무 많은 사람', '친구들이 브라이덜샤워해준대', '친구들이 사랑하니까 예뻐졌대', '친구들이 짝남 별로라고 하는게 짜증나', '친구들이 짝녀를 별로라고 하네요', '친구들하고 욕하고 있는데 짝녀가 들었어', '친구라도 될 걸 그랬나봐요', '친구랑 나랑 좋아하는 애가 같으면 어떡해', '친구랑 사랑하는 사람이 같아', '친구로 남는게 좋을까 그냥 고백할까', '친구로 좋아하는 건지 이성으로 좋아하는 건지 모르겠어요', '친구에서 연인이 되려면', '친구의 구남친을 좋아하게 됐어요', '친구의 남자친구가 눈에 들어와', '친구의 남친 좋아하게 된 거 같아', '친구의 전 여친을 좋아하는 나', '친구의 전여자친구가 좋은데 사겨도될까', '친구의 친구를 사랑하는 거 같아', '친구의 친구를 사랑했네', '친구인데 고백해도 될까', '친구인데 썸 타는 것 같아', '친한 동생인데 짝남이 되고 있는 느낌이에요', '친한 동생인데 짝녀가 된 것 같아요', '친한 동생인데 짝사랑하는 것 같습니다', '친한 친구가 저를 좋아하는 것 같아요', '친한 친구의 구남친이랑 사귀어도 될까요', '친한 친구의 구여친이랑 사귀어도 되나', '카리스마 있는 사람이 좋아', '카톡 상메에 아직도 누구 좋아한다는 티 내는 법 좀', '카톡하고 싶고 자꾸 생각나고 그러면 좋아하는 건가', '카톡하는데 자꾸 웃음 나', '카톡할때 너무 칼답하면 부담스러워할까', '카페 알바생이 좋아졌는데 들이대도 괜찮을까', '카페에서 같이 알바하는 사람이 좋아졌어요', '커뮤니티 하는 썸남 어때', '커뮤니티 하는 썸녀 어때', '커플 여행 가면 잘 싸워', '커플여행 어떻게 생각해', '커플여행이 나을까 그냥 우리끼리 갈까', '커플여행이 나을까 그냥 우리끼리 갈까', '콩깍지 언제 벗겨져', '콩깍지 왜 안 벗겨지지', '콩깍지가 씌었나봐 아직도 좋아해', '크리스마스인데 만나자고 해도 됨', '큰 시험 앞두고 짝사랑 하는 사랑이 생겼어요', '클럽 좋아하는 남자는 좋아하면 안되겠지', '클럽에서 만나서 사귀는거 어떻게 생각해', '클럽에서 만난 남자친구와 오래 갈 수 있을까', '클럽에서 여자친구 찾아볼까', '키 작은 남자 좋아하는 여자 있나요', '키 작은 여자 좋아하는 남자 있나요', '키 큰 남자 만나고 싶어', '키 큰 여자는 별로인가', '턱시도 잘 어울림', '팀장님을 좋아하게 됐는데 고백하면 안되겠지', '팔베개하고 자다가 팔 저린데 말해야겠지', '패턴 궁금해', '패턴 아는데 풀어봐도 될까', '편해지는게 당연한데 속상해', '풋풋한 사랑 하고 싶어', '프로포즈 곧 받을 거 같은데', '프로포즈 받았어', '프로포즈할때 영상편지도 주려고', '플라토닉 연애 어때', '하고 많은 사람 중에 왜 나야', '하루 종일 같이 있고 싶어', '하루 종일 붙어 있고 싶어', '하루 종일 연락하면 썸', '하루종일 썸남 생각만 해 괜찮을까', '하우스푸어될듯', '학교 짝이랑 썸 타는데', '학교샘 좋아하는 사람 있나', '학교에 심남 있는데 연락해볼까', '학교에 좋아하는 여자애의 관심을 어떻게 끌지', '학교에 좋아하는 오빠한테 어떻게 다가갈까', '학생일 때 썸 괜찮을까', '학원 다른반에 좋아하는 사람이 있는데 번호를 알고 싶은데 방법 좀 알려주세요', '학원 선생님을 좋아하는데 티내면 안되겠지', '학원에 좋아하는 남자애가 생겼어요', '학원에 좋아하는 여자애가 있는데 말 거는 방법 좀', '한 눈에 반했어 그녀한테 좋아한다고 해도 될까', '한 사람만 죽을 때까지 사랑하는 게 가능할까', '한 사람만 죽을 때까지 사랑할 수 있을까', '한 사람을 오랫동안 좋아하는게 신기하대', '한쪽만 호감이면', '한폭의 그림 같은 우리', '항상 내편이 생겨서 좋아', '항상 여친 집 데려다줘', '해외여행하다 숙소에서 만난 외국인이 너무 좋은데 이 연애 무리일까', '헤어졌는데도 좋아하는거 별로임', '헤어졌다가 다시 연애하는데 잘 사귈 수 있을까', '헤어지고 나서 알았어 사랑했다는 걸', '헤어지고 얼마 안됐는데 썸타는 거 가능', '헤어진 남친이랑 다시 썸타기', '헤어진 여자친구랑 썸부터 시작할 수 있을까', '헬스장에서 인사하는 사람 맘에 드는데 번호 달라고 할까', '헬스장에서 자주 보는 여자가 보고싶어', '헷갈리는데 유지하는 게 좋을까', '현실적 문제로 연애 포기해야할듯', '혈액형이 성격이랑 무슨 상관이지', '호감을 표현하는 방법', '혼인신고 아직 안 했는데 이혼해도 될까', '혼인신고 하러 왔어', '혼인신고하니까 마음이 이상해', '혼자 노력하는 연애인 거 같아', '혼자 썸타는 기분이야', '혼자 좋아하는 것 같아', '나만 좋아하는 것 같아', '혼자 좋아하는 이야기 들어 볼래요', '혼자 좋아하는 이야기', '혼자 좋아하는게 이렇게 힘든 적은 처음이에요', '혼자가 편하다는 짝남에게 먼저 대쉬해버림', '혼자가 편하다는 짝녀에게 들이댔음', '혼자만 설레고 혼자서 끝내는 짝사랑 그만할래', '화이트데이에 고백할까요', '화장 안했는데 썸남이 영통 걸었어 어떡해', '확실히 날 좋아하는 걸 아는 남자랑 친구가 될 수 있을까', '확실히 좋아하는 데도 관심 있는거 티 안내려고 선톡 안하고 일부러 늦게 보내고 그러는 사람도 있어요', '홧김에 짝남한테 고백했다', '회사 짝남 오빠 게임 초대 톡 옴', '회사에 좋아하는 남자가 생겼어 어떡하지', '회사에서 어떤 사람이랑 자꾸 눈 마추쳐', '회식 중이라고 하는데 연락이 안돼', '회식하는데 나만 챙겨줘 썸임', '후회 없이 사랑하고 싶어', '훔쳐보는 것도 눈치 보임', '훔쳐보는 것도 눈치 보임', '흑기사 해주는 짝남', '힘든 연애 좋은 연애라는게 무슨 차이일까', '힘들어서 결혼할까봐']\n"
     ]
    }
   ],
   "source": [
    "with open('ChatbotData.txt', 'r') as file:\n",
    "    lines = file.readlines()\n",
    "    lines = lines[1:]\n",
    "input=[]\n",
    "output=[]\n",
    "for line in lines:\n",
    "  line=line[:-3].split(',')\n",
    "  input.append(preprocess_sentence(line[0]))\n",
    "  output.append(preprocess_sentence(line[1]))\n",
    "print(input)\n",
    "\n",
    "    "
   ]
  },
  {
   "cell_type": "code",
   "execution_count": 80,
   "metadata": {},
   "outputs": [
    {
     "name": "stdout",
     "output_type": "stream",
     "text": [
      "전체 샘플 수 : 11823\n",
      "전체 샘플 수 : 11823\n"
     ]
    }
   ],
   "source": [
    "print('전체 샘플 수 :', len(input))\n",
    "print('전체 샘플 수 :', len(output))"
   ]
  },
  {
   "cell_type": "markdown",
   "metadata": {},
   "source": [
    "### Step 3. SubwordTextEncoder 사용하기\n",
    "-----------------------------------------------------------------------------------------------------------\n",
    "한국어는 형태소 분석기를 사용해 토크나이징한다고 알고 있지만, 이 프로젝트는 그대로 사용하자."
   ]
  },
  {
   "cell_type": "code",
   "execution_count": 82,
   "metadata": {},
   "outputs": [
    {
     "name": "stdout",
     "output_type": "stream",
     "text": [
      "살짝 오래 걸릴 수 있어요. 스트레칭 한 번 해볼까요? 👐\n",
      "슝=3 \n"
     ]
    }
   ],
   "source": [
    "print(\"살짝 오래 걸릴 수 있어요. 스트레칭 한 번 해볼까요? 👐\")\n",
    "\n",
    "# 질문과 답변 데이터셋에 대해서 Vocabulary 생성. (Tensorflow 2.2.0 이하)\n",
    "tokenizer = tfds.features.text.SubwordTextEncoder.build_from_corpus(input + output, target_vocab_size=2**13)\n",
    "\n",
    "# (주의) Tensorflow 2.3.0 이상의 버전에서는 아래 주석의 코드를 대신 실행해 주세요. \n",
    "#tokenizer = tfds.deprecated.text.SubwordTextEncoder.build_from_corpus(questions + answers, target_vocab_size=2**13)\n",
    "print(\"슝=3 \")"
   ]
  },
  {
   "cell_type": "code",
   "execution_count": 83,
   "metadata": {},
   "outputs": [
    {
     "name": "stdout",
     "output_type": "stream",
     "text": [
      "슝=3\n"
     ]
    }
   ],
   "source": [
    "# 시작 토큰과 종료 토큰에 고유한 정수를 부여합니다.\n",
    "START_TOKEN, END_TOKEN = [tokenizer.vocab_size], [tokenizer.vocab_size + 1]\n",
    "print(\"슝=3\")"
   ]
  },
  {
   "cell_type": "code",
   "execution_count": 84,
   "metadata": {},
   "outputs": [
    {
     "name": "stdout",
     "output_type": "stream",
     "text": [
      "START_TOKEN의 번호 : [8166]\n",
      "END_TOKEN의 번호 : [8167]\n"
     ]
    }
   ],
   "source": [
    "print('START_TOKEN의 번호 :' ,[tokenizer.vocab_size])\n",
    "print('END_TOKEN의 번호 :' ,[tokenizer.vocab_size + 1])"
   ]
  },
  {
   "cell_type": "code",
   "execution_count": 85,
   "metadata": {},
   "outputs": [
    {
     "name": "stdout",
     "output_type": "stream",
     "text": [
      "8168\n"
     ]
    }
   ],
   "source": [
    "# 시작 토큰과 종료 토큰을 고려하여 +2를 하여 단어장의 크기를 산정합니다.\n",
    "VOCAB_SIZE = tokenizer.vocab_size + 2\n",
    "print(VOCAB_SIZE)"
   ]
  },
  {
   "cell_type": "code",
   "execution_count": 86,
   "metadata": {},
   "outputs": [
    {
     "name": "stdout",
     "output_type": "stream",
     "text": [
      "정수 인코딩 후의 21번째 질문 샘플: [5754, 604, 2482, 4146]\n",
      "정수 인코딩 후의 21번째 답변 샘플: [2341, 7506, 5, 6263, 103]\n"
     ]
    }
   ],
   "source": [
    "# 임의의 22번째 샘플에 대해서 정수 인코딩 작업을 수행.\n",
    "# 각 토큰을 고유한 정수로 변환\n",
    "print('정수 인코딩 후의 21번째 질문 샘플: {}'.format(tokenizer.encode(input[21])))\n",
    "print('정수 인코딩 후의 21번째 답변 샘플: {}'.format(tokenizer.encode(output[21])))"
   ]
  },
  {
   "cell_type": "code",
   "execution_count": 87,
   "metadata": {},
   "outputs": [
    {
     "name": "stdout",
     "output_type": "stream",
     "text": [
      "20\n"
     ]
    }
   ],
   "source": [
    "# 샘플의 최대 허용 길이 또는 패딩 후의 최종 길이\n",
    "MAX_LENGTH = 20\n",
    "print(MAX_LENGTH)"
   ]
  },
  {
   "cell_type": "code",
   "execution_count": 88,
   "metadata": {},
   "outputs": [
    {
     "name": "stdout",
     "output_type": "stream",
     "text": [
      "슝=3\n"
     ]
    }
   ],
   "source": [
    "# 정수 인코딩, 최대 길이를 초과하는 샘플 제거, 패딩\n",
    "def tokenize_and_filter(inputs, outputs):\n",
    "  tokenized_inputs, tokenized_outputs = [], []\n",
    "  \n",
    "  for (sentence1, sentence2) in zip(inputs, outputs):\n",
    "    # 정수 인코딩 과정에서 시작 토큰과 종료 토큰을 추가\n",
    "    sentence1 = START_TOKEN + tokenizer.encode(sentence1) + END_TOKEN\n",
    "    sentence2 = START_TOKEN + tokenizer.encode(sentence2) + END_TOKEN\n",
    "\n",
    "    # 최대 길이 40 이하인 경우에만 데이터셋으로 허용\n",
    "    if len(sentence1) <= MAX_LENGTH and len(sentence2) <= MAX_LENGTH:\n",
    "      tokenized_inputs.append(sentence1)\n",
    "      tokenized_outputs.append(sentence2)\n",
    "  \n",
    "  # 최대 길이 40으로 모든 데이터셋을 패딩\n",
    "  tokenized_inputs = tf.keras.preprocessing.sequence.pad_sequences(\n",
    "      tokenized_inputs, maxlen=MAX_LENGTH, padding='post')\n",
    "  tokenized_outputs = tf.keras.preprocessing.sequence.pad_sequences(\n",
    "      tokenized_outputs, maxlen=MAX_LENGTH, padding='post')\n",
    "  \n",
    "  return tokenized_inputs, tokenized_outputs\n",
    "print(\"슝=3\")"
   ]
  },
  {
   "cell_type": "code",
   "execution_count": 89,
   "metadata": {},
   "outputs": [
    {
     "name": "stdout",
     "output_type": "stream",
     "text": [
      "단어장의 크기 : 8168\n",
      "필터링 후의 질문 샘플 개수: 11805\n",
      "필터링 후의 답변 샘플 개수: 11805\n"
     ]
    }
   ],
   "source": [
    "input, output = tokenize_and_filter(input, output)\n",
    "print('단어장의 크기 :',(VOCAB_SIZE))\n",
    "print('필터링 후의 질문 샘플 개수: {}'.format(len(input)))\n",
    "print('필터링 후의 답변 샘플 개수: {}'.format(len(output)))"
   ]
  },
  {
   "cell_type": "code",
   "execution_count": 90,
   "metadata": {},
   "outputs": [
    {
     "name": "stdout",
     "output_type": "stream",
     "text": [
      "슝=3\n"
     ]
    }
   ],
   "source": [
    "BATCH_SIZE = 64\n",
    "BUFFER_SIZE = 20000\n",
    "\n",
    "# 디코더는 이전의 target을 다음의 input으로 사용합니다.\n",
    "# 이에 따라 outputs에서는 START_TOKEN을 제거하겠습니다.\n",
    "dataset = tf.data.Dataset.from_tensor_slices((\n",
    "    {\n",
    "        'inputs': input,\n",
    "        'dec_inputs': output[:, :-1]\n",
    "    },\n",
    "    {\n",
    "        'outputs': output[:, 1:]\n",
    "    },\n",
    "))\n",
    "\n",
    "dataset = dataset.cache()\n",
    "dataset = dataset.shuffle(BUFFER_SIZE)\n",
    "dataset = dataset.batch(BATCH_SIZE)\n",
    "dataset = dataset.prefetch(tf.data.experimental.AUTOTUNE)\n",
    "print(\"슝=3\")"
   ]
  },
  {
   "cell_type": "markdown",
   "metadata": {},
   "source": [
    "### Step 4. 모델 구성하기\n",
    "-----------------------------------------------------------------------------------------------------------\n",
    "트랜스포머 모델구현"
   ]
  },
  {
   "cell_type": "code",
   "execution_count": 91,
   "metadata": {},
   "outputs": [
    {
     "name": "stdout",
     "output_type": "stream",
     "text": [
      "슝=3\n"
     ]
    }
   ],
   "source": [
    "def transformer(vocab_size,\n",
    "                num_layers,\n",
    "                units,\n",
    "                d_model,\n",
    "                num_heads,\n",
    "                dropout,\n",
    "                name=\"transformer\"):\n",
    "  inputs = tf.keras.Input(shape=(None,), name=\"inputs\")\n",
    "  dec_inputs = tf.keras.Input(shape=(None,), name=\"dec_inputs\")\n",
    "\n",
    "\t# 인코더에서 패딩을 위한 마스크\n",
    "  enc_padding_mask = tf.keras.layers.Lambda(\n",
    "      create_padding_mask, output_shape=(1, 1, None),\n",
    "      name='enc_padding_mask')(inputs)\n",
    "\n",
    "  # 디코더에서 미래의 토큰을 마스크 하기 위해서 사용합니다.\n",
    "  # 내부적으로 패딩 마스크도 포함되어져 있습니다.\n",
    "  look_ahead_mask = tf.keras.layers.Lambda(\n",
    "      create_look_ahead_mask,\n",
    "      output_shape=(1, None, None),\n",
    "      name='look_ahead_mask')(dec_inputs)\n",
    "\n",
    "  # 두 번째 어텐션 블록에서 인코더의 벡터들을 마스킹\n",
    "  # 디코더에서 패딩을 위한 마스크\n",
    "  dec_padding_mask = tf.keras.layers.Lambda(\n",
    "      create_padding_mask, output_shape=(1, 1, None),\n",
    "      name='dec_padding_mask')(inputs)\n",
    "\n",
    "  # 인코더\n",
    "  enc_outputs = encoder(\n",
    "      vocab_size=vocab_size,\n",
    "      num_layers=num_layers,\n",
    "      units=units,\n",
    "      d_model=d_model,\n",
    "      num_heads=num_heads,\n",
    "      dropout=dropout,\n",
    "  )(inputs=[inputs, enc_padding_mask])\n",
    "\n",
    "  # 디코더\n",
    "  dec_outputs = decoder(\n",
    "      vocab_size=vocab_size,\n",
    "      num_layers=num_layers,\n",
    "      units=units,\n",
    "      d_model=d_model,\n",
    "      num_heads=num_heads,\n",
    "      dropout=dropout,\n",
    "  )(inputs=[dec_inputs, enc_outputs, look_ahead_mask, dec_padding_mask])\n",
    "\n",
    "  # 완전연결층\n",
    "  outputs = tf.keras.layers.Dense(units=vocab_size, name=\"outputs\")(dec_outputs)\n",
    "\n",
    "  return tf.keras.Model(inputs=[inputs, dec_inputs], outputs=outputs, name=name)\n",
    "print(\"슝=3\")"
   ]
  },
  {
   "cell_type": "code",
   "execution_count": 92,
   "metadata": {},
   "outputs": [
    {
     "name": "stdout",
     "output_type": "stream",
     "text": [
      "Model: \"transformer\"\n",
      "__________________________________________________________________________________________________\n",
      "Layer (type)                    Output Shape         Param #     Connected to                     \n",
      "==================================================================================================\n",
      "inputs (InputLayer)             [(None, None)]       0                                            \n",
      "__________________________________________________________________________________________________\n",
      "dec_inputs (InputLayer)         [(None, None)]       0                                            \n",
      "__________________________________________________________________________________________________\n",
      "enc_padding_mask (Lambda)       (None, 1, 1, None)   0           inputs[0][0]                     \n",
      "__________________________________________________________________________________________________\n",
      "encoder (Model)                 (None, None, 256)    3145216     inputs[0][0]                     \n",
      "                                                                 enc_padding_mask[0][0]           \n",
      "__________________________________________________________________________________________________\n",
      "look_ahead_mask (Lambda)        (None, 1, None, None 0           dec_inputs[0][0]                 \n",
      "__________________________________________________________________________________________________\n",
      "dec_padding_mask (Lambda)       (None, 1, 1, None)   0           inputs[0][0]                     \n",
      "__________________________________________________________________________________________________\n",
      "decoder (Model)                 (None, None, 256)    3672576     dec_inputs[0][0]                 \n",
      "                                                                 encoder[1][0]                    \n",
      "                                                                 look_ahead_mask[0][0]            \n",
      "                                                                 dec_padding_mask[0][0]           \n",
      "__________________________________________________________________________________________________\n",
      "outputs (Dense)                 (None, None, 8168)   2099176     decoder[1][0]                    \n",
      "==================================================================================================\n",
      "Total params: 8,916,968\n",
      "Trainable params: 8,916,968\n",
      "Non-trainable params: 0\n",
      "__________________________________________________________________________________________________\n"
     ]
    }
   ],
   "source": [
    "tf.keras.backend.clear_session()\n",
    "\n",
    "# 하이퍼파라미터\n",
    "NUM_LAYERS = 2 # 인코더와 디코더의 층의 개수\n",
    "D_MODEL = 256 # 인코더와 디코더 내부의 입, 출력의 고정 차원\n",
    "NUM_HEADS = 8 # 멀티 헤드 어텐션에서의 헤드 수 \n",
    "UNITS = 512 # 피드 포워드 신경망의 은닉층의 크기\n",
    "DROPOUT = 0.1 # 드롭아웃의 비율\n",
    "\n",
    "model = transformer(\n",
    "    vocab_size=VOCAB_SIZE,\n",
    "    num_layers=NUM_LAYERS,\n",
    "    units=UNITS,\n",
    "    d_model=D_MODEL,\n",
    "    num_heads=NUM_HEADS,\n",
    "    dropout=DROPOUT)\n",
    "\n",
    "model.summary()"
   ]
  },
  {
   "cell_type": "code",
   "execution_count": 93,
   "metadata": {},
   "outputs": [
    {
     "name": "stdout",
     "output_type": "stream",
     "text": [
      "슝=3\n"
     ]
    }
   ],
   "source": [
    "def loss_function(y_true, y_pred):\n",
    "  y_true = tf.reshape(y_true, shape=(-1, MAX_LENGTH - 1))\n",
    "  \n",
    "  loss = tf.keras.losses.SparseCategoricalCrossentropy(\n",
    "      from_logits=True, reduction='none')(y_true, y_pred)\n",
    "\n",
    "  mask = tf.cast(tf.not_equal(y_true, 0), tf.float32)\n",
    "  loss = tf.multiply(loss, mask)\n",
    "\n",
    "  return tf.reduce_mean(loss)\n",
    "print(\"슝=3\")"
   ]
  },
  {
   "cell_type": "code",
   "execution_count": 94,
   "metadata": {},
   "outputs": [
    {
     "name": "stdout",
     "output_type": "stream",
     "text": [
      "슝=3\n"
     ]
    }
   ],
   "source": [
    "class CustomSchedule(tf.keras.optimizers.schedules.LearningRateSchedule):\n",
    "\n",
    "  def __init__(self, d_model, warmup_steps=4000):\n",
    "    super(CustomSchedule, self).__init__()\n",
    "\n",
    "    self.d_model = d_model\n",
    "    self.d_model = tf.cast(self.d_model, tf.float32)\n",
    "\n",
    "    self.warmup_steps = warmup_steps\n",
    "\n",
    "  def __call__(self, step):\n",
    "    arg1 = tf.math.rsqrt(step)\n",
    "    arg2 = step * (self.warmup_steps**-1.5)\n",
    "\n",
    "    return tf.math.rsqrt(self.d_model) * tf.math.minimum(arg1, arg2)\n",
    "print(\"슝=3\")"
   ]
  },
  {
   "cell_type": "code",
   "execution_count": 95,
   "metadata": {},
   "outputs": [
    {
     "data": {
      "text/plain": [
       "Text(0.5, 0, 'Train Step')"
      ]
     },
     "execution_count": 95,
     "metadata": {},
     "output_type": "execute_result"
    },
    {
     "data": {
      "image/png": "[encoded data removed]",
      "text/plain": [
       "<Figure size 432x288 with 1 Axes>"
      ]
     },
     "metadata": {
      "needs_background": "light"
     },
     "output_type": "display_data"
    }
   ],
   "source": [
    "sample_learning_rate = CustomSchedule(d_model=128)\n",
    "\n",
    "plt.plot(sample_learning_rate(tf.range(200000, dtype=tf.float32)))\n",
    "plt.ylabel(\"Learning Rate\")\n",
    "plt.xlabel(\"Train Step\")"
   ]
  },
  {
   "cell_type": "code",
   "execution_count": 96,
   "metadata": {},
   "outputs": [
    {
     "name": "stdout",
     "output_type": "stream",
     "text": [
      "슝=3\n"
     ]
    }
   ],
   "source": [
    "learning_rate = CustomSchedule(D_MODEL)\n",
    "\n",
    "optimizer = tf.keras.optimizers.Adam(\n",
    "    learning_rate, beta_1=0.9, beta_2=0.98, epsilon=1e-9)\n",
    "\n",
    "def accuracy(y_true, y_pred):\n",
    "  y_true = tf.reshape(y_true, shape=(-1, MAX_LENGTH - 1))\n",
    "  return tf.keras.metrics.sparse_categorical_accuracy(y_true, y_pred)\n",
    "\n",
    "model.compile(optimizer=optimizer, loss=loss_function, metrics=[accuracy])\n",
    "print(\"슝=3\")"
   ]
  },
  {
   "cell_type": "code",
   "execution_count": 97,
   "metadata": {},
   "outputs": [
    {
     "name": "stdout",
     "output_type": "stream",
     "text": [
      "Epoch 1/20\n",
      "185/185 [==============================] - 12s 66ms/step - loss: 2.5548 - accuracy: 0.0423\n",
      "Epoch 2/20\n",
      "185/185 [==============================] - 12s 66ms/step - loss: 2.2126 - accuracy: 0.0526\n",
      "Epoch 3/20\n",
      "185/185 [==============================] - 12s 64ms/step - loss: 2.0158 - accuracy: 0.0536\n",
      "Epoch 4/20\n",
      "185/185 [==============================] - 12s 64ms/step - loss: 1.8737 - accuracy: 0.0608\n",
      "Epoch 5/20\n",
      "185/185 [==============================] - 12s 65ms/step - loss: 1.7559 - accuracy: 0.0680\n",
      "Epoch 6/20\n",
      "185/185 [==============================] - 12s 64ms/step - loss: 1.6318 - accuracy: 0.0774\n",
      "Epoch 7/20\n",
      "185/185 [==============================] - 12s 64ms/step - loss: 1.4969 - accuracy: 0.0899\n",
      "Epoch 8/20\n",
      "185/185 [==============================] - 12s 65ms/step - loss: 1.3460 - accuracy: 0.1065\n",
      "Epoch 9/20\n",
      "185/185 [==============================] - 12s 65ms/step - loss: 1.1848 - accuracy: 0.1231\n",
      "Epoch 10/20\n",
      "185/185 [==============================] - 12s 65ms/step - loss: 1.0196 - accuracy: 0.1421\n",
      "Epoch 11/20\n",
      "185/185 [==============================] - 12s 65ms/step - loss: 0.8516 - accuracy: 0.1623\n",
      "Epoch 12/20\n",
      "185/185 [==============================] - 12s 65ms/step - loss: 0.6889 - accuracy: 0.1849\n",
      "Epoch 13/20\n",
      "185/185 [==============================] - 12s 64ms/step - loss: 0.5392 - accuracy: 0.2063\n",
      "Epoch 14/20\n",
      "185/185 [==============================] - 12s 65ms/step - loss: 0.4095 - accuracy: 0.2266\n",
      "Epoch 15/20\n",
      "185/185 [==============================] - 12s 65ms/step - loss: 0.3019 - accuracy: 0.2446\n",
      "Epoch 16/20\n",
      "185/185 [==============================] - 12s 64ms/step - loss: 0.2177 - accuracy: 0.2605\n",
      "Epoch 17/20\n",
      "185/185 [==============================] - 12s 64ms/step - loss: 0.1595 - accuracy: 0.2714\n",
      "Epoch 18/20\n",
      "185/185 [==============================] - 12s 64ms/step - loss: 0.1221 - accuracy: 0.2781\n",
      "Epoch 19/20\n",
      "185/185 [==============================] - 12s 64ms/step - loss: 0.1036 - accuracy: 0.2807\n",
      "Epoch 20/20\n",
      "185/185 [==============================] - 12s 65ms/step - loss: 0.0933 - accuracy: 0.2825\n"
     ]
    },
    {
     "data": {
      "text/plain": [
       "<tensorflow.python.keras.callbacks.History at 0x7f725808d550>"
      ]
     },
     "execution_count": 97,
     "metadata": {},
     "output_type": "execute_result"
    }
   ],
   "source": [
    "EPOCHS = 20\n",
    "model.fit(dataset, epochs=EPOCHS, verbose=1)"
   ]
  },
  {
   "cell_type": "markdown",
   "metadata": {},
   "source": [
    "### Step 5. 모델 평가하기\n",
    "-----------------------------------------------------------------------------------------------------------\n",
    "전처리 방법을 고려하여 입력된 문자에 대해서 대답을 얻는 예측함수 만들기"
   ]
  },
  {
   "cell_type": "code",
   "execution_count": 98,
   "metadata": {},
   "outputs": [
    {
     "name": "stdout",
     "output_type": "stream",
     "text": [
      "슝=3\n"
     ]
    }
   ],
   "source": [
    "def decoder_inference(sentence):\n",
    "  sentence = preprocess_sentence(sentence)\n",
    "\n",
    "  # 입력된 문장을 정수 인코딩 후, 시작 토큰과 종료 토큰을 앞뒤로 추가.\n",
    "  # ex) Where have you been? → [[8331   86   30    5 1059    7 8332]]\n",
    "  sentence = tf.expand_dims(\n",
    "      START_TOKEN + tokenizer.encode(sentence) + END_TOKEN, axis=0)\n",
    "\n",
    "  # 디코더의 현재까지의 예측한 출력 시퀀스가 지속적으로 저장되는 변수.\n",
    "  # 처음에는 예측한 내용이 없음으로 시작 토큰만 별도 저장. ex) 8331\n",
    "  output_sequence = tf.expand_dims(START_TOKEN, 0)\n",
    "\n",
    "  # 디코더의 인퍼런스 단계\n",
    "  for i in range(MAX_LENGTH):\n",
    "    # 디코더는 최대 MAX_LENGTH의 길이만큼 다음 단어 예측을 반복합니다.\n",
    "    predictions = model(inputs=[sentence, output_sequence], training=False)\n",
    "    predictions = predictions[:, -1:, :]\n",
    "\n",
    "    # 현재 예측한 단어의 정수\n",
    "    predicted_id = tf.cast(tf.argmax(predictions, axis=-1), tf.int32)\n",
    "\n",
    "    # 만약 현재 예측한 단어가 종료 토큰이라면 for문을 종료\n",
    "    if tf.equal(predicted_id, END_TOKEN[0]):\n",
    "      break\n",
    "\n",
    "    # 예측한 단어들은 지속적으로 output_sequence에 추가됩니다.\n",
    "    # 이 output_sequence는 다시 디코더의 입력이 됩니다.\n",
    "    output_sequence = tf.concat([output_sequence, predicted_id], axis=-1)\n",
    "\n",
    "  return tf.squeeze(output_sequence, axis=0)\n",
    "print(\"슝=3\")"
   ]
  },
  {
   "cell_type": "code",
   "execution_count": 99,
   "metadata": {},
   "outputs": [
    {
     "name": "stdout",
     "output_type": "stream",
     "text": [
      "슝=3\n"
     ]
    }
   ],
   "source": [
    "#입력문장에 대해서 decoder_inference를 호출해 챗봇대답얻는 함수\n",
    "def sentence_generation(sentence):\n",
    "  # 입력 문장에 대해서 디코더를 동작 시켜 예측된 정수 시퀀스를 리턴받습니다.\n",
    "  prediction = decoder_inference(sentence)\n",
    "\n",
    "  # 정수 시퀀스를 다시 텍스트 시퀀스로 변환합니다.\n",
    "  predicted_sentence = tokenizer.decode(\n",
    "      [i for i in prediction if i < tokenizer.vocab_size])\n",
    "\n",
    "  print('입력 : {}'.format(sentence))\n",
    "  print('출력 : {}'.format(predicted_sentence))\n",
    "\n",
    "  return predicted_sentence\n",
    "print(\"슝=3\")"
   ]
  },
  {
   "cell_type": "code",
   "execution_count": 105,
   "metadata": {},
   "outputs": [
    {
     "name": "stdout",
     "output_type": "stream",
     "text": [
      "입력 : 나 오늘 헤어졌어\n",
      "출력 : 헛헛하시겠어요\n"
     ]
    },
    {
     "data": {
      "text/plain": [
       "'헛헛하시겠어요'"
      ]
     },
     "execution_count": 105,
     "metadata": {},
     "output_type": "execute_result"
    }
   ],
   "source": [
    "sentence_generation('나 오늘 헤어졌어')"
   ]
  }
 ],
 "metadata": {
  "kernelspec": {
   "display_name": "aiffel",
   "language": "python",
   "name": "aiffel"
  },
  "language_info": {
   "codemirror_mode": {
    "name": "ipython",
    "version": 3
   },
   "file_extension": ".py",
   "mimetype": "text/x-python",
   "name": "python",
   "nbconvert_exporter": "python",
   "pygments_lexer": "ipython3",
   "version": "3.7.9"
  }
 },
 "nbformat": 4,
 "nbformat_minor": 4
}
