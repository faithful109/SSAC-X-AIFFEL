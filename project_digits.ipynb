{
 "cells": [
  {
   "cell_type": "code",
   "execution_count": 17,
   "metadata": {},
   "outputs": [],
   "source": [
    "from sklearn.datasets import load_digits\n",
    "from sklearn.model_selection import train_test_split\n",
    "from sklearn.metrics import classification_report\n",
    "from sklearn.tree import DecisionTreeClassifier\n",
    "from sklearn.metrics import accuracy_score\n",
    "from sklearn.ensemble import RandomForestClassifier\n",
    "from sklearn import svm\n",
    "from sklearn.linear_model import SGDClassifier\n",
    "from sklearn.linear_model import LogisticRegression\n",
    "from sklearn.metrics import confusion_matrix, precision_score, recall_score, f1_score\n",
    "from collections import Counter\n",
    "import numpy as np\n"
   ]
  },
  {
   "cell_type": "code",
   "execution_count": 3,
   "metadata": {},
   "outputs": [
    {
     "name": "stdout",
     "output_type": "stream",
     "text": [
      "[0 1 2 3 4 5 6 7 8 9]\n",
      "['pixel_0_0', 'pixel_0_1', 'pixel_0_2', 'pixel_0_3', 'pixel_0_4', 'pixel_0_5', 'pixel_0_6', 'pixel_0_7', 'pixel_1_0', 'pixel_1_1', 'pixel_1_2', 'pixel_1_3', 'pixel_1_4', 'pixel_1_5', 'pixel_1_6', 'pixel_1_7', 'pixel_2_0', 'pixel_2_1', 'pixel_2_2', 'pixel_2_3', 'pixel_2_4', 'pixel_2_5', 'pixel_2_6', 'pixel_2_7', 'pixel_3_0', 'pixel_3_1', 'pixel_3_2', 'pixel_3_3', 'pixel_3_4', 'pixel_3_5', 'pixel_3_6', 'pixel_3_7', 'pixel_4_0', 'pixel_4_1', 'pixel_4_2', 'pixel_4_3', 'pixel_4_4', 'pixel_4_5', 'pixel_4_6', 'pixel_4_7', 'pixel_5_0', 'pixel_5_1', 'pixel_5_2', 'pixel_5_3', 'pixel_5_4', 'pixel_5_5', 'pixel_5_6', 'pixel_5_7', 'pixel_6_0', 'pixel_6_1', 'pixel_6_2', 'pixel_6_3', 'pixel_6_4', 'pixel_6_5', 'pixel_6_6', 'pixel_6_7', 'pixel_7_0', 'pixel_7_1', 'pixel_7_2', 'pixel_7_3', 'pixel_7_4', 'pixel_7_5', 'pixel_7_6', 'pixel_7_7']\n",
      ".. _digits_dataset:\n",
      "\n",
      "Optical recognition of handwritten digits dataset\n",
      "--------------------------------------------------\n",
      "\n",
      "**Data Set Characteristics:**\n",
      "\n",
      "    :Number of Instances: 5620\n",
      "    :Number of Attributes: 64\n",
      "    :Attribute Information: 8x8 image of integer pixels in the range 0..16.\n",
      "    :Missing Attribute Values: None\n",
      "    :Creator: E. Alpaydin (alpaydin '@' boun.edu.tr)\n",
      "    :Date: July; 1998\n",
      "\n",
      "This is a copy of the test set of the UCI ML hand-written digits datasets\n",
      "https://archive.ics.uci.edu/ml/datasets/Optical+Recognition+of+Handwritten+Digits\n",
      "\n",
      "The data set contains images of hand-written digits: 10 classes where\n",
      "each class refers to a digit.\n",
      "\n",
      "Preprocessing programs made available by NIST were used to extract\n",
      "normalized bitmaps of handwritten digits from a preprinted form. From a\n",
      "total of 43 people, 30 contributed to the training set and different 13\n",
      "to the test set. 32x32 bitmaps are divided into nonoverlapping blocks of\n",
      "4x4 and the number of on pixels are counted in each block. This generates\n",
      "an input matrix of 8x8 where each element is an integer in the range\n",
      "0..16. This reduces dimensionality and gives invariance to small\n",
      "distortions.\n",
      "\n",
      "For info on NIST preprocessing routines, see M. D. Garris, J. L. Blue, G.\n",
      "T. Candela, D. L. Dimmick, J. Geist, P. J. Grother, S. A. Janet, and C.\n",
      "L. Wilson, NIST Form-Based Handprint Recognition System, NISTIR 5469,\n",
      "1994.\n",
      "\n",
      ".. topic:: References\n",
      "\n",
      "  - C. Kaynak (1995) Methods of Combining Multiple Classifiers and Their\n",
      "    Applications to Handwritten Digit Recognition, MSc Thesis, Institute of\n",
      "    Graduate Studies in Science and Engineering, Bogazici University.\n",
      "  - E. Alpaydin, C. Kaynak (1998) Cascading Classifiers, Kybernetika.\n",
      "  - Ken Tang and Ponnuthurai N. Suganthan and Xi Yao and A. Kai Qin.\n",
      "    Linear dimensionalityreduction using relevance weighted LDA. School of\n",
      "    Electrical and Electronic Engineering Nanyang Technological University.\n",
      "    2005.\n",
      "  - Claudio Gentile. A New Approximate Maximal Margin Classification\n",
      "    Algorithm. NIPS. 2000.\n"
     ]
    }
   ],
   "source": [
    "digits = load_digits()\n",
    "digits.keys()\n",
    "digits_data=digits.data\n",
    "digits_label=digits.target\n",
    "print(digits.target_names)\n",
    "print(digits.feature_names)\n",
    "print(digits.DESCR)"
   ]
  },
  {
   "cell_type": "code",
   "execution_count": 4,
   "metadata": {},
   "outputs": [],
   "source": [
    "X_train, X_test, y_train, y_test = train_test_split(digits_data, digits_label, test_size=0.2, random_state=32)"
   ]
  },
  {
   "cell_type": "code",
   "execution_count": 5,
   "metadata": {},
   "outputs": [
    {
     "name": "stdout",
     "output_type": "stream",
     "text": [
      "              precision    recall  f1-score   support\n",
      "\n",
      "           0       1.00      0.89      0.94        38\n",
      "           1       0.75      0.83      0.79        36\n",
      "           2       0.75      0.84      0.79        32\n",
      "           3       0.92      0.86      0.89        56\n",
      "           4       0.85      0.90      0.88        31\n",
      "           5       0.92      0.97      0.95        36\n",
      "           6       0.97      0.94      0.96        34\n",
      "           7       0.94      0.88      0.91        34\n",
      "           8       0.88      0.78      0.82        27\n",
      "           9       0.79      0.83      0.81        36\n",
      "\n",
      "    accuracy                           0.88       360\n",
      "   macro avg       0.88      0.87      0.87       360\n",
      "weighted avg       0.88      0.88      0.88       360\n",
      "\n",
      "[[34  0  2  0  0  1  0  0  1  0]\n",
      " [ 0 30  4  0  2  0  0  0  0  0]\n",
      " [ 0  2 27  0  0  1  0  0  2  0]\n",
      " [ 0  1  2 48  0  0  0  0  0  5]\n",
      " [ 0  0  0  0 28  0  1  1  0  1]\n",
      " [ 0  0  0  0  0 35  0  0  0  1]\n",
      " [ 0  0  0  0  2  0 32  0  0  0]\n",
      " [ 0  1  1  1  0  0  0 30  0  1]\n",
      " [ 0  4  0  1  0  0  0  1 21  0]\n",
      " [ 0  2  0  2  1  1  0  0  0 30]]\n",
      "micro 평균 f1 점수: 0.8750000000000000\n",
      "0.875\n"
     ]
    }
   ],
   "source": [
    "decision_tree = DecisionTreeClassifier(random_state=32)\n",
    "decision_tree.fit(X_train, y_train)\n",
    "y_pred = decision_tree.predict(X_test)\n",
    "\n",
    "print(classification_report(y_test, y_pred))\n",
    "print(confusion_matrix(y_test, y_pred))\n",
    "print(\"micro 평균 f1 점수: {:.16f}\".format(f1_score(y_test, y_pred, average=\"micro\")))\n",
    "print(accuracy_score(y_test, y_pred))"
   ]
  },
  {
   "cell_type": "code",
   "execution_count": 6,
   "metadata": {},
   "outputs": [
    {
     "name": "stdout",
     "output_type": "stream",
     "text": [
      "              precision    recall  f1-score   support\n",
      "\n",
      "           0       1.00      1.00      1.00        38\n",
      "           1       0.97      1.00      0.99        36\n",
      "           2       0.97      1.00      0.98        32\n",
      "           3       1.00      1.00      1.00        56\n",
      "           4       1.00      0.97      0.98        31\n",
      "           5       1.00      0.97      0.99        36\n",
      "           6       1.00      1.00      1.00        34\n",
      "           7       0.97      1.00      0.99        34\n",
      "           8       0.96      0.89      0.92        27\n",
      "           9       0.97      1.00      0.99        36\n",
      "\n",
      "    accuracy                           0.99       360\n",
      "   macro avg       0.98      0.98      0.98       360\n",
      "weighted avg       0.99      0.99      0.99       360\n",
      "\n",
      "[[38  0  0  0  0  0  0  0  0  0]\n",
      " [ 0 36  0  0  0  0  0  0  0  0]\n",
      " [ 0  0 32  0  0  0  0  0  0  0]\n",
      " [ 0  0  0 56  0  0  0  0  0  0]\n",
      " [ 0  0  0  0 30  0  0  0  1  0]\n",
      " [ 0  0  0  0  0 35  0  0  0  1]\n",
      " [ 0  0  0  0  0  0 34  0  0  0]\n",
      " [ 0  0  0  0  0  0  0 34  0  0]\n",
      " [ 0  1  1  0  0  0  0  1 24  0]\n",
      " [ 0  0  0  0  0  0  0  0  0 36]]\n",
      "micro 평균 f1 점수: 0.9861111111111112\n",
      "0.9861111111111112\n"
     ]
    }
   ],
   "source": [
    "random_forest = RandomForestClassifier(random_state=32)\n",
    "random_forest.fit(X_train, y_train)\n",
    "y_pred = random_forest.predict(X_test)\n",
    "accuracy = accuracy_score(y_test, y_pred)\n",
    "print(classification_report(y_test, y_pred))\n",
    "print(confusion_matrix(y_test, y_pred))\n",
    "print(\"micro 평균 f1 점수: {:.16f}\".format(f1_score(y_test, y_pred, average=\"micro\")))\n",
    "print(accuracy_score(y_test, y_pred))"
   ]
  },
  {
   "cell_type": "code",
   "execution_count": 7,
   "metadata": {},
   "outputs": [
    {
     "name": "stdout",
     "output_type": "stream",
     "text": [
      "              precision    recall  f1-score   support\n",
      "\n",
      "           0       1.00      1.00      1.00        38\n",
      "           1       1.00      1.00      1.00        36\n",
      "           2       1.00      1.00      1.00        32\n",
      "           3       1.00      1.00      1.00        56\n",
      "           4       1.00      0.97      0.98        31\n",
      "           5       1.00      0.97      0.99        36\n",
      "           6       1.00      1.00      1.00        34\n",
      "           7       1.00      1.00      1.00        34\n",
      "           8       1.00      1.00      1.00        27\n",
      "           9       0.95      1.00      0.97        36\n",
      "\n",
      "    accuracy                           0.99       360\n",
      "   macro avg       0.99      0.99      0.99       360\n",
      "weighted avg       0.99      0.99      0.99       360\n",
      "\n",
      "[[38  0  0  0  0  0  0  0  0  0]\n",
      " [ 0 36  0  0  0  0  0  0  0  0]\n",
      " [ 0  0 32  0  0  0  0  0  0  0]\n",
      " [ 0  0  0 56  0  0  0  0  0  0]\n",
      " [ 0  0  0  0 30  0  0  0  0  1]\n",
      " [ 0  0  0  0  0 35  0  0  0  1]\n",
      " [ 0  0  0  0  0  0 34  0  0  0]\n",
      " [ 0  0  0  0  0  0  0 34  0  0]\n",
      " [ 0  0  0  0  0  0  0  0 27  0]\n",
      " [ 0  0  0  0  0  0  0  0  0 36]]\n",
      "micro 평균 f1 점수: 0.9944444444444445\n",
      "0.9944444444444445\n"
     ]
    }
   ],
   "source": [
    "svm_model=svm.SVC()\n",
    "svm_model.fit(X_train, y_train)\n",
    "y_pred = svm_model.predict(X_test)\n",
    "print(classification_report(y_test, y_pred))\n",
    "print(confusion_matrix(y_test, y_pred))\n",
    "print(\"micro 평균 f1 점수: {:.16f}\".format(f1_score(y_test, y_pred, average=\"micro\")))\n",
    "print(accuracy_score(y_test, y_pred))"
   ]
  },
  {
   "cell_type": "code",
   "execution_count": 8,
   "metadata": {},
   "outputs": [
    {
     "name": "stdout",
     "output_type": "stream",
     "text": [
      "              precision    recall  f1-score   support\n",
      "\n",
      "           0       1.00      1.00      1.00        38\n",
      "           1       1.00      0.72      0.84        36\n",
      "           2       1.00      1.00      1.00        32\n",
      "           3       0.98      0.91      0.94        56\n",
      "           4       0.97      0.97      0.97        31\n",
      "           5       1.00      0.94      0.97        36\n",
      "           6       0.97      1.00      0.99        34\n",
      "           7       1.00      0.94      0.97        34\n",
      "           8       0.92      0.81      0.86        27\n",
      "           9       0.64      1.00      0.78        36\n",
      "\n",
      "    accuracy                           0.93       360\n",
      "   macro avg       0.95      0.93      0.93       360\n",
      "weighted avg       0.95      0.93      0.93       360\n",
      "\n",
      "[[38  0  0  0  0  0  0  0  0  0]\n",
      " [ 0 26  0  1  1  0  1  0  2  5]\n",
      " [ 0  0 32  0  0  0  0  0  0  0]\n",
      " [ 0  0  0 51  0  0  0  0  0  5]\n",
      " [ 0  0  0  0 30  0  0  0  0  1]\n",
      " [ 0  0  0  0  0 34  0  0  0  2]\n",
      " [ 0  0  0  0  0  0 34  0  0  0]\n",
      " [ 0  0  0  0  0  0  0 32  0  2]\n",
      " [ 0  0  0  0  0  0  0  0 22  5]\n",
      " [ 0  0  0  0  0  0  0  0  0 36]]\n",
      "micro 평균 f1 점수: 0.9305555555555556\n",
      "0.9305555555555556\n"
     ]
    }
   ],
   "source": [
    "sgd_model = SGDClassifier()\n",
    "sgd_model.fit(X_train, y_train)\n",
    "y_pred = sgd_model.predict(X_test)\n",
    "print(classification_report(y_test, y_pred))\n",
    "print(confusion_matrix(y_test, y_pred))\n",
    "print(\"micro 평균 f1 점수: {:.16f}\".format(f1_score(y_test, y_pred, average=\"micro\")))\n",
    "print(accuracy_score(y_test, y_pred))"
   ]
  },
  {
   "cell_type": "code",
   "execution_count": 9,
   "metadata": {},
   "outputs": [
    {
     "name": "stdout",
     "output_type": "stream",
     "text": [
      "              precision    recall  f1-score   support\n",
      "\n",
      "           0       1.00      0.95      0.97        38\n",
      "           1       0.94      0.94      0.94        36\n",
      "           2       1.00      1.00      1.00        32\n",
      "           3       1.00      0.98      0.99        56\n",
      "           4       1.00      0.97      0.98        31\n",
      "           5       0.94      0.94      0.94        36\n",
      "           6       0.97      1.00      0.99        34\n",
      "           7       1.00      1.00      1.00        34\n",
      "           8       0.96      0.96      0.96        27\n",
      "           9       0.92      1.00      0.96        36\n",
      "\n",
      "    accuracy                           0.97       360\n",
      "   macro avg       0.97      0.97      0.97       360\n",
      "weighted avg       0.98      0.97      0.98       360\n",
      "\n",
      "[[36  0  0  0  0  2  0  0  0  0]\n",
      " [ 0 34  0  0  0  0  1  0  0  1]\n",
      " [ 0  0 32  0  0  0  0  0  0  0]\n",
      " [ 0  0  0 55  0  0  0  0  0  1]\n",
      " [ 0  0  0  0 30  0  0  0  1  0]\n",
      " [ 0  1  0  0  0 34  0  0  0  1]\n",
      " [ 0  0  0  0  0  0 34  0  0  0]\n",
      " [ 0  0  0  0  0  0  0 34  0  0]\n",
      " [ 0  1  0  0  0  0  0  0 26  0]\n",
      " [ 0  0  0  0  0  0  0  0  0 36]]\n",
      "micro 평균 f1 점수: 0.9750000000000000\n",
      "0.975\n"
     ]
    }
   ],
   "source": [
    "logistic_model = LogisticRegression(solver='lbfgs', max_iter=10000).fit(X_train, y_train)\n",
    "y_pred = logistic_model.predict(X_test)\n",
    "print(classification_report(y_test, y_pred))\n",
    "print(confusion_matrix(y_test, y_pred))\n",
    "print(\"micro 평균 f1 점수: {:.16f}\".format(f1_score(y_test, y_pred, average=\"micro\")))\n",
    "print(accuracy_score(y_test, y_pred))"
   ]
  },
  {
   "cell_type": "code",
   "execution_count": 10,
   "metadata": {},
   "outputs": [
    {
     "name": "stdout",
     "output_type": "stream",
     "text": [
      "[[36  0  0  0  0  2  0  0  0  0]\n",
      " [ 0 34  0  0  0  0  1  0  0  1]\n",
      " [ 0  0 32  0  0  0  0  0  0  0]\n",
      " [ 0  0  0 55  0  0  0  0  0  1]\n",
      " [ 0  0  0  0 30  0  0  0  1  0]\n",
      " [ 0  1  0  0  0 34  0  0  0  1]\n",
      " [ 0  0  0  0  0  0 34  0  0  0]\n",
      " [ 0  0  0  0  0  0  0 34  0  0]\n",
      " [ 0  1  0  0  0  0  0  0 26  0]\n",
      " [ 0  0  0  0  0  0  0  0  0 36]]\n",
      "              precision    recall  f1-score   support\n",
      "\n",
      "           0       1.00      0.95      0.97        38\n",
      "           1       0.94      0.94      0.94        36\n",
      "           2       1.00      1.00      1.00        32\n",
      "           3       1.00      0.98      0.99        56\n",
      "           4       1.00      0.97      0.98        31\n",
      "           5       0.94      0.94      0.94        36\n",
      "           6       0.97      1.00      0.99        34\n",
      "           7       1.00      1.00      1.00        34\n",
      "           8       0.96      0.96      0.96        27\n",
      "           9       0.92      1.00      0.96        36\n",
      "\n",
      "    accuracy                           0.97       360\n",
      "   macro avg       0.97      0.97      0.97       360\n",
      "weighted avg       0.98      0.97      0.98       360\n",
      "\n",
      "micro 평균 f1 점수: 0.9750000000000000\n",
      "0.975\n"
     ]
    }
   ],
   "source": [
    "print(confusion_matrix(y_test, y_pred))\n",
    "#confusion_matrix(y_test, fake_pred)\n",
    "print(classification_report(y_test, y_pred))\n",
    "#print(classification_report(y_test, fake_pred))\n",
    "print(\"micro 평균 f1 점수: {:.16f}\".format(f1_score(y_test, y_pred, average=\"micro\")))\n",
    "print(accuracy_score(y_test, y_pred))#, accuracy_score(y_test, fake_pred)"
   ]
  },
  {
   "cell_type": "markdown",
   "metadata": {},
   "source": [
    "성능은 svm학습모델이 제일 좋았습니다.\n",
    "random_forest가 decision_tree의 단점을 개선한 버전이라 성능이 당연히 좋은 게 맞다고 생각합니다."
   ]
  },
  {
   "cell_type": "markdown",
   "metadata": {},
   "source": [
    "digit문제는 다중분류이기에 평가지표는 macro평균, weighted평균, micro평균이 있는데, 모든 샘플을 똑같이 간주하기에 micro평균이 가장 적절한 지표라고 생각합니다."
   ]
  }
 ],
 "metadata": {
  "kernelspec": {
   "display_name": "aiffel",
   "language": "python",
   "name": "aiffel"
  },
  "language_info": {
   "codemirror_mode": {
    "name": "ipython",
    "version": 3
   },
   "file_extension": ".py",
   "mimetype": "text/x-python",
   "name": "python",
   "nbconvert_exporter": "python",
   "pygments_lexer": "ipython3",
   "version": "3.7.9"
  }
 },
 "nbformat": 4,
 "nbformat_minor": 4
}
